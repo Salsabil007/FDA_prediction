{
 "cells": [
  {
   "cell_type": "code",
   "execution_count": 1,
   "id": "a4b4d3f4",
   "metadata": {},
   "outputs": [
    {
     "name": "stdout",
     "output_type": "stream",
     "text": [
      "Imported version = 0.1.70.\n",
      "from featurewiz import FeatureWiz\n",
      "wiz = FeatureWiz(verbose=1)\n",
      "X_train_selected = wiz.fit_transform(X_train, y_train)\n",
      "X_test_selected = wiz.transform(X_test)\n",
      "wiz.features  ### provides a list of selected features ###\n",
      "                                \n"
     ]
    }
   ],
   "source": [
    "import pandas as pd\n",
    "import numpy as np\n",
    "from sklearn.preprocessing import StandardScaler, LabelEncoder, minmax_scale\n",
    "import seaborn as sns\n",
    "import matplotlib.pyplot as plt\n",
    "from sklearn.metrics import confusion_matrix\n",
    "import sys \n",
    "#from keras.models import Sequential\n",
    "#from keras.layers import Dense\n",
    "#from keras.utils import np_utils\n",
    "import tensorflow as tf\n",
    "#from keras.regularizers import L1L2\n",
    "from sklearn.metrics import confusion_matrix, precision_score, recall_score, f1_score, cohen_kappa_score\n",
    "from sklearn.utils import shuffle\n",
    "#from keras.callbacks import EarlyStopping\n",
    "from sklearn.linear_model import LogisticRegression\n",
    "from sklearn import svm\n",
    "from sklearn.model_selection import KFold\n",
    "from sklearn.model_selection import cross_val_score\n",
    "from featurewiz import featurewiz\n",
    "from sklearn.metrics import f1_score\n",
    "from sklearn.feature_selection import SelectKBest, f_classif, chi2, RFE\n",
    "from sklearn.feature_selection import mutual_info_classif\n",
    "from scipy import stats\n",
    "np.random.seed(19680801)"
   ]
  },
  {
   "cell_type": "code",
   "execution_count": 2,
   "id": "03d8fb5f",
   "metadata": {},
   "outputs": [
    {
     "name": "stdout",
     "output_type": "stream",
     "text": [
      "pct_is_new                   0.176661\n",
      "n_biggest_anc                0.027682\n",
      "pct_of_secbiggest_anc_new    0.000213\n",
      "pct_top_5_anc                0.036736\n",
      "wrcr                         0.065790\n",
      "rcr_mid                      0.128799\n",
      "rcr_hi                       0.063565\n",
      "human                        0.100670\n",
      "animal                       0.070585\n",
      "molecular_cellular           0.032694\n",
      "is_clinical                  0.194120\n",
      "is_research_article          0.241399\n",
      "cited_by_clin                0.075421\n",
      "nih                          0.124244\n",
      "rage                         0.034586\n",
      "dtype: float64\n"
     ]
    },
    {
     "data": {
      "image/png": "[encoded data removed]",
      "text/plain": [
       "<Figure size 432x288 with 1 Axes>"
      ]
     },
     "metadata": {
      "needs_background": "light"
     },
     "output_type": "display_data"
    },
    {
     "name": "stdout",
     "output_type": "stream",
     "text": [
      "[0.0870819] [[ 12.36955932  11.01678983  -1.58727728   1.02272586 -10.29001489\n",
      "    3.19716609  -0.42804958   6.49862279   5.24352184   5.23507984\n",
      "    5.86588958  -9.31290813   0.23895725  -2.46194217  -0.36684234]] 0.8264462809917356\n",
      "cross validated f1 score  0.8106726606726606\n"
     ]
    }
   ],
   "source": [
    "#best f1 score\n",
    "x_train = pd.read_csv(\"data_84.csv\")\n",
    "y_train = x_train['class']\n",
    "'''x_train = x_train.drop(['class','cluster','year','n','pct_dusted_ccn','pct_dusted_rmcl',\n",
    "                           'pct_in_secbiggest_anc','rcr_low','secbiggest_anc',\n",
    "                           'pct_of_biggest_anc_newish','pct_of_biggest_anc_new','n_clusts_90_anc','pct_of_secbiggest_anc'\n",
    "                           ,'pct_in_biggest_anc','biggest_anc','pct_of_secbiggest_anc_newish','n_secbiggest_anc'\n",
    "                            ], axis = 1)'''\n",
    "\n",
    "x_train[['wrcr','n_biggest_anc','n_secbiggest_anc','n_clusts_90_anc','pct_of_biggest_anc_new']] = minmax_scale(x_train[['wrcr','n_biggest_anc','n_secbiggest_anc','n_clusts_90_anc','pct_of_biggest_anc_new']])\n",
    "x_train = x_train.drop(['n_secbiggest_anc','n_clusts_90_anc','cluster','year','n','pct_is_newish','pct_dusted_ccn','pct_dusted_rmcl','biggest_anc','pct_in_biggest_anc','pct_of_biggest_anc','pct_of_biggest_anc_new','pct_of_biggest_anc_newish','secbiggest_anc'], axis = 1)#$%\n",
    "    #x_train = x_train.drop(['pct_of_biggest_anc_new','pct_of_secbiggest_anc_new','animal','pct_is_newish'], axis = 1)\n",
    "x_train = x_train.drop(['pct_in_secbiggest_anc','pct_of_secbiggest_anc','pct_of_secbiggest_anc_newish','rcr_low','class'], axis = 1)\n",
    "    \n",
    "\n",
    "importance = mutual_info_classif(x_train,y_train)\n",
    "feat_imp = pd.Series(importance,x_train.columns[0:len(x_train.columns)])\n",
    "print(feat_imp)\n",
    "feat_imp.plot(kind = 'barh',color = 'teal')\n",
    "plt.show()\n",
    "\n",
    "#x_train =  StandardScaler().fit_transform(x_train) \n",
    "\n",
    "'''x_train[['pct_of_biggest_anc','pct_is_newish','wrcr']] = minmax_scale(x_train[[\n",
    "    'pct_of_biggest_anc','pct_is_newish','wrcr']])'''\n",
    "\n",
    "y_train = np.array(y_train)\n",
    "model = LogisticRegression(random_state=0, C = 100).fit(x_train,y_train) ##logistioc\n",
    "    \n",
    "print(model.intercept_, model.coef_, model.score(x_train, y_train))\n",
    "scores = cross_val_score(model, x_train, y_train, cv=20,scoring = \"f1\")\n",
    "print(\"cross validated f1 score \",scores.mean())"
   ]
  },
  {
   "cell_type": "code",
   "execution_count": 3,
   "id": "1c578401",
   "metadata": {},
   "outputs": [
    {
     "name": "stdout",
     "output_type": "stream",
     "text": [
      "actual len  4939\n",
      "len of xtest  443\n",
      "pct_is_new                   float64\n",
      "pct_is_newish                float64\n",
      "n_biggest_anc                float64\n",
      "pct_of_biggest_anc           float64\n",
      "pct_of_secbiggest_anc_new    float64\n",
      "pct_top_5_anc                float64\n",
      "wrcr                         float64\n",
      "rcr_mid                      float64\n",
      "rcr_hi                       float64\n",
      "human                        float64\n",
      "animal                       float64\n",
      "molecular_cellular           float64\n",
      "is_clinical                  float64\n",
      "is_research_article          float64\n",
      "cited_by_clin                float64\n",
      "nih                          float64\n",
      "rage                         float64\n",
      "dtype: object\n",
      "hdhdhd before  242\n",
      "len of xtrain  239\n",
      "year   1978\n",
      "[1979 1992 1993 1994 1995 1997 1998 1999 2000 2003 2005 2007 2008 2009\n",
      " 2010 2011 2012 2013 2014 2015 2016 2017 2018 2019 2020]\n",
      "cv score  0.7763902763902765\n",
      "(443,)\n",
      "no of positive  175\n",
      "len of predy  175\n"
     ]
    },
    {
     "data": {
      "image/png": "[encoded data removed]",
      "text/plain": [
       "<Figure size 432x288 with 1 Axes>"
      ]
     },
     "metadata": {
      "needs_background": "light"
     },
     "output_type": "display_data"
    },
    {
     "name": "stdout",
     "output_type": "stream",
     "text": [
      "$$$  443   175\n",
      "total positive  175\n",
      "tp tn fp fn 0   0   0   0\n",
      "year  1978 positive  0\n",
      "actual len  5213\n",
      "len of xtest  468\n",
      "pct_is_new                   float64\n",
      "pct_is_newish                float64\n",
      "n_biggest_anc                float64\n",
      "pct_of_biggest_anc           float64\n",
      "pct_of_secbiggest_anc_new    float64\n",
      "pct_top_5_anc                float64\n",
      "wrcr                         float64\n",
      "rcr_mid                      float64\n",
      "rcr_hi                       float64\n",
      "human                        float64\n",
      "animal                       float64\n",
      "molecular_cellular           float64\n",
      "is_clinical                  float64\n",
      "is_research_article          float64\n",
      "cited_by_clin                float64\n",
      "nih                          float64\n",
      "rage                         float64\n",
      "dtype: object\n",
      "hdhdhd before  242\n",
      "len of xtrain  237\n",
      "year   1979\n",
      "[1992 1993 1994 1995 1997 1998 1999 2000 2003 2005 2007 2008 2009 2010\n",
      " 2011 2012 2013 2014 2015 2016 2017 2018 2019 2020]\n",
      "cv score  0.7769264069264069\n",
      "(468,)\n",
      "no of positive  217\n",
      "len of predy  217\n"
     ]
    },
    {
     "data": {
      "image/png": "[encoded data removed]",
      "text/plain": [
       "<Figure size 432x288 with 1 Axes>"
      ]
     },
     "metadata": {
      "needs_background": "light"
     },
     "output_type": "display_data"
    },
    {
     "name": "stdout",
     "output_type": "stream",
     "text": [
      "$$$  468   217\n",
      "total positive  217\n",
      "tp tn fp fn 1   0   1   0\n",
      "year  1979 positive  1\n",
      "actual len  5453\n",
      "len of xtest  505\n",
      "pct_is_new                   float64\n",
      "pct_is_newish                float64\n",
      "n_biggest_anc                float64\n",
      "pct_of_biggest_anc           float64\n",
      "pct_of_secbiggest_anc_new    float64\n",
      "pct_top_5_anc                float64\n",
      "wrcr                         float64\n",
      "rcr_mid                      float64\n",
      "rcr_hi                       float64\n",
      "human                        float64\n",
      "animal                       float64\n",
      "molecular_cellular           float64\n",
      "is_clinical                  float64\n",
      "is_research_article          float64\n",
      "cited_by_clin                float64\n",
      "nih                          float64\n",
      "rage                         float64\n",
      "dtype: object\n",
      "hdhdhd before  242\n",
      "len of xtrain  239\n",
      "year   1980\n",
      "[1979 1992 1993 1994 1995 1997 1998 1999 2000 2003 2005 2007 2008 2009\n",
      " 2010 2011 2012 2013 2014 2015 2016 2017 2018 2019 2020]\n",
      "cv score  0.7763902763902765\n",
      "(505,)\n",
      "no of positive  180\n",
      "len of predy  180\n"
     ]
    },
    {
     "data": {
      "image/png": "[encoded data removed]",
      "text/plain": [
       "<Figure size 432x288 with 1 Axes>"
      ]
     },
     "metadata": {
      "needs_background": "light"
     },
     "output_type": "display_data"
    },
    {
     "name": "stdout",
     "output_type": "stream",
     "text": [
      "$$$  505   180\n",
      "total positive  180\n",
      "tp tn fp fn 0   0   0   0\n",
      "year  1980 positive  0\n",
      "actual len  5700\n",
      "len of xtest  560\n",
      "pct_is_new                   float64\n",
      "pct_is_newish                float64\n",
      "n_biggest_anc                float64\n",
      "pct_of_biggest_anc           float64\n",
      "pct_of_secbiggest_anc_new    float64\n",
      "pct_top_5_anc                float64\n",
      "wrcr                         float64\n",
      "rcr_mid                      float64\n",
      "rcr_hi                       float64\n",
      "human                        float64\n",
      "animal                       float64\n",
      "molecular_cellular           float64\n",
      "is_clinical                  float64\n",
      "is_research_article          float64\n",
      "cited_by_clin                float64\n",
      "nih                          float64\n",
      "rage                         float64\n",
      "dtype: object\n",
      "hdhdhd before  242\n",
      "len of xtrain  239\n",
      "year   1981\n",
      "[1979 1992 1993 1994 1995 1997 1998 1999 2000 2003 2005 2007 2008 2009\n",
      " 2010 2011 2012 2013 2014 2015 2016 2017 2018 2019 2020]\n",
      "cv score  0.7763902763902765\n",
      "(560,)\n",
      "no of positive  201\n",
      "len of predy  201\n"
     ]
    },
    {
     "data": {
      "image/png": "[encoded data removed]",
      "text/plain": [
       "<Figure size 432x288 with 1 Axes>"
      ]
     },
     "metadata": {
      "needs_background": "light"
     },
     "output_type": "display_data"
    },
    {
     "name": "stdout",
     "output_type": "stream",
     "text": [
      "$$$  560   201\n",
      "total positive  201\n",
      "tp tn fp fn 0   0   0   0\n",
      "year  1981 positive  0\n",
      "actual len  5958\n",
      "len of xtest  589\n",
      "pct_is_new                   float64\n",
      "pct_is_newish                float64\n",
      "n_biggest_anc                  int64\n",
      "pct_of_biggest_anc           float64\n",
      "pct_of_secbiggest_anc_new    float64\n",
      "pct_top_5_anc                float64\n",
      "wrcr                         float64\n",
      "rcr_mid                      float64\n",
      "rcr_hi                       float64\n",
      "human                        float64\n",
      "animal                       float64\n",
      "molecular_cellular           float64\n",
      "is_clinical                  float64\n",
      "is_research_article          float64\n",
      "cited_by_clin                float64\n",
      "nih                          float64\n",
      "rage                         float64\n",
      "dtype: object\n",
      "hdhdhd before  242\n",
      "len of xtrain  239\n",
      "year   1982\n",
      "[1979 1992 1993 1994 1995 1997 1998 1999 2000 2003 2005 2007 2008 2009\n",
      " 2010 2011 2012 2013 2014 2015 2016 2017 2018 2019 2020]\n",
      "cv score  0.7763902763902765\n",
      "(589,)\n",
      "no of positive  210\n",
      "len of predy  210\n"
     ]
    },
    {
     "data": {
      "image/png": "[encoded data removed]",
      "text/plain": [
       "<Figure size 432x288 with 1 Axes>"
      ]
     },
     "metadata": {
      "needs_background": "light"
     },
     "output_type": "display_data"
    },
    {
     "name": "stdout",
     "output_type": "stream",
     "text": [
      "$$$  589   210\n",
      "total positive  210\n",
      "tp tn fp fn 0   0   0   0\n",
      "year  1982 positive  0\n",
      "actual len  6242\n",
      "len of xtest  636\n",
      "pct_is_new                   float64\n",
      "pct_is_newish                float64\n",
      "n_biggest_anc                  int64\n",
      "pct_of_biggest_anc           float64\n",
      "pct_of_secbiggest_anc_new    float64\n",
      "pct_top_5_anc                float64\n",
      "wrcr                         float64\n",
      "rcr_mid                      float64\n",
      "rcr_hi                       float64\n",
      "human                        float64\n",
      "animal                       float64\n",
      "molecular_cellular           float64\n",
      "is_clinical                  float64\n",
      "is_research_article          float64\n",
      "cited_by_clin                float64\n",
      "nih                          float64\n",
      "rage                         float64\n",
      "dtype: object\n",
      "hdhdhd before  242\n",
      "len of xtrain  239\n",
      "year   1983\n",
      "[1979 1992 1993 1994 1995 1997 1998 1999 2000 2003 2005 2007 2008 2009\n",
      " 2010 2011 2012 2013 2014 2015 2016 2017 2018 2019 2020]\n",
      "cv score  0.7763902763902765\n",
      "(636,)\n",
      "no of positive  214\n",
      "len of predy  214\n"
     ]
    },
    {
     "data": {
      "image/png": "[encoded data removed]",
      "text/plain": [
       "<Figure size 432x288 with 1 Axes>"
      ]
     },
     "metadata": {
      "needs_background": "light"
     },
     "output_type": "display_data"
    },
    {
     "name": "stdout",
     "output_type": "stream",
     "text": [
      "$$$  636   214\n",
      "total positive  214\n",
      "tp tn fp fn 0   0   0   0\n",
      "year  1983 positive  0\n",
      "actual len  6521\n",
      "len of xtest  674\n",
      "pct_is_new                   float64\n",
      "pct_is_newish                float64\n",
      "n_biggest_anc                  int64\n",
      "pct_of_biggest_anc           float64\n",
      "pct_of_secbiggest_anc_new    float64\n",
      "pct_top_5_anc                float64\n",
      "wrcr                         float64\n",
      "rcr_mid                      float64\n",
      "rcr_hi                       float64\n",
      "human                        float64\n",
      "animal                       float64\n",
      "molecular_cellular           float64\n",
      "is_clinical                  float64\n",
      "is_research_article          float64\n",
      "cited_by_clin                float64\n",
      "nih                          float64\n",
      "rage                         float64\n",
      "dtype: object\n",
      "hdhdhd before  242\n",
      "len of xtrain  239\n",
      "year   1984\n",
      "[1979 1992 1993 1994 1995 1997 1998 1999 2000 2003 2005 2007 2008 2009\n",
      " 2010 2011 2012 2013 2014 2015 2016 2017 2018 2019 2020]\n",
      "cv score  0.7763902763902765\n",
      "(674,)\n",
      "no of positive  215\n",
      "len of predy  215\n"
     ]
    },
    {
     "data": {
      "image/png": "[encoded data removed]",
      "text/plain": [
       "<Figure size 432x288 with 1 Axes>"
      ]
     },
     "metadata": {
      "needs_background": "light"
     },
     "output_type": "display_data"
    },
    {
     "name": "stdout",
     "output_type": "stream",
     "text": [
      "$$$  674   215\n",
      "total positive  215\n",
      "tp tn fp fn 0   0   0   0\n",
      "year  1984 positive  0\n",
      "actual len  6825\n",
      "len of xtest  708\n",
      "pct_is_new                   float64\n",
      "pct_is_newish                float64\n",
      "n_biggest_anc                float64\n",
      "pct_of_biggest_anc           float64\n",
      "pct_of_secbiggest_anc_new    float64\n",
      "pct_top_5_anc                float64\n",
      "wrcr                         float64\n",
      "rcr_mid                      float64\n",
      "rcr_hi                       float64\n",
      "human                        float64\n",
      "animal                       float64\n",
      "molecular_cellular           float64\n",
      "is_clinical                  float64\n",
      "is_research_article          float64\n",
      "cited_by_clin                float64\n",
      "nih                          float64\n",
      "rage                         float64\n",
      "dtype: object\n",
      "hdhdhd before  242\n",
      "len of xtrain  239\n",
      "year   1985\n",
      "[1979 1992 1993 1994 1995 1997 1998 1999 2000 2003 2005 2007 2008 2009\n",
      " 2010 2011 2012 2013 2014 2015 2016 2017 2018 2019 2020]\n",
      "cv score  0.7763902763902765\n",
      "(708,)\n",
      "no of positive  215\n",
      "len of predy  215\n"
     ]
    },
    {
     "data": {
      "image/png": "[encoded data removed]",
      "text/plain": [
       "<Figure size 432x288 with 1 Axes>"
      ]
     },
     "metadata": {
      "needs_background": "light"
     },
     "output_type": "display_data"
    },
    {
     "name": "stdout",
     "output_type": "stream",
     "text": [
      "$$$  708   215\n",
      "total positive  215\n",
      "tp tn fp fn 0   0   0   0\n",
      "year  1985 positive  0\n",
      "actual len  7188\n",
      "len of xtest  771\n",
      "pct_is_new                   float64\n",
      "pct_is_newish                float64\n",
      "n_biggest_anc                float64\n",
      "pct_of_biggest_anc           float64\n",
      "pct_of_secbiggest_anc_new    float64\n",
      "pct_top_5_anc                float64\n",
      "wrcr                         float64\n",
      "rcr_mid                      float64\n",
      "rcr_hi                       float64\n",
      "human                        float64\n",
      "animal                       float64\n",
      "molecular_cellular           float64\n",
      "is_clinical                  float64\n",
      "is_research_article          float64\n",
      "cited_by_clin                float64\n",
      "nih                          float64\n",
      "rage                         float64\n",
      "dtype: object\n",
      "hdhdhd before  242\n",
      "len of xtrain  239\n",
      "year   1986\n",
      "[1979 1992 1993 1994 1995 1997 1998 1999 2000 2003 2005 2007 2008 2009\n",
      " 2010 2011 2012 2013 2014 2015 2016 2017 2018 2019 2020]\n",
      "cv score  0.7763902763902765\n",
      "(771,)\n",
      "no of positive  218\n",
      "len of predy  218\n"
     ]
    },
    {
     "data": {
      "image/png": "[encoded data removed]",
      "text/plain": [
       "<Figure size 432x288 with 1 Axes>"
      ]
     },
     "metadata": {
      "needs_background": "light"
     },
     "output_type": "display_data"
    },
    {
     "name": "stdout",
     "output_type": "stream",
     "text": [
      "$$$  771   218\n",
      "total positive  218\n",
      "tp tn fp fn 0   0   0   0\n",
      "year  1986 positive  0\n",
      "actual len  7569\n",
      "len of xtest  812\n",
      "pct_is_new                   float64\n",
      "pct_is_newish                float64\n",
      "n_biggest_anc                float64\n",
      "pct_of_biggest_anc           float64\n",
      "pct_of_secbiggest_anc_new    float64\n",
      "pct_top_5_anc                float64\n",
      "wrcr                         float64\n",
      "rcr_mid                      float64\n",
      "rcr_hi                       float64\n",
      "human                        float64\n",
      "animal                       float64\n",
      "molecular_cellular           float64\n",
      "is_clinical                  float64\n",
      "is_research_article          float64\n",
      "cited_by_clin                float64\n",
      "nih                          float64\n",
      "rage                         float64\n",
      "dtype: object\n",
      "hdhdhd before  242\n",
      "len of xtrain  239\n",
      "year   1987\n",
      "[1979 1992 1993 1994 1995 1997 1998 1999 2000 2003 2005 2007 2008 2009\n",
      " 2010 2011 2012 2013 2014 2015 2016 2017 2018 2019 2020]\n",
      "cv score  0.7763902763902765\n",
      "(812,)\n",
      "no of positive  227\n",
      "len of predy  227\n"
     ]
    },
    {
     "data": {
      "image/png": "[encoded data removed]",
      "text/plain": [
       "<Figure size 432x288 with 1 Axes>"
      ]
     },
     "metadata": {
      "needs_background": "light"
     },
     "output_type": "display_data"
    },
    {
     "name": "stdout",
     "output_type": "stream",
     "text": [
      "$$$  812   227\n",
      "total positive  227\n",
      "tp tn fp fn 0   0   0   0\n",
      "year  1987 positive  0\n",
      "actual len  7973\n",
      "len of xtest  852\n",
      "pct_is_new                   float64\n",
      "pct_is_newish                float64\n",
      "n_biggest_anc                  int64\n",
      "pct_of_biggest_anc           float64\n",
      "pct_of_secbiggest_anc_new    float64\n",
      "pct_top_5_anc                float64\n",
      "wrcr                         float64\n",
      "rcr_mid                      float64\n",
      "rcr_hi                       float64\n",
      "human                        float64\n",
      "animal                       float64\n",
      "molecular_cellular           float64\n",
      "is_clinical                  float64\n",
      "is_research_article          float64\n",
      "cited_by_clin                float64\n",
      "nih                          float64\n",
      "rage                         float64\n",
      "dtype: object\n",
      "hdhdhd before  242\n",
      "len of xtrain  239\n",
      "year   1988\n",
      "[1979 1992 1993 1994 1995 1997 1998 1999 2000 2003 2005 2007 2008 2009\n",
      " 2010 2011 2012 2013 2014 2015 2016 2017 2018 2019 2020]\n",
      "cv score  0.7763902763902765\n",
      "(852,)\n",
      "no of positive  245\n",
      "len of predy  245\n"
     ]
    },
    {
     "data": {
      "image/png": "[encoded data removed]",
      "text/plain": [
       "<Figure size 432x288 with 1 Axes>"
      ]
     },
     "metadata": {
      "needs_background": "light"
     },
     "output_type": "display_data"
    },
    {
     "name": "stdout",
     "output_type": "stream",
     "text": [
      "$$$  852   245\n",
      "total positive  245\n",
      "tp tn fp fn 0   0   0   0\n",
      "year  1988 positive  0\n",
      "actual len  8315\n",
      "len of xtest  910\n",
      "pct_is_new                   float64\n",
      "pct_is_newish                float64\n",
      "n_biggest_anc                float64\n",
      "pct_of_biggest_anc           float64\n",
      "pct_of_secbiggest_anc_new    float64\n",
      "pct_top_5_anc                float64\n",
      "wrcr                         float64\n",
      "rcr_mid                      float64\n",
      "rcr_hi                       float64\n",
      "human                        float64\n",
      "animal                       float64\n",
      "molecular_cellular           float64\n",
      "is_clinical                  float64\n",
      "is_research_article          float64\n",
      "cited_by_clin                float64\n",
      "nih                          float64\n",
      "rage                         float64\n",
      "dtype: object\n",
      "hdhdhd before  242\n",
      "len of xtrain  239\n",
      "year   1989\n",
      "[1979 1992 1993 1994 1995 1997 1998 1999 2000 2003 2005 2007 2008 2009\n",
      " 2010 2011 2012 2013 2014 2015 2016 2017 2018 2019 2020]\n",
      "cv score  0.7763902763902765\n",
      "(910,)\n",
      "no of positive  260\n",
      "len of predy  260\n"
     ]
    },
    {
     "data": {
      "image/png": "[encoded data removed]",
      "text/plain": [
       "<Figure size 432x288 with 1 Axes>"
      ]
     },
     "metadata": {
      "needs_background": "light"
     },
     "output_type": "display_data"
    },
    {
     "name": "stdout",
     "output_type": "stream",
     "text": [
      "$$$  910   260\n",
      "total positive  260\n",
      "tp tn fp fn 0   0   0   0\n",
      "year  1989 positive  0\n",
      "actual len  8642\n",
      "len of xtest  966\n",
      "pct_is_new                   float64\n",
      "pct_is_newish                float64\n",
      "n_biggest_anc                float64\n",
      "pct_of_biggest_anc           float64\n",
      "pct_of_secbiggest_anc_new    float64\n",
      "pct_top_5_anc                float64\n",
      "wrcr                         float64\n",
      "rcr_mid                      float64\n",
      "rcr_hi                       float64\n",
      "human                        float64\n",
      "animal                       float64\n",
      "molecular_cellular           float64\n",
      "is_clinical                  float64\n",
      "is_research_article          float64\n",
      "cited_by_clin                float64\n",
      "nih                          float64\n",
      "rage                         float64\n",
      "dtype: object\n",
      "hdhdhd before  242\n",
      "len of xtrain  239\n",
      "year   1990\n",
      "[1979 1992 1993 1994 1995 1997 1998 1999 2000 2003 2005 2007 2008 2009\n",
      " 2010 2011 2012 2013 2014 2015 2016 2017 2018 2019 2020]\n",
      "cv score  0.7763902763902765\n",
      "(966,)\n",
      "no of positive  272\n",
      "len of predy  272\n"
     ]
    },
    {
     "data": {
      "image/png": "[encoded data removed]",
      "text/plain": [
       "<Figure size 432x288 with 1 Axes>"
      ]
     },
     "metadata": {
      "needs_background": "light"
     },
     "output_type": "display_data"
    },
    {
     "name": "stdout",
     "output_type": "stream",
     "text": [
      "$$$  966   272\n",
      "total positive  272\n",
      "tp tn fp fn 0   0   0   0\n",
      "year  1990 positive  0\n",
      "actual len  9018\n",
      "len of xtest  1030\n",
      "pct_is_new                   float64\n",
      "pct_is_newish                float64\n",
      "n_biggest_anc                float64\n",
      "pct_of_biggest_anc           float64\n",
      "pct_of_secbiggest_anc_new    float64\n",
      "pct_top_5_anc                float64\n",
      "wrcr                         float64\n",
      "rcr_mid                      float64\n",
      "rcr_hi                       float64\n",
      "human                        float64\n",
      "animal                       float64\n",
      "molecular_cellular           float64\n",
      "is_clinical                  float64\n",
      "is_research_article          float64\n",
      "cited_by_clin                float64\n",
      "nih                          float64\n",
      "rage                         float64\n",
      "dtype: object\n",
      "hdhdhd before  242\n",
      "len of xtrain  239\n",
      "year   1991\n",
      "[1979 1992 1993 1994 1995 1997 1998 1999 2000 2003 2005 2007 2008 2009\n",
      " 2010 2011 2012 2013 2014 2015 2016 2017 2018 2019 2020]\n",
      "cv score  0.7763902763902765\n",
      "(1030,)\n",
      "no of positive  282\n",
      "len of predy  282\n"
     ]
    },
    {
     "data": {
      "image/png": "[encoded data removed]",
      "text/plain": [
       "<Figure size 432x288 with 1 Axes>"
      ]
     },
     "metadata": {
      "needs_background": "light"
     },
     "output_type": "display_data"
    },
    {
     "name": "stdout",
     "output_type": "stream",
     "text": [
      "$$$  1030   282\n",
      "total positive  282\n",
      "tp tn fp fn 0   0   0   0\n",
      "year  1991 positive  0\n",
      "actual len  9369\n",
      "len of xtest  1090\n",
      "pct_is_new                   float64\n",
      "pct_is_newish                float64\n",
      "n_biggest_anc                float64\n",
      "pct_of_biggest_anc           float64\n",
      "pct_of_secbiggest_anc_new    float64\n",
      "pct_top_5_anc                float64\n",
      "wrcr                         float64\n",
      "rcr_mid                      float64\n",
      "rcr_hi                       float64\n",
      "human                        float64\n",
      "animal                       float64\n",
      "molecular_cellular           float64\n",
      "is_clinical                  float64\n",
      "is_research_article          float64\n",
      "cited_by_clin                float64\n",
      "nih                          float64\n",
      "rage                         float64\n",
      "dtype: object\n",
      "hdhdhd before  242\n",
      "len of xtrain  237\n",
      "year   1992\n",
      "[1979 1993 1994 1995 1997 1998 1999 2000 2003 2005 2007 2008 2009 2010\n",
      " 2011 2012 2013 2014 2015 2016 2017 2018 2019 2020]\n",
      "cv score  0.7941878954378955\n",
      "(1090,)\n",
      "no of positive  308\n",
      "len of predy  308\n"
     ]
    },
    {
     "data": {
      "image/png": "[encoded data removed]",
      "text/plain": [
       "<Figure size 432x288 with 1 Axes>"
      ]
     },
     "metadata": {
      "needs_background": "light"
     },
     "output_type": "display_data"
    },
    {
     "name": "stdout",
     "output_type": "stream",
     "text": [
      "$$$  1090   308\n",
      "total positive  308\n",
      "tp tn fp fn 0   0   0   0\n",
      "year  1992 positive  0\n",
      "actual len  9723\n",
      "len of xtest  1151\n",
      "pct_is_new                   float64\n",
      "pct_is_newish                float64\n",
      "n_biggest_anc                float64\n",
      "pct_of_biggest_anc           float64\n",
      "pct_of_secbiggest_anc_new    float64\n",
      "pct_top_5_anc                float64\n",
      "wrcr                         float64\n",
      "rcr_mid                      float64\n",
      "rcr_hi                       float64\n",
      "human                        float64\n",
      "animal                       float64\n",
      "molecular_cellular           float64\n",
      "is_clinical                  float64\n",
      "is_research_article          float64\n",
      "cited_by_clin                float64\n",
      "nih                          float64\n",
      "rage                         float64\n",
      "dtype: object\n",
      "hdhdhd before  242\n",
      "len of xtrain  237\n",
      "year   1993\n",
      "[1979 1992 1994 1995 1997 1998 1999 2000 2003 2005 2007 2008 2009 2010\n",
      " 2011 2012 2013 2014 2015 2016 2017 2018 2019 2020]\n",
      "cv score  0.7921936396936398\n",
      "(1151,)\n",
      "no of positive  302\n",
      "len of predy  302\n"
     ]
    },
    {
     "data": {
      "image/png": "[encoded data removed]",
      "text/plain": [
       "<Figure size 432x288 with 1 Axes>"
      ]
     },
     "metadata": {
      "needs_background": "light"
     },
     "output_type": "display_data"
    },
    {
     "name": "stdout",
     "output_type": "stream",
     "text": [
      "$$$  1151   302\n",
      "total positive  302\n",
      "tp tn fp fn 0   0   0   0\n",
      "year  1993 positive  0\n",
      "actual len  10084\n",
      "len of xtest  1298\n",
      "pct_is_new                   float64\n",
      "pct_is_newish                float64\n",
      "n_biggest_anc                  int64\n",
      "pct_of_biggest_anc           float64\n",
      "pct_of_secbiggest_anc_new    float64\n",
      "pct_top_5_anc                float64\n",
      "wrcr                         float64\n",
      "rcr_mid                      float64\n",
      "rcr_hi                       float64\n",
      "human                        float64\n",
      "animal                       float64\n",
      "molecular_cellular           float64\n",
      "is_clinical                  float64\n",
      "is_research_article          float64\n",
      "cited_by_clin                float64\n",
      "nih                          float64\n",
      "rage                         float64\n",
      "dtype: object\n",
      "hdhdhd before  242\n",
      "len of xtrain  235\n",
      "year   1994\n",
      "[1979 1992 1993 1995 1997 1998 1999 2000 2003 2005 2007 2008 2009 2010\n",
      " 2011 2012 2013 2014 2015 2016 2017 2018 2019 2020]\n",
      "cv score  0.776521223874165\n",
      "(1298,)\n",
      "no of positive  349\n",
      "len of predy  349\n"
     ]
    },
    {
     "data": {
      "image/png": "[encoded data removed]",
      "text/plain": [
       "<Figure size 432x288 with 1 Axes>"
      ]
     },
     "metadata": {
      "needs_background": "light"
     },
     "output_type": "display_data"
    },
    {
     "name": "stdout",
     "output_type": "stream",
     "text": [
      "$$$  1298   349\n",
      "total positive  349\n",
      "tp tn fp fn 1   1   0   0\n",
      "year  1994 positive  1\n",
      "actual len  10442\n",
      "len of xtest  1367\n",
      "pct_is_new                   float64\n",
      "pct_is_newish                float64\n",
      "n_biggest_anc                float64\n",
      "pct_of_biggest_anc           float64\n",
      "pct_of_secbiggest_anc_new    float64\n",
      "pct_top_5_anc                float64\n",
      "wrcr                         float64\n",
      "rcr_mid                      float64\n",
      "rcr_hi                       float64\n",
      "human                        float64\n",
      "animal                       float64\n",
      "molecular_cellular           float64\n",
      "is_clinical                  float64\n",
      "is_research_article          float64\n",
      "cited_by_clin                float64\n",
      "nih                          float64\n",
      "rage                         float64\n",
      "dtype: object\n",
      "hdhdhd before  242\n",
      "len of xtrain  237\n",
      "year   1995\n",
      "[1979 1992 1993 1994 1997 1998 1999 2000 2003 2005 2007 2008 2009 2010\n",
      " 2011 2012 2013 2014 2015 2016 2017 2018 2019 2020]\n",
      "cv score  0.780950715950716\n",
      "(1367,)\n",
      "no of positive  334\n",
      "len of predy  334\n"
     ]
    },
    {
     "data": {
      "image/png": "[encoded data removed]",
      "text/plain": [
       "<Figure size 432x288 with 1 Axes>"
      ]
     },
     "metadata": {
      "needs_background": "light"
     },
     "output_type": "display_data"
    },
    {
     "name": "stdout",
     "output_type": "stream",
     "text": [
      "$$$  1367   334\n",
      "total positive  334\n",
      "tp tn fp fn 0   0   0   1\n",
      "year  1995 positive  1\n",
      "actual len  10806\n",
      "len of xtest  1485\n",
      "pct_is_new                   float64\n",
      "pct_is_newish                float64\n",
      "n_biggest_anc                float64\n",
      "pct_of_biggest_anc           float64\n",
      "pct_of_secbiggest_anc_new    float64\n",
      "pct_top_5_anc                float64\n",
      "wrcr                         float64\n",
      "rcr_mid                      float64\n",
      "rcr_hi                       float64\n",
      "human                        float64\n",
      "animal                       float64\n",
      "molecular_cellular           float64\n",
      "is_clinical                  float64\n",
      "is_research_article          float64\n",
      "cited_by_clin                float64\n",
      "nih                          float64\n",
      "rage                         float64\n",
      "dtype: object\n",
      "hdhdhd before  242\n",
      "len of xtrain  239\n",
      "year   1996\n",
      "[1979 1992 1993 1994 1995 1997 1998 1999 2000 2003 2005 2007 2008 2009\n",
      " 2010 2011 2012 2013 2014 2015 2016 2017 2018 2019 2020]\n",
      "cv score  0.7763902763902765\n",
      "(1485,)\n",
      "no of positive  360\n",
      "len of predy  360\n"
     ]
    },
    {
     "data": {
      "image/png": "[encoded data removed]",
      "text/plain": [
       "<Figure size 432x288 with 1 Axes>"
      ]
     },
     "metadata": {
      "needs_background": "light"
     },
     "output_type": "display_data"
    },
    {
     "name": "stdout",
     "output_type": "stream",
     "text": [
      "$$$  1485   360\n",
      "total positive  360\n",
      "tp tn fp fn 0   0   0   0\n",
      "year  1996 positive  0\n",
      "actual len  11161\n",
      "len of xtest  1590\n",
      "pct_is_new                   float64\n",
      "pct_is_newish                float64\n",
      "n_biggest_anc                float64\n",
      "pct_of_biggest_anc           float64\n",
      "pct_of_secbiggest_anc_new    float64\n",
      "pct_top_5_anc                float64\n",
      "wrcr                         float64\n",
      "rcr_mid                      float64\n",
      "rcr_hi                       float64\n",
      "human                        float64\n",
      "animal                       float64\n",
      "molecular_cellular           float64\n",
      "is_clinical                  float64\n",
      "is_research_article          float64\n",
      "cited_by_clin                float64\n",
      "nih                          float64\n",
      "rage                         float64\n",
      "dtype: object\n",
      "hdhdhd before  242\n",
      "len of xtrain  237\n",
      "year   1997\n",
      "[1979 1992 1993 1994 1995 1998 1999 2000 2003 2005 2007 2008 2009 2010\n",
      " 2011 2012 2013 2014 2015 2016 2017 2018 2019 2020]\n",
      "cv score  0.781439393939394\n",
      "(1590,)\n",
      "no of positive  361\n",
      "len of predy  361\n"
     ]
    },
    {
     "data": {
      "image/png": "[encoded data removed]",
      "text/plain": [
       "<Figure size 432x288 with 1 Axes>"
      ]
     },
     "metadata": {
      "needs_background": "light"
     },
     "output_type": "display_data"
    },
    {
     "name": "stdout",
     "output_type": "stream",
     "text": [
      "$$$  1590   361\n",
      "total positive  361\n",
      "tp tn fp fn 0   1   0   0\n",
      "year  1997 positive  0\n",
      "actual len  11526\n",
      "len of xtest  1665\n",
      "pct_is_new                   float64\n",
      "pct_is_newish                float64\n",
      "n_biggest_anc                  int64\n",
      "pct_of_biggest_anc           float64\n",
      "pct_of_secbiggest_anc_new    float64\n",
      "pct_top_5_anc                float64\n",
      "wrcr                         float64\n",
      "rcr_mid                      float64\n",
      "rcr_hi                       float64\n",
      "human                        float64\n",
      "animal                       float64\n",
      "molecular_cellular           float64\n",
      "is_clinical                  float64\n",
      "is_research_article          float64\n",
      "cited_by_clin                float64\n",
      "nih                          float64\n",
      "rage                         float64\n",
      "dtype: object\n",
      "hdhdhd before  242\n",
      "len of xtrain  233\n",
      "year   1998\n",
      "[1979 1992 1993 1994 1995 1997 1999 2000 2003 2005 2007 2008 2009 2010\n",
      " 2011 2012 2013 2014 2015 2016 2017 2018 2019 2020]\n",
      "cv score  0.7604850704850705\n",
      "(1665,)\n",
      "no of positive  383\n",
      "len of predy  383\n"
     ]
    },
    {
     "data": {
      "image/png": "[encoded data removed]",
      "text/plain": [
       "<Figure size 432x288 with 1 Axes>"
      ]
     },
     "metadata": {
      "needs_background": "light"
     },
     "output_type": "display_data"
    },
    {
     "name": "stdout",
     "output_type": "stream",
     "text": [
      "$$$  1665   383\n",
      "total positive  383\n",
      "tp tn fp fn 2   2   0   1\n",
      "year  1998 positive  3\n",
      "actual len  11998\n",
      "len of xtest  1774\n",
      "pct_is_new                   float64\n",
      "pct_is_newish                float64\n",
      "n_biggest_anc                float64\n",
      "pct_of_biggest_anc           float64\n",
      "pct_of_secbiggest_anc_new    float64\n",
      "pct_top_5_anc                float64\n",
      "wrcr                         float64\n",
      "rcr_mid                      float64\n",
      "rcr_hi                       float64\n",
      "human                        float64\n",
      "animal                       float64\n",
      "molecular_cellular           float64\n",
      "is_clinical                  float64\n",
      "is_research_article          float64\n",
      "cited_by_clin                float64\n",
      "nih                          float64\n",
      "rage                         float64\n",
      "dtype: object\n",
      "hdhdhd before  242\n",
      "len of xtrain  237\n",
      "year   1999\n",
      "[1979 1992 1993 1994 1995 1997 1998 2000 2003 2005 2007 2008 2009 2010\n",
      " 2011 2012 2013 2014 2015 2016 2017 2018 2019 2020]\n",
      "cv score  0.760418747918748\n",
      "(1774,)\n",
      "no of positive  379\n",
      "len of predy  379\n"
     ]
    },
    {
     "data": {
      "image/png": "[encoded data removed]",
      "text/plain": [
       "<Figure size 432x288 with 1 Axes>"
      ]
     },
     "metadata": {
      "needs_background": "light"
     },
     "output_type": "display_data"
    },
    {
     "name": "stdout",
     "output_type": "stream",
     "text": [
      "$$$  1774   379\n",
      "total positive  379\n",
      "tp tn fp fn 0   0   0   1\n",
      "year  1999 positive  1\n",
      "actual len  12451\n",
      "len of xtest  1818\n",
      "pct_is_new                   float64\n",
      "pct_is_newish                float64\n",
      "n_biggest_anc                float64\n",
      "pct_of_biggest_anc           float64\n",
      "pct_of_secbiggest_anc_new    float64\n",
      "pct_top_5_anc                float64\n",
      "wrcr                         float64\n",
      "rcr_mid                      float64\n",
      "rcr_hi                       float64\n",
      "human                        float64\n",
      "animal                       float64\n",
      "molecular_cellular           float64\n",
      "is_clinical                  float64\n",
      "is_research_article          float64\n",
      "cited_by_clin                float64\n",
      "nih                          float64\n",
      "rage                         float64\n",
      "dtype: object\n",
      "hdhdhd before  242\n",
      "len of xtrain  235\n",
      "year   2000\n",
      "[1979 1992 1993 1994 1995 1997 1998 1999 2003 2005 2007 2008 2009 2010\n",
      " 2011 2012 2013 2014 2015 2016 2017 2018 2019 2020]\n",
      "cv score  0.7779115002644416\n",
      "(1818,)\n",
      "no of positive  372\n",
      "len of predy  372\n"
     ]
    },
    {
     "data": {
      "image/png": "[encoded data removed]",
      "text/plain": [
       "<Figure size 432x288 with 1 Axes>"
      ]
     },
     "metadata": {
      "needs_background": "light"
     },
     "output_type": "display_data"
    },
    {
     "name": "stdout",
     "output_type": "stream",
     "text": [
      "$$$  1818   372\n",
      "total positive  372\n",
      "tp tn fp fn 1   0   0   1\n",
      "year  2000 positive  2\n",
      "actual len  12969\n",
      "len of xtest  1857\n",
      "pct_is_new                   float64\n",
      "pct_is_newish                float64\n",
      "n_biggest_anc                float64\n",
      "pct_of_biggest_anc           float64\n",
      "pct_of_secbiggest_anc_new    float64\n",
      "pct_top_5_anc                float64\n",
      "wrcr                         float64\n",
      "rcr_mid                      float64\n",
      "rcr_hi                       float64\n",
      "human                        float64\n",
      "animal                       float64\n",
      "molecular_cellular           float64\n",
      "is_clinical                  float64\n",
      "is_research_article          float64\n",
      "cited_by_clin                float64\n",
      "nih                          float64\n",
      "rage                         float64\n",
      "dtype: object\n",
      "hdhdhd before  242\n",
      "len of xtrain  239\n",
      "year   2001\n",
      "[1979 1992 1993 1994 1995 1997 1998 1999 2000 2003 2005 2007 2008 2009\n",
      " 2010 2011 2012 2013 2014 2015 2016 2017 2018 2019 2020]\n",
      "cv score  0.7763902763902765\n",
      "(1857,)\n",
      "no of positive  372\n",
      "len of predy  372\n"
     ]
    },
    {
     "data": {
      "image/png": "[encoded data removed]",
      "text/plain": [
       "<Figure size 432x288 with 1 Axes>"
      ]
     },
     "metadata": {
      "needs_background": "light"
     },
     "output_type": "display_data"
    },
    {
     "name": "stdout",
     "output_type": "stream",
     "text": [
      "$$$  1857   372\n",
      "total positive  372\n",
      "tp tn fp fn 0   0   0   0\n",
      "year  2001 positive  0\n",
      "actual len  13522\n",
      "len of xtest  1888\n",
      "pct_is_new                   float64\n",
      "pct_is_newish                float64\n",
      "n_biggest_anc                float64\n",
      "pct_of_biggest_anc           float64\n",
      "pct_of_secbiggest_anc_new    float64\n",
      "pct_top_5_anc                float64\n",
      "wrcr                         float64\n",
      "rcr_mid                      float64\n",
      "rcr_hi                       float64\n",
      "human                        float64\n",
      "animal                       float64\n",
      "molecular_cellular           float64\n",
      "is_clinical                  float64\n",
      "is_research_article          float64\n",
      "cited_by_clin                float64\n",
      "nih                          float64\n",
      "rage                         float64\n",
      "dtype: object\n",
      "hdhdhd before  242\n",
      "len of xtrain  239\n",
      "year   2002\n",
      "[1979 1992 1993 1994 1995 1997 1998 1999 2000 2003 2005 2007 2008 2009\n",
      " 2010 2011 2012 2013 2014 2015 2016 2017 2018 2019 2020]\n",
      "cv score  0.7763902763902765\n",
      "(1888,)\n",
      "no of positive  369\n",
      "len of predy  369\n"
     ]
    },
    {
     "data": {
      "image/png": "[encoded data removed]",
      "text/plain": [
       "<Figure size 432x288 with 1 Axes>"
      ]
     },
     "metadata": {
      "needs_background": "light"
     },
     "output_type": "display_data"
    },
    {
     "name": "stdout",
     "output_type": "stream",
     "text": [
      "$$$  1888   369\n",
      "total positive  369\n",
      "tp tn fp fn 0   0   0   0\n",
      "year  2002 positive  0\n",
      "actual len  14061\n",
      "len of xtest  1905\n",
      "pct_is_new                   float64\n",
      "pct_is_newish                float64\n",
      "n_biggest_anc                float64\n",
      "pct_of_biggest_anc           float64\n",
      "pct_of_secbiggest_anc_new    float64\n",
      "pct_top_5_anc                float64\n",
      "wrcr                         float64\n",
      "rcr_mid                      float64\n",
      "rcr_hi                       float64\n",
      "human                        float64\n",
      "animal                       float64\n",
      "molecular_cellular           float64\n",
      "is_clinical                  float64\n",
      "is_research_article          float64\n",
      "cited_by_clin                float64\n",
      "nih                          float64\n",
      "rage                         float64\n",
      "dtype: object\n",
      "hdhdhd before  242\n",
      "len of xtrain  237\n",
      "year   2003\n",
      "[1979 1992 1993 1994 1995 1997 1998 1999 2000 2005 2007 2008 2009 2010\n",
      " 2011 2012 2013 2014 2015 2016 2017 2018 2019 2020]\n",
      "cv score  0.7936638361638362\n",
      "(1905,)\n",
      "no of positive  344\n",
      "len of predy  344\n"
     ]
    },
    {
     "data": {
      "image/png": "[encoded data removed]",
      "text/plain": [
       "<Figure size 432x288 with 1 Axes>"
      ]
     },
     "metadata": {
      "needs_background": "light"
     },
     "output_type": "display_data"
    },
    {
     "name": "stdout",
     "output_type": "stream",
     "text": [
      "$$$  1905   344\n",
      "total positive  344\n",
      "tp tn fp fn 0   0   0   1\n",
      "year  2003 positive  1\n",
      "actual len  14609\n",
      "len of xtest  1899\n",
      "pct_is_new                   float64\n",
      "pct_is_newish                float64\n",
      "n_biggest_anc                float64\n",
      "pct_of_biggest_anc           float64\n",
      "pct_of_secbiggest_anc_new    float64\n",
      "pct_top_5_anc                float64\n",
      "wrcr                         float64\n",
      "rcr_mid                      float64\n",
      "rcr_hi                       float64\n",
      "human                        float64\n",
      "animal                       float64\n",
      "molecular_cellular           float64\n",
      "is_clinical                  float64\n",
      "is_research_article          float64\n",
      "cited_by_clin                float64\n",
      "nih                          float64\n",
      "rage                         float64\n",
      "dtype: object\n",
      "hdhdhd before  242\n",
      "len of xtrain  239\n",
      "year   2004\n",
      "[1979 1992 1993 1994 1995 1997 1998 1999 2000 2003 2005 2007 2008 2009\n",
      " 2010 2011 2012 2013 2014 2015 2016 2017 2018 2019 2020]\n",
      "cv score  0.7763902763902765\n",
      "(1899,)\n",
      "no of positive  331\n",
      "len of predy  331\n"
     ]
    },
    {
     "data": {
      "image/png": "[encoded data removed]",
      "text/plain": [
       "<Figure size 432x288 with 1 Axes>"
      ]
     },
     "metadata": {
      "needs_background": "light"
     },
     "output_type": "display_data"
    },
    {
     "name": "stdout",
     "output_type": "stream",
     "text": [
      "$$$  1899   331\n",
      "total positive  331\n",
      "tp tn fp fn 0   0   0   0\n",
      "year  2004 positive  0\n",
      "actual len  15194\n",
      "len of xtest  1963\n",
      "pct_is_new                   float64\n",
      "pct_is_newish                float64\n",
      "n_biggest_anc                float64\n",
      "pct_of_biggest_anc           float64\n",
      "pct_of_secbiggest_anc_new    float64\n",
      "pct_top_5_anc                float64\n",
      "wrcr                         float64\n",
      "rcr_mid                      float64\n",
      "rcr_hi                       float64\n",
      "human                        float64\n",
      "animal                       float64\n",
      "molecular_cellular           float64\n",
      "is_clinical                  float64\n",
      "is_research_article          float64\n",
      "cited_by_clin                float64\n",
      "nih                          float64\n",
      "rage                         float64\n",
      "dtype: object\n",
      "hdhdhd before  242\n",
      "len of xtrain  235\n",
      "year   2005\n",
      "[1979 1992 1993 1994 1995 1997 1998 1999 2000 2003 2007 2008 2009 2010\n",
      " 2011 2012 2013 2014 2015 2016 2017 2018 2019 2020]\n",
      "cv score  0.7937720612720612\n",
      "(1963,)\n",
      "no of positive  339\n",
      "len of predy  339\n"
     ]
    },
    {
     "data": {
      "image/png": "[encoded data removed]",
      "text/plain": [
       "<Figure size 432x288 with 1 Axes>"
      ]
     },
     "metadata": {
      "needs_background": "light"
     },
     "output_type": "display_data"
    },
    {
     "name": "stdout",
     "output_type": "stream",
     "text": [
      "$$$  1963   339\n",
      "total positive  339\n",
      "tp tn fp fn 1   1   0   1\n",
      "year  2005 positive  2\n",
      "actual len  15905\n",
      "len of xtest  1999\n",
      "pct_is_new                   float64\n",
      "pct_is_newish                float64\n",
      "n_biggest_anc                float64\n",
      "pct_of_biggest_anc           float64\n",
      "pct_of_secbiggest_anc_new    float64\n",
      "pct_top_5_anc                float64\n",
      "wrcr                         float64\n",
      "rcr_mid                      float64\n",
      "rcr_hi                       float64\n",
      "human                        float64\n",
      "animal                       float64\n",
      "molecular_cellular           float64\n",
      "is_clinical                  float64\n",
      "is_research_article          float64\n",
      "cited_by_clin                float64\n",
      "nih                          float64\n",
      "rage                         float64\n",
      "dtype: object\n",
      "hdhdhd before  242\n",
      "len of xtrain  239\n",
      "year   2006\n",
      "[1979 1992 1993 1994 1995 1997 1998 1999 2000 2003 2005 2007 2008 2009\n",
      " 2010 2011 2012 2013 2014 2015 2016 2017 2018 2019 2020]\n",
      "cv score  0.7763902763902765\n",
      "(1999,)\n",
      "no of positive  330\n",
      "len of predy  330\n"
     ]
    },
    {
     "data": {
      "image/png": "[encoded data removed]",
      "text/plain": [
       "<Figure size 432x288 with 1 Axes>"
      ]
     },
     "metadata": {
      "needs_background": "light"
     },
     "output_type": "display_data"
    },
    {
     "name": "stdout",
     "output_type": "stream",
     "text": [
      "$$$  1999   330\n",
      "total positive  330\n",
      "tp tn fp fn 0   0   0   0\n",
      "year  2006 positive  0\n",
      "actual len  16546\n",
      "len of xtest  2033\n",
      "pct_is_new                   float64\n",
      "pct_is_newish                float64\n",
      "n_biggest_anc                float64\n",
      "pct_of_biggest_anc           float64\n",
      "pct_of_secbiggest_anc_new    float64\n",
      "pct_top_5_anc                float64\n",
      "wrcr                         float64\n",
      "rcr_mid                      float64\n",
      "rcr_hi                       float64\n",
      "human                        float64\n",
      "animal                       float64\n",
      "molecular_cellular           float64\n",
      "is_clinical                  float64\n",
      "is_research_article          float64\n",
      "cited_by_clin                float64\n",
      "nih                          float64\n",
      "rage                         float64\n",
      "dtype: object\n",
      "hdhdhd before  242\n",
      "len of xtrain  231\n",
      "year   2007\n",
      "[1979 1992 1993 1994 1995 1997 1998 1999 2000 2003 2005 2008 2009 2010\n",
      " 2011 2012 2013 2014 2015 2016 2017 2018 2019 2020]\n",
      "cv score  0.7851279276279276\n",
      "(2033,)\n",
      "no of positive  331\n",
      "len of predy  331\n"
     ]
    },
    {
     "data": {
      "image/png": "[encoded data removed]",
      "text/plain": [
       "<Figure size 432x288 with 1 Axes>"
      ]
     },
     "metadata": {
      "needs_background": "light"
     },
     "output_type": "display_data"
    },
    {
     "name": "stdout",
     "output_type": "stream",
     "text": [
      "$$$  2033   331\n",
      "total positive  331\n",
      "tp tn fp fn 3   3   0   0\n",
      "year  2007 positive  3\n",
      "actual len  17295\n",
      "len of xtest  2053\n",
      "pct_is_new                   float64\n",
      "pct_is_newish                float64\n",
      "n_biggest_anc                float64\n",
      "pct_of_biggest_anc           float64\n",
      "pct_of_secbiggest_anc_new    float64\n",
      "pct_top_5_anc                float64\n",
      "wrcr                         float64\n",
      "rcr_mid                      float64\n",
      "rcr_hi                       float64\n",
      "human                        float64\n",
      "animal                       float64\n",
      "molecular_cellular           float64\n",
      "is_clinical                  float64\n",
      "is_research_article          float64\n",
      "cited_by_clin                float64\n",
      "nih                          float64\n",
      "rage                         float64\n",
      "dtype: object\n",
      "hdhdhd before  242\n",
      "len of xtrain  237\n",
      "year   2008\n",
      "[1979 1992 1993 1994 1995 1997 1998 1999 2000 2003 2005 2007 2009 2010\n",
      " 2011 2012 2013 2014 2015 2016 2017 2018 2019 2020]\n",
      "cv score  0.7820221445221446\n",
      "(2053,)\n",
      "no of positive  235\n",
      "len of predy  235\n"
     ]
    },
    {
     "data": {
      "image/png": "[encoded data removed]",
      "text/plain": [
       "<Figure size 432x288 with 1 Axes>"
      ]
     },
     "metadata": {
      "needs_background": "light"
     },
     "output_type": "display_data"
    },
    {
     "name": "stdout",
     "output_type": "stream",
     "text": [
      "$$$  2053   235\n",
      "total positive  235\n",
      "tp tn fp fn 0   0   0   1\n",
      "year  2008 positive  1\n",
      "actual len  18046\n",
      "len of xtest  2100\n",
      "pct_is_new                   float64\n",
      "pct_is_newish                float64\n",
      "n_biggest_anc                float64\n",
      "pct_of_biggest_anc           float64\n",
      "pct_of_secbiggest_anc_new    float64\n",
      "pct_top_5_anc                float64\n",
      "wrcr                         float64\n",
      "rcr_mid                      float64\n",
      "rcr_hi                       float64\n",
      "human                        float64\n",
      "animal                       float64\n",
      "molecular_cellular           float64\n",
      "is_clinical                  float64\n",
      "is_research_article          float64\n",
      "cited_by_clin                float64\n",
      "nih                          float64\n",
      "rage                         float64\n",
      "dtype: object\n",
      "hdhdhd before  242\n",
      "len of xtrain  227\n",
      "year   2009\n",
      "[1979 1992 1993 1994 1995 1997 1998 1999 2000 2003 2005 2007 2008 2010\n",
      " 2011 2012 2013 2014 2015 2016 2017 2018 2019 2020]\n",
      "cv score  0.7698906648906648\n",
      "(2100,)\n",
      "no of positive  325\n",
      "len of predy  325\n"
     ]
    },
    {
     "data": {
      "image/png": "[encoded data removed]",
      "text/plain": [
       "<Figure size 432x288 with 1 Axes>"
      ]
     },
     "metadata": {
      "needs_background": "light"
     },
     "output_type": "display_data"
    },
    {
     "name": "stdout",
     "output_type": "stream",
     "text": [
      "$$$  2100   325\n",
      "total positive  325\n",
      "tp tn fp fn 4   1   1   1\n",
      "year  2009 positive  5\n",
      "actual len  18754\n",
      "len of xtest  2154\n",
      "pct_is_new                   float64\n",
      "pct_is_newish                float64\n",
      "n_biggest_anc                float64\n",
      "pct_of_biggest_anc           float64\n",
      "pct_of_secbiggest_anc_new    float64\n",
      "pct_top_5_anc                float64\n",
      "wrcr                         float64\n",
      "rcr_mid                      float64\n",
      "rcr_hi                       float64\n",
      "human                        float64\n",
      "animal                       float64\n",
      "molecular_cellular           float64\n",
      "is_clinical                  float64\n",
      "is_research_article          float64\n",
      "cited_by_clin                float64\n",
      "nih                          float64\n",
      "rage                         float64\n",
      "dtype: object\n",
      "hdhdhd before  242\n",
      "len of xtrain  220\n",
      "year   2010\n",
      "[1979 1992 1993 1994 1995 1997 1998 1999 2000 2003 2005 2007 2008 2009\n",
      " 2011 2012 2013 2014 2015 2016 2017 2018 2019 2020]\n",
      "cv score  0.7703432678432678\n",
      "(2154,)\n",
      "no of positive  350\n",
      "len of predy  350\n"
     ]
    },
    {
     "data": {
      "image/png": "[encoded data removed]",
      "text/plain": [
       "<Figure size 432x288 with 1 Axes>"
      ]
     },
     "metadata": {
      "needs_background": "light"
     },
     "output_type": "display_data"
    },
    {
     "name": "stdout",
     "output_type": "stream",
     "text": [
      "$$$  2154   350\n",
      "total positive  350\n",
      "tp tn fp fn 5   2   1   2\n",
      "year  2010 positive  7\n",
      "actual len  19515\n",
      "len of xtest  2204\n",
      "pct_is_new                   float64\n",
      "pct_is_newish                float64\n",
      "n_biggest_anc                float64\n",
      "pct_of_biggest_anc           float64\n",
      "pct_of_secbiggest_anc_new    float64\n",
      "pct_top_5_anc                float64\n",
      "wrcr                         float64\n",
      "rcr_mid                      float64\n",
      "rcr_hi                       float64\n",
      "human                        float64\n",
      "animal                       float64\n",
      "molecular_cellular           float64\n",
      "is_clinical                  float64\n",
      "is_research_article          float64\n",
      "cited_by_clin                float64\n",
      "nih                          float64\n",
      "rage                         float64\n",
      "dtype: object\n",
      "hdhdhd before  242\n",
      "len of xtrain  215\n",
      "year   2011\n",
      "[1979 1992 1993 1994 1995 1997 1998 1999 2000 2003 2005 2007 2008 2009\n",
      " 2010 2012 2013 2014 2015 2016 2017 2018 2019 2020]\n",
      "cv score  0.7840287490287491\n",
      "(2204,)\n",
      "no of positive  322\n",
      "len of predy  322\n"
     ]
    },
    {
     "data": {
      "image/png": "[encoded data removed]",
      "text/plain": [
       "<Figure size 432x288 with 1 Axes>"
      ]
     },
     "metadata": {
      "needs_background": "light"
     },
     "output_type": "display_data"
    },
    {
     "name": "stdout",
     "output_type": "stream",
     "text": [
      "$$$  2204   322\n",
      "total positive  322\n",
      "tp tn fp fn 8   1   1   3\n",
      "year  2011 positive  11\n",
      "actual len  20250\n",
      "len of xtest  2251\n",
      "pct_is_new                   float64\n",
      "pct_is_newish                float64\n",
      "n_biggest_anc                float64\n",
      "pct_of_biggest_anc           float64\n",
      "pct_of_secbiggest_anc_new    float64\n",
      "pct_top_5_anc                float64\n",
      "wrcr                         float64\n",
      "rcr_mid                      float64\n",
      "rcr_hi                       float64\n",
      "human                        float64\n",
      "animal                       float64\n",
      "molecular_cellular           float64\n",
      "is_clinical                  float64\n",
      "is_research_article          float64\n",
      "cited_by_clin                float64\n",
      "nih                          float64\n",
      "rage                         float64\n",
      "dtype: object\n",
      "hdhdhd before  242\n",
      "len of xtrain  219\n",
      "year   2012\n",
      "[1979 1992 1993 1994 1995 1997 1998 1999 2000 2003 2005 2007 2008 2009\n",
      " 2010 2011 2013 2014 2015 2016 2017 2018 2019 2020]\n",
      "cv score  0.7830025530025531\n",
      "(2251,)\n",
      "no of positive  207\n",
      "len of predy  207\n"
     ]
    },
    {
     "data": {
      "image/png": "[encoded data removed]",
      "text/plain": [
       "<Figure size 432x288 with 1 Axes>"
      ]
     },
     "metadata": {
      "needs_background": "light"
     },
     "output_type": "display_data"
    },
    {
     "name": "stdout",
     "output_type": "stream",
     "text": [
      "$$$  2251   207\n",
      "total positive  207\n",
      "tp tn fp fn 5   4   1   3\n",
      "year  2012 positive  8\n",
      "actual len  21177\n",
      "len of xtest  2325\n",
      "pct_is_new                   float64\n",
      "pct_is_newish                float64\n",
      "n_biggest_anc                float64\n",
      "pct_of_biggest_anc           float64\n",
      "pct_of_secbiggest_anc_new    float64\n",
      "pct_top_5_anc                float64\n",
      "wrcr                         float64\n",
      "rcr_mid                      float64\n",
      "rcr_hi                       float64\n",
      "human                        float64\n",
      "animal                       float64\n",
      "molecular_cellular           float64\n",
      "is_clinical                  float64\n",
      "is_research_article          float64\n",
      "cited_by_clin                float64\n",
      "nih                          float64\n",
      "rage                         float64\n",
      "dtype: object\n",
      "hdhdhd before  242\n",
      "len of xtrain  217\n",
      "year   2013\n",
      "[1979 1992 1993 1994 1995 1997 1998 1999 2000 2003 2005 2007 2008 2009\n",
      " 2010 2011 2012 2014 2015 2016 2017 2018 2019 2020]\n",
      "cv score  0.7703144078144079\n",
      "(2325,)\n",
      "no of positive  348\n",
      "len of predy  348\n"
     ]
    },
    {
     "data": {
      "image/png": "[encoded data removed]",
      "text/plain": [
       "<Figure size 432x288 with 1 Axes>"
      ]
     },
     "metadata": {
      "needs_background": "light"
     },
     "output_type": "display_data"
    },
    {
     "name": "stdout",
     "output_type": "stream",
     "text": [
      "$$$  2325   348\n",
      "total positive  348\n",
      "tp tn fp fn 7   5   2   1\n",
      "year  2013 positive  8\n",
      "actual len  22051\n",
      "len of xtest  2438\n",
      "pct_is_new                   float64\n",
      "pct_is_newish                float64\n",
      "n_biggest_anc                float64\n",
      "pct_of_biggest_anc           float64\n",
      "pct_of_secbiggest_anc_new    float64\n",
      "pct_top_5_anc                float64\n",
      "wrcr                         float64\n",
      "rcr_mid                      float64\n",
      "rcr_hi                       float64\n",
      "human                        float64\n",
      "animal                       float64\n",
      "molecular_cellular           float64\n",
      "is_clinical                  float64\n",
      "is_research_article          float64\n",
      "cited_by_clin                float64\n",
      "nih                          float64\n",
      "rage                         float64\n",
      "dtype: object\n",
      "hdhdhd before  242\n",
      "len of xtrain  213\n",
      "year   2014\n",
      "[1979 1992 1993 1994 1995 1997 1998 1999 2000 2003 2005 2007 2008 2009\n",
      " 2010 2011 2012 2013 2015 2016 2017 2018 2019 2020]\n",
      "cv score  0.7899841824841826\n",
      "(2438,)\n",
      "no of positive  365\n",
      "len of predy  365\n"
     ]
    },
    {
     "data": {
      "image/png": "[encoded data removed]",
      "text/plain": [
       "<Figure size 432x288 with 1 Axes>"
      ]
     },
     "metadata": {
      "needs_background": "light"
     },
     "output_type": "display_data"
    },
    {
     "name": "stdout",
     "output_type": "stream",
     "text": [
      "$$$  2438   365\n",
      "total positive  365\n",
      "tp tn fp fn 9   2   0   3\n",
      "year  2014 positive  12\n",
      "actual len  23031\n",
      "len of xtest  2483\n",
      "pct_is_new                   float64\n",
      "pct_is_newish                float64\n",
      "n_biggest_anc                float64\n",
      "pct_of_biggest_anc           float64\n",
      "pct_of_secbiggest_anc_new    float64\n",
      "pct_top_5_anc                float64\n",
      "wrcr                         float64\n",
      "rcr_mid                      float64\n",
      "rcr_hi                       float64\n",
      "human                        float64\n",
      "animal                       float64\n",
      "molecular_cellular           float64\n",
      "is_clinical                  float64\n",
      "is_research_article          float64\n",
      "cited_by_clin                float64\n",
      "nih                          float64\n",
      "rage                         float64\n",
      "dtype: object\n",
      "hdhdhd before  242\n",
      "len of xtrain  227\n",
      "year   2015\n",
      "[1979 1992 1993 1994 1995 1997 1998 1999 2000 2003 2005 2007 2008 2009\n",
      " 2010 2011 2012 2013 2014 2016 2017 2018 2019 2020]\n",
      "cv score  0.7846353646353647\n",
      "(2483,)\n",
      "no of positive  349\n",
      "len of predy  349\n"
     ]
    },
    {
     "data": {
      "image/png": "[encoded data removed]",
      "text/plain": [
       "<Figure size 432x288 with 1 Axes>"
      ]
     },
     "metadata": {
      "needs_background": "light"
     },
     "output_type": "display_data"
    },
    {
     "name": "stdout",
     "output_type": "stream",
     "text": [
      "$$$  2483   349\n",
      "total positive  349\n",
      "tp tn fp fn 3   2   2   1\n",
      "year  2015 positive  4\n",
      "actual len  23994\n",
      "len of xtest  2570\n",
      "pct_is_new                   float64\n",
      "pct_is_newish                float64\n",
      "n_biggest_anc                float64\n",
      "pct_of_biggest_anc           float64\n",
      "pct_of_secbiggest_anc_new    float64\n",
      "pct_top_5_anc                float64\n",
      "wrcr                         float64\n",
      "rcr_mid                      float64\n",
      "rcr_hi                       float64\n",
      "human                        float64\n",
      "animal                       float64\n",
      "molecular_cellular           float64\n",
      "is_clinical                  float64\n",
      "is_research_article          float64\n",
      "cited_by_clin                float64\n",
      "nih                          float64\n",
      "rage                         float64\n",
      "dtype: object\n",
      "hdhdhd before  242\n",
      "len of xtrain  227\n",
      "year   2016\n",
      "[1979 1992 1993 1994 1995 1997 1998 1999 2000 2003 2005 2007 2008 2009\n",
      " 2010 2011 2012 2013 2014 2015 2017 2018 2019 2020]\n",
      "cv score  0.779134754134754\n",
      "(2570,)\n",
      "no of positive  334\n",
      "len of predy  334\n"
     ]
    },
    {
     "data": {
      "image/png": "[encoded data removed]",
      "text/plain": [
       "<Figure size 432x288 with 1 Axes>"
      ]
     },
     "metadata": {
      "needs_background": "light"
     },
     "output_type": "display_data"
    },
    {
     "name": "stdout",
     "output_type": "stream",
     "text": [
      "$$$  2570   334\n",
      "total positive  334\n",
      "tp tn fp fn 3   1   0   3\n",
      "year  2016 positive  6\n",
      "actual len  24970\n",
      "len of xtest  2633\n",
      "pct_is_new                   float64\n",
      "pct_is_newish                float64\n",
      "n_biggest_anc                float64\n",
      "pct_of_biggest_anc           float64\n",
      "pct_of_secbiggest_anc_new    float64\n",
      "pct_top_5_anc                float64\n",
      "wrcr                         float64\n",
      "rcr_mid                      float64\n",
      "rcr_hi                       float64\n",
      "human                        float64\n",
      "animal                       float64\n",
      "molecular_cellular           float64\n",
      "is_clinical                  float64\n",
      "is_research_article          float64\n",
      "cited_by_clin                float64\n",
      "nih                          float64\n",
      "rage                         float64\n",
      "dtype: object\n",
      "hdhdhd before  242\n",
      "len of xtrain  223\n",
      "year   2017\n",
      "[1979 1992 1993 1994 1995 1997 1998 1999 2000 2003 2005 2007 2008 2009\n",
      " 2010 2011 2012 2013 2014 2015 2016 2018 2019 2020]\n",
      "cv score  0.7717493617493616\n",
      "(2633,)\n",
      "no of positive  336\n",
      "len of predy  336\n"
     ]
    },
    {
     "data": {
      "image/png": "[encoded data removed]",
      "text/plain": [
       "<Figure size 432x288 with 1 Axes>"
      ]
     },
     "metadata": {
      "needs_background": "light"
     },
     "output_type": "display_data"
    },
    {
     "name": "stdout",
     "output_type": "stream",
     "text": [
      "$$$  2633   336\n",
      "total positive  336\n",
      "tp tn fp fn 6   1   2   2\n",
      "year  2017 positive  8\n",
      "actual len  26037\n",
      "len of xtest  2722\n",
      "pct_is_new                   float64\n",
      "pct_is_newish                float64\n",
      "n_biggest_anc                float64\n",
      "pct_of_biggest_anc           float64\n",
      "pct_of_secbiggest_anc_new    float64\n",
      "pct_top_5_anc                float64\n",
      "wrcr                         float64\n",
      "rcr_mid                      float64\n",
      "rcr_hi                       float64\n",
      "human                        float64\n",
      "animal                       float64\n",
      "molecular_cellular           float64\n",
      "is_clinical                  float64\n",
      "is_research_article          float64\n",
      "cited_by_clin                float64\n",
      "nih                          float64\n",
      "rage                         float64\n",
      "dtype: object\n",
      "hdhdhd before  242\n",
      "len of xtrain  227\n",
      "year   2018\n",
      "[1979 1992 1993 1994 1995 1997 1998 1999 2000 2003 2005 2007 2008 2009\n",
      " 2010 2011 2012 2013 2014 2015 2016 2017 2019 2020]\n",
      "cv score  0.7850671550671551\n",
      "(2722,)\n",
      "no of positive  349\n",
      "len of predy  349\n"
     ]
    },
    {
     "data": {
      "image/png": "[encoded data removed]",
      "text/plain": [
       "<Figure size 432x288 with 1 Axes>"
      ]
     },
     "metadata": {
      "needs_background": "light"
     },
     "output_type": "display_data"
    },
    {
     "name": "stdout",
     "output_type": "stream",
     "text": [
      "$$$  2722   349\n",
      "total positive  349\n",
      "tp tn fp fn 5   3   1   1\n",
      "year  2018 positive  6\n",
      "actual len  27104\n",
      "len of xtest  2825\n",
      "pct_is_new                   float64\n",
      "pct_is_newish                float64\n",
      "n_biggest_anc                float64\n",
      "pct_of_biggest_anc           float64\n",
      "pct_of_secbiggest_anc_new    float64\n",
      "pct_top_5_anc                float64\n",
      "wrcr                         float64\n",
      "rcr_mid                      float64\n",
      "rcr_hi                       float64\n",
      "human                        float64\n",
      "animal                       float64\n",
      "molecular_cellular           float64\n",
      "is_clinical                  float64\n",
      "is_research_article          float64\n",
      "cited_by_clin                float64\n",
      "nih                          float64\n",
      "rage                         float64\n",
      "dtype: object\n",
      "hdhdhd before  242\n",
      "len of xtrain  225\n",
      "year   2019\n",
      "[1979 1992 1993 1994 1995 1997 1998 1999 2000 2003 2005 2007 2008 2009\n",
      " 2010 2011 2012 2013 2014 2015 2016 2017 2018 2020]\n",
      "cv score  0.7716422466422466\n",
      "(2825,)\n",
      "no of positive  419\n",
      "len of predy  419\n"
     ]
    },
    {
     "data": {
      "image/png": "[encoded data removed]",
      "text/plain": [
       "<Figure size 432x288 with 1 Axes>"
      ]
     },
     "metadata": {
      "needs_background": "light"
     },
     "output_type": "display_data"
    },
    {
     "name": "stdout",
     "output_type": "stream",
     "text": [
      "$$$  2825   419\n",
      "total positive  419\n",
      "tp tn fp fn 2   3   0   3\n",
      "year  2019 positive  5\n",
      "actual len  28585\n",
      "len of xtest  2939\n",
      "pct_is_new                   float64\n",
      "pct_is_newish                float64\n",
      "n_biggest_anc                float64\n",
      "pct_of_biggest_anc           float64\n",
      "pct_of_secbiggest_anc_new    float64\n",
      "pct_top_5_anc                float64\n",
      "wrcr                         float64\n",
      "rcr_mid                      float64\n",
      "rcr_hi                       float64\n",
      "human                        float64\n",
      "animal                       float64\n",
      "molecular_cellular           float64\n",
      "is_clinical                  float64\n",
      "is_research_article          float64\n",
      "cited_by_clin                float64\n",
      "nih                          float64\n",
      "rage                         float64\n",
      "dtype: object\n",
      "hdhdhd before  242\n",
      "len of xtrain  231\n",
      "year   2020\n",
      "[1979 1992 1993 1994 1995 1997 1998 1999 2000 2003 2005 2007 2008 2009\n",
      " 2010 2011 2012 2013 2014 2015 2016 2017 2018 2019]\n",
      "cv score  0.7862259962259962\n",
      "(2939,)\n",
      "no of positive  310\n",
      "len of predy  310\n"
     ]
    },
    {
     "data": {
      "image/png": "[encoded data removed]",
      "text/plain": [
       "<Figure size 432x288 with 1 Axes>"
      ]
     },
     "metadata": {
      "needs_background": "light"
     },
     "output_type": "display_data"
    },
    {
     "name": "stdout",
     "output_type": "stream",
     "text": [
      "$$$  2939   310\n",
      "total positive  310\n",
      "tp tn fp fn 1   3   0   3\n",
      "year  2020 positive  4\n",
      "total pos  100  true pos  67  total false pos  299.4651162790698\n"
     ]
    }
   ],
   "source": [
    "##best independent model\n",
    "##logistic regression\n",
    "def recall2(pred,th, yr):\n",
    "    data = pd.read_csv(\"data_84.csv\")\n",
    "    data = data[data['year'] == yr]\n",
    "    data = data[data['n'] > 100]\n",
    "    ll = 350\n",
    "    tot = 0\n",
    "    ress = pd.merge(data,pred,on='cluster', how = 'inner')\n",
    "    \n",
    "    tp,tn,fp, fn = 0,0,0,0\n",
    "    pred = pred.sort_values(by=['pred_log'], ascending = False)\n",
    "    res = pred.head(ll)\n",
    "    for ind in res.index:\n",
    "        cl = res['cluster'][ind]\n",
    "        dd = data[data['cluster'] == cl]\n",
    "        if len(dd) != 0:\n",
    "            dd = dd.to_numpy()\n",
    "            cls = dd[0][dd.shape[1] - 1]\n",
    "            if cls == 1:\n",
    "                tp += 1\n",
    "            else:\n",
    "                fp += 1\n",
    "        else:\n",
    "            fp += 1\n",
    "       \n",
    "    pred = pred[pred['pred_log'] >= th]\n",
    "    print(\"total positive \", ll)\n",
    "    print(\"tp fp\",tp,\" \",fp)\n",
    "    total_pos = len(ress[ress['class'] == 1])\n",
    "    print(\"year \",yr,\"positive \",total_pos)\n",
    "    \n",
    "    \n",
    "    return total_pos,tp,ll - tp\n",
    "\n",
    "def recall(pred,th, yr):\n",
    "    data = pd.read_csv(\"data_84.csv\")\n",
    "    data = data[data['year'] == yr]\n",
    "    data = data[data['n'] > 100]\n",
    "\n",
    "    tot = 0\n",
    "    res = pd.merge(data,pred,on='cluster', how = 'inner')\n",
    "    tp,tn,fp, fn = 0,0,0,0\n",
    "    for ind in res.index:\n",
    "        if res['class'][ind] == 1 and res['pred_log'][ind] >= th:\n",
    "            tp += 1\n",
    "        elif res['class'][ind] == 0 and res['pred_log'][ind] < th:\n",
    "            tn += 1\n",
    "        elif res['class'][ind] == 0 and res['pred_log'][ind] >= th:\n",
    "            fp += 1\n",
    "        elif res['class'][ind] == 1 and res['pred_log'][ind] < th:\n",
    "            fn += 1\n",
    "    pred = pred[pred['pred_log'] >= th]\n",
    "    print(\"total positive \", len(pred))\n",
    "    print(\"tp tn fp fn\",tp,\" \",tn,\" \",fp,\" \",fn)\n",
    "    total_pos = len(res[res['class'] == 1])\n",
    "    print(\"year \",yr,\"positive \",total_pos)\n",
    "    \n",
    "    \n",
    "    return total_pos,tp,len(pred[pred['pred_log'] >= th]) - tp\n",
    "\n",
    "\n",
    "def train(x_train):\n",
    "    \n",
    "    \n",
    "  \n",
    "    y_train = x_train['class']\n",
    "    \n",
    "    x_train = x_train.drop(['class','cluster','year','n','pct_dusted_ccn','pct_dusted_rmcl',\n",
    "                           'pct_in_secbiggest_anc','rcr_low','secbiggest_anc',\n",
    "                           'pct_of_biggest_anc_newish','pct_of_biggest_anc_new','n_clusts_90_anc','pct_of_secbiggest_anc'\n",
    "                           ,'pct_in_biggest_anc','biggest_anc','pct_of_secbiggest_anc_newish','n_secbiggest_anc'\n",
    "                            ], axis = 1)\n",
    "    \n",
    "    '''x_train = x_train.drop(['class','cluster','year','n','pct_dusted_ccn','pct_dusted_rmcl',\n",
    "                           'pct_in_secbiggest_anc','rcr_low','secbiggest_anc',\n",
    "                           'pct_of_biggest_anc_newish','pct_of_biggest_anc_new','n_clusts_90_anc'\n",
    "                           ,'pct_in_biggest_anc','biggest_anc','pct_of_secbiggest_anc_newish'\n",
    "                           ], axis = 1)\n",
    "    \n",
    "    x_train[['pct_of_biggest_anc','pct_is_newish','wrcr']] = minmax_scale(x_train[[\n",
    "    'pct_of_biggest_anc','pct_is_newish','wrcr']])'''\n",
    "    \n",
    "    \n",
    "    \n",
    "    '''x_train[['wrcr','rcr_hi','rcr_mid','n_biggest_anc','n_secbiggest_anc','n_clusts_90_anc','pct_of_biggest_anc_new']] = minmax_scale(x_train[['wrcr','rcr_hi','rcr_mid','n_biggest_anc','n_secbiggest_anc','n_clusts_90_anc','pct_of_biggest_anc_new']])\n",
    "    x_train = x_train.drop(['cluster','year','n','pct_is_newish','pct_dusted_ccn','pct_dusted_rmcl','biggest_anc','pct_in_biggest_anc','pct_of_biggest_anc','pct_of_biggest_anc_new','pct_of_biggest_anc_newish','secbiggest_anc'], axis = 1)#$%\n",
    "    #x_train = x_train.drop(['pct_of_biggest_anc_new','pct_of_secbiggest_anc_new','animal','pct_is_newish'], axis = 1)\n",
    "    x_train = x_train.drop(['pct_in_secbiggest_anc','pct_of_secbiggest_anc','pct_of_secbiggest_anc_newish','rcr_low','class'], axis = 1)\n",
    "    '''\n",
    "    \n",
    "    y_train = np.array(y_train)\n",
    " \n",
    "    model = LogisticRegression(random_state=0, C = 1).fit(x_train,y_train) ##logistioc\n",
    "    \n",
    "    '''crossvalidation2(x_train, y_train)\n",
    "    print(model.intercept_, model.coef_, model.score(x_train, y_train))'''\n",
    "    scores = cross_val_score(model, x_train, y_train, cv=20,scoring = \"f1\")\n",
    "    print(\"cv score \", scores.mean())\n",
    "    return model\n",
    "    \n",
    "tot,tp,total_fp = 0,0,0\n",
    "yr = 1978\n",
    "\n",
    "while yr <= 2020:\n",
    "    \n",
    "    x_train = pd.read_csv(\"data_84.csv\")\n",
    "    x_test = pd.read_csv(\"~/Documents/PhD/project_nobel/boty/boty_incites/features_prediction_\"+str(yr)+\".csv\")\n",
    "    print(\"actual len \",len(x_test))\n",
    "    x_test = x_test.dropna(axis=0)\n",
    "    \n",
    "    x_test = x_test[x_test['n'] > 100]\n",
    "    \n",
    "   \n",
    "    #x_test = x_test[x_test['n_biggest_anc'] >= 500]\n",
    "    x_test = x_test[x_test['rcr_hi'] >= 2.00]\n",
    "    x_test = x_test[x_test['cited_by_clin'] >= 0.050]\n",
    "    x_test = x_test[x_test['is_clinical'] >= 0.010] ##this one\n",
    "    x_test = x_test[x_test['animal'] >= 0.01]\n",
    "\n",
    "    #x_test = x_test[x_test['molecular_cellular'] >= 0.030] ##this one, with C = 1\n",
    "    #x_test = x_test[x_test['nih'] >= 0.025]\n",
    "    #x_test = x_test[x_test['human'] >= 0.25]\n",
    "    #x_test = x_test[x_test['rage'] >= 5]\n",
    "    #x_test = x_test[x_test['pct_is_new'] >= 0.09]\n",
    "    print(\"len of xtest \",len(x_test))\n",
    "       \n",
    "    copy_test = x_test.copy()\n",
    "    #print(x_test.tail(10))\n",
    "    \n",
    "    #x_test = x_test[x_test['is_research_article'] > 0.75]\n",
    "    \n",
    "    x_test = x_test.drop(['prediction','cluster','year','n',\n",
    "                           'pct_in_secbiggest_anc','rcr_low','secbiggest_anc',\n",
    "                           'pct_of_biggest_anc_newish','pct_of_biggest_anc_new','n_clusts_90_anc','pct_of_secbiggest_anc'\n",
    "                           ,'pct_in_biggest_anc','biggest_anc','pct_of_secbiggest_anc_newish','n_secbiggest_anc'\n",
    "                            ], axis = 1)\n",
    "    \n",
    "    '''x_test = x_test.drop(['prediction','cluster','year','n',\n",
    "                               'pct_in_secbiggest_anc','rcr_low','secbiggest_anc',\n",
    "                               'pct_of_biggest_anc_newish','pct_of_biggest_anc_new','n_clusts_90_anc'\n",
    "                               ,'pct_in_biggest_anc','biggest_anc','pct_of_secbiggest_anc_newish'\n",
    "                               ], axis = 1)\n",
    "    \n",
    "    x_test[['pct_of_biggest_anc','pct_is_newish','wrcr']] = minmax_scale(x_test[[\n",
    "    'pct_of_biggest_anc','pct_is_newish','wrcr']])'''\n",
    "    \n",
    "    print(x_test.dtypes)\n",
    "    '''x_test[['wrcr','rcr_hi','rcr_mid','n_biggest_anc','n_secbiggest_anc','n_clusts_90_anc','pct_of_biggest_anc_new']] = minmax_scale(x_test[['wrcr','rcr_hi','rcr_mid','n_biggest_anc','n_secbiggest_anc','n_clusts_90_anc','pct_of_biggest_anc_new']])\n",
    "    x_test = x_test.drop(['cluster','year','n','pct_is_newish','biggest_anc','pct_in_biggest_anc','pct_of_biggest_anc','pct_of_biggest_anc_new','pct_of_biggest_anc_newish','secbiggest_anc'], axis = 1)\n",
    "    x_test = x_test.drop(['prediction','pct_in_secbiggest_anc','pct_of_secbiggest_anc','pct_of_secbiggest_anc_newish','rcr_low'], axis=1)\n",
    "    '''\n",
    "    \n",
    "    \n",
    "    print(\"hdhdhd before \",len(x_train))\n",
    "    x_train = x_train[x_train['year'] != yr]\n",
    "    x_train = x_train[x_train['n'] > 100]\n",
    "\n",
    "    \n",
    "    #x_train = x_train[x_train['is_research_article'] > 0.75]\n",
    "    print('len of xtrain ', len(x_train))\n",
    "    print(\"year  \",yr)\n",
    "    print(x_train['year'].unique())\n",
    "\n",
    "    model = train(x_train)\n",
    "    \n",
    "    pred = model.predict(x_test)\n",
    "    print(pred.shape)\n",
    "    #print(np.sum(pred))\n",
    "    print(\"no of positive \",np.count_nonzero(pred == 1))\n",
    "    \n",
    "\n",
    "    \n",
    "    predy = model.predict_proba(x_test)\n",
    "    pred_test = []\n",
    "    for i in range(predy.shape[0]):\n",
    "        if predy[i][0] >= predy[i][1]:\n",
    "            #pred_test.append(0.00)\n",
    "            pred_test.append(predy[i][1])\n",
    "        else:\n",
    "            pred_test.append(predy[i][1])\n",
    "    \n",
    "    predy = pd.DataFrame(predy, columns = ['col_0','col_1'])\n",
    "    predy = predy[predy['col_1'] >= 0.50]\n",
    "    #print(\"len of df \", len(df))\n",
    "    print(\"len of predy \", len(predy))\n",
    "    \n",
    "    \n",
    "    \n",
    "    copy_test['pred_log'] = pred_test\n",
    "    copy_test['pred_log'].hist()\n",
    "    plt.show()\n",
    "    \n",
    "    \n",
    "    print(\"$$$ \",len(copy_test),\" \",len(copy_test[copy_test['pred_log'] >= 0.50]))\n",
    "    a, b,c = recall(copy_test,0.50, yr)\n",
    "    tot += a\n",
    "    tp += b\n",
    "    total_fp += c\n",
    "    yr += 1\n",
    "print(\"total pos \",tot,\" true pos \", tp,\" total false pos \",total_fp/43)"
   ]
  },
  {
   "cell_type": "code",
   "execution_count": null,
   "id": "ca4cb5b4",
   "metadata": {},
   "outputs": [],
   "source": []
  }
 ],
 "metadata": {
  "kernelspec": {
   "display_name": "Python 3 (ipykernel)",
   "language": "python",
   "name": "python3"
  },
  "language_info": {
   "codemirror_mode": {
    "name": "ipython",
    "version": 3
   },
   "file_extension": ".py",
   "mimetype": "text/x-python",
   "name": "python",
   "nbconvert_exporter": "python",
   "pygments_lexer": "ipython3",
   "version": "3.9.6"
  }
 },
 "nbformat": 4,
 "nbformat_minor": 5
}
