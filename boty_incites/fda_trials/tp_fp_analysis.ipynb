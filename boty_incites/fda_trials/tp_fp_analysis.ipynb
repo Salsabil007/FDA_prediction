{
 "cells": [
  {
   "cell_type": "code",
   "execution_count": 1,
   "id": "c13346ad",
   "metadata": {},
   "outputs": [
    {
     "name": "stdout",
     "output_type": "stream",
     "text": [
      "Imported version = 0.1.70.\n",
      "from featurewiz import FeatureWiz\n",
      "wiz = FeatureWiz(verbose=1)\n",
      "X_train_selected = wiz.fit_transform(X_train, y_train)\n",
      "X_test_selected = wiz.transform(X_test)\n",
      "wiz.features  ### provides a list of selected features ###\n",
      "                                \n"
     ]
    }
   ],
   "source": [
    "import pandas as pd\n",
    "import numpy as np\n",
    "from sklearn.preprocessing import StandardScaler, LabelEncoder, minmax_scale\n",
    "import seaborn as sns\n",
    "import matplotlib.pyplot as plt\n",
    "from sklearn.metrics import confusion_matrix\n",
    "import sys \n",
    "#from keras.models import Sequential\n",
    "#from keras.layers import Dense\n",
    "#from keras.utils import np_utils\n",
    "import tensorflow as tf\n",
    "#from keras.regularizers import L1L2\n",
    "from sklearn.metrics import confusion_matrix, precision_score, recall_score, f1_score, cohen_kappa_score\n",
    "from sklearn.utils import shuffle\n",
    "#from keras.callbacks import EarlyStopping\n",
    "from sklearn.linear_model import LogisticRegression\n",
    "from sklearn import svm\n",
    "from sklearn.model_selection import KFold\n",
    "from sklearn.model_selection import cross_val_score\n",
    "from featurewiz import featurewiz\n",
    "from sklearn.metrics import f1_score\n",
    "from sklearn.feature_selection import SelectKBest, f_classif, chi2, RFE\n",
    "from sklearn.feature_selection import mutual_info_classif\n",
    "np.random.seed(19680801)"
   ]
  },
  {
   "cell_type": "code",
   "execution_count": 2,
   "id": "c8f92244",
   "metadata": {},
   "outputs": [
    {
     "data": {
      "text/html": [
       "<div>\n",
       "<style scoped>\n",
       "    .dataframe tbody tr th:only-of-type {\n",
       "        vertical-align: middle;\n",
       "    }\n",
       "\n",
       "    .dataframe tbody tr th {\n",
       "        vertical-align: top;\n",
       "    }\n",
       "\n",
       "    .dataframe thead th {\n",
       "        text-align: right;\n",
       "    }\n",
       "</style>\n",
       "<table border=\"1\" class=\"dataframe\">\n",
       "  <thead>\n",
       "    <tr style=\"text-align: right;\">\n",
       "      <th></th>\n",
       "      <th>cluster</th>\n",
       "      <th>year</th>\n",
       "      <th>n</th>\n",
       "      <th>pct_is_new</th>\n",
       "      <th>pct_is_newish</th>\n",
       "      <th>pct_dusted_ccn</th>\n",
       "      <th>pct_dusted_rmcl</th>\n",
       "      <th>biggest_anc</th>\n",
       "      <th>n_biggest_anc</th>\n",
       "      <th>pct_in_biggest_anc</th>\n",
       "      <th>...</th>\n",
       "      <th>rcr_hi</th>\n",
       "      <th>human</th>\n",
       "      <th>animal</th>\n",
       "      <th>molecular_cellular</th>\n",
       "      <th>is_clinical</th>\n",
       "      <th>is_research_article</th>\n",
       "      <th>cited_by_clin</th>\n",
       "      <th>nih</th>\n",
       "      <th>rage</th>\n",
       "      <th>class</th>\n",
       "    </tr>\n",
       "  </thead>\n",
       "  <tbody>\n",
       "    <tr>\n",
       "      <th>cluster</th>\n",
       "      <td>1.000000</td>\n",
       "      <td>0.158012</td>\n",
       "      <td>-0.571076</td>\n",
       "      <td>0.175699</td>\n",
       "      <td>-0.029423</td>\n",
       "      <td>NaN</td>\n",
       "      <td>0.085670</td>\n",
       "      <td>0.884779</td>\n",
       "      <td>-0.446560</td>\n",
       "      <td>-0.433754</td>\n",
       "      <td>...</td>\n",
       "      <td>-0.477263</td>\n",
       "      <td>0.035426</td>\n",
       "      <td>-0.041086</td>\n",
       "      <td>-0.215744</td>\n",
       "      <td>0.100679</td>\n",
       "      <td>0.267701</td>\n",
       "      <td>-0.190647</td>\n",
       "      <td>-0.316759</td>\n",
       "      <td>0.126412</td>\n",
       "      <td>-0.207549</td>\n",
       "    </tr>\n",
       "    <tr>\n",
       "      <th>year</th>\n",
       "      <td>0.158012</td>\n",
       "      <td>1.000000</td>\n",
       "      <td>0.121849</td>\n",
       "      <td>-0.049400</td>\n",
       "      <td>-0.086018</td>\n",
       "      <td>NaN</td>\n",
       "      <td>-0.000369</td>\n",
       "      <td>0.169627</td>\n",
       "      <td>0.129545</td>\n",
       "      <td>0.023280</td>\n",
       "      <td>...</td>\n",
       "      <td>-0.097708</td>\n",
       "      <td>0.130017</td>\n",
       "      <td>-0.145532</td>\n",
       "      <td>-0.099124</td>\n",
       "      <td>0.130050</td>\n",
       "      <td>-0.329630</td>\n",
       "      <td>0.247810</td>\n",
       "      <td>-0.037989</td>\n",
       "      <td>0.255468</td>\n",
       "      <td>-0.001021</td>\n",
       "    </tr>\n",
       "    <tr>\n",
       "      <th>n</th>\n",
       "      <td>-0.571076</td>\n",
       "      <td>0.121849</td>\n",
       "      <td>1.000000</td>\n",
       "      <td>0.006006</td>\n",
       "      <td>0.073762</td>\n",
       "      <td>NaN</td>\n",
       "      <td>-0.062641</td>\n",
       "      <td>-0.578052</td>\n",
       "      <td>0.956051</td>\n",
       "      <td>0.170180</td>\n",
       "      <td>...</td>\n",
       "      <td>0.512232</td>\n",
       "      <td>-0.101143</td>\n",
       "      <td>0.064731</td>\n",
       "      <td>0.218039</td>\n",
       "      <td>0.053029</td>\n",
       "      <td>-0.313259</td>\n",
       "      <td>0.208037</td>\n",
       "      <td>0.434512</td>\n",
       "      <td>-0.228253</td>\n",
       "      <td>0.302371</td>\n",
       "    </tr>\n",
       "    <tr>\n",
       "      <th>pct_is_new</th>\n",
       "      <td>0.175699</td>\n",
       "      <td>-0.049400</td>\n",
       "      <td>0.006006</td>\n",
       "      <td>1.000000</td>\n",
       "      <td>0.856192</td>\n",
       "      <td>NaN</td>\n",
       "      <td>0.159273</td>\n",
       "      <td>-0.043254</td>\n",
       "      <td>0.145263</td>\n",
       "      <td>-0.818322</td>\n",
       "      <td>...</td>\n",
       "      <td>0.530608</td>\n",
       "      <td>0.155703</td>\n",
       "      <td>-0.198841</td>\n",
       "      <td>-0.041068</td>\n",
       "      <td>0.389018</td>\n",
       "      <td>-0.425468</td>\n",
       "      <td>0.166498</td>\n",
       "      <td>0.036987</td>\n",
       "      <td>-0.339907</td>\n",
       "      <td>0.405524</td>\n",
       "    </tr>\n",
       "    <tr>\n",
       "      <th>pct_is_newish</th>\n",
       "      <td>-0.029423</td>\n",
       "      <td>-0.086018</td>\n",
       "      <td>0.073762</td>\n",
       "      <td>0.856192</td>\n",
       "      <td>1.000000</td>\n",
       "      <td>NaN</td>\n",
       "      <td>0.211208</td>\n",
       "      <td>-0.028077</td>\n",
       "      <td>0.080256</td>\n",
       "      <td>-0.609085</td>\n",
       "      <td>...</td>\n",
       "      <td>0.621484</td>\n",
       "      <td>0.147506</td>\n",
       "      <td>-0.206933</td>\n",
       "      <td>-0.004130</td>\n",
       "      <td>0.123618</td>\n",
       "      <td>-0.498109</td>\n",
       "      <td>0.116625</td>\n",
       "      <td>0.052454</td>\n",
       "      <td>-0.339168</td>\n",
       "      <td>0.399872</td>\n",
       "    </tr>\n",
       "    <tr>\n",
       "      <th>pct_dusted_ccn</th>\n",
       "      <td>NaN</td>\n",
       "      <td>NaN</td>\n",
       "      <td>NaN</td>\n",
       "      <td>NaN</td>\n",
       "      <td>NaN</td>\n",
       "      <td>NaN</td>\n",
       "      <td>NaN</td>\n",
       "      <td>NaN</td>\n",
       "      <td>NaN</td>\n",
       "      <td>NaN</td>\n",
       "      <td>...</td>\n",
       "      <td>NaN</td>\n",
       "      <td>NaN</td>\n",
       "      <td>NaN</td>\n",
       "      <td>NaN</td>\n",
       "      <td>NaN</td>\n",
       "      <td>NaN</td>\n",
       "      <td>NaN</td>\n",
       "      <td>NaN</td>\n",
       "      <td>NaN</td>\n",
       "      <td>NaN</td>\n",
       "    </tr>\n",
       "    <tr>\n",
       "      <th>pct_dusted_rmcl</th>\n",
       "      <td>0.085670</td>\n",
       "      <td>-0.000369</td>\n",
       "      <td>-0.062641</td>\n",
       "      <td>0.159273</td>\n",
       "      <td>0.211208</td>\n",
       "      <td>NaN</td>\n",
       "      <td>1.000000</td>\n",
       "      <td>0.088428</td>\n",
       "      <td>-0.073206</td>\n",
       "      <td>-0.161006</td>\n",
       "      <td>...</td>\n",
       "      <td>0.091629</td>\n",
       "      <td>0.127296</td>\n",
       "      <td>-0.094155</td>\n",
       "      <td>-0.111695</td>\n",
       "      <td>-0.050371</td>\n",
       "      <td>-0.098455</td>\n",
       "      <td>-0.061539</td>\n",
       "      <td>-0.144292</td>\n",
       "      <td>-0.068150</td>\n",
       "      <td>0.022091</td>\n",
       "    </tr>\n",
       "    <tr>\n",
       "      <th>biggest_anc</th>\n",
       "      <td>0.884779</td>\n",
       "      <td>0.169627</td>\n",
       "      <td>-0.578052</td>\n",
       "      <td>-0.043254</td>\n",
       "      <td>-0.028077</td>\n",
       "      <td>NaN</td>\n",
       "      <td>0.088428</td>\n",
       "      <td>1.000000</td>\n",
       "      <td>-0.578060</td>\n",
       "      <td>-0.183452</td>\n",
       "      <td>...</td>\n",
       "      <td>-0.496011</td>\n",
       "      <td>0.003500</td>\n",
       "      <td>-0.028068</td>\n",
       "      <td>-0.190479</td>\n",
       "      <td>-0.153834</td>\n",
       "      <td>0.282594</td>\n",
       "      <td>-0.259957</td>\n",
       "      <td>-0.360128</td>\n",
       "      <td>0.193300</td>\n",
       "      <td>-0.258546</td>\n",
       "    </tr>\n",
       "    <tr>\n",
       "      <th>n_biggest_anc</th>\n",
       "      <td>-0.446560</td>\n",
       "      <td>0.129545</td>\n",
       "      <td>0.956051</td>\n",
       "      <td>0.145263</td>\n",
       "      <td>0.080256</td>\n",
       "      <td>NaN</td>\n",
       "      <td>-0.073206</td>\n",
       "      <td>-0.578060</td>\n",
       "      <td>1.000000</td>\n",
       "      <td>-0.011359</td>\n",
       "      <td>...</td>\n",
       "      <td>0.497385</td>\n",
       "      <td>-0.091469</td>\n",
       "      <td>0.055504</td>\n",
       "      <td>0.205055</td>\n",
       "      <td>0.193702</td>\n",
       "      <td>-0.314004</td>\n",
       "      <td>0.226122</td>\n",
       "      <td>0.432412</td>\n",
       "      <td>-0.268338</td>\n",
       "      <td>0.320028</td>\n",
       "    </tr>\n",
       "    <tr>\n",
       "      <th>pct_in_biggest_anc</th>\n",
       "      <td>-0.433754</td>\n",
       "      <td>0.023280</td>\n",
       "      <td>0.170180</td>\n",
       "      <td>-0.818322</td>\n",
       "      <td>-0.609085</td>\n",
       "      <td>NaN</td>\n",
       "      <td>-0.161006</td>\n",
       "      <td>-0.183452</td>\n",
       "      <td>-0.011359</td>\n",
       "      <td>1.000000</td>\n",
       "      <td>...</td>\n",
       "      <td>-0.255233</td>\n",
       "      <td>-0.079961</td>\n",
       "      <td>0.096576</td>\n",
       "      <td>0.059426</td>\n",
       "      <td>-0.337769</td>\n",
       "      <td>0.215194</td>\n",
       "      <td>-0.038000</td>\n",
       "      <td>0.076159</td>\n",
       "      <td>0.229657</td>\n",
       "      <td>-0.242352</td>\n",
       "    </tr>\n",
       "    <tr>\n",
       "      <th>pct_of_biggest_anc</th>\n",
       "      <td>-0.374819</td>\n",
       "      <td>-0.022269</td>\n",
       "      <td>0.100583</td>\n",
       "      <td>-0.582723</td>\n",
       "      <td>-0.371409</td>\n",
       "      <td>NaN</td>\n",
       "      <td>-0.163319</td>\n",
       "      <td>-0.079947</td>\n",
       "      <td>-0.116035</td>\n",
       "      <td>0.780428</td>\n",
       "      <td>...</td>\n",
       "      <td>-0.163030</td>\n",
       "      <td>-0.067406</td>\n",
       "      <td>0.056468</td>\n",
       "      <td>0.058086</td>\n",
       "      <td>-0.288576</td>\n",
       "      <td>0.214826</td>\n",
       "      <td>-0.016710</td>\n",
       "      <td>0.030687</td>\n",
       "      <td>0.205271</td>\n",
       "      <td>-0.149992</td>\n",
       "    </tr>\n",
       "    <tr>\n",
       "      <th>pct_of_biggest_anc_new</th>\n",
       "      <td>-0.015542</td>\n",
       "      <td>-0.095811</td>\n",
       "      <td>0.085200</td>\n",
       "      <td>0.790330</td>\n",
       "      <td>0.926402</td>\n",
       "      <td>NaN</td>\n",
       "      <td>0.186687</td>\n",
       "      <td>0.007522</td>\n",
       "      <td>0.062892</td>\n",
       "      <td>-0.475868</td>\n",
       "      <td>...</td>\n",
       "      <td>0.546107</td>\n",
       "      <td>0.124727</td>\n",
       "      <td>-0.208853</td>\n",
       "      <td>0.018258</td>\n",
       "      <td>0.102360</td>\n",
       "      <td>-0.396963</td>\n",
       "      <td>0.101541</td>\n",
       "      <td>0.070559</td>\n",
       "      <td>-0.312334</td>\n",
       "      <td>0.359198</td>\n",
       "    </tr>\n",
       "    <tr>\n",
       "      <th>pct_of_biggest_anc_newish</th>\n",
       "      <td>-0.075126</td>\n",
       "      <td>-0.117379</td>\n",
       "      <td>0.115648</td>\n",
       "      <td>0.762105</td>\n",
       "      <td>0.895534</td>\n",
       "      <td>NaN</td>\n",
       "      <td>0.189234</td>\n",
       "      <td>-0.060810</td>\n",
       "      <td>0.093039</td>\n",
       "      <td>-0.440194</td>\n",
       "      <td>...</td>\n",
       "      <td>0.565722</td>\n",
       "      <td>0.105281</td>\n",
       "      <td>-0.190675</td>\n",
       "      <td>0.029307</td>\n",
       "      <td>0.128879</td>\n",
       "      <td>-0.390777</td>\n",
       "      <td>0.129674</td>\n",
       "      <td>0.073480</td>\n",
       "      <td>-0.325649</td>\n",
       "      <td>0.327089</td>\n",
       "    </tr>\n",
       "    <tr>\n",
       "      <th>secbiggest_anc</th>\n",
       "      <td>0.350143</td>\n",
       "      <td>0.028242</td>\n",
       "      <td>-0.242307</td>\n",
       "      <td>-0.044520</td>\n",
       "      <td>-0.085450</td>\n",
       "      <td>NaN</td>\n",
       "      <td>0.004823</td>\n",
       "      <td>0.354491</td>\n",
       "      <td>-0.221590</td>\n",
       "      <td>-0.069854</td>\n",
       "      <td>...</td>\n",
       "      <td>-0.230132</td>\n",
       "      <td>-0.067467</td>\n",
       "      <td>0.061572</td>\n",
       "      <td>-0.043473</td>\n",
       "      <td>0.091093</td>\n",
       "      <td>0.173102</td>\n",
       "      <td>-0.030763</td>\n",
       "      <td>-0.204416</td>\n",
       "      <td>0.092254</td>\n",
       "      <td>-0.140071</td>\n",
       "    </tr>\n",
       "    <tr>\n",
       "      <th>n_secbiggest_anc</th>\n",
       "      <td>-0.274120</td>\n",
       "      <td>0.091947</td>\n",
       "      <td>0.259348</td>\n",
       "      <td>-0.025613</td>\n",
       "      <td>0.017700</td>\n",
       "      <td>NaN</td>\n",
       "      <td>-0.076457</td>\n",
       "      <td>-0.251791</td>\n",
       "      <td>0.232353</td>\n",
       "      <td>0.140014</td>\n",
       "      <td>...</td>\n",
       "      <td>0.153218</td>\n",
       "      <td>0.000864</td>\n",
       "      <td>-0.048984</td>\n",
       "      <td>0.133490</td>\n",
       "      <td>0.004592</td>\n",
       "      <td>-0.175588</td>\n",
       "      <td>0.114917</td>\n",
       "      <td>0.246873</td>\n",
       "      <td>-0.133876</td>\n",
       "      <td>0.099988</td>\n",
       "    </tr>\n",
       "    <tr>\n",
       "      <th>pct_in_secbiggest_anc</th>\n",
       "      <td>0.273297</td>\n",
       "      <td>-0.041598</td>\n",
       "      <td>-0.181289</td>\n",
       "      <td>0.182488</td>\n",
       "      <td>0.155113</td>\n",
       "      <td>NaN</td>\n",
       "      <td>0.118157</td>\n",
       "      <td>0.225657</td>\n",
       "      <td>-0.132135</td>\n",
       "      <td>-0.642928</td>\n",
       "      <td>...</td>\n",
       "      <td>-0.035300</td>\n",
       "      <td>-0.048101</td>\n",
       "      <td>0.053242</td>\n",
       "      <td>-0.021928</td>\n",
       "      <td>-0.008740</td>\n",
       "      <td>0.068191</td>\n",
       "      <td>-0.116907</td>\n",
       "      <td>-0.139797</td>\n",
       "      <td>-0.008938</td>\n",
       "      <td>-0.000552</td>\n",
       "    </tr>\n",
       "    <tr>\n",
       "      <th>pct_of_secbiggest_anc</th>\n",
       "      <td>0.207575</td>\n",
       "      <td>-0.112483</td>\n",
       "      <td>-0.210172</td>\n",
       "      <td>-0.051142</td>\n",
       "      <td>-0.043329</td>\n",
       "      <td>NaN</td>\n",
       "      <td>-0.004262</td>\n",
       "      <td>0.227719</td>\n",
       "      <td>-0.196761</td>\n",
       "      <td>-0.178586</td>\n",
       "      <td>...</td>\n",
       "      <td>-0.177044</td>\n",
       "      <td>-0.126945</td>\n",
       "      <td>0.148521</td>\n",
       "      <td>0.010037</td>\n",
       "      <td>-0.035314</td>\n",
       "      <td>0.227199</td>\n",
       "      <td>-0.125218</td>\n",
       "      <td>-0.195277</td>\n",
       "      <td>0.107218</td>\n",
       "      <td>-0.149270</td>\n",
       "    </tr>\n",
       "    <tr>\n",
       "      <th>pct_of_secbiggest_anc_new</th>\n",
       "      <td>0.066367</td>\n",
       "      <td>-0.181643</td>\n",
       "      <td>-0.022441</td>\n",
       "      <td>0.128455</td>\n",
       "      <td>0.141265</td>\n",
       "      <td>NaN</td>\n",
       "      <td>0.077442</td>\n",
       "      <td>0.041231</td>\n",
       "      <td>-0.020818</td>\n",
       "      <td>-0.176190</td>\n",
       "      <td>...</td>\n",
       "      <td>0.038992</td>\n",
       "      <td>0.018705</td>\n",
       "      <td>-0.070026</td>\n",
       "      <td>-0.026327</td>\n",
       "      <td>-0.033272</td>\n",
       "      <td>0.050780</td>\n",
       "      <td>-0.060430</td>\n",
       "      <td>-0.077270</td>\n",
       "      <td>-0.199304</td>\n",
       "      <td>-0.004742</td>\n",
       "    </tr>\n",
       "    <tr>\n",
       "      <th>pct_of_secbiggest_anc_newish</th>\n",
       "      <td>0.010645</td>\n",
       "      <td>-0.185884</td>\n",
       "      <td>0.008067</td>\n",
       "      <td>0.111770</td>\n",
       "      <td>0.140130</td>\n",
       "      <td>NaN</td>\n",
       "      <td>0.089021</td>\n",
       "      <td>0.006413</td>\n",
       "      <td>-0.000785</td>\n",
       "      <td>-0.149621</td>\n",
       "      <td>...</td>\n",
       "      <td>0.075903</td>\n",
       "      <td>0.003603</td>\n",
       "      <td>-0.074301</td>\n",
       "      <td>0.003674</td>\n",
       "      <td>-0.043124</td>\n",
       "      <td>0.041691</td>\n",
       "      <td>-0.054160</td>\n",
       "      <td>-0.069548</td>\n",
       "      <td>-0.233401</td>\n",
       "      <td>0.003672</td>\n",
       "    </tr>\n",
       "    <tr>\n",
       "      <th>n_clusts_90_anc</th>\n",
       "      <td>0.124807</td>\n",
       "      <td>0.036732</td>\n",
       "      <td>-0.063742</td>\n",
       "      <td>0.122945</td>\n",
       "      <td>0.158576</td>\n",
       "      <td>NaN</td>\n",
       "      <td>0.154455</td>\n",
       "      <td>0.118117</td>\n",
       "      <td>-0.048879</td>\n",
       "      <td>-0.157307</td>\n",
       "      <td>...</td>\n",
       "      <td>-0.003730</td>\n",
       "      <td>-0.057059</td>\n",
       "      <td>0.037659</td>\n",
       "      <td>0.057407</td>\n",
       "      <td>-0.075884</td>\n",
       "      <td>-0.062151</td>\n",
       "      <td>-0.107119</td>\n",
       "      <td>0.114497</td>\n",
       "      <td>-0.008991</td>\n",
       "      <td>-0.063869</td>\n",
       "    </tr>\n",
       "    <tr>\n",
       "      <th>pct_top_5_anc</th>\n",
       "      <td>0.019776</td>\n",
       "      <td>0.162994</td>\n",
       "      <td>-0.046125</td>\n",
       "      <td>-0.355386</td>\n",
       "      <td>-0.398968</td>\n",
       "      <td>NaN</td>\n",
       "      <td>-0.398525</td>\n",
       "      <td>0.070271</td>\n",
       "      <td>-0.049446</td>\n",
       "      <td>0.283012</td>\n",
       "      <td>...</td>\n",
       "      <td>-0.237846</td>\n",
       "      <td>-0.052685</td>\n",
       "      <td>0.041077</td>\n",
       "      <td>-0.006311</td>\n",
       "      <td>-0.053569</td>\n",
       "      <td>0.158210</td>\n",
       "      <td>-0.009120</td>\n",
       "      <td>-0.187784</td>\n",
       "      <td>0.236195</td>\n",
       "      <td>-0.117729</td>\n",
       "    </tr>\n",
       "    <tr>\n",
       "      <th>wrcr</th>\n",
       "      <td>-0.479440</td>\n",
       "      <td>0.122164</td>\n",
       "      <td>0.944045</td>\n",
       "      <td>0.140739</td>\n",
       "      <td>0.212952</td>\n",
       "      <td>NaN</td>\n",
       "      <td>-0.017347</td>\n",
       "      <td>-0.489273</td>\n",
       "      <td>0.905758</td>\n",
       "      <td>0.055557</td>\n",
       "      <td>...</td>\n",
       "      <td>0.641018</td>\n",
       "      <td>-0.016997</td>\n",
       "      <td>0.003006</td>\n",
       "      <td>0.120377</td>\n",
       "      <td>0.102592</td>\n",
       "      <td>-0.357605</td>\n",
       "      <td>0.269374</td>\n",
       "      <td>0.366311</td>\n",
       "      <td>-0.221399</td>\n",
       "      <td>0.302838</td>\n",
       "    </tr>\n",
       "    <tr>\n",
       "      <th>rcr_low</th>\n",
       "      <td>-0.159750</td>\n",
       "      <td>0.160872</td>\n",
       "      <td>0.419722</td>\n",
       "      <td>0.368647</td>\n",
       "      <td>0.252310</td>\n",
       "      <td>NaN</td>\n",
       "      <td>-0.070366</td>\n",
       "      <td>-0.298096</td>\n",
       "      <td>0.479675</td>\n",
       "      <td>-0.260287</td>\n",
       "      <td>...</td>\n",
       "      <td>0.540712</td>\n",
       "      <td>-0.199923</td>\n",
       "      <td>0.188386</td>\n",
       "      <td>0.201622</td>\n",
       "      <td>0.204692</td>\n",
       "      <td>-0.065766</td>\n",
       "      <td>0.156238</td>\n",
       "      <td>0.350870</td>\n",
       "      <td>-0.020524</td>\n",
       "      <td>0.178552</td>\n",
       "    </tr>\n",
       "    <tr>\n",
       "      <th>rcr_mid</th>\n",
       "      <td>-0.351388</td>\n",
       "      <td>-0.103659</td>\n",
       "      <td>0.421521</td>\n",
       "      <td>0.527516</td>\n",
       "      <td>0.528355</td>\n",
       "      <td>NaN</td>\n",
       "      <td>0.055399</td>\n",
       "      <td>-0.434754</td>\n",
       "      <td>0.439186</td>\n",
       "      <td>-0.302724</td>\n",
       "      <td>...</td>\n",
       "      <td>0.874319</td>\n",
       "      <td>0.065261</td>\n",
       "      <td>-0.017150</td>\n",
       "      <td>0.009921</td>\n",
       "      <td>0.288918</td>\n",
       "      <td>-0.291476</td>\n",
       "      <td>0.340617</td>\n",
       "      <td>0.221805</td>\n",
       "      <td>-0.083831</td>\n",
       "      <td>0.335860</td>\n",
       "    </tr>\n",
       "    <tr>\n",
       "      <th>rcr_hi</th>\n",
       "      <td>-0.477263</td>\n",
       "      <td>-0.097708</td>\n",
       "      <td>0.512232</td>\n",
       "      <td>0.530608</td>\n",
       "      <td>0.621484</td>\n",
       "      <td>NaN</td>\n",
       "      <td>0.091629</td>\n",
       "      <td>-0.496011</td>\n",
       "      <td>0.497385</td>\n",
       "      <td>-0.255233</td>\n",
       "      <td>...</td>\n",
       "      <td>1.000000</td>\n",
       "      <td>0.186859</td>\n",
       "      <td>-0.138573</td>\n",
       "      <td>-0.047277</td>\n",
       "      <td>0.276846</td>\n",
       "      <td>-0.521263</td>\n",
       "      <td>0.421997</td>\n",
       "      <td>0.199114</td>\n",
       "      <td>-0.212383</td>\n",
       "      <td>0.421573</td>\n",
       "    </tr>\n",
       "    <tr>\n",
       "      <th>human</th>\n",
       "      <td>0.035426</td>\n",
       "      <td>0.130017</td>\n",
       "      <td>-0.101143</td>\n",
       "      <td>0.155703</td>\n",
       "      <td>0.147506</td>\n",
       "      <td>NaN</td>\n",
       "      <td>0.127296</td>\n",
       "      <td>0.003500</td>\n",
       "      <td>-0.091469</td>\n",
       "      <td>-0.079961</td>\n",
       "      <td>...</td>\n",
       "      <td>0.186859</td>\n",
       "      <td>1.000000</td>\n",
       "      <td>-0.718888</td>\n",
       "      <td>-0.779729</td>\n",
       "      <td>0.489666</td>\n",
       "      <td>-0.516725</td>\n",
       "      <td>0.687447</td>\n",
       "      <td>-0.302377</td>\n",
       "      <td>0.127419</td>\n",
       "      <td>0.303893</td>\n",
       "    </tr>\n",
       "    <tr>\n",
       "      <th>animal</th>\n",
       "      <td>-0.041086</td>\n",
       "      <td>-0.145532</td>\n",
       "      <td>0.064731</td>\n",
       "      <td>-0.198841</td>\n",
       "      <td>-0.206933</td>\n",
       "      <td>NaN</td>\n",
       "      <td>-0.094155</td>\n",
       "      <td>-0.028068</td>\n",
       "      <td>0.055504</td>\n",
       "      <td>0.096576</td>\n",
       "      <td>...</td>\n",
       "      <td>-0.138573</td>\n",
       "      <td>-0.718888</td>\n",
       "      <td>1.000000</td>\n",
       "      <td>0.244213</td>\n",
       "      <td>-0.317264</td>\n",
       "      <td>0.398712</td>\n",
       "      <td>-0.425234</td>\n",
       "      <td>0.213242</td>\n",
       "      <td>0.180920</td>\n",
       "      <td>-0.257706</td>\n",
       "    </tr>\n",
       "    <tr>\n",
       "      <th>molecular_cellular</th>\n",
       "      <td>-0.215744</td>\n",
       "      <td>-0.099124</td>\n",
       "      <td>0.218039</td>\n",
       "      <td>-0.041068</td>\n",
       "      <td>-0.004130</td>\n",
       "      <td>NaN</td>\n",
       "      <td>-0.111695</td>\n",
       "      <td>-0.190479</td>\n",
       "      <td>0.205055</td>\n",
       "      <td>0.059426</td>\n",
       "      <td>...</td>\n",
       "      <td>-0.047277</td>\n",
       "      <td>-0.779729</td>\n",
       "      <td>0.244213</td>\n",
       "      <td>1.000000</td>\n",
       "      <td>-0.402830</td>\n",
       "      <td>0.289927</td>\n",
       "      <td>-0.537857</td>\n",
       "      <td>0.387370</td>\n",
       "      <td>-0.283230</td>\n",
       "      <td>-0.127085</td>\n",
       "    </tr>\n",
       "    <tr>\n",
       "      <th>is_clinical</th>\n",
       "      <td>0.100679</td>\n",
       "      <td>0.130050</td>\n",
       "      <td>0.053029</td>\n",
       "      <td>0.389018</td>\n",
       "      <td>0.123618</td>\n",
       "      <td>NaN</td>\n",
       "      <td>-0.050371</td>\n",
       "      <td>-0.153834</td>\n",
       "      <td>0.193702</td>\n",
       "      <td>-0.337769</td>\n",
       "      <td>...</td>\n",
       "      <td>0.276846</td>\n",
       "      <td>0.489666</td>\n",
       "      <td>-0.317264</td>\n",
       "      <td>-0.402830</td>\n",
       "      <td>1.000000</td>\n",
       "      <td>-0.470949</td>\n",
       "      <td>0.798539</td>\n",
       "      <td>-0.137964</td>\n",
       "      <td>-0.058320</td>\n",
       "      <td>0.386135</td>\n",
       "    </tr>\n",
       "    <tr>\n",
       "      <th>is_research_article</th>\n",
       "      <td>0.267701</td>\n",
       "      <td>-0.329630</td>\n",
       "      <td>-0.313259</td>\n",
       "      <td>-0.425468</td>\n",
       "      <td>-0.498109</td>\n",
       "      <td>NaN</td>\n",
       "      <td>-0.098455</td>\n",
       "      <td>0.282594</td>\n",
       "      <td>-0.314004</td>\n",
       "      <td>0.215194</td>\n",
       "      <td>...</td>\n",
       "      <td>-0.521263</td>\n",
       "      <td>-0.516725</td>\n",
       "      <td>0.398712</td>\n",
       "      <td>0.289927</td>\n",
       "      <td>-0.470949</td>\n",
       "      <td>1.000000</td>\n",
       "      <td>-0.624954</td>\n",
       "      <td>0.010792</td>\n",
       "      <td>0.180035</td>\n",
       "      <td>-0.556144</td>\n",
       "    </tr>\n",
       "    <tr>\n",
       "      <th>cited_by_clin</th>\n",
       "      <td>-0.190647</td>\n",
       "      <td>0.247810</td>\n",
       "      <td>0.208037</td>\n",
       "      <td>0.166498</td>\n",
       "      <td>0.116625</td>\n",
       "      <td>NaN</td>\n",
       "      <td>-0.061539</td>\n",
       "      <td>-0.259957</td>\n",
       "      <td>0.226122</td>\n",
       "      <td>-0.038000</td>\n",
       "      <td>...</td>\n",
       "      <td>0.421997</td>\n",
       "      <td>0.687447</td>\n",
       "      <td>-0.425234</td>\n",
       "      <td>-0.537857</td>\n",
       "      <td>0.798539</td>\n",
       "      <td>-0.624954</td>\n",
       "      <td>1.000000</td>\n",
       "      <td>-0.079724</td>\n",
       "      <td>0.042828</td>\n",
       "      <td>0.419113</td>\n",
       "    </tr>\n",
       "    <tr>\n",
       "      <th>nih</th>\n",
       "      <td>-0.316759</td>\n",
       "      <td>-0.037989</td>\n",
       "      <td>0.434512</td>\n",
       "      <td>0.036987</td>\n",
       "      <td>0.052454</td>\n",
       "      <td>NaN</td>\n",
       "      <td>-0.144292</td>\n",
       "      <td>-0.360128</td>\n",
       "      <td>0.432412</td>\n",
       "      <td>0.076159</td>\n",
       "      <td>...</td>\n",
       "      <td>0.199114</td>\n",
       "      <td>-0.302377</td>\n",
       "      <td>0.213242</td>\n",
       "      <td>0.387370</td>\n",
       "      <td>-0.137964</td>\n",
       "      <td>0.010792</td>\n",
       "      <td>-0.079724</td>\n",
       "      <td>1.000000</td>\n",
       "      <td>-0.163944</td>\n",
       "      <td>0.016337</td>\n",
       "    </tr>\n",
       "    <tr>\n",
       "      <th>rage</th>\n",
       "      <td>0.126412</td>\n",
       "      <td>0.255468</td>\n",
       "      <td>-0.228253</td>\n",
       "      <td>-0.339907</td>\n",
       "      <td>-0.339168</td>\n",
       "      <td>NaN</td>\n",
       "      <td>-0.068150</td>\n",
       "      <td>0.193300</td>\n",
       "      <td>-0.268338</td>\n",
       "      <td>0.229657</td>\n",
       "      <td>...</td>\n",
       "      <td>-0.212383</td>\n",
       "      <td>0.127419</td>\n",
       "      <td>0.180920</td>\n",
       "      <td>-0.283230</td>\n",
       "      <td>-0.058320</td>\n",
       "      <td>0.180035</td>\n",
       "      <td>0.042828</td>\n",
       "      <td>-0.163944</td>\n",
       "      <td>1.000000</td>\n",
       "      <td>-0.246588</td>\n",
       "    </tr>\n",
       "    <tr>\n",
       "      <th>class</th>\n",
       "      <td>-0.207549</td>\n",
       "      <td>-0.001021</td>\n",
       "      <td>0.302371</td>\n",
       "      <td>0.405524</td>\n",
       "      <td>0.399872</td>\n",
       "      <td>NaN</td>\n",
       "      <td>0.022091</td>\n",
       "      <td>-0.258546</td>\n",
       "      <td>0.320028</td>\n",
       "      <td>-0.242352</td>\n",
       "      <td>...</td>\n",
       "      <td>0.421573</td>\n",
       "      <td>0.303893</td>\n",
       "      <td>-0.257706</td>\n",
       "      <td>-0.127085</td>\n",
       "      <td>0.386135</td>\n",
       "      <td>-0.556144</td>\n",
       "      <td>0.419113</td>\n",
       "      <td>0.016337</td>\n",
       "      <td>-0.246588</td>\n",
       "      <td>1.000000</td>\n",
       "    </tr>\n",
       "  </tbody>\n",
       "</table>\n",
       "<p>34 rows × 34 columns</p>\n",
       "</div>"
      ],
      "text/plain": [
       "                               cluster      year         n  pct_is_new  \\\n",
       "cluster                       1.000000  0.158012 -0.571076    0.175699   \n",
       "year                          0.158012  1.000000  0.121849   -0.049400   \n",
       "n                            -0.571076  0.121849  1.000000    0.006006   \n",
       "pct_is_new                    0.175699 -0.049400  0.006006    1.000000   \n",
       "pct_is_newish                -0.029423 -0.086018  0.073762    0.856192   \n",
       "pct_dusted_ccn                     NaN       NaN       NaN         NaN   \n",
       "pct_dusted_rmcl               0.085670 -0.000369 -0.062641    0.159273   \n",
       "biggest_anc                   0.884779  0.169627 -0.578052   -0.043254   \n",
       "n_biggest_anc                -0.446560  0.129545  0.956051    0.145263   \n",
       "pct_in_biggest_anc           -0.433754  0.023280  0.170180   -0.818322   \n",
       "pct_of_biggest_anc           -0.374819 -0.022269  0.100583   -0.582723   \n",
       "pct_of_biggest_anc_new       -0.015542 -0.095811  0.085200    0.790330   \n",
       "pct_of_biggest_anc_newish    -0.075126 -0.117379  0.115648    0.762105   \n",
       "secbiggest_anc                0.350143  0.028242 -0.242307   -0.044520   \n",
       "n_secbiggest_anc             -0.274120  0.091947  0.259348   -0.025613   \n",
       "pct_in_secbiggest_anc         0.273297 -0.041598 -0.181289    0.182488   \n",
       "pct_of_secbiggest_anc         0.207575 -0.112483 -0.210172   -0.051142   \n",
       "pct_of_secbiggest_anc_new     0.066367 -0.181643 -0.022441    0.128455   \n",
       "pct_of_secbiggest_anc_newish  0.010645 -0.185884  0.008067    0.111770   \n",
       "n_clusts_90_anc               0.124807  0.036732 -0.063742    0.122945   \n",
       "pct_top_5_anc                 0.019776  0.162994 -0.046125   -0.355386   \n",
       "wrcr                         -0.479440  0.122164  0.944045    0.140739   \n",
       "rcr_low                      -0.159750  0.160872  0.419722    0.368647   \n",
       "rcr_mid                      -0.351388 -0.103659  0.421521    0.527516   \n",
       "rcr_hi                       -0.477263 -0.097708  0.512232    0.530608   \n",
       "human                         0.035426  0.130017 -0.101143    0.155703   \n",
       "animal                       -0.041086 -0.145532  0.064731   -0.198841   \n",
       "molecular_cellular           -0.215744 -0.099124  0.218039   -0.041068   \n",
       "is_clinical                   0.100679  0.130050  0.053029    0.389018   \n",
       "is_research_article           0.267701 -0.329630 -0.313259   -0.425468   \n",
       "cited_by_clin                -0.190647  0.247810  0.208037    0.166498   \n",
       "nih                          -0.316759 -0.037989  0.434512    0.036987   \n",
       "rage                          0.126412  0.255468 -0.228253   -0.339907   \n",
       "class                        -0.207549 -0.001021  0.302371    0.405524   \n",
       "\n",
       "                              pct_is_newish  pct_dusted_ccn  pct_dusted_rmcl  \\\n",
       "cluster                           -0.029423             NaN         0.085670   \n",
       "year                              -0.086018             NaN        -0.000369   \n",
       "n                                  0.073762             NaN        -0.062641   \n",
       "pct_is_new                         0.856192             NaN         0.159273   \n",
       "pct_is_newish                      1.000000             NaN         0.211208   \n",
       "pct_dusted_ccn                          NaN             NaN              NaN   \n",
       "pct_dusted_rmcl                    0.211208             NaN         1.000000   \n",
       "biggest_anc                       -0.028077             NaN         0.088428   \n",
       "n_biggest_anc                      0.080256             NaN        -0.073206   \n",
       "pct_in_biggest_anc                -0.609085             NaN        -0.161006   \n",
       "pct_of_biggest_anc                -0.371409             NaN        -0.163319   \n",
       "pct_of_biggest_anc_new             0.926402             NaN         0.186687   \n",
       "pct_of_biggest_anc_newish          0.895534             NaN         0.189234   \n",
       "secbiggest_anc                    -0.085450             NaN         0.004823   \n",
       "n_secbiggest_anc                   0.017700             NaN        -0.076457   \n",
       "pct_in_secbiggest_anc              0.155113             NaN         0.118157   \n",
       "pct_of_secbiggest_anc             -0.043329             NaN        -0.004262   \n",
       "pct_of_secbiggest_anc_new          0.141265             NaN         0.077442   \n",
       "pct_of_secbiggest_anc_newish       0.140130             NaN         0.089021   \n",
       "n_clusts_90_anc                    0.158576             NaN         0.154455   \n",
       "pct_top_5_anc                     -0.398968             NaN        -0.398525   \n",
       "wrcr                               0.212952             NaN        -0.017347   \n",
       "rcr_low                            0.252310             NaN        -0.070366   \n",
       "rcr_mid                            0.528355             NaN         0.055399   \n",
       "rcr_hi                             0.621484             NaN         0.091629   \n",
       "human                              0.147506             NaN         0.127296   \n",
       "animal                            -0.206933             NaN        -0.094155   \n",
       "molecular_cellular                -0.004130             NaN        -0.111695   \n",
       "is_clinical                        0.123618             NaN        -0.050371   \n",
       "is_research_article               -0.498109             NaN        -0.098455   \n",
       "cited_by_clin                      0.116625             NaN        -0.061539   \n",
       "nih                                0.052454             NaN        -0.144292   \n",
       "rage                              -0.339168             NaN        -0.068150   \n",
       "class                              0.399872             NaN         0.022091   \n",
       "\n",
       "                              biggest_anc  n_biggest_anc  pct_in_biggest_anc  \\\n",
       "cluster                          0.884779      -0.446560           -0.433754   \n",
       "year                             0.169627       0.129545            0.023280   \n",
       "n                               -0.578052       0.956051            0.170180   \n",
       "pct_is_new                      -0.043254       0.145263           -0.818322   \n",
       "pct_is_newish                   -0.028077       0.080256           -0.609085   \n",
       "pct_dusted_ccn                        NaN            NaN                 NaN   \n",
       "pct_dusted_rmcl                  0.088428      -0.073206           -0.161006   \n",
       "biggest_anc                      1.000000      -0.578060           -0.183452   \n",
       "n_biggest_anc                   -0.578060       1.000000           -0.011359   \n",
       "pct_in_biggest_anc              -0.183452      -0.011359            1.000000   \n",
       "pct_of_biggest_anc              -0.079947      -0.116035            0.780428   \n",
       "pct_of_biggest_anc_new           0.007522       0.062892           -0.475868   \n",
       "pct_of_biggest_anc_newish       -0.060810       0.093039           -0.440194   \n",
       "secbiggest_anc                   0.354491      -0.221590           -0.069854   \n",
       "n_secbiggest_anc                -0.251791       0.232353            0.140014   \n",
       "pct_in_secbiggest_anc            0.225657      -0.132135           -0.642928   \n",
       "pct_of_secbiggest_anc            0.227719      -0.196761           -0.178586   \n",
       "pct_of_secbiggest_anc_new        0.041231      -0.020818           -0.176190   \n",
       "pct_of_secbiggest_anc_newish     0.006413      -0.000785           -0.149621   \n",
       "n_clusts_90_anc                  0.118117      -0.048879           -0.157307   \n",
       "pct_top_5_anc                    0.070271      -0.049446            0.283012   \n",
       "wrcr                            -0.489273       0.905758            0.055557   \n",
       "rcr_low                         -0.298096       0.479675           -0.260287   \n",
       "rcr_mid                         -0.434754       0.439186           -0.302724   \n",
       "rcr_hi                          -0.496011       0.497385           -0.255233   \n",
       "human                            0.003500      -0.091469           -0.079961   \n",
       "animal                          -0.028068       0.055504            0.096576   \n",
       "molecular_cellular              -0.190479       0.205055            0.059426   \n",
       "is_clinical                     -0.153834       0.193702           -0.337769   \n",
       "is_research_article              0.282594      -0.314004            0.215194   \n",
       "cited_by_clin                   -0.259957       0.226122           -0.038000   \n",
       "nih                             -0.360128       0.432412            0.076159   \n",
       "rage                             0.193300      -0.268338            0.229657   \n",
       "class                           -0.258546       0.320028           -0.242352   \n",
       "\n",
       "                              ...    rcr_hi     human    animal  \\\n",
       "cluster                       ... -0.477263  0.035426 -0.041086   \n",
       "year                          ... -0.097708  0.130017 -0.145532   \n",
       "n                             ...  0.512232 -0.101143  0.064731   \n",
       "pct_is_new                    ...  0.530608  0.155703 -0.198841   \n",
       "pct_is_newish                 ...  0.621484  0.147506 -0.206933   \n",
       "pct_dusted_ccn                ...       NaN       NaN       NaN   \n",
       "pct_dusted_rmcl               ...  0.091629  0.127296 -0.094155   \n",
       "biggest_anc                   ... -0.496011  0.003500 -0.028068   \n",
       "n_biggest_anc                 ...  0.497385 -0.091469  0.055504   \n",
       "pct_in_biggest_anc            ... -0.255233 -0.079961  0.096576   \n",
       "pct_of_biggest_anc            ... -0.163030 -0.067406  0.056468   \n",
       "pct_of_biggest_anc_new        ...  0.546107  0.124727 -0.208853   \n",
       "pct_of_biggest_anc_newish     ...  0.565722  0.105281 -0.190675   \n",
       "secbiggest_anc                ... -0.230132 -0.067467  0.061572   \n",
       "n_secbiggest_anc              ...  0.153218  0.000864 -0.048984   \n",
       "pct_in_secbiggest_anc         ... -0.035300 -0.048101  0.053242   \n",
       "pct_of_secbiggest_anc         ... -0.177044 -0.126945  0.148521   \n",
       "pct_of_secbiggest_anc_new     ...  0.038992  0.018705 -0.070026   \n",
       "pct_of_secbiggest_anc_newish  ...  0.075903  0.003603 -0.074301   \n",
       "n_clusts_90_anc               ... -0.003730 -0.057059  0.037659   \n",
       "pct_top_5_anc                 ... -0.237846 -0.052685  0.041077   \n",
       "wrcr                          ...  0.641018 -0.016997  0.003006   \n",
       "rcr_low                       ...  0.540712 -0.199923  0.188386   \n",
       "rcr_mid                       ...  0.874319  0.065261 -0.017150   \n",
       "rcr_hi                        ...  1.000000  0.186859 -0.138573   \n",
       "human                         ...  0.186859  1.000000 -0.718888   \n",
       "animal                        ... -0.138573 -0.718888  1.000000   \n",
       "molecular_cellular            ... -0.047277 -0.779729  0.244213   \n",
       "is_clinical                   ...  0.276846  0.489666 -0.317264   \n",
       "is_research_article           ... -0.521263 -0.516725  0.398712   \n",
       "cited_by_clin                 ...  0.421997  0.687447 -0.425234   \n",
       "nih                           ...  0.199114 -0.302377  0.213242   \n",
       "rage                          ... -0.212383  0.127419  0.180920   \n",
       "class                         ...  0.421573  0.303893 -0.257706   \n",
       "\n",
       "                              molecular_cellular  is_clinical  \\\n",
       "cluster                                -0.215744     0.100679   \n",
       "year                                   -0.099124     0.130050   \n",
       "n                                       0.218039     0.053029   \n",
       "pct_is_new                             -0.041068     0.389018   \n",
       "pct_is_newish                          -0.004130     0.123618   \n",
       "pct_dusted_ccn                               NaN          NaN   \n",
       "pct_dusted_rmcl                        -0.111695    -0.050371   \n",
       "biggest_anc                            -0.190479    -0.153834   \n",
       "n_biggest_anc                           0.205055     0.193702   \n",
       "pct_in_biggest_anc                      0.059426    -0.337769   \n",
       "pct_of_biggest_anc                      0.058086    -0.288576   \n",
       "pct_of_biggest_anc_new                  0.018258     0.102360   \n",
       "pct_of_biggest_anc_newish               0.029307     0.128879   \n",
       "secbiggest_anc                         -0.043473     0.091093   \n",
       "n_secbiggest_anc                        0.133490     0.004592   \n",
       "pct_in_secbiggest_anc                  -0.021928    -0.008740   \n",
       "pct_of_secbiggest_anc                   0.010037    -0.035314   \n",
       "pct_of_secbiggest_anc_new              -0.026327    -0.033272   \n",
       "pct_of_secbiggest_anc_newish            0.003674    -0.043124   \n",
       "n_clusts_90_anc                         0.057407    -0.075884   \n",
       "pct_top_5_anc                          -0.006311    -0.053569   \n",
       "wrcr                                    0.120377     0.102592   \n",
       "rcr_low                                 0.201622     0.204692   \n",
       "rcr_mid                                 0.009921     0.288918   \n",
       "rcr_hi                                 -0.047277     0.276846   \n",
       "human                                  -0.779729     0.489666   \n",
       "animal                                  0.244213    -0.317264   \n",
       "molecular_cellular                      1.000000    -0.402830   \n",
       "is_clinical                            -0.402830     1.000000   \n",
       "is_research_article                     0.289927    -0.470949   \n",
       "cited_by_clin                          -0.537857     0.798539   \n",
       "nih                                     0.387370    -0.137964   \n",
       "rage                                   -0.283230    -0.058320   \n",
       "class                                  -0.127085     0.386135   \n",
       "\n",
       "                              is_research_article  cited_by_clin       nih  \\\n",
       "cluster                                  0.267701      -0.190647 -0.316759   \n",
       "year                                    -0.329630       0.247810 -0.037989   \n",
       "n                                       -0.313259       0.208037  0.434512   \n",
       "pct_is_new                              -0.425468       0.166498  0.036987   \n",
       "pct_is_newish                           -0.498109       0.116625  0.052454   \n",
       "pct_dusted_ccn                                NaN            NaN       NaN   \n",
       "pct_dusted_rmcl                         -0.098455      -0.061539 -0.144292   \n",
       "biggest_anc                              0.282594      -0.259957 -0.360128   \n",
       "n_biggest_anc                           -0.314004       0.226122  0.432412   \n",
       "pct_in_biggest_anc                       0.215194      -0.038000  0.076159   \n",
       "pct_of_biggest_anc                       0.214826      -0.016710  0.030687   \n",
       "pct_of_biggest_anc_new                  -0.396963       0.101541  0.070559   \n",
       "pct_of_biggest_anc_newish               -0.390777       0.129674  0.073480   \n",
       "secbiggest_anc                           0.173102      -0.030763 -0.204416   \n",
       "n_secbiggest_anc                        -0.175588       0.114917  0.246873   \n",
       "pct_in_secbiggest_anc                    0.068191      -0.116907 -0.139797   \n",
       "pct_of_secbiggest_anc                    0.227199      -0.125218 -0.195277   \n",
       "pct_of_secbiggest_anc_new                0.050780      -0.060430 -0.077270   \n",
       "pct_of_secbiggest_anc_newish             0.041691      -0.054160 -0.069548   \n",
       "n_clusts_90_anc                         -0.062151      -0.107119  0.114497   \n",
       "pct_top_5_anc                            0.158210      -0.009120 -0.187784   \n",
       "wrcr                                    -0.357605       0.269374  0.366311   \n",
       "rcr_low                                 -0.065766       0.156238  0.350870   \n",
       "rcr_mid                                 -0.291476       0.340617  0.221805   \n",
       "rcr_hi                                  -0.521263       0.421997  0.199114   \n",
       "human                                   -0.516725       0.687447 -0.302377   \n",
       "animal                                   0.398712      -0.425234  0.213242   \n",
       "molecular_cellular                       0.289927      -0.537857  0.387370   \n",
       "is_clinical                             -0.470949       0.798539 -0.137964   \n",
       "is_research_article                      1.000000      -0.624954  0.010792   \n",
       "cited_by_clin                           -0.624954       1.000000 -0.079724   \n",
       "nih                                      0.010792      -0.079724  1.000000   \n",
       "rage                                     0.180035       0.042828 -0.163944   \n",
       "class                                   -0.556144       0.419113  0.016337   \n",
       "\n",
       "                                  rage     class  \n",
       "cluster                       0.126412 -0.207549  \n",
       "year                          0.255468 -0.001021  \n",
       "n                            -0.228253  0.302371  \n",
       "pct_is_new                   -0.339907  0.405524  \n",
       "pct_is_newish                -0.339168  0.399872  \n",
       "pct_dusted_ccn                     NaN       NaN  \n",
       "pct_dusted_rmcl              -0.068150  0.022091  \n",
       "biggest_anc                   0.193300 -0.258546  \n",
       "n_biggest_anc                -0.268338  0.320028  \n",
       "pct_in_biggest_anc            0.229657 -0.242352  \n",
       "pct_of_biggest_anc            0.205271 -0.149992  \n",
       "pct_of_biggest_anc_new       -0.312334  0.359198  \n",
       "pct_of_biggest_anc_newish    -0.325649  0.327089  \n",
       "secbiggest_anc                0.092254 -0.140071  \n",
       "n_secbiggest_anc             -0.133876  0.099988  \n",
       "pct_in_secbiggest_anc        -0.008938 -0.000552  \n",
       "pct_of_secbiggest_anc         0.107218 -0.149270  \n",
       "pct_of_secbiggest_anc_new    -0.199304 -0.004742  \n",
       "pct_of_secbiggest_anc_newish -0.233401  0.003672  \n",
       "n_clusts_90_anc              -0.008991 -0.063869  \n",
       "pct_top_5_anc                 0.236195 -0.117729  \n",
       "wrcr                         -0.221399  0.302838  \n",
       "rcr_low                      -0.020524  0.178552  \n",
       "rcr_mid                      -0.083831  0.335860  \n",
       "rcr_hi                       -0.212383  0.421573  \n",
       "human                         0.127419  0.303893  \n",
       "animal                        0.180920 -0.257706  \n",
       "molecular_cellular           -0.283230 -0.127085  \n",
       "is_clinical                  -0.058320  0.386135  \n",
       "is_research_article           0.180035 -0.556144  \n",
       "cited_by_clin                 0.042828  0.419113  \n",
       "nih                          -0.163944  0.016337  \n",
       "rage                          1.000000 -0.246588  \n",
       "class                        -0.246588  1.000000  \n",
       "\n",
       "[34 rows x 34 columns]"
      ]
     },
     "execution_count": 2,
     "metadata": {},
     "output_type": "execute_result"
    }
   ],
   "source": [
    "data = pd.read_csv(\"data_84.csv\")\n",
    "data.corr()"
   ]
  },
  {
   "cell_type": "code",
   "execution_count": 3,
   "id": "3898c67e",
   "metadata": {
    "scrolled": true
   },
   "outputs": [
    {
     "name": "stdout",
     "output_type": "stream",
     "text": [
      "                           pct_is_new  pct_is_newish  n_biggest_anc  \\\n",
      "pct_is_new                   1.000000       0.944491      -0.044343   \n",
      "pct_is_newish                0.944491       1.000000      -0.021100   \n",
      "n_biggest_anc               -0.044343      -0.021100       1.000000   \n",
      "pct_of_biggest_anc          -0.497805      -0.442149       0.165535   \n",
      "n_secbiggest_anc             0.009628       0.022531       0.334137   \n",
      "pct_of_secbiggest_anc        0.083921       0.075561      -0.135367   \n",
      "pct_of_secbiggest_anc_new    0.315785       0.322555       0.034598   \n",
      "pct_top_5_anc               -0.659848      -0.623264       0.055103   \n",
      "wrcr                         0.034831       0.059083       0.913371   \n",
      "rcr_mid                      0.348472       0.366712       0.660139   \n",
      "rcr_hi                       0.375248       0.376276       0.664355   \n",
      "human                        0.033642       0.042392      -0.003506   \n",
      "animal                      -0.118826      -0.126191       0.024838   \n",
      "molecular_cellular           0.022813       0.021531       0.105498   \n",
      "is_clinical                  0.102954       0.112117       0.190299   \n",
      "is_research_article         -0.253732      -0.275200      -0.049519   \n",
      "cited_by_clin                0.004562       0.021542       0.420650   \n",
      "nih                          0.109767       0.117095       0.324972   \n",
      "rage                        -0.221780      -0.225946      -0.221086   \n",
      "pred_log                     0.601541       0.616862       0.384992   \n",
      "\n",
      "                           pct_of_biggest_anc  n_secbiggest_anc  \\\n",
      "pct_is_new                          -0.497805          0.009628   \n",
      "pct_is_newish                       -0.442149          0.022531   \n",
      "n_biggest_anc                        0.165535          0.334137   \n",
      "pct_of_biggest_anc                   1.000000          0.182701   \n",
      "n_secbiggest_anc                     0.182701          1.000000   \n",
      "pct_of_secbiggest_anc               -0.250476         -0.301496   \n",
      "pct_of_secbiggest_anc_new           -0.171408         -0.088733   \n",
      "pct_top_5_anc                        0.574880          0.017366   \n",
      "wrcr                                 0.138605          0.296597   \n",
      "rcr_mid                              0.038156          0.377600   \n",
      "rcr_hi                               0.028138          0.376665   \n",
      "human                               -0.008641          0.008029   \n",
      "animal                               0.058886          0.019764   \n",
      "molecular_cellular                  -0.009016          0.097597   \n",
      "is_clinical                         -0.011046          0.127922   \n",
      "is_research_article                  0.154103         -0.003523   \n",
      "cited_by_clin                        0.085618          0.252529   \n",
      "nih                                 -0.013791          0.231599   \n",
      "rage                                 0.062335         -0.149087   \n",
      "pred_log                            -0.279696          0.180595   \n",
      "\n",
      "                           pct_of_secbiggest_anc  pct_of_secbiggest_anc_new  \\\n",
      "pct_is_new                              0.083921                   0.315785   \n",
      "pct_is_newish                           0.075561                   0.322555   \n",
      "n_biggest_anc                          -0.135367                   0.034598   \n",
      "pct_of_biggest_anc                     -0.250476                  -0.171408   \n",
      "n_secbiggest_anc                       -0.301496                  -0.088733   \n",
      "pct_of_secbiggest_anc                   1.000000                   0.134088   \n",
      "pct_of_secbiggest_anc_new               0.134088                   1.000000   \n",
      "pct_top_5_anc                          -0.075239                  -0.235011   \n",
      "wrcr                                   -0.113019                   0.061477   \n",
      "rcr_mid                                -0.131722                   0.102080   \n",
      "rcr_hi                                 -0.126610                   0.110491   \n",
      "human                                   0.038178                  -0.001208   \n",
      "animal                                 -0.035379                  -0.072713   \n",
      "molecular_cellular                     -0.058612                   0.034934   \n",
      "is_clinical                            -0.014137                   0.031088   \n",
      "is_research_article                    -0.063128                  -0.122088   \n",
      "cited_by_clin                          -0.065642                   0.010011   \n",
      "nih                                    -0.076586                   0.052085   \n",
      "rage                                    0.044072                  -0.123060   \n",
      "pred_log                                0.076578                   0.260762   \n",
      "\n",
      "                           pct_top_5_anc      wrcr   rcr_mid    rcr_hi  \\\n",
      "pct_is_new                     -0.659848  0.034831  0.348472  0.375248   \n",
      "pct_is_newish                  -0.623264  0.059083  0.366712  0.376276   \n",
      "n_biggest_anc                   0.055103  0.913371  0.660139  0.664355   \n",
      "pct_of_biggest_anc              0.574880  0.138605  0.038156  0.028138   \n",
      "n_secbiggest_anc                0.017366  0.296597  0.377600  0.376665   \n",
      "pct_of_secbiggest_anc          -0.075239 -0.113019 -0.131722 -0.126610   \n",
      "pct_of_secbiggest_anc_new      -0.235011  0.061477  0.102080  0.110491   \n",
      "pct_top_5_anc                   1.000000 -0.010080 -0.191656 -0.201958   \n",
      "wrcr                           -0.010080  1.000000  0.680785  0.679787   \n",
      "rcr_mid                        -0.191656  0.680785  1.000000  0.903200   \n",
      "rcr_hi                         -0.201958  0.679787  0.903200  1.000000   \n",
      "human                           0.030490 -0.005334 -0.100693  0.036008   \n",
      "animal                          0.038055  0.015590  0.120262  0.010412   \n",
      "molecular_cellular             -0.101631  0.099898  0.197190  0.082370   \n",
      "is_clinical                    -0.072466  0.180890  0.183025  0.238708   \n",
      "is_research_article             0.189446 -0.077787  0.012658 -0.077158   \n",
      "cited_by_clin                  -0.014843  0.383927  0.359038  0.445968   \n",
      "nih                            -0.183042  0.321694  0.391510  0.365374   \n",
      "rage                            0.157087 -0.197784 -0.197657 -0.249012   \n",
      "pred_log                       -0.405022  0.398887  0.455795  0.570459   \n",
      "\n",
      "                              human    animal  molecular_cellular  \\\n",
      "pct_is_new                 0.033642 -0.118826            0.022813   \n",
      "pct_is_newish              0.042392 -0.126191            0.021531   \n",
      "n_biggest_anc             -0.003506  0.024838            0.105498   \n",
      "pct_of_biggest_anc        -0.008641  0.058886           -0.009016   \n",
      "n_secbiggest_anc           0.008029  0.019764            0.097597   \n",
      "pct_of_secbiggest_anc      0.038178 -0.035379           -0.058612   \n",
      "pct_of_secbiggest_anc_new -0.001208 -0.072713            0.034934   \n",
      "pct_top_5_anc              0.030490  0.038055           -0.101631   \n",
      "wrcr                      -0.005334  0.015590            0.099898   \n",
      "rcr_mid                   -0.100693  0.120262            0.197190   \n",
      "rcr_hi                     0.036008  0.010412            0.082370   \n",
      "human                      1.000000 -0.649714           -0.722397   \n",
      "animal                    -0.649714  1.000000            0.181303   \n",
      "molecular_cellular        -0.722397  0.181303            1.000000   \n",
      "is_clinical                0.351712 -0.151902           -0.257452   \n",
      "is_research_article       -0.410996  0.268312            0.287586   \n",
      "cited_by_clin              0.483277 -0.175481           -0.341178   \n",
      "nih                       -0.195386  0.148288            0.344905   \n",
      "rage                       0.090269  0.119309           -0.209802   \n",
      "pred_log                   0.458024 -0.459437           -0.148544   \n",
      "\n",
      "                           is_clinical  is_research_article  cited_by_clin  \\\n",
      "pct_is_new                    0.102954            -0.253732       0.004562   \n",
      "pct_is_newish                 0.112117            -0.275200       0.021542   \n",
      "n_biggest_anc                 0.190299            -0.049519       0.420650   \n",
      "pct_of_biggest_anc           -0.011046             0.154103       0.085618   \n",
      "n_secbiggest_anc              0.127922            -0.003523       0.252529   \n",
      "pct_of_secbiggest_anc        -0.014137            -0.063128      -0.065642   \n",
      "pct_of_secbiggest_anc_new     0.031088            -0.122088       0.010011   \n",
      "pct_top_5_anc                -0.072466             0.189446      -0.014843   \n",
      "wrcr                          0.180890            -0.077787       0.383927   \n",
      "rcr_mid                       0.183025             0.012658       0.359038   \n",
      "rcr_hi                        0.238708            -0.077158       0.445968   \n",
      "human                         0.351712            -0.410996       0.483277   \n",
      "animal                       -0.151902             0.268312      -0.175481   \n",
      "molecular_cellular           -0.257452             0.287586      -0.341178   \n",
      "is_clinical                   1.000000            -0.233747       0.797774   \n",
      "is_research_article          -0.233747             1.000000      -0.248000   \n",
      "cited_by_clin                 0.797774            -0.248000       1.000000   \n",
      "nih                           0.004116            -0.060082       0.135882   \n",
      "rage                         -0.085838            -0.000469      -0.099959   \n",
      "pred_log                      0.465565            -0.469264       0.549034   \n",
      "\n",
      "                                nih      rage  pred_log  \n",
      "pct_is_new                 0.109767 -0.221780  0.601541  \n",
      "pct_is_newish              0.117095 -0.225946  0.616862  \n",
      "n_biggest_anc              0.324972 -0.221086  0.384992  \n",
      "pct_of_biggest_anc        -0.013791  0.062335 -0.279696  \n",
      "n_secbiggest_anc           0.231599 -0.149087  0.180595  \n",
      "pct_of_secbiggest_anc     -0.076586  0.044072  0.076578  \n",
      "pct_of_secbiggest_anc_new  0.052085 -0.123060  0.260762  \n",
      "pct_top_5_anc             -0.183042  0.157087 -0.405022  \n",
      "wrcr                       0.321694 -0.197784  0.398887  \n",
      "rcr_mid                    0.391510 -0.197657  0.455795  \n",
      "rcr_hi                     0.365374 -0.249012  0.570459  \n",
      "human                     -0.195386  0.090269  0.458024  \n",
      "animal                     0.148288  0.119309 -0.459437  \n",
      "molecular_cellular         0.344905 -0.209802 -0.148544  \n",
      "is_clinical                0.004116 -0.085838  0.465565  \n",
      "is_research_article       -0.060082 -0.000469 -0.469264  \n",
      "cited_by_clin              0.135882 -0.099959  0.549034  \n",
      "nih                        1.000000 -0.253872  0.237046  \n",
      "rage                      -0.253872  1.000000 -0.540165  \n",
      "pred_log                   0.237046 -0.540165  1.000000  \n",
      "0.0406011797867955\n"
     ]
    }
   ],
   "source": [
    "data = pd.read_csv(\"data_84.csv\")\n",
    "data = data[data['n'] > 100]\n",
    "d1 = data[data['class'] == 1]\n",
    "d0 = data[data['class'] == 0]\n",
    "\n",
    "data2 = pd.read_csv(\"xx_2020.csv\")\n",
    "\n",
    "data2 = data2[data2['cluster'] != 822]\n",
    "data2 = data2[data2['cluster'] != 4139]\n",
    "data2 = data2.drop(['cluster','year','n','pct_in_secbiggest_anc','rcr_low','secbiggest_anc',\n",
    "                           'pct_of_biggest_anc_newish','pct_of_biggest_anc_new','n_clusts_90_anc'\n",
    "                           ,'pct_in_biggest_anc','biggest_anc','pct_of_secbiggest_anc_newish','prediction'], axis = 1)\n",
    "\n",
    "\n",
    "data3 = pd.read_csv(\"xx_2019.csv\")\n",
    "\n",
    "data3 = data3[data3['cluster'] != 1341]\n",
    "data3 = data3[data3['cluster'] != 11637]\n",
    "data3 = data3[data3['cluster'] != 1985]\n",
    "data3 = data3[data3['cluster'] != 2163]\n",
    "data3 = data3.drop(['cluster','year','n','pct_in_secbiggest_anc','rcr_low','secbiggest_anc',\n",
    "                           'pct_of_biggest_anc_newish','pct_of_biggest_anc_new','n_clusts_90_anc'\n",
    "                           ,'pct_in_biggest_anc','biggest_anc','pct_of_secbiggest_anc_newish','prediction'], axis = 1)\n",
    "\n",
    "print(data3.corr())\n",
    "data4 = pd.read_csv(\"xx_2018.csv\")\n",
    "print(data4['rcr_low'].median())\n",
    "data4 = data4[data4['cluster'] != 441]\n",
    "data4 = data4[data4['cluster'] != 2623]\n",
    "data4 = data4[data4['cluster'] != 11807]\n",
    "data4 = data4[data4['cluster'] != 21419]\n",
    "data4 = data4.drop(['cluster','year','n','pct_in_secbiggest_anc','rcr_low','secbiggest_anc',\n",
    "                           'pct_of_biggest_anc_newish','pct_of_biggest_anc_new','n_clusts_90_anc'\n",
    "                           ,'pct_in_biggest_anc','biggest_anc','pct_of_secbiggest_anc_newish','prediction'], axis = 1)\n",
    "\n"
   ]
  },
  {
   "cell_type": "code",
   "execution_count": 4,
   "id": "c53cae32",
   "metadata": {},
   "outputs": [
    {
     "name": "stdout",
     "output_type": "stream",
     "text": [
      "63939   22228   21197   20514\n"
     ]
    }
   ],
   "source": [
    "dd = pd.concat([data2, data3], axis=0)\n",
    "dd = pd.concat([dd, data4], axis=0)\n",
    "print(len(dd),\" \",len(data2),\" \",len(data3),\" \", len(data4))\n",
    "dd.corr()\n",
    "ddh = dd[dd['pred_log'] > 0.70]"
   ]
  },
  {
   "cell_type": "code",
   "execution_count": 5,
   "id": "24ab4cad",
   "metadata": {
    "scrolled": true
   },
   "outputs": [
    {
     "name": "stdout",
     "output_type": "stream",
     "text": [
      "139\n",
      "0.6615782889190448\n",
      "0.4992861269431743\n",
      "0.7985500906961734\n"
     ]
    }
   ],
   "source": [
    "print(len(d1[d1['human'] >= 0.020]))\n",
    "print(d1['human'].mean())\n",
    "print(d0['human'].mean())\n",
    "d = dd[dd['pred_log'] > 0.75]\n",
    "print(d['human'].mean())"
   ]
  },
  {
   "cell_type": "code",
   "execution_count": 6,
   "id": "d2e609ac",
   "metadata": {},
   "outputs": [
    {
     "name": "stdout",
     "output_type": "stream",
     "text": [
      "139\n",
      "129\n",
      "0.3139763005804777\n",
      "0.19447812104544823\n",
      "0.3002365114722526\n",
      "755\n"
     ]
    }
   ],
   "source": [
    "print(len(d1))\n",
    "print(len(d1[d1['cited_by_clin'] >= 0.1]))\n",
    "print(d1['cited_by_clin'].mean())\n",
    "print(d0['cited_by_clin'].mean())\n",
    "d = dd[dd['pred_log'] > 0.75]\n",
    "print(d['cited_by_clin'].mean())\n",
    "print(len(d[d['cited_by_clin'] < 0.1]))"
   ]
  },
  {
   "cell_type": "code",
   "execution_count": 35,
   "id": "ac650d15",
   "metadata": {},
   "outputs": [
    {
     "name": "stdout",
     "output_type": "stream",
     "text": [
      "117\n",
      "3.360497019995197\n",
      "2.5996143195839845\n",
      "3.0720042366859865\n",
      "945\n"
     ]
    }
   ],
   "source": [
    "print(len(d1[d1['rcr_hi'] > 2.50]))\n",
    "print(d1['rcr_hi'].mean())\n",
    "print(d0['rcr_hi'].mean())\n",
    "d = dd[dd['pred_log'] > 0.75]\n",
    "print(d['rcr_hi'].mean())\n",
    "print(len(d[d['rcr_hi'] <= 2.00]))"
   ]
  },
  {
   "cell_type": "code",
   "execution_count": 43,
   "id": "b72465af",
   "metadata": {},
   "outputs": [
    {
     "name": "stdout",
     "output_type": "stream",
     "text": [
      "124\n",
      "0.191511387163561\n",
      "0.08446150930062704\n",
      "0.259259259259259\n",
      "503\n"
     ]
    }
   ],
   "source": [
    "print(len(d1[d1['pct_is_new'] <= 0.50]))\n",
    "print(d1['pct_is_new'].median())\n",
    "print(d0['pct_is_new'].median())\n",
    "d = dd[dd['pred_log'] > 0.75]\n",
    "print(d['pct_is_new'].median())\n",
    "print(len(d[d['pct_is_new'] > 0.50]))"
   ]
  },
  {
   "cell_type": "code",
   "execution_count": 9,
   "id": "1e15b297",
   "metadata": {},
   "outputs": [
    {
     "name": "stdout",
     "output_type": "stream",
     "text": [
      "0.181515957446809\n",
      "0.07999358839235525\n",
      "0.235321695485508\n"
     ]
    }
   ],
   "source": [
    "print(d1['pct_is_newish'].median())\n",
    "print(d0['pct_is_newish'].median())\n",
    "d = dd[dd['pred_log'] > 0.75]\n",
    "print(d['pct_is_newish'].median())"
   ]
  },
  {
   "cell_type": "code",
   "execution_count": 10,
   "id": "8fce6ef8",
   "metadata": {},
   "outputs": [
    {
     "name": "stdout",
     "output_type": "stream",
     "text": [
      "120\n",
      "2669.0\n",
      "2065.0\n",
      "661.5\n"
     ]
    }
   ],
   "source": [
    "print(len(d1[d1['n_biggest_anc'] >= 300]))\n",
    "print(d1['n_biggest_anc'].median())\n",
    "print(d0['n_biggest_anc'].median())\n",
    "d = dd[dd['pred_log'] > 0.75]\n",
    "print(d['n_biggest_anc'].median())"
   ]
  },
  {
   "cell_type": "code",
   "execution_count": 11,
   "id": "827041ca",
   "metadata": {},
   "outputs": [
    {
     "name": "stdout",
     "output_type": "stream",
     "text": [
      "0.948643410852713\n",
      "0.9622801199532045\n",
      "0.8955495748851026\n"
     ]
    }
   ],
   "source": [
    "print(d1['pct_of_biggest_anc'].median())\n",
    "print(d0['pct_of_biggest_anc'].median())\n",
    "d = data2[data2['pred_log'] > 0.75]\n",
    "print(d['pct_of_biggest_anc'].median())"
   ]
  },
  {
   "cell_type": "code",
   "execution_count": 12,
   "id": "fcc6d962",
   "metadata": {},
   "outputs": [
    {
     "name": "stdout",
     "output_type": "stream",
     "text": [
      "122\n",
      "3.42451246635554\n",
      "7.676822355712575\n",
      "4.751392716077815\n",
      "2564\n",
      "     cluster  year     n  pct_is_new  pct_is_newish  pct_dusted_ccn  \\\n",
      "236     8803  2014   381    0.551181       0.404199               0   \n",
      "239      280  2014  5899    0.093745       0.092728               0   \n",
      "244      315  2014  5716    0.199265       0.180196               0   \n",
      "248     1436  2015  3135    0.101116       0.086124               0   \n",
      "250     1693  2015  2822    0.132176       0.117647               0   \n",
      "256     4054  2015  1335    0.457678       0.343071               0   \n",
      "257      750  2015  4279    0.264080       0.266651               0   \n",
      "259     4337  2016  1302    0.157450       0.133641               0   \n",
      "261      314  2016  6001    0.143809       0.134478               0   \n",
      "263      319  2017  6072    0.147563       0.135870               0   \n",
      "265      235  2017  6508    0.583743       0.398125               0   \n",
      "269      698  2017  4717    0.043672       0.041976               0   \n",
      "271     2623  2018  2307    0.149111       0.119202               0   \n",
      "273      441  2018  5793    0.139651       0.136026               0   \n",
      "277    11807  2018   293    0.532423       0.372014               0   \n",
      "282     1341  2019  3945    0.033714       0.031686               0   \n",
      "283    11637  2019   323    0.318885       0.269350               0   \n",
      "286     2163  2019  2825    0.241770       0.209558               0   \n",
      "288      822  2020  4921    0.186954       0.163381               0   \n",
      "291     4139  2020  1743    0.483075       0.400459               0   \n",
      "\n",
      "     pct_dusted_rmcl  biggest_anc  n_biggest_anc  pct_in_biggest_anc  ...  \\\n",
      "236         0.034121        14591            138            0.225722  ...   \n",
      "239         0.014748          302           5574            0.929141  ...   \n",
      "244         0.022393          382           5174            0.887159  ...   \n",
      "248         0.001276         1493           2942            0.911005  ...   \n",
      "250         0.001063         1717           2669            0.915663  ...   \n",
      "256         0.003745         4783           1008            0.713858  ...   \n",
      "257         0.002103          667           4334            0.666043  ...   \n",
      "259         0.000000         3855           1414            0.828725  ...   \n",
      "261         0.012831          362           5603            0.904016  ...   \n",
      "263         0.000823          372           5727            0.895257  ...   \n",
      "265         0.013675          749           4436            0.569914  ...   \n",
      "269         0.000000          676           4621            0.968836  ...   \n",
      "271         0.000433         2801           2099            0.896836  ...   \n",
      "273         0.014155          489           5424            0.909373  ...   \n",
      "277         0.000000        17558            131            0.354949  ...   \n",
      "282         0.008365         1286           3874            0.971863  ...   \n",
      "283         0.003096        12694            255            0.687307  ...   \n",
      "286         0.000708         2413           2484            0.823717  ...   \n",
      "288         0.000610          609           5360            0.821175  ...   \n",
      "291         0.045324         9092            508            0.255881  ...   \n",
      "\n",
      "       rcr_hi     human    animal  molecular_cellular  is_clinical  \\\n",
      "236  2.742703  0.805564  0.061811            0.124724     0.107612   \n",
      "239  3.182992  0.559417  0.105482            0.333392     0.042041   \n",
      "244  4.277654  0.700614  0.109487            0.170066     0.026767   \n",
      "248  3.060600  0.943467  0.020683            0.025949     0.038915   \n",
      "250  2.983618  0.723140  0.225680            0.041860     0.144224   \n",
      "256  6.116288  0.582217  0.219483            0.162127     0.165543   \n",
      "257  3.465757  0.752631  0.049649            0.186558     0.175742   \n",
      "259  2.723602  0.887673  0.070822            0.024570     0.196621   \n",
      "261  2.770353  0.666817  0.033196            0.294211     0.104816   \n",
      "263  3.608291  0.716653  0.117528            0.159960     0.125494   \n",
      "265  6.550955  0.529554  0.127727            0.321716     0.053319   \n",
      "269  3.004074  0.738069  0.115849            0.133538     0.283867   \n",
      "271  2.151464  0.820767  0.002566            0.172757     0.069354   \n",
      "273  4.109515  0.683913  0.148574            0.154666     0.113067   \n",
      "277  5.060390  0.460580  0.056826            0.455256     0.075085   \n",
      "282  3.188632  0.875508  0.089693            0.021098     0.130038   \n",
      "283  2.177646  0.803591  0.009071            0.168793     0.080495   \n",
      "286  2.785200  0.339795  0.147179            0.499844     0.066903   \n",
      "288  3.459224  0.292782  0.223818            0.472176     0.038407   \n",
      "291  5.978936  0.422840  0.054848            0.490034     0.067126   \n",
      "\n",
      "     is_research_article  cited_by_clin       nih      rage  class  \n",
      "236             0.627297       0.251969  0.165354  6.532626      1  \n",
      "239             0.786913       0.346330  0.477708  6.371021      1  \n",
      "244             0.799335       0.283415  0.102169  6.751952      1  \n",
      "248             0.787241       0.336204  0.067305  9.416034      1  \n",
      "250             0.771793       0.427356  0.014529  8.436536      1  \n",
      "256             0.698127       0.328839  0.098876  6.776821      1  \n",
      "257             0.682169       0.462491  0.197710  5.959198      1  \n",
      "259             0.699693       0.490015  0.054531  8.485639      1  \n",
      "261             0.733711       0.459923  0.185969  6.541350      1  \n",
      "263             0.737484       0.517787  0.069005  7.488534      1  \n",
      "265             0.638291       0.245698  0.270129  5.439450      1  \n",
      "269             0.860081       0.682425  0.035616  8.744342      1  \n",
      "271             0.770264       0.398786  0.039445  6.725384      1  \n",
      "273             0.851545       0.539272  0.184878  9.957438      1  \n",
      "277             0.836177       0.232082  0.051195  5.507021      1  \n",
      "282             0.835741       0.531305  0.096071  8.068011      1  \n",
      "283             0.705882       0.244582  0.061920  6.488367      1  \n",
      "286             0.768142       0.206726  0.240354  6.802819      1  \n",
      "288             0.767730       0.189596  0.257265  7.077455      1  \n",
      "291             0.787722       0.212278  0.084911  5.684465      1  \n",
      "\n",
      "[20 rows x 34 columns]\n"
     ]
    }
   ],
   "source": [
    "print(len(d1[d1['rage'] >= 5.00]))\n",
    "\n",
    "print(d1['rage'].min())\n",
    "print(d0['rage'].median())\n",
    "d = dd[dd['pred_log'] > 0.75]\n",
    "print(d['rage'].median())\n",
    "print(len(d[d['rage'] < 5]))\n",
    "\n",
    "df = d1[d1['rage'] >= 5.00]\n",
    "print(df.tail(20))"
   ]
  },
  {
   "cell_type": "code",
   "execution_count": 47,
   "id": "29fb4b4d",
   "metadata": {},
   "outputs": [
    {
     "name": "stdout",
     "output_type": "stream",
     "text": [
      "118\n",
      "0.10439275034131415\n",
      "0.03158050066749413\n",
      "0.07969805140048392\n",
      "740\n"
     ]
    }
   ],
   "source": [
    "print(len(d1[d1['is_clinical'] >= 0.020]))\n",
    "print(d1['is_clinical'].mean())\n",
    "print(d0['is_clinical'].mean())\n",
    "d = dd[dd['pred_log'] > 0.75]\n",
    "print(d['is_clinical'].mean())\n",
    "print(len(d[d['is_clinical'] < 0.015]))"
   ]
  },
  {
   "cell_type": "code",
   "execution_count": 14,
   "id": "d1bb0fd4",
   "metadata": {},
   "outputs": [
    {
     "name": "stdout",
     "output_type": "stream",
     "text": [
      "0.689622332432986\n",
      "0.6070329053518465\n",
      "0.664509997248611\n"
     ]
    }
   ],
   "source": [
    "#print(len(data[data['rcr_mid'] >= 0.045]))\n",
    "print(d1['rcr_mid'].median())\n",
    "print(d0['rcr_mid'].median())\n",
    "d = data2[data2['pred_log'] > 0.75]\n",
    "print(d['rcr_mid'].median())"
   ]
  },
  {
   "cell_type": "code",
   "execution_count": 15,
   "id": "fd2c73b5",
   "metadata": {},
   "outputs": [
    {
     "name": "stdout",
     "output_type": "stream",
     "text": [
      "0.970748898678414\n",
      "0.983296130952381\n",
      "0.9515902037117066\n"
     ]
    }
   ],
   "source": [
    "print(d1['pct_top_5_anc'].median())\n",
    "print(d0['pct_top_5_anc'].median())\n",
    "d = dd[dd['pred_log'] > 0.75]\n",
    "print(d['pct_top_5_anc'].median())"
   ]
  },
  {
   "cell_type": "code",
   "execution_count": 16,
   "id": "3029a0f5",
   "metadata": {},
   "outputs": [
    {
     "name": "stdout",
     "output_type": "stream",
     "text": [
      "122\n",
      "0.0857692307692308\n",
      "0.141416102841678\n",
      "0.0205392033542977\n",
      "2071\n"
     ]
    }
   ],
   "source": [
    "print(len(d1[d1['animal'] >= 0.020]))\n",
    "print(d1['animal'].median())\n",
    "print(d0['animal'].median())\n",
    "d = dd[dd['pred_log'] > 0.75]\n",
    "print(d['animal'].median())\n",
    "print(len(d[d['animal'] < 0.020]))"
   ]
  },
  {
   "cell_type": "code",
   "execution_count": 17,
   "id": "a800b6bb",
   "metadata": {},
   "outputs": [
    {
     "name": "stdout",
     "output_type": "stream",
     "text": [
      "0.761996161228407\n",
      "0.890601325212548\n",
      "0.7658616795110285\n"
     ]
    }
   ],
   "source": [
    "print(d1['is_research_article'].median())\n",
    "print(d0['is_research_article'].median())\n",
    "d = dd[dd['pred_log'] > 0.75]\n",
    "print(d['is_research_article'].median())"
   ]
  },
  {
   "cell_type": "code",
   "execution_count": 26,
   "id": "1f3e3400",
   "metadata": {},
   "outputs": [
    {
     "name": "stdout",
     "output_type": "stream",
     "text": [
      "114\n",
      "3684.19651326051\n",
      "1902.839315958975\n",
      "789.0962646656735\n",
      "2041\n"
     ]
    }
   ],
   "source": [
    "print(len(d1[d1['wrcr'] >= 700]))\n",
    "print(d1['wrcr'].median())\n",
    "print(d0['wrcr'].median())\n",
    "d = dd[dd['pred_log'] > 0.75]\n",
    "print(d['wrcr'].median())\n",
    "print(len(d[d['wrcr'] < 700]))"
   ]
  },
  {
   "cell_type": "code",
   "execution_count": 234,
   "id": "6b59eda0",
   "metadata": {},
   "outputs": [
    {
     "name": "stdout",
     "output_type": "stream",
     "text": [
      "125\n",
      "0.183814046488378\n",
      "0.1166807091749025\n",
      "0.02828744374176035\n"
     ]
    }
   ],
   "source": [
    "print(len(d1[d1['molecular_cellular'] >= 0.03]))\n",
    "print(d1['molecular_cellular'].median())\n",
    "print(d0['molecular_cellular'].median())\n",
    "d = dd[dd['pred_log'] > 0.75]\n",
    "print(d['molecular_cellular'].median())"
   ]
  },
  {
   "cell_type": "code",
   "execution_count": 193,
   "id": "7b6942b0",
   "metadata": {},
   "outputs": [
    {
     "name": "stdout",
     "output_type": "stream",
     "text": [
      "133\n",
      "0.104443521594684\n",
      "0.070151989583813\n",
      "0.07594585871060089\n",
      "792\n"
     ]
    }
   ],
   "source": [
    "print(len(d1[d1['nih'] >= 0.025]))\n",
    "print(d1['nih'].median())\n",
    "print(d0['nih'].median())\n",
    "d = dd[dd['pred_log'] > 0.75]\n",
    "print(d['nih'].median())\n",
    "print(len(d[d['nih'] < 0.025]))"
   ]
  },
  {
   "cell_type": "code",
   "execution_count": 166,
   "id": "fa15658a",
   "metadata": {},
   "outputs": [
    {
     "name": "stdout",
     "output_type": "stream",
     "text": [
      "18\n",
      "0.0988292416525234\n",
      "0.0794700648749535\n"
     ]
    }
   ],
   "source": [
    "print(len(d1[d1['rcr_low'] == 0]))\n",
    "print(d1['rcr_low'].median())\n",
    "print(d0['rcr_low'].median())"
   ]
  },
  {
   "cell_type": "code",
   "execution_count": 320,
   "id": "4ee1b980",
   "metadata": {},
   "outputs": [
    {
     "name": "stdout",
     "output_type": "stream",
     "text": [
      "117\n",
      "109\n"
     ]
    }
   ],
   "source": [
    "\n",
    "dm = d1[d1['rcr_hi'] >= 2.55]\n",
    "print(len(dm))\n",
    "#dm = dm[dm['wrcr'] >= 500]\n",
    "dm = dm[dm['cited_by_clin'] >= 0.10]\n",
    "print(len(dm))\n",
    "    #x_test = x_test[x_test['is_clinical'] >= 0.015] ##this one\n",
    "    \n",
    "\n",
    "    #x_test = x_test[x_test['molecular_cellular'] >= 0.030] ##this one, with C = 1\n",
    "    \n",
    "    #x_test = x_test[x_test['human'] >= 0.25]\n",
    "    #x_test = x_test[x_test['rage'] >= 5]\n",
    "    #x_test = x_test[x_test['pct_is_new'] >= 0.09]"
   ]
  },
  {
   "cell_type": "code",
   "execution_count": 3,
   "id": "03b80300",
   "metadata": {},
   "outputs": [
    {
     "name": "stdout",
     "output_type": "stream",
     "text": [
      "25\n",
      "actual len  4939\n",
      "len of xtest  358\n",
      "pct_is_new                   float64\n",
      "pct_is_newish                float64\n",
      "n_biggest_anc                float64\n",
      "pct_of_biggest_anc           float64\n",
      "n_secbiggest_anc             float64\n",
      "pct_of_secbiggest_anc        float64\n",
      "pct_of_secbiggest_anc_new    float64\n",
      "pct_top_5_anc                float64\n",
      "wrcr                         float64\n",
      "rcr_mid                      float64\n",
      "rcr_hi                       float64\n",
      "human                        float64\n",
      "animal                       float64\n",
      "molecular_cellular           float64\n",
      "is_clinical                  float64\n",
      "is_research_article          float64\n",
      "cited_by_clin                float64\n",
      "nih                          float64\n",
      "rage                         float64\n",
      "dtype: object\n",
      "hdhdhd before  242\n",
      "len of xtrain  239\n",
      "year   1978\n",
      "[1979 1992 1993 1994 1995 1997 1998 1999 2000 2003 2005 2007 2008 2009\n",
      " 2010 2011 2012 2013 2014 2015 2016 2017 2018 2019 2020]\n",
      "cv score  0.766092241092241\n",
      "(358,)\n",
      "no of positive  72\n",
      "len of predy  72\n"
     ]
    },
    {
     "data": {
      "image/png": "[encoded data removed]",
      "text/plain": [
       "<Figure size 432x288 with 1 Axes>"
      ]
     },
     "metadata": {
      "needs_background": "light"
     },
     "output_type": "display_data"
    },
    {
     "name": "stdout",
     "output_type": "stream",
     "text": [
      "$$$  358   72\n",
      "total positive  72\n",
      "tp tn fp fn 0   0   0   0\n",
      "year  1978 positive  0\n",
      "actual len  5213\n",
      "len of xtest  391\n",
      "pct_is_new                   float64\n",
      "pct_is_newish                float64\n",
      "n_biggest_anc                float64\n",
      "pct_of_biggest_anc           float64\n",
      "n_secbiggest_anc             float64\n",
      "pct_of_secbiggest_anc        float64\n",
      "pct_of_secbiggest_anc_new    float64\n",
      "pct_top_5_anc                float64\n",
      "wrcr                         float64\n",
      "rcr_mid                      float64\n",
      "rcr_hi                       float64\n",
      "human                        float64\n",
      "animal                       float64\n",
      "molecular_cellular           float64\n",
      "is_clinical                  float64\n",
      "is_research_article          float64\n",
      "cited_by_clin                float64\n",
      "nih                          float64\n",
      "rage                         float64\n",
      "dtype: object\n",
      "hdhdhd before  242\n",
      "len of xtrain  237\n",
      "year   1979\n",
      "[1992 1993 1994 1995 1997 1998 1999 2000 2003 2005 2007 2008 2009 2010\n",
      " 2011 2012 2013 2014 2015 2016 2017 2018 2019 2020]\n",
      "cv score  0.7490173715173716\n",
      "(391,)\n",
      "no of positive  84\n",
      "len of predy  84\n"
     ]
    },
    {
     "data": {
      "image/png": "[encoded data removed]",
      "text/plain": [
       "<Figure size 432x288 with 1 Axes>"
      ]
     },
     "metadata": {
      "needs_background": "light"
     },
     "output_type": "display_data"
    },
    {
     "name": "stdout",
     "output_type": "stream",
     "text": [
      "$$$  391   84\n",
      "total positive  84\n",
      "tp tn fp fn 1   1   0   0\n",
      "year  1979 positive  1\n",
      "actual len  5453\n",
      "len of xtest  420\n",
      "pct_is_new                   float64\n",
      "pct_is_newish                float64\n",
      "n_biggest_anc                float64\n",
      "pct_of_biggest_anc           float64\n",
      "n_secbiggest_anc             float64\n",
      "pct_of_secbiggest_anc        float64\n",
      "pct_of_secbiggest_anc_new    float64\n",
      "pct_top_5_anc                float64\n",
      "wrcr                         float64\n",
      "rcr_mid                      float64\n",
      "rcr_hi                       float64\n",
      "human                        float64\n",
      "animal                       float64\n",
      "molecular_cellular           float64\n",
      "is_clinical                  float64\n",
      "is_research_article          float64\n",
      "cited_by_clin                float64\n",
      "nih                          float64\n",
      "rage                         float64\n",
      "dtype: object\n",
      "hdhdhd before  242\n",
      "len of xtrain  239\n",
      "year   1980\n",
      "[1979 1992 1993 1994 1995 1997 1998 1999 2000 2003 2005 2007 2008 2009\n",
      " 2010 2011 2012 2013 2014 2015 2016 2017 2018 2019 2020]\n",
      "cv score  0.766092241092241\n",
      "(420,)\n",
      "no of positive  89\n",
      "len of predy  89\n"
     ]
    },
    {
     "data": {
      "image/png": "[encoded data removed]",
      "text/plain": [
       "<Figure size 432x288 with 1 Axes>"
      ]
     },
     "metadata": {
      "needs_background": "light"
     },
     "output_type": "display_data"
    },
    {
     "name": "stdout",
     "output_type": "stream",
     "text": [
      "$$$  420   89\n",
      "total positive  89\n",
      "tp tn fp fn 0   0   0   0\n",
      "year  1980 positive  0\n",
      "actual len  5700\n",
      "len of xtest  470\n",
      "pct_is_new                   float64\n",
      "pct_is_newish                float64\n",
      "n_biggest_anc                float64\n",
      "pct_of_biggest_anc           float64\n",
      "n_secbiggest_anc             float64\n",
      "pct_of_secbiggest_anc        float64\n",
      "pct_of_secbiggest_anc_new    float64\n",
      "pct_top_5_anc                float64\n",
      "wrcr                         float64\n",
      "rcr_mid                      float64\n",
      "rcr_hi                       float64\n",
      "human                        float64\n",
      "animal                       float64\n",
      "molecular_cellular           float64\n",
      "is_clinical                  float64\n",
      "is_research_article          float64\n",
      "cited_by_clin                float64\n",
      "nih                          float64\n",
      "rage                         float64\n",
      "dtype: object\n",
      "hdhdhd before  242\n",
      "len of xtrain  239\n",
      "year   1981\n",
      "[1979 1992 1993 1994 1995 1997 1998 1999 2000 2003 2005 2007 2008 2009\n",
      " 2010 2011 2012 2013 2014 2015 2016 2017 2018 2019 2020]\n",
      "cv score  0.766092241092241\n",
      "(470,)\n",
      "no of positive  103\n",
      "len of predy  103\n"
     ]
    },
    {
     "data": {
      "image/png": "[encoded data removed]",
      "text/plain": [
       "<Figure size 432x288 with 1 Axes>"
      ]
     },
     "metadata": {
      "needs_background": "light"
     },
     "output_type": "display_data"
    },
    {
     "name": "stdout",
     "output_type": "stream",
     "text": [
      "$$$  470   103\n",
      "total positive  103\n",
      "tp tn fp fn 0   0   0   0\n",
      "year  1981 positive  0\n",
      "actual len  5958\n",
      "len of xtest  497\n",
      "pct_is_new                   float64\n",
      "pct_is_newish                float64\n",
      "n_biggest_anc                  int64\n",
      "pct_of_biggest_anc           float64\n",
      "n_secbiggest_anc               int64\n",
      "pct_of_secbiggest_anc        float64\n",
      "pct_of_secbiggest_anc_new    float64\n",
      "pct_top_5_anc                float64\n",
      "wrcr                         float64\n",
      "rcr_mid                      float64\n",
      "rcr_hi                       float64\n",
      "human                        float64\n",
      "animal                       float64\n",
      "molecular_cellular           float64\n",
      "is_clinical                  float64\n",
      "is_research_article          float64\n",
      "cited_by_clin                float64\n",
      "nih                          float64\n",
      "rage                         float64\n",
      "dtype: object\n",
      "hdhdhd before  242\n",
      "len of xtrain  239\n",
      "year   1982\n",
      "[1979 1992 1993 1994 1995 1997 1998 1999 2000 2003 2005 2007 2008 2009\n",
      " 2010 2011 2012 2013 2014 2015 2016 2017 2018 2019 2020]\n",
      "cv score  0.766092241092241\n",
      "(497,)\n",
      "no of positive  95\n",
      "len of predy  95\n"
     ]
    },
    {
     "data": {
      "image/png": "[encoded data removed]",
      "text/plain": [
       "<Figure size 432x288 with 1 Axes>"
      ]
     },
     "metadata": {
      "needs_background": "light"
     },
     "output_type": "display_data"
    },
    {
     "name": "stdout",
     "output_type": "stream",
     "text": [
      "$$$  497   95\n",
      "total positive  95\n",
      "tp tn fp fn 0   0   0   0\n",
      "year  1982 positive  0\n",
      "actual len  6242\n",
      "len of xtest  546\n",
      "pct_is_new                   float64\n",
      "pct_is_newish                float64\n",
      "n_biggest_anc                  int64\n",
      "pct_of_biggest_anc           float64\n",
      "n_secbiggest_anc               int64\n",
      "pct_of_secbiggest_anc        float64\n",
      "pct_of_secbiggest_anc_new    float64\n",
      "pct_top_5_anc                float64\n",
      "wrcr                         float64\n",
      "rcr_mid                      float64\n",
      "rcr_hi                       float64\n",
      "human                        float64\n",
      "animal                       float64\n",
      "molecular_cellular           float64\n",
      "is_clinical                  float64\n",
      "is_research_article          float64\n",
      "cited_by_clin                float64\n",
      "nih                          float64\n",
      "rage                         float64\n",
      "dtype: object\n",
      "hdhdhd before  242\n",
      "len of xtrain  239\n",
      "year   1983\n",
      "[1979 1992 1993 1994 1995 1997 1998 1999 2000 2003 2005 2007 2008 2009\n",
      " 2010 2011 2012 2013 2014 2015 2016 2017 2018 2019 2020]\n",
      "cv score  0.766092241092241\n",
      "(546,)\n",
      "no of positive  106\n",
      "len of predy  106\n"
     ]
    },
    {
     "data": {
      "image/png": "[encoded data removed]",
      "text/plain": [
       "<Figure size 432x288 with 1 Axes>"
      ]
     },
     "metadata": {
      "needs_background": "light"
     },
     "output_type": "display_data"
    },
    {
     "name": "stdout",
     "output_type": "stream",
     "text": [
      "$$$  546   106\n",
      "total positive  106\n",
      "tp tn fp fn 0   0   0   0\n",
      "year  1983 positive  0\n",
      "actual len  6521\n",
      "len of xtest  569\n",
      "pct_is_new                   float64\n",
      "pct_is_newish                float64\n",
      "n_biggest_anc                  int64\n",
      "pct_of_biggest_anc           float64\n",
      "n_secbiggest_anc               int64\n",
      "pct_of_secbiggest_anc        float64\n",
      "pct_of_secbiggest_anc_new    float64\n",
      "pct_top_5_anc                float64\n",
      "wrcr                         float64\n",
      "rcr_mid                      float64\n",
      "rcr_hi                       float64\n",
      "human                        float64\n",
      "animal                       float64\n",
      "molecular_cellular           float64\n",
      "is_clinical                  float64\n",
      "is_research_article          float64\n",
      "cited_by_clin                float64\n",
      "nih                          float64\n",
      "rage                         float64\n",
      "dtype: object\n",
      "hdhdhd before  242\n",
      "len of xtrain  239\n",
      "year   1984\n",
      "[1979 1992 1993 1994 1995 1997 1998 1999 2000 2003 2005 2007 2008 2009\n",
      " 2010 2011 2012 2013 2014 2015 2016 2017 2018 2019 2020]\n",
      "cv score  0.766092241092241\n",
      "(569,)\n",
      "no of positive  109\n",
      "len of predy  109\n"
     ]
    },
    {
     "data": {
      "image/png": "[encoded data removed]",
      "text/plain": [
       "<Figure size 432x288 with 1 Axes>"
      ]
     },
     "metadata": {
      "needs_background": "light"
     },
     "output_type": "display_data"
    },
    {
     "name": "stdout",
     "output_type": "stream",
     "text": [
      "$$$  569   109\n",
      "total positive  109\n",
      "tp tn fp fn 0   0   0   0\n",
      "year  1984 positive  0\n",
      "actual len  6825\n",
      "len of xtest  597\n",
      "pct_is_new                   float64\n",
      "pct_is_newish                float64\n",
      "n_biggest_anc                float64\n",
      "pct_of_biggest_anc           float64\n",
      "n_secbiggest_anc             float64\n",
      "pct_of_secbiggest_anc        float64\n",
      "pct_of_secbiggest_anc_new    float64\n",
      "pct_top_5_anc                float64\n",
      "wrcr                         float64\n",
      "rcr_mid                      float64\n",
      "rcr_hi                       float64\n",
      "human                        float64\n",
      "animal                       float64\n",
      "molecular_cellular           float64\n",
      "is_clinical                  float64\n",
      "is_research_article          float64\n",
      "cited_by_clin                float64\n",
      "nih                          float64\n",
      "rage                         float64\n",
      "dtype: object\n",
      "hdhdhd before  242\n",
      "len of xtrain  239\n",
      "year   1985\n",
      "[1979 1992 1993 1994 1995 1997 1998 1999 2000 2003 2005 2007 2008 2009\n",
      " 2010 2011 2012 2013 2014 2015 2016 2017 2018 2019 2020]\n",
      "cv score  0.766092241092241\n",
      "(597,)\n",
      "no of positive  121\n",
      "len of predy  121\n"
     ]
    },
    {
     "data": {
      "image/png": "[encoded data removed]",
      "text/plain": [
       "<Figure size 432x288 with 1 Axes>"
      ]
     },
     "metadata": {
      "needs_background": "light"
     },
     "output_type": "display_data"
    },
    {
     "name": "stdout",
     "output_type": "stream",
     "text": [
      "$$$  597   121\n",
      "total positive  121\n",
      "tp tn fp fn 0   0   0   0\n",
      "year  1985 positive  0\n",
      "actual len  7188\n",
      "len of xtest  661\n",
      "pct_is_new                   float64\n",
      "pct_is_newish                float64\n",
      "n_biggest_anc                float64\n",
      "pct_of_biggest_anc           float64\n",
      "n_secbiggest_anc             float64\n",
      "pct_of_secbiggest_anc        float64\n",
      "pct_of_secbiggest_anc_new    float64\n",
      "pct_top_5_anc                float64\n",
      "wrcr                         float64\n",
      "rcr_mid                      float64\n",
      "rcr_hi                       float64\n",
      "human                        float64\n",
      "animal                       float64\n",
      "molecular_cellular           float64\n",
      "is_clinical                  float64\n",
      "is_research_article          float64\n",
      "cited_by_clin                float64\n",
      "nih                          float64\n",
      "rage                         float64\n",
      "dtype: object\n",
      "hdhdhd before  242\n",
      "len of xtrain  239\n",
      "year   1986\n",
      "[1979 1992 1993 1994 1995 1997 1998 1999 2000 2003 2005 2007 2008 2009\n",
      " 2010 2011 2012 2013 2014 2015 2016 2017 2018 2019 2020]\n",
      "cv score  0.766092241092241\n",
      "(661,)\n",
      "no of positive  115\n",
      "len of predy  115\n"
     ]
    },
    {
     "data": {
      "image/png": "[encoded data removed]",
      "text/plain": [
       "<Figure size 432x288 with 1 Axes>"
      ]
     },
     "metadata": {
      "needs_background": "light"
     },
     "output_type": "display_data"
    },
    {
     "name": "stdout",
     "output_type": "stream",
     "text": [
      "$$$  661   115\n",
      "total positive  115\n",
      "tp tn fp fn 0   0   0   0\n",
      "year  1986 positive  0\n",
      "actual len  7569\n",
      "len of xtest  700\n",
      "pct_is_new                   float64\n",
      "pct_is_newish                float64\n",
      "n_biggest_anc                float64\n",
      "pct_of_biggest_anc           float64\n",
      "n_secbiggest_anc             float64\n",
      "pct_of_secbiggest_anc        float64\n",
      "pct_of_secbiggest_anc_new    float64\n",
      "pct_top_5_anc                float64\n",
      "wrcr                         float64\n",
      "rcr_mid                      float64\n",
      "rcr_hi                       float64\n",
      "human                        float64\n",
      "animal                       float64\n",
      "molecular_cellular           float64\n",
      "is_clinical                  float64\n",
      "is_research_article          float64\n",
      "cited_by_clin                float64\n",
      "nih                          float64\n",
      "rage                         float64\n",
      "dtype: object\n",
      "hdhdhd before  242\n",
      "len of xtrain  239\n",
      "year   1987\n",
      "[1979 1992 1993 1994 1995 1997 1998 1999 2000 2003 2005 2007 2008 2009\n",
      " 2010 2011 2012 2013 2014 2015 2016 2017 2018 2019 2020]\n",
      "cv score  0.766092241092241\n",
      "(700,)\n",
      "no of positive  122\n",
      "len of predy  122\n"
     ]
    },
    {
     "data": {
      "image/png": "[encoded data removed]",
      "text/plain": [
       "<Figure size 432x288 with 1 Axes>"
      ]
     },
     "metadata": {
      "needs_background": "light"
     },
     "output_type": "display_data"
    },
    {
     "name": "stdout",
     "output_type": "stream",
     "text": [
      "$$$  700   122\n",
      "total positive  122\n",
      "tp tn fp fn 0   0   0   0\n",
      "year  1987 positive  0\n",
      "actual len  7973\n",
      "len of xtest  741\n",
      "pct_is_new                   float64\n",
      "pct_is_newish                float64\n",
      "n_biggest_anc                  int64\n",
      "pct_of_biggest_anc           float64\n",
      "n_secbiggest_anc               int64\n",
      "pct_of_secbiggest_anc        float64\n",
      "pct_of_secbiggest_anc_new    float64\n",
      "pct_top_5_anc                float64\n",
      "wrcr                         float64\n",
      "rcr_mid                      float64\n",
      "rcr_hi                       float64\n",
      "human                        float64\n",
      "animal                       float64\n",
      "molecular_cellular           float64\n",
      "is_clinical                  float64\n",
      "is_research_article          float64\n",
      "cited_by_clin                float64\n",
      "nih                          float64\n",
      "rage                         float64\n",
      "dtype: object\n",
      "hdhdhd before  242\n",
      "len of xtrain  239\n",
      "year   1988\n",
      "[1979 1992 1993 1994 1995 1997 1998 1999 2000 2003 2005 2007 2008 2009\n",
      " 2010 2011 2012 2013 2014 2015 2016 2017 2018 2019 2020]\n",
      "cv score  0.766092241092241\n",
      "(741,)\n",
      "no of positive  131\n",
      "len of predy  131\n"
     ]
    },
    {
     "data": {
      "image/png": "[encoded data removed]",
      "text/plain": [
       "<Figure size 432x288 with 1 Axes>"
      ]
     },
     "metadata": {
      "needs_background": "light"
     },
     "output_type": "display_data"
    },
    {
     "name": "stdout",
     "output_type": "stream",
     "text": [
      "$$$  741   131\n",
      "total positive  131\n",
      "tp tn fp fn 0   0   0   0\n",
      "year  1988 positive  0\n",
      "actual len  8315\n",
      "len of xtest  758\n",
      "pct_is_new                   float64\n",
      "pct_is_newish                float64\n",
      "n_biggest_anc                float64\n",
      "pct_of_biggest_anc           float64\n",
      "n_secbiggest_anc             float64\n",
      "pct_of_secbiggest_anc        float64\n",
      "pct_of_secbiggest_anc_new    float64\n",
      "pct_top_5_anc                float64\n",
      "wrcr                         float64\n",
      "rcr_mid                      float64\n",
      "rcr_hi                       float64\n",
      "human                        float64\n",
      "animal                       float64\n",
      "molecular_cellular           float64\n",
      "is_clinical                  float64\n",
      "is_research_article          float64\n",
      "cited_by_clin                float64\n",
      "nih                          float64\n",
      "rage                         float64\n",
      "dtype: object\n",
      "hdhdhd before  242\n",
      "len of xtrain  239\n",
      "year   1989\n",
      "[1979 1992 1993 1994 1995 1997 1998 1999 2000 2003 2005 2007 2008 2009\n",
      " 2010 2011 2012 2013 2014 2015 2016 2017 2018 2019 2020]\n",
      "cv score  0.766092241092241\n",
      "(758,)\n",
      "no of positive  145\n",
      "len of predy  145\n"
     ]
    },
    {
     "data": {
      "image/png": "[encoded data removed]",
      "text/plain": [
       "<Figure size 432x288 with 1 Axes>"
      ]
     },
     "metadata": {
      "needs_background": "light"
     },
     "output_type": "display_data"
    },
    {
     "name": "stdout",
     "output_type": "stream",
     "text": [
      "$$$  758   145\n",
      "total positive  145\n",
      "tp tn fp fn 0   0   0   0\n",
      "year  1989 positive  0\n",
      "actual len  8642\n",
      "len of xtest  809\n",
      "pct_is_new                   float64\n",
      "pct_is_newish                float64\n",
      "n_biggest_anc                float64\n",
      "pct_of_biggest_anc           float64\n",
      "n_secbiggest_anc             float64\n",
      "pct_of_secbiggest_anc        float64\n",
      "pct_of_secbiggest_anc_new    float64\n",
      "pct_top_5_anc                float64\n",
      "wrcr                         float64\n",
      "rcr_mid                      float64\n",
      "rcr_hi                       float64\n",
      "human                        float64\n",
      "animal                       float64\n",
      "molecular_cellular           float64\n",
      "is_clinical                  float64\n",
      "is_research_article          float64\n",
      "cited_by_clin                float64\n",
      "nih                          float64\n",
      "rage                         float64\n",
      "dtype: object\n",
      "hdhdhd before  242\n",
      "len of xtrain  239\n",
      "year   1990\n",
      "[1979 1992 1993 1994 1995 1997 1998 1999 2000 2003 2005 2007 2008 2009\n",
      " 2010 2011 2012 2013 2014 2015 2016 2017 2018 2019 2020]\n",
      "cv score  0.766092241092241\n",
      "(809,)\n",
      "no of positive  152\n",
      "len of predy  152\n"
     ]
    },
    {
     "data": {
      "image/png": "[encoded data removed]",
      "text/plain": [
       "<Figure size 432x288 with 1 Axes>"
      ]
     },
     "metadata": {
      "needs_background": "light"
     },
     "output_type": "display_data"
    },
    {
     "name": "stdout",
     "output_type": "stream",
     "text": [
      "$$$  809   152\n",
      "total positive  152\n",
      "tp tn fp fn 0   0   0   0\n",
      "year  1990 positive  0\n",
      "actual len  9018\n",
      "len of xtest  856\n",
      "pct_is_new                   float64\n",
      "pct_is_newish                float64\n",
      "n_biggest_anc                float64\n",
      "pct_of_biggest_anc           float64\n",
      "n_secbiggest_anc             float64\n",
      "pct_of_secbiggest_anc        float64\n",
      "pct_of_secbiggest_anc_new    float64\n",
      "pct_top_5_anc                float64\n",
      "wrcr                         float64\n",
      "rcr_mid                      float64\n",
      "rcr_hi                       float64\n",
      "human                        float64\n",
      "animal                       float64\n",
      "molecular_cellular           float64\n",
      "is_clinical                  float64\n",
      "is_research_article          float64\n",
      "cited_by_clin                float64\n",
      "nih                          float64\n",
      "rage                         float64\n",
      "dtype: object\n",
      "hdhdhd before  242\n",
      "len of xtrain  239\n",
      "year   1991\n",
      "[1979 1992 1993 1994 1995 1997 1998 1999 2000 2003 2005 2007 2008 2009\n",
      " 2010 2011 2012 2013 2014 2015 2016 2017 2018 2019 2020]\n",
      "cv score  0.766092241092241\n",
      "(856,)\n",
      "no of positive  158\n",
      "len of predy  158\n"
     ]
    },
    {
     "data": {
      "image/png": "[encoded data removed]",
      "text/plain": [
       "<Figure size 432x288 with 1 Axes>"
      ]
     },
     "metadata": {
      "needs_background": "light"
     },
     "output_type": "display_data"
    },
    {
     "name": "stdout",
     "output_type": "stream",
     "text": [
      "$$$  856   158\n",
      "total positive  158\n",
      "tp tn fp fn 0   0   0   0\n",
      "year  1991 positive  0\n",
      "actual len  9369\n",
      "len of xtest  886\n",
      "pct_is_new                   float64\n",
      "pct_is_newish                float64\n",
      "n_biggest_anc                float64\n",
      "pct_of_biggest_anc           float64\n",
      "n_secbiggest_anc             float64\n",
      "pct_of_secbiggest_anc        float64\n",
      "pct_of_secbiggest_anc_new    float64\n",
      "pct_top_5_anc                float64\n",
      "wrcr                         float64\n",
      "rcr_mid                      float64\n",
      "rcr_hi                       float64\n",
      "human                        float64\n",
      "animal                       float64\n",
      "molecular_cellular           float64\n",
      "is_clinical                  float64\n",
      "is_research_article          float64\n",
      "cited_by_clin                float64\n",
      "nih                          float64\n",
      "rage                         float64\n",
      "dtype: object\n",
      "hdhdhd before  242\n",
      "len of xtrain  237\n",
      "year   1992\n",
      "[1979 1993 1994 1995 1997 1998 1999 2000 2003 2005 2007 2008 2009 2010\n",
      " 2011 2012 2013 2014 2015 2016 2017 2018 2019 2020]\n",
      "cv score  0.7768847818847818\n",
      "(886,)\n",
      "no of positive  157\n",
      "len of predy  157\n"
     ]
    },
    {
     "data": {
      "image/png": "[encoded data removed]",
      "text/plain": [
       "<Figure size 432x288 with 1 Axes>"
      ]
     },
     "metadata": {
      "needs_background": "light"
     },
     "output_type": "display_data"
    },
    {
     "name": "stdout",
     "output_type": "stream",
     "text": [
      "$$$  886   157\n",
      "total positive  157\n",
      "tp tn fp fn 0   0   0   0\n",
      "year  1992 positive  0\n",
      "actual len  9723\n",
      "len of xtest  954\n",
      "pct_is_new                   float64\n",
      "pct_is_newish                float64\n",
      "n_biggest_anc                float64\n",
      "pct_of_biggest_anc           float64\n",
      "n_secbiggest_anc             float64\n",
      "pct_of_secbiggest_anc        float64\n",
      "pct_of_secbiggest_anc_new    float64\n",
      "pct_top_5_anc                float64\n",
      "wrcr                         float64\n",
      "rcr_mid                      float64\n",
      "rcr_hi                       float64\n",
      "human                        float64\n",
      "animal                       float64\n",
      "molecular_cellular           float64\n",
      "is_clinical                  float64\n",
      "is_research_article          float64\n",
      "cited_by_clin                float64\n",
      "nih                          float64\n",
      "rage                         float64\n",
      "dtype: object\n",
      "hdhdhd before  242\n",
      "len of xtrain  237\n",
      "year   1993\n",
      "[1979 1992 1994 1995 1997 1998 1999 2000 2003 2005 2007 2008 2009 2010\n",
      " 2011 2012 2013 2014 2015 2016 2017 2018 2019 2020]\n",
      "cv score  0.7598176823176821\n",
      "(954,)\n",
      "no of positive  159\n",
      "len of predy  159\n"
     ]
    },
    {
     "data": {
      "image/png": "[encoded data removed]",
      "text/plain": [
       "<Figure size 432x288 with 1 Axes>"
      ]
     },
     "metadata": {
      "needs_background": "light"
     },
     "output_type": "display_data"
    },
    {
     "name": "stdout",
     "output_type": "stream",
     "text": [
      "$$$  954   159\n",
      "total positive  159\n",
      "tp tn fp fn 0   0   0   0\n",
      "year  1993 positive  0\n",
      "actual len  10084\n",
      "len of xtest  1050\n",
      "pct_is_new                   float64\n",
      "pct_is_newish                float64\n",
      "n_biggest_anc                  int64\n",
      "pct_of_biggest_anc           float64\n",
      "n_secbiggest_anc               int64\n",
      "pct_of_secbiggest_anc        float64\n",
      "pct_of_secbiggest_anc_new    float64\n",
      "pct_top_5_anc                float64\n",
      "wrcr                         float64\n",
      "rcr_mid                      float64\n",
      "rcr_hi                       float64\n",
      "human                        float64\n",
      "animal                       float64\n",
      "molecular_cellular           float64\n",
      "is_clinical                  float64\n",
      "is_research_article          float64\n",
      "cited_by_clin                float64\n",
      "nih                          float64\n",
      "rage                         float64\n",
      "dtype: object\n",
      "hdhdhd before  242\n",
      "len of xtrain  235\n",
      "year   1994\n",
      "[1979 1992 1993 1995 1997 1998 1999 2000 2003 2005 2007 2008 2009 2010\n",
      " 2011 2012 2013 2014 2015 2016 2017 2018 2019 2020]\n",
      "cv score  0.7884343107872518\n",
      "(1050,)\n",
      "no of positive  188\n",
      "len of predy  188\n"
     ]
    },
    {
     "data": {
      "image/png": "[encoded data removed]",
      "text/plain": [
       "<Figure size 432x288 with 1 Axes>"
      ]
     },
     "metadata": {
      "needs_background": "light"
     },
     "output_type": "display_data"
    },
    {
     "name": "stdout",
     "output_type": "stream",
     "text": [
      "$$$  1050   188\n",
      "total positive  188\n",
      "tp tn fp fn 1   1   0   0\n",
      "year  1994 positive  1\n",
      "actual len  10442\n",
      "len of xtest  1083\n",
      "pct_is_new                   float64\n",
      "pct_is_newish                float64\n",
      "n_biggest_anc                float64\n",
      "pct_of_biggest_anc           float64\n",
      "n_secbiggest_anc             float64\n",
      "pct_of_secbiggest_anc        float64\n",
      "pct_of_secbiggest_anc_new    float64\n",
      "pct_top_5_anc                float64\n",
      "wrcr                         float64\n",
      "rcr_mid                      float64\n",
      "rcr_hi                       float64\n",
      "human                        float64\n",
      "animal                       float64\n",
      "molecular_cellular           float64\n",
      "is_clinical                  float64\n",
      "is_research_article          float64\n",
      "cited_by_clin                float64\n",
      "nih                          float64\n",
      "rage                         float64\n",
      "dtype: object\n",
      "hdhdhd before  242\n",
      "len of xtrain  237\n",
      "year   1995\n",
      "[1979 1992 1993 1994 1997 1998 1999 2000 2003 2005 2007 2008 2009 2010\n",
      " 2011 2012 2013 2014 2015 2016 2017 2018 2019 2020]\n",
      "cv score  0.7829279054279052\n",
      "(1083,)\n",
      "no of positive  187\n",
      "len of predy  187\n"
     ]
    },
    {
     "data": {
      "image/png": "[encoded data removed]",
      "text/plain": [
       "<Figure size 432x288 with 1 Axes>"
      ]
     },
     "metadata": {
      "needs_background": "light"
     },
     "output_type": "display_data"
    },
    {
     "name": "stdout",
     "output_type": "stream",
     "text": [
      "$$$  1083   187\n",
      "total positive  187\n",
      "tp tn fp fn 0   0   0   1\n",
      "year  1995 positive  1\n",
      "actual len  10806\n",
      "len of xtest  1170\n",
      "pct_is_new                   float64\n",
      "pct_is_newish                float64\n",
      "n_biggest_anc                float64\n",
      "pct_of_biggest_anc           float64\n",
      "n_secbiggest_anc             float64\n",
      "pct_of_secbiggest_anc        float64\n",
      "pct_of_secbiggest_anc_new    float64\n",
      "pct_top_5_anc                float64\n",
      "wrcr                         float64\n",
      "rcr_mid                      float64\n",
      "rcr_hi                       float64\n",
      "human                        float64\n",
      "animal                       float64\n",
      "molecular_cellular           float64\n",
      "is_clinical                  float64\n",
      "is_research_article          float64\n",
      "cited_by_clin                float64\n",
      "nih                          float64\n",
      "rage                         float64\n",
      "dtype: object\n",
      "hdhdhd before  242\n",
      "len of xtrain  239\n",
      "year   1996\n",
      "[1979 1992 1993 1994 1995 1997 1998 1999 2000 2003 2005 2007 2008 2009\n",
      " 2010 2011 2012 2013 2014 2015 2016 2017 2018 2019 2020]\n",
      "cv score  0.766092241092241\n",
      "(1170,)\n",
      "no of positive  195\n",
      "len of predy  195\n"
     ]
    },
    {
     "data": {
      "image/png": "[encoded data removed]",
      "text/plain": [
       "<Figure size 432x288 with 1 Axes>"
      ]
     },
     "metadata": {
      "needs_background": "light"
     },
     "output_type": "display_data"
    },
    {
     "name": "stdout",
     "output_type": "stream",
     "text": [
      "$$$  1170   195\n",
      "total positive  195\n",
      "tp tn fp fn 0   0   0   0\n",
      "year  1996 positive  0\n",
      "actual len  11161\n",
      "len of xtest  1252\n",
      "pct_is_new                   float64\n",
      "pct_is_newish                float64\n",
      "n_biggest_anc                float64\n",
      "pct_of_biggest_anc           float64\n",
      "n_secbiggest_anc             float64\n",
      "pct_of_secbiggest_anc        float64\n",
      "pct_of_secbiggest_anc_new    float64\n",
      "pct_top_5_anc                float64\n",
      "wrcr                         float64\n",
      "rcr_mid                      float64\n",
      "rcr_hi                       float64\n",
      "human                        float64\n",
      "animal                       float64\n",
      "molecular_cellular           float64\n",
      "is_clinical                  float64\n",
      "is_research_article          float64\n",
      "cited_by_clin                float64\n",
      "nih                          float64\n",
      "rage                         float64\n",
      "dtype: object\n",
      "hdhdhd before  242\n",
      "len of xtrain  237\n",
      "year   1997\n",
      "[1979 1992 1993 1994 1995 1998 1999 2000 2003 2005 2007 2008 2009 2010\n",
      " 2011 2012 2013 2014 2015 2016 2017 2018 2019 2020]\n",
      "cv score  0.7768672993672993\n",
      "(1252,)\n",
      "no of positive  196\n",
      "len of predy  196\n"
     ]
    },
    {
     "data": {
      "image/png": "[encoded data removed]",
      "text/plain": [
       "<Figure size 432x288 with 1 Axes>"
      ]
     },
     "metadata": {
      "needs_background": "light"
     },
     "output_type": "display_data"
    },
    {
     "name": "stdout",
     "output_type": "stream",
     "text": [
      "$$$  1252   196\n",
      "total positive  196\n",
      "tp tn fp fn 0   1   0   0\n",
      "year  1997 positive  0\n",
      "actual len  11526\n",
      "len of xtest  1320\n",
      "pct_is_new                   float64\n",
      "pct_is_newish                float64\n",
      "n_biggest_anc                  int64\n",
      "pct_of_biggest_anc           float64\n",
      "n_secbiggest_anc               int64\n",
      "pct_of_secbiggest_anc        float64\n",
      "pct_of_secbiggest_anc_new    float64\n",
      "pct_top_5_anc                float64\n",
      "wrcr                         float64\n",
      "rcr_mid                      float64\n",
      "rcr_hi                       float64\n",
      "human                        float64\n",
      "animal                       float64\n",
      "molecular_cellular           float64\n",
      "is_clinical                  float64\n",
      "is_research_article          float64\n",
      "cited_by_clin                float64\n",
      "nih                          float64\n",
      "rage                         float64\n",
      "dtype: object\n",
      "hdhdhd before  242\n",
      "len of xtrain  233\n",
      "year   1998\n",
      "[1979 1992 1993 1994 1995 1997 1999 2000 2003 2005 2007 2008 2009 2010\n",
      " 2011 2012 2013 2014 2015 2016 2017 2018 2019 2020]\n",
      "cv score  0.7699134199134199\n",
      "(1320,)\n",
      "no of positive  216\n",
      "len of predy  216\n"
     ]
    },
    {
     "data": {
      "image/png": "[encoded data removed]",
      "text/plain": [
       "<Figure size 432x288 with 1 Axes>"
      ]
     },
     "metadata": {
      "needs_background": "light"
     },
     "output_type": "display_data"
    },
    {
     "name": "stdout",
     "output_type": "stream",
     "text": [
      "$$$  1320   216\n",
      "total positive  216\n",
      "tp tn fp fn 2   2   0   1\n",
      "year  1998 positive  3\n",
      "actual len  11998\n",
      "len of xtest  1386\n",
      "pct_is_new                   float64\n",
      "pct_is_newish                float64\n",
      "n_biggest_anc                float64\n",
      "pct_of_biggest_anc           float64\n",
      "n_secbiggest_anc             float64\n",
      "pct_of_secbiggest_anc        float64\n",
      "pct_of_secbiggest_anc_new    float64\n",
      "pct_top_5_anc                float64\n",
      "wrcr                         float64\n",
      "rcr_mid                      float64\n",
      "rcr_hi                       float64\n",
      "human                        float64\n",
      "animal                       float64\n",
      "molecular_cellular           float64\n",
      "is_clinical                  float64\n",
      "is_research_article          float64\n",
      "cited_by_clin                float64\n",
      "nih                          float64\n",
      "rage                         float64\n",
      "dtype: object\n",
      "hdhdhd before  242\n",
      "len of xtrain  237\n",
      "year   1999\n",
      "[1979 1992 1993 1994 1995 1997 1998 2000 2003 2005 2007 2008 2009 2010\n",
      " 2011 2012 2013 2014 2015 2016 2017 2018 2019 2020]\n",
      "cv score  0.7789885114885113\n",
      "(1386,)\n",
      "no of positive  268\n",
      "len of predy  268\n"
     ]
    },
    {
     "data": {
      "image/png": "[encoded data removed]",
      "text/plain": [
       "<Figure size 432x288 with 1 Axes>"
      ]
     },
     "metadata": {
      "needs_background": "light"
     },
     "output_type": "display_data"
    },
    {
     "name": "stdout",
     "output_type": "stream",
     "text": [
      "$$$  1386   268\n",
      "total positive  268\n",
      "tp tn fp fn 0   0   0   1\n",
      "year  1999 positive  1\n",
      "actual len  12451\n",
      "len of xtest  1425\n",
      "pct_is_new                   float64\n",
      "pct_is_newish                float64\n",
      "n_biggest_anc                float64\n",
      "pct_of_biggest_anc           float64\n",
      "n_secbiggest_anc             float64\n",
      "pct_of_secbiggest_anc        float64\n",
      "pct_of_secbiggest_anc_new    float64\n",
      "pct_top_5_anc                float64\n",
      "wrcr                         float64\n",
      "rcr_mid                      float64\n",
      "rcr_hi                       float64\n",
      "human                        float64\n",
      "animal                       float64\n",
      "molecular_cellular           float64\n",
      "is_clinical                  float64\n",
      "is_research_article          float64\n",
      "cited_by_clin                float64\n",
      "nih                          float64\n",
      "rage                         float64\n",
      "dtype: object\n",
      "hdhdhd before  242\n",
      "len of xtrain  235\n",
      "year   2000\n",
      "[1979 1992 1993 1994 1995 1997 1998 1999 2003 2005 2007 2008 2009 2010\n",
      " 2011 2012 2013 2014 2015 2016 2017 2018 2019 2020]\n",
      "cv score  0.7560450333979746\n",
      "(1425,)\n",
      "no of positive  210\n",
      "len of predy  210\n"
     ]
    },
    {
     "data": {
      "image/png": "[encoded data removed]",
      "text/plain": [
       "<Figure size 432x288 with 1 Axes>"
      ]
     },
     "metadata": {
      "needs_background": "light"
     },
     "output_type": "display_data"
    },
    {
     "name": "stdout",
     "output_type": "stream",
     "text": [
      "$$$  1425   210\n",
      "total positive  210\n",
      "tp tn fp fn 1   0   0   1\n",
      "year  2000 positive  2\n",
      "actual len  12969\n",
      "len of xtest  1443\n",
      "pct_is_new                   float64\n",
      "pct_is_newish                float64\n",
      "n_biggest_anc                float64\n",
      "pct_of_biggest_anc           float64\n",
      "n_secbiggest_anc             float64\n",
      "pct_of_secbiggest_anc        float64\n",
      "pct_of_secbiggest_anc_new    float64\n",
      "pct_top_5_anc                float64\n",
      "wrcr                         float64\n",
      "rcr_mid                      float64\n",
      "rcr_hi                       float64\n",
      "human                        float64\n",
      "animal                       float64\n",
      "molecular_cellular           float64\n",
      "is_clinical                  float64\n",
      "is_research_article          float64\n",
      "cited_by_clin                float64\n",
      "nih                          float64\n",
      "rage                         float64\n",
      "dtype: object\n",
      "hdhdhd before  242\n",
      "len of xtrain  239\n",
      "year   2001\n",
      "[1979 1992 1993 1994 1995 1997 1998 1999 2000 2003 2005 2007 2008 2009\n",
      " 2010 2011 2012 2013 2014 2015 2016 2017 2018 2019 2020]\n",
      "cv score  0.766092241092241\n",
      "(1443,)\n",
      "no of positive  228\n",
      "len of predy  228\n"
     ]
    },
    {
     "data": {
      "image/png": "[encoded data removed]",
      "text/plain": [
       "<Figure size 432x288 with 1 Axes>"
      ]
     },
     "metadata": {
      "needs_background": "light"
     },
     "output_type": "display_data"
    },
    {
     "name": "stdout",
     "output_type": "stream",
     "text": [
      "$$$  1443   228\n",
      "total positive  228\n",
      "tp tn fp fn 0   0   0   0\n",
      "year  2001 positive  0\n",
      "actual len  13522\n",
      "len of xtest  1457\n",
      "pct_is_new                   float64\n",
      "pct_is_newish                float64\n",
      "n_biggest_anc                float64\n",
      "pct_of_biggest_anc           float64\n",
      "n_secbiggest_anc             float64\n",
      "pct_of_secbiggest_anc        float64\n",
      "pct_of_secbiggest_anc_new    float64\n",
      "pct_top_5_anc                float64\n",
      "wrcr                         float64\n",
      "rcr_mid                      float64\n",
      "rcr_hi                       float64\n",
      "human                        float64\n",
      "animal                       float64\n",
      "molecular_cellular           float64\n",
      "is_clinical                  float64\n",
      "is_research_article          float64\n",
      "cited_by_clin                float64\n",
      "nih                          float64\n",
      "rage                         float64\n",
      "dtype: object\n",
      "hdhdhd before  242\n",
      "len of xtrain  239\n",
      "year   2002\n",
      "[1979 1992 1993 1994 1995 1997 1998 1999 2000 2003 2005 2007 2008 2009\n",
      " 2010 2011 2012 2013 2014 2015 2016 2017 2018 2019 2020]\n",
      "cv score  0.766092241092241\n",
      "(1457,)\n",
      "no of positive  234\n",
      "len of predy  234\n"
     ]
    },
    {
     "data": {
      "image/png": "[encoded data removed]",
      "text/plain": [
       "<Figure size 432x288 with 1 Axes>"
      ]
     },
     "metadata": {
      "needs_background": "light"
     },
     "output_type": "display_data"
    },
    {
     "name": "stdout",
     "output_type": "stream",
     "text": [
      "$$$  1457   234\n",
      "total positive  234\n",
      "tp tn fp fn 0   0   0   0\n",
      "year  2002 positive  0\n",
      "actual len  14061\n",
      "len of xtest  1486\n",
      "pct_is_new                   float64\n",
      "pct_is_newish                float64\n",
      "n_biggest_anc                float64\n",
      "pct_of_biggest_anc           float64\n",
      "n_secbiggest_anc             float64\n",
      "pct_of_secbiggest_anc        float64\n",
      "pct_of_secbiggest_anc_new    float64\n",
      "pct_top_5_anc                float64\n",
      "wrcr                         float64\n",
      "rcr_mid                      float64\n",
      "rcr_hi                       float64\n",
      "human                        float64\n",
      "animal                       float64\n",
      "molecular_cellular           float64\n",
      "is_clinical                  float64\n",
      "is_research_article          float64\n",
      "cited_by_clin                float64\n",
      "nih                          float64\n",
      "rage                         float64\n",
      "dtype: object\n",
      "hdhdhd before  242\n",
      "len of xtrain  237\n",
      "year   2003\n",
      "[1979 1992 1993 1994 1995 1997 1998 1999 2000 2005 2007 2008 2009 2010\n",
      " 2011 2012 2013 2014 2015 2016 2017 2018 2019 2020]\n",
      "cv score  0.776549284049284\n",
      "(1486,)\n",
      "no of positive  203\n",
      "len of predy  203\n"
     ]
    },
    {
     "data": {
      "image/png": "[encoded data removed]",
      "text/plain": [
       "<Figure size 432x288 with 1 Axes>"
      ]
     },
     "metadata": {
      "needs_background": "light"
     },
     "output_type": "display_data"
    },
    {
     "name": "stdout",
     "output_type": "stream",
     "text": [
      "$$$  1486   203\n",
      "total positive  203\n",
      "tp tn fp fn 0   0   0   1\n",
      "year  2003 positive  1\n",
      "actual len  14609\n",
      "len of xtest  1484\n",
      "pct_is_new                   float64\n",
      "pct_is_newish                float64\n",
      "n_biggest_anc                float64\n",
      "pct_of_biggest_anc           float64\n",
      "n_secbiggest_anc             float64\n",
      "pct_of_secbiggest_anc        float64\n",
      "pct_of_secbiggest_anc_new    float64\n",
      "pct_top_5_anc                float64\n",
      "wrcr                         float64\n",
      "rcr_mid                      float64\n",
      "rcr_hi                       float64\n",
      "human                        float64\n",
      "animal                       float64\n",
      "molecular_cellular           float64\n",
      "is_clinical                  float64\n",
      "is_research_article          float64\n",
      "cited_by_clin                float64\n",
      "nih                          float64\n",
      "rage                         float64\n",
      "dtype: object\n",
      "hdhdhd before  242\n",
      "len of xtrain  239\n",
      "year   2004\n",
      "[1979 1992 1993 1994 1995 1997 1998 1999 2000 2003 2005 2007 2008 2009\n",
      " 2010 2011 2012 2013 2014 2015 2016 2017 2018 2019 2020]\n",
      "cv score  0.766092241092241\n",
      "(1484,)\n",
      "no of positive  214\n",
      "len of predy  214\n"
     ]
    },
    {
     "data": {
      "image/png": "[encoded data removed]",
      "text/plain": [
       "<Figure size 432x288 with 1 Axes>"
      ]
     },
     "metadata": {
      "needs_background": "light"
     },
     "output_type": "display_data"
    },
    {
     "name": "stdout",
     "output_type": "stream",
     "text": [
      "$$$  1484   214\n",
      "total positive  214\n",
      "tp tn fp fn 0   0   0   0\n",
      "year  2004 positive  0\n",
      "actual len  15194\n",
      "len of xtest  1512\n",
      "pct_is_new                   float64\n",
      "pct_is_newish                float64\n",
      "n_biggest_anc                float64\n",
      "pct_of_biggest_anc           float64\n",
      "n_secbiggest_anc             float64\n",
      "pct_of_secbiggest_anc        float64\n",
      "pct_of_secbiggest_anc_new    float64\n",
      "pct_top_5_anc                float64\n",
      "wrcr                         float64\n",
      "rcr_mid                      float64\n",
      "rcr_hi                       float64\n",
      "human                        float64\n",
      "animal                       float64\n",
      "molecular_cellular           float64\n",
      "is_clinical                  float64\n",
      "is_research_article          float64\n",
      "cited_by_clin                float64\n",
      "nih                          float64\n",
      "rage                         float64\n",
      "dtype: object\n",
      "hdhdhd before  242\n",
      "len of xtrain  235\n",
      "year   2005\n",
      "[1979 1992 1993 1994 1995 1997 1998 1999 2000 2003 2007 2008 2009 2010\n",
      " 2011 2012 2013 2014 2015 2016 2017 2018 2019 2020]\n",
      "cv score  0.7710716734246145\n",
      "(1512,)\n",
      "no of positive  218\n",
      "len of predy  218\n"
     ]
    },
    {
     "data": {
      "image/png": "[encoded data removed]",
      "text/plain": [
       "<Figure size 432x288 with 1 Axes>"
      ]
     },
     "metadata": {
      "needs_background": "light"
     },
     "output_type": "display_data"
    },
    {
     "name": "stdout",
     "output_type": "stream",
     "text": [
      "$$$  1512   218\n",
      "total positive  218\n",
      "tp tn fp fn 1   1   0   1\n",
      "year  2005 positive  2\n",
      "actual len  15905\n",
      "len of xtest  1566\n",
      "pct_is_new                   float64\n",
      "pct_is_newish                float64\n",
      "n_biggest_anc                float64\n",
      "pct_of_biggest_anc           float64\n",
      "n_secbiggest_anc             float64\n",
      "pct_of_secbiggest_anc        float64\n",
      "pct_of_secbiggest_anc_new    float64\n",
      "pct_top_5_anc                float64\n",
      "wrcr                         float64\n",
      "rcr_mid                      float64\n",
      "rcr_hi                       float64\n",
      "human                        float64\n",
      "animal                       float64\n",
      "molecular_cellular           float64\n",
      "is_clinical                  float64\n",
      "is_research_article          float64\n",
      "cited_by_clin                float64\n",
      "nih                          float64\n",
      "rage                         float64\n",
      "dtype: object\n",
      "hdhdhd before  242\n",
      "len of xtrain  239\n",
      "year   2006\n",
      "[1979 1992 1993 1994 1995 1997 1998 1999 2000 2003 2005 2007 2008 2009\n",
      " 2010 2011 2012 2013 2014 2015 2016 2017 2018 2019 2020]\n",
      "cv score  0.766092241092241\n",
      "(1566,)\n",
      "no of positive  211\n",
      "len of predy  211\n"
     ]
    },
    {
     "data": {
      "image/png": "[encoded data removed]",
      "text/plain": [
       "<Figure size 432x288 with 1 Axes>"
      ]
     },
     "metadata": {
      "needs_background": "light"
     },
     "output_type": "display_data"
    },
    {
     "name": "stdout",
     "output_type": "stream",
     "text": [
      "$$$  1566   211\n",
      "total positive  211\n",
      "tp tn fp fn 0   0   0   0\n",
      "year  2006 positive  0\n",
      "actual len  16546\n",
      "len of xtest  1569\n",
      "pct_is_new                   float64\n",
      "pct_is_newish                float64\n",
      "n_biggest_anc                float64\n",
      "pct_of_biggest_anc           float64\n",
      "n_secbiggest_anc             float64\n",
      "pct_of_secbiggest_anc        float64\n",
      "pct_of_secbiggest_anc_new    float64\n",
      "pct_top_5_anc                float64\n",
      "wrcr                         float64\n",
      "rcr_mid                      float64\n",
      "rcr_hi                       float64\n",
      "human                        float64\n",
      "animal                       float64\n",
      "molecular_cellular           float64\n",
      "is_clinical                  float64\n",
      "is_research_article          float64\n",
      "cited_by_clin                float64\n",
      "nih                          float64\n",
      "rage                         float64\n",
      "dtype: object\n",
      "hdhdhd before  242\n",
      "len of xtrain  231\n",
      "year   2007\n",
      "[1979 1992 1993 1994 1995 1997 1998 1999 2000 2003 2005 2008 2009 2010\n",
      " 2011 2012 2013 2014 2015 2016 2017 2018 2019 2020]\n",
      "cv score  0.7237956487956487\n",
      "(1569,)\n",
      "no of positive  209\n",
      "len of predy  209\n"
     ]
    },
    {
     "data": {
      "image/png": "[encoded data removed]",
      "text/plain": [
       "<Figure size 432x288 with 1 Axes>"
      ]
     },
     "metadata": {
      "needs_background": "light"
     },
     "output_type": "display_data"
    },
    {
     "name": "stdout",
     "output_type": "stream",
     "text": [
      "$$$  1569   209\n",
      "total positive  209\n",
      "tp tn fp fn 2   3   0   0\n",
      "year  2007 positive  2\n",
      "actual len  17295\n",
      "len of xtest  1600\n",
      "pct_is_new                   float64\n",
      "pct_is_newish                float64\n",
      "n_biggest_anc                float64\n",
      "pct_of_biggest_anc           float64\n",
      "n_secbiggest_anc             float64\n",
      "pct_of_secbiggest_anc        float64\n",
      "pct_of_secbiggest_anc_new    float64\n",
      "pct_top_5_anc                float64\n",
      "wrcr                         float64\n",
      "rcr_mid                      float64\n",
      "rcr_hi                       float64\n",
      "human                        float64\n",
      "animal                       float64\n",
      "molecular_cellular           float64\n",
      "is_clinical                  float64\n",
      "is_research_article          float64\n",
      "cited_by_clin                float64\n",
      "nih                          float64\n",
      "rage                         float64\n",
      "dtype: object\n",
      "hdhdhd before  242\n",
      "len of xtrain  237\n",
      "year   2008\n",
      "[1979 1992 1993 1994 1995 1997 1998 1999 2000 2003 2005 2007 2009 2010\n",
      " 2011 2012 2013 2014 2015 2016 2017 2018 2019 2020]\n",
      "cv score  0.7609565434565433\n",
      "(1600,)\n",
      "no of positive  218\n",
      "len of predy  218\n"
     ]
    },
    {
     "data": {
      "image/png": "[encoded data removed]",
      "text/plain": [
       "<Figure size 432x288 with 1 Axes>"
      ]
     },
     "metadata": {
      "needs_background": "light"
     },
     "output_type": "display_data"
    },
    {
     "name": "stdout",
     "output_type": "stream",
     "text": [
      "$$$  1600   218\n",
      "total positive  218\n",
      "tp tn fp fn 0   0   0   0\n",
      "year  2008 positive  0\n",
      "actual len  18046\n",
      "len of xtest  1622\n",
      "pct_is_new                   float64\n",
      "pct_is_newish                float64\n",
      "n_biggest_anc                float64\n",
      "pct_of_biggest_anc           float64\n",
      "n_secbiggest_anc             float64\n",
      "pct_of_secbiggest_anc        float64\n",
      "pct_of_secbiggest_anc_new    float64\n",
      "pct_top_5_anc                float64\n",
      "wrcr                         float64\n",
      "rcr_mid                      float64\n",
      "rcr_hi                       float64\n",
      "human                        float64\n",
      "animal                       float64\n",
      "molecular_cellular           float64\n",
      "is_clinical                  float64\n",
      "is_research_article          float64\n",
      "cited_by_clin                float64\n",
      "nih                          float64\n",
      "rage                         float64\n",
      "dtype: object\n",
      "hdhdhd before  242\n",
      "len of xtrain  227\n",
      "year   2009\n",
      "[1979 1992 1993 1994 1995 1997 1998 1999 2000 2003 2005 2007 2008 2010\n",
      " 2011 2012 2013 2014 2015 2016 2017 2018 2019 2020]\n",
      "cv score  0.7592496392496392\n",
      "(1622,)\n",
      "no of positive  219\n",
      "len of predy  219\n"
     ]
    },
    {
     "data": {
      "image/png": "[encoded data removed]",
      "text/plain": [
       "<Figure size 432x288 with 1 Axes>"
      ]
     },
     "metadata": {
      "needs_background": "light"
     },
     "output_type": "display_data"
    },
    {
     "name": "stdout",
     "output_type": "stream",
     "text": [
      "$$$  1622   219\n",
      "total positive  219\n",
      "tp tn fp fn 4   1   0   1\n",
      "year  2009 positive  5\n",
      "actual len  18754\n",
      "len of xtest  1669\n",
      "pct_is_new                   float64\n",
      "pct_is_newish                float64\n",
      "n_biggest_anc                float64\n",
      "pct_of_biggest_anc           float64\n",
      "n_secbiggest_anc             float64\n",
      "pct_of_secbiggest_anc        float64\n",
      "pct_of_secbiggest_anc_new    float64\n",
      "pct_top_5_anc                float64\n",
      "wrcr                         float64\n",
      "rcr_mid                      float64\n",
      "rcr_hi                       float64\n",
      "human                        float64\n",
      "animal                       float64\n",
      "molecular_cellular           float64\n",
      "is_clinical                  float64\n",
      "is_research_article          float64\n",
      "cited_by_clin                float64\n",
      "nih                          float64\n",
      "rage                         float64\n",
      "dtype: object\n",
      "hdhdhd before  242\n",
      "len of xtrain  220\n",
      "year   2010\n",
      "[1979 1992 1993 1994 1995 1997 1998 1999 2000 2003 2005 2007 2008 2009\n",
      " 2011 2012 2013 2014 2015 2016 2017 2018 2019 2020]\n",
      "cv score  0.7943195693195692\n",
      "(1669,)\n",
      "no of positive  248\n",
      "len of predy  248\n"
     ]
    },
    {
     "data": {
      "image/png": "[encoded data removed]",
      "text/plain": [
       "<Figure size 432x288 with 1 Axes>"
      ]
     },
     "metadata": {
      "needs_background": "light"
     },
     "output_type": "display_data"
    },
    {
     "name": "stdout",
     "output_type": "stream",
     "text": [
      "$$$  1669   248\n",
      "total positive  248\n",
      "tp tn fp fn 4   3   1   2\n",
      "year  2010 positive  6\n",
      "actual len  19515\n",
      "len of xtest  1705\n",
      "pct_is_new                   float64\n",
      "pct_is_newish                float64\n",
      "n_biggest_anc                float64\n",
      "pct_of_biggest_anc           float64\n",
      "n_secbiggest_anc             float64\n",
      "pct_of_secbiggest_anc        float64\n",
      "pct_of_secbiggest_anc_new    float64\n",
      "pct_top_5_anc                float64\n",
      "wrcr                         float64\n",
      "rcr_mid                      float64\n",
      "rcr_hi                       float64\n",
      "human                        float64\n",
      "animal                       float64\n",
      "molecular_cellular           float64\n",
      "is_clinical                  float64\n",
      "is_research_article          float64\n",
      "cited_by_clin                float64\n",
      "nih                          float64\n",
      "rage                         float64\n",
      "dtype: object\n",
      "hdhdhd before  242\n",
      "len of xtrain  215\n",
      "year   2011\n",
      "[1979 1992 1993 1994 1995 1997 1998 1999 2000 2003 2005 2007 2008 2009\n",
      " 2010 2012 2013 2014 2015 2016 2017 2018 2019 2020]\n",
      "cv score  0.7129004329004329\n",
      "(1705,)\n",
      "no of positive  186\n",
      "len of predy  186\n"
     ]
    },
    {
     "data": {
      "image/png": "[encoded data removed]",
      "text/plain": [
       "<Figure size 432x288 with 1 Axes>"
      ]
     },
     "metadata": {
      "needs_background": "light"
     },
     "output_type": "display_data"
    },
    {
     "name": "stdout",
     "output_type": "stream",
     "text": [
      "$$$  1705   186\n",
      "total positive  186\n",
      "tp tn fp fn 6   1   1   4\n",
      "year  2011 positive  10\n",
      "actual len  20250\n",
      "len of xtest  1733\n",
      "pct_is_new                   float64\n",
      "pct_is_newish                float64\n",
      "n_biggest_anc                float64\n",
      "pct_of_biggest_anc           float64\n",
      "n_secbiggest_anc             float64\n",
      "pct_of_secbiggest_anc        float64\n",
      "pct_of_secbiggest_anc_new    float64\n",
      "pct_top_5_anc                float64\n",
      "wrcr                         float64\n",
      "rcr_mid                      float64\n",
      "rcr_hi                       float64\n",
      "human                        float64\n",
      "animal                       float64\n",
      "molecular_cellular           float64\n",
      "is_clinical                  float64\n",
      "is_research_article          float64\n",
      "cited_by_clin                float64\n",
      "nih                          float64\n",
      "rage                         float64\n",
      "dtype: object\n",
      "hdhdhd before  242\n",
      "len of xtrain  219\n",
      "year   2012\n",
      "[1979 1992 1993 1994 1995 1997 1998 1999 2000 2003 2005 2007 2008 2009\n",
      " 2010 2011 2013 2014 2015 2016 2017 2018 2019 2020]\n",
      "cv score  0.7622172272172271\n",
      "(1733,)\n",
      "no of positive  194\n",
      "len of predy  194\n"
     ]
    },
    {
     "data": {
      "image/png": "[encoded data removed]",
      "text/plain": [
       "<Figure size 432x288 with 1 Axes>"
      ]
     },
     "metadata": {
      "needs_background": "light"
     },
     "output_type": "display_data"
    },
    {
     "name": "stdout",
     "output_type": "stream",
     "text": [
      "$$$  1733   194\n",
      "total positive  194\n",
      "tp tn fp fn 5   3   2   3\n",
      "year  2012 positive  8\n",
      "actual len  21177\n",
      "len of xtest  1793\n",
      "pct_is_new                   float64\n",
      "pct_is_newish                float64\n",
      "n_biggest_anc                float64\n",
      "pct_of_biggest_anc           float64\n",
      "n_secbiggest_anc             float64\n",
      "pct_of_secbiggest_anc        float64\n",
      "pct_of_secbiggest_anc_new    float64\n",
      "pct_top_5_anc                float64\n",
      "wrcr                         float64\n",
      "rcr_mid                      float64\n",
      "rcr_hi                       float64\n",
      "human                        float64\n",
      "animal                       float64\n",
      "molecular_cellular           float64\n",
      "is_clinical                  float64\n",
      "is_research_article          float64\n",
      "cited_by_clin                float64\n",
      "nih                          float64\n",
      "rage                         float64\n",
      "dtype: object\n",
      "hdhdhd before  242\n",
      "len of xtrain  217\n",
      "year   2013\n",
      "[1979 1992 1993 1994 1995 1997 1998 1999 2000 2003 2005 2007 2008 2009\n",
      " 2010 2011 2012 2014 2015 2016 2017 2018 2019 2020]\n",
      "cv score  0.7446284271284271\n",
      "(1793,)\n",
      "no of positive  262\n",
      "len of predy  262\n"
     ]
    },
    {
     "data": {
      "image/png": "[encoded data removed]",
      "text/plain": [
       "<Figure size 432x288 with 1 Axes>"
      ]
     },
     "metadata": {
      "needs_background": "light"
     },
     "output_type": "display_data"
    },
    {
     "name": "stdout",
     "output_type": "stream",
     "text": [
      "$$$  1793   262\n",
      "total positive  262\n",
      "tp tn fp fn 8   3   1   1\n",
      "year  2013 positive  9\n",
      "actual len  22051\n",
      "len of xtest  1874\n",
      "pct_is_new                   float64\n",
      "pct_is_newish                float64\n",
      "n_biggest_anc                float64\n",
      "pct_of_biggest_anc           float64\n",
      "n_secbiggest_anc             float64\n",
      "pct_of_secbiggest_anc        float64\n",
      "pct_of_secbiggest_anc_new    float64\n",
      "pct_top_5_anc                float64\n",
      "wrcr                         float64\n",
      "rcr_mid                      float64\n",
      "rcr_hi                       float64\n",
      "human                        float64\n",
      "animal                       float64\n",
      "molecular_cellular           float64\n",
      "is_clinical                  float64\n",
      "is_research_article          float64\n",
      "cited_by_clin                float64\n",
      "nih                          float64\n",
      "rage                         float64\n",
      "dtype: object\n",
      "hdhdhd before  242\n",
      "len of xtrain  213\n",
      "year   2014\n",
      "[1979 1992 1993 1994 1995 1997 1998 1999 2000 2003 2005 2007 2008 2009\n",
      " 2010 2011 2012 2013 2015 2016 2017 2018 2019 2020]\n",
      "cv score  0.7651728826728826\n",
      "(1874,)\n",
      "no of positive  236\n",
      "len of predy  236\n"
     ]
    },
    {
     "data": {
      "image/png": "[encoded data removed]",
      "text/plain": [
       "<Figure size 432x288 with 1 Axes>"
      ]
     },
     "metadata": {
      "needs_background": "light"
     },
     "output_type": "display_data"
    },
    {
     "name": "stdout",
     "output_type": "stream",
     "text": [
      "$$$  1874   236\n",
      "total positive  236\n",
      "tp tn fp fn 7   2   1   5\n",
      "year  2014 positive  12\n",
      "actual len  23031\n",
      "len of xtest  1902\n",
      "pct_is_new                   float64\n",
      "pct_is_newish                float64\n",
      "n_biggest_anc                float64\n",
      "pct_of_biggest_anc           float64\n",
      "n_secbiggest_anc             float64\n",
      "pct_of_secbiggest_anc        float64\n",
      "pct_of_secbiggest_anc_new    float64\n",
      "pct_top_5_anc                float64\n",
      "wrcr                         float64\n",
      "rcr_mid                      float64\n",
      "rcr_hi                       float64\n",
      "human                        float64\n",
      "animal                       float64\n",
      "molecular_cellular           float64\n",
      "is_clinical                  float64\n",
      "is_research_article          float64\n",
      "cited_by_clin                float64\n",
      "nih                          float64\n",
      "rage                         float64\n",
      "dtype: object\n",
      "hdhdhd before  242\n",
      "len of xtrain  227\n",
      "year   2015\n",
      "[1979 1992 1993 1994 1995 1997 1998 1999 2000 2003 2005 2007 2008 2009\n",
      " 2010 2011 2012 2013 2014 2016 2017 2018 2019 2020]\n",
      "cv score  0.7749872349872349\n",
      "(1902,)\n",
      "no of positive  268\n",
      "len of predy  268\n"
     ]
    },
    {
     "data": {
      "image/png": "[encoded data removed]",
      "text/plain": [
       "<Figure size 432x288 with 1 Axes>"
      ]
     },
     "metadata": {
      "needs_background": "light"
     },
     "output_type": "display_data"
    },
    {
     "name": "stdout",
     "output_type": "stream",
     "text": [
      "$$$  1902   268\n",
      "total positive  268\n",
      "tp tn fp fn 3   3   1   1\n",
      "year  2015 positive  4\n",
      "actual len  23994\n",
      "len of xtest  1966\n",
      "pct_is_new                   float64\n",
      "pct_is_newish                float64\n",
      "n_biggest_anc                float64\n",
      "pct_of_biggest_anc           float64\n",
      "n_secbiggest_anc             float64\n",
      "pct_of_secbiggest_anc        float64\n",
      "pct_of_secbiggest_anc_new    float64\n",
      "pct_top_5_anc                float64\n",
      "wrcr                         float64\n",
      "rcr_mid                      float64\n",
      "rcr_hi                       float64\n",
      "human                        float64\n",
      "animal                       float64\n",
      "molecular_cellular           float64\n",
      "is_clinical                  float64\n",
      "is_research_article          float64\n",
      "cited_by_clin                float64\n",
      "nih                          float64\n",
      "rage                         float64\n",
      "dtype: object\n",
      "hdhdhd before  242\n",
      "len of xtrain  227\n",
      "year   2016\n",
      "[1979 1992 1993 1994 1995 1997 1998 1999 2000 2003 2005 2007 2008 2009\n",
      " 2010 2011 2012 2013 2014 2015 2017 2018 2019 2020]\n",
      "cv score  0.7677122877122876\n",
      "(1966,)\n",
      "no of positive  183\n",
      "len of predy  183\n"
     ]
    },
    {
     "data": {
      "image/png": "[encoded data removed]",
      "text/plain": [
       "<Figure size 432x288 with 1 Axes>"
      ]
     },
     "metadata": {
      "needs_background": "light"
     },
     "output_type": "display_data"
    },
    {
     "name": "stdout",
     "output_type": "stream",
     "text": [
      "$$$  1966   183\n",
      "total positive  183\n",
      "tp tn fp fn 0   2   0   6\n",
      "year  2016 positive  6\n",
      "actual len  24970\n",
      "len of xtest  2012\n",
      "pct_is_new                   float64\n",
      "pct_is_newish                float64\n",
      "n_biggest_anc                float64\n",
      "pct_of_biggest_anc           float64\n",
      "n_secbiggest_anc             float64\n",
      "pct_of_secbiggest_anc        float64\n",
      "pct_of_secbiggest_anc_new    float64\n",
      "pct_top_5_anc                float64\n",
      "wrcr                         float64\n",
      "rcr_mid                      float64\n",
      "rcr_hi                       float64\n",
      "human                        float64\n",
      "animal                       float64\n",
      "molecular_cellular           float64\n",
      "is_clinical                  float64\n",
      "is_research_article          float64\n",
      "cited_by_clin                float64\n",
      "nih                          float64\n",
      "rage                         float64\n",
      "dtype: object\n",
      "hdhdhd before  242\n",
      "len of xtrain  223\n",
      "year   2017\n",
      "[1979 1992 1993 1994 1995 1997 1998 1999 2000 2003 2005 2007 2008 2009\n",
      " 2010 2011 2012 2013 2014 2015 2016 2018 2019 2020]\n",
      "cv score  0.772035742035742\n",
      "(2012,)\n",
      "no of positive  203\n",
      "len of predy  203\n"
     ]
    },
    {
     "data": {
      "image/png": "[encoded data removed]",
      "text/plain": [
       "<Figure size 432x288 with 1 Axes>"
      ]
     },
     "metadata": {
      "needs_background": "light"
     },
     "output_type": "display_data"
    },
    {
     "name": "stdout",
     "output_type": "stream",
     "text": [
      "$$$  2012   203\n",
      "total positive  203\n",
      "tp tn fp fn 3   1   2   5\n",
      "year  2017 positive  8\n",
      "actual len  26037\n",
      "len of xtest  2088\n",
      "pct_is_new                   float64\n",
      "pct_is_newish                float64\n",
      "n_biggest_anc                float64\n",
      "pct_of_biggest_anc           float64\n",
      "n_secbiggest_anc             float64\n",
      "pct_of_secbiggest_anc        float64\n",
      "pct_of_secbiggest_anc_new    float64\n",
      "pct_top_5_anc                float64\n",
      "wrcr                         float64\n",
      "rcr_mid                      float64\n",
      "rcr_hi                       float64\n",
      "human                        float64\n",
      "animal                       float64\n",
      "molecular_cellular           float64\n",
      "is_clinical                  float64\n",
      "is_research_article          float64\n",
      "cited_by_clin                float64\n",
      "nih                          float64\n",
      "rage                         float64\n",
      "dtype: object\n",
      "hdhdhd before  242\n",
      "len of xtrain  227\n",
      "year   2018\n",
      "[1979 1992 1993 1994 1995 1997 1998 1999 2000 2003 2005 2007 2008 2009\n",
      " 2010 2011 2012 2013 2014 2015 2016 2017 2019 2020]\n",
      "cv score  0.7854478854478854\n",
      "(2088,)\n",
      "no of positive  289\n",
      "len of predy  289\n"
     ]
    },
    {
     "data": {
      "image/png": "[encoded data removed]",
      "text/plain": [
       "<Figure size 432x288 with 1 Axes>"
      ]
     },
     "metadata": {
      "needs_background": "light"
     },
     "output_type": "display_data"
    },
    {
     "name": "stdout",
     "output_type": "stream",
     "text": [
      "$$$  2088   289\n",
      "total positive  289\n",
      "tp tn fp fn 4   2   1   1\n",
      "year  2018 positive  5\n",
      "actual len  27104\n",
      "len of xtest  2162\n",
      "pct_is_new                   float64\n",
      "pct_is_newish                float64\n",
      "n_biggest_anc                float64\n",
      "pct_of_biggest_anc           float64\n",
      "n_secbiggest_anc             float64\n",
      "pct_of_secbiggest_anc        float64\n",
      "pct_of_secbiggest_anc_new    float64\n",
      "pct_top_5_anc                float64\n",
      "wrcr                         float64\n",
      "rcr_mid                      float64\n",
      "rcr_hi                       float64\n",
      "human                        float64\n",
      "animal                       float64\n",
      "molecular_cellular           float64\n",
      "is_clinical                  float64\n",
      "is_research_article          float64\n",
      "cited_by_clin                float64\n",
      "nih                          float64\n",
      "rage                         float64\n",
      "dtype: object\n",
      "hdhdhd before  242\n",
      "len of xtrain  225\n",
      "year   2019\n",
      "[1979 1992 1993 1994 1995 1997 1998 1999 2000 2003 2005 2007 2008 2009\n",
      " 2010 2011 2012 2013 2014 2015 2016 2017 2018 2020]\n",
      "cv score  0.7810947385947385\n",
      "(2162,)\n",
      "no of positive  277\n",
      "len of predy  277\n"
     ]
    },
    {
     "data": {
      "image/png": "[encoded data removed]",
      "text/plain": [
       "<Figure size 432x288 with 1 Axes>"
      ]
     },
     "metadata": {
      "needs_background": "light"
     },
     "output_type": "display_data"
    },
    {
     "name": "stdout",
     "output_type": "stream",
     "text": [
      "$$$  2162   277\n",
      "total positive  277\n",
      "tp tn fp fn 1   2   0   4\n",
      "year  2019 positive  5\n",
      "actual len  28585\n",
      "len of xtest  2267\n",
      "pct_is_new                   float64\n",
      "pct_is_newish                float64\n",
      "n_biggest_anc                float64\n",
      "pct_of_biggest_anc           float64\n",
      "n_secbiggest_anc             float64\n",
      "pct_of_secbiggest_anc        float64\n",
      "pct_of_secbiggest_anc_new    float64\n",
      "pct_top_5_anc                float64\n",
      "wrcr                         float64\n",
      "rcr_mid                      float64\n",
      "rcr_hi                       float64\n",
      "human                        float64\n",
      "animal                       float64\n",
      "molecular_cellular           float64\n",
      "is_clinical                  float64\n",
      "is_research_article          float64\n",
      "cited_by_clin                float64\n",
      "nih                          float64\n",
      "rage                         float64\n",
      "dtype: object\n",
      "hdhdhd before  242\n",
      "len of xtrain  231\n",
      "year   2020\n",
      "[1979 1992 1993 1994 1995 1997 1998 1999 2000 2003 2005 2007 2008 2009\n",
      " 2010 2011 2012 2013 2014 2015 2016 2017 2018 2019]\n",
      "cv score  0.7377744477744479\n",
      "(2267,)\n",
      "no of positive  314\n",
      "len of predy  314\n"
     ]
    },
    {
     "data": {
      "image/png": "[encoded data removed]",
      "text/plain": [
       "<Figure size 432x288 with 1 Axes>"
      ]
     },
     "metadata": {
      "needs_background": "light"
     },
     "output_type": "display_data"
    },
    {
     "name": "stdout",
     "output_type": "stream",
     "text": [
      "$$$  2267   314\n",
      "total positive  314\n",
      "tp tn fp fn 2   2   0   2\n",
      "year  2020 positive  4\n",
      "total pos  96  true pos  55  total false pos  184.58139534883722 0.7655458214076546\n"
     ]
    }
   ],
   "source": [
    "##logistic regression: unified model for all\n",
    "def recall2(pred,th, yr):\n",
    "    data = pd.read_csv(\"data_84.csv\")\n",
    "    data = data[data['year'] == yr]\n",
    "    data = data[data['n'] > 100]\n",
    "    ll = 350\n",
    "    tot = 0\n",
    "    ress = pd.merge(data,pred,on='cluster', how = 'inner')\n",
    "    \n",
    "    tp,tn,fp, fn = 0,0,0,0\n",
    "    pred = pred.sort_values(by=['pred_log'], ascending = False)\n",
    "    res = pred.head(ll)\n",
    "    for ind in res.index:\n",
    "        cl = res['cluster'][ind]\n",
    "        dd = data[data['cluster'] == cl]\n",
    "        if len(dd) != 0:\n",
    "            dd = dd.to_numpy()\n",
    "            cls = dd[0][dd.shape[1] - 1]\n",
    "            if cls == 1:\n",
    "                tp += 1\n",
    "            else:\n",
    "                fp += 1\n",
    "        else:\n",
    "            fp += 1\n",
    "       \n",
    "    pred = pred[pred['pred_log'] >= th]\n",
    "    print(\"total positive \", ll)\n",
    "    print(\"tp fp\",tp,\" \",fp)\n",
    "    total_pos = len(ress[ress['class'] == 1])\n",
    "    print(\"year \",yr,\"positive \",total_pos)\n",
    "    \n",
    "    \n",
    "    return total_pos,tp,ll - tp\n",
    "\n",
    "def recall(pred,th, yr):\n",
    "    data = pd.read_csv(\"data_84.csv\")\n",
    "    data = data[data['year'] == yr]\n",
    "    data = data[data['n'] > 100]\n",
    "\n",
    "    tot = 0\n",
    "    res = pd.merge(data,pred,on='cluster', how = 'inner')\n",
    "    tp,tn,fp, fn = 0,0,0,0\n",
    "    for ind in res.index:\n",
    "        if res['class'][ind] == 1 and res['pred_log'][ind] >= th:\n",
    "            tp += 1\n",
    "        elif res['class'][ind] == 0 and res['pred_log'][ind] < th:\n",
    "            tn += 1\n",
    "        elif res['class'][ind] == 0 and res['pred_log'][ind] >= th:\n",
    "            fp += 1\n",
    "        elif res['class'][ind] == 1 and res['pred_log'][ind] < th:\n",
    "            fn += 1\n",
    "    pred = pred[pred['pred_log'] >= th]\n",
    "    print(\"total positive \", len(pred))\n",
    "    print(\"tp tn fp fn\",tp,\" \",tn,\" \",fp,\" \",fn)\n",
    "    total_pos = len(res[res['class'] == 1])\n",
    "    print(\"year \",yr,\"positive \",total_pos)\n",
    "    \n",
    "    \n",
    "    return total_pos,tp,len(pred[pred['pred_log'] >= th]) - tp\n",
    "\n",
    "\n",
    "def train(x_train):\n",
    "    \n",
    "    \n",
    "  \n",
    "    y_train = x_train['class']\n",
    "    \n",
    "    x_train = x_train.drop(['class','cluster','year','n','pct_dusted_ccn','pct_dusted_rmcl',\n",
    "                           'pct_in_secbiggest_anc','rcr_low','secbiggest_anc',\n",
    "                           'pct_of_biggest_anc_newish','pct_of_biggest_anc_new','n_clusts_90_anc'\n",
    "                           ,'pct_in_biggest_anc','biggest_anc','pct_of_secbiggest_anc_newish'\n",
    "                           ], axis = 1)\n",
    "    \n",
    "    x_train[['pct_of_biggest_anc','pct_is_newish','wrcr']] = minmax_scale(x_train[[\n",
    "    'pct_of_biggest_anc','pct_is_newish','wrcr']])\n",
    "    \n",
    "    \n",
    "    \n",
    "    '''x_train[['wrcr','rcr_hi','rcr_mid','n_biggest_anc','n_secbiggest_anc','n_clusts_90_anc','pct_of_biggest_anc_new']] = minmax_scale(x_train[['wrcr','rcr_hi','rcr_mid','n_biggest_anc','n_secbiggest_anc','n_clusts_90_anc','pct_of_biggest_anc_new']])\n",
    "    x_train = x_train.drop(['cluster','year','n','pct_is_newish','pct_dusted_ccn','pct_dusted_rmcl','biggest_anc','pct_in_biggest_anc','pct_of_biggest_anc','pct_of_biggest_anc_new','pct_of_biggest_anc_newish','secbiggest_anc'], axis = 1)#$%\n",
    "    #x_train = x_train.drop(['pct_of_biggest_anc_new','pct_of_secbiggest_anc_new','animal','pct_is_newish'], axis = 1)\n",
    "    x_train = x_train.drop(['pct_in_secbiggest_anc','pct_of_secbiggest_anc','pct_of_secbiggest_anc_newish','rcr_low','class'], axis = 1)\n",
    "    \n",
    "    '''\n",
    "    \n",
    "    y_train = np.array(y_train)\n",
    " \n",
    "    model = LogisticRegression(random_state=0, C = 1).fit(x_train,y_train) ##logistioc\n",
    "    \n",
    "    '''crossvalidation2(x_train, y_train)\n",
    "    print(model.intercept_, model.coef_, model.score(x_train, y_train))'''\n",
    "    scores = cross_val_score(model, x_train, y_train, cv=20,scoring = \"f1\")\n",
    "    print(\"cv score \", scores.mean())\n",
    "    return model,scores.mean()\n",
    "    \n",
    "tot,tp,total_fp = 0,0,0\n",
    "yr = 1978\n",
    "x = pd.read_csv(\"data_84.csv\")\n",
    "x = x['year'].unique()\n",
    "print(len(x))\n",
    "CV = 0\n",
    "while yr <= 2020:\n",
    "#for yr in x:\n",
    "    \n",
    "    x_train = pd.read_csv(\"data_84.csv\")\n",
    "    x_test = pd.read_csv(\"~/Documents/PhD/project_nobel/boty/boty_incites/features_prediction_\"+str(yr)+\".csv\")\n",
    "    print(\"actual len \",len(x_test))\n",
    "    x_test = x_test.dropna(axis=0)\n",
    "    \n",
    "    x_test = x_test[x_test['n'] > 100]\n",
    "    \n",
    "   \n",
    "    #x_test = x_test[x_test['n_biggest_anc'] >= 500]\n",
    "    x_test = x_test[x_test['rcr_hi'] >= 2.00]\n",
    "    x_test = x_test[x_test['cited_by_clin'] >= 0.080]\n",
    "    #x_test = x_test[x_test['is_clinical'] >= 0.010] ##this one\n",
    "    x_test = x_test[x_test['animal'] >= 0.01]\n",
    "\n",
    "    x_test = x_test[x_test['molecular_cellular'] >= 0.020] ##this one, with C = 1\n",
    "    #x_test = x_test[x_test['nih'] >= 0.020]\n",
    "    x_test = x_test[x_test['human'] >= 0.20]\n",
    "    #x_test = x_test[x_test['rage'] >= 5]\n",
    "    #x_test = x_test[x_test['pct_is_new'] >= 0.09]\n",
    "    print(\"len of xtest \",len(x_test))\n",
    "       \n",
    "    copy_test = x_test.copy()\n",
    "    #print(x_test.tail(10))\n",
    "    \n",
    "    #x_test = x_test[x_test['is_research_article'] > 0.75]\n",
    "    x_test = x_test.drop(['prediction','cluster','year','n',\n",
    "                               'pct_in_secbiggest_anc','rcr_low','secbiggest_anc',\n",
    "                               'pct_of_biggest_anc_newish','pct_of_biggest_anc_new','n_clusts_90_anc'\n",
    "                               ,'pct_in_biggest_anc','biggest_anc','pct_of_secbiggest_anc_newish'\n",
    "                               ], axis = 1)\n",
    "    \n",
    "    x_test[['pct_of_biggest_anc','pct_is_newish','wrcr']] = minmax_scale(x_test[[\n",
    "    'pct_of_biggest_anc','pct_is_newish','wrcr']])\n",
    "    \n",
    "    print(x_test.dtypes)\n",
    "    '''x_test[['wrcr','rcr_hi','rcr_mid','n_biggest_anc','n_secbiggest_anc','n_clusts_90_anc','pct_of_biggest_anc_new']] = minmax_scale(x_test[['wrcr','rcr_hi','rcr_mid','n_biggest_anc','n_secbiggest_anc','n_clusts_90_anc','pct_of_biggest_anc_new']])\n",
    "    x_test = x_test.drop(['cluster','year','n','pct_is_newish','biggest_anc','pct_in_biggest_anc','pct_of_biggest_anc','pct_of_biggest_anc_new','pct_of_biggest_anc_newish','secbiggest_anc'], axis = 1)\n",
    "    x_test = x_test.drop(['prediction','pct_in_secbiggest_anc','pct_of_secbiggest_anc','pct_of_secbiggest_anc_newish','rcr_low'], axis=1)\n",
    "    '''\n",
    "    \n",
    "    \n",
    "    print(\"hdhdhd before \",len(x_train))\n",
    "    x_train = x_train[x_train['year'] != yr]\n",
    "    x_train = x_train[x_train['n'] > 100]\n",
    "\n",
    "    \n",
    "    #x_train = x_train[x_train['is_research_article'] > 0.75]\n",
    "    print('len of xtrain ', len(x_train))\n",
    "    print(\"year  \",yr)\n",
    "    print(x_train['year'].unique())\n",
    "\n",
    "    model,cv = train(x_train)\n",
    "    CV += cv\n",
    "    pred = model.predict(x_test)\n",
    "    print(pred.shape)\n",
    "    #print(np.sum(pred))\n",
    "    print(\"no of positive \",np.count_nonzero(pred == 1))\n",
    "    \n",
    "\n",
    "    \n",
    "    predy = model.predict_proba(x_test)\n",
    "    pred_test = []\n",
    "    for i in range(predy.shape[0]):\n",
    "        if predy[i][0] >= predy[i][1]:\n",
    "            #pred_test.append(0.00)\n",
    "            pred_test.append(predy[i][1])\n",
    "        else:\n",
    "            pred_test.append(predy[i][1])\n",
    "    \n",
    "    predy = pd.DataFrame(predy, columns = ['col_0','col_1'])\n",
    "    predy = predy[predy['col_1'] >= 0.50]\n",
    "    #print(\"len of df \", len(df))\n",
    "    print(\"len of predy \", len(predy))\n",
    "    \n",
    "    \n",
    "    \n",
    "    copy_test['pred_log'] = pred_test\n",
    "    copy_test['pred_log'].hist()\n",
    "    plt.show()\n",
    "    \n",
    "    \n",
    "    print(\"$$$ \",len(copy_test),\" \",len(copy_test[copy_test['pred_log'] >= 0.50]))\n",
    "    a, b,c = recall(copy_test,0.50, yr)\n",
    "    tot += a\n",
    "    tp += b\n",
    "    total_fp += c\n",
    "    yr += 1\n",
    "print(\"total pos \",tot,\" true pos \", tp,\" total false pos \",total_fp/43, CV/43)"
   ]
  },
  {
   "cell_type": "code",
   "execution_count": null,
   "id": "838e2857",
   "metadata": {},
   "outputs": [],
   "source": []
  },
  {
   "cell_type": "code",
   "execution_count": 6,
   "id": "64405cad",
   "metadata": {},
   "outputs": [
    {
     "name": "stdout",
     "output_type": "stream",
     "text": [
      "actual len  8714\n",
      "len of xtest  4303\n",
      "hdhdhd before  223\n",
      "len of xtrain  219\n",
      "year   1978\n",
      "[1979 1991 1992 1993 1994 1996 1998 1999 2000 2003 2006 2007 2008 2009\n",
      " 2010 2011 2012 2013 2014 2015 2016 2017 2018 2019 2020]\n",
      "cv score  0.770358807858808\n",
      "(4303,)\n",
      "no of positive  1619\n",
      "len of predy  684\n"
     ]
    },
    {
     "data": {
      "image/png": "[encoded data removed]",
      "text/plain": [
       "<Figure size 432x288 with 1 Axes>"
      ]
     },
     "metadata": {
      "needs_background": "light"
     },
     "output_type": "display_data"
    },
    {
     "name": "stdout",
     "output_type": "stream",
     "text": [
      "$$$  4303   684\n",
      "total positive  684\n",
      "tp tn fp fn 0   0   0   0\n",
      "year  1978 positive  0\n",
      "actual len  9064\n",
      "len of xtest  4522\n",
      "hdhdhd before  223\n",
      "len of xtrain  218\n",
      "year   1979\n",
      "[1991 1992 1993 1994 1996 1998 1999 2000 2003 2006 2007 2008 2009 2010\n",
      " 2011 2012 2013 2014 2015 2016 2017 2018 2019 2020]\n",
      "cv score  0.7723212898212898\n",
      "(4522,)\n",
      "no of positive  1510\n",
      "len of predy  477\n"
     ]
    },
    {
     "data": {
      "image/png": "[encoded data removed]",
      "text/plain": [
       "<Figure size 432x288 with 1 Axes>"
      ]
     },
     "metadata": {
      "needs_background": "light"
     },
     "output_type": "display_data"
    },
    {
     "name": "stdout",
     "output_type": "stream",
     "text": [
      "$$$  4522   477\n",
      "total positive  477\n",
      "tp tn fp fn 0   0   0   1\n",
      "year  1979 positive  1\n",
      "actual len  9441\n",
      "len of xtest  4677\n",
      "hdhdhd before  223\n",
      "len of xtrain  219\n",
      "year   1980\n",
      "[1979 1991 1992 1993 1994 1996 1998 1999 2000 2003 2006 2007 2008 2009\n",
      " 2010 2011 2012 2013 2014 2015 2016 2017 2018 2019 2020]\n",
      "cv score  0.770358807858808\n",
      "(4677,)\n",
      "no of positive  1765\n",
      "len of predy  685\n"
     ]
    },
    {
     "data": {
      "image/png": "[encoded data removed]",
      "text/plain": [
       "<Figure size 432x288 with 1 Axes>"
      ]
     },
     "metadata": {
      "needs_background": "light"
     },
     "output_type": "display_data"
    },
    {
     "name": "stdout",
     "output_type": "stream",
     "text": [
      "$$$  4677   685\n",
      "total positive  685\n",
      "tp tn fp fn 0   0   0   0\n",
      "year  1980 positive  0\n",
      "actual len  9864\n",
      "len of xtest  4855\n",
      "hdhdhd before  223\n",
      "len of xtrain  219\n",
      "year   1981\n",
      "[1979 1991 1992 1993 1994 1996 1998 1999 2000 2003 2006 2007 2008 2009\n",
      " 2010 2011 2012 2013 2014 2015 2016 2017 2018 2019 2020]\n",
      "cv score  0.770358807858808\n",
      "(4855,)\n",
      "no of positive  1794\n",
      "len of predy  811\n"
     ]
    },
    {
     "data": {
      "image/png": "[encoded data removed]",
      "text/plain": [
       "<Figure size 432x288 with 1 Axes>"
      ]
     },
     "metadata": {
      "needs_background": "light"
     },
     "output_type": "display_data"
    },
    {
     "name": "stdout",
     "output_type": "stream",
     "text": [
      "$$$  4855   811\n",
      "total positive  811\n",
      "tp tn fp fn 0   0   0   0\n",
      "year  1981 positive  0\n",
      "actual len  10210\n",
      "len of xtest  5115\n",
      "hdhdhd before  223\n",
      "len of xtrain  219\n",
      "year   1982\n",
      "[1979 1991 1992 1993 1994 1996 1998 1999 2000 2003 2006 2007 2008 2009\n",
      " 2010 2011 2012 2013 2014 2015 2016 2017 2018 2019 2020]\n",
      "cv score  0.770358807858808\n",
      "(5115,)\n",
      "no of positive  1957\n",
      "len of predy  891\n"
     ]
    },
    {
     "data": {
      "image/png": "[encoded data removed]",
      "text/plain": [
       "<Figure size 432x288 with 1 Axes>"
      ]
     },
     "metadata": {
      "needs_background": "light"
     },
     "output_type": "display_data"
    },
    {
     "name": "stdout",
     "output_type": "stream",
     "text": [
      "$$$  5115   891\n",
      "total positive  891\n",
      "tp tn fp fn 0   0   0   0\n",
      "year  1982 positive  0\n",
      "actual len  10637\n",
      "len of xtest  5290\n",
      "hdhdhd before  223\n",
      "len of xtrain  219\n",
      "year   1983\n",
      "[1979 1991 1992 1993 1994 1996 1998 1999 2000 2003 2006 2007 2008 2009\n",
      " 2010 2011 2012 2013 2014 2015 2016 2017 2018 2019 2020]\n",
      "cv score  0.770358807858808\n",
      "(5290,)\n",
      "no of positive  1951\n",
      "len of predy  840\n"
     ]
    },
    {
     "data": {
      "image/png": "[encoded data removed]",
      "text/plain": [
       "<Figure size 432x288 with 1 Axes>"
      ]
     },
     "metadata": {
      "needs_background": "light"
     },
     "output_type": "display_data"
    },
    {
     "name": "stdout",
     "output_type": "stream",
     "text": [
      "$$$  5290   840\n",
      "total positive  840\n",
      "tp tn fp fn 0   0   0   0\n",
      "year  1983 positive  0\n",
      "actual len  11077\n",
      "len of xtest  5538\n",
      "hdhdhd before  223\n",
      "len of xtrain  219\n",
      "year   1984\n",
      "[1979 1991 1992 1993 1994 1996 1998 1999 2000 2003 2006 2007 2008 2009\n",
      " 2010 2011 2012 2013 2014 2015 2016 2017 2018 2019 2020]\n",
      "cv score  0.770358807858808\n",
      "(5538,)\n",
      "no of positive  1946\n",
      "len of predy  732\n"
     ]
    },
    {
     "data": {
      "image/png": "[encoded data removed]",
      "text/plain": [
       "<Figure size 432x288 with 1 Axes>"
      ]
     },
     "metadata": {
      "needs_background": "light"
     },
     "output_type": "display_data"
    },
    {
     "name": "stdout",
     "output_type": "stream",
     "text": [
      "$$$  5538   732\n",
      "total positive  732\n",
      "tp tn fp fn 0   0   0   0\n",
      "year  1984 positive  0\n",
      "actual len  11539\n",
      "len of xtest  5729\n",
      "hdhdhd before  223\n",
      "len of xtrain  219\n",
      "year   1985\n",
      "[1979 1991 1992 1993 1994 1996 1998 1999 2000 2003 2006 2007 2008 2009\n",
      " 2010 2011 2012 2013 2014 2015 2016 2017 2018 2019 2020]\n",
      "cv score  0.770358807858808\n",
      "(5729,)\n",
      "no of positive  1890\n",
      "len of predy  704\n"
     ]
    },
    {
     "data": {
      "image/png": "[encoded data removed]",
      "text/plain": [
       "<Figure size 432x288 with 1 Axes>"
      ]
     },
     "metadata": {
      "needs_background": "light"
     },
     "output_type": "display_data"
    },
    {
     "name": "stdout",
     "output_type": "stream",
     "text": [
      "$$$  5729   704\n",
      "total positive  704\n",
      "tp tn fp fn 0   0   0   0\n",
      "year  1985 positive  0\n",
      "actual len  12054\n",
      "len of xtest  6003\n",
      "hdhdhd before  223\n",
      "len of xtrain  219\n",
      "year   1986\n",
      "[1979 1991 1992 1993 1994 1996 1998 1999 2000 2003 2006 2007 2008 2009\n",
      " 2010 2011 2012 2013 2014 2015 2016 2017 2018 2019 2020]\n",
      "cv score  0.770358807858808\n",
      "(6003,)\n",
      "no of positive  1720\n",
      "len of predy  550\n"
     ]
    },
    {
     "data": {
      "image/png": "[encoded data removed]",
      "text/plain": [
       "<Figure size 432x288 with 1 Axes>"
      ]
     },
     "metadata": {
      "needs_background": "light"
     },
     "output_type": "display_data"
    },
    {
     "name": "stdout",
     "output_type": "stream",
     "text": [
      "$$$  6003   550\n",
      "total positive  550\n",
      "tp tn fp fn 0   0   0   0\n",
      "year  1986 positive  0\n",
      "actual len  12580\n",
      "len of xtest  6317\n",
      "hdhdhd before  223\n",
      "len of xtrain  219\n",
      "year   1987\n",
      "[1979 1991 1992 1993 1994 1996 1998 1999 2000 2003 2006 2007 2008 2009\n",
      " 2010 2011 2012 2013 2014 2015 2016 2017 2018 2019 2020]\n",
      "cv score  0.770358807858808\n",
      "(6317,)\n",
      "no of positive  1554\n",
      "len of predy  328\n"
     ]
    },
    {
     "data": {
      "image/png": "[encoded data removed]",
      "text/plain": [
       "<Figure size 432x288 with 1 Axes>"
      ]
     },
     "metadata": {
      "needs_background": "light"
     },
     "output_type": "display_data"
    },
    {
     "name": "stdout",
     "output_type": "stream",
     "text": [
      "$$$  6317   328\n",
      "total positive  328\n",
      "tp tn fp fn 0   0   0   0\n",
      "year  1987 positive  0\n",
      "actual len  13150\n",
      "len of xtest  6609\n",
      "hdhdhd before  223\n",
      "len of xtrain  219\n",
      "year   1988\n",
      "[1979 1991 1992 1993 1994 1996 1998 1999 2000 2003 2006 2007 2008 2009\n",
      " 2010 2011 2012 2013 2014 2015 2016 2017 2018 2019 2020]\n",
      "cv score  0.770358807858808\n",
      "(6609,)\n",
      "no of positive  1622\n",
      "len of predy  353\n"
     ]
    },
    {
     "data": {
      "image/png": "[encoded data removed]",
      "text/plain": [
       "<Figure size 432x288 with 1 Axes>"
      ]
     },
     "metadata": {
      "needs_background": "light"
     },
     "output_type": "display_data"
    },
    {
     "name": "stdout",
     "output_type": "stream",
     "text": [
      "$$$  6609   353\n",
      "total positive  353\n",
      "tp tn fp fn 0   0   0   0\n",
      "year  1988 positive  0\n",
      "actual len  13783\n",
      "len of xtest  6819\n",
      "hdhdhd before  223\n",
      "len of xtrain  219\n",
      "year   1989\n",
      "[1979 1991 1992 1993 1994 1996 1998 1999 2000 2003 2006 2007 2008 2009\n",
      " 2010 2011 2012 2013 2014 2015 2016 2017 2018 2019 2020]\n",
      "cv score  0.770358807858808\n",
      "(6819,)\n",
      "no of positive  2162\n",
      "len of predy  763\n"
     ]
    },
    {
     "data": {
      "image/png": "[encoded data removed]",
      "text/plain": [
       "<Figure size 432x288 with 1 Axes>"
      ]
     },
     "metadata": {
      "needs_background": "light"
     },
     "output_type": "display_data"
    },
    {
     "name": "stdout",
     "output_type": "stream",
     "text": [
      "$$$  6819   763\n",
      "total positive  763\n",
      "tp tn fp fn 0   0   0   0\n",
      "year  1989 positive  0\n",
      "actual len  14399\n",
      "len of xtest  7133\n",
      "hdhdhd before  223\n",
      "len of xtrain  219\n",
      "year   1990\n",
      "[1979 1991 1992 1993 1994 1996 1998 1999 2000 2003 2006 2007 2008 2009\n",
      " 2010 2011 2012 2013 2014 2015 2016 2017 2018 2019 2020]\n",
      "cv score  0.770358807858808\n",
      "(7133,)\n",
      "no of positive  2437\n",
      "len of predy  983\n"
     ]
    },
    {
     "data": {
      "image/png": "[encoded data removed]",
      "text/plain": [
       "<Figure size 432x288 with 1 Axes>"
      ]
     },
     "metadata": {
      "needs_background": "light"
     },
     "output_type": "display_data"
    },
    {
     "name": "stdout",
     "output_type": "stream",
     "text": [
      "$$$  7133   983\n",
      "total positive  983\n",
      "tp tn fp fn 0   0   0   0\n",
      "year  1990 positive  0\n",
      "actual len  15057\n",
      "len of xtest  7484\n",
      "hdhdhd before  223\n",
      "len of xtrain  217\n",
      "year   1991\n",
      "[1979 1992 1993 1994 1996 1998 1999 2000 2003 2006 2007 2008 2009 2010\n",
      " 2011 2012 2013 2014 2015 2016 2017 2018 2019 2020]\n",
      "cv score  0.763443500943501\n",
      "(7484,)\n",
      "no of positive  2519\n",
      "len of predy  1037\n"
     ]
    },
    {
     "data": {
      "image/png": "[encoded data removed]",
      "text/plain": [
       "<Figure size 432x288 with 1 Axes>"
      ]
     },
     "metadata": {
      "needs_background": "light"
     },
     "output_type": "display_data"
    },
    {
     "name": "stdout",
     "output_type": "stream",
     "text": [
      "$$$  7484   1037\n",
      "total positive  1037\n",
      "tp tn fp fn 0   1   0   1\n",
      "year  1991 positive  1\n",
      "actual len  15614\n",
      "len of xtest  7753\n",
      "hdhdhd before  223\n",
      "len of xtrain  217\n",
      "year   1992\n",
      "[1979 1991 1993 1994 1996 1998 1999 2000 2003 2006 2007 2008 2009 2010\n",
      " 2011 2012 2013 2014 2015 2016 2017 2018 2019 2020]\n",
      "cv score  0.7679889554889555\n",
      "(7753,)\n",
      "no of positive  2258\n",
      "len of predy  755\n"
     ]
    },
    {
     "data": {
      "image/png": "[encoded data removed]",
      "text/plain": [
       "<Figure size 432x288 with 1 Axes>"
      ]
     },
     "metadata": {
      "needs_background": "light"
     },
     "output_type": "display_data"
    },
    {
     "name": "stdout",
     "output_type": "stream",
     "text": [
      "$$$  7753   755\n",
      "total positive  755\n",
      "tp tn fp fn 1   1   0   0\n",
      "year  1992 positive  1\n",
      "actual len  16286\n",
      "len of xtest  7982\n",
      "hdhdhd before  223\n",
      "len of xtrain  217\n",
      "year   1993\n",
      "[1979 1991 1992 1994 1996 1998 1999 2000 2003 2006 2007 2008 2009 2010\n",
      " 2011 2012 2013 2014 2015 2016 2017 2018 2019 2020]\n",
      "cv score  0.763443500943501\n",
      "(7982,)\n",
      "no of positive  3010\n",
      "len of predy  1512\n"
     ]
    },
    {
     "data": {
      "image/png": "[encoded data removed]",
      "text/plain": [
       "<Figure size 432x288 with 1 Axes>"
      ]
     },
     "metadata": {
      "needs_background": "light"
     },
     "output_type": "display_data"
    },
    {
     "name": "stdout",
     "output_type": "stream",
     "text": [
      "$$$  7982   1512\n",
      "total positive  1512\n",
      "tp tn fp fn 0   1   0   1\n",
      "year  1993 positive  1\n",
      "actual len  16911\n",
      "len of xtest  8301\n",
      "hdhdhd before  223\n",
      "len of xtrain  218\n",
      "year   1994\n",
      "[1979 1991 1992 1993 1996 1998 1999 2000 2003 2006 2007 2008 2009 2010\n",
      " 2011 2012 2013 2014 2015 2016 2017 2018 2019 2020]\n",
      "cv score  0.7707883782883783\n",
      "(8301,)\n",
      "no of positive  2981\n",
      "len of predy  1318\n"
     ]
    },
    {
     "data": {
      "image/png": "[encoded data removed]",
      "text/plain": [
       "<Figure size 432x288 with 1 Axes>"
      ]
     },
     "metadata": {
      "needs_background": "light"
     },
     "output_type": "display_data"
    },
    {
     "name": "stdout",
     "output_type": "stream",
     "text": [
      "$$$  8301   1318\n",
      "total positive  1318\n",
      "tp tn fp fn 0   1   0   0\n",
      "year  1994 positive  0\n",
      "actual len  17585\n",
      "len of xtest  8620\n",
      "hdhdhd before  223\n",
      "len of xtrain  219\n",
      "year   1995\n",
      "[1979 1991 1992 1993 1994 1996 1998 1999 2000 2003 2006 2007 2008 2009\n",
      " 2010 2011 2012 2013 2014 2015 2016 2017 2018 2019 2020]\n",
      "cv score  0.770358807858808\n",
      "(8620,)\n",
      "no of positive  3401\n",
      "len of predy  1792\n"
     ]
    },
    {
     "data": {
      "image/png": "[encoded data removed]",
      "text/plain": [
       "<Figure size 432x288 with 1 Axes>"
      ]
     },
     "metadata": {
      "needs_background": "light"
     },
     "output_type": "display_data"
    },
    {
     "name": "stdout",
     "output_type": "stream",
     "text": [
      "$$$  8620   1792\n",
      "total positive  1792\n",
      "tp tn fp fn 0   0   0   0\n",
      "year  1995 positive  0\n",
      "actual len  18277\n",
      "len of xtest  8999\n",
      "hdhdhd before  223\n",
      "len of xtrain  217\n",
      "year   1996\n",
      "[1979 1991 1992 1993 1994 1998 1999 2000 2003 2006 2007 2008 2009 2010\n",
      " 2011 2012 2013 2014 2015 2016 2017 2018 2019 2020]\n",
      "cv score  0.7564990564990566\n",
      "(8999,)\n",
      "no of positive  3245\n",
      "len of predy  1545\n"
     ]
    },
    {
     "data": {
      "image/png": "[encoded data removed]",
      "text/plain": [
       "<Figure size 432x288 with 1 Axes>"
      ]
     },
     "metadata": {
      "needs_background": "light"
     },
     "output_type": "display_data"
    },
    {
     "name": "stdout",
     "output_type": "stream",
     "text": [
      "$$$  8999   1545\n",
      "total positive  1545\n",
      "tp tn fp fn 0   1   0   1\n",
      "year  1996 positive  1\n",
      "actual len  18933\n",
      "len of xtest  9261\n",
      "hdhdhd before  223\n",
      "len of xtrain  219\n",
      "year   1997\n",
      "[1979 1991 1992 1993 1994 1996 1998 1999 2000 2003 2006 2007 2008 2009\n",
      " 2010 2011 2012 2013 2014 2015 2016 2017 2018 2019 2020]\n",
      "cv score  0.770358807858808\n",
      "(9261,)\n",
      "no of positive  3201\n",
      "len of predy  1478\n"
     ]
    },
    {
     "data": {
      "image/png": "[encoded data removed]",
      "text/plain": [
       "<Figure size 432x288 with 1 Axes>"
      ]
     },
     "metadata": {
      "needs_background": "light"
     },
     "output_type": "display_data"
    },
    {
     "name": "stdout",
     "output_type": "stream",
     "text": [
      "$$$  9261   1478\n",
      "total positive  1478\n",
      "tp tn fp fn 0   0   0   0\n",
      "year  1997 positive  0\n",
      "actual len  19596\n",
      "len of xtest  9510\n",
      "hdhdhd before  223\n",
      "len of xtrain  213\n",
      "year   1998\n",
      "[1979 1991 1992 1993 1994 1996 1999 2000 2003 2006 2007 2008 2009 2010\n",
      " 2011 2012 2013 2014 2015 2016 2017 2018 2019 2020]\n",
      "cv score  0.7798054723054724\n",
      "(9510,)\n",
      "no of positive  2677\n",
      "len of predy  1014\n"
     ]
    },
    {
     "data": {
      "image/png": "[encoded data removed]",
      "text/plain": [
       "<Figure size 432x288 with 1 Axes>"
      ]
     },
     "metadata": {
      "needs_background": "light"
     },
     "output_type": "display_data"
    },
    {
     "name": "stdout",
     "output_type": "stream",
     "text": [
      "$$$  9510   1014\n",
      "total positive  1014\n",
      "tp tn fp fn 2   3   0   1\n",
      "year  1998 positive  3\n",
      "actual len  20269\n",
      "len of xtest  9903\n",
      "hdhdhd before  223\n",
      "len of xtrain  215\n",
      "year   1999\n",
      "[1979 1991 1992 1993 1994 1996 1998 2000 2003 2006 2007 2008 2009 2010\n",
      " 2011 2012 2013 2014 2015 2016 2017 2018 2019 2020]\n",
      "cv score  0.7677358752358752\n",
      "(9903,)\n",
      "no of positive  3123\n",
      "len of predy  1414\n"
     ]
    },
    {
     "data": {
      "image/png": "[encoded data removed]",
      "text/plain": [
       "<Figure size 432x288 with 1 Axes>"
      ]
     },
     "metadata": {
      "needs_background": "light"
     },
     "output_type": "display_data"
    },
    {
     "name": "stdout",
     "output_type": "stream",
     "text": [
      "$$$  9903   1414\n",
      "total positive  1414\n",
      "tp tn fp fn 0   0   2   2\n",
      "year  1999 positive  2\n",
      "actual len  21025\n",
      "len of xtest  10331\n",
      "hdhdhd before  223\n",
      "len of xtrain  213\n",
      "year   2000\n",
      "[1979 1991 1992 1993 1994 1996 1998 1999 2003 2006 2007 2008 2009 2010\n",
      " 2011 2012 2013 2014 2015 2016 2017 2018 2019 2020]\n",
      "cv score  0.7761341436341437\n",
      "(10331,)\n",
      "no of positive  3646\n",
      "len of predy  1750\n"
     ]
    },
    {
     "data": {
      "image/png": "[encoded data removed]",
      "text/plain": [
       "<Figure size 432x288 with 1 Axes>"
      ]
     },
     "metadata": {
      "needs_background": "light"
     },
     "output_type": "display_data"
    },
    {
     "name": "stdout",
     "output_type": "stream",
     "text": [
      "$$$  10331   1750\n",
      "total positive  1750\n",
      "tp tn fp fn 0   2   1   3\n",
      "year  2000 positive  3\n",
      "actual len  21961\n",
      "len of xtest  10713\n",
      "hdhdhd before  223\n",
      "len of xtrain  219\n",
      "year   2001\n",
      "[1979 1991 1992 1993 1994 1996 1998 1999 2000 2003 2006 2007 2008 2009\n",
      " 2010 2011 2012 2013 2014 2015 2016 2017 2018 2019 2020]\n",
      "cv score  0.770358807858808\n",
      "(10713,)\n",
      "no of positive  3198\n",
      "len of predy  1228\n"
     ]
    },
    {
     "data": {
      "image/png": "[encoded data removed]",
      "text/plain": [
       "<Figure size 432x288 with 1 Axes>"
      ]
     },
     "metadata": {
      "needs_background": "light"
     },
     "output_type": "display_data"
    },
    {
     "name": "stdout",
     "output_type": "stream",
     "text": [
      "$$$  10713   1228\n",
      "total positive  1228\n",
      "tp tn fp fn 0   0   0   0\n",
      "year  2001 positive  0\n",
      "actual len  22884\n",
      "len of xtest  11183\n",
      "hdhdhd before  223\n",
      "len of xtrain  219\n",
      "year   2002\n",
      "[1979 1991 1992 1993 1994 1996 1998 1999 2000 2003 2006 2007 2008 2009\n",
      " 2010 2011 2012 2013 2014 2015 2016 2017 2018 2019 2020]\n",
      "cv score  0.770358807858808\n",
      "(11183,)\n",
      "no of positive  3810\n",
      "len of predy  1930\n"
     ]
    },
    {
     "data": {
      "image/png": "[encoded data removed]",
      "text/plain": [
       "<Figure size 432x288 with 1 Axes>"
      ]
     },
     "metadata": {
      "needs_background": "light"
     },
     "output_type": "display_data"
    },
    {
     "name": "stdout",
     "output_type": "stream",
     "text": [
      "$$$  11183   1930\n",
      "total positive  1930\n",
      "tp tn fp fn 0   0   0   0\n",
      "year  2002 positive  0\n",
      "actual len  23708\n",
      "len of xtest  11586\n",
      "hdhdhd before  223\n",
      "len of xtrain  217\n",
      "year   2003\n",
      "[1979 1991 1992 1993 1994 1996 1998 1999 2000 2006 2007 2008 2009 2010\n",
      " 2011 2012 2013 2014 2015 2016 2017 2018 2019 2020]\n",
      "cv score  0.7628590853590854\n",
      "(11586,)\n",
      "no of positive  3356\n",
      "len of predy  1269\n"
     ]
    },
    {
     "data": {
      "image/png": "[encoded data removed]",
      "text/plain": [
       "<Figure size 432x288 with 1 Axes>"
      ]
     },
     "metadata": {
      "needs_background": "light"
     },
     "output_type": "display_data"
    },
    {
     "name": "stdout",
     "output_type": "stream",
     "text": [
      "$$$  11586   1269\n",
      "total positive  1269\n",
      "tp tn fp fn 1   0   1   0\n",
      "year  2003 positive  1\n",
      "actual len  24651\n",
      "len of xtest  12088\n",
      "hdhdhd before  223\n",
      "len of xtrain  219\n",
      "year   2004\n",
      "[1979 1991 1992 1993 1994 1996 1998 1999 2000 2003 2006 2007 2008 2009\n",
      " 2010 2011 2012 2013 2014 2015 2016 2017 2018 2019 2020]\n",
      "cv score  0.770358807858808\n",
      "(12088,)\n",
      "no of positive  3931\n",
      "len of predy  1855\n"
     ]
    },
    {
     "data": {
      "image/png": "[encoded data removed]",
      "text/plain": [
       "<Figure size 432x288 with 1 Axes>"
      ]
     },
     "metadata": {
      "needs_background": "light"
     },
     "output_type": "display_data"
    },
    {
     "name": "stdout",
     "output_type": "stream",
     "text": [
      "$$$  12088   1855\n",
      "total positive  1855\n",
      "tp tn fp fn 0   0   0   0\n",
      "year  2004 positive  0\n",
      "actual len  25639\n",
      "len of xtest  12545\n",
      "hdhdhd before  223\n",
      "len of xtrain  219\n",
      "year   2005\n",
      "[1979 1991 1992 1993 1994 1996 1998 1999 2000 2003 2006 2007 2008 2009\n",
      " 2010 2011 2012 2013 2014 2015 2016 2017 2018 2019 2020]\n",
      "cv score  0.770358807858808\n",
      "(12545,)\n",
      "no of positive  4167\n",
      "len of predy  2008\n"
     ]
    },
    {
     "data": {
      "image/png": "[encoded data removed]",
      "text/plain": [
       "<Figure size 432x288 with 1 Axes>"
      ]
     },
     "metadata": {
      "needs_background": "light"
     },
     "output_type": "display_data"
    },
    {
     "name": "stdout",
     "output_type": "stream",
     "text": [
      "$$$  12545   2008\n",
      "total positive  2008\n",
      "tp tn fp fn 0   0   0   0\n",
      "year  2005 positive  0\n",
      "actual len  26791\n",
      "len of xtest  13090\n",
      "hdhdhd before  223\n",
      "len of xtrain  218\n",
      "year   2006\n",
      "[1979 1991 1992 1993 1994 1996 1998 1999 2000 2003 2007 2008 2009 2010\n",
      " 2011 2012 2013 2014 2015 2016 2017 2018 2019 2020]\n",
      "cv score  0.7582628482628484\n",
      "(13090,)\n",
      "no of positive  4730\n",
      "len of predy  2289\n"
     ]
    },
    {
     "data": {
      "image/png": "[encoded data removed]",
      "text/plain": [
       "<Figure size 432x288 with 1 Axes>"
      ]
     },
     "metadata": {
      "needs_background": "light"
     },
     "output_type": "display_data"
    },
    {
     "name": "stdout",
     "output_type": "stream",
     "text": [
      "$$$  13090   2289\n",
      "total positive  2289\n",
      "tp tn fp fn 1   0   0   0\n",
      "year  2006 positive  1\n",
      "actual len  27781\n",
      "len of xtest  13582\n",
      "hdhdhd before  223\n",
      "len of xtrain  213\n",
      "year   2007\n",
      "[1979 1991 1992 1993 1994 1996 1998 1999 2000 2003 2006 2008 2009 2010\n",
      " 2011 2012 2013 2014 2015 2016 2017 2018 2019 2020]\n",
      "cv score  0.7740345765345766\n",
      "(13582,)\n",
      "no of positive  4452\n",
      "len of predy  1959\n"
     ]
    },
    {
     "data": {
      "image/png": "[encoded data removed]",
      "text/plain": [
       "<Figure size 432x288 with 1 Axes>"
      ]
     },
     "metadata": {
      "needs_background": "light"
     },
     "output_type": "display_data"
    },
    {
     "name": "stdout",
     "output_type": "stream",
     "text": [
      "$$$  13582   1959\n",
      "total positive  1959\n",
      "tp tn fp fn 2   2   1   1\n",
      "year  2007 positive  3\n",
      "actual len  28867\n",
      "len of xtest  14108\n",
      "hdhdhd before  223\n",
      "len of xtrain  211\n",
      "year   2008\n",
      "[1979 1991 1992 1993 1994 1996 1998 1999 2000 2003 2006 2007 2009 2010\n",
      " 2011 2012 2013 2014 2015 2016 2017 2018 2019 2020]\n",
      "cv score  0.7652444777444778\n",
      "(14108,)\n",
      "no of positive  4212\n",
      "len of predy  1729\n"
     ]
    },
    {
     "data": {
      "image/png": "[encoded data removed]",
      "text/plain": [
       "<Figure size 432x288 with 1 Axes>"
      ]
     },
     "metadata": {
      "needs_background": "light"
     },
     "output_type": "display_data"
    },
    {
     "name": "stdout",
     "output_type": "stream",
     "text": [
      "$$$  14108   1729\n",
      "total positive  1729\n",
      "tp tn fp fn 1   4   0   3\n",
      "year  2008 positive  4\n",
      "actual len  30063\n",
      "len of xtest  14615\n",
      "hdhdhd before  223\n",
      "len of xtrain  207\n",
      "year   2009\n",
      "[1979 1991 1992 1993 1994 1996 1998 1999 2000 2003 2006 2007 2008 2010\n",
      " 2011 2012 2013 2014 2015 2016 2017 2018 2019 2020]\n",
      "cv score  0.7686383061383062\n",
      "(14615,)\n",
      "no of positive  5132\n",
      "len of predy  2509\n"
     ]
    },
    {
     "data": {
      "image/png": "[encoded data removed]",
      "text/plain": [
       "<Figure size 432x288 with 1 Axes>"
      ]
     },
     "metadata": {
      "needs_background": "light"
     },
     "output_type": "display_data"
    },
    {
     "name": "stdout",
     "output_type": "stream",
     "text": [
      "$$$  14615   2509\n",
      "total positive  2509\n",
      "tp tn fp fn 2   4   2   4\n",
      "year  2009 positive  6\n",
      "actual len  31270\n",
      "len of xtest  15236\n",
      "hdhdhd before  223\n",
      "len of xtrain  203\n",
      "year   2010\n",
      "[1979 1991 1992 1993 1994 1996 1998 1999 2000 2003 2006 2007 2008 2009\n",
      " 2011 2012 2013 2014 2015 2016 2017 2018 2019 2020]\n",
      "cv score  0.7799514374514375\n",
      "(15236,)\n",
      "no of positive  4654\n",
      "len of predy  1925\n"
     ]
    },
    {
     "data": {
      "image/png": "[encoded data removed]",
      "text/plain": [
       "<Figure size 432x288 with 1 Axes>"
      ]
     },
     "metadata": {
      "needs_background": "light"
     },
     "output_type": "display_data"
    },
    {
     "name": "stdout",
     "output_type": "stream",
     "text": [
      "$$$  15236   1925\n",
      "total positive  1925\n",
      "tp tn fp fn 2   7   1   6\n",
      "year  2010 positive  8\n",
      "actual len  32548\n",
      "len of xtest  15809\n",
      "hdhdhd before  223\n",
      "len of xtrain  195\n",
      "year   2011\n",
      "[1979 1991 1992 1993 1994 1996 1998 1999 2000 2003 2006 2007 2008 2009\n",
      " 2010 2012 2013 2014 2015 2016 2017 2018 2019 2020]\n",
      "cv score  0.7706604506604507\n",
      "(15809,)\n",
      "no of positive  5551\n",
      "len of predy  2875\n"
     ]
    },
    {
     "data": {
      "image/png": "[encoded data removed]",
      "text/plain": [
       "<Figure size 432x288 with 1 Axes>"
      ]
     },
     "metadata": {
      "needs_background": "light"
     },
     "output_type": "display_data"
    },
    {
     "name": "stdout",
     "output_type": "stream",
     "text": [
      "$$$  15809   2875\n",
      "total positive  2875\n",
      "tp tn fp fn 5   6   5   8\n",
      "year  2011 positive  13\n",
      "actual len  33915\n",
      "len of xtest  16449\n",
      "hdhdhd before  223\n",
      "len of xtrain  193\n",
      "year   2012\n",
      "[1979 1991 1992 1993 1994 1996 1998 1999 2000 2003 2006 2007 2008 2009\n",
      " 2010 2011 2013 2014 2015 2016 2017 2018 2019 2020]\n",
      "cv score  0.762330724830725\n",
      "(16449,)\n",
      "no of positive  6271\n",
      "len of predy  3331\n"
     ]
    },
    {
     "data": {
      "image/png": "[encoded data removed]",
      "text/plain": [
       "<Figure size 432x288 with 1 Axes>"
      ]
     },
     "metadata": {
      "needs_background": "light"
     },
     "output_type": "display_data"
    },
    {
     "name": "stdout",
     "output_type": "stream",
     "text": [
      "$$$  16449   3331\n",
      "total positive  3331\n",
      "tp tn fp fn 9   7   5   5\n",
      "year  2012 positive  14\n",
      "actual len  35502\n",
      "len of xtest  17100\n",
      "hdhdhd before  223\n",
      "len of xtrain  194\n",
      "year   2013\n",
      "[1979 1991 1992 1993 1994 1996 1998 1999 2000 2003 2006 2007 2008 2009\n",
      " 2010 2011 2012 2014 2015 2016 2017 2018 2019 2020]\n",
      "cv score  0.7672261072261073\n",
      "(17100,)\n",
      "no of positive  5487\n",
      "len of predy  1865\n"
     ]
    },
    {
     "data": {
      "image/png": "[encoded data removed]",
      "text/plain": [
       "<Figure size 432x288 with 1 Axes>"
      ]
     },
     "metadata": {
      "needs_background": "light"
     },
     "output_type": "display_data"
    },
    {
     "name": "stdout",
     "output_type": "stream",
     "text": [
      "$$$  17100   1865\n",
      "total positive  1865\n",
      "tp tn fp fn 6   6   6   7\n",
      "year  2013 positive  13\n",
      "actual len  37143\n",
      "len of xtest  17754\n",
      "hdhdhd before  223\n",
      "len of xtrain  202\n",
      "year   2014\n",
      "[1979 1991 1992 1993 1994 1996 1998 1999 2000 2003 2006 2007 2008 2009\n",
      " 2010 2011 2012 2013 2015 2016 2017 2018 2019 2020]\n",
      "cv score  0.7744572094572095\n",
      "(17754,)\n",
      "no of positive  6350\n",
      "len of predy  3403\n"
     ]
    },
    {
     "data": {
      "image/png": "[encoded data removed]",
      "text/plain": [
       "<Figure size 432x288 with 1 Axes>"
      ]
     },
     "metadata": {
      "needs_background": "light"
     },
     "output_type": "display_data"
    },
    {
     "name": "stdout",
     "output_type": "stream",
     "text": [
      "$$$  17754   3403\n",
      "total positive  3403\n",
      "tp tn fp fn 7   4   4   2\n",
      "year  2014 positive  9\n",
      "actual len  38964\n",
      "len of xtest  18492\n",
      "hdhdhd before  223\n",
      "len of xtrain  213\n",
      "year   2015\n",
      "[1979 1991 1992 1993 1994 1996 1998 1999 2000 2003 2006 2007 2008 2009\n",
      " 2010 2011 2012 2013 2014 2016 2017 2018 2019 2020]\n",
      "cv score  0.7592010767010767\n",
      "(18492,)\n",
      "no of positive  5545\n",
      "len of predy  2490\n"
     ]
    },
    {
     "data": {
      "image/png": "[encoded data removed]",
      "text/plain": [
       "<Figure size 432x288 with 1 Axes>"
      ]
     },
     "metadata": {
      "needs_background": "light"
     },
     "output_type": "display_data"
    },
    {
     "name": "stdout",
     "output_type": "stream",
     "text": [
      "$$$  18492   2490\n",
      "total positive  2490\n",
      "tp tn fp fn 1   2   1   2\n",
      "year  2015 positive  3\n",
      "actual len  40764\n",
      "len of xtest  19130\n",
      "hdhdhd before  223\n",
      "len of xtrain  211\n",
      "year   2016\n",
      "[1979 1991 1992 1993 1994 1996 1998 1999 2000 2003 2006 2007 2008 2009\n",
      " 2010 2011 2012 2013 2014 2015 2017 2018 2019 2020]\n",
      "cv score  0.770487012987013\n",
      "(19130,)\n",
      "no of positive  4435\n",
      "len of predy  1391\n"
     ]
    },
    {
     "data": {
      "image/png": "[encoded data removed]",
      "text/plain": [
       "<Figure size 432x288 with 1 Axes>"
      ]
     },
     "metadata": {
      "needs_background": "light"
     },
     "output_type": "display_data"
    },
    {
     "name": "stdout",
     "output_type": "stream",
     "text": [
      "$$$  19130   1391\n",
      "total positive  1391\n",
      "tp tn fp fn 0   4   0   4\n",
      "year  2016 positive  4\n",
      "actual len  42532\n",
      "len of xtest  19886\n",
      "hdhdhd before  223\n",
      "len of xtrain  207\n",
      "year   2017\n",
      "[1979 1991 1992 1993 1994 1996 1998 1999 2000 2003 2006 2007 2008 2009\n",
      " 2010 2011 2012 2013 2014 2015 2016 2018 2019 2020]\n",
      "cv score  0.7549314574314574\n",
      "(19886,)\n",
      "no of positive  6105\n",
      "len of predy  3082\n"
     ]
    },
    {
     "data": {
      "image/png": "[encoded data removed]",
      "text/plain": [
       "<Figure size 432x288 with 1 Axes>"
      ]
     },
     "metadata": {
      "needs_background": "light"
     },
     "output_type": "display_data"
    },
    {
     "name": "stdout",
     "output_type": "stream",
     "text": [
      "$$$  19886   3082\n",
      "total positive  3082\n",
      "tp tn fp fn 4   4   2   2\n",
      "year  2017 positive  6\n",
      "actual len  44336\n",
      "len of xtest  20517\n",
      "hdhdhd before  223\n",
      "len of xtrain  203\n",
      "year   2018\n",
      "[1979 1991 1992 1993 1994 1996 1998 1999 2000 2003 2006 2007 2008 2009\n",
      " 2010 2011 2012 2013 2014 2015 2016 2017 2019 2020]\n",
      "cv score  0.7876262626262626\n",
      "(20517,)\n",
      "no of positive  3783\n",
      "len of predy  777\n"
     ]
    },
    {
     "data": {
      "image/png": "[encoded data removed]",
      "text/plain": [
       "<Figure size 432x288 with 1 Axes>"
      ]
     },
     "metadata": {
      "needs_background": "light"
     },
     "output_type": "display_data"
    },
    {
     "name": "stdout",
     "output_type": "stream",
     "text": [
      "$$$  20517   777\n",
      "total positive  777\n",
      "tp tn fp fn 0   6   2   8\n",
      "year  2018 positive  8\n",
      "actual len  46374\n",
      "len of xtest  21201\n",
      "hdhdhd before  223\n",
      "len of xtrain  209\n",
      "year   2019\n",
      "[1979 1991 1992 1993 1994 1996 1998 1999 2000 2003 2006 2007 2008 2009\n",
      " 2010 2011 2012 2013 2014 2015 2016 2017 2018 2020]\n",
      "cv score  0.7940981240981241\n",
      "(21201,)\n",
      "no of positive  6166\n",
      "len of predy  2733\n"
     ]
    },
    {
     "data": {
      "image/png": "[encoded data removed]",
      "text/plain": [
       "<Figure size 432x288 with 1 Axes>"
      ]
     },
     "metadata": {
      "needs_background": "light"
     },
     "output_type": "display_data"
    },
    {
     "name": "stdout",
     "output_type": "stream",
     "text": [
      "$$$  21201   2733\n",
      "total positive  2733\n",
      "tp tn fp fn 2   5   0   3\n",
      "year  2019 positive  5\n",
      "actual len  48945\n",
      "len of xtest  22230\n",
      "hdhdhd before  223\n",
      "len of xtrain  215\n",
      "year   2020\n",
      "[1979 1991 1992 1993 1994 1996 1998 1999 2000 2003 2006 2007 2008 2009\n",
      " 2010 2011 2012 2013 2014 2015 2016 2017 2018 2019]\n",
      "cv score  0.7608871683871683\n",
      "(22230,)\n",
      "no of positive  5119\n",
      "len of predy  1454\n"
     ]
    },
    {
     "data": {
      "image/png": "[encoded data removed]",
      "text/plain": [
       "<Figure size 432x288 with 1 Axes>"
      ]
     },
     "metadata": {
      "needs_background": "light"
     },
     "output_type": "display_data"
    },
    {
     "name": "stdout",
     "output_type": "stream",
     "text": [
      "$$$  22230   1454\n",
      "total positive  1454\n",
      "tp tn fp fn 0   2   0   2\n",
      "year  2020 positive  2\n",
      "total pos  113  true pos  46  total false pos  1499.3488372093022\n"
     ]
    }
   ],
   "source": [
    "##logistic regression\n",
    "\n",
    "\n",
    "def recall(pred,th, yr):\n",
    "    data = pd.read_csv(\"data_84.csv\")\n",
    "    data = data[data['year'] == yr]\n",
    "    data = data[data['n'] > 100]\n",
    "\n",
    "    tot = 0\n",
    "    res = pd.merge(data,pred,on='cluster', how = 'inner')\n",
    "    tp,tn,fp, fn = 0,0,0,0\n",
    "    for ind in res.index:\n",
    "        if res['class'][ind] == 1 and res['pred_log'][ind] >= th:\n",
    "            tp += 1\n",
    "        elif res['class'][ind] == 0 and res['pred_log'][ind] < th:\n",
    "            tn += 1\n",
    "        elif res['class'][ind] == 0 and res['pred_log'][ind] >= th:\n",
    "            fp += 1\n",
    "        elif res['class'][ind] == 1 and res['pred_log'][ind] < th:\n",
    "            fn += 1\n",
    "    pred = pred[pred['pred_log'] > th]\n",
    "    print(\"total positive \", len(pred))\n",
    "    print(\"tp tn fp fn\",tp,\" \",tn,\" \",fp,\" \",fn)\n",
    "    total_pos = len(res[res['class'] == 1])\n",
    "    print(\"year \",yr,\"positive \",total_pos)\n",
    "    \n",
    "    \n",
    "    return total_pos,tp,len(pred[pred['pred_log'] > th]) - tp\n",
    "\n",
    "\n",
    "def train(x_train):\n",
    "    \n",
    "    \n",
    "  \n",
    "    y_train = x_train['class']\n",
    "    \n",
    "    '''x_train = x_train.drop(['class','cluster','year','n','pct_dusted_ccn','pct_dusted_rmcl',\n",
    "                           'pct_in_secbiggest_anc','rcr_low','secbiggest_anc',\n",
    "                           'pct_of_biggest_anc_newish','pct_of_biggest_anc_new','n_clusts_90_anc'\n",
    "                           ,'pct_in_biggest_anc','biggest_anc','pct_of_secbiggest_anc_newish'\n",
    "                           ], axis = 1)\n",
    "    \n",
    "    x_train[['pct_of_biggest_anc','pct_is_newish','wrcr']] = minmax_scale(x_train[[\n",
    "    'pct_of_biggest_anc','pct_is_newish','wrcr']])'''\n",
    "    \n",
    "    \n",
    "    \n",
    "    x_train[['wrcr','rcr_hi','rcr_mid','n_biggest_anc','n_secbiggest_anc','n_clusts_90_anc','pct_of_biggest_anc_new']] = minmax_scale(x_train[['wrcr','rcr_hi','rcr_mid','n_biggest_anc','n_secbiggest_anc','n_clusts_90_anc','pct_of_biggest_anc_new']])\n",
    "    x_train = x_train.drop(['cluster','year','n','pct_is_newish','pct_dusted_ccn','pct_dusted_rmcl','biggest_anc','pct_in_biggest_anc','pct_of_biggest_anc','pct_of_biggest_anc_new','pct_of_biggest_anc_newish','secbiggest_anc'], axis = 1)#$%\n",
    "    #x_train = x_train.drop(['pct_of_biggest_anc_new','pct_of_secbiggest_anc_new','animal','pct_is_newish'], axis = 1)\n",
    "    x_train = x_train.drop(['pct_in_secbiggest_anc','pct_of_secbiggest_anc','pct_of_secbiggest_anc_newish','rcr_low','cited_by_clin','class'], axis = 1)\n",
    "    \n",
    "    \n",
    "    y_train = np.array(y_train)\n",
    " \n",
    "    model = svm.SVC(C= 10,kernel='rbf')\n",
    "    model.probability = True\n",
    "    model.fit(x_train,y_train)\n",
    "    \n",
    "    '''crossvalidation2(x_train, y_train)\n",
    "    print(model.intercept_, model.coef_, model.score(x_train, y_train))'''\n",
    "    scores = cross_val_score(model, x_train, y_train, cv=20,scoring = \"f1\")\n",
    "    print(\"cv score \", scores.mean())\n",
    "    return model\n",
    "    \n",
    "tot,tp,total_fp = 0,0,0\n",
    "yr = 1978\n",
    "\n",
    "while yr <= 2020:\n",
    "    \n",
    "    x_train = pd.read_csv(\"data_84.csv\")\n",
    "    x_test = pd.read_csv(\"~/Documents/PhD/project_nobel/boty/boty_outcites/features_prediction_\"+str(yr)+\".csv\")\n",
    "    print(\"actual len \",len(x_test))\n",
    "    x_test = x_test.dropna(axis=0)\n",
    "    \n",
    "    x_test = x_test[x_test['n'] > 100]\n",
    "    \n",
    "   \n",
    "    #x_test = x_test[x_test['n_biggest_anc'] >= 500]\n",
    "    #x_test = x_test[x_test['rcr_hi'] >= 2.55]\n",
    "    #x_test = x_test[x_test['cited_by_clin'] >= 0.10]\n",
    "    #x_test = x_test[x_test['is_clinical'] >= 0.012] ##this one\n",
    "    #x_test = x_test[x_test['animal'] >= 0.02]\n",
    "\n",
    "    #x_test = x_test[x_test['molecular_cellular'] >= 0.030] ##this one, with C = 1\n",
    "    \n",
    "    #x_test = x_test[x_test['human'] >= 0.25]\n",
    "    #x_test = x_test[x_test['rage'] >= 5]\n",
    "    #x_test = x_test[x_test['pct_is_new'] >= 0.09]\n",
    "    print(\"len of xtest \",len(x_test))\n",
    "       \n",
    "    copy_test = x_test.copy()\n",
    "    #print(x_test.tail(10))\n",
    "    \n",
    "    #x_test = x_test[x_test['is_research_article'] > 0.75]\n",
    "    '''x_test = x_test.drop(['prediction','cluster','year','n',\n",
    "                               'pct_in_secbiggest_anc','rcr_low','secbiggest_anc',\n",
    "                               'pct_of_biggest_anc_newish','pct_of_biggest_anc_new','n_clusts_90_anc'\n",
    "                               ,'pct_in_biggest_anc','biggest_anc','pct_of_secbiggest_anc_newish'\n",
    "                               ], axis = 1)\n",
    "    \n",
    "    x_test[['pct_of_biggest_anc','pct_is_newish','wrcr']] = minmax_scale(x_test[[\n",
    "    'pct_of_biggest_anc','pct_is_newish','wrcr']])'''\n",
    "    \n",
    "    \n",
    "    x_test[['wrcr','rcr_hi','rcr_mid','n_biggest_anc','n_secbiggest_anc','n_clusts_90_anc','pct_of_biggest_anc_new']] = minmax_scale(x_test[['wrcr','rcr_hi','rcr_mid','n_biggest_anc','n_secbiggest_anc','n_clusts_90_anc','pct_of_biggest_anc_new']])\n",
    "    x_test = x_test.drop(['cluster','year','n','pct_is_newish','biggest_anc','pct_in_biggest_anc','pct_of_biggest_anc','pct_of_biggest_anc_new','pct_of_biggest_anc_newish','secbiggest_anc'], axis = 1)\n",
    "    x_test = x_test.drop(['prediction','pct_in_secbiggest_anc','pct_of_secbiggest_anc','pct_of_secbiggest_anc_newish','rcr_low','cited_by_clin'], axis=1)\n",
    "    \n",
    "    \n",
    "    \n",
    "    print(\"hdhdhd before \",len(x_train))\n",
    "    x_train = x_train[x_train['year'] != yr]\n",
    "    x_train = x_train[x_train['n'] > 100]\n",
    "\n",
    "    \n",
    "    #x_train = x_train[x_train['is_research_article'] > 0.75]\n",
    "    print('len of xtrain ', len(x_train))\n",
    "    print(\"year  \",yr)\n",
    "    print(x_train['year'].unique())\n",
    "\n",
    "    model = train(x_train)\n",
    "    \n",
    "    pred = model.predict(x_test)\n",
    "    print(pred.shape)\n",
    "    #print(np.sum(pred))\n",
    "    print(\"no of positive \",np.count_nonzero(pred == 1))\n",
    "    \n",
    "\n",
    "    \n",
    "    predy = model.predict_proba(x_test)\n",
    "    pred_test = []\n",
    "    for i in range(predy.shape[0]):\n",
    "        if predy[i][0] >= predy[i][1]:\n",
    "            #pred_test.append(0.00)\n",
    "            pred_test.append(predy[i][1])\n",
    "        else:\n",
    "            pred_test.append(predy[i][1])\n",
    "    \n",
    "    predy = pd.DataFrame(predy, columns = ['col_0','col_1'])\n",
    "    predy = predy[predy['col_1'] > 0.65]\n",
    "    #print(\"len of df \", len(df))\n",
    "    print(\"len of predy \", len(predy))\n",
    "    \n",
    "    \n",
    "    \n",
    "    copy_test['pred_log'] = pred_test\n",
    "    copy_test['pred_log'].hist()\n",
    "    plt.show()\n",
    "    \n",
    "    \n",
    "    print(\"$$$ \",len(copy_test),\" \",len(copy_test[copy_test['pred_log'] > 0.65]))\n",
    "    a, b,c = recall(copy_test,0.65, yr)\n",
    "    tot += a\n",
    "    tp += b\n",
    "    total_fp += c\n",
    "    yr += 1\n",
    "print(\"total pos \",tot,\" true pos \", tp,\" total false pos \",total_fp/43)"
   ]
  },
  {
   "cell_type": "code",
   "execution_count": null,
   "id": "df781239",
   "metadata": {},
   "outputs": [],
   "source": []
  }
 ],
 "metadata": {
  "kernelspec": {
   "display_name": "Python 3 (ipykernel)",
   "language": "python",
   "name": "python3"
  },
  "language_info": {
   "codemirror_mode": {
    "name": "ipython",
    "version": 3
   },
   "file_extension": ".py",
   "mimetype": "text/x-python",
   "name": "python",
   "nbconvert_exporter": "python",
   "pygments_lexer": "ipython3",
   "version": "3.9.6"
  }
 },
 "nbformat": 4,
 "nbformat_minor": 5
}
