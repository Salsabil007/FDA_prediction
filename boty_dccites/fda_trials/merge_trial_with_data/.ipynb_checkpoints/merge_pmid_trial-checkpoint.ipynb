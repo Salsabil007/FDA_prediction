{
 "cells": [
  {
   "cell_type": "code",
   "execution_count": 26,
   "id": "6332b33d",
   "metadata": {},
   "outputs": [],
   "source": [
    "import pandas as pd\n",
    "import numpy as np\n"
   ]
  },
  {
   "cell_type": "code",
   "execution_count": 27,
   "id": "4aa8c063",
   "metadata": {},
   "outputs": [
    {
     "name": "stdout",
     "output_type": "stream",
     "text": [
      "drug_name               object\n",
      "fda_application_no      object\n",
      "first_approval_year     object\n",
      "app_year                 int64\n",
      "nct_id                  object\n",
      "pmid                   float64\n",
      "phase                   object\n",
      "publication_year       float64\n",
      "age_2                  float64\n",
      "is_clinical             object\n",
      "pivotal                float64\n",
      "supportive             float64\n",
      "no_mention             float64\n",
      "dtype: object\n",
      "1353\n",
      "404\n",
      "     drug_name fda_application_no first_approval_year  app_year       nct_id  \\\n",
      "0        ADDYI                NaN           8/18/2015      2015  NCT00360529   \n",
      "2        ADDYI                NaN           8/18/2015      2015  NCT00996164   \n",
      "5        ADDYI                NaN           8/18/2015      2015  NCT00360555   \n",
      "7     ALECENSA                NaN          12/11/2015      2015  NCT01588028   \n",
      "8     ALECENSA                NaN          12/11/2015      2015  NCT01801111   \n",
      "...        ...                ...                 ...       ...          ...   \n",
      "1346   Zydelig                NaN           23-Jul-14      2014  NCT01539291   \n",
      "1349   Zydelig                NaN           23-Jul-14      2014  NCT01090414   \n",
      "1350   Zydelig                NaN                 NaN      2014  NCT04673617   \n",
      "1351   Zydelig                NaN                 NaN      2014  NCT01306643   \n",
      "1352   Zykadia                NaN           29-Apr-14      2014  NCT01283516   \n",
      "\n",
      "            pmid phase  publication_year  age_2 is_clinical  pivotal  \\\n",
      "0     22248038.0     3            2012.0    3.0         Yes      1.0   \n",
      "2     23672269.0     3            2013.0    2.0         Yes      1.0   \n",
      "5     22239862.0     3            2012.0    3.0         Yes      1.0   \n",
      "7     25153538.0     1            2014.0    1.0         Yes      1.0   \n",
      "8     26598747.0     2            2016.0   -1.0         Yes      1.0   \n",
      "...          ...   ...               ...    ...         ...      ...   \n",
      "1346  30995176.0     3            2019.0   -5.0         Yes      1.0   \n",
      "1349  24615776.0     1            2014.0    0.0         Yes      1.0   \n",
      "1350         NaN     2               NaN    NaN         NaN      1.0   \n",
      "1351         NaN     2               NaN    NaN         NaN      1.0   \n",
      "1352  24670165.0     2            2014.0    0.0         Yes      1.0   \n",
      "\n",
      "      supportive  no_mention  \n",
      "0            NaN         NaN  \n",
      "2            NaN         NaN  \n",
      "5            NaN         NaN  \n",
      "7            NaN         NaN  \n",
      "8            NaN         NaN  \n",
      "...          ...         ...  \n",
      "1346         NaN         NaN  \n",
      "1349         NaN         NaN  \n",
      "1350         NaN         NaN  \n",
      "1351         NaN         NaN  \n",
      "1352         NaN         NaN  \n",
      "\n",
      "[404 rows x 13 columns]\n"
     ]
    }
   ],
   "source": [
    "data = pd.read_csv(\"extended_data.csv\")\n",
    "print(data.dtypes)\n",
    "print(len(data))\n",
    "data = data[data['pivotal'] == 1]\n",
    "print(len(data))\n",
    "print(data)\n"
   ]
  },
  {
   "cell_type": "code",
   "execution_count": 28,
   "id": "4023f46f",
   "metadata": {},
   "outputs": [
    {
     "name": "stdout",
     "output_type": "stream",
     "text": [
      "380\n",
      "          pmid  approval_year       nct_id drug_name\n",
      "0     22248038           2015  NCT00360529     ADDYI\n",
      "2     23672269           2015  NCT00996164     ADDYI\n",
      "5     22239862           2015  NCT00360555     ADDYI\n",
      "7     25153538           2015  NCT01588028  ALECENSA\n",
      "8     26598747           2015  NCT01801111  ALECENSA\n",
      "...        ...            ...          ...       ...\n",
      "1344  24615778           2014  NCT01090414   Zydelig\n",
      "1345  26472751           2014  NCT01090414   Zydelig\n",
      "1346  30995176           2014  NCT01539291   Zydelig\n",
      "1349  24615776           2014  NCT01090414   Zydelig\n",
      "1352  24670165           2014  NCT01283516   Zykadia\n",
      "\n",
      "[380 rows x 4 columns]\n"
     ]
    }
   ],
   "source": [
    "new_data = pd.DataFrame()\n",
    "new_data['pmid'] = data['pmid']\n",
    "new_data['approval_year'] = data['app_year']\n",
    "new_data['nct_id'] = data['nct_id']\n",
    "new_data['drug_name'] = data['drug_name']\n",
    "\n",
    "new_data = new_data[new_data['pmid'].notna()]\n",
    "print(len(new_data))\n",
    "new_data['pmid'] = new_data['pmid'].astype('int')\n",
    "print(new_data)"
   ]
  },
  {
   "cell_type": "code",
   "execution_count": 32,
   "id": "eb4a8923",
   "metadata": {},
   "outputs": [
    {
     "name": "stdout",
     "output_type": "stream",
     "text": [
      "344\n"
     ]
    }
   ],
   "source": [
    "data2 = pd.read_csv(\"gold_2_prized_fda.csv\")\n",
    "data2 = data2[data2['pmid'].notna()]\n",
    "print(len(data2))"
   ]
  },
  {
   "cell_type": "code",
   "execution_count": 33,
   "id": "c4e83589",
   "metadata": {},
   "outputs": [
    {
     "name": "stdout",
     "output_type": "stream",
     "text": [
      "385\n"
     ]
    }
   ],
   "source": [
    "result = pd.merge(data2, new_data,on='pmid', how='left')\n",
    "print(len(result))"
   ]
  },
  {
   "cell_type": "code",
   "execution_count": 34,
   "id": "eadf2872",
   "metadata": {},
   "outputs": [],
   "source": [
    "result['pmid'] = result['pmid'].astype('int')\n",
    "result = result.sort_values(by=['drug_name','pmid'])\n",
    "result.to_csv(\"gold_with_pivotal.csv\", index = False)"
   ]
  },
  {
   "cell_type": "code",
   "execution_count": null,
   "id": "cfcce84f",
   "metadata": {},
   "outputs": [],
   "source": []
  }
 ],
 "metadata": {
  "kernelspec": {
   "display_name": "Python 3 (ipykernel)",
   "language": "python",
   "name": "python3"
  },
  "language_info": {
   "codemirror_mode": {
    "name": "ipython",
    "version": 3
   },
   "file_extension": ".py",
   "mimetype": "text/x-python",
   "name": "python",
   "nbconvert_exporter": "python",
   "pygments_lexer": "ipython3",
   "version": "3.9.6"
  }
 },
 "nbformat": 4,
 "nbformat_minor": 5
}
