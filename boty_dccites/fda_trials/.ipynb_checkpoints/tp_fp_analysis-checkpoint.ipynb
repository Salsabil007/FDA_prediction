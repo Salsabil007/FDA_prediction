{
 "cells": [
  {
   "cell_type": "code",
   "execution_count": 2,
   "id": "c13346ad",
   "metadata": {},
   "outputs": [
    {
     "name": "stdout",
     "output_type": "stream",
     "text": [
      "Imported version = 0.1.70.\n",
      "from featurewiz import FeatureWiz\n",
      "wiz = FeatureWiz(verbose=1)\n",
      "X_train_selected = wiz.fit_transform(X_train, y_train)\n",
      "X_test_selected = wiz.transform(X_test)\n",
      "wiz.features  ### provides a list of selected features ###\n",
      "                                \n"
     ]
    }
   ],
   "source": [
    "import pandas as pd\n",
    "import numpy as np\n",
    "from sklearn.preprocessing import StandardScaler, LabelEncoder, minmax_scale\n",
    "import seaborn as sns\n",
    "import matplotlib.pyplot as plt\n",
    "from sklearn.metrics import confusion_matrix\n",
    "import sys \n",
    "#from keras.models import Sequential\n",
    "#from keras.layers import Dense\n",
    "#from keras.utils import np_utils\n",
    "import tensorflow as tf\n",
    "#from keras.regularizers import L1L2\n",
    "from sklearn.metrics import confusion_matrix, precision_score, recall_score, f1_score, cohen_kappa_score\n",
    "from sklearn.utils import shuffle\n",
    "#from keras.callbacks import EarlyStopping\n",
    "from sklearn.linear_model import LogisticRegression\n",
    "from sklearn import svm\n",
    "from sklearn.model_selection import KFold\n",
    "from sklearn.model_selection import cross_val_score\n",
    "from featurewiz import featurewiz\n",
    "from sklearn.metrics import f1_score\n",
    "from sklearn.feature_selection import SelectKBest, f_classif, chi2, RFE\n",
    "from sklearn.feature_selection import mutual_info_classif\n",
    "np.random.seed(19680801)"
   ]
  },
  {
   "cell_type": "code",
   "execution_count": 3,
   "id": "c8f92244",
   "metadata": {},
   "outputs": [
    {
     "data": {
      "text/html": [
       "<div>\n",
       "<style scoped>\n",
       "    .dataframe tbody tr th:only-of-type {\n",
       "        vertical-align: middle;\n",
       "    }\n",
       "\n",
       "    .dataframe tbody tr th {\n",
       "        vertical-align: top;\n",
       "    }\n",
       "\n",
       "    .dataframe thead th {\n",
       "        text-align: right;\n",
       "    }\n",
       "</style>\n",
       "<table border=\"1\" class=\"dataframe\">\n",
       "  <thead>\n",
       "    <tr style=\"text-align: right;\">\n",
       "      <th></th>\n",
       "      <th>cluster</th>\n",
       "      <th>year</th>\n",
       "      <th>n</th>\n",
       "      <th>pct_is_new</th>\n",
       "      <th>pct_is_newish</th>\n",
       "      <th>pct_dusted_ccn</th>\n",
       "      <th>pct_dusted_rmcl</th>\n",
       "      <th>biggest_anc</th>\n",
       "      <th>n_biggest_anc</th>\n",
       "      <th>pct_in_biggest_anc</th>\n",
       "      <th>...</th>\n",
       "      <th>rcr_hi</th>\n",
       "      <th>human</th>\n",
       "      <th>animal</th>\n",
       "      <th>molecular_cellular</th>\n",
       "      <th>is_clinical</th>\n",
       "      <th>is_research_article</th>\n",
       "      <th>cited_by_clin</th>\n",
       "      <th>nih</th>\n",
       "      <th>rage</th>\n",
       "      <th>class</th>\n",
       "    </tr>\n",
       "  </thead>\n",
       "  <tbody>\n",
       "    <tr>\n",
       "      <th>cluster</th>\n",
       "      <td>1.000000</td>\n",
       "      <td>0.193755</td>\n",
       "      <td>-0.562190</td>\n",
       "      <td>0.149279</td>\n",
       "      <td>0.084211</td>\n",
       "      <td>NaN</td>\n",
       "      <td>0.039007</td>\n",
       "      <td>0.988527</td>\n",
       "      <td>-0.552271</td>\n",
       "      <td>-0.374136</td>\n",
       "      <td>...</td>\n",
       "      <td>-0.611772</td>\n",
       "      <td>-0.004522</td>\n",
       "      <td>0.003613</td>\n",
       "      <td>-0.052164</td>\n",
       "      <td>-0.138156</td>\n",
       "      <td>0.190256</td>\n",
       "      <td>-0.256781</td>\n",
       "      <td>-0.377695</td>\n",
       "      <td>0.174621</td>\n",
       "      <td>-0.194837</td>\n",
       "    </tr>\n",
       "    <tr>\n",
       "      <th>year</th>\n",
       "      <td>0.193755</td>\n",
       "      <td>1.000000</td>\n",
       "      <td>0.100737</td>\n",
       "      <td>-0.117138</td>\n",
       "      <td>-0.144214</td>\n",
       "      <td>NaN</td>\n",
       "      <td>-0.019670</td>\n",
       "      <td>0.190578</td>\n",
       "      <td>0.102075</td>\n",
       "      <td>0.163564</td>\n",
       "      <td>...</td>\n",
       "      <td>-0.104237</td>\n",
       "      <td>0.269031</td>\n",
       "      <td>-0.308657</td>\n",
       "      <td>-0.134505</td>\n",
       "      <td>0.261155</td>\n",
       "      <td>-0.441399</td>\n",
       "      <td>0.392533</td>\n",
       "      <td>-0.064701</td>\n",
       "      <td>0.214844</td>\n",
       "      <td>0.000903</td>\n",
       "    </tr>\n",
       "    <tr>\n",
       "      <th>n</th>\n",
       "      <td>-0.562190</td>\n",
       "      <td>0.100737</td>\n",
       "      <td>1.000000</td>\n",
       "      <td>-0.027809</td>\n",
       "      <td>0.012261</td>\n",
       "      <td>NaN</td>\n",
       "      <td>-0.054631</td>\n",
       "      <td>-0.546295</td>\n",
       "      <td>0.981475</td>\n",
       "      <td>0.187188</td>\n",
       "      <td>...</td>\n",
       "      <td>0.584816</td>\n",
       "      <td>-0.123604</td>\n",
       "      <td>0.030630</td>\n",
       "      <td>0.203033</td>\n",
       "      <td>0.092037</td>\n",
       "      <td>-0.225278</td>\n",
       "      <td>0.203469</td>\n",
       "      <td>0.475616</td>\n",
       "      <td>-0.282019</td>\n",
       "      <td>0.150632</td>\n",
       "    </tr>\n",
       "    <tr>\n",
       "      <th>pct_is_new</th>\n",
       "      <td>0.149279</td>\n",
       "      <td>-0.117138</td>\n",
       "      <td>-0.027809</td>\n",
       "      <td>1.000000</td>\n",
       "      <td>0.976116</td>\n",
       "      <td>NaN</td>\n",
       "      <td>0.251878</td>\n",
       "      <td>0.215096</td>\n",
       "      <td>-0.032792</td>\n",
       "      <td>-0.746508</td>\n",
       "      <td>...</td>\n",
       "      <td>0.378865</td>\n",
       "      <td>0.019019</td>\n",
       "      <td>-0.120265</td>\n",
       "      <td>0.080392</td>\n",
       "      <td>0.075652</td>\n",
       "      <td>-0.372896</td>\n",
       "      <td>-0.018382</td>\n",
       "      <td>0.035355</td>\n",
       "      <td>-0.409543</td>\n",
       "      <td>0.404863</td>\n",
       "    </tr>\n",
       "    <tr>\n",
       "      <th>pct_is_newish</th>\n",
       "      <td>0.084211</td>\n",
       "      <td>-0.144214</td>\n",
       "      <td>0.012261</td>\n",
       "      <td>0.976116</td>\n",
       "      <td>1.000000</td>\n",
       "      <td>NaN</td>\n",
       "      <td>0.247755</td>\n",
       "      <td>0.142449</td>\n",
       "      <td>0.010153</td>\n",
       "      <td>-0.734460</td>\n",
       "      <td>...</td>\n",
       "      <td>0.435189</td>\n",
       "      <td>0.037075</td>\n",
       "      <td>-0.139379</td>\n",
       "      <td>0.071675</td>\n",
       "      <td>0.080380</td>\n",
       "      <td>-0.381442</td>\n",
       "      <td>0.004338</td>\n",
       "      <td>0.030853</td>\n",
       "      <td>-0.434893</td>\n",
       "      <td>0.434149</td>\n",
       "    </tr>\n",
       "    <tr>\n",
       "      <th>pct_dusted_ccn</th>\n",
       "      <td>NaN</td>\n",
       "      <td>NaN</td>\n",
       "      <td>NaN</td>\n",
       "      <td>NaN</td>\n",
       "      <td>NaN</td>\n",
       "      <td>NaN</td>\n",
       "      <td>NaN</td>\n",
       "      <td>NaN</td>\n",
       "      <td>NaN</td>\n",
       "      <td>NaN</td>\n",
       "      <td>...</td>\n",
       "      <td>NaN</td>\n",
       "      <td>NaN</td>\n",
       "      <td>NaN</td>\n",
       "      <td>NaN</td>\n",
       "      <td>NaN</td>\n",
       "      <td>NaN</td>\n",
       "      <td>NaN</td>\n",
       "      <td>NaN</td>\n",
       "      <td>NaN</td>\n",
       "      <td>NaN</td>\n",
       "    </tr>\n",
       "    <tr>\n",
       "      <th>pct_dusted_rmcl</th>\n",
       "      <td>0.039007</td>\n",
       "      <td>-0.019670</td>\n",
       "      <td>-0.054631</td>\n",
       "      <td>0.251878</td>\n",
       "      <td>0.247755</td>\n",
       "      <td>NaN</td>\n",
       "      <td>1.000000</td>\n",
       "      <td>0.045130</td>\n",
       "      <td>-0.053490</td>\n",
       "      <td>-0.225063</td>\n",
       "      <td>...</td>\n",
       "      <td>0.071268</td>\n",
       "      <td>-0.009889</td>\n",
       "      <td>0.065630</td>\n",
       "      <td>-0.051576</td>\n",
       "      <td>0.075111</td>\n",
       "      <td>-0.099472</td>\n",
       "      <td>0.002934</td>\n",
       "      <td>-0.052521</td>\n",
       "      <td>-0.015262</td>\n",
       "      <td>0.080429</td>\n",
       "    </tr>\n",
       "    <tr>\n",
       "      <th>biggest_anc</th>\n",
       "      <td>0.988527</td>\n",
       "      <td>0.190578</td>\n",
       "      <td>-0.546295</td>\n",
       "      <td>0.215096</td>\n",
       "      <td>0.142449</td>\n",
       "      <td>NaN</td>\n",
       "      <td>0.045130</td>\n",
       "      <td>1.000000</td>\n",
       "      <td>-0.544059</td>\n",
       "      <td>-0.423155</td>\n",
       "      <td>...</td>\n",
       "      <td>-0.584553</td>\n",
       "      <td>-0.012549</td>\n",
       "      <td>0.004728</td>\n",
       "      <td>-0.037649</td>\n",
       "      <td>-0.122027</td>\n",
       "      <td>0.162828</td>\n",
       "      <td>-0.244093</td>\n",
       "      <td>-0.374160</td>\n",
       "      <td>0.158408</td>\n",
       "      <td>-0.172141</td>\n",
       "    </tr>\n",
       "    <tr>\n",
       "      <th>n_biggest_anc</th>\n",
       "      <td>-0.552271</td>\n",
       "      <td>0.102075</td>\n",
       "      <td>0.981475</td>\n",
       "      <td>-0.032792</td>\n",
       "      <td>0.010153</td>\n",
       "      <td>NaN</td>\n",
       "      <td>-0.053490</td>\n",
       "      <td>-0.544059</td>\n",
       "      <td>1.000000</td>\n",
       "      <td>0.163349</td>\n",
       "      <td>...</td>\n",
       "      <td>0.570246</td>\n",
       "      <td>-0.123502</td>\n",
       "      <td>0.026568</td>\n",
       "      <td>0.205971</td>\n",
       "      <td>0.092368</td>\n",
       "      <td>-0.218956</td>\n",
       "      <td>0.198394</td>\n",
       "      <td>0.471033</td>\n",
       "      <td>-0.286782</td>\n",
       "      <td>0.151641</td>\n",
       "    </tr>\n",
       "    <tr>\n",
       "      <th>pct_in_biggest_anc</th>\n",
       "      <td>-0.374136</td>\n",
       "      <td>0.163564</td>\n",
       "      <td>0.187188</td>\n",
       "      <td>-0.746508</td>\n",
       "      <td>-0.734460</td>\n",
       "      <td>NaN</td>\n",
       "      <td>-0.225063</td>\n",
       "      <td>-0.423155</td>\n",
       "      <td>0.163349</td>\n",
       "      <td>1.000000</td>\n",
       "      <td>...</td>\n",
       "      <td>-0.101703</td>\n",
       "      <td>0.095702</td>\n",
       "      <td>-0.021137</td>\n",
       "      <td>-0.123315</td>\n",
       "      <td>0.058176</td>\n",
       "      <td>0.087284</td>\n",
       "      <td>0.157572</td>\n",
       "      <td>0.050984</td>\n",
       "      <td>0.251307</td>\n",
       "      <td>-0.254164</td>\n",
       "    </tr>\n",
       "    <tr>\n",
       "      <th>pct_of_biggest_anc</th>\n",
       "      <td>-0.156580</td>\n",
       "      <td>0.134248</td>\n",
       "      <td>0.073991</td>\n",
       "      <td>-0.286623</td>\n",
       "      <td>-0.331728</td>\n",
       "      <td>NaN</td>\n",
       "      <td>-0.164860</td>\n",
       "      <td>-0.110339</td>\n",
       "      <td>-0.050900</td>\n",
       "      <td>0.639567</td>\n",
       "      <td>...</td>\n",
       "      <td>-0.074501</td>\n",
       "      <td>0.097658</td>\n",
       "      <td>-0.050509</td>\n",
       "      <td>-0.103006</td>\n",
       "      <td>0.086909</td>\n",
       "      <td>-0.041803</td>\n",
       "      <td>0.134299</td>\n",
       "      <td>-0.034225</td>\n",
       "      <td>0.166599</td>\n",
       "      <td>-0.150814</td>\n",
       "    </tr>\n",
       "    <tr>\n",
       "      <th>pct_of_biggest_anc_new</th>\n",
       "      <td>0.147285</td>\n",
       "      <td>-0.126311</td>\n",
       "      <td>-0.012152</td>\n",
       "      <td>0.963667</td>\n",
       "      <td>0.956718</td>\n",
       "      <td>NaN</td>\n",
       "      <td>0.261727</td>\n",
       "      <td>0.213380</td>\n",
       "      <td>-0.030592</td>\n",
       "      <td>-0.669000</td>\n",
       "      <td>...</td>\n",
       "      <td>0.371500</td>\n",
       "      <td>0.033260</td>\n",
       "      <td>-0.137265</td>\n",
       "      <td>0.071350</td>\n",
       "      <td>0.076788</td>\n",
       "      <td>-0.360285</td>\n",
       "      <td>-0.014319</td>\n",
       "      <td>0.030779</td>\n",
       "      <td>-0.438609</td>\n",
       "      <td>0.386644</td>\n",
       "    </tr>\n",
       "    <tr>\n",
       "      <th>pct_of_biggest_anc_newish</th>\n",
       "      <td>-0.077357</td>\n",
       "      <td>-0.183403</td>\n",
       "      <td>0.086332</td>\n",
       "      <td>0.793432</td>\n",
       "      <td>0.877232</td>\n",
       "      <td>NaN</td>\n",
       "      <td>0.219516</td>\n",
       "      <td>-0.035958</td>\n",
       "      <td>0.068826</td>\n",
       "      <td>-0.534955</td>\n",
       "      <td>...</td>\n",
       "      <td>0.506029</td>\n",
       "      <td>0.049701</td>\n",
       "      <td>-0.164267</td>\n",
       "      <td>0.072877</td>\n",
       "      <td>0.062597</td>\n",
       "      <td>-0.336928</td>\n",
       "      <td>0.028615</td>\n",
       "      <td>0.046343</td>\n",
       "      <td>-0.439303</td>\n",
       "      <td>0.414631</td>\n",
       "    </tr>\n",
       "    <tr>\n",
       "      <th>secbiggest_anc</th>\n",
       "      <td>0.356296</td>\n",
       "      <td>0.072610</td>\n",
       "      <td>-0.130702</td>\n",
       "      <td>-0.022710</td>\n",
       "      <td>0.012338</td>\n",
       "      <td>NaN</td>\n",
       "      <td>-0.053407</td>\n",
       "      <td>0.341866</td>\n",
       "      <td>-0.123726</td>\n",
       "      <td>-0.032214</td>\n",
       "      <td>...</td>\n",
       "      <td>-0.175945</td>\n",
       "      <td>0.067298</td>\n",
       "      <td>-0.045542</td>\n",
       "      <td>-0.072097</td>\n",
       "      <td>-0.052289</td>\n",
       "      <td>-0.024849</td>\n",
       "      <td>-0.092526</td>\n",
       "      <td>-0.154206</td>\n",
       "      <td>-0.008137</td>\n",
       "      <td>-0.065775</td>\n",
       "    </tr>\n",
       "    <tr>\n",
       "      <th>n_secbiggest_anc</th>\n",
       "      <td>-0.282170</td>\n",
       "      <td>0.104340</td>\n",
       "      <td>0.209859</td>\n",
       "      <td>-0.031247</td>\n",
       "      <td>-0.022685</td>\n",
       "      <td>NaN</td>\n",
       "      <td>0.007758</td>\n",
       "      <td>-0.269619</td>\n",
       "      <td>0.188105</td>\n",
       "      <td>0.131927</td>\n",
       "      <td>...</td>\n",
       "      <td>0.166235</td>\n",
       "      <td>-0.021073</td>\n",
       "      <td>-0.012798</td>\n",
       "      <td>0.071699</td>\n",
       "      <td>-0.031375</td>\n",
       "      <td>-0.160409</td>\n",
       "      <td>0.085653</td>\n",
       "      <td>0.302831</td>\n",
       "      <td>-0.076335</td>\n",
       "      <td>0.048141</td>\n",
       "    </tr>\n",
       "    <tr>\n",
       "      <th>pct_in_secbiggest_anc</th>\n",
       "      <td>0.315401</td>\n",
       "      <td>-0.147774</td>\n",
       "      <td>-0.175068</td>\n",
       "      <td>0.285902</td>\n",
       "      <td>0.281949</td>\n",
       "      <td>NaN</td>\n",
       "      <td>0.107536</td>\n",
       "      <td>0.330825</td>\n",
       "      <td>-0.184116</td>\n",
       "      <td>-0.787433</td>\n",
       "      <td>...</td>\n",
       "      <td>-0.081013</td>\n",
       "      <td>-0.137605</td>\n",
       "      <td>0.138407</td>\n",
       "      <td>0.083326</td>\n",
       "      <td>-0.130636</td>\n",
       "      <td>0.118467</td>\n",
       "      <td>-0.194299</td>\n",
       "      <td>-0.031065</td>\n",
       "      <td>-0.048628</td>\n",
       "      <td>0.080449</td>\n",
       "    </tr>\n",
       "    <tr>\n",
       "      <th>pct_of_secbiggest_anc</th>\n",
       "      <td>0.168628</td>\n",
       "      <td>-0.110666</td>\n",
       "      <td>-0.091008</td>\n",
       "      <td>0.079707</td>\n",
       "      <td>0.103662</td>\n",
       "      <td>NaN</td>\n",
       "      <td>-0.005143</td>\n",
       "      <td>0.175934</td>\n",
       "      <td>-0.070534</td>\n",
       "      <td>-0.317495</td>\n",
       "      <td>...</td>\n",
       "      <td>-0.073439</td>\n",
       "      <td>-0.065847</td>\n",
       "      <td>0.047728</td>\n",
       "      <td>0.060400</td>\n",
       "      <td>-0.039320</td>\n",
       "      <td>0.058781</td>\n",
       "      <td>-0.109117</td>\n",
       "      <td>-0.101068</td>\n",
       "      <td>-0.070420</td>\n",
       "      <td>0.098020</td>\n",
       "    </tr>\n",
       "    <tr>\n",
       "      <th>pct_of_secbiggest_anc_new</th>\n",
       "      <td>0.081356</td>\n",
       "      <td>-0.149421</td>\n",
       "      <td>-0.030400</td>\n",
       "      <td>0.153745</td>\n",
       "      <td>0.160313</td>\n",
       "      <td>NaN</td>\n",
       "      <td>-0.117080</td>\n",
       "      <td>0.098689</td>\n",
       "      <td>-0.027113</td>\n",
       "      <td>-0.128705</td>\n",
       "      <td>...</td>\n",
       "      <td>0.029747</td>\n",
       "      <td>-0.014487</td>\n",
       "      <td>0.017132</td>\n",
       "      <td>0.014866</td>\n",
       "      <td>-0.005931</td>\n",
       "      <td>-0.081722</td>\n",
       "      <td>-0.042959</td>\n",
       "      <td>-0.033185</td>\n",
       "      <td>-0.116692</td>\n",
       "      <td>-0.016490</td>\n",
       "    </tr>\n",
       "    <tr>\n",
       "      <th>pct_of_secbiggest_anc_newish</th>\n",
       "      <td>0.136146</td>\n",
       "      <td>-0.106117</td>\n",
       "      <td>-0.044792</td>\n",
       "      <td>0.092126</td>\n",
       "      <td>0.119579</td>\n",
       "      <td>NaN</td>\n",
       "      <td>-0.119150</td>\n",
       "      <td>0.141488</td>\n",
       "      <td>-0.041854</td>\n",
       "      <td>-0.074424</td>\n",
       "      <td>...</td>\n",
       "      <td>-0.010716</td>\n",
       "      <td>0.008982</td>\n",
       "      <td>0.015396</td>\n",
       "      <td>-0.021805</td>\n",
       "      <td>-0.021630</td>\n",
       "      <td>-0.076153</td>\n",
       "      <td>-0.055138</td>\n",
       "      <td>-0.039796</td>\n",
       "      <td>-0.088183</td>\n",
       "      <td>-0.048438</td>\n",
       "    </tr>\n",
       "    <tr>\n",
       "      <th>n_clusts_90_anc</th>\n",
       "      <td>0.033350</td>\n",
       "      <td>0.051509</td>\n",
       "      <td>-0.066866</td>\n",
       "      <td>0.019639</td>\n",
       "      <td>0.026907</td>\n",
       "      <td>NaN</td>\n",
       "      <td>0.195763</td>\n",
       "      <td>0.035419</td>\n",
       "      <td>-0.063824</td>\n",
       "      <td>-0.111650</td>\n",
       "      <td>...</td>\n",
       "      <td>-0.014326</td>\n",
       "      <td>0.040428</td>\n",
       "      <td>-0.036453</td>\n",
       "      <td>-0.029147</td>\n",
       "      <td>0.059233</td>\n",
       "      <td>-0.063678</td>\n",
       "      <td>0.055110</td>\n",
       "      <td>-0.096231</td>\n",
       "      <td>0.076035</td>\n",
       "      <td>-0.077509</td>\n",
       "    </tr>\n",
       "    <tr>\n",
       "      <th>pct_top_5_anc</th>\n",
       "      <td>0.166008</td>\n",
       "      <td>0.080080</td>\n",
       "      <td>-0.126665</td>\n",
       "      <td>-0.332725</td>\n",
       "      <td>-0.359381</td>\n",
       "      <td>NaN</td>\n",
       "      <td>-0.112659</td>\n",
       "      <td>0.148618</td>\n",
       "      <td>-0.103283</td>\n",
       "      <td>0.287913</td>\n",
       "      <td>...</td>\n",
       "      <td>-0.342070</td>\n",
       "      <td>0.018064</td>\n",
       "      <td>0.049351</td>\n",
       "      <td>-0.083445</td>\n",
       "      <td>-0.072920</td>\n",
       "      <td>0.204443</td>\n",
       "      <td>-0.072514</td>\n",
       "      <td>-0.185086</td>\n",
       "      <td>0.233530</td>\n",
       "      <td>-0.107007</td>\n",
       "    </tr>\n",
       "    <tr>\n",
       "      <th>wrcr</th>\n",
       "      <td>-0.477842</td>\n",
       "      <td>0.106841</td>\n",
       "      <td>0.954513</td>\n",
       "      <td>0.076821</td>\n",
       "      <td>0.121183</td>\n",
       "      <td>NaN</td>\n",
       "      <td>-0.026237</td>\n",
       "      <td>-0.463109</td>\n",
       "      <td>0.936459</td>\n",
       "      <td>0.082926</td>\n",
       "      <td>...</td>\n",
       "      <td>0.673312</td>\n",
       "      <td>-0.056254</td>\n",
       "      <td>-0.030050</td>\n",
       "      <td>0.149706</td>\n",
       "      <td>0.133343</td>\n",
       "      <td>-0.257639</td>\n",
       "      <td>0.249225</td>\n",
       "      <td>0.425529</td>\n",
       "      <td>-0.282908</td>\n",
       "      <td>0.162232</td>\n",
       "    </tr>\n",
       "    <tr>\n",
       "      <th>rcr_low</th>\n",
       "      <td>-0.448194</td>\n",
       "      <td>0.179795</td>\n",
       "      <td>0.656537</td>\n",
       "      <td>0.092125</td>\n",
       "      <td>0.131212</td>\n",
       "      <td>NaN</td>\n",
       "      <td>-0.075390</td>\n",
       "      <td>-0.434025</td>\n",
       "      <td>0.638426</td>\n",
       "      <td>0.038665</td>\n",
       "      <td>...</td>\n",
       "      <td>0.714028</td>\n",
       "      <td>0.016071</td>\n",
       "      <td>0.006698</td>\n",
       "      <td>0.003178</td>\n",
       "      <td>0.238388</td>\n",
       "      <td>-0.244168</td>\n",
       "      <td>0.363996</td>\n",
       "      <td>0.294411</td>\n",
       "      <td>-0.046050</td>\n",
       "      <td>0.118418</td>\n",
       "    </tr>\n",
       "    <tr>\n",
       "      <th>rcr_mid</th>\n",
       "      <td>-0.553183</td>\n",
       "      <td>-0.067877</td>\n",
       "      <td>0.578974</td>\n",
       "      <td>0.278775</td>\n",
       "      <td>0.333290</td>\n",
       "      <td>NaN</td>\n",
       "      <td>-0.016185</td>\n",
       "      <td>-0.527770</td>\n",
       "      <td>0.561583</td>\n",
       "      <td>-0.060435</td>\n",
       "      <td>...</td>\n",
       "      <td>0.903273</td>\n",
       "      <td>0.102241</td>\n",
       "      <td>-0.064092</td>\n",
       "      <td>-0.058974</td>\n",
       "      <td>0.271868</td>\n",
       "      <td>-0.276926</td>\n",
       "      <td>0.381153</td>\n",
       "      <td>0.227177</td>\n",
       "      <td>-0.088745</td>\n",
       "      <td>0.231903</td>\n",
       "    </tr>\n",
       "    <tr>\n",
       "      <th>rcr_hi</th>\n",
       "      <td>-0.611772</td>\n",
       "      <td>-0.104237</td>\n",
       "      <td>0.584816</td>\n",
       "      <td>0.378865</td>\n",
       "      <td>0.435189</td>\n",
       "      <td>NaN</td>\n",
       "      <td>0.071268</td>\n",
       "      <td>-0.584553</td>\n",
       "      <td>0.570246</td>\n",
       "      <td>-0.101703</td>\n",
       "      <td>...</td>\n",
       "      <td>1.000000</td>\n",
       "      <td>0.164309</td>\n",
       "      <td>-0.174872</td>\n",
       "      <td>-0.049856</td>\n",
       "      <td>0.302836</td>\n",
       "      <td>-0.404362</td>\n",
       "      <td>0.398761</td>\n",
       "      <td>0.238823</td>\n",
       "      <td>-0.256064</td>\n",
       "      <td>0.327748</td>\n",
       "    </tr>\n",
       "    <tr>\n",
       "      <th>human</th>\n",
       "      <td>-0.004522</td>\n",
       "      <td>0.269031</td>\n",
       "      <td>-0.123604</td>\n",
       "      <td>0.019019</td>\n",
       "      <td>0.037075</td>\n",
       "      <td>NaN</td>\n",
       "      <td>-0.009889</td>\n",
       "      <td>-0.012549</td>\n",
       "      <td>-0.123502</td>\n",
       "      <td>0.095702</td>\n",
       "      <td>...</td>\n",
       "      <td>0.164309</td>\n",
       "      <td>1.000000</td>\n",
       "      <td>-0.765540</td>\n",
       "      <td>-0.815885</td>\n",
       "      <td>0.549778</td>\n",
       "      <td>-0.503774</td>\n",
       "      <td>0.708602</td>\n",
       "      <td>-0.464937</td>\n",
       "      <td>0.225938</td>\n",
       "      <td>0.131885</td>\n",
       "    </tr>\n",
       "    <tr>\n",
       "      <th>animal</th>\n",
       "      <td>0.003613</td>\n",
       "      <td>-0.308657</td>\n",
       "      <td>0.030630</td>\n",
       "      <td>-0.120265</td>\n",
       "      <td>-0.139379</td>\n",
       "      <td>NaN</td>\n",
       "      <td>0.065630</td>\n",
       "      <td>0.004728</td>\n",
       "      <td>0.026568</td>\n",
       "      <td>-0.021137</td>\n",
       "      <td>...</td>\n",
       "      <td>-0.174872</td>\n",
       "      <td>-0.765540</td>\n",
       "      <td>1.000000</td>\n",
       "      <td>0.263701</td>\n",
       "      <td>-0.397204</td>\n",
       "      <td>0.478116</td>\n",
       "      <td>-0.516001</td>\n",
       "      <td>0.279857</td>\n",
       "      <td>0.066960</td>\n",
       "      <td>-0.186700</td>\n",
       "    </tr>\n",
       "    <tr>\n",
       "      <th>molecular_cellular</th>\n",
       "      <td>-0.052164</td>\n",
       "      <td>-0.134505</td>\n",
       "      <td>0.203033</td>\n",
       "      <td>0.080392</td>\n",
       "      <td>0.071675</td>\n",
       "      <td>NaN</td>\n",
       "      <td>-0.051576</td>\n",
       "      <td>-0.037649</td>\n",
       "      <td>0.205971</td>\n",
       "      <td>-0.123315</td>\n",
       "      <td>...</td>\n",
       "      <td>-0.049856</td>\n",
       "      <td>-0.815885</td>\n",
       "      <td>0.263701</td>\n",
       "      <td>1.000000</td>\n",
       "      <td>-0.455245</td>\n",
       "      <td>0.296343</td>\n",
       "      <td>-0.580346</td>\n",
       "      <td>0.483666</td>\n",
       "      <td>-0.417217</td>\n",
       "      <td>0.000108</td>\n",
       "    </tr>\n",
       "    <tr>\n",
       "      <th>is_clinical</th>\n",
       "      <td>-0.138156</td>\n",
       "      <td>0.261155</td>\n",
       "      <td>0.092037</td>\n",
       "      <td>0.075652</td>\n",
       "      <td>0.080380</td>\n",
       "      <td>NaN</td>\n",
       "      <td>0.075111</td>\n",
       "      <td>-0.122027</td>\n",
       "      <td>0.092368</td>\n",
       "      <td>0.058176</td>\n",
       "      <td>...</td>\n",
       "      <td>0.302836</td>\n",
       "      <td>0.549778</td>\n",
       "      <td>-0.397204</td>\n",
       "      <td>-0.455245</td>\n",
       "      <td>1.000000</td>\n",
       "      <td>-0.532760</td>\n",
       "      <td>0.864545</td>\n",
       "      <td>-0.285662</td>\n",
       "      <td>0.054865</td>\n",
       "      <td>0.299344</td>\n",
       "    </tr>\n",
       "    <tr>\n",
       "      <th>is_research_article</th>\n",
       "      <td>0.190256</td>\n",
       "      <td>-0.441399</td>\n",
       "      <td>-0.225278</td>\n",
       "      <td>-0.372896</td>\n",
       "      <td>-0.381442</td>\n",
       "      <td>NaN</td>\n",
       "      <td>-0.099472</td>\n",
       "      <td>0.162828</td>\n",
       "      <td>-0.218956</td>\n",
       "      <td>0.087284</td>\n",
       "      <td>...</td>\n",
       "      <td>-0.404362</td>\n",
       "      <td>-0.503774</td>\n",
       "      <td>0.478116</td>\n",
       "      <td>0.296343</td>\n",
       "      <td>-0.532760</td>\n",
       "      <td>1.000000</td>\n",
       "      <td>-0.594226</td>\n",
       "      <td>0.073011</td>\n",
       "      <td>0.295525</td>\n",
       "      <td>-0.449224</td>\n",
       "    </tr>\n",
       "    <tr>\n",
       "      <th>cited_by_clin</th>\n",
       "      <td>-0.256781</td>\n",
       "      <td>0.392533</td>\n",
       "      <td>0.203469</td>\n",
       "      <td>-0.018382</td>\n",
       "      <td>0.004338</td>\n",
       "      <td>NaN</td>\n",
       "      <td>0.002934</td>\n",
       "      <td>-0.244093</td>\n",
       "      <td>0.198394</td>\n",
       "      <td>0.157572</td>\n",
       "      <td>...</td>\n",
       "      <td>0.398761</td>\n",
       "      <td>0.708602</td>\n",
       "      <td>-0.516001</td>\n",
       "      <td>-0.580346</td>\n",
       "      <td>0.864545</td>\n",
       "      <td>-0.594226</td>\n",
       "      <td>1.000000</td>\n",
       "      <td>-0.228373</td>\n",
       "      <td>0.122959</td>\n",
       "      <td>0.281910</td>\n",
       "    </tr>\n",
       "    <tr>\n",
       "      <th>nih</th>\n",
       "      <td>-0.377695</td>\n",
       "      <td>-0.064701</td>\n",
       "      <td>0.475616</td>\n",
       "      <td>0.035355</td>\n",
       "      <td>0.030853</td>\n",
       "      <td>NaN</td>\n",
       "      <td>-0.052521</td>\n",
       "      <td>-0.374160</td>\n",
       "      <td>0.471033</td>\n",
       "      <td>0.050984</td>\n",
       "      <td>...</td>\n",
       "      <td>0.238823</td>\n",
       "      <td>-0.464937</td>\n",
       "      <td>0.279857</td>\n",
       "      <td>0.483666</td>\n",
       "      <td>-0.285662</td>\n",
       "      <td>0.073011</td>\n",
       "      <td>-0.228373</td>\n",
       "      <td>1.000000</td>\n",
       "      <td>-0.401029</td>\n",
       "      <td>0.004167</td>\n",
       "    </tr>\n",
       "    <tr>\n",
       "      <th>rage</th>\n",
       "      <td>0.174621</td>\n",
       "      <td>0.214844</td>\n",
       "      <td>-0.282019</td>\n",
       "      <td>-0.409543</td>\n",
       "      <td>-0.434893</td>\n",
       "      <td>NaN</td>\n",
       "      <td>-0.015262</td>\n",
       "      <td>0.158408</td>\n",
       "      <td>-0.286782</td>\n",
       "      <td>0.251307</td>\n",
       "      <td>...</td>\n",
       "      <td>-0.256064</td>\n",
       "      <td>0.225938</td>\n",
       "      <td>0.066960</td>\n",
       "      <td>-0.417217</td>\n",
       "      <td>0.054865</td>\n",
       "      <td>0.295525</td>\n",
       "      <td>0.122959</td>\n",
       "      <td>-0.401029</td>\n",
       "      <td>1.000000</td>\n",
       "      <td>-0.349085</td>\n",
       "    </tr>\n",
       "    <tr>\n",
       "      <th>class</th>\n",
       "      <td>-0.194837</td>\n",
       "      <td>0.000903</td>\n",
       "      <td>0.150632</td>\n",
       "      <td>0.404863</td>\n",
       "      <td>0.434149</td>\n",
       "      <td>NaN</td>\n",
       "      <td>0.080429</td>\n",
       "      <td>-0.172141</td>\n",
       "      <td>0.151641</td>\n",
       "      <td>-0.254164</td>\n",
       "      <td>...</td>\n",
       "      <td>0.327748</td>\n",
       "      <td>0.131885</td>\n",
       "      <td>-0.186700</td>\n",
       "      <td>0.000108</td>\n",
       "      <td>0.299344</td>\n",
       "      <td>-0.449224</td>\n",
       "      <td>0.281910</td>\n",
       "      <td>0.004167</td>\n",
       "      <td>-0.349085</td>\n",
       "      <td>1.000000</td>\n",
       "    </tr>\n",
       "  </tbody>\n",
       "</table>\n",
       "<p>34 rows × 34 columns</p>\n",
       "</div>"
      ],
      "text/plain": [
       "                               cluster      year         n  pct_is_new  \\\n",
       "cluster                       1.000000  0.193755 -0.562190    0.149279   \n",
       "year                          0.193755  1.000000  0.100737   -0.117138   \n",
       "n                            -0.562190  0.100737  1.000000   -0.027809   \n",
       "pct_is_new                    0.149279 -0.117138 -0.027809    1.000000   \n",
       "pct_is_newish                 0.084211 -0.144214  0.012261    0.976116   \n",
       "pct_dusted_ccn                     NaN       NaN       NaN         NaN   \n",
       "pct_dusted_rmcl               0.039007 -0.019670 -0.054631    0.251878   \n",
       "biggest_anc                   0.988527  0.190578 -0.546295    0.215096   \n",
       "n_biggest_anc                -0.552271  0.102075  0.981475   -0.032792   \n",
       "pct_in_biggest_anc           -0.374136  0.163564  0.187188   -0.746508   \n",
       "pct_of_biggest_anc           -0.156580  0.134248  0.073991   -0.286623   \n",
       "pct_of_biggest_anc_new        0.147285 -0.126311 -0.012152    0.963667   \n",
       "pct_of_biggest_anc_newish    -0.077357 -0.183403  0.086332    0.793432   \n",
       "secbiggest_anc                0.356296  0.072610 -0.130702   -0.022710   \n",
       "n_secbiggest_anc             -0.282170  0.104340  0.209859   -0.031247   \n",
       "pct_in_secbiggest_anc         0.315401 -0.147774 -0.175068    0.285902   \n",
       "pct_of_secbiggest_anc         0.168628 -0.110666 -0.091008    0.079707   \n",
       "pct_of_secbiggest_anc_new     0.081356 -0.149421 -0.030400    0.153745   \n",
       "pct_of_secbiggest_anc_newish  0.136146 -0.106117 -0.044792    0.092126   \n",
       "n_clusts_90_anc               0.033350  0.051509 -0.066866    0.019639   \n",
       "pct_top_5_anc                 0.166008  0.080080 -0.126665   -0.332725   \n",
       "wrcr                         -0.477842  0.106841  0.954513    0.076821   \n",
       "rcr_low                      -0.448194  0.179795  0.656537    0.092125   \n",
       "rcr_mid                      -0.553183 -0.067877  0.578974    0.278775   \n",
       "rcr_hi                       -0.611772 -0.104237  0.584816    0.378865   \n",
       "human                        -0.004522  0.269031 -0.123604    0.019019   \n",
       "animal                        0.003613 -0.308657  0.030630   -0.120265   \n",
       "molecular_cellular           -0.052164 -0.134505  0.203033    0.080392   \n",
       "is_clinical                  -0.138156  0.261155  0.092037    0.075652   \n",
       "is_research_article           0.190256 -0.441399 -0.225278   -0.372896   \n",
       "cited_by_clin                -0.256781  0.392533  0.203469   -0.018382   \n",
       "nih                          -0.377695 -0.064701  0.475616    0.035355   \n",
       "rage                          0.174621  0.214844 -0.282019   -0.409543   \n",
       "class                        -0.194837  0.000903  0.150632    0.404863   \n",
       "\n",
       "                              pct_is_newish  pct_dusted_ccn  pct_dusted_rmcl  \\\n",
       "cluster                            0.084211             NaN         0.039007   \n",
       "year                              -0.144214             NaN        -0.019670   \n",
       "n                                  0.012261             NaN        -0.054631   \n",
       "pct_is_new                         0.976116             NaN         0.251878   \n",
       "pct_is_newish                      1.000000             NaN         0.247755   \n",
       "pct_dusted_ccn                          NaN             NaN              NaN   \n",
       "pct_dusted_rmcl                    0.247755             NaN         1.000000   \n",
       "biggest_anc                        0.142449             NaN         0.045130   \n",
       "n_biggest_anc                      0.010153             NaN        -0.053490   \n",
       "pct_in_biggest_anc                -0.734460             NaN        -0.225063   \n",
       "pct_of_biggest_anc                -0.331728             NaN        -0.164860   \n",
       "pct_of_biggest_anc_new             0.956718             NaN         0.261727   \n",
       "pct_of_biggest_anc_newish          0.877232             NaN         0.219516   \n",
       "secbiggest_anc                     0.012338             NaN        -0.053407   \n",
       "n_secbiggest_anc                  -0.022685             NaN         0.007758   \n",
       "pct_in_secbiggest_anc              0.281949             NaN         0.107536   \n",
       "pct_of_secbiggest_anc              0.103662             NaN        -0.005143   \n",
       "pct_of_secbiggest_anc_new          0.160313             NaN        -0.117080   \n",
       "pct_of_secbiggest_anc_newish       0.119579             NaN        -0.119150   \n",
       "n_clusts_90_anc                    0.026907             NaN         0.195763   \n",
       "pct_top_5_anc                     -0.359381             NaN        -0.112659   \n",
       "wrcr                               0.121183             NaN        -0.026237   \n",
       "rcr_low                            0.131212             NaN        -0.075390   \n",
       "rcr_mid                            0.333290             NaN        -0.016185   \n",
       "rcr_hi                             0.435189             NaN         0.071268   \n",
       "human                              0.037075             NaN        -0.009889   \n",
       "animal                            -0.139379             NaN         0.065630   \n",
       "molecular_cellular                 0.071675             NaN        -0.051576   \n",
       "is_clinical                        0.080380             NaN         0.075111   \n",
       "is_research_article               -0.381442             NaN        -0.099472   \n",
       "cited_by_clin                      0.004338             NaN         0.002934   \n",
       "nih                                0.030853             NaN        -0.052521   \n",
       "rage                              -0.434893             NaN        -0.015262   \n",
       "class                              0.434149             NaN         0.080429   \n",
       "\n",
       "                              biggest_anc  n_biggest_anc  pct_in_biggest_anc  \\\n",
       "cluster                          0.988527      -0.552271           -0.374136   \n",
       "year                             0.190578       0.102075            0.163564   \n",
       "n                               -0.546295       0.981475            0.187188   \n",
       "pct_is_new                       0.215096      -0.032792           -0.746508   \n",
       "pct_is_newish                    0.142449       0.010153           -0.734460   \n",
       "pct_dusted_ccn                        NaN            NaN                 NaN   \n",
       "pct_dusted_rmcl                  0.045130      -0.053490           -0.225063   \n",
       "biggest_anc                      1.000000      -0.544059           -0.423155   \n",
       "n_biggest_anc                   -0.544059       1.000000            0.163349   \n",
       "pct_in_biggest_anc              -0.423155       0.163349            1.000000   \n",
       "pct_of_biggest_anc              -0.110339      -0.050900            0.639567   \n",
       "pct_of_biggest_anc_new           0.213380      -0.030592           -0.669000   \n",
       "pct_of_biggest_anc_newish       -0.035958       0.068826           -0.534955   \n",
       "secbiggest_anc                   0.341866      -0.123726           -0.032214   \n",
       "n_secbiggest_anc                -0.269619       0.188105            0.131927   \n",
       "pct_in_secbiggest_anc            0.330825      -0.184116           -0.787433   \n",
       "pct_of_secbiggest_anc            0.175934      -0.070534           -0.317495   \n",
       "pct_of_secbiggest_anc_new        0.098689      -0.027113           -0.128705   \n",
       "pct_of_secbiggest_anc_newish     0.141488      -0.041854           -0.074424   \n",
       "n_clusts_90_anc                  0.035419      -0.063824           -0.111650   \n",
       "pct_top_5_anc                    0.148618      -0.103283            0.287913   \n",
       "wrcr                            -0.463109       0.936459            0.082926   \n",
       "rcr_low                         -0.434025       0.638426            0.038665   \n",
       "rcr_mid                         -0.527770       0.561583           -0.060435   \n",
       "rcr_hi                          -0.584553       0.570246           -0.101703   \n",
       "human                           -0.012549      -0.123502            0.095702   \n",
       "animal                           0.004728       0.026568           -0.021137   \n",
       "molecular_cellular              -0.037649       0.205971           -0.123315   \n",
       "is_clinical                     -0.122027       0.092368            0.058176   \n",
       "is_research_article              0.162828      -0.218956            0.087284   \n",
       "cited_by_clin                   -0.244093       0.198394            0.157572   \n",
       "nih                             -0.374160       0.471033            0.050984   \n",
       "rage                             0.158408      -0.286782            0.251307   \n",
       "class                           -0.172141       0.151641           -0.254164   \n",
       "\n",
       "                              ...    rcr_hi     human    animal  \\\n",
       "cluster                       ... -0.611772 -0.004522  0.003613   \n",
       "year                          ... -0.104237  0.269031 -0.308657   \n",
       "n                             ...  0.584816 -0.123604  0.030630   \n",
       "pct_is_new                    ...  0.378865  0.019019 -0.120265   \n",
       "pct_is_newish                 ...  0.435189  0.037075 -0.139379   \n",
       "pct_dusted_ccn                ...       NaN       NaN       NaN   \n",
       "pct_dusted_rmcl               ...  0.071268 -0.009889  0.065630   \n",
       "biggest_anc                   ... -0.584553 -0.012549  0.004728   \n",
       "n_biggest_anc                 ...  0.570246 -0.123502  0.026568   \n",
       "pct_in_biggest_anc            ... -0.101703  0.095702 -0.021137   \n",
       "pct_of_biggest_anc            ... -0.074501  0.097658 -0.050509   \n",
       "pct_of_biggest_anc_new        ...  0.371500  0.033260 -0.137265   \n",
       "pct_of_biggest_anc_newish     ...  0.506029  0.049701 -0.164267   \n",
       "secbiggest_anc                ... -0.175945  0.067298 -0.045542   \n",
       "n_secbiggest_anc              ...  0.166235 -0.021073 -0.012798   \n",
       "pct_in_secbiggest_anc         ... -0.081013 -0.137605  0.138407   \n",
       "pct_of_secbiggest_anc         ... -0.073439 -0.065847  0.047728   \n",
       "pct_of_secbiggest_anc_new     ...  0.029747 -0.014487  0.017132   \n",
       "pct_of_secbiggest_anc_newish  ... -0.010716  0.008982  0.015396   \n",
       "n_clusts_90_anc               ... -0.014326  0.040428 -0.036453   \n",
       "pct_top_5_anc                 ... -0.342070  0.018064  0.049351   \n",
       "wrcr                          ...  0.673312 -0.056254 -0.030050   \n",
       "rcr_low                       ...  0.714028  0.016071  0.006698   \n",
       "rcr_mid                       ...  0.903273  0.102241 -0.064092   \n",
       "rcr_hi                        ...  1.000000  0.164309 -0.174872   \n",
       "human                         ...  0.164309  1.000000 -0.765540   \n",
       "animal                        ... -0.174872 -0.765540  1.000000   \n",
       "molecular_cellular            ... -0.049856 -0.815885  0.263701   \n",
       "is_clinical                   ...  0.302836  0.549778 -0.397204   \n",
       "is_research_article           ... -0.404362 -0.503774  0.478116   \n",
       "cited_by_clin                 ...  0.398761  0.708602 -0.516001   \n",
       "nih                           ...  0.238823 -0.464937  0.279857   \n",
       "rage                          ... -0.256064  0.225938  0.066960   \n",
       "class                         ...  0.327748  0.131885 -0.186700   \n",
       "\n",
       "                              molecular_cellular  is_clinical  \\\n",
       "cluster                                -0.052164    -0.138156   \n",
       "year                                   -0.134505     0.261155   \n",
       "n                                       0.203033     0.092037   \n",
       "pct_is_new                              0.080392     0.075652   \n",
       "pct_is_newish                           0.071675     0.080380   \n",
       "pct_dusted_ccn                               NaN          NaN   \n",
       "pct_dusted_rmcl                        -0.051576     0.075111   \n",
       "biggest_anc                            -0.037649    -0.122027   \n",
       "n_biggest_anc                           0.205971     0.092368   \n",
       "pct_in_biggest_anc                     -0.123315     0.058176   \n",
       "pct_of_biggest_anc                     -0.103006     0.086909   \n",
       "pct_of_biggest_anc_new                  0.071350     0.076788   \n",
       "pct_of_biggest_anc_newish               0.072877     0.062597   \n",
       "secbiggest_anc                         -0.072097    -0.052289   \n",
       "n_secbiggest_anc                        0.071699    -0.031375   \n",
       "pct_in_secbiggest_anc                   0.083326    -0.130636   \n",
       "pct_of_secbiggest_anc                   0.060400    -0.039320   \n",
       "pct_of_secbiggest_anc_new               0.014866    -0.005931   \n",
       "pct_of_secbiggest_anc_newish           -0.021805    -0.021630   \n",
       "n_clusts_90_anc                        -0.029147     0.059233   \n",
       "pct_top_5_anc                          -0.083445    -0.072920   \n",
       "wrcr                                    0.149706     0.133343   \n",
       "rcr_low                                 0.003178     0.238388   \n",
       "rcr_mid                                -0.058974     0.271868   \n",
       "rcr_hi                                 -0.049856     0.302836   \n",
       "human                                  -0.815885     0.549778   \n",
       "animal                                  0.263701    -0.397204   \n",
       "molecular_cellular                      1.000000    -0.455245   \n",
       "is_clinical                            -0.455245     1.000000   \n",
       "is_research_article                     0.296343    -0.532760   \n",
       "cited_by_clin                          -0.580346     0.864545   \n",
       "nih                                     0.483666    -0.285662   \n",
       "rage                                   -0.417217     0.054865   \n",
       "class                                   0.000108     0.299344   \n",
       "\n",
       "                              is_research_article  cited_by_clin       nih  \\\n",
       "cluster                                  0.190256      -0.256781 -0.377695   \n",
       "year                                    -0.441399       0.392533 -0.064701   \n",
       "n                                       -0.225278       0.203469  0.475616   \n",
       "pct_is_new                              -0.372896      -0.018382  0.035355   \n",
       "pct_is_newish                           -0.381442       0.004338  0.030853   \n",
       "pct_dusted_ccn                                NaN            NaN       NaN   \n",
       "pct_dusted_rmcl                         -0.099472       0.002934 -0.052521   \n",
       "biggest_anc                              0.162828      -0.244093 -0.374160   \n",
       "n_biggest_anc                           -0.218956       0.198394  0.471033   \n",
       "pct_in_biggest_anc                       0.087284       0.157572  0.050984   \n",
       "pct_of_biggest_anc                      -0.041803       0.134299 -0.034225   \n",
       "pct_of_biggest_anc_new                  -0.360285      -0.014319  0.030779   \n",
       "pct_of_biggest_anc_newish               -0.336928       0.028615  0.046343   \n",
       "secbiggest_anc                          -0.024849      -0.092526 -0.154206   \n",
       "n_secbiggest_anc                        -0.160409       0.085653  0.302831   \n",
       "pct_in_secbiggest_anc                    0.118467      -0.194299 -0.031065   \n",
       "pct_of_secbiggest_anc                    0.058781      -0.109117 -0.101068   \n",
       "pct_of_secbiggest_anc_new               -0.081722      -0.042959 -0.033185   \n",
       "pct_of_secbiggest_anc_newish            -0.076153      -0.055138 -0.039796   \n",
       "n_clusts_90_anc                         -0.063678       0.055110 -0.096231   \n",
       "pct_top_5_anc                            0.204443      -0.072514 -0.185086   \n",
       "wrcr                                    -0.257639       0.249225  0.425529   \n",
       "rcr_low                                 -0.244168       0.363996  0.294411   \n",
       "rcr_mid                                 -0.276926       0.381153  0.227177   \n",
       "rcr_hi                                  -0.404362       0.398761  0.238823   \n",
       "human                                   -0.503774       0.708602 -0.464937   \n",
       "animal                                   0.478116      -0.516001  0.279857   \n",
       "molecular_cellular                       0.296343      -0.580346  0.483666   \n",
       "is_clinical                             -0.532760       0.864545 -0.285662   \n",
       "is_research_article                      1.000000      -0.594226  0.073011   \n",
       "cited_by_clin                           -0.594226       1.000000 -0.228373   \n",
       "nih                                      0.073011      -0.228373  1.000000   \n",
       "rage                                     0.295525       0.122959 -0.401029   \n",
       "class                                   -0.449224       0.281910  0.004167   \n",
       "\n",
       "                                  rage     class  \n",
       "cluster                       0.174621 -0.194837  \n",
       "year                          0.214844  0.000903  \n",
       "n                            -0.282019  0.150632  \n",
       "pct_is_new                   -0.409543  0.404863  \n",
       "pct_is_newish                -0.434893  0.434149  \n",
       "pct_dusted_ccn                     NaN       NaN  \n",
       "pct_dusted_rmcl              -0.015262  0.080429  \n",
       "biggest_anc                   0.158408 -0.172141  \n",
       "n_biggest_anc                -0.286782  0.151641  \n",
       "pct_in_biggest_anc            0.251307 -0.254164  \n",
       "pct_of_biggest_anc            0.166599 -0.150814  \n",
       "pct_of_biggest_anc_new       -0.438609  0.386644  \n",
       "pct_of_biggest_anc_newish    -0.439303  0.414631  \n",
       "secbiggest_anc               -0.008137 -0.065775  \n",
       "n_secbiggest_anc             -0.076335  0.048141  \n",
       "pct_in_secbiggest_anc        -0.048628  0.080449  \n",
       "pct_of_secbiggest_anc        -0.070420  0.098020  \n",
       "pct_of_secbiggest_anc_new    -0.116692 -0.016490  \n",
       "pct_of_secbiggest_anc_newish -0.088183 -0.048438  \n",
       "n_clusts_90_anc               0.076035 -0.077509  \n",
       "pct_top_5_anc                 0.233530 -0.107007  \n",
       "wrcr                         -0.282908  0.162232  \n",
       "rcr_low                      -0.046050  0.118418  \n",
       "rcr_mid                      -0.088745  0.231903  \n",
       "rcr_hi                       -0.256064  0.327748  \n",
       "human                         0.225938  0.131885  \n",
       "animal                        0.066960 -0.186700  \n",
       "molecular_cellular           -0.417217  0.000108  \n",
       "is_clinical                   0.054865  0.299344  \n",
       "is_research_article           0.295525 -0.449224  \n",
       "cited_by_clin                 0.122959  0.281910  \n",
       "nih                          -0.401029  0.004167  \n",
       "rage                          1.000000 -0.349085  \n",
       "class                        -0.349085  1.000000  \n",
       "\n",
       "[34 rows x 34 columns]"
      ]
     },
     "execution_count": 3,
     "metadata": {},
     "output_type": "execute_result"
    }
   ],
   "source": [
    "data = pd.read_csv(\"data_84.csv\")\n",
    "data.corr()"
   ]
  },
  {
   "cell_type": "code",
   "execution_count": 4,
   "id": "c53cae32",
   "metadata": {},
   "outputs": [
    {
     "name": "stdout",
     "output_type": "stream",
     "text": [
      "63939   22228   21197   20514\n"
     ]
    }
   ],
   "source": [
    "dd = pd.concat([data2, data3], axis=0)\n",
    "dd = pd.concat([dd, data4], axis=0)\n",
    "print(len(dd),\" \",len(data2),\" \",len(data3),\" \", len(data4))\n",
    "dd.corr()\n",
    "ddh = dd[dd['pred_log'] > 0.70]"
   ]
  },
  {
   "cell_type": "code",
   "execution_count": 5,
   "id": "24ab4cad",
   "metadata": {
    "scrolled": true
   },
   "outputs": [
    {
     "name": "stdout",
     "output_type": "stream",
     "text": [
      "139\n",
      "0.6615782889190448\n",
      "0.4992861269431743\n",
      "0.7985500906961734\n"
     ]
    }
   ],
   "source": [
    "print(len(d1[d1['human'] >= 0.020]))\n",
    "print(d1['human'].mean())\n",
    "print(d0['human'].mean())\n",
    "d = dd[dd['pred_log'] > 0.75]\n",
    "print(d['human'].mean())"
   ]
  },
  {
   "cell_type": "code",
   "execution_count": 6,
   "id": "d2e609ac",
   "metadata": {},
   "outputs": [
    {
     "name": "stdout",
     "output_type": "stream",
     "text": [
      "139\n",
      "129\n",
      "0.3139763005804777\n",
      "0.19447812104544823\n",
      "0.3002365114722526\n",
      "755\n"
     ]
    }
   ],
   "source": [
    "print(len(d1))\n",
    "print(len(d1[d1['cited_by_clin'] >= 0.1]))\n",
    "print(d1['cited_by_clin'].mean())\n",
    "print(d0['cited_by_clin'].mean())\n",
    "d = dd[dd['pred_log'] > 0.75]\n",
    "print(d['cited_by_clin'].mean())\n",
    "print(len(d[d['cited_by_clin'] < 0.1]))"
   ]
  },
  {
   "cell_type": "code",
   "execution_count": 35,
   "id": "ac650d15",
   "metadata": {},
   "outputs": [
    {
     "name": "stdout",
     "output_type": "stream",
     "text": [
      "117\n",
      "3.360497019995197\n",
      "2.5996143195839845\n",
      "3.0720042366859865\n",
      "945\n"
     ]
    }
   ],
   "source": [
    "print(len(d1[d1['rcr_hi'] > 2.50]))\n",
    "print(d1['rcr_hi'].mean())\n",
    "print(d0['rcr_hi'].mean())\n",
    "d = dd[dd['pred_log'] > 0.75]\n",
    "print(d['rcr_hi'].mean())\n",
    "print(len(d[d['rcr_hi'] <= 2.00]))"
   ]
  },
  {
   "cell_type": "code",
   "execution_count": 43,
   "id": "b72465af",
   "metadata": {},
   "outputs": [
    {
     "name": "stdout",
     "output_type": "stream",
     "text": [
      "124\n",
      "0.191511387163561\n",
      "0.08446150930062704\n",
      "0.259259259259259\n",
      "503\n"
     ]
    }
   ],
   "source": [
    "print(len(d1[d1['pct_is_new'] <= 0.50]))\n",
    "print(d1['pct_is_new'].median())\n",
    "print(d0['pct_is_new'].median())\n",
    "d = dd[dd['pred_log'] > 0.75]\n",
    "print(d['pct_is_new'].median())\n",
    "print(len(d[d['pct_is_new'] > 0.50]))"
   ]
  },
  {
   "cell_type": "code",
   "execution_count": 9,
   "id": "1e15b297",
   "metadata": {},
   "outputs": [
    {
     "name": "stdout",
     "output_type": "stream",
     "text": [
      "0.181515957446809\n",
      "0.07999358839235525\n",
      "0.235321695485508\n"
     ]
    }
   ],
   "source": [
    "print(d1['pct_is_newish'].median())\n",
    "print(d0['pct_is_newish'].median())\n",
    "d = dd[dd['pred_log'] > 0.75]\n",
    "print(d['pct_is_newish'].median())"
   ]
  },
  {
   "cell_type": "code",
   "execution_count": 10,
   "id": "8fce6ef8",
   "metadata": {},
   "outputs": [
    {
     "name": "stdout",
     "output_type": "stream",
     "text": [
      "120\n",
      "2669.0\n",
      "2065.0\n",
      "661.5\n"
     ]
    }
   ],
   "source": [
    "print(len(d1[d1['n_biggest_anc'] >= 300]))\n",
    "print(d1['n_biggest_anc'].median())\n",
    "print(d0['n_biggest_anc'].median())\n",
    "d = dd[dd['pred_log'] > 0.75]\n",
    "print(d['n_biggest_anc'].median())"
   ]
  },
  {
   "cell_type": "code",
   "execution_count": 11,
   "id": "827041ca",
   "metadata": {},
   "outputs": [
    {
     "name": "stdout",
     "output_type": "stream",
     "text": [
      "0.948643410852713\n",
      "0.9622801199532045\n",
      "0.8955495748851026\n"
     ]
    }
   ],
   "source": [
    "print(d1['pct_of_biggest_anc'].median())\n",
    "print(d0['pct_of_biggest_anc'].median())\n",
    "d = data2[data2['pred_log'] > 0.75]\n",
    "print(d['pct_of_biggest_anc'].median())"
   ]
  },
  {
   "cell_type": "code",
   "execution_count": 12,
   "id": "fcc6d962",
   "metadata": {},
   "outputs": [
    {
     "name": "stdout",
     "output_type": "stream",
     "text": [
      "122\n",
      "3.42451246635554\n",
      "7.676822355712575\n",
      "4.751392716077815\n",
      "2564\n",
      "     cluster  year     n  pct_is_new  pct_is_newish  pct_dusted_ccn  \\\n",
      "236     8803  2014   381    0.551181       0.404199               0   \n",
      "239      280  2014  5899    0.093745       0.092728               0   \n",
      "244      315  2014  5716    0.199265       0.180196               0   \n",
      "248     1436  2015  3135    0.101116       0.086124               0   \n",
      "250     1693  2015  2822    0.132176       0.117647               0   \n",
      "256     4054  2015  1335    0.457678       0.343071               0   \n",
      "257      750  2015  4279    0.264080       0.266651               0   \n",
      "259     4337  2016  1302    0.157450       0.133641               0   \n",
      "261      314  2016  6001    0.143809       0.134478               0   \n",
      "263      319  2017  6072    0.147563       0.135870               0   \n",
      "265      235  2017  6508    0.583743       0.398125               0   \n",
      "269      698  2017  4717    0.043672       0.041976               0   \n",
      "271     2623  2018  2307    0.149111       0.119202               0   \n",
      "273      441  2018  5793    0.139651       0.136026               0   \n",
      "277    11807  2018   293    0.532423       0.372014               0   \n",
      "282     1341  2019  3945    0.033714       0.031686               0   \n",
      "283    11637  2019   323    0.318885       0.269350               0   \n",
      "286     2163  2019  2825    0.241770       0.209558               0   \n",
      "288      822  2020  4921    0.186954       0.163381               0   \n",
      "291     4139  2020  1743    0.483075       0.400459               0   \n",
      "\n",
      "     pct_dusted_rmcl  biggest_anc  n_biggest_anc  pct_in_biggest_anc  ...  \\\n",
      "236         0.034121        14591            138            0.225722  ...   \n",
      "239         0.014748          302           5574            0.929141  ...   \n",
      "244         0.022393          382           5174            0.887159  ...   \n",
      "248         0.001276         1493           2942            0.911005  ...   \n",
      "250         0.001063         1717           2669            0.915663  ...   \n",
      "256         0.003745         4783           1008            0.713858  ...   \n",
      "257         0.002103          667           4334            0.666043  ...   \n",
      "259         0.000000         3855           1414            0.828725  ...   \n",
      "261         0.012831          362           5603            0.904016  ...   \n",
      "263         0.000823          372           5727            0.895257  ...   \n",
      "265         0.013675          749           4436            0.569914  ...   \n",
      "269         0.000000          676           4621            0.968836  ...   \n",
      "271         0.000433         2801           2099            0.896836  ...   \n",
      "273         0.014155          489           5424            0.909373  ...   \n",
      "277         0.000000        17558            131            0.354949  ...   \n",
      "282         0.008365         1286           3874            0.971863  ...   \n",
      "283         0.003096        12694            255            0.687307  ...   \n",
      "286         0.000708         2413           2484            0.823717  ...   \n",
      "288         0.000610          609           5360            0.821175  ...   \n",
      "291         0.045324         9092            508            0.255881  ...   \n",
      "\n",
      "       rcr_hi     human    animal  molecular_cellular  is_clinical  \\\n",
      "236  2.742703  0.805564  0.061811            0.124724     0.107612   \n",
      "239  3.182992  0.559417  0.105482            0.333392     0.042041   \n",
      "244  4.277654  0.700614  0.109487            0.170066     0.026767   \n",
      "248  3.060600  0.943467  0.020683            0.025949     0.038915   \n",
      "250  2.983618  0.723140  0.225680            0.041860     0.144224   \n",
      "256  6.116288  0.582217  0.219483            0.162127     0.165543   \n",
      "257  3.465757  0.752631  0.049649            0.186558     0.175742   \n",
      "259  2.723602  0.887673  0.070822            0.024570     0.196621   \n",
      "261  2.770353  0.666817  0.033196            0.294211     0.104816   \n",
      "263  3.608291  0.716653  0.117528            0.159960     0.125494   \n",
      "265  6.550955  0.529554  0.127727            0.321716     0.053319   \n",
      "269  3.004074  0.738069  0.115849            0.133538     0.283867   \n",
      "271  2.151464  0.820767  0.002566            0.172757     0.069354   \n",
      "273  4.109515  0.683913  0.148574            0.154666     0.113067   \n",
      "277  5.060390  0.460580  0.056826            0.455256     0.075085   \n",
      "282  3.188632  0.875508  0.089693            0.021098     0.130038   \n",
      "283  2.177646  0.803591  0.009071            0.168793     0.080495   \n",
      "286  2.785200  0.339795  0.147179            0.499844     0.066903   \n",
      "288  3.459224  0.292782  0.223818            0.472176     0.038407   \n",
      "291  5.978936  0.422840  0.054848            0.490034     0.067126   \n",
      "\n",
      "     is_research_article  cited_by_clin       nih      rage  class  \n",
      "236             0.627297       0.251969  0.165354  6.532626      1  \n",
      "239             0.786913       0.346330  0.477708  6.371021      1  \n",
      "244             0.799335       0.283415  0.102169  6.751952      1  \n",
      "248             0.787241       0.336204  0.067305  9.416034      1  \n",
      "250             0.771793       0.427356  0.014529  8.436536      1  \n",
      "256             0.698127       0.328839  0.098876  6.776821      1  \n",
      "257             0.682169       0.462491  0.197710  5.959198      1  \n",
      "259             0.699693       0.490015  0.054531  8.485639      1  \n",
      "261             0.733711       0.459923  0.185969  6.541350      1  \n",
      "263             0.737484       0.517787  0.069005  7.488534      1  \n",
      "265             0.638291       0.245698  0.270129  5.439450      1  \n",
      "269             0.860081       0.682425  0.035616  8.744342      1  \n",
      "271             0.770264       0.398786  0.039445  6.725384      1  \n",
      "273             0.851545       0.539272  0.184878  9.957438      1  \n",
      "277             0.836177       0.232082  0.051195  5.507021      1  \n",
      "282             0.835741       0.531305  0.096071  8.068011      1  \n",
      "283             0.705882       0.244582  0.061920  6.488367      1  \n",
      "286             0.768142       0.206726  0.240354  6.802819      1  \n",
      "288             0.767730       0.189596  0.257265  7.077455      1  \n",
      "291             0.787722       0.212278  0.084911  5.684465      1  \n",
      "\n",
      "[20 rows x 34 columns]\n"
     ]
    }
   ],
   "source": [
    "print(len(d1[d1['rage'] >= 5.00]))\n",
    "\n",
    "print(d1['rage'].min())\n",
    "print(d0['rage'].median())\n",
    "d = dd[dd['pred_log'] > 0.75]\n",
    "print(d['rage'].median())\n",
    "print(len(d[d['rage'] < 5]))\n",
    "\n",
    "df = d1[d1['rage'] >= 5.00]\n",
    "print(df.tail(20))"
   ]
  },
  {
   "cell_type": "code",
   "execution_count": 47,
   "id": "29fb4b4d",
   "metadata": {},
   "outputs": [
    {
     "name": "stdout",
     "output_type": "stream",
     "text": [
      "118\n",
      "0.10439275034131415\n",
      "0.03158050066749413\n",
      "0.07969805140048392\n",
      "740\n"
     ]
    }
   ],
   "source": [
    "print(len(d1[d1['is_clinical'] >= 0.020]))\n",
    "print(d1['is_clinical'].mean())\n",
    "print(d0['is_clinical'].mean())\n",
    "d = dd[dd['pred_log'] > 0.75]\n",
    "print(d['is_clinical'].mean())\n",
    "print(len(d[d['is_clinical'] < 0.015]))"
   ]
  },
  {
   "cell_type": "code",
   "execution_count": 14,
   "id": "d1bb0fd4",
   "metadata": {},
   "outputs": [
    {
     "name": "stdout",
     "output_type": "stream",
     "text": [
      "0.689622332432986\n",
      "0.6070329053518465\n",
      "0.664509997248611\n"
     ]
    }
   ],
   "source": [
    "#print(len(data[data['rcr_mid'] >= 0.045]))\n",
    "print(d1['rcr_mid'].median())\n",
    "print(d0['rcr_mid'].median())\n",
    "d = data2[data2['pred_log'] > 0.75]\n",
    "print(d['rcr_mid'].median())"
   ]
  },
  {
   "cell_type": "code",
   "execution_count": 15,
   "id": "fd2c73b5",
   "metadata": {},
   "outputs": [
    {
     "name": "stdout",
     "output_type": "stream",
     "text": [
      "0.970748898678414\n",
      "0.983296130952381\n",
      "0.9515902037117066\n"
     ]
    }
   ],
   "source": [
    "print(d1['pct_top_5_anc'].median())\n",
    "print(d0['pct_top_5_anc'].median())\n",
    "d = dd[dd['pred_log'] > 0.75]\n",
    "print(d['pct_top_5_anc'].median())"
   ]
  },
  {
   "cell_type": "code",
   "execution_count": 16,
   "id": "3029a0f5",
   "metadata": {},
   "outputs": [
    {
     "name": "stdout",
     "output_type": "stream",
     "text": [
      "122\n",
      "0.0857692307692308\n",
      "0.141416102841678\n",
      "0.0205392033542977\n",
      "2071\n"
     ]
    }
   ],
   "source": [
    "print(len(d1[d1['animal'] >= 0.020]))\n",
    "print(d1['animal'].median())\n",
    "print(d0['animal'].median())\n",
    "d = dd[dd['pred_log'] > 0.75]\n",
    "print(d['animal'].median())\n",
    "print(len(d[d['animal'] < 0.020]))"
   ]
  },
  {
   "cell_type": "code",
   "execution_count": 17,
   "id": "a800b6bb",
   "metadata": {},
   "outputs": [
    {
     "name": "stdout",
     "output_type": "stream",
     "text": [
      "0.761996161228407\n",
      "0.890601325212548\n",
      "0.7658616795110285\n"
     ]
    }
   ],
   "source": [
    "print(d1['is_research_article'].median())\n",
    "print(d0['is_research_article'].median())\n",
    "d = dd[dd['pred_log'] > 0.75]\n",
    "print(d['is_research_article'].median())"
   ]
  },
  {
   "cell_type": "code",
   "execution_count": 26,
   "id": "1f3e3400",
   "metadata": {},
   "outputs": [
    {
     "name": "stdout",
     "output_type": "stream",
     "text": [
      "114\n",
      "3684.19651326051\n",
      "1902.839315958975\n",
      "789.0962646656735\n",
      "2041\n"
     ]
    }
   ],
   "source": [
    "print(len(d1[d1['wrcr'] >= 700]))\n",
    "print(d1['wrcr'].median())\n",
    "print(d0['wrcr'].median())\n",
    "d = dd[dd['pred_log'] > 0.75]\n",
    "print(d['wrcr'].median())\n",
    "print(len(d[d['wrcr'] < 700]))"
   ]
  },
  {
   "cell_type": "code",
   "execution_count": 234,
   "id": "6b59eda0",
   "metadata": {},
   "outputs": [
    {
     "name": "stdout",
     "output_type": "stream",
     "text": [
      "125\n",
      "0.183814046488378\n",
      "0.1166807091749025\n",
      "0.02828744374176035\n"
     ]
    }
   ],
   "source": [
    "print(len(d1[d1['molecular_cellular'] >= 0.03]))\n",
    "print(d1['molecular_cellular'].median())\n",
    "print(d0['molecular_cellular'].median())\n",
    "d = dd[dd['pred_log'] > 0.75]\n",
    "print(d['molecular_cellular'].median())"
   ]
  },
  {
   "cell_type": "code",
   "execution_count": 193,
   "id": "7b6942b0",
   "metadata": {},
   "outputs": [
    {
     "name": "stdout",
     "output_type": "stream",
     "text": [
      "133\n",
      "0.104443521594684\n",
      "0.070151989583813\n",
      "0.07594585871060089\n",
      "792\n"
     ]
    }
   ],
   "source": [
    "print(len(d1[d1['nih'] >= 0.025]))\n",
    "print(d1['nih'].median())\n",
    "print(d0['nih'].median())\n",
    "d = dd[dd['pred_log'] > 0.75]\n",
    "print(d['nih'].median())\n",
    "print(len(d[d['nih'] < 0.025]))"
   ]
  },
  {
   "cell_type": "code",
   "execution_count": 166,
   "id": "fa15658a",
   "metadata": {},
   "outputs": [
    {
     "name": "stdout",
     "output_type": "stream",
     "text": [
      "18\n",
      "0.0988292416525234\n",
      "0.0794700648749535\n"
     ]
    }
   ],
   "source": [
    "print(len(d1[d1['rcr_low'] == 0]))\n",
    "print(d1['rcr_low'].median())\n",
    "print(d0['rcr_low'].median())"
   ]
  },
  {
   "cell_type": "code",
   "execution_count": 320,
   "id": "4ee1b980",
   "metadata": {},
   "outputs": [
    {
     "name": "stdout",
     "output_type": "stream",
     "text": [
      "117\n",
      "109\n"
     ]
    }
   ],
   "source": [
    "\n",
    "dm = d1[d1['rcr_hi'] >= 2.55]\n",
    "print(len(dm))\n",
    "#dm = dm[dm['wrcr'] >= 500]\n",
    "dm = dm[dm['cited_by_clin'] >= 0.10]\n",
    "print(len(dm))\n",
    "    #x_test = x_test[x_test['is_clinical'] >= 0.015] ##this one\n",
    "    \n",
    "\n",
    "    #x_test = x_test[x_test['molecular_cellular'] >= 0.030] ##this one, with C = 1\n",
    "    \n",
    "    #x_test = x_test[x_test['human'] >= 0.25]\n",
    "    #x_test = x_test[x_test['rage'] >= 5]\n",
    "    #x_test = x_test[x_test['pct_is_new'] >= 0.09]"
   ]
  },
  {
   "cell_type": "code",
   "execution_count": 4,
   "id": "03b80300",
   "metadata": {},
   "outputs": [
    {
     "name": "stdout",
     "output_type": "stream",
     "text": [
      "23\n",
      "actual len  5202\n",
      "len of xtest  357\n",
      "pct_is_new                   float64\n",
      "pct_is_newish                float64\n",
      "n_biggest_anc                  int64\n",
      "pct_of_biggest_anc           float64\n",
      "n_secbiggest_anc               int64\n",
      "pct_of_secbiggest_anc        float64\n",
      "pct_of_secbiggest_anc_new    float64\n",
      "pct_top_5_anc                float64\n",
      "wrcr                         float64\n",
      "rcr_mid                      float64\n",
      "rcr_hi                       float64\n",
      "human                        float64\n",
      "animal                       float64\n",
      "molecular_cellular           float64\n",
      "is_clinical                  float64\n",
      "is_research_article          float64\n",
      "cited_by_clin                float64\n",
      "nih                          float64\n",
      "rage                         float64\n",
      "dtype: object\n",
      "hdhdhd before  239\n",
      "len of xtrain  236\n",
      "year   1978\n",
      "[1979 1990 1991 1993 1994 1997 1998 1999 2000 2006 2007 2008 2009 2010\n",
      " 2011 2012 2013 2014 2015 2016 2017 2018 2019]\n",
      "cv score  0.7200840825840825\n",
      "(357,)\n",
      "no of positive  250\n",
      "len of predy  154\n"
     ]
    },
    {
     "data": {
      "image/png": "[encoded data removed]",
      "text/plain": [
       "<Figure size 432x288 with 1 Axes>"
      ]
     },
     "metadata": {
      "needs_background": "light"
     },
     "output_type": "display_data"
    },
    {
     "name": "stdout",
     "output_type": "stream",
     "text": [
      "$$$  357   154\n",
      "total positive  154\n",
      "tp tn fp fn 0   0   0   0\n",
      "year  1978 positive  0\n",
      "actual len  5442\n",
      "len of xtest  386\n",
      "pct_is_new                   float64\n",
      "pct_is_newish                float64\n",
      "n_biggest_anc                float64\n",
      "pct_of_biggest_anc           float64\n",
      "n_secbiggest_anc             float64\n",
      "pct_of_secbiggest_anc        float64\n",
      "pct_of_secbiggest_anc_new    float64\n",
      "pct_top_5_anc                float64\n",
      "wrcr                         float64\n",
      "rcr_mid                      float64\n",
      "rcr_hi                       float64\n",
      "human                        float64\n",
      "animal                       float64\n",
      "molecular_cellular           float64\n",
      "is_clinical                  float64\n",
      "is_research_article          float64\n",
      "cited_by_clin                float64\n",
      "nih                          float64\n",
      "rage                         float64\n",
      "dtype: object\n",
      "hdhdhd before  239\n",
      "len of xtrain  234\n",
      "year   1979\n",
      "[1990 1991 1993 1994 1997 1998 1999 2000 2006 2007 2008 2009 2010 2011\n",
      " 2012 2013 2014 2015 2016 2017 2018 2019]\n",
      "cv score  0.7140362415362415\n",
      "(386,)\n",
      "no of positive  322\n",
      "len of predy  239\n"
     ]
    },
    {
     "data": {
      "image/png": "[encoded data removed]",
      "text/plain": [
       "<Figure size 432x288 with 1 Axes>"
      ]
     },
     "metadata": {
      "needs_background": "light"
     },
     "output_type": "display_data"
    },
    {
     "name": "stdout",
     "output_type": "stream",
     "text": [
      "$$$  386   239\n",
      "total positive  239\n",
      "tp tn fp fn 0   0   1   0\n",
      "year  1979 positive  0\n",
      "actual len  5711\n",
      "len of xtest  396\n",
      "pct_is_new                   float64\n",
      "pct_is_newish                float64\n",
      "n_biggest_anc                float64\n",
      "pct_of_biggest_anc           float64\n",
      "n_secbiggest_anc             float64\n",
      "pct_of_secbiggest_anc        float64\n",
      "pct_of_secbiggest_anc_new    float64\n",
      "pct_top_5_anc                float64\n",
      "wrcr                         float64\n",
      "rcr_mid                      float64\n",
      "rcr_hi                       float64\n",
      "human                        float64\n",
      "animal                       float64\n",
      "molecular_cellular           float64\n",
      "is_clinical                  float64\n",
      "is_research_article          float64\n",
      "cited_by_clin                float64\n",
      "nih                          float64\n",
      "rage                         float64\n",
      "dtype: object\n",
      "hdhdhd before  239\n",
      "len of xtrain  236\n",
      "year   1980\n",
      "[1979 1990 1991 1993 1994 1997 1998 1999 2000 2006 2007 2008 2009 2010\n",
      " 2011 2012 2013 2014 2015 2016 2017 2018 2019]\n",
      "cv score  0.7200840825840825\n",
      "(396,)\n",
      "no of positive  284\n",
      "len of predy  170\n"
     ]
    },
    {
     "data": {
      "image/png": "[encoded data removed]",
      "text/plain": [
       "<Figure size 432x288 with 1 Axes>"
      ]
     },
     "metadata": {
      "needs_background": "light"
     },
     "output_type": "display_data"
    },
    {
     "name": "stdout",
     "output_type": "stream",
     "text": [
      "$$$  396   170\n",
      "total positive  170\n",
      "tp tn fp fn 0   0   0   0\n",
      "year  1980 positive  0\n",
      "actual len  5986\n",
      "len of xtest  459\n",
      "pct_is_new                   float64\n",
      "pct_is_newish                float64\n",
      "n_biggest_anc                float64\n",
      "pct_of_biggest_anc           float64\n",
      "n_secbiggest_anc             float64\n",
      "pct_of_secbiggest_anc        float64\n",
      "pct_of_secbiggest_anc_new    float64\n",
      "pct_top_5_anc                float64\n",
      "wrcr                         float64\n",
      "rcr_mid                      float64\n",
      "rcr_hi                       float64\n",
      "human                        float64\n",
      "animal                       float64\n",
      "molecular_cellular           float64\n",
      "is_clinical                  float64\n",
      "is_research_article          float64\n",
      "cited_by_clin                float64\n",
      "nih                          float64\n",
      "rage                         float64\n",
      "dtype: object\n",
      "hdhdhd before  239\n",
      "len of xtrain  236\n",
      "year   1981\n",
      "[1979 1990 1991 1993 1994 1997 1998 1999 2000 2006 2007 2008 2009 2010\n",
      " 2011 2012 2013 2014 2015 2016 2017 2018 2019]\n",
      "cv score  0.7200840825840825\n",
      "(459,)\n",
      "no of positive  317\n",
      "len of predy  192\n"
     ]
    },
    {
     "data": {
      "image/png": "[encoded data removed]",
      "text/plain": [
       "<Figure size 432x288 with 1 Axes>"
      ]
     },
     "metadata": {
      "needs_background": "light"
     },
     "output_type": "display_data"
    },
    {
     "name": "stdout",
     "output_type": "stream",
     "text": [
      "$$$  459   192\n",
      "total positive  192\n",
      "tp tn fp fn 0   0   0   0\n",
      "year  1981 positive  0\n",
      "actual len  6266\n",
      "len of xtest  485\n",
      "pct_is_new                   float64\n",
      "pct_is_newish                float64\n",
      "n_biggest_anc                  int64\n",
      "pct_of_biggest_anc           float64\n",
      "n_secbiggest_anc               int64\n",
      "pct_of_secbiggest_anc        float64\n",
      "pct_of_secbiggest_anc_new    float64\n",
      "pct_top_5_anc                float64\n",
      "wrcr                         float64\n",
      "rcr_mid                      float64\n",
      "rcr_hi                       float64\n",
      "human                        float64\n",
      "animal                       float64\n",
      "molecular_cellular           float64\n",
      "is_clinical                  float64\n",
      "is_research_article          float64\n",
      "cited_by_clin                float64\n",
      "nih                          float64\n",
      "rage                         float64\n",
      "dtype: object\n",
      "hdhdhd before  239\n",
      "len of xtrain  236\n",
      "year   1982\n",
      "[1979 1990 1991 1993 1994 1997 1998 1999 2000 2006 2007 2008 2009 2010\n",
      " 2011 2012 2013 2014 2015 2016 2017 2018 2019]\n",
      "cv score  0.7200840825840825\n",
      "(485,)\n",
      "no of positive  309\n",
      "len of predy  180\n"
     ]
    },
    {
     "data": {
      "image/png": "[encoded data removed]",
      "text/plain": [
       "<Figure size 432x288 with 1 Axes>"
      ]
     },
     "metadata": {
      "needs_background": "light"
     },
     "output_type": "display_data"
    },
    {
     "name": "stdout",
     "output_type": "stream",
     "text": [
      "$$$  485   180\n",
      "total positive  180\n",
      "tp tn fp fn 0   0   0   0\n",
      "year  1982 positive  0\n",
      "actual len  6553\n",
      "len of xtest  533\n",
      "pct_is_new                   float64\n",
      "pct_is_newish                float64\n",
      "n_biggest_anc                  int64\n",
      "pct_of_biggest_anc           float64\n",
      "n_secbiggest_anc               int64\n",
      "pct_of_secbiggest_anc        float64\n",
      "pct_of_secbiggest_anc_new    float64\n",
      "pct_top_5_anc                float64\n",
      "wrcr                         float64\n",
      "rcr_mid                      float64\n",
      "rcr_hi                       float64\n",
      "human                        float64\n",
      "animal                       float64\n",
      "molecular_cellular           float64\n",
      "is_clinical                  float64\n",
      "is_research_article          float64\n",
      "cited_by_clin                float64\n",
      "nih                          float64\n",
      "rage                         float64\n",
      "dtype: object\n",
      "hdhdhd before  239\n",
      "len of xtrain  236\n",
      "year   1983\n",
      "[1979 1990 1991 1993 1994 1997 1998 1999 2000 2006 2007 2008 2009 2010\n",
      " 2011 2012 2013 2014 2015 2016 2017 2018 2019]\n",
      "cv score  0.7200840825840825\n",
      "(533,)\n",
      "no of positive  331\n",
      "len of predy  193\n"
     ]
    },
    {
     "data": {
      "image/png": "[encoded data removed]",
      "text/plain": [
       "<Figure size 432x288 with 1 Axes>"
      ]
     },
     "metadata": {
      "needs_background": "light"
     },
     "output_type": "display_data"
    },
    {
     "name": "stdout",
     "output_type": "stream",
     "text": [
      "$$$  533   193\n",
      "total positive  193\n",
      "tp tn fp fn 0   0   0   0\n",
      "year  1983 positive  0\n",
      "actual len  6814\n",
      "len of xtest  565\n",
      "pct_is_new                   float64\n",
      "pct_is_newish                float64\n",
      "n_biggest_anc                  int64\n",
      "pct_of_biggest_anc           float64\n",
      "n_secbiggest_anc               int64\n",
      "pct_of_secbiggest_anc        float64\n",
      "pct_of_secbiggest_anc_new    float64\n",
      "pct_top_5_anc                float64\n",
      "wrcr                         float64\n",
      "rcr_mid                      float64\n",
      "rcr_hi                       float64\n",
      "human                        float64\n",
      "animal                       float64\n",
      "molecular_cellular           float64\n",
      "is_clinical                  float64\n",
      "is_research_article          float64\n",
      "cited_by_clin                float64\n",
      "nih                          float64\n",
      "rage                         float64\n",
      "dtype: object\n",
      "hdhdhd before  239\n",
      "len of xtrain  236\n",
      "year   1984\n",
      "[1979 1990 1991 1993 1994 1997 1998 1999 2000 2006 2007 2008 2009 2010\n",
      " 2011 2012 2013 2014 2015 2016 2017 2018 2019]\n",
      "cv score  0.7200840825840825\n",
      "(565,)\n",
      "no of positive  346\n",
      "len of predy  205\n"
     ]
    },
    {
     "data": {
      "image/png": "[encoded data removed]",
      "text/plain": [
       "<Figure size 432x288 with 1 Axes>"
      ]
     },
     "metadata": {
      "needs_background": "light"
     },
     "output_type": "display_data"
    },
    {
     "name": "stdout",
     "output_type": "stream",
     "text": [
      "$$$  565   205\n",
      "total positive  205\n",
      "tp tn fp fn 0   0   0   0\n",
      "year  1984 positive  0\n",
      "actual len  7177\n",
      "len of xtest  598\n",
      "pct_is_new                   float64\n",
      "pct_is_newish                float64\n",
      "n_biggest_anc                float64\n",
      "pct_of_biggest_anc           float64\n",
      "n_secbiggest_anc             float64\n",
      "pct_of_secbiggest_anc        float64\n",
      "pct_of_secbiggest_anc_new    float64\n",
      "pct_top_5_anc                float64\n",
      "wrcr                         float64\n",
      "rcr_mid                      float64\n",
      "rcr_hi                       float64\n",
      "human                        float64\n",
      "animal                       float64\n",
      "molecular_cellular           float64\n",
      "is_clinical                  float64\n",
      "is_research_article          float64\n",
      "cited_by_clin                float64\n",
      "nih                          float64\n",
      "rage                         float64\n",
      "dtype: object\n",
      "hdhdhd before  239\n",
      "len of xtrain  236\n",
      "year   1985\n",
      "[1979 1990 1991 1993 1994 1997 1998 1999 2000 2006 2007 2008 2009 2010\n",
      " 2011 2012 2013 2014 2015 2016 2017 2018 2019]\n",
      "cv score  0.7200840825840825\n",
      "(598,)\n",
      "no of positive  364\n",
      "len of predy  209\n"
     ]
    },
    {
     "data": {
      "image/png": "[encoded data removed]",
      "text/plain": [
       "<Figure size 432x288 with 1 Axes>"
      ]
     },
     "metadata": {
      "needs_background": "light"
     },
     "output_type": "display_data"
    },
    {
     "name": "stdout",
     "output_type": "stream",
     "text": [
      "$$$  598   209\n",
      "total positive  209\n",
      "tp tn fp fn 0   0   0   0\n",
      "year  1985 positive  0\n",
      "actual len  7513\n",
      "len of xtest  673\n",
      "pct_is_new                   float64\n",
      "pct_is_newish                float64\n",
      "n_biggest_anc                float64\n",
      "pct_of_biggest_anc           float64\n",
      "n_secbiggest_anc             float64\n",
      "pct_of_secbiggest_anc        float64\n",
      "pct_of_secbiggest_anc_new    float64\n",
      "pct_top_5_anc                float64\n",
      "wrcr                         float64\n",
      "rcr_mid                      float64\n",
      "rcr_hi                       float64\n",
      "human                        float64\n",
      "animal                       float64\n",
      "molecular_cellular           float64\n",
      "is_clinical                  float64\n",
      "is_research_article          float64\n",
      "cited_by_clin                float64\n",
      "nih                          float64\n",
      "rage                         float64\n",
      "dtype: object\n",
      "hdhdhd before  239\n",
      "len of xtrain  236\n",
      "year   1986\n",
      "[1979 1990 1991 1993 1994 1997 1998 1999 2000 2006 2007 2008 2009 2010\n",
      " 2011 2012 2013 2014 2015 2016 2017 2018 2019]\n",
      "cv score  0.7200840825840825\n",
      "(673,)\n",
      "no of positive  386\n",
      "len of predy  227\n"
     ]
    },
    {
     "data": {
      "image/png": "[encoded data removed]",
      "text/plain": [
       "<Figure size 432x288 with 1 Axes>"
      ]
     },
     "metadata": {
      "needs_background": "light"
     },
     "output_type": "display_data"
    },
    {
     "name": "stdout",
     "output_type": "stream",
     "text": [
      "$$$  673   227\n",
      "total positive  227\n",
      "tp tn fp fn 0   0   0   0\n",
      "year  1986 positive  0\n",
      "actual len  7919\n",
      "len of xtest  696\n",
      "pct_is_new                   float64\n",
      "pct_is_newish                float64\n",
      "n_biggest_anc                float64\n",
      "pct_of_biggest_anc           float64\n",
      "n_secbiggest_anc             float64\n",
      "pct_of_secbiggest_anc        float64\n",
      "pct_of_secbiggest_anc_new    float64\n",
      "pct_top_5_anc                float64\n",
      "wrcr                         float64\n",
      "rcr_mid                      float64\n",
      "rcr_hi                       float64\n",
      "human                        float64\n",
      "animal                       float64\n",
      "molecular_cellular           float64\n",
      "is_clinical                  float64\n",
      "is_research_article          float64\n",
      "cited_by_clin                float64\n",
      "nih                          float64\n",
      "rage                         float64\n",
      "dtype: object\n",
      "hdhdhd before  239\n",
      "len of xtrain  236\n",
      "year   1987\n",
      "[1979 1990 1991 1993 1994 1997 1998 1999 2000 2006 2007 2008 2009 2010\n",
      " 2011 2012 2013 2014 2015 2016 2017 2018 2019]\n",
      "cv score  0.7200840825840825\n",
      "(696,)\n",
      "no of positive  386\n",
      "len of predy  214\n"
     ]
    },
    {
     "data": {
      "image/png": "[encoded data removed]",
      "text/plain": [
       "<Figure size 432x288 with 1 Axes>"
      ]
     },
     "metadata": {
      "needs_background": "light"
     },
     "output_type": "display_data"
    },
    {
     "name": "stdout",
     "output_type": "stream",
     "text": [
      "$$$  696   214\n",
      "total positive  214\n",
      "tp tn fp fn 0   0   0   0\n",
      "year  1987 positive  0\n",
      "actual len  8264\n",
      "len of xtest  728\n",
      "pct_is_new                   float64\n",
      "pct_is_newish                float64\n",
      "n_biggest_anc                float64\n",
      "pct_of_biggest_anc           float64\n",
      "n_secbiggest_anc             float64\n",
      "pct_of_secbiggest_anc        float64\n",
      "pct_of_secbiggest_anc_new    float64\n",
      "pct_top_5_anc                float64\n",
      "wrcr                         float64\n",
      "rcr_mid                      float64\n",
      "rcr_hi                       float64\n",
      "human                        float64\n",
      "animal                       float64\n",
      "molecular_cellular           float64\n",
      "is_clinical                  float64\n",
      "is_research_article          float64\n",
      "cited_by_clin                float64\n",
      "nih                          float64\n",
      "rage                         float64\n",
      "dtype: object\n",
      "hdhdhd before  239\n",
      "len of xtrain  236\n",
      "year   1988\n",
      "[1979 1990 1991 1993 1994 1997 1998 1999 2000 2006 2007 2008 2009 2010\n",
      " 2011 2012 2013 2014 2015 2016 2017 2018 2019]\n",
      "cv score  0.7200840825840825\n",
      "(728,)\n",
      "no of positive  392\n",
      "len of predy  222\n"
     ]
    },
    {
     "data": {
      "image/png": "[encoded data removed]",
      "text/plain": [
       "<Figure size 432x288 with 1 Axes>"
      ]
     },
     "metadata": {
      "needs_background": "light"
     },
     "output_type": "display_data"
    },
    {
     "name": "stdout",
     "output_type": "stream",
     "text": [
      "$$$  728   222\n",
      "total positive  222\n",
      "tp tn fp fn 0   0   0   0\n",
      "year  1988 positive  0\n",
      "actual len  8697\n",
      "len of xtest  760\n",
      "pct_is_new                   float64\n",
      "pct_is_newish                float64\n",
      "n_biggest_anc                float64\n",
      "pct_of_biggest_anc           float64\n",
      "n_secbiggest_anc             float64\n",
      "pct_of_secbiggest_anc        float64\n",
      "pct_of_secbiggest_anc_new    float64\n",
      "pct_top_5_anc                float64\n",
      "wrcr                         float64\n",
      "rcr_mid                      float64\n",
      "rcr_hi                       float64\n",
      "human                        float64\n",
      "animal                       float64\n",
      "molecular_cellular           float64\n",
      "is_clinical                  float64\n",
      "is_research_article          float64\n",
      "cited_by_clin                float64\n",
      "nih                          float64\n",
      "rage                         float64\n",
      "dtype: object\n",
      "hdhdhd before  239\n",
      "len of xtrain  236\n",
      "year   1989\n",
      "[1979 1990 1991 1993 1994 1997 1998 1999 2000 2006 2007 2008 2009 2010\n",
      " 2011 2012 2013 2014 2015 2016 2017 2018 2019]\n",
      "cv score  0.7200840825840825\n",
      "(760,)\n",
      "no of positive  394\n",
      "len of predy  224\n"
     ]
    },
    {
     "data": {
      "image/png": "[encoded data removed]",
      "text/plain": [
       "<Figure size 432x288 with 1 Axes>"
      ]
     },
     "metadata": {
      "needs_background": "light"
     },
     "output_type": "display_data"
    },
    {
     "name": "stdout",
     "output_type": "stream",
     "text": [
      "$$$  760   224\n",
      "total positive  224\n",
      "tp tn fp fn 0   0   0   0\n",
      "year  1989 positive  0\n",
      "actual len  9078\n",
      "len of xtest  819\n",
      "pct_is_new                   float64\n",
      "pct_is_newish                float64\n",
      "n_biggest_anc                  int64\n",
      "pct_of_biggest_anc           float64\n",
      "n_secbiggest_anc               int64\n",
      "pct_of_secbiggest_anc        float64\n",
      "pct_of_secbiggest_anc_new    float64\n",
      "pct_top_5_anc                float64\n",
      "wrcr                         float64\n",
      "rcr_mid                      float64\n",
      "rcr_hi                       float64\n",
      "human                        float64\n",
      "animal                       float64\n",
      "molecular_cellular           float64\n",
      "is_clinical                  float64\n",
      "is_research_article          float64\n",
      "cited_by_clin                float64\n",
      "nih                          float64\n",
      "rage                         float64\n",
      "dtype: object\n",
      "hdhdhd before  239\n",
      "len of xtrain  232\n",
      "year   1990\n",
      "[1979 1991 1993 1994 1997 1998 1999 2000 2006 2007 2008 2009 2010 2011\n",
      " 2012 2013 2014 2015 2016 2017 2018 2019]\n",
      "cv score  0.7148701298701299\n",
      "(819,)\n",
      "no of positive  458\n",
      "len of predy  272\n"
     ]
    },
    {
     "data": {
      "image/png": "[encoded data removed]",
      "text/plain": [
       "<Figure size 432x288 with 1 Axes>"
      ]
     },
     "metadata": {
      "needs_background": "light"
     },
     "output_type": "display_data"
    },
    {
     "name": "stdout",
     "output_type": "stream",
     "text": [
      "$$$  819   272\n",
      "total positive  272\n",
      "tp tn fp fn 1   1   0   0\n",
      "year  1990 positive  1\n",
      "actual len  9454\n",
      "len of xtest  853\n",
      "pct_is_new                   float64\n",
      "pct_is_newish                float64\n",
      "n_biggest_anc                float64\n",
      "pct_of_biggest_anc           float64\n",
      "n_secbiggest_anc             float64\n",
      "pct_of_secbiggest_anc        float64\n",
      "pct_of_secbiggest_anc_new    float64\n",
      "pct_top_5_anc                float64\n",
      "wrcr                         float64\n",
      "rcr_mid                      float64\n",
      "rcr_hi                       float64\n",
      "human                        float64\n",
      "animal                       float64\n",
      "molecular_cellular           float64\n",
      "is_clinical                  float64\n",
      "is_research_article          float64\n",
      "cited_by_clin                float64\n",
      "nih                          float64\n",
      "rage                         float64\n",
      "dtype: object\n",
      "hdhdhd before  239\n",
      "len of xtrain  234\n",
      "year   1991\n",
      "[1979 1990 1993 1994 1997 1998 1999 2000 2006 2007 2008 2009 2010 2011\n",
      " 2012 2013 2014 2015 2016 2017 2018 2019]\n",
      "cv score  0.7182450882450881\n",
      "(853,)\n",
      "no of positive  503\n",
      "len of predy  322\n"
     ]
    },
    {
     "data": {
      "image/png": "[encoded data removed]",
      "text/plain": [
       "<Figure size 432x288 with 1 Axes>"
      ]
     },
     "metadata": {
      "needs_background": "light"
     },
     "output_type": "display_data"
    },
    {
     "name": "stdout",
     "output_type": "stream",
     "text": [
      "$$$  853   322\n",
      "total positive  322\n",
      "tp tn fp fn 0   0   0   0\n",
      "year  1991 positive  0\n",
      "actual len  9811\n",
      "len of xtest  897\n",
      "pct_is_new                   float64\n",
      "pct_is_newish                float64\n",
      "n_biggest_anc                float64\n",
      "pct_of_biggest_anc           float64\n",
      "n_secbiggest_anc             float64\n",
      "pct_of_secbiggest_anc        float64\n",
      "pct_of_secbiggest_anc_new    float64\n",
      "pct_top_5_anc                float64\n",
      "wrcr                         float64\n",
      "rcr_mid                      float64\n",
      "rcr_hi                       float64\n",
      "human                        float64\n",
      "animal                       float64\n",
      "molecular_cellular           float64\n",
      "is_clinical                  float64\n",
      "is_research_article          float64\n",
      "cited_by_clin                float64\n",
      "nih                          float64\n",
      "rage                         float64\n",
      "dtype: object\n",
      "hdhdhd before  239\n",
      "len of xtrain  236\n",
      "year   1992\n",
      "[1979 1990 1991 1993 1994 1997 1998 1999 2000 2006 2007 2008 2009 2010\n",
      " 2011 2012 2013 2014 2015 2016 2017 2018 2019]\n",
      "cv score  0.7200840825840825\n",
      "(897,)\n",
      "no of positive  460\n",
      "len of predy  246\n"
     ]
    },
    {
     "data": {
      "image/png": "[encoded data removed]",
      "text/plain": [
       "<Figure size 432x288 with 1 Axes>"
      ]
     },
     "metadata": {
      "needs_background": "light"
     },
     "output_type": "display_data"
    },
    {
     "name": "stdout",
     "output_type": "stream",
     "text": [
      "$$$  897   246\n",
      "total positive  246\n",
      "tp tn fp fn 0   0   0   0\n",
      "year  1992 positive  0\n",
      "actual len  10147\n",
      "len of xtest  963\n",
      "pct_is_new                   float64\n",
      "pct_is_newish                float64\n",
      "n_biggest_anc                float64\n",
      "pct_of_biggest_anc           float64\n",
      "n_secbiggest_anc             float64\n",
      "pct_of_secbiggest_anc        float64\n",
      "pct_of_secbiggest_anc_new    float64\n",
      "pct_top_5_anc                float64\n",
      "wrcr                         float64\n",
      "rcr_mid                      float64\n",
      "rcr_hi                       float64\n",
      "human                        float64\n",
      "animal                       float64\n",
      "molecular_cellular           float64\n",
      "is_clinical                  float64\n",
      "is_research_article          float64\n",
      "cited_by_clin                float64\n",
      "nih                          float64\n",
      "rage                         float64\n",
      "dtype: object\n",
      "hdhdhd before  239\n",
      "len of xtrain  232\n",
      "year   1993\n",
      "[1979 1990 1991 1994 1997 1998 1999 2000 2006 2007 2008 2009 2010 2011\n",
      " 2012 2013 2014 2015 2016 2017 2018 2019]\n",
      "cv score  0.7232517482517482\n",
      "(963,)\n",
      "no of positive  548\n",
      "len of predy  327\n"
     ]
    },
    {
     "data": {
      "image/png": "[encoded data removed]",
      "text/plain": [
       "<Figure size 432x288 with 1 Axes>"
      ]
     },
     "metadata": {
      "needs_background": "light"
     },
     "output_type": "display_data"
    },
    {
     "name": "stdout",
     "output_type": "stream",
     "text": [
      "$$$  963   327\n",
      "total positive  327\n",
      "tp tn fp fn 1   0   0   0\n",
      "year  1993 positive  1\n",
      "actual len  10562\n",
      "len of xtest  1026\n",
      "pct_is_new                   float64\n",
      "pct_is_newish                float64\n",
      "n_biggest_anc                float64\n",
      "pct_of_biggest_anc           float64\n",
      "n_secbiggest_anc             float64\n",
      "pct_of_secbiggest_anc        float64\n",
      "pct_of_secbiggest_anc_new    float64\n",
      "pct_top_5_anc                float64\n",
      "wrcr                         float64\n",
      "rcr_mid                      float64\n",
      "rcr_hi                       float64\n",
      "human                        float64\n",
      "animal                       float64\n",
      "molecular_cellular           float64\n",
      "is_clinical                  float64\n",
      "is_research_article          float64\n",
      "cited_by_clin                float64\n",
      "nih                          float64\n",
      "rage                         float64\n",
      "dtype: object\n",
      "hdhdhd before  239\n",
      "len of xtrain  232\n",
      "year   1994\n",
      "[1979 1990 1991 1993 1997 1998 1999 2000 2006 2007 2008 2009 2010 2011\n",
      " 2012 2013 2014 2015 2016 2017 2018 2019]\n",
      "cv score  0.7177905427905428\n",
      "(1026,)\n",
      "no of positive  585\n",
      "len of predy  346\n"
     ]
    },
    {
     "data": {
      "image/png": "[encoded data removed]",
      "text/plain": [
       "<Figure size 432x288 with 1 Axes>"
      ]
     },
     "metadata": {
      "needs_background": "light"
     },
     "output_type": "display_data"
    },
    {
     "name": "stdout",
     "output_type": "stream",
     "text": [
      "$$$  1026   346\n",
      "total positive  346\n",
      "tp tn fp fn 2   1   0   0\n",
      "year  1994 positive  2\n",
      "actual len  11060\n",
      "len of xtest  1118\n",
      "pct_is_new                   float64\n",
      "pct_is_newish                float64\n",
      "n_biggest_anc                float64\n",
      "pct_of_biggest_anc           float64\n",
      "n_secbiggest_anc             float64\n",
      "pct_of_secbiggest_anc        float64\n",
      "pct_of_secbiggest_anc_new    float64\n",
      "pct_top_5_anc                float64\n",
      "wrcr                         float64\n",
      "rcr_mid                      float64\n",
      "rcr_hi                       float64\n",
      "human                        float64\n",
      "animal                       float64\n",
      "molecular_cellular           float64\n",
      "is_clinical                  float64\n",
      "is_research_article          float64\n",
      "cited_by_clin                float64\n",
      "nih                          float64\n",
      "rage                         float64\n",
      "dtype: object\n",
      "hdhdhd before  239\n",
      "len of xtrain  236\n",
      "year   1995\n",
      "[1979 1990 1991 1993 1994 1997 1998 1999 2000 2006 2007 2008 2009 2010\n",
      " 2011 2012 2013 2014 2015 2016 2017 2018 2019]\n",
      "cv score  0.7200840825840825\n",
      "(1118,)\n",
      "no of positive  525\n",
      "len of predy  285\n"
     ]
    },
    {
     "data": {
      "image/png": "[encoded data removed]",
      "text/plain": [
       "<Figure size 432x288 with 1 Axes>"
      ]
     },
     "metadata": {
      "needs_background": "light"
     },
     "output_type": "display_data"
    },
    {
     "name": "stdout",
     "output_type": "stream",
     "text": [
      "$$$  1118   285\n",
      "total positive  285\n",
      "tp tn fp fn 0   0   0   0\n",
      "year  1995 positive  0\n",
      "actual len  11465\n",
      "len of xtest  1167\n",
      "pct_is_new                   float64\n",
      "pct_is_newish                float64\n",
      "n_biggest_anc                float64\n",
      "pct_of_biggest_anc           float64\n",
      "n_secbiggest_anc             float64\n",
      "pct_of_secbiggest_anc        float64\n",
      "pct_of_secbiggest_anc_new    float64\n",
      "pct_top_5_anc                float64\n",
      "wrcr                         float64\n",
      "rcr_mid                      float64\n",
      "rcr_hi                       float64\n",
      "human                        float64\n",
      "animal                       float64\n",
      "molecular_cellular           float64\n",
      "is_clinical                  float64\n",
      "is_research_article          float64\n",
      "cited_by_clin                float64\n",
      "nih                          float64\n",
      "rage                         float64\n",
      "dtype: object\n",
      "hdhdhd before  239\n",
      "len of xtrain  236\n",
      "year   1996\n",
      "[1979 1990 1991 1993 1994 1997 1998 1999 2000 2006 2007 2008 2009 2010\n",
      " 2011 2012 2013 2014 2015 2016 2017 2018 2019]\n",
      "cv score  0.7200840825840825\n",
      "(1167,)\n",
      "no of positive  524\n",
      "len of predy  293\n"
     ]
    },
    {
     "data": {
      "image/png": "[encoded data removed]",
      "text/plain": [
       "<Figure size 432x288 with 1 Axes>"
      ]
     },
     "metadata": {
      "needs_background": "light"
     },
     "output_type": "display_data"
    },
    {
     "name": "stdout",
     "output_type": "stream",
     "text": [
      "$$$  1167   293\n",
      "total positive  293\n",
      "tp tn fp fn 0   0   0   0\n",
      "year  1996 positive  0\n",
      "actual len  11872\n",
      "len of xtest  1231\n",
      "pct_is_new                   float64\n",
      "pct_is_newish                float64\n",
      "n_biggest_anc                float64\n",
      "pct_of_biggest_anc           float64\n",
      "n_secbiggest_anc             float64\n",
      "pct_of_secbiggest_anc        float64\n",
      "pct_of_secbiggest_anc_new    float64\n",
      "pct_top_5_anc                float64\n",
      "wrcr                         float64\n",
      "rcr_mid                      float64\n",
      "rcr_hi                       float64\n",
      "human                        float64\n",
      "animal                       float64\n",
      "molecular_cellular           float64\n",
      "is_clinical                  float64\n",
      "is_research_article          float64\n",
      "cited_by_clin                float64\n",
      "nih                          float64\n",
      "rage                         float64\n",
      "dtype: object\n",
      "hdhdhd before  239\n",
      "len of xtrain  234\n",
      "year   1997\n",
      "[1979 1990 1991 1993 1994 1998 1999 2000 2006 2007 2008 2009 2010 2011\n",
      " 2012 2013 2014 2015 2016 2017 2018 2019]\n",
      "cv score  0.7218639693639692\n",
      "(1231,)\n",
      "no of positive  645\n",
      "len of predy  382\n"
     ]
    },
    {
     "data": {
      "image/png": "[encoded data removed]",
      "text/plain": [
       "<Figure size 432x288 with 1 Axes>"
      ]
     },
     "metadata": {
      "needs_background": "light"
     },
     "output_type": "display_data"
    },
    {
     "name": "stdout",
     "output_type": "stream",
     "text": [
      "$$$  1231   382\n",
      "total positive  382\n",
      "tp tn fp fn 1   0   0   0\n",
      "year  1997 positive  1\n",
      "actual len  12265\n",
      "len of xtest  1303\n",
      "pct_is_new                   float64\n",
      "pct_is_newish                float64\n",
      "n_biggest_anc                float64\n",
      "pct_of_biggest_anc           float64\n",
      "n_secbiggest_anc             float64\n",
      "pct_of_secbiggest_anc        float64\n",
      "pct_of_secbiggest_anc_new    float64\n",
      "pct_top_5_anc                float64\n",
      "wrcr                         float64\n",
      "rcr_mid                      float64\n",
      "rcr_hi                       float64\n",
      "human                        float64\n",
      "animal                       float64\n",
      "molecular_cellular           float64\n",
      "is_clinical                  float64\n",
      "is_research_article          float64\n",
      "cited_by_clin                float64\n",
      "nih                          float64\n",
      "rage                         float64\n",
      "dtype: object\n",
      "hdhdhd before  239\n",
      "len of xtrain  234\n",
      "year   1998\n",
      "[1979 1990 1991 1993 1994 1997 1999 2000 2006 2007 2008 2009 2010 2011\n",
      " 2012 2013 2014 2015 2016 2017 2018 2019]\n",
      "cv score  0.7036222111222111\n",
      "(1303,)\n",
      "no of positive  569\n",
      "len of predy  320\n"
     ]
    },
    {
     "data": {
      "image/png": "[encoded data removed]",
      "text/plain": [
       "<Figure size 432x288 with 1 Axes>"
      ]
     },
     "metadata": {
      "needs_background": "light"
     },
     "output_type": "display_data"
    },
    {
     "name": "stdout",
     "output_type": "stream",
     "text": [
      "$$$  1303   320\n",
      "total positive  320\n",
      "tp tn fp fn 0   0   0   1\n",
      "year  1998 positive  1\n",
      "actual len  12697\n",
      "len of xtest  1349\n",
      "pct_is_new                   float64\n",
      "pct_is_newish                float64\n",
      "n_biggest_anc                float64\n",
      "pct_of_biggest_anc           float64\n",
      "n_secbiggest_anc             float64\n",
      "pct_of_secbiggest_anc        float64\n",
      "pct_of_secbiggest_anc_new    float64\n",
      "pct_top_5_anc                float64\n",
      "wrcr                         float64\n",
      "rcr_mid                      float64\n",
      "rcr_hi                       float64\n",
      "human                        float64\n",
      "animal                       float64\n",
      "molecular_cellular           float64\n",
      "is_clinical                  float64\n",
      "is_research_article          float64\n",
      "cited_by_clin                float64\n",
      "nih                          float64\n",
      "rage                         float64\n",
      "dtype: object\n",
      "hdhdhd before  239\n",
      "len of xtrain  232\n",
      "year   1999\n",
      "[1979 1990 1991 1993 1994 1997 1998 2000 2006 2007 2008 2009 2010 2011\n",
      " 2012 2013 2014 2015 2016 2017 2018 2019]\n",
      "cv score  0.718166833166833\n",
      "(1349,)\n",
      "no of positive  576\n",
      "len of predy  302\n"
     ]
    },
    {
     "data": {
      "image/png": "[encoded data removed]",
      "text/plain": [
       "<Figure size 432x288 with 1 Axes>"
      ]
     },
     "metadata": {
      "needs_background": "light"
     },
     "output_type": "display_data"
    },
    {
     "name": "stdout",
     "output_type": "stream",
     "text": [
      "$$$  1349   302\n",
      "total positive  302\n",
      "tp tn fp fn 1   1   0   1\n",
      "year  1999 positive  2\n",
      "actual len  13164\n",
      "len of xtest  1379\n",
      "pct_is_new                   float64\n",
      "pct_is_newish                float64\n",
      "n_biggest_anc                float64\n",
      "pct_of_biggest_anc           float64\n",
      "n_secbiggest_anc             float64\n",
      "pct_of_secbiggest_anc        float64\n",
      "pct_of_secbiggest_anc_new    float64\n",
      "pct_top_5_anc                float64\n",
      "wrcr                         float64\n",
      "rcr_mid                      float64\n",
      "rcr_hi                       float64\n",
      "human                        float64\n",
      "animal                       float64\n",
      "molecular_cellular           float64\n",
      "is_clinical                  float64\n",
      "is_research_article          float64\n",
      "cited_by_clin                float64\n",
      "nih                          float64\n",
      "rage                         float64\n",
      "dtype: object\n",
      "hdhdhd before  239\n",
      "len of xtrain  232\n",
      "year   2000\n",
      "[1979 1990 1991 1993 1994 1997 1998 1999 2006 2007 2008 2009 2010 2011\n",
      " 2012 2013 2014 2015 2016 2017 2018 2019]\n",
      "cv score  0.7259873459873459\n",
      "(1379,)\n",
      "no of positive  694\n",
      "len of predy  372\n"
     ]
    },
    {
     "data": {
      "image/png": "[encoded data removed]",
      "text/plain": [
       "<Figure size 432x288 with 1 Axes>"
      ]
     },
     "metadata": {
      "needs_background": "light"
     },
     "output_type": "display_data"
    },
    {
     "name": "stdout",
     "output_type": "stream",
     "text": [
      "$$$  1379   372\n",
      "total positive  372\n",
      "tp tn fp fn 1   1   0   1\n",
      "year  2000 positive  2\n",
      "actual len  13742\n",
      "len of xtest  1425\n",
      "pct_is_new                   float64\n",
      "pct_is_newish                float64\n",
      "n_biggest_anc                float64\n",
      "pct_of_biggest_anc           float64\n",
      "n_secbiggest_anc             float64\n",
      "pct_of_secbiggest_anc        float64\n",
      "pct_of_secbiggest_anc_new    float64\n",
      "pct_top_5_anc                float64\n",
      "wrcr                         float64\n",
      "rcr_mid                      float64\n",
      "rcr_hi                       float64\n",
      "human                        float64\n",
      "animal                       float64\n",
      "molecular_cellular           float64\n",
      "is_clinical                  float64\n",
      "is_research_article          float64\n",
      "cited_by_clin                float64\n",
      "nih                          float64\n",
      "rage                         float64\n",
      "dtype: object\n",
      "hdhdhd before  239\n",
      "len of xtrain  236\n",
      "year   2001\n",
      "[1979 1990 1991 1993 1994 1997 1998 1999 2000 2006 2007 2008 2009 2010\n",
      " 2011 2012 2013 2014 2015 2016 2017 2018 2019]\n",
      "cv score  0.7200840825840825\n",
      "(1425,)\n",
      "no of positive  597\n",
      "len of predy  305\n"
     ]
    },
    {
     "data": {
      "image/png": "[encoded data removed]",
      "text/plain": [
       "<Figure size 432x288 with 1 Axes>"
      ]
     },
     "metadata": {
      "needs_background": "light"
     },
     "output_type": "display_data"
    },
    {
     "name": "stdout",
     "output_type": "stream",
     "text": [
      "$$$  1425   305\n",
      "total positive  305\n",
      "tp tn fp fn 0   0   0   0\n",
      "year  2001 positive  0\n",
      "actual len  14273\n",
      "len of xtest  1454\n",
      "pct_is_new                   float64\n",
      "pct_is_newish                float64\n",
      "n_biggest_anc                float64\n",
      "pct_of_biggest_anc           float64\n",
      "n_secbiggest_anc             float64\n",
      "pct_of_secbiggest_anc        float64\n",
      "pct_of_secbiggest_anc_new    float64\n",
      "pct_top_5_anc                float64\n",
      "wrcr                         float64\n",
      "rcr_mid                      float64\n",
      "rcr_hi                       float64\n",
      "human                        float64\n",
      "animal                       float64\n",
      "molecular_cellular           float64\n",
      "is_clinical                  float64\n",
      "is_research_article          float64\n",
      "cited_by_clin                float64\n",
      "nih                          float64\n",
      "rage                         float64\n",
      "dtype: object\n",
      "hdhdhd before  239\n",
      "len of xtrain  236\n",
      "year   2002\n",
      "[1979 1990 1991 1993 1994 1997 1998 1999 2000 2006 2007 2008 2009 2010\n",
      " 2011 2012 2013 2014 2015 2016 2017 2018 2019]\n",
      "cv score  0.7200840825840825\n",
      "(1454,)\n",
      "no of positive  623\n",
      "len of predy  314\n"
     ]
    },
    {
     "data": {
      "image/png": "[encoded data removed]",
      "text/plain": [
       "<Figure size 432x288 with 1 Axes>"
      ]
     },
     "metadata": {
      "needs_background": "light"
     },
     "output_type": "display_data"
    },
    {
     "name": "stdout",
     "output_type": "stream",
     "text": [
      "$$$  1454   314\n",
      "total positive  314\n",
      "tp tn fp fn 0   0   0   0\n",
      "year  2002 positive  0\n",
      "actual len  14913\n",
      "len of xtest  1491\n",
      "pct_is_new                   float64\n",
      "pct_is_newish                float64\n",
      "n_biggest_anc                float64\n",
      "pct_of_biggest_anc           float64\n",
      "n_secbiggest_anc             float64\n",
      "pct_of_secbiggest_anc        float64\n",
      "pct_of_secbiggest_anc_new    float64\n",
      "pct_top_5_anc                float64\n",
      "wrcr                         float64\n",
      "rcr_mid                      float64\n",
      "rcr_hi                       float64\n",
      "human                        float64\n",
      "animal                       float64\n",
      "molecular_cellular           float64\n",
      "is_clinical                  float64\n",
      "is_research_article          float64\n",
      "cited_by_clin                float64\n",
      "nih                          float64\n",
      "rage                         float64\n",
      "dtype: object\n",
      "hdhdhd before  239\n",
      "len of xtrain  236\n",
      "year   2003\n",
      "[1979 1990 1991 1993 1994 1997 1998 1999 2000 2006 2007 2008 2009 2010\n",
      " 2011 2012 2013 2014 2015 2016 2017 2018 2019]\n",
      "cv score  0.7200840825840825\n",
      "(1491,)\n",
      "no of positive  595\n",
      "len of predy  301\n"
     ]
    },
    {
     "data": {
      "image/png": "[encoded data removed]",
      "text/plain": [
       "<Figure size 432x288 with 1 Axes>"
      ]
     },
     "metadata": {
      "needs_background": "light"
     },
     "output_type": "display_data"
    },
    {
     "name": "stdout",
     "output_type": "stream",
     "text": [
      "$$$  1491   301\n",
      "total positive  301\n",
      "tp tn fp fn 0   0   0   0\n",
      "year  2003 positive  0\n",
      "actual len  15526\n",
      "len of xtest  1527\n",
      "pct_is_new                   float64\n",
      "pct_is_newish                float64\n",
      "n_biggest_anc                float64\n",
      "pct_of_biggest_anc           float64\n",
      "n_secbiggest_anc             float64\n",
      "pct_of_secbiggest_anc        float64\n",
      "pct_of_secbiggest_anc_new    float64\n",
      "pct_top_5_anc                float64\n",
      "wrcr                         float64\n",
      "rcr_mid                      float64\n",
      "rcr_hi                       float64\n",
      "human                        float64\n",
      "animal                       float64\n",
      "molecular_cellular           float64\n",
      "is_clinical                  float64\n",
      "is_research_article          float64\n",
      "cited_by_clin                float64\n",
      "nih                          float64\n",
      "rage                         float64\n",
      "dtype: object\n",
      "hdhdhd before  239\n",
      "len of xtrain  236\n",
      "year   2004\n",
      "[1979 1990 1991 1993 1994 1997 1998 1999 2000 2006 2007 2008 2009 2010\n",
      " 2011 2012 2013 2014 2015 2016 2017 2018 2019]\n",
      "cv score  0.7200840825840825\n",
      "(1527,)\n",
      "no of positive  578\n",
      "len of predy  288\n"
     ]
    },
    {
     "data": {
      "image/png": "[encoded data removed]",
      "text/plain": [
       "<Figure size 432x288 with 1 Axes>"
      ]
     },
     "metadata": {
      "needs_background": "light"
     },
     "output_type": "display_data"
    },
    {
     "name": "stdout",
     "output_type": "stream",
     "text": [
      "$$$  1527   288\n",
      "total positive  288\n",
      "tp tn fp fn 0   0   0   0\n",
      "year  2004 positive  0\n",
      "actual len  16147\n",
      "len of xtest  1561\n",
      "pct_is_new                   float64\n",
      "pct_is_newish                float64\n",
      "n_biggest_anc                  int64\n",
      "pct_of_biggest_anc           float64\n",
      "n_secbiggest_anc               int64\n",
      "pct_of_secbiggest_anc        float64\n",
      "pct_of_secbiggest_anc_new    float64\n",
      "pct_top_5_anc                float64\n",
      "wrcr                         float64\n",
      "rcr_mid                      float64\n",
      "rcr_hi                       float64\n",
      "human                        float64\n",
      "animal                       float64\n",
      "molecular_cellular           float64\n",
      "is_clinical                  float64\n",
      "is_research_article          float64\n",
      "cited_by_clin                float64\n",
      "nih                          float64\n",
      "rage                         float64\n",
      "dtype: object\n",
      "hdhdhd before  239\n",
      "len of xtrain  236\n",
      "year   2005\n",
      "[1979 1990 1991 1993 1994 1997 1998 1999 2000 2006 2007 2008 2009 2010\n",
      " 2011 2012 2013 2014 2015 2016 2017 2018 2019]\n",
      "cv score  0.7200840825840825\n",
      "(1561,)\n",
      "no of positive  586\n",
      "len of predy  277\n"
     ]
    },
    {
     "data": {
      "image/png": "[encoded data removed]",
      "text/plain": [
       "<Figure size 432x288 with 1 Axes>"
      ]
     },
     "metadata": {
      "needs_background": "light"
     },
     "output_type": "display_data"
    },
    {
     "name": "stdout",
     "output_type": "stream",
     "text": [
      "$$$  1561   277\n",
      "total positive  277\n",
      "tp tn fp fn 0   0   0   0\n",
      "year  2005 positive  0\n",
      "actual len  16741\n",
      "len of xtest  1613\n",
      "pct_is_new                   float64\n",
      "pct_is_newish                float64\n",
      "n_biggest_anc                float64\n",
      "pct_of_biggest_anc           float64\n",
      "n_secbiggest_anc             float64\n",
      "pct_of_secbiggest_anc        float64\n",
      "pct_of_secbiggest_anc_new    float64\n",
      "pct_top_5_anc                float64\n",
      "wrcr                         float64\n",
      "rcr_mid                      float64\n",
      "rcr_hi                       float64\n",
      "human                        float64\n",
      "animal                       float64\n",
      "molecular_cellular           float64\n",
      "is_clinical                  float64\n",
      "is_research_article          float64\n",
      "cited_by_clin                float64\n",
      "nih                          float64\n",
      "rage                         float64\n",
      "dtype: object\n",
      "hdhdhd before  239\n",
      "len of xtrain  232\n",
      "year   2006\n",
      "[1979 1990 1991 1993 1994 1997 1998 1999 2000 2007 2008 2009 2010 2011\n",
      " 2012 2013 2014 2015 2016 2017 2018 2019]\n",
      "cv score  0.7297718947718946\n",
      "(1613,)\n",
      "no of positive  617\n",
      "len of predy  274\n"
     ]
    },
    {
     "data": {
      "image/png": "[encoded data removed]",
      "text/plain": [
       "<Figure size 432x288 with 1 Axes>"
      ]
     },
     "metadata": {
      "needs_background": "light"
     },
     "output_type": "display_data"
    },
    {
     "name": "stdout",
     "output_type": "stream",
     "text": [
      "$$$  1613   274\n",
      "total positive  274\n",
      "tp tn fp fn 2   2   0   0\n",
      "year  2006 positive  2\n",
      "actual len  17387\n",
      "len of xtest  1623\n",
      "pct_is_new                   float64\n",
      "pct_is_newish                float64\n",
      "n_biggest_anc                float64\n",
      "pct_of_biggest_anc           float64\n",
      "n_secbiggest_anc             float64\n",
      "pct_of_secbiggest_anc        float64\n",
      "pct_of_secbiggest_anc_new    float64\n",
      "pct_top_5_anc                float64\n",
      "wrcr                         float64\n",
      "rcr_mid                      float64\n",
      "rcr_hi                       float64\n",
      "human                        float64\n",
      "animal                       float64\n",
      "molecular_cellular           float64\n",
      "is_clinical                  float64\n",
      "is_research_article          float64\n",
      "cited_by_clin                float64\n",
      "nih                          float64\n",
      "rage                         float64\n",
      "dtype: object\n",
      "hdhdhd before  239\n",
      "len of xtrain  224\n",
      "year   2007\n",
      "[1979 1990 1991 1993 1994 1997 1998 1999 2000 2006 2008 2009 2010 2011\n",
      " 2012 2013 2014 2015 2016 2017 2018 2019]\n",
      "cv score  0.7249805749805749\n",
      "(1623,)\n",
      "no of positive  608\n",
      "len of predy  302\n"
     ]
    },
    {
     "data": {
      "image/png": "[encoded data removed]",
      "text/plain": [
       "<Figure size 432x288 with 1 Axes>"
      ]
     },
     "metadata": {
      "needs_background": "light"
     },
     "output_type": "display_data"
    },
    {
     "name": "stdout",
     "output_type": "stream",
     "text": [
      "$$$  1623   302\n",
      "total positive  302\n",
      "tp tn fp fn 3   1   0   0\n",
      "year  2007 positive  3\n",
      "actual len  17998\n",
      "len of xtest  1648\n",
      "pct_is_new                   float64\n",
      "pct_is_newish                float64\n",
      "n_biggest_anc                float64\n",
      "pct_of_biggest_anc           float64\n",
      "n_secbiggest_anc             float64\n",
      "pct_of_secbiggest_anc        float64\n",
      "pct_of_secbiggest_anc_new    float64\n",
      "pct_top_5_anc                float64\n",
      "wrcr                         float64\n",
      "rcr_mid                      float64\n",
      "rcr_hi                       float64\n",
      "human                        float64\n",
      "animal                       float64\n",
      "molecular_cellular           float64\n",
      "is_clinical                  float64\n",
      "is_research_article          float64\n",
      "cited_by_clin                float64\n",
      "nih                          float64\n",
      "rage                         float64\n",
      "dtype: object\n",
      "hdhdhd before  239\n",
      "len of xtrain  234\n",
      "year   2008\n",
      "[1979 1990 1991 1993 1994 1997 1998 1999 2000 2006 2007 2009 2010 2011\n",
      " 2012 2013 2014 2015 2016 2017 2018 2019]\n",
      "cv score  0.7245804195804195\n",
      "(1648,)\n",
      "no of positive  582\n",
      "len of predy  256\n"
     ]
    },
    {
     "data": {
      "image/png": "[encoded data removed]",
      "text/plain": [
       "<Figure size 432x288 with 1 Axes>"
      ]
     },
     "metadata": {
      "needs_background": "light"
     },
     "output_type": "display_data"
    },
    {
     "name": "stdout",
     "output_type": "stream",
     "text": [
      "$$$  1648   256\n",
      "total positive  256\n",
      "tp tn fp fn 1   0   0   0\n",
      "year  2008 positive  1\n",
      "actual len  18746\n",
      "len of xtest  1687\n",
      "pct_is_new                   float64\n",
      "pct_is_newish                float64\n",
      "n_biggest_anc                float64\n",
      "pct_of_biggest_anc           float64\n",
      "n_secbiggest_anc             float64\n",
      "pct_of_secbiggest_anc        float64\n",
      "pct_of_secbiggest_anc_new    float64\n",
      "pct_top_5_anc                float64\n",
      "wrcr                         float64\n",
      "rcr_mid                      float64\n",
      "rcr_hi                       float64\n",
      "human                        float64\n",
      "animal                       float64\n",
      "molecular_cellular           float64\n",
      "is_clinical                  float64\n",
      "is_research_article          float64\n",
      "cited_by_clin                float64\n",
      "nih                          float64\n",
      "rage                         float64\n",
      "dtype: object\n",
      "hdhdhd before  239\n",
      "len of xtrain  220\n",
      "year   2009\n",
      "[1979 1990 1991 1993 1994 1997 1998 1999 2000 2006 2007 2008 2010 2011\n",
      " 2012 2013 2014 2015 2016 2017 2018 2019]\n",
      "cv score  0.7209623709623709\n",
      "(1687,)\n",
      "no of positive  589\n",
      "len of predy  275\n"
     ]
    },
    {
     "data": {
      "image/png": "[encoded data removed]",
      "text/plain": [
       "<Figure size 432x288 with 1 Axes>"
      ]
     },
     "metadata": {
      "needs_background": "light"
     },
     "output_type": "display_data"
    },
    {
     "name": "stdout",
     "output_type": "stream",
     "text": [
      "$$$  1687   275\n",
      "total positive  275\n",
      "tp tn fp fn 6   1   2   1\n",
      "year  2009 positive  7\n",
      "actual len  19487\n",
      "len of xtest  1713\n",
      "pct_is_new                   float64\n",
      "pct_is_newish                float64\n",
      "n_biggest_anc                float64\n",
      "pct_of_biggest_anc           float64\n",
      "n_secbiggest_anc             float64\n",
      "pct_of_secbiggest_anc        float64\n",
      "pct_of_secbiggest_anc_new    float64\n",
      "pct_top_5_anc                float64\n",
      "wrcr                         float64\n",
      "rcr_mid                      float64\n",
      "rcr_hi                       float64\n",
      "human                        float64\n",
      "animal                       float64\n",
      "molecular_cellular           float64\n",
      "is_clinical                  float64\n",
      "is_research_article          float64\n",
      "cited_by_clin                float64\n",
      "nih                          float64\n",
      "rage                         float64\n",
      "dtype: object\n",
      "hdhdhd before  239\n",
      "len of xtrain  216\n",
      "year   2010\n",
      "[1979 1990 1991 1993 1994 1997 1998 1999 2000 2006 2007 2008 2009 2011\n",
      " 2012 2013 2014 2015 2016 2017 2018 2019]\n",
      "cv score  0.7017052392052392\n",
      "(1713,)\n",
      "no of positive  543\n",
      "len of predy  223\n"
     ]
    },
    {
     "data": {
      "image/png": "[encoded data removed]",
      "text/plain": [
       "<Figure size 432x288 with 1 Axes>"
      ]
     },
     "metadata": {
      "needs_background": "light"
     },
     "output_type": "display_data"
    },
    {
     "name": "stdout",
     "output_type": "stream",
     "text": [
      "$$$  1713   223\n",
      "total positive  223\n",
      "tp tn fp fn 6   5   1   3\n",
      "year  2010 positive  9\n",
      "actual len  20289\n",
      "len of xtest  1768\n",
      "pct_is_new                   float64\n",
      "pct_is_newish                float64\n",
      "n_biggest_anc                float64\n",
      "pct_of_biggest_anc           float64\n",
      "n_secbiggest_anc             float64\n",
      "pct_of_secbiggest_anc        float64\n",
      "pct_of_secbiggest_anc_new    float64\n",
      "pct_top_5_anc                float64\n",
      "wrcr                         float64\n",
      "rcr_mid                      float64\n",
      "rcr_hi                       float64\n",
      "human                        float64\n",
      "animal                       float64\n",
      "molecular_cellular           float64\n",
      "is_clinical                  float64\n",
      "is_research_article          float64\n",
      "cited_by_clin                float64\n",
      "nih                          float64\n",
      "rage                         float64\n",
      "dtype: object\n",
      "hdhdhd before  239\n",
      "len of xtrain  203\n",
      "year   2011\n",
      "[1979 1990 1991 1993 1994 1997 1998 1999 2000 2006 2007 2008 2009 2010\n",
      " 2012 2013 2014 2015 2016 2017 2018 2019]\n",
      "cv score  0.6892521367521367\n",
      "(1768,)\n",
      "no of positive  556\n",
      "len of predy  249\n"
     ]
    },
    {
     "data": {
      "image/png": "[encoded data removed]",
      "text/plain": [
       "<Figure size 432x288 with 1 Axes>"
      ]
     },
     "metadata": {
      "needs_background": "light"
     },
     "output_type": "display_data"
    },
    {
     "name": "stdout",
     "output_type": "stream",
     "text": [
      "$$$  1768   249\n",
      "total positive  249\n",
      "tp tn fp fn 11   6   2   3\n",
      "year  2011 positive  14\n",
      "actual len  21155\n",
      "len of xtest  1795\n",
      "pct_is_new                   float64\n",
      "pct_is_newish                float64\n",
      "n_biggest_anc                float64\n",
      "pct_of_biggest_anc           float64\n",
      "n_secbiggest_anc             float64\n",
      "pct_of_secbiggest_anc        float64\n",
      "pct_of_secbiggest_anc_new    float64\n",
      "pct_top_5_anc                float64\n",
      "wrcr                         float64\n",
      "rcr_mid                      float64\n",
      "rcr_hi                       float64\n",
      "human                        float64\n",
      "animal                       float64\n",
      "molecular_cellular           float64\n",
      "is_clinical                  float64\n",
      "is_research_article          float64\n",
      "cited_by_clin                float64\n",
      "nih                          float64\n",
      "rage                         float64\n",
      "dtype: object\n",
      "hdhdhd before  239\n",
      "len of xtrain  215\n",
      "year   2012\n",
      "[1979 1990 1991 1993 1994 1997 1998 1999 2000 2006 2007 2008 2009 2010\n",
      " 2011 2013 2014 2015 2016 2017 2018 2019]\n",
      "cv score  0.7247968697968697\n",
      "(1795,)\n",
      "no of positive  564\n",
      "len of predy  247\n"
     ]
    },
    {
     "data": {
      "image/png": "[encoded data removed]",
      "text/plain": [
       "<Figure size 432x288 with 1 Axes>"
      ]
     },
     "metadata": {
      "needs_background": "light"
     },
     "output_type": "display_data"
    },
    {
     "name": "stdout",
     "output_type": "stream",
     "text": [
      "$$$  1795   247\n",
      "total positive  247\n",
      "tp tn fp fn 5   4   1   3\n",
      "year  2012 positive  8\n",
      "actual len  22085\n",
      "len of xtest  1866\n",
      "pct_is_new                   float64\n",
      "pct_is_newish                float64\n",
      "n_biggest_anc                float64\n",
      "pct_of_biggest_anc           float64\n",
      "n_secbiggest_anc             float64\n",
      "pct_of_secbiggest_anc        float64\n",
      "pct_of_secbiggest_anc_new    float64\n",
      "pct_top_5_anc                float64\n",
      "wrcr                         float64\n",
      "rcr_mid                      float64\n",
      "rcr_hi                       float64\n",
      "human                        float64\n",
      "animal                       float64\n",
      "molecular_cellular           float64\n",
      "is_clinical                  float64\n",
      "is_research_article          float64\n",
      "cited_by_clin                float64\n",
      "nih                          float64\n",
      "rage                         float64\n",
      "dtype: object\n",
      "hdhdhd before  239\n",
      "len of xtrain  218\n",
      "year   2013\n",
      "[1979 1990 1991 1993 1994 1997 1998 1999 2000 2006 2007 2008 2009 2010\n",
      " 2011 2012 2014 2015 2016 2017 2018 2019]\n",
      "cv score  0.7207170607170607\n",
      "(1866,)\n",
      "no of positive  642\n",
      "len of predy  290\n"
     ]
    },
    {
     "data": {
      "image/png": "[encoded data removed]",
      "text/plain": [
       "<Figure size 432x288 with 1 Axes>"
      ]
     },
     "metadata": {
      "needs_background": "light"
     },
     "output_type": "display_data"
    },
    {
     "name": "stdout",
     "output_type": "stream",
     "text": [
      "$$$  1866   290\n",
      "total positive  290\n",
      "tp tn fp fn 8   4   1   0\n",
      "year  2013 positive  8\n",
      "actual len  23101\n",
      "len of xtest  1956\n",
      "pct_is_new                   float64\n",
      "pct_is_newish                float64\n",
      "n_biggest_anc                float64\n",
      "pct_of_biggest_anc           float64\n",
      "n_secbiggest_anc             float64\n",
      "pct_of_secbiggest_anc        float64\n",
      "pct_of_secbiggest_anc_new    float64\n",
      "pct_top_5_anc                float64\n",
      "wrcr                         float64\n",
      "rcr_mid                      float64\n",
      "rcr_hi                       float64\n",
      "human                        float64\n",
      "animal                       float64\n",
      "molecular_cellular           float64\n",
      "is_clinical                  float64\n",
      "is_research_article          float64\n",
      "cited_by_clin                float64\n",
      "nih                          float64\n",
      "rage                         float64\n",
      "dtype: object\n",
      "hdhdhd before  239\n",
      "len of xtrain  213\n",
      "year   2014\n",
      "[1979 1990 1991 1993 1994 1997 1998 1999 2000 2006 2007 2008 2009 2010\n",
      " 2011 2012 2013 2015 2016 2017 2018 2019]\n",
      "cv score  0.7311660561660561\n",
      "(1956,)\n",
      "no of positive  586\n",
      "len of predy  245\n"
     ]
    },
    {
     "data": {
      "image/png": "[encoded data removed]",
      "text/plain": [
       "<Figure size 432x288 with 1 Axes>"
      ]
     },
     "metadata": {
      "needs_background": "light"
     },
     "output_type": "display_data"
    },
    {
     "name": "stdout",
     "output_type": "stream",
     "text": [
      "$$$  1956   245\n",
      "total positive  245\n",
      "tp tn fp fn 7   3   0   4\n",
      "year  2014 positive  11\n",
      "actual len  24194\n",
      "len of xtest  2005\n",
      "pct_is_new                   float64\n",
      "pct_is_newish                float64\n",
      "n_biggest_anc                float64\n",
      "pct_of_biggest_anc           float64\n",
      "n_secbiggest_anc             float64\n",
      "pct_of_secbiggest_anc        float64\n",
      "pct_of_secbiggest_anc_new    float64\n",
      "pct_top_5_anc                float64\n",
      "wrcr                         float64\n",
      "rcr_mid                      float64\n",
      "rcr_hi                       float64\n",
      "human                        float64\n",
      "animal                       float64\n",
      "molecular_cellular           float64\n",
      "is_clinical                  float64\n",
      "is_research_article          float64\n",
      "cited_by_clin                float64\n",
      "nih                          float64\n",
      "rage                         float64\n",
      "dtype: object\n",
      "hdhdhd before  239\n",
      "len of xtrain  223\n",
      "year   2015\n",
      "[1979 1990 1991 1993 1994 1997 1998 1999 2000 2006 2007 2008 2009 2010\n",
      " 2011 2012 2013 2014 2016 2017 2018 2019]\n",
      "cv score  0.7230952380952382\n",
      "(2005,)\n",
      "no of positive  604\n",
      "len of predy  259\n"
     ]
    },
    {
     "data": {
      "image/png": "[encoded data removed]",
      "text/plain": [
       "<Figure size 432x288 with 1 Axes>"
      ]
     },
     "metadata": {
      "needs_background": "light"
     },
     "output_type": "display_data"
    },
    {
     "name": "stdout",
     "output_type": "stream",
     "text": [
      "$$$  2005   259\n",
      "total positive  259\n",
      "tp tn fp fn 1   2   0   3\n",
      "year  2015 positive  4\n",
      "actual len  25290\n",
      "len of xtest  2058\n",
      "pct_is_new                   float64\n",
      "pct_is_newish                float64\n",
      "n_biggest_anc                float64\n",
      "pct_of_biggest_anc           float64\n",
      "n_secbiggest_anc             float64\n",
      "pct_of_secbiggest_anc        float64\n",
      "pct_of_secbiggest_anc_new    float64\n",
      "pct_top_5_anc                float64\n",
      "wrcr                         float64\n",
      "rcr_mid                      float64\n",
      "rcr_hi                       float64\n",
      "human                        float64\n",
      "animal                       float64\n",
      "molecular_cellular           float64\n",
      "is_clinical                  float64\n",
      "is_research_article          float64\n",
      "cited_by_clin                float64\n",
      "nih                          float64\n",
      "rage                         float64\n",
      "dtype: object\n",
      "hdhdhd before  239\n",
      "len of xtrain  222\n",
      "year   2016\n",
      "[1979 1990 1991 1993 1994 1997 1998 1999 2000 2006 2007 2008 2009 2010\n",
      " 2011 2012 2013 2014 2015 2017 2018 2019]\n",
      "cv score  0.7541763791763791\n",
      "(2058,)\n",
      "no of positive  567\n",
      "len of predy  263\n"
     ]
    },
    {
     "data": {
      "image/png": "[encoded data removed]",
      "text/plain": [
       "<Figure size 432x288 with 1 Axes>"
      ]
     },
     "metadata": {
      "needs_background": "light"
     },
     "output_type": "display_data"
    },
    {
     "name": "stdout",
     "output_type": "stream",
     "text": [
      "$$$  2058   263\n",
      "total positive  263\n",
      "tp tn fp fn 2   3   2   5\n",
      "year  2016 positive  7\n",
      "actual len  26499\n",
      "len of xtest  2119\n",
      "pct_is_new                   float64\n",
      "pct_is_newish                float64\n",
      "n_biggest_anc                float64\n",
      "pct_of_biggest_anc           float64\n",
      "n_secbiggest_anc             float64\n",
      "pct_of_secbiggest_anc        float64\n",
      "pct_of_secbiggest_anc_new    float64\n",
      "pct_top_5_anc                float64\n",
      "wrcr                         float64\n",
      "rcr_mid                      float64\n",
      "rcr_hi                       float64\n",
      "human                        float64\n",
      "animal                       float64\n",
      "molecular_cellular           float64\n",
      "is_clinical                  float64\n",
      "is_research_article          float64\n",
      "cited_by_clin                float64\n",
      "nih                          float64\n",
      "rage                         float64\n",
      "dtype: object\n",
      "hdhdhd before  239\n",
      "len of xtrain  226\n",
      "year   2017\n",
      "[1979 1990 1991 1993 1994 1997 1998 1999 2000 2006 2007 2008 2009 2010\n",
      " 2011 2012 2013 2014 2015 2016 2018 2019]\n",
      "cv score  0.7217776667776666\n",
      "(2119,)\n",
      "no of positive  555\n",
      "len of predy  213\n"
     ]
    },
    {
     "data": {
      "image/png": "[encoded data removed]",
      "text/plain": [
       "<Figure size 432x288 with 1 Axes>"
      ]
     },
     "metadata": {
      "needs_background": "light"
     },
     "output_type": "display_data"
    },
    {
     "name": "stdout",
     "output_type": "stream",
     "text": [
      "$$$  2119   213\n",
      "total positive  213\n",
      "tp tn fp fn 3   0   1   2\n",
      "year  2017 positive  5\n",
      "actual len  27875\n",
      "len of xtest  2186\n",
      "pct_is_new                   float64\n",
      "pct_is_newish                float64\n",
      "n_biggest_anc                float64\n",
      "pct_of_biggest_anc           float64\n",
      "n_secbiggest_anc             float64\n",
      "pct_of_secbiggest_anc        float64\n",
      "pct_of_secbiggest_anc_new    float64\n",
      "pct_top_5_anc                float64\n",
      "wrcr                         float64\n",
      "rcr_mid                      float64\n",
      "rcr_hi                       float64\n",
      "human                        float64\n",
      "animal                       float64\n",
      "molecular_cellular           float64\n",
      "is_clinical                  float64\n",
      "is_research_article          float64\n",
      "cited_by_clin                float64\n",
      "nih                          float64\n",
      "rage                         float64\n",
      "dtype: object\n",
      "hdhdhd before  239\n",
      "len of xtrain  222\n",
      "year   2018\n",
      "[1979 1990 1991 1993 1994 1997 1998 1999 2000 2006 2007 2008 2009 2010\n",
      " 2011 2012 2013 2014 2015 2016 2017 2019]\n",
      "cv score  0.7214169164169164\n",
      "(2186,)\n",
      "no of positive  612\n",
      "len of predy  271\n"
     ]
    },
    {
     "data": {
      "image/png": "[encoded data removed]",
      "text/plain": [
       "<Figure size 432x288 with 1 Axes>"
      ]
     },
     "metadata": {
      "needs_background": "light"
     },
     "output_type": "display_data"
    },
    {
     "name": "stdout",
     "output_type": "stream",
     "text": [
      "$$$  2186   271\n",
      "total positive  271\n",
      "tp tn fp fn 2   1   1   3\n",
      "year  2018 positive  5\n",
      "actual len  29230\n",
      "len of xtest  2305\n",
      "pct_is_new                   float64\n",
      "pct_is_newish                float64\n",
      "n_biggest_anc                float64\n",
      "pct_of_biggest_anc           float64\n",
      "n_secbiggest_anc             float64\n",
      "pct_of_secbiggest_anc        float64\n",
      "pct_of_secbiggest_anc_new    float64\n",
      "pct_top_5_anc                float64\n",
      "wrcr                         float64\n",
      "rcr_mid                      float64\n",
      "rcr_hi                       float64\n",
      "human                        float64\n",
      "animal                       float64\n",
      "molecular_cellular           float64\n",
      "is_clinical                  float64\n",
      "is_research_article          float64\n",
      "cited_by_clin                float64\n",
      "nih                          float64\n",
      "rage                         float64\n",
      "dtype: object\n",
      "hdhdhd before  239\n",
      "len of xtrain  228\n",
      "year   2019\n",
      "[1979 1990 1991 1993 1994 1997 1998 1999 2000 2006 2007 2008 2009 2010\n",
      " 2011 2012 2013 2014 2015 2016 2017 2018]\n",
      "cv score  0.7167432567432567\n",
      "(2305,)\n",
      "no of positive  669\n",
      "len of predy  296\n"
     ]
    },
    {
     "data": {
      "image/png": "[encoded data removed]",
      "text/plain": [
       "<Figure size 432x288 with 1 Axes>"
      ]
     },
     "metadata": {
      "needs_background": "light"
     },
     "output_type": "display_data"
    },
    {
     "name": "stdout",
     "output_type": "stream",
     "text": [
      "$$$  2305   296\n",
      "total positive  296\n",
      "tp tn fp fn 0   3   0   2\n",
      "year  2019 positive  2\n",
      "actual len  30564\n",
      "len of xtest  2411\n",
      "pct_is_new                   float64\n",
      "pct_is_newish                float64\n",
      "n_biggest_anc                float64\n",
      "pct_of_biggest_anc           float64\n",
      "n_secbiggest_anc             float64\n",
      "pct_of_secbiggest_anc        float64\n",
      "pct_of_secbiggest_anc_new    float64\n",
      "pct_top_5_anc                float64\n",
      "wrcr                         float64\n",
      "rcr_mid                      float64\n",
      "rcr_hi                       float64\n",
      "human                        float64\n",
      "animal                       float64\n",
      "molecular_cellular           float64\n",
      "is_clinical                  float64\n",
      "is_research_article          float64\n",
      "cited_by_clin                float64\n",
      "nih                          float64\n",
      "rage                         float64\n",
      "dtype: object\n",
      "hdhdhd before  239\n",
      "len of xtrain  236\n",
      "year   2020\n",
      "[1979 1990 1991 1993 1994 1997 1998 1999 2000 2006 2007 2008 2009 2010\n",
      " 2011 2012 2013 2014 2015 2016 2017 2018 2019]\n",
      "cv score  0.7200840825840825\n",
      "(2411,)\n",
      "no of positive  734\n",
      "len of predy  337\n"
     ]
    },
    {
     "data": {
      "image/png": "[encoded data removed]",
      "text/plain": [
       "<Figure size 432x288 with 1 Axes>"
      ]
     },
     "metadata": {
      "needs_background": "light"
     },
     "output_type": "display_data"
    },
    {
     "name": "stdout",
     "output_type": "stream",
     "text": [
      "$$$  2411   337\n",
      "total positive  337\n",
      "tp tn fp fn 0   0   0   0\n",
      "year  2020 positive  0\n",
      "total pos  96  true pos  64  total false pos  263.1860465116279  mean cv  0.7201083219106474\n"
     ]
    }
   ],
   "source": [
    "##logistic regression: unified model for all\n",
    "def recall2(pred,th, yr):\n",
    "    data = pd.read_csv(\"data_84.csv\")\n",
    "    data = data[data['year'] == yr]\n",
    "    data = data[data['n'] > 100]\n",
    "    ll = 350\n",
    "    tot = 0\n",
    "    ress = pd.merge(data,pred,on='cluster', how = 'inner')\n",
    "    \n",
    "    tp,tn,fp, fn = 0,0,0,0\n",
    "    pred = pred.sort_values(by=['pred_log'], ascending = False)\n",
    "    res = pred.head(ll)\n",
    "    for ind in res.index:\n",
    "        cl = res['cluster'][ind]\n",
    "        dd = data[data['cluster'] == cl]\n",
    "        if len(dd) != 0:\n",
    "            dd = dd.to_numpy()\n",
    "            cls = dd[0][dd.shape[1] - 1]\n",
    "            if cls == 1:\n",
    "                tp += 1\n",
    "            else:\n",
    "                fp += 1\n",
    "        else:\n",
    "            fp += 1\n",
    "       \n",
    "    pred = pred[pred['pred_log'] >= th]\n",
    "    print(\"total positive \", ll)\n",
    "    print(\"tp fp\",tp,\" \",fp)\n",
    "    total_pos = len(ress[ress['class'] == 1])\n",
    "    print(\"year \",yr,\"positive \",total_pos)\n",
    "    \n",
    "    \n",
    "    return total_pos,tp,ll - tp\n",
    "\n",
    "def recall(pred,th, yr):\n",
    "    data = pd.read_csv(\"data_84.csv\")\n",
    "    data = data[data['year'] == yr]\n",
    "    data = data[data['n'] > 100]\n",
    "\n",
    "    tot = 0\n",
    "    res = pd.merge(data,pred,on='cluster', how = 'inner')\n",
    "    tp,tn,fp, fn = 0,0,0,0\n",
    "    for ind in res.index:\n",
    "        if res['class'][ind] == 1 and res['pred_log'][ind] >= th:\n",
    "            tp += 1\n",
    "        elif res['class'][ind] == 0 and res['pred_log'][ind] < th:\n",
    "            tn += 1\n",
    "        elif res['class'][ind] == 0 and res['pred_log'][ind] >= th:\n",
    "            fp += 1\n",
    "        elif res['class'][ind] == 1 and res['pred_log'][ind] < th:\n",
    "            fn += 1\n",
    "    pred = pred[pred['pred_log'] >= th]\n",
    "    print(\"total positive \", len(pred))\n",
    "    print(\"tp tn fp fn\",tp,\" \",tn,\" \",fp,\" \",fn)\n",
    "    total_pos = len(res[res['class'] == 1])\n",
    "    print(\"year \",yr,\"positive \",total_pos)\n",
    "    \n",
    "    \n",
    "    return total_pos,tp,len(pred[pred['pred_log'] >= th]) - tp\n",
    "\n",
    "\n",
    "def train(x_train):\n",
    "    \n",
    "    \n",
    "  \n",
    "    y_train = x_train['class']\n",
    "    \n",
    "    x_train = x_train.drop(['class','cluster','year','n','pct_dusted_ccn','pct_dusted_rmcl',\n",
    "                           'pct_in_secbiggest_anc','rcr_low','secbiggest_anc',\n",
    "                           'pct_of_biggest_anc_newish','pct_of_biggest_anc_new','n_clusts_90_anc'\n",
    "                           ,'pct_in_biggest_anc','biggest_anc','pct_of_secbiggest_anc_newish'\n",
    "                           ], axis = 1)\n",
    "    \n",
    "    x_train[['pct_of_biggest_anc','pct_is_newish','wrcr']] = minmax_scale(x_train[[\n",
    "    'pct_of_biggest_anc','pct_is_newish','wrcr']])\n",
    "    \n",
    "    \n",
    "    \n",
    "    '''x_train[['wrcr','rcr_hi','rcr_mid','n_biggest_anc','n_secbiggest_anc','n_clusts_90_anc','pct_of_biggest_anc_new']] = minmax_scale(x_train[['wrcr','rcr_hi','rcr_mid','n_biggest_anc','n_secbiggest_anc','n_clusts_90_anc','pct_of_biggest_anc_new']])\n",
    "    x_train = x_train.drop(['cluster','year','n','pct_is_newish','pct_dusted_ccn','pct_dusted_rmcl','biggest_anc','pct_in_biggest_anc','pct_of_biggest_anc','pct_of_biggest_anc_new','pct_of_biggest_anc_newish','secbiggest_anc'], axis = 1)#$%\n",
    "    #x_train = x_train.drop(['pct_of_biggest_anc_new','pct_of_secbiggest_anc_new','animal','pct_is_newish'], axis = 1)\n",
    "    x_train = x_train.drop(['pct_in_secbiggest_anc','pct_of_secbiggest_anc','pct_of_secbiggest_anc_newish','rcr_low','class'], axis = 1)\n",
    "    \n",
    "    '''\n",
    "    \n",
    "    y_train = np.array(y_train)\n",
    " \n",
    "    model = LogisticRegression(random_state=0, C = 1).fit(x_train,y_train) ##logistioc\n",
    "    \n",
    "    '''crossvalidation2(x_train, y_train)\n",
    "    print(model.intercept_, model.coef_, model.score(x_train, y_train))'''\n",
    "    scores = cross_val_score(model, x_train, y_train, cv=20,scoring = \"f1\")\n",
    "    print(\"cv score \", scores.mean())\n",
    "    return model,scores.mean()\n",
    "    \n",
    "tot,tp,total_fp = 0,0,0\n",
    "yr = 1978\n",
    "x = pd.read_csv(\"data_84.csv\")\n",
    "x = x['year'].unique()\n",
    "print(len(x))\n",
    "CV = 0\n",
    "while yr <= 2020:\n",
    "#for yr in x:\n",
    "    \n",
    "    x_train = pd.read_csv(\"data_84.csv\")\n",
    "    x_test = pd.read_csv(\"~/Documents/PhD/project_nobel/boty/boty_dccites/features_prediction_\"+str(yr)+\".csv\")\n",
    "    print(\"actual len \",len(x_test))\n",
    "    x_test = x_test.dropna(axis=0)\n",
    "    \n",
    "    x_test = x_test[x_test['n'] > 100]\n",
    "    \n",
    "   \n",
    "    #x_test = x_test[x_test['n_biggest_anc'] >= 500]\n",
    "    x_test = x_test[x_test['rcr_hi'] >= 2.00]\n",
    "    x_test = x_test[x_test['cited_by_clin'] >= 0.080]\n",
    "    #x_test = x_test[x_test['is_clinical'] >= 0.010] ##this one\n",
    "    x_test = x_test[x_test['animal'] >= 0.01]\n",
    "\n",
    "    x_test = x_test[x_test['molecular_cellular'] >= 0.020] ##this one, with C = 1\n",
    "    #x_test = x_test[x_test['nih'] >= 0.020]\n",
    "    x_test = x_test[x_test['human'] >= 0.20]\n",
    "    #x_test = x_test[x_test['rage'] >= 5]\n",
    "    #x_test = x_test[x_test['pct_is_new'] >= 0.09]\n",
    "    print(\"len of xtest \",len(x_test))\n",
    "       \n",
    "    copy_test = x_test.copy()\n",
    "    #print(x_test.tail(10))\n",
    "    \n",
    "    #x_test = x_test[x_test['is_research_article'] > 0.75]\n",
    "    x_test = x_test.drop(['prediction','cluster','year','n',\n",
    "                               'pct_in_secbiggest_anc','rcr_low','secbiggest_anc',\n",
    "                               'pct_of_biggest_anc_newish','pct_of_biggest_anc_new','n_clusts_90_anc'\n",
    "                               ,'pct_in_biggest_anc','biggest_anc','pct_of_secbiggest_anc_newish'\n",
    "                               ], axis = 1)\n",
    "    \n",
    "    x_test[['pct_of_biggest_anc','pct_is_newish','wrcr']] = minmax_scale(x_test[[\n",
    "    'pct_of_biggest_anc','pct_is_newish','wrcr']])\n",
    "    \n",
    "    print(x_test.dtypes)\n",
    "    '''x_test[['wrcr','rcr_hi','rcr_mid','n_biggest_anc','n_secbiggest_anc','n_clusts_90_anc','pct_of_biggest_anc_new']] = minmax_scale(x_test[['wrcr','rcr_hi','rcr_mid','n_biggest_anc','n_secbiggest_anc','n_clusts_90_anc','pct_of_biggest_anc_new']])\n",
    "    x_test = x_test.drop(['cluster','year','n','pct_is_newish','biggest_anc','pct_in_biggest_anc','pct_of_biggest_anc','pct_of_biggest_anc_new','pct_of_biggest_anc_newish','secbiggest_anc'], axis = 1)\n",
    "    x_test = x_test.drop(['prediction','pct_in_secbiggest_anc','pct_of_secbiggest_anc','pct_of_secbiggest_anc_newish','rcr_low'], axis=1)\n",
    "    '''\n",
    "    \n",
    "    \n",
    "    print(\"hdhdhd before \",len(x_train))\n",
    "    x_train = x_train[x_train['year'] != yr]\n",
    "    x_train = x_train[x_train['n'] > 100]\n",
    "\n",
    "    \n",
    "    #x_train = x_train[x_train['is_research_article'] > 0.75]\n",
    "    print('len of xtrain ', len(x_train))\n",
    "    print(\"year  \",yr)\n",
    "    print(x_train['year'].unique())\n",
    "\n",
    "    model,cv = train(x_train)\n",
    "    CV += cv\n",
    "    pred = model.predict(x_test)\n",
    "    print(pred.shape)\n",
    "    #print(np.sum(pred))\n",
    "    print(\"no of positive \",np.count_nonzero(pred == 1))\n",
    "    \n",
    "\n",
    "    \n",
    "    predy = model.predict_proba(x_test)\n",
    "    pred_test = []\n",
    "    for i in range(predy.shape[0]):\n",
    "        if predy[i][0] >= predy[i][1]:\n",
    "            #pred_test.append(0.00)\n",
    "            pred_test.append(predy[i][1])\n",
    "        else:\n",
    "            pred_test.append(predy[i][1])\n",
    "    \n",
    "    predy = pd.DataFrame(predy, columns = ['col_0','col_1'])\n",
    "    predy = predy[predy['col_1'] >= 0.65]\n",
    "    #print(\"len of df \", len(df))\n",
    "    print(\"len of predy \", len(predy))\n",
    "    \n",
    "    \n",
    "    \n",
    "    copy_test['pred_log'] = pred_test\n",
    "    copy_test['pred_log'].hist()\n",
    "    plt.show()\n",
    "    \n",
    "    \n",
    "    print(\"$$$ \",len(copy_test),\" \",len(copy_test[copy_test['pred_log'] >= 0.65]))\n",
    "    a, b,c = recall(copy_test,0.65, yr)\n",
    "    tot += a\n",
    "    tp += b\n",
    "    total_fp += c\n",
    "    yr += 1\n",
    "print(\"total pos \",tot,\" true pos \", tp,\" total false pos \",total_fp/43,\" mean cv \",CV/43)"
   ]
  },
  {
   "cell_type": "code",
   "execution_count": null,
   "id": "838e2857",
   "metadata": {},
   "outputs": [],
   "source": []
  },
  {
   "cell_type": "code",
   "execution_count": 6,
   "id": "64405cad",
   "metadata": {},
   "outputs": [
    {
     "name": "stdout",
     "output_type": "stream",
     "text": [
      "actual len  8714\n",
      "len of xtest  4303\n",
      "hdhdhd before  223\n",
      "len of xtrain  219\n",
      "year   1978\n",
      "[1979 1991 1992 1993 1994 1996 1998 1999 2000 2003 2006 2007 2008 2009\n",
      " 2010 2011 2012 2013 2014 2015 2016 2017 2018 2019 2020]\n",
      "cv score  0.770358807858808\n",
      "(4303,)\n",
      "no of positive  1619\n",
      "len of predy  684\n"
     ]
    },
    {
     "data": {
      "image/png": "[encoded data removed]",
      "text/plain": [
       "<Figure size 432x288 with 1 Axes>"
      ]
     },
     "metadata": {
      "needs_background": "light"
     },
     "output_type": "display_data"
    },
    {
     "name": "stdout",
     "output_type": "stream",
     "text": [
      "$$$  4303   684\n",
      "total positive  684\n",
      "tp tn fp fn 0   0   0   0\n",
      "year  1978 positive  0\n",
      "actual len  9064\n",
      "len of xtest  4522\n",
      "hdhdhd before  223\n",
      "len of xtrain  218\n",
      "year   1979\n",
      "[1991 1992 1993 1994 1996 1998 1999 2000 2003 2006 2007 2008 2009 2010\n",
      " 2011 2012 2013 2014 2015 2016 2017 2018 2019 2020]\n",
      "cv score  0.7723212898212898\n",
      "(4522,)\n",
      "no of positive  1510\n",
      "len of predy  477\n"
     ]
    },
    {
     "data": {
      "image/png": "[encoded data removed]",
      "text/plain": [
       "<Figure size 432x288 with 1 Axes>"
      ]
     },
     "metadata": {
      "needs_background": "light"
     },
     "output_type": "display_data"
    },
    {
     "name": "stdout",
     "output_type": "stream",
     "text": [
      "$$$  4522   477\n",
      "total positive  477\n",
      "tp tn fp fn 0   0   0   1\n",
      "year  1979 positive  1\n",
      "actual len  9441\n",
      "len of xtest  4677\n",
      "hdhdhd before  223\n",
      "len of xtrain  219\n",
      "year   1980\n",
      "[1979 1991 1992 1993 1994 1996 1998 1999 2000 2003 2006 2007 2008 2009\n",
      " 2010 2011 2012 2013 2014 2015 2016 2017 2018 2019 2020]\n",
      "cv score  0.770358807858808\n",
      "(4677,)\n",
      "no of positive  1765\n",
      "len of predy  685\n"
     ]
    },
    {
     "data": {
      "image/png": "[encoded data removed]",
      "text/plain": [
       "<Figure size 432x288 with 1 Axes>"
      ]
     },
     "metadata": {
      "needs_background": "light"
     },
     "output_type": "display_data"
    },
    {
     "name": "stdout",
     "output_type": "stream",
     "text": [
      "$$$  4677   685\n",
      "total positive  685\n",
      "tp tn fp fn 0   0   0   0\n",
      "year  1980 positive  0\n",
      "actual len  9864\n",
      "len of xtest  4855\n",
      "hdhdhd before  223\n",
      "len of xtrain  219\n",
      "year   1981\n",
      "[1979 1991 1992 1993 1994 1996 1998 1999 2000 2003 2006 2007 2008 2009\n",
      " 2010 2011 2012 2013 2014 2015 2016 2017 2018 2019 2020]\n",
      "cv score  0.770358807858808\n",
      "(4855,)\n",
      "no of positive  1794\n",
      "len of predy  811\n"
     ]
    },
    {
     "data": {
      "image/png": "[encoded data removed]",
      "text/plain": [
       "<Figure size 432x288 with 1 Axes>"
      ]
     },
     "metadata": {
      "needs_background": "light"
     },
     "output_type": "display_data"
    },
    {
     "name": "stdout",
     "output_type": "stream",
     "text": [
      "$$$  4855   811\n",
      "total positive  811\n",
      "tp tn fp fn 0   0   0   0\n",
      "year  1981 positive  0\n",
      "actual len  10210\n",
      "len of xtest  5115\n",
      "hdhdhd before  223\n",
      "len of xtrain  219\n",
      "year   1982\n",
      "[1979 1991 1992 1993 1994 1996 1998 1999 2000 2003 2006 2007 2008 2009\n",
      " 2010 2011 2012 2013 2014 2015 2016 2017 2018 2019 2020]\n",
      "cv score  0.770358807858808\n",
      "(5115,)\n",
      "no of positive  1957\n",
      "len of predy  891\n"
     ]
    },
    {
     "data": {
      "image/png": "[encoded data removed]",
      "text/plain": [
       "<Figure size 432x288 with 1 Axes>"
      ]
     },
     "metadata": {
      "needs_background": "light"
     },
     "output_type": "display_data"
    },
    {
     "name": "stdout",
     "output_type": "stream",
     "text": [
      "$$$  5115   891\n",
      "total positive  891\n",
      "tp tn fp fn 0   0   0   0\n",
      "year  1982 positive  0\n",
      "actual len  10637\n",
      "len of xtest  5290\n",
      "hdhdhd before  223\n",
      "len of xtrain  219\n",
      "year   1983\n",
      "[1979 1991 1992 1993 1994 1996 1998 1999 2000 2003 2006 2007 2008 2009\n",
      " 2010 2011 2012 2013 2014 2015 2016 2017 2018 2019 2020]\n",
      "cv score  0.770358807858808\n",
      "(5290,)\n",
      "no of positive  1951\n",
      "len of predy  840\n"
     ]
    },
    {
     "data": {
      "image/png": "[encoded data removed]",
      "text/plain": [
       "<Figure size 432x288 with 1 Axes>"
      ]
     },
     "metadata": {
      "needs_background": "light"
     },
     "output_type": "display_data"
    },
    {
     "name": "stdout",
     "output_type": "stream",
     "text": [
      "$$$  5290   840\n",
      "total positive  840\n",
      "tp tn fp fn 0   0   0   0\n",
      "year  1983 positive  0\n",
      "actual len  11077\n",
      "len of xtest  5538\n",
      "hdhdhd before  223\n",
      "len of xtrain  219\n",
      "year   1984\n",
      "[1979 1991 1992 1993 1994 1996 1998 1999 2000 2003 2006 2007 2008 2009\n",
      " 2010 2011 2012 2013 2014 2015 2016 2017 2018 2019 2020]\n",
      "cv score  0.770358807858808\n",
      "(5538,)\n",
      "no of positive  1946\n",
      "len of predy  732\n"
     ]
    },
    {
     "data": {
      "image/png": "[encoded data removed]",
      "text/plain": [
       "<Figure size 432x288 with 1 Axes>"
      ]
     },
     "metadata": {
      "needs_background": "light"
     },
     "output_type": "display_data"
    },
    {
     "name": "stdout",
     "output_type": "stream",
     "text": [
      "$$$  5538   732\n",
      "total positive  732\n",
      "tp tn fp fn 0   0   0   0\n",
      "year  1984 positive  0\n",
      "actual len  11539\n",
      "len of xtest  5729\n",
      "hdhdhd before  223\n",
      "len of xtrain  219\n",
      "year   1985\n",
      "[1979 1991 1992 1993 1994 1996 1998 1999 2000 2003 2006 2007 2008 2009\n",
      " 2010 2011 2012 2013 2014 2015 2016 2017 2018 2019 2020]\n",
      "cv score  0.770358807858808\n",
      "(5729,)\n",
      "no of positive  1890\n",
      "len of predy  704\n"
     ]
    },
    {
     "data": {
      "image/png": "[encoded data removed]",
      "text/plain": [
       "<Figure size 432x288 with 1 Axes>"
      ]
     },
     "metadata": {
      "needs_background": "light"
     },
     "output_type": "display_data"
    },
    {
     "name": "stdout",
     "output_type": "stream",
     "text": [
      "$$$  5729   704\n",
      "total positive  704\n",
      "tp tn fp fn 0   0   0   0\n",
      "year  1985 positive  0\n",
      "actual len  12054\n",
      "len of xtest  6003\n",
      "hdhdhd before  223\n",
      "len of xtrain  219\n",
      "year   1986\n",
      "[1979 1991 1992 1993 1994 1996 1998 1999 2000 2003 2006 2007 2008 2009\n",
      " 2010 2011 2012 2013 2014 2015 2016 2017 2018 2019 2020]\n",
      "cv score  0.770358807858808\n",
      "(6003,)\n",
      "no of positive  1720\n",
      "len of predy  550\n"
     ]
    },
    {
     "data": {
      "image/png": "[encoded data removed]",
      "text/plain": [
       "<Figure size 432x288 with 1 Axes>"
      ]
     },
     "metadata": {
      "needs_background": "light"
     },
     "output_type": "display_data"
    },
    {
     "name": "stdout",
     "output_type": "stream",
     "text": [
      "$$$  6003   550\n",
      "total positive  550\n",
      "tp tn fp fn 0   0   0   0\n",
      "year  1986 positive  0\n",
      "actual len  12580\n",
      "len of xtest  6317\n",
      "hdhdhd before  223\n",
      "len of xtrain  219\n",
      "year   1987\n",
      "[1979 1991 1992 1993 1994 1996 1998 1999 2000 2003 2006 2007 2008 2009\n",
      " 2010 2011 2012 2013 2014 2015 2016 2017 2018 2019 2020]\n",
      "cv score  0.770358807858808\n",
      "(6317,)\n",
      "no of positive  1554\n",
      "len of predy  328\n"
     ]
    },
    {
     "data": {
      "image/png": "[encoded data removed]",
      "text/plain": [
       "<Figure size 432x288 with 1 Axes>"
      ]
     },
     "metadata": {
      "needs_background": "light"
     },
     "output_type": "display_data"
    },
    {
     "name": "stdout",
     "output_type": "stream",
     "text": [
      "$$$  6317   328\n",
      "total positive  328\n",
      "tp tn fp fn 0   0   0   0\n",
      "year  1987 positive  0\n",
      "actual len  13150\n",
      "len of xtest  6609\n",
      "hdhdhd before  223\n",
      "len of xtrain  219\n",
      "year   1988\n",
      "[1979 1991 1992 1993 1994 1996 1998 1999 2000 2003 2006 2007 2008 2009\n",
      " 2010 2011 2012 2013 2014 2015 2016 2017 2018 2019 2020]\n",
      "cv score  0.770358807858808\n",
      "(6609,)\n",
      "no of positive  1622\n",
      "len of predy  353\n"
     ]
    },
    {
     "data": {
      "image/png": "[encoded data removed]",
      "text/plain": [
       "<Figure size 432x288 with 1 Axes>"
      ]
     },
     "metadata": {
      "needs_background": "light"
     },
     "output_type": "display_data"
    },
    {
     "name": "stdout",
     "output_type": "stream",
     "text": [
      "$$$  6609   353\n",
      "total positive  353\n",
      "tp tn fp fn 0   0   0   0\n",
      "year  1988 positive  0\n",
      "actual len  13783\n",
      "len of xtest  6819\n",
      "hdhdhd before  223\n",
      "len of xtrain  219\n",
      "year   1989\n",
      "[1979 1991 1992 1993 1994 1996 1998 1999 2000 2003 2006 2007 2008 2009\n",
      " 2010 2011 2012 2013 2014 2015 2016 2017 2018 2019 2020]\n",
      "cv score  0.770358807858808\n",
      "(6819,)\n",
      "no of positive  2162\n",
      "len of predy  763\n"
     ]
    },
    {
     "data": {
      "image/png": "[encoded data removed]",
      "text/plain": [
       "<Figure size 432x288 with 1 Axes>"
      ]
     },
     "metadata": {
      "needs_background": "light"
     },
     "output_type": "display_data"
    },
    {
     "name": "stdout",
     "output_type": "stream",
     "text": [
      "$$$  6819   763\n",
      "total positive  763\n",
      "tp tn fp fn 0   0   0   0\n",
      "year  1989 positive  0\n",
      "actual len  14399\n",
      "len of xtest  7133\n",
      "hdhdhd before  223\n",
      "len of xtrain  219\n",
      "year   1990\n",
      "[1979 1991 1992 1993 1994 1996 1998 1999 2000 2003 2006 2007 2008 2009\n",
      " 2010 2011 2012 2013 2014 2015 2016 2017 2018 2019 2020]\n",
      "cv score  0.770358807858808\n",
      "(7133,)\n",
      "no of positive  2437\n",
      "len of predy  983\n"
     ]
    },
    {
     "data": {
      "image/png": "[encoded data removed]",
      "text/plain": [
       "<Figure size 432x288 with 1 Axes>"
      ]
     },
     "metadata": {
      "needs_background": "light"
     },
     "output_type": "display_data"
    },
    {
     "name": "stdout",
     "output_type": "stream",
     "text": [
      "$$$  7133   983\n",
      "total positive  983\n",
      "tp tn fp fn 0   0   0   0\n",
      "year  1990 positive  0\n",
      "actual len  15057\n",
      "len of xtest  7484\n",
      "hdhdhd before  223\n",
      "len of xtrain  217\n",
      "year   1991\n",
      "[1979 1992 1993 1994 1996 1998 1999 2000 2003 2006 2007 2008 2009 2010\n",
      " 2011 2012 2013 2014 2015 2016 2017 2018 2019 2020]\n",
      "cv score  0.763443500943501\n",
      "(7484,)\n",
      "no of positive  2519\n",
      "len of predy  1037\n"
     ]
    },
    {
     "data": {
      "image/png": "[encoded data removed]",
      "text/plain": [
       "<Figure size 432x288 with 1 Axes>"
      ]
     },
     "metadata": {
      "needs_background": "light"
     },
     "output_type": "display_data"
    },
    {
     "name": "stdout",
     "output_type": "stream",
     "text": [
      "$$$  7484   1037\n",
      "total positive  1037\n",
      "tp tn fp fn 0   1   0   1\n",
      "year  1991 positive  1\n",
      "actual len  15614\n",
      "len of xtest  7753\n",
      "hdhdhd before  223\n",
      "len of xtrain  217\n",
      "year   1992\n",
      "[1979 1991 1993 1994 1996 1998 1999 2000 2003 2006 2007 2008 2009 2010\n",
      " 2011 2012 2013 2014 2015 2016 2017 2018 2019 2020]\n",
      "cv score  0.7679889554889555\n",
      "(7753,)\n",
      "no of positive  2258\n",
      "len of predy  755\n"
     ]
    },
    {
     "data": {
      "image/png": "[encoded data removed]",
      "text/plain": [
       "<Figure size 432x288 with 1 Axes>"
      ]
     },
     "metadata": {
      "needs_background": "light"
     },
     "output_type": "display_data"
    },
    {
     "name": "stdout",
     "output_type": "stream",
     "text": [
      "$$$  7753   755\n",
      "total positive  755\n",
      "tp tn fp fn 1   1   0   0\n",
      "year  1992 positive  1\n",
      "actual len  16286\n",
      "len of xtest  7982\n",
      "hdhdhd before  223\n",
      "len of xtrain  217\n",
      "year   1993\n",
      "[1979 1991 1992 1994 1996 1998 1999 2000 2003 2006 2007 2008 2009 2010\n",
      " 2011 2012 2013 2014 2015 2016 2017 2018 2019 2020]\n",
      "cv score  0.763443500943501\n",
      "(7982,)\n",
      "no of positive  3010\n",
      "len of predy  1512\n"
     ]
    },
    {
     "data": {
      "image/png": "[encoded data removed]",
      "text/plain": [
       "<Figure size 432x288 with 1 Axes>"
      ]
     },
     "metadata": {
      "needs_background": "light"
     },
     "output_type": "display_data"
    },
    {
     "name": "stdout",
     "output_type": "stream",
     "text": [
      "$$$  7982   1512\n",
      "total positive  1512\n",
      "tp tn fp fn 0   1   0   1\n",
      "year  1993 positive  1\n",
      "actual len  16911\n",
      "len of xtest  8301\n",
      "hdhdhd before  223\n",
      "len of xtrain  218\n",
      "year   1994\n",
      "[1979 1991 1992 1993 1996 1998 1999 2000 2003 2006 2007 2008 2009 2010\n",
      " 2011 2012 2013 2014 2015 2016 2017 2018 2019 2020]\n",
      "cv score  0.7707883782883783\n",
      "(8301,)\n",
      "no of positive  2981\n",
      "len of predy  1318\n"
     ]
    },
    {
     "data": {
      "image/png": "[encoded data removed]",
      "text/plain": [
       "<Figure size 432x288 with 1 Axes>"
      ]
     },
     "metadata": {
      "needs_background": "light"
     },
     "output_type": "display_data"
    },
    {
     "name": "stdout",
     "output_type": "stream",
     "text": [
      "$$$  8301   1318\n",
      "total positive  1318\n",
      "tp tn fp fn 0   1   0   0\n",
      "year  1994 positive  0\n",
      "actual len  17585\n",
      "len of xtest  8620\n",
      "hdhdhd before  223\n",
      "len of xtrain  219\n",
      "year   1995\n",
      "[1979 1991 1992 1993 1994 1996 1998 1999 2000 2003 2006 2007 2008 2009\n",
      " 2010 2011 2012 2013 2014 2015 2016 2017 2018 2019 2020]\n",
      "cv score  0.770358807858808\n",
      "(8620,)\n",
      "no of positive  3401\n",
      "len of predy  1792\n"
     ]
    },
    {
     "data": {
      "image/png": "[encoded data removed]",
      "text/plain": [
       "<Figure size 432x288 with 1 Axes>"
      ]
     },
     "metadata": {
      "needs_background": "light"
     },
     "output_type": "display_data"
    },
    {
     "name": "stdout",
     "output_type": "stream",
     "text": [
      "$$$  8620   1792\n",
      "total positive  1792\n",
      "tp tn fp fn 0   0   0   0\n",
      "year  1995 positive  0\n",
      "actual len  18277\n",
      "len of xtest  8999\n",
      "hdhdhd before  223\n",
      "len of xtrain  217\n",
      "year   1996\n",
      "[1979 1991 1992 1993 1994 1998 1999 2000 2003 2006 2007 2008 2009 2010\n",
      " 2011 2012 2013 2014 2015 2016 2017 2018 2019 2020]\n",
      "cv score  0.7564990564990566\n",
      "(8999,)\n",
      "no of positive  3245\n",
      "len of predy  1545\n"
     ]
    },
    {
     "data": {
      "image/png": "[encoded data removed]",
      "text/plain": [
       "<Figure size 432x288 with 1 Axes>"
      ]
     },
     "metadata": {
      "needs_background": "light"
     },
     "output_type": "display_data"
    },
    {
     "name": "stdout",
     "output_type": "stream",
     "text": [
      "$$$  8999   1545\n",
      "total positive  1545\n",
      "tp tn fp fn 0   1   0   1\n",
      "year  1996 positive  1\n",
      "actual len  18933\n",
      "len of xtest  9261\n",
      "hdhdhd before  223\n",
      "len of xtrain  219\n",
      "year   1997\n",
      "[1979 1991 1992 1993 1994 1996 1998 1999 2000 2003 2006 2007 2008 2009\n",
      " 2010 2011 2012 2013 2014 2015 2016 2017 2018 2019 2020]\n",
      "cv score  0.770358807858808\n",
      "(9261,)\n",
      "no of positive  3201\n",
      "len of predy  1478\n"
     ]
    },
    {
     "data": {
      "image/png": "[encoded data removed]",
      "text/plain": [
       "<Figure size 432x288 with 1 Axes>"
      ]
     },
     "metadata": {
      "needs_background": "light"
     },
     "output_type": "display_data"
    },
    {
     "name": "stdout",
     "output_type": "stream",
     "text": [
      "$$$  9261   1478\n",
      "total positive  1478\n",
      "tp tn fp fn 0   0   0   0\n",
      "year  1997 positive  0\n",
      "actual len  19596\n",
      "len of xtest  9510\n",
      "hdhdhd before  223\n",
      "len of xtrain  213\n",
      "year   1998\n",
      "[1979 1991 1992 1993 1994 1996 1999 2000 2003 2006 2007 2008 2009 2010\n",
      " 2011 2012 2013 2014 2015 2016 2017 2018 2019 2020]\n",
      "cv score  0.7798054723054724\n",
      "(9510,)\n",
      "no of positive  2677\n",
      "len of predy  1014\n"
     ]
    },
    {
     "data": {
      "image/png": "[encoded data removed]",
      "text/plain": [
       "<Figure size 432x288 with 1 Axes>"
      ]
     },
     "metadata": {
      "needs_background": "light"
     },
     "output_type": "display_data"
    },
    {
     "name": "stdout",
     "output_type": "stream",
     "text": [
      "$$$  9510   1014\n",
      "total positive  1014\n",
      "tp tn fp fn 2   3   0   1\n",
      "year  1998 positive  3\n",
      "actual len  20269\n",
      "len of xtest  9903\n",
      "hdhdhd before  223\n",
      "len of xtrain  215\n",
      "year   1999\n",
      "[1979 1991 1992 1993 1994 1996 1998 2000 2003 2006 2007 2008 2009 2010\n",
      " 2011 2012 2013 2014 2015 2016 2017 2018 2019 2020]\n",
      "cv score  0.7677358752358752\n",
      "(9903,)\n",
      "no of positive  3123\n",
      "len of predy  1414\n"
     ]
    },
    {
     "data": {
      "image/png": "[encoded data removed]",
      "text/plain": [
       "<Figure size 432x288 with 1 Axes>"
      ]
     },
     "metadata": {
      "needs_background": "light"
     },
     "output_type": "display_data"
    },
    {
     "name": "stdout",
     "output_type": "stream",
     "text": [
      "$$$  9903   1414\n",
      "total positive  1414\n",
      "tp tn fp fn 0   0   2   2\n",
      "year  1999 positive  2\n",
      "actual len  21025\n",
      "len of xtest  10331\n",
      "hdhdhd before  223\n",
      "len of xtrain  213\n",
      "year   2000\n",
      "[1979 1991 1992 1993 1994 1996 1998 1999 2003 2006 2007 2008 2009 2010\n",
      " 2011 2012 2013 2014 2015 2016 2017 2018 2019 2020]\n",
      "cv score  0.7761341436341437\n",
      "(10331,)\n",
      "no of positive  3646\n",
      "len of predy  1750\n"
     ]
    },
    {
     "data": {
      "image/png": "[encoded data removed]",
      "text/plain": [
       "<Figure size 432x288 with 1 Axes>"
      ]
     },
     "metadata": {
      "needs_background": "light"
     },
     "output_type": "display_data"
    },
    {
     "name": "stdout",
     "output_type": "stream",
     "text": [
      "$$$  10331   1750\n",
      "total positive  1750\n",
      "tp tn fp fn 0   2   1   3\n",
      "year  2000 positive  3\n",
      "actual len  21961\n",
      "len of xtest  10713\n",
      "hdhdhd before  223\n",
      "len of xtrain  219\n",
      "year   2001\n",
      "[1979 1991 1992 1993 1994 1996 1998 1999 2000 2003 2006 2007 2008 2009\n",
      " 2010 2011 2012 2013 2014 2015 2016 2017 2018 2019 2020]\n",
      "cv score  0.770358807858808\n",
      "(10713,)\n",
      "no of positive  3198\n",
      "len of predy  1228\n"
     ]
    },
    {
     "data": {
      "image/png": "[encoded data removed]",
      "text/plain": [
       "<Figure size 432x288 with 1 Axes>"
      ]
     },
     "metadata": {
      "needs_background": "light"
     },
     "output_type": "display_data"
    },
    {
     "name": "stdout",
     "output_type": "stream",
     "text": [
      "$$$  10713   1228\n",
      "total positive  1228\n",
      "tp tn fp fn 0   0   0   0\n",
      "year  2001 positive  0\n",
      "actual len  22884\n",
      "len of xtest  11183\n",
      "hdhdhd before  223\n",
      "len of xtrain  219\n",
      "year   2002\n",
      "[1979 1991 1992 1993 1994 1996 1998 1999 2000 2003 2006 2007 2008 2009\n",
      " 2010 2011 2012 2013 2014 2015 2016 2017 2018 2019 2020]\n",
      "cv score  0.770358807858808\n",
      "(11183,)\n",
      "no of positive  3810\n",
      "len of predy  1930\n"
     ]
    },
    {
     "data": {
      "image/png": "[encoded data removed]",
      "text/plain": [
       "<Figure size 432x288 with 1 Axes>"
      ]
     },
     "metadata": {
      "needs_background": "light"
     },
     "output_type": "display_data"
    },
    {
     "name": "stdout",
     "output_type": "stream",
     "text": [
      "$$$  11183   1930\n",
      "total positive  1930\n",
      "tp tn fp fn 0   0   0   0\n",
      "year  2002 positive  0\n",
      "actual len  23708\n",
      "len of xtest  11586\n",
      "hdhdhd before  223\n",
      "len of xtrain  217\n",
      "year   2003\n",
      "[1979 1991 1992 1993 1994 1996 1998 1999 2000 2006 2007 2008 2009 2010\n",
      " 2011 2012 2013 2014 2015 2016 2017 2018 2019 2020]\n",
      "cv score  0.7628590853590854\n",
      "(11586,)\n",
      "no of positive  3356\n",
      "len of predy  1269\n"
     ]
    },
    {
     "data": {
      "image/png": "[encoded data removed]",
      "text/plain": [
       "<Figure size 432x288 with 1 Axes>"
      ]
     },
     "metadata": {
      "needs_background": "light"
     },
     "output_type": "display_data"
    },
    {
     "name": "stdout",
     "output_type": "stream",
     "text": [
      "$$$  11586   1269\n",
      "total positive  1269\n",
      "tp tn fp fn 1   0   1   0\n",
      "year  2003 positive  1\n",
      "actual len  24651\n",
      "len of xtest  12088\n",
      "hdhdhd before  223\n",
      "len of xtrain  219\n",
      "year   2004\n",
      "[1979 1991 1992 1993 1994 1996 1998 1999 2000 2003 2006 2007 2008 2009\n",
      " 2010 2011 2012 2013 2014 2015 2016 2017 2018 2019 2020]\n",
      "cv score  0.770358807858808\n",
      "(12088,)\n",
      "no of positive  3931\n",
      "len of predy  1855\n"
     ]
    },
    {
     "data": {
      "image/png": "[encoded data removed]",
      "text/plain": [
       "<Figure size 432x288 with 1 Axes>"
      ]
     },
     "metadata": {
      "needs_background": "light"
     },
     "output_type": "display_data"
    },
    {
     "name": "stdout",
     "output_type": "stream",
     "text": [
      "$$$  12088   1855\n",
      "total positive  1855\n",
      "tp tn fp fn 0   0   0   0\n",
      "year  2004 positive  0\n",
      "actual len  25639\n",
      "len of xtest  12545\n",
      "hdhdhd before  223\n",
      "len of xtrain  219\n",
      "year   2005\n",
      "[1979 1991 1992 1993 1994 1996 1998 1999 2000 2003 2006 2007 2008 2009\n",
      " 2010 2011 2012 2013 2014 2015 2016 2017 2018 2019 2020]\n",
      "cv score  0.770358807858808\n",
      "(12545,)\n",
      "no of positive  4167\n",
      "len of predy  2008\n"
     ]
    },
    {
     "data": {
      "image/png": "[encoded data removed]",
      "text/plain": [
       "<Figure size 432x288 with 1 Axes>"
      ]
     },
     "metadata": {
      "needs_background": "light"
     },
     "output_type": "display_data"
    },
    {
     "name": "stdout",
     "output_type": "stream",
     "text": [
      "$$$  12545   2008\n",
      "total positive  2008\n",
      "tp tn fp fn 0   0   0   0\n",
      "year  2005 positive  0\n",
      "actual len  26791\n",
      "len of xtest  13090\n",
      "hdhdhd before  223\n",
      "len of xtrain  218\n",
      "year   2006\n",
      "[1979 1991 1992 1993 1994 1996 1998 1999 2000 2003 2007 2008 2009 2010\n",
      " 2011 2012 2013 2014 2015 2016 2017 2018 2019 2020]\n",
      "cv score  0.7582628482628484\n",
      "(13090,)\n",
      "no of positive  4730\n",
      "len of predy  2289\n"
     ]
    },
    {
     "data": {
      "image/png": "[encoded data removed]",
      "text/plain": [
       "<Figure size 432x288 with 1 Axes>"
      ]
     },
     "metadata": {
      "needs_background": "light"
     },
     "output_type": "display_data"
    },
    {
     "name": "stdout",
     "output_type": "stream",
     "text": [
      "$$$  13090   2289\n",
      "total positive  2289\n",
      "tp tn fp fn 1   0   0   0\n",
      "year  2006 positive  1\n",
      "actual len  27781\n",
      "len of xtest  13582\n",
      "hdhdhd before  223\n",
      "len of xtrain  213\n",
      "year   2007\n",
      "[1979 1991 1992 1993 1994 1996 1998 1999 2000 2003 2006 2008 2009 2010\n",
      " 2011 2012 2013 2014 2015 2016 2017 2018 2019 2020]\n",
      "cv score  0.7740345765345766\n",
      "(13582,)\n",
      "no of positive  4452\n",
      "len of predy  1959\n"
     ]
    },
    {
     "data": {
      "image/png": "[encoded data removed]",
      "text/plain": [
       "<Figure size 432x288 with 1 Axes>"
      ]
     },
     "metadata": {
      "needs_background": "light"
     },
     "output_type": "display_data"
    },
    {
     "name": "stdout",
     "output_type": "stream",
     "text": [
      "$$$  13582   1959\n",
      "total positive  1959\n",
      "tp tn fp fn 2   2   1   1\n",
      "year  2007 positive  3\n",
      "actual len  28867\n",
      "len of xtest  14108\n",
      "hdhdhd before  223\n",
      "len of xtrain  211\n",
      "year   2008\n",
      "[1979 1991 1992 1993 1994 1996 1998 1999 2000 2003 2006 2007 2009 2010\n",
      " 2011 2012 2013 2014 2015 2016 2017 2018 2019 2020]\n",
      "cv score  0.7652444777444778\n",
      "(14108,)\n",
      "no of positive  4212\n",
      "len of predy  1729\n"
     ]
    },
    {
     "data": {
      "image/png": "[encoded data removed]",
      "text/plain": [
       "<Figure size 432x288 with 1 Axes>"
      ]
     },
     "metadata": {
      "needs_background": "light"
     },
     "output_type": "display_data"
    },
    {
     "name": "stdout",
     "output_type": "stream",
     "text": [
      "$$$  14108   1729\n",
      "total positive  1729\n",
      "tp tn fp fn 1   4   0   3\n",
      "year  2008 positive  4\n",
      "actual len  30063\n",
      "len of xtest  14615\n",
      "hdhdhd before  223\n",
      "len of xtrain  207\n",
      "year   2009\n",
      "[1979 1991 1992 1993 1994 1996 1998 1999 2000 2003 2006 2007 2008 2010\n",
      " 2011 2012 2013 2014 2015 2016 2017 2018 2019 2020]\n",
      "cv score  0.7686383061383062\n",
      "(14615,)\n",
      "no of positive  5132\n",
      "len of predy  2509\n"
     ]
    },
    {
     "data": {
      "image/png": "[encoded data removed]",
      "text/plain": [
       "<Figure size 432x288 with 1 Axes>"
      ]
     },
     "metadata": {
      "needs_background": "light"
     },
     "output_type": "display_data"
    },
    {
     "name": "stdout",
     "output_type": "stream",
     "text": [
      "$$$  14615   2509\n",
      "total positive  2509\n",
      "tp tn fp fn 2   4   2   4\n",
      "year  2009 positive  6\n",
      "actual len  31270\n",
      "len of xtest  15236\n",
      "hdhdhd before  223\n",
      "len of xtrain  203\n",
      "year   2010\n",
      "[1979 1991 1992 1993 1994 1996 1998 1999 2000 2003 2006 2007 2008 2009\n",
      " 2011 2012 2013 2014 2015 2016 2017 2018 2019 2020]\n",
      "cv score  0.7799514374514375\n",
      "(15236,)\n",
      "no of positive  4654\n",
      "len of predy  1925\n"
     ]
    },
    {
     "data": {
      "image/png": "[encoded data removed]",
      "text/plain": [
       "<Figure size 432x288 with 1 Axes>"
      ]
     },
     "metadata": {
      "needs_background": "light"
     },
     "output_type": "display_data"
    },
    {
     "name": "stdout",
     "output_type": "stream",
     "text": [
      "$$$  15236   1925\n",
      "total positive  1925\n",
      "tp tn fp fn 2   7   1   6\n",
      "year  2010 positive  8\n",
      "actual len  32548\n",
      "len of xtest  15809\n",
      "hdhdhd before  223\n",
      "len of xtrain  195\n",
      "year   2011\n",
      "[1979 1991 1992 1993 1994 1996 1998 1999 2000 2003 2006 2007 2008 2009\n",
      " 2010 2012 2013 2014 2015 2016 2017 2018 2019 2020]\n",
      "cv score  0.7706604506604507\n",
      "(15809,)\n",
      "no of positive  5551\n",
      "len of predy  2875\n"
     ]
    },
    {
     "data": {
      "image/png": "[encoded data removed]",
      "text/plain": [
       "<Figure size 432x288 with 1 Axes>"
      ]
     },
     "metadata": {
      "needs_background": "light"
     },
     "output_type": "display_data"
    },
    {
     "name": "stdout",
     "output_type": "stream",
     "text": [
      "$$$  15809   2875\n",
      "total positive  2875\n",
      "tp tn fp fn 5   6   5   8\n",
      "year  2011 positive  13\n",
      "actual len  33915\n",
      "len of xtest  16449\n",
      "hdhdhd before  223\n",
      "len of xtrain  193\n",
      "year   2012\n",
      "[1979 1991 1992 1993 1994 1996 1998 1999 2000 2003 2006 2007 2008 2009\n",
      " 2010 2011 2013 2014 2015 2016 2017 2018 2019 2020]\n",
      "cv score  0.762330724830725\n",
      "(16449,)\n",
      "no of positive  6271\n",
      "len of predy  3331\n"
     ]
    },
    {
     "data": {
      "image/png": "[encoded data removed]",
      "text/plain": [
       "<Figure size 432x288 with 1 Axes>"
      ]
     },
     "metadata": {
      "needs_background": "light"
     },
     "output_type": "display_data"
    },
    {
     "name": "stdout",
     "output_type": "stream",
     "text": [
      "$$$  16449   3331\n",
      "total positive  3331\n",
      "tp tn fp fn 9   7   5   5\n",
      "year  2012 positive  14\n",
      "actual len  35502\n",
      "len of xtest  17100\n",
      "hdhdhd before  223\n",
      "len of xtrain  194\n",
      "year   2013\n",
      "[1979 1991 1992 1993 1994 1996 1998 1999 2000 2003 2006 2007 2008 2009\n",
      " 2010 2011 2012 2014 2015 2016 2017 2018 2019 2020]\n",
      "cv score  0.7672261072261073\n",
      "(17100,)\n",
      "no of positive  5487\n",
      "len of predy  1865\n"
     ]
    },
    {
     "data": {
      "image/png": "[encoded data removed]",
      "text/plain": [
       "<Figure size 432x288 with 1 Axes>"
      ]
     },
     "metadata": {
      "needs_background": "light"
     },
     "output_type": "display_data"
    },
    {
     "name": "stdout",
     "output_type": "stream",
     "text": [
      "$$$  17100   1865\n",
      "total positive  1865\n",
      "tp tn fp fn 6   6   6   7\n",
      "year  2013 positive  13\n",
      "actual len  37143\n",
      "len of xtest  17754\n",
      "hdhdhd before  223\n",
      "len of xtrain  202\n",
      "year   2014\n",
      "[1979 1991 1992 1993 1994 1996 1998 1999 2000 2003 2006 2007 2008 2009\n",
      " 2010 2011 2012 2013 2015 2016 2017 2018 2019 2020]\n",
      "cv score  0.7744572094572095\n",
      "(17754,)\n",
      "no of positive  6350\n",
      "len of predy  3403\n"
     ]
    },
    {
     "data": {
      "image/png": "[encoded data removed]",
      "text/plain": [
       "<Figure size 432x288 with 1 Axes>"
      ]
     },
     "metadata": {
      "needs_background": "light"
     },
     "output_type": "display_data"
    },
    {
     "name": "stdout",
     "output_type": "stream",
     "text": [
      "$$$  17754   3403\n",
      "total positive  3403\n",
      "tp tn fp fn 7   4   4   2\n",
      "year  2014 positive  9\n",
      "actual len  38964\n",
      "len of xtest  18492\n",
      "hdhdhd before  223\n",
      "len of xtrain  213\n",
      "year   2015\n",
      "[1979 1991 1992 1993 1994 1996 1998 1999 2000 2003 2006 2007 2008 2009\n",
      " 2010 2011 2012 2013 2014 2016 2017 2018 2019 2020]\n",
      "cv score  0.7592010767010767\n",
      "(18492,)\n",
      "no of positive  5545\n",
      "len of predy  2490\n"
     ]
    },
    {
     "data": {
      "image/png": "[encoded data removed]",
      "text/plain": [
       "<Figure size 432x288 with 1 Axes>"
      ]
     },
     "metadata": {
      "needs_background": "light"
     },
     "output_type": "display_data"
    },
    {
     "name": "stdout",
     "output_type": "stream",
     "text": [
      "$$$  18492   2490\n",
      "total positive  2490\n",
      "tp tn fp fn 1   2   1   2\n",
      "year  2015 positive  3\n",
      "actual len  40764\n",
      "len of xtest  19130\n",
      "hdhdhd before  223\n",
      "len of xtrain  211\n",
      "year   2016\n",
      "[1979 1991 1992 1993 1994 1996 1998 1999 2000 2003 2006 2007 2008 2009\n",
      " 2010 2011 2012 2013 2014 2015 2017 2018 2019 2020]\n",
      "cv score  0.770487012987013\n",
      "(19130,)\n",
      "no of positive  4435\n",
      "len of predy  1391\n"
     ]
    },
    {
     "data": {
      "image/png": "[encoded data removed]",
      "text/plain": [
       "<Figure size 432x288 with 1 Axes>"
      ]
     },
     "metadata": {
      "needs_background": "light"
     },
     "output_type": "display_data"
    },
    {
     "name": "stdout",
     "output_type": "stream",
     "text": [
      "$$$  19130   1391\n",
      "total positive  1391\n",
      "tp tn fp fn 0   4   0   4\n",
      "year  2016 positive  4\n",
      "actual len  42532\n",
      "len of xtest  19886\n",
      "hdhdhd before  223\n",
      "len of xtrain  207\n",
      "year   2017\n",
      "[1979 1991 1992 1993 1994 1996 1998 1999 2000 2003 2006 2007 2008 2009\n",
      " 2010 2011 2012 2013 2014 2015 2016 2018 2019 2020]\n",
      "cv score  0.7549314574314574\n",
      "(19886,)\n",
      "no of positive  6105\n",
      "len of predy  3082\n"
     ]
    },
    {
     "data": {
      "image/png": "[encoded data removed]",
      "text/plain": [
       "<Figure size 432x288 with 1 Axes>"
      ]
     },
     "metadata": {
      "needs_background": "light"
     },
     "output_type": "display_data"
    },
    {
     "name": "stdout",
     "output_type": "stream",
     "text": [
      "$$$  19886   3082\n",
      "total positive  3082\n",
      "tp tn fp fn 4   4   2   2\n",
      "year  2017 positive  6\n",
      "actual len  44336\n",
      "len of xtest  20517\n",
      "hdhdhd before  223\n",
      "len of xtrain  203\n",
      "year   2018\n",
      "[1979 1991 1992 1993 1994 1996 1998 1999 2000 2003 2006 2007 2008 2009\n",
      " 2010 2011 2012 2013 2014 2015 2016 2017 2019 2020]\n",
      "cv score  0.7876262626262626\n",
      "(20517,)\n",
      "no of positive  3783\n",
      "len of predy  777\n"
     ]
    },
    {
     "data": {
      "image/png": "[encoded data removed]",
      "text/plain": [
       "<Figure size 432x288 with 1 Axes>"
      ]
     },
     "metadata": {
      "needs_background": "light"
     },
     "output_type": "display_data"
    },
    {
     "name": "stdout",
     "output_type": "stream",
     "text": [
      "$$$  20517   777\n",
      "total positive  777\n",
      "tp tn fp fn 0   6   2   8\n",
      "year  2018 positive  8\n",
      "actual len  46374\n",
      "len of xtest  21201\n",
      "hdhdhd before  223\n",
      "len of xtrain  209\n",
      "year   2019\n",
      "[1979 1991 1992 1993 1994 1996 1998 1999 2000 2003 2006 2007 2008 2009\n",
      " 2010 2011 2012 2013 2014 2015 2016 2017 2018 2020]\n",
      "cv score  0.7940981240981241\n",
      "(21201,)\n",
      "no of positive  6166\n",
      "len of predy  2733\n"
     ]
    },
    {
     "data": {
      "image/png": "[encoded data removed]",
      "text/plain": [
       "<Figure size 432x288 with 1 Axes>"
      ]
     },
     "metadata": {
      "needs_background": "light"
     },
     "output_type": "display_data"
    },
    {
     "name": "stdout",
     "output_type": "stream",
     "text": [
      "$$$  21201   2733\n",
      "total positive  2733\n",
      "tp tn fp fn 2   5   0   3\n",
      "year  2019 positive  5\n",
      "actual len  48945\n",
      "len of xtest  22230\n",
      "hdhdhd before  223\n",
      "len of xtrain  215\n",
      "year   2020\n",
      "[1979 1991 1992 1993 1994 1996 1998 1999 2000 2003 2006 2007 2008 2009\n",
      " 2010 2011 2012 2013 2014 2015 2016 2017 2018 2019]\n",
      "cv score  0.7608871683871683\n",
      "(22230,)\n",
      "no of positive  5119\n",
      "len of predy  1454\n"
     ]
    },
    {
     "data": {
      "image/png": "[encoded data removed]",
      "text/plain": [
       "<Figure size 432x288 with 1 Axes>"
      ]
     },
     "metadata": {
      "needs_background": "light"
     },
     "output_type": "display_data"
    },
    {
     "name": "stdout",
     "output_type": "stream",
     "text": [
      "$$$  22230   1454\n",
      "total positive  1454\n",
      "tp tn fp fn 0   2   0   2\n",
      "year  2020 positive  2\n",
      "total pos  113  true pos  46  total false pos  1499.3488372093022\n"
     ]
    }
   ],
   "source": [
    "##logistic regression\n",
    "\n",
    "\n",
    "def recall(pred,th, yr):\n",
    "    data = pd.read_csv(\"data_84.csv\")\n",
    "    data = data[data['year'] == yr]\n",
    "    data = data[data['n'] > 100]\n",
    "\n",
    "    tot = 0\n",
    "    res = pd.merge(data,pred,on='cluster', how = 'inner')\n",
    "    tp,tn,fp, fn = 0,0,0,0\n",
    "    for ind in res.index:\n",
    "        if res['class'][ind] == 1 and res['pred_log'][ind] >= th:\n",
    "            tp += 1\n",
    "        elif res['class'][ind] == 0 and res['pred_log'][ind] < th:\n",
    "            tn += 1\n",
    "        elif res['class'][ind] == 0 and res['pred_log'][ind] >= th:\n",
    "            fp += 1\n",
    "        elif res['class'][ind] == 1 and res['pred_log'][ind] < th:\n",
    "            fn += 1\n",
    "    pred = pred[pred['pred_log'] > th]\n",
    "    print(\"total positive \", len(pred))\n",
    "    print(\"tp tn fp fn\",tp,\" \",tn,\" \",fp,\" \",fn)\n",
    "    total_pos = len(res[res['class'] == 1])\n",
    "    print(\"year \",yr,\"positive \",total_pos)\n",
    "    \n",
    "    \n",
    "    return total_pos,tp,len(pred[pred['pred_log'] > th]) - tp\n",
    "\n",
    "\n",
    "def train(x_train):\n",
    "    \n",
    "    \n",
    "  \n",
    "    y_train = x_train['class']\n",
    "    \n",
    "    '''x_train = x_train.drop(['class','cluster','year','n','pct_dusted_ccn','pct_dusted_rmcl',\n",
    "                           'pct_in_secbiggest_anc','rcr_low','secbiggest_anc',\n",
    "                           'pct_of_biggest_anc_newish','pct_of_biggest_anc_new','n_clusts_90_anc'\n",
    "                           ,'pct_in_biggest_anc','biggest_anc','pct_of_secbiggest_anc_newish'\n",
    "                           ], axis = 1)\n",
    "    \n",
    "    x_train[['pct_of_biggest_anc','pct_is_newish','wrcr']] = minmax_scale(x_train[[\n",
    "    'pct_of_biggest_anc','pct_is_newish','wrcr']])'''\n",
    "    \n",
    "    \n",
    "    \n",
    "    x_train[['wrcr','rcr_hi','rcr_mid','n_biggest_anc','n_secbiggest_anc','n_clusts_90_anc','pct_of_biggest_anc_new']] = minmax_scale(x_train[['wrcr','rcr_hi','rcr_mid','n_biggest_anc','n_secbiggest_anc','n_clusts_90_anc','pct_of_biggest_anc_new']])\n",
    "    x_train = x_train.drop(['cluster','year','n','pct_is_newish','pct_dusted_ccn','pct_dusted_rmcl','biggest_anc','pct_in_biggest_anc','pct_of_biggest_anc','pct_of_biggest_anc_new','pct_of_biggest_anc_newish','secbiggest_anc'], axis = 1)#$%\n",
    "    #x_train = x_train.drop(['pct_of_biggest_anc_new','pct_of_secbiggest_anc_new','animal','pct_is_newish'], axis = 1)\n",
    "    x_train = x_train.drop(['pct_in_secbiggest_anc','pct_of_secbiggest_anc','pct_of_secbiggest_anc_newish','rcr_low','cited_by_clin','class'], axis = 1)\n",
    "    \n",
    "    \n",
    "    y_train = np.array(y_train)\n",
    " \n",
    "    model = svm.SVC(C= 10,kernel='rbf')\n",
    "    model.probability = True\n",
    "    model.fit(x_train,y_train)\n",
    "    \n",
    "    '''crossvalidation2(x_train, y_train)\n",
    "    print(model.intercept_, model.coef_, model.score(x_train, y_train))'''\n",
    "    scores = cross_val_score(model, x_train, y_train, cv=20,scoring = \"f1\")\n",
    "    print(\"cv score \", scores.mean())\n",
    "    return model\n",
    "    \n",
    "tot,tp,total_fp = 0,0,0\n",
    "yr = 1978\n",
    "\n",
    "while yr <= 2020:\n",
    "    \n",
    "    x_train = pd.read_csv(\"data_84.csv\")\n",
    "    x_test = pd.read_csv(\"~/Documents/PhD/project_nobel/boty/boty_outcites/features_prediction_\"+str(yr)+\".csv\")\n",
    "    print(\"actual len \",len(x_test))\n",
    "    x_test = x_test.dropna(axis=0)\n",
    "    \n",
    "    x_test = x_test[x_test['n'] > 100]\n",
    "    \n",
    "   \n",
    "    #x_test = x_test[x_test['n_biggest_anc'] >= 500]\n",
    "    #x_test = x_test[x_test['rcr_hi'] >= 2.55]\n",
    "    #x_test = x_test[x_test['cited_by_clin'] >= 0.10]\n",
    "    #x_test = x_test[x_test['is_clinical'] >= 0.012] ##this one\n",
    "    #x_test = x_test[x_test['animal'] >= 0.02]\n",
    "\n",
    "    #x_test = x_test[x_test['molecular_cellular'] >= 0.030] ##this one, with C = 1\n",
    "    \n",
    "    #x_test = x_test[x_test['human'] >= 0.25]\n",
    "    #x_test = x_test[x_test['rage'] >= 5]\n",
    "    #x_test = x_test[x_test['pct_is_new'] >= 0.09]\n",
    "    print(\"len of xtest \",len(x_test))\n",
    "       \n",
    "    copy_test = x_test.copy()\n",
    "    #print(x_test.tail(10))\n",
    "    \n",
    "    #x_test = x_test[x_test['is_research_article'] > 0.75]\n",
    "    '''x_test = x_test.drop(['prediction','cluster','year','n',\n",
    "                               'pct_in_secbiggest_anc','rcr_low','secbiggest_anc',\n",
    "                               'pct_of_biggest_anc_newish','pct_of_biggest_anc_new','n_clusts_90_anc'\n",
    "                               ,'pct_in_biggest_anc','biggest_anc','pct_of_secbiggest_anc_newish'\n",
    "                               ], axis = 1)\n",
    "    \n",
    "    x_test[['pct_of_biggest_anc','pct_is_newish','wrcr']] = minmax_scale(x_test[[\n",
    "    'pct_of_biggest_anc','pct_is_newish','wrcr']])'''\n",
    "    \n",
    "    \n",
    "    x_test[['wrcr','rcr_hi','rcr_mid','n_biggest_anc','n_secbiggest_anc','n_clusts_90_anc','pct_of_biggest_anc_new']] = minmax_scale(x_test[['wrcr','rcr_hi','rcr_mid','n_biggest_anc','n_secbiggest_anc','n_clusts_90_anc','pct_of_biggest_anc_new']])\n",
    "    x_test = x_test.drop(['cluster','year','n','pct_is_newish','biggest_anc','pct_in_biggest_anc','pct_of_biggest_anc','pct_of_biggest_anc_new','pct_of_biggest_anc_newish','secbiggest_anc'], axis = 1)\n",
    "    x_test = x_test.drop(['prediction','pct_in_secbiggest_anc','pct_of_secbiggest_anc','pct_of_secbiggest_anc_newish','rcr_low','cited_by_clin'], axis=1)\n",
    "    \n",
    "    \n",
    "    \n",
    "    print(\"hdhdhd before \",len(x_train))\n",
    "    x_train = x_train[x_train['year'] != yr]\n",
    "    x_train = x_train[x_train['n'] > 100]\n",
    "\n",
    "    \n",
    "    #x_train = x_train[x_train['is_research_article'] > 0.75]\n",
    "    print('len of xtrain ', len(x_train))\n",
    "    print(\"year  \",yr)\n",
    "    print(x_train['year'].unique())\n",
    "\n",
    "    model = train(x_train)\n",
    "    \n",
    "    pred = model.predict(x_test)\n",
    "    print(pred.shape)\n",
    "    #print(np.sum(pred))\n",
    "    print(\"no of positive \",np.count_nonzero(pred == 1))\n",
    "    \n",
    "\n",
    "    \n",
    "    predy = model.predict_proba(x_test)\n",
    "    pred_test = []\n",
    "    for i in range(predy.shape[0]):\n",
    "        if predy[i][0] >= predy[i][1]:\n",
    "            #pred_test.append(0.00)\n",
    "            pred_test.append(predy[i][1])\n",
    "        else:\n",
    "            pred_test.append(predy[i][1])\n",
    "    \n",
    "    predy = pd.DataFrame(predy, columns = ['col_0','col_1'])\n",
    "    predy = predy[predy['col_1'] > 0.65]\n",
    "    #print(\"len of df \", len(df))\n",
    "    print(\"len of predy \", len(predy))\n",
    "    \n",
    "    \n",
    "    \n",
    "    copy_test['pred_log'] = pred_test\n",
    "    copy_test['pred_log'].hist()\n",
    "    plt.show()\n",
    "    \n",
    "    \n",
    "    print(\"$$$ \",len(copy_test),\" \",len(copy_test[copy_test['pred_log'] > 0.65]))\n",
    "    a, b,c = recall(copy_test,0.65, yr)\n",
    "    tot += a\n",
    "    tp += b\n",
    "    total_fp += c\n",
    "    yr += 1\n",
    "print(\"total pos \",tot,\" true pos \", tp,\" total false pos \",total_fp/43)"
   ]
  },
  {
   "cell_type": "code",
   "execution_count": null,
   "id": "df781239",
   "metadata": {},
   "outputs": [],
   "source": []
  }
 ],
 "metadata": {
  "kernelspec": {
   "display_name": "Python 3 (ipykernel)",
   "language": "python",
   "name": "python3"
  },
  "language_info": {
   "codemirror_mode": {
    "name": "ipython",
    "version": 3
   },
   "file_extension": ".py",
   "mimetype": "text/x-python",
   "name": "python",
   "nbconvert_exporter": "python",
   "pygments_lexer": "ipython3",
   "version": "3.9.6"
  }
 },
 "nbformat": 4,
 "nbformat_minor": 5
}
