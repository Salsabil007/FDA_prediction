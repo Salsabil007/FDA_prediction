{
 "cells": [
  {
   "cell_type": "code",
   "execution_count": 1,
   "id": "a4b4d3f4",
   "metadata": {},
   "outputs": [
    {
     "name": "stdout",
     "output_type": "stream",
     "text": [
      "Imported version = 0.1.70.\n",
      "from featurewiz import FeatureWiz\n",
      "wiz = FeatureWiz(verbose=1)\n",
      "X_train_selected = wiz.fit_transform(X_train, y_train)\n",
      "X_test_selected = wiz.transform(X_test)\n",
      "wiz.features  ### provides a list of selected features ###\n",
      "                                \n"
     ]
    }
   ],
   "source": [
    "import pandas as pd\n",
    "import numpy as np\n",
    "from sklearn.preprocessing import StandardScaler, LabelEncoder, minmax_scale\n",
    "import seaborn as sns\n",
    "import matplotlib.pyplot as plt\n",
    "from sklearn.metrics import confusion_matrix\n",
    "import sys \n",
    "#from keras.models import Sequential\n",
    "#from keras.layers import Dense\n",
    "#from keras.utils import np_utils\n",
    "import tensorflow as tf\n",
    "#from keras.regularizers import L1L2\n",
    "from sklearn.metrics import confusion_matrix, precision_score, recall_score, f1_score, cohen_kappa_score\n",
    "from sklearn.utils import shuffle\n",
    "#from keras.callbacks import EarlyStopping\n",
    "from sklearn.linear_model import LogisticRegression\n",
    "from sklearn import svm\n",
    "from sklearn.model_selection import KFold\n",
    "from sklearn.model_selection import cross_val_score\n",
    "from featurewiz import featurewiz\n",
    "from sklearn.metrics import f1_score\n",
    "from sklearn.feature_selection import SelectKBest, f_classif, chi2, RFE\n",
    "from sklearn.feature_selection import mutual_info_classif\n",
    "from scipy import stats\n",
    "np.random.seed(19680801)"
   ]
  },
  {
   "cell_type": "code",
   "execution_count": 2,
   "id": "03d8fb5f",
   "metadata": {},
   "outputs": [
    {
     "name": "stdout",
     "output_type": "stream",
     "text": [
      "pct_is_new                   0.209180\n",
      "n_secbiggest_anc             0.062980\n",
      "pct_of_secbiggest_anc_new    0.000000\n",
      "pct_top_5_anc                0.004535\n",
      "wrcr                         0.000000\n",
      "rcr_mid                      0.104945\n",
      "rcr_hi                       0.058156\n",
      "human                        0.108255\n",
      "animal                       0.057436\n",
      "molecular_cellular           0.037462\n",
      "is_clinical                  0.101834\n",
      "is_research_article          0.108444\n",
      "cited_by_clin                0.088559\n",
      "rage                         0.082661\n",
      "dtype: float64\n"
     ]
    },
    {
     "data": {
      "image/png": "[encoded data removed]",
      "text/plain": [
       "<Figure size 432x288 with 1 Axes>"
      ]
     },
     "metadata": {
      "needs_background": "light"
     },
     "output_type": "display_data"
    },
    {
     "name": "stdout",
     "output_type": "stream",
     "text": [
      "[2.0804564] [[ 7.32260684 -0.1162731  -1.85858488  1.66168088 -2.045108   -0.55387303\n",
      "   0.46812718  0.59342134  1.18439021  1.71868961  1.48899578 -4.78175183\n",
      "   2.82159164 -0.43152253]] 0.8075313807531381\n",
      "cross validated f1 score  0.7940975690975691\n"
     ]
    }
   ],
   "source": [
    "###so far, this is the best model of dccites\n",
    "\n",
    "x_train = pd.read_csv(\"data_84.csv\")\n",
    "y_train = x_train['class']\n",
    "'''x_train = x_train.drop(['class','cluster','year','n','pct_dusted_ccn','pct_dusted_rmcl',\n",
    "                           'pct_in_secbiggest_anc','rcr_low','secbiggest_anc',\n",
    "                           'pct_of_biggest_anc_newish','pct_of_biggest_anc_new','n_clusts_90_anc','pct_of_secbiggest_anc'\n",
    "                           ,'pct_in_biggest_anc','biggest_anc','pct_of_secbiggest_anc_newish','n_secbiggest_anc'\n",
    "                            ], axis = 1)'''\n",
    "\n",
    "x_train[['wrcr','n_biggest_anc','n_secbiggest_anc','n_clusts_90_anc']] = minmax_scale(x_train[['wrcr','n_biggest_anc','n_secbiggest_anc','n_clusts_90_anc']])\n",
    "x_train = x_train.drop(['cluster','year','n','pct_is_newish','pct_dusted_ccn','pct_dusted_rmcl','biggest_anc','pct_in_biggest_anc','pct_of_biggest_anc','pct_of_biggest_anc_new','pct_of_biggest_anc_newish','secbiggest_anc'], axis = 1)#$%\n",
    "x_train = x_train.drop(['n_biggest_anc','nih','n_clusts_90_anc','pct_in_secbiggest_anc','pct_of_secbiggest_anc','pct_of_secbiggest_anc_newish','rcr_low','class'], axis = 1)\n",
    "\n",
    "\n",
    "\n",
    "importance = mutual_info_classif(x_train,y_train)\n",
    "feat_imp = pd.Series(importance,x_train.columns[0:len(x_train.columns)])\n",
    "print(feat_imp)\n",
    "feat_imp.plot(kind = 'barh',color = 'teal')\n",
    "plt.show()\n",
    "\n",
    "#x_train =  StandardScaler().fit_transform(x_train) \n",
    "\n",
    "\n",
    "\n",
    "y_train = np.array(y_train)\n",
    "model = LogisticRegression(random_state=0, C = 10).fit(x_train,y_train) ##logistioc\n",
    "    \n",
    "print(model.intercept_, model.coef_, model.score(x_train, y_train))\n",
    "scores = cross_val_score(model, x_train, y_train, cv=20,scoring = \"f1\")\n",
    "print(\"cross validated f1 score \",scores.mean())"
   ]
  },
  {
   "cell_type": "code",
   "execution_count": 3,
   "id": "1c578401",
   "metadata": {},
   "outputs": [
    {
     "name": "stdout",
     "output_type": "stream",
     "text": [
      "actual len  5202\n",
      "len of xtest  424\n",
      "pct_is_new                   float64\n",
      "n_secbiggest_anc             float64\n",
      "pct_of_secbiggest_anc_new    float64\n",
      "pct_top_5_anc                float64\n",
      "wrcr                         float64\n",
      "rcr_mid                      float64\n",
      "rcr_hi                       float64\n",
      "human                        float64\n",
      "animal                       float64\n",
      "molecular_cellular           float64\n",
      "is_clinical                  float64\n",
      "is_research_article          float64\n",
      "cited_by_clin                float64\n",
      "rage                         float64\n",
      "dtype: object\n",
      "hdhdhd before  239\n",
      "len of xtrain  236\n",
      "year   1978\n",
      "[1979 1990 1991 1993 1994 1997 1998 1999 2000 2006 2007 2008 2009 2010\n",
      " 2011 2012 2013 2014 2015 2016 2017 2018 2019]\n",
      "cv score  0.7853313353313354\n",
      "(424,)\n",
      "no of positive  175\n",
      "len of predy  97\n"
     ]
    },
    {
     "data": {
      "image/png": "[encoded data removed]",
      "text/plain": [
       "<Figure size 432x288 with 1 Axes>"
      ]
     },
     "metadata": {
      "needs_background": "light"
     },
     "output_type": "display_data"
    },
    {
     "name": "stdout",
     "output_type": "stream",
     "text": [
      "$$$  424   97\n",
      "total positive  97\n",
      "tp tn fp fn 0   0   0   0\n",
      "year  1978 positive  0\n",
      "actual len  5442\n",
      "len of xtest  441\n",
      "pct_is_new                   float64\n",
      "n_secbiggest_anc             float64\n",
      "pct_of_secbiggest_anc_new    float64\n",
      "pct_top_5_anc                float64\n",
      "wrcr                         float64\n",
      "rcr_mid                      float64\n",
      "rcr_hi                       float64\n",
      "human                        float64\n",
      "animal                       float64\n",
      "molecular_cellular           float64\n",
      "is_clinical                  float64\n",
      "is_research_article          float64\n",
      "cited_by_clin                float64\n",
      "rage                         float64\n",
      "dtype: object\n",
      "hdhdhd before  239\n",
      "len of xtrain  234\n",
      "year   1979\n",
      "[1990 1991 1993 1994 1997 1998 1999 2000 2006 2007 2008 2009 2010 2011\n",
      " 2012 2013 2014 2015 2016 2017 2018 2019]\n",
      "cv score  0.7793198468198468\n",
      "(441,)\n",
      "no of positive  161\n",
      "len of predy  87\n"
     ]
    },
    {
     "data": {
      "image/png": "[encoded data removed]",
      "text/plain": [
       "<Figure size 432x288 with 1 Axes>"
      ]
     },
     "metadata": {
      "needs_background": "light"
     },
     "output_type": "display_data"
    },
    {
     "name": "stdout",
     "output_type": "stream",
     "text": [
      "$$$  441   87\n",
      "total positive  87\n",
      "tp tn fp fn 0   1   0   0\n",
      "year  1979 positive  0\n",
      "actual len  5711\n",
      "len of xtest  470\n",
      "pct_is_new                   float64\n",
      "n_secbiggest_anc             float64\n",
      "pct_of_secbiggest_anc_new    float64\n",
      "pct_top_5_anc                float64\n",
      "wrcr                         float64\n",
      "rcr_mid                      float64\n",
      "rcr_hi                       float64\n",
      "human                        float64\n",
      "animal                       float64\n",
      "molecular_cellular           float64\n",
      "is_clinical                  float64\n",
      "is_research_article          float64\n",
      "cited_by_clin                float64\n",
      "rage                         float64\n",
      "dtype: object\n",
      "hdhdhd before  239\n",
      "len of xtrain  236\n",
      "year   1980\n",
      "[1979 1990 1991 1993 1994 1997 1998 1999 2000 2006 2007 2008 2009 2010\n",
      " 2011 2012 2013 2014 2015 2016 2017 2018 2019]\n",
      "cv score  0.7853313353313354\n",
      "(470,)\n",
      "no of positive  173\n",
      "len of predy  95\n"
     ]
    },
    {
     "data": {
      "image/png": "[encoded data removed]",
      "text/plain": [
       "<Figure size 432x288 with 1 Axes>"
      ]
     },
     "metadata": {
      "needs_background": "light"
     },
     "output_type": "display_data"
    },
    {
     "name": "stdout",
     "output_type": "stream",
     "text": [
      "$$$  470   95\n",
      "total positive  95\n",
      "tp tn fp fn 0   0   0   0\n",
      "year  1980 positive  0\n",
      "actual len  5986\n",
      "len of xtest  528\n",
      "pct_is_new                   float64\n",
      "n_secbiggest_anc             float64\n",
      "pct_of_secbiggest_anc_new    float64\n",
      "pct_top_5_anc                float64\n",
      "wrcr                         float64\n",
      "rcr_mid                      float64\n",
      "rcr_hi                       float64\n",
      "human                        float64\n",
      "animal                       float64\n",
      "molecular_cellular           float64\n",
      "is_clinical                  float64\n",
      "is_research_article          float64\n",
      "cited_by_clin                float64\n",
      "rage                         float64\n",
      "dtype: object\n",
      "hdhdhd before  239\n",
      "len of xtrain  236\n",
      "year   1981\n",
      "[1979 1990 1991 1993 1994 1997 1998 1999 2000 2006 2007 2008 2009 2010\n",
      " 2011 2012 2013 2014 2015 2016 2017 2018 2019]\n",
      "cv score  0.7853313353313354\n",
      "(528,)\n",
      "no of positive  191\n",
      "len of predy  111\n"
     ]
    },
    {
     "data": {
      "image/png": "[encoded data removed]",
      "text/plain": [
       "<Figure size 432x288 with 1 Axes>"
      ]
     },
     "metadata": {
      "needs_background": "light"
     },
     "output_type": "display_data"
    },
    {
     "name": "stdout",
     "output_type": "stream",
     "text": [
      "$$$  528   111\n",
      "total positive  111\n",
      "tp tn fp fn 0   0   0   0\n",
      "year  1981 positive  0\n",
      "actual len  6266\n",
      "len of xtest  562\n",
      "pct_is_new                   float64\n",
      "n_secbiggest_anc             float64\n",
      "pct_of_secbiggest_anc_new    float64\n",
      "pct_top_5_anc                float64\n",
      "wrcr                         float64\n",
      "rcr_mid                      float64\n",
      "rcr_hi                       float64\n",
      "human                        float64\n",
      "animal                       float64\n",
      "molecular_cellular           float64\n",
      "is_clinical                  float64\n",
      "is_research_article          float64\n",
      "cited_by_clin                float64\n",
      "rage                         float64\n",
      "dtype: object\n",
      "hdhdhd before  239\n",
      "len of xtrain  236\n",
      "year   1982\n",
      "[1979 1990 1991 1993 1994 1997 1998 1999 2000 2006 2007 2008 2009 2010\n",
      " 2011 2012 2013 2014 2015 2016 2017 2018 2019]\n",
      "cv score  0.7853313353313354\n",
      "(562,)\n",
      "no of positive  214\n",
      "len of predy  111\n"
     ]
    },
    {
     "data": {
      "image/png": "[encoded data removed]",
      "text/plain": [
       "<Figure size 432x288 with 1 Axes>"
      ]
     },
     "metadata": {
      "needs_background": "light"
     },
     "output_type": "display_data"
    },
    {
     "name": "stdout",
     "output_type": "stream",
     "text": [
      "$$$  562   111\n",
      "total positive  111\n",
      "tp tn fp fn 0   0   0   0\n",
      "year  1982 positive  0\n",
      "actual len  6553\n",
      "len of xtest  622\n",
      "pct_is_new                   float64\n",
      "n_secbiggest_anc             float64\n",
      "pct_of_secbiggest_anc_new    float64\n",
      "pct_top_5_anc                float64\n",
      "wrcr                         float64\n",
      "rcr_mid                      float64\n",
      "rcr_hi                       float64\n",
      "human                        float64\n",
      "animal                       float64\n",
      "molecular_cellular           float64\n",
      "is_clinical                  float64\n",
      "is_research_article          float64\n",
      "cited_by_clin                float64\n",
      "rage                         float64\n",
      "dtype: object\n",
      "hdhdhd before  239\n",
      "len of xtrain  236\n",
      "year   1983\n",
      "[1979 1990 1991 1993 1994 1997 1998 1999 2000 2006 2007 2008 2009 2010\n",
      " 2011 2012 2013 2014 2015 2016 2017 2018 2019]\n",
      "cv score  0.7853313353313354\n",
      "(622,)\n",
      "no of positive  206\n",
      "len of predy  119\n"
     ]
    },
    {
     "data": {
      "image/png": "[encoded data removed]",
      "text/plain": [
       "<Figure size 432x288 with 1 Axes>"
      ]
     },
     "metadata": {
      "needs_background": "light"
     },
     "output_type": "display_data"
    },
    {
     "name": "stdout",
     "output_type": "stream",
     "text": [
      "$$$  622   119\n",
      "total positive  119\n",
      "tp tn fp fn 0   0   0   0\n",
      "year  1983 positive  0\n",
      "actual len  6814\n",
      "len of xtest  633\n",
      "pct_is_new                   float64\n",
      "n_secbiggest_anc             float64\n",
      "pct_of_secbiggest_anc_new    float64\n",
      "pct_top_5_anc                float64\n",
      "wrcr                         float64\n",
      "rcr_mid                      float64\n",
      "rcr_hi                       float64\n",
      "human                        float64\n",
      "animal                       float64\n",
      "molecular_cellular           float64\n",
      "is_clinical                  float64\n",
      "is_research_article          float64\n",
      "cited_by_clin                float64\n",
      "rage                         float64\n",
      "dtype: object\n",
      "hdhdhd before  239\n",
      "len of xtrain  236\n",
      "year   1984\n",
      "[1979 1990 1991 1993 1994 1997 1998 1999 2000 2006 2007 2008 2009 2010\n",
      " 2011 2012 2013 2014 2015 2016 2017 2018 2019]\n",
      "cv score  0.7853313353313354\n",
      "(633,)\n",
      "no of positive  215\n",
      "len of predy  129\n"
     ]
    },
    {
     "data": {
      "image/png": "[encoded data removed]",
      "text/plain": [
       "<Figure size 432x288 with 1 Axes>"
      ]
     },
     "metadata": {
      "needs_background": "light"
     },
     "output_type": "display_data"
    },
    {
     "name": "stdout",
     "output_type": "stream",
     "text": [
      "$$$  633   129\n",
      "total positive  129\n",
      "tp tn fp fn 0   0   0   0\n",
      "year  1984 positive  0\n",
      "actual len  7177\n",
      "len of xtest  696\n",
      "pct_is_new                   float64\n",
      "n_secbiggest_anc             float64\n",
      "pct_of_secbiggest_anc_new    float64\n",
      "pct_top_5_anc                float64\n",
      "wrcr                         float64\n",
      "rcr_mid                      float64\n",
      "rcr_hi                       float64\n",
      "human                        float64\n",
      "animal                       float64\n",
      "molecular_cellular           float64\n",
      "is_clinical                  float64\n",
      "is_research_article          float64\n",
      "cited_by_clin                float64\n",
      "rage                         float64\n",
      "dtype: object\n",
      "hdhdhd before  239\n",
      "len of xtrain  236\n",
      "year   1985\n",
      "[1979 1990 1991 1993 1994 1997 1998 1999 2000 2006 2007 2008 2009 2010\n",
      " 2011 2012 2013 2014 2015 2016 2017 2018 2019]\n",
      "cv score  0.7853313353313354\n",
      "(696,)\n",
      "no of positive  233\n",
      "len of predy  126\n"
     ]
    },
    {
     "data": {
      "image/png": "[encoded data removed]",
      "text/plain": [
       "<Figure size 432x288 with 1 Axes>"
      ]
     },
     "metadata": {
      "needs_background": "light"
     },
     "output_type": "display_data"
    },
    {
     "name": "stdout",
     "output_type": "stream",
     "text": [
      "$$$  696   126\n",
      "total positive  126\n",
      "tp tn fp fn 0   0   0   0\n",
      "year  1985 positive  0\n",
      "actual len  7513\n",
      "len of xtest  758\n",
      "pct_is_new                   float64\n",
      "n_secbiggest_anc             float64\n",
      "pct_of_secbiggest_anc_new    float64\n",
      "pct_top_5_anc                float64\n",
      "wrcr                         float64\n",
      "rcr_mid                      float64\n",
      "rcr_hi                       float64\n",
      "human                        float64\n",
      "animal                       float64\n",
      "molecular_cellular           float64\n",
      "is_clinical                  float64\n",
      "is_research_article          float64\n",
      "cited_by_clin                float64\n",
      "rage                         float64\n",
      "dtype: object\n",
      "hdhdhd before  239\n",
      "len of xtrain  236\n",
      "year   1986\n",
      "[1979 1990 1991 1993 1994 1997 1998 1999 2000 2006 2007 2008 2009 2010\n",
      " 2011 2012 2013 2014 2015 2016 2017 2018 2019]\n",
      "cv score  0.7853313353313354\n",
      "(758,)\n",
      "no of positive  239\n",
      "len of predy  146\n"
     ]
    },
    {
     "data": {
      "image/png": "[encoded data removed]",
      "text/plain": [
       "<Figure size 432x288 with 1 Axes>"
      ]
     },
     "metadata": {
      "needs_background": "light"
     },
     "output_type": "display_data"
    },
    {
     "name": "stdout",
     "output_type": "stream",
     "text": [
      "$$$  758   146\n",
      "total positive  146\n",
      "tp tn fp fn 0   0   0   0\n",
      "year  1986 positive  0\n",
      "actual len  7919\n",
      "len of xtest  789\n",
      "pct_is_new                   float64\n",
      "n_secbiggest_anc             float64\n",
      "pct_of_secbiggest_anc_new    float64\n",
      "pct_top_5_anc                float64\n",
      "wrcr                         float64\n",
      "rcr_mid                      float64\n",
      "rcr_hi                       float64\n",
      "human                        float64\n",
      "animal                       float64\n",
      "molecular_cellular           float64\n",
      "is_clinical                  float64\n",
      "is_research_article          float64\n",
      "cited_by_clin                float64\n",
      "rage                         float64\n",
      "dtype: object\n",
      "hdhdhd before  239\n",
      "len of xtrain  236\n",
      "year   1987\n",
      "[1979 1990 1991 1993 1994 1997 1998 1999 2000 2006 2007 2008 2009 2010\n",
      " 2011 2012 2013 2014 2015 2016 2017 2018 2019]\n",
      "cv score  0.7853313353313354\n",
      "(789,)\n",
      "no of positive  247\n",
      "len of predy  130\n"
     ]
    },
    {
     "data": {
      "image/png": "[encoded data removed]",
      "text/plain": [
       "<Figure size 432x288 with 1 Axes>"
      ]
     },
     "metadata": {
      "needs_background": "light"
     },
     "output_type": "display_data"
    },
    {
     "name": "stdout",
     "output_type": "stream",
     "text": [
      "$$$  789   130\n",
      "total positive  130\n",
      "tp tn fp fn 0   0   0   0\n",
      "year  1987 positive  0\n",
      "actual len  8264\n",
      "len of xtest  820\n",
      "pct_is_new                   float64\n",
      "n_secbiggest_anc             float64\n",
      "pct_of_secbiggest_anc_new    float64\n",
      "pct_top_5_anc                float64\n",
      "wrcr                         float64\n",
      "rcr_mid                      float64\n",
      "rcr_hi                       float64\n",
      "human                        float64\n",
      "animal                       float64\n",
      "molecular_cellular           float64\n",
      "is_clinical                  float64\n",
      "is_research_article          float64\n",
      "cited_by_clin                float64\n",
      "rage                         float64\n",
      "dtype: object\n",
      "hdhdhd before  239\n",
      "len of xtrain  236\n",
      "year   1988\n",
      "[1979 1990 1991 1993 1994 1997 1998 1999 2000 2006 2007 2008 2009 2010\n",
      " 2011 2012 2013 2014 2015 2016 2017 2018 2019]\n",
      "cv score  0.7853313353313354\n",
      "(820,)\n",
      "no of positive  252\n",
      "len of predy  138\n"
     ]
    },
    {
     "data": {
      "image/png": "[encoded data removed]",
      "text/plain": [
       "<Figure size 432x288 with 1 Axes>"
      ]
     },
     "metadata": {
      "needs_background": "light"
     },
     "output_type": "display_data"
    },
    {
     "name": "stdout",
     "output_type": "stream",
     "text": [
      "$$$  820   138\n",
      "total positive  138\n",
      "tp tn fp fn 0   0   0   0\n",
      "year  1988 positive  0\n",
      "actual len  8697\n",
      "len of xtest  876\n",
      "pct_is_new                   float64\n",
      "n_secbiggest_anc             float64\n",
      "pct_of_secbiggest_anc_new    float64\n",
      "pct_top_5_anc                float64\n",
      "wrcr                         float64\n",
      "rcr_mid                      float64\n",
      "rcr_hi                       float64\n",
      "human                        float64\n",
      "animal                       float64\n",
      "molecular_cellular           float64\n",
      "is_clinical                  float64\n",
      "is_research_article          float64\n",
      "cited_by_clin                float64\n",
      "rage                         float64\n",
      "dtype: object\n",
      "hdhdhd before  239\n",
      "len of xtrain  236\n",
      "year   1989\n",
      "[1979 1990 1991 1993 1994 1997 1998 1999 2000 2006 2007 2008 2009 2010\n",
      " 2011 2012 2013 2014 2015 2016 2017 2018 2019]\n",
      "cv score  0.7853313353313354\n",
      "(876,)\n",
      "no of positive  267\n",
      "len of predy  142\n"
     ]
    },
    {
     "data": {
      "image/png": "[encoded data removed]",
      "text/plain": [
       "<Figure size 432x288 with 1 Axes>"
      ]
     },
     "metadata": {
      "needs_background": "light"
     },
     "output_type": "display_data"
    },
    {
     "name": "stdout",
     "output_type": "stream",
     "text": [
      "$$$  876   142\n",
      "total positive  142\n",
      "tp tn fp fn 0   0   0   0\n",
      "year  1989 positive  0\n",
      "actual len  9078\n",
      "len of xtest  925\n",
      "pct_is_new                   float64\n",
      "n_secbiggest_anc             float64\n",
      "pct_of_secbiggest_anc_new    float64\n",
      "pct_top_5_anc                float64\n",
      "wrcr                         float64\n",
      "rcr_mid                      float64\n",
      "rcr_hi                       float64\n",
      "human                        float64\n",
      "animal                       float64\n",
      "molecular_cellular           float64\n",
      "is_clinical                  float64\n",
      "is_research_article          float64\n",
      "cited_by_clin                float64\n",
      "rage                         float64\n",
      "dtype: object\n",
      "hdhdhd before  239\n",
      "len of xtrain  232\n",
      "year   1990\n",
      "[1979 1991 1993 1994 1997 1998 1999 2000 2006 2007 2008 2009 2010 2011\n",
      " 2012 2013 2014 2015 2016 2017 2018 2019]\n",
      "cv score  0.7566699966699966\n",
      "(925,)\n",
      "no of positive  301\n",
      "len of predy  162\n"
     ]
    },
    {
     "data": {
      "image/png": "[encoded data removed]",
      "text/plain": [
       "<Figure size 432x288 with 1 Axes>"
      ]
     },
     "metadata": {
      "needs_background": "light"
     },
     "output_type": "display_data"
    },
    {
     "name": "stdout",
     "output_type": "stream",
     "text": [
      "$$$  925   162\n",
      "total positive  162\n",
      "tp tn fp fn 1   1   0   0\n",
      "year  1990 positive  1\n",
      "actual len  9454\n",
      "len of xtest  971\n",
      "pct_is_new                   float64\n",
      "n_secbiggest_anc             float64\n",
      "pct_of_secbiggest_anc_new    float64\n",
      "pct_top_5_anc                float64\n",
      "wrcr                         float64\n",
      "rcr_mid                      float64\n",
      "rcr_hi                       float64\n",
      "human                        float64\n",
      "animal                       float64\n",
      "molecular_cellular           float64\n",
      "is_clinical                  float64\n",
      "is_research_article          float64\n",
      "cited_by_clin                float64\n",
      "rage                         float64\n",
      "dtype: object\n",
      "hdhdhd before  239\n",
      "len of xtrain  234\n",
      "year   1991\n",
      "[1979 1990 1993 1994 1997 1998 1999 2000 2006 2007 2008 2009 2010 2011\n",
      " 2012 2013 2014 2015 2016 2017 2018 2019]\n",
      "cv score  0.7628371628371627\n",
      "(971,)\n",
      "no of positive  287\n",
      "len of predy  150\n"
     ]
    },
    {
     "data": {
      "image/png": "[encoded data removed]",
      "text/plain": [
       "<Figure size 432x288 with 1 Axes>"
      ]
     },
     "metadata": {
      "needs_background": "light"
     },
     "output_type": "display_data"
    },
    {
     "name": "stdout",
     "output_type": "stream",
     "text": [
      "$$$  971   150\n",
      "total positive  150\n",
      "tp tn fp fn 0   0   0   0\n",
      "year  1991 positive  0\n",
      "actual len  9811\n",
      "len of xtest  1029\n",
      "pct_is_new                   float64\n",
      "n_secbiggest_anc             float64\n",
      "pct_of_secbiggest_anc_new    float64\n",
      "pct_top_5_anc                float64\n",
      "wrcr                         float64\n",
      "rcr_mid                      float64\n",
      "rcr_hi                       float64\n",
      "human                        float64\n",
      "animal                       float64\n",
      "molecular_cellular           float64\n",
      "is_clinical                  float64\n",
      "is_research_article          float64\n",
      "cited_by_clin                float64\n",
      "rage                         float64\n",
      "dtype: object\n",
      "hdhdhd before  239\n",
      "len of xtrain  236\n",
      "year   1992\n",
      "[1979 1990 1991 1993 1994 1997 1998 1999 2000 2006 2007 2008 2009 2010\n",
      " 2011 2012 2013 2014 2015 2016 2017 2018 2019]\n",
      "cv score  0.7853313353313354\n",
      "(1029,)\n",
      "no of positive  321\n",
      "len of predy  172\n"
     ]
    },
    {
     "data": {
      "image/png": "[encoded data removed]",
      "text/plain": [
       "<Figure size 432x288 with 1 Axes>"
      ]
     },
     "metadata": {
      "needs_background": "light"
     },
     "output_type": "display_data"
    },
    {
     "name": "stdout",
     "output_type": "stream",
     "text": [
      "$$$  1029   172\n",
      "total positive  172\n",
      "tp tn fp fn 0   0   0   0\n",
      "year  1992 positive  0\n",
      "actual len  10147\n",
      "len of xtest  1102\n",
      "pct_is_new                   float64\n",
      "n_secbiggest_anc             float64\n",
      "pct_of_secbiggest_anc_new    float64\n",
      "pct_top_5_anc                float64\n",
      "wrcr                         float64\n",
      "rcr_mid                      float64\n",
      "rcr_hi                       float64\n",
      "human                        float64\n",
      "animal                       float64\n",
      "molecular_cellular           float64\n",
      "is_clinical                  float64\n",
      "is_research_article          float64\n",
      "cited_by_clin                float64\n",
      "rage                         float64\n",
      "dtype: object\n",
      "hdhdhd before  239\n",
      "len of xtrain  232\n",
      "year   1993\n",
      "[1979 1990 1991 1994 1997 1998 1999 2000 2006 2007 2008 2009 2010 2011\n",
      " 2012 2013 2014 2015 2016 2017 2018 2019]\n",
      "cv score  0.7730902430902431\n",
      "(1102,)\n",
      "no of positive  315\n",
      "len of predy  169\n"
     ]
    },
    {
     "data": {
      "image/png": "[encoded data removed]",
      "text/plain": [
       "<Figure size 432x288 with 1 Axes>"
      ]
     },
     "metadata": {
      "needs_background": "light"
     },
     "output_type": "display_data"
    },
    {
     "name": "stdout",
     "output_type": "stream",
     "text": [
      "$$$  1102   169\n",
      "total positive  169\n",
      "tp tn fp fn 0   0   0   1\n",
      "year  1993 positive  1\n",
      "actual len  10562\n",
      "len of xtest  1182\n",
      "pct_is_new                   float64\n",
      "n_secbiggest_anc             float64\n",
      "pct_of_secbiggest_anc_new    float64\n",
      "pct_top_5_anc                float64\n",
      "wrcr                         float64\n",
      "rcr_mid                      float64\n",
      "rcr_hi                       float64\n",
      "human                        float64\n",
      "animal                       float64\n",
      "molecular_cellular           float64\n",
      "is_clinical                  float64\n",
      "is_research_article          float64\n",
      "cited_by_clin                float64\n",
      "rage                         float64\n",
      "dtype: object\n",
      "hdhdhd before  239\n",
      "len of xtrain  232\n",
      "year   1994\n",
      "[1979 1990 1991 1993 1997 1998 1999 2000 2006 2007 2008 2009 2010 2011\n",
      " 2012 2013 2014 2015 2016 2017 2018 2019]\n",
      "cv score  0.7597569097569099\n",
      "(1182,)\n",
      "no of positive  343\n",
      "len of predy  188\n"
     ]
    },
    {
     "data": {
      "image/png": "[encoded data removed]",
      "text/plain": [
       "<Figure size 432x288 with 1 Axes>"
      ]
     },
     "metadata": {
      "needs_background": "light"
     },
     "output_type": "display_data"
    },
    {
     "name": "stdout",
     "output_type": "stream",
     "text": [
      "$$$  1182   188\n",
      "total positive  188\n",
      "tp tn fp fn 1   1   0   1\n",
      "year  1994 positive  2\n",
      "actual len  11060\n",
      "len of xtest  1302\n",
      "pct_is_new                   float64\n",
      "n_secbiggest_anc             float64\n",
      "pct_of_secbiggest_anc_new    float64\n",
      "pct_top_5_anc                float64\n",
      "wrcr                         float64\n",
      "rcr_mid                      float64\n",
      "rcr_hi                       float64\n",
      "human                        float64\n",
      "animal                       float64\n",
      "molecular_cellular           float64\n",
      "is_clinical                  float64\n",
      "is_research_article          float64\n",
      "cited_by_clin                float64\n",
      "rage                         float64\n",
      "dtype: object\n",
      "hdhdhd before  239\n",
      "len of xtrain  236\n",
      "year   1995\n",
      "[1979 1990 1991 1993 1994 1997 1998 1999 2000 2006 2007 2008 2009 2010\n",
      " 2011 2012 2013 2014 2015 2016 2017 2018 2019]\n",
      "cv score  0.7853313353313354\n",
      "(1302,)\n",
      "no of positive  395\n",
      "len of predy  222\n"
     ]
    },
    {
     "data": {
      "image/png": "[encoded data removed]",
      "text/plain": [
       "<Figure size 432x288 with 1 Axes>"
      ]
     },
     "metadata": {
      "needs_background": "light"
     },
     "output_type": "display_data"
    },
    {
     "name": "stdout",
     "output_type": "stream",
     "text": [
      "$$$  1302   222\n",
      "total positive  222\n",
      "tp tn fp fn 0   0   0   0\n",
      "year  1995 positive  0\n",
      "actual len  11465\n",
      "len of xtest  1393\n",
      "pct_is_new                   float64\n",
      "n_secbiggest_anc             float64\n",
      "pct_of_secbiggest_anc_new    float64\n",
      "pct_top_5_anc                float64\n",
      "wrcr                         float64\n",
      "rcr_mid                      float64\n",
      "rcr_hi                       float64\n",
      "human                        float64\n",
      "animal                       float64\n",
      "molecular_cellular           float64\n",
      "is_clinical                  float64\n",
      "is_research_article          float64\n",
      "cited_by_clin                float64\n",
      "rage                         float64\n",
      "dtype: object\n",
      "hdhdhd before  239\n",
      "len of xtrain  236\n",
      "year   1996\n",
      "[1979 1990 1991 1993 1994 1997 1998 1999 2000 2006 2007 2008 2009 2010\n",
      " 2011 2012 2013 2014 2015 2016 2017 2018 2019]\n",
      "cv score  0.7853313353313354\n",
      "(1393,)\n",
      "no of positive  441\n",
      "len of predy  250\n"
     ]
    },
    {
     "data": {
      "image/png": "[encoded data removed]",
      "text/plain": [
       "<Figure size 432x288 with 1 Axes>"
      ]
     },
     "metadata": {
      "needs_background": "light"
     },
     "output_type": "display_data"
    },
    {
     "name": "stdout",
     "output_type": "stream",
     "text": [
      "$$$  1393   250\n",
      "total positive  250\n",
      "tp tn fp fn 0   0   0   0\n",
      "year  1996 positive  0\n",
      "actual len  11872\n",
      "len of xtest  1495\n",
      "pct_is_new                   float64\n",
      "n_secbiggest_anc             float64\n",
      "pct_of_secbiggest_anc_new    float64\n",
      "pct_top_5_anc                float64\n",
      "wrcr                         float64\n",
      "rcr_mid                      float64\n",
      "rcr_hi                       float64\n",
      "human                        float64\n",
      "animal                       float64\n",
      "molecular_cellular           float64\n",
      "is_clinical                  float64\n",
      "is_research_article          float64\n",
      "cited_by_clin                float64\n",
      "rage                         float64\n",
      "dtype: object\n",
      "hdhdhd before  239\n",
      "len of xtrain  234\n",
      "year   1997\n",
      "[1979 1990 1991 1993 1994 1998 1999 2000 2006 2007 2008 2009 2010 2011\n",
      " 2012 2013 2014 2015 2016 2017 2018 2019]\n",
      "cv score  0.7711704961704962\n",
      "(1495,)\n",
      "no of positive  473\n",
      "len of predy  262\n"
     ]
    },
    {
     "data": {
      "image/png": "[encoded data removed]",
      "text/plain": [
       "<Figure size 432x288 with 1 Axes>"
      ]
     },
     "metadata": {
      "needs_background": "light"
     },
     "output_type": "display_data"
    },
    {
     "name": "stdout",
     "output_type": "stream",
     "text": [
      "$$$  1495   262\n",
      "total positive  262\n",
      "tp tn fp fn 0   0   0   1\n",
      "year  1997 positive  1\n",
      "actual len  12265\n",
      "len of xtest  1595\n",
      "pct_is_new                   float64\n",
      "n_secbiggest_anc             float64\n",
      "pct_of_secbiggest_anc_new    float64\n",
      "pct_top_5_anc                float64\n",
      "wrcr                         float64\n",
      "rcr_mid                      float64\n",
      "rcr_hi                       float64\n",
      "human                        float64\n",
      "animal                       float64\n",
      "molecular_cellular           float64\n",
      "is_clinical                  float64\n",
      "is_research_article          float64\n",
      "cited_by_clin                float64\n",
      "rage                         float64\n",
      "dtype: object\n",
      "hdhdhd before  239\n",
      "len of xtrain  234\n",
      "year   1998\n",
      "[1979 1990 1991 1993 1994 1997 1999 2000 2006 2007 2008 2009 2010 2011\n",
      " 2012 2013 2014 2015 2016 2017 2018 2019]\n",
      "cv score  0.7658674658674658\n",
      "(1595,)\n",
      "no of positive  516\n",
      "len of predy  298\n"
     ]
    },
    {
     "data": {
      "image/png": "[encoded data removed]",
      "text/plain": [
       "<Figure size 432x288 with 1 Axes>"
      ]
     },
     "metadata": {
      "needs_background": "light"
     },
     "output_type": "display_data"
    },
    {
     "name": "stdout",
     "output_type": "stream",
     "text": [
      "$$$  1595   298\n",
      "total positive  298\n",
      "tp tn fp fn 0   0   0   1\n",
      "year  1998 positive  1\n",
      "actual len  12697\n",
      "len of xtest  1663\n",
      "pct_is_new                   float64\n",
      "n_secbiggest_anc             float64\n",
      "pct_of_secbiggest_anc_new    float64\n",
      "pct_top_5_anc                float64\n",
      "wrcr                         float64\n",
      "rcr_mid                      float64\n",
      "rcr_hi                       float64\n",
      "human                        float64\n",
      "animal                       float64\n",
      "molecular_cellular           float64\n",
      "is_clinical                  float64\n",
      "is_research_article          float64\n",
      "cited_by_clin                float64\n",
      "rage                         float64\n",
      "dtype: object\n",
      "hdhdhd before  239\n",
      "len of xtrain  232\n",
      "year   1999\n",
      "[1979 1990 1991 1993 1994 1997 1998 2000 2006 2007 2008 2009 2010 2011\n",
      " 2012 2013 2014 2015 2016 2017 2018 2019]\n",
      "cv score  0.7686396936396936\n",
      "(1663,)\n",
      "no of positive  551\n",
      "len of predy  313\n"
     ]
    },
    {
     "data": {
      "image/png": "[encoded data removed]",
      "text/plain": [
       "<Figure size 432x288 with 1 Axes>"
      ]
     },
     "metadata": {
      "needs_background": "light"
     },
     "output_type": "display_data"
    },
    {
     "name": "stdout",
     "output_type": "stream",
     "text": [
      "$$$  1663   313\n",
      "total positive  313\n",
      "tp tn fp fn 1   1   0   1\n",
      "year  1999 positive  2\n",
      "actual len  13164\n",
      "len of xtest  1716\n",
      "pct_is_new                   float64\n",
      "n_secbiggest_anc             float64\n",
      "pct_of_secbiggest_anc_new    float64\n",
      "pct_top_5_anc                float64\n",
      "wrcr                         float64\n",
      "rcr_mid                      float64\n",
      "rcr_hi                       float64\n",
      "human                        float64\n",
      "animal                       float64\n",
      "molecular_cellular           float64\n",
      "is_clinical                  float64\n",
      "is_research_article          float64\n",
      "cited_by_clin                float64\n",
      "rage                         float64\n",
      "dtype: object\n",
      "hdhdhd before  239\n",
      "len of xtrain  232\n",
      "year   2000\n",
      "[1979 1990 1991 1993 1994 1997 1998 1999 2006 2007 2008 2009 2010 2011\n",
      " 2012 2013 2014 2015 2016 2017 2018 2019]\n",
      "cv score  0.7708619158619159\n",
      "(1716,)\n",
      "no of positive  582\n",
      "len of predy  322\n"
     ]
    },
    {
     "data": {
      "image/png": "[encoded data removed]",
      "text/plain": [
       "<Figure size 432x288 with 1 Axes>"
      ]
     },
     "metadata": {
      "needs_background": "light"
     },
     "output_type": "display_data"
    },
    {
     "name": "stdout",
     "output_type": "stream",
     "text": [
      "$$$  1716   322\n",
      "total positive  322\n",
      "tp tn fp fn 1   1   0   1\n",
      "year  2000 positive  2\n",
      "actual len  13742\n",
      "len of xtest  1797\n",
      "pct_is_new                   float64\n",
      "n_secbiggest_anc             float64\n",
      "pct_of_secbiggest_anc_new    float64\n",
      "pct_top_5_anc                float64\n",
      "wrcr                         float64\n",
      "rcr_mid                      float64\n",
      "rcr_hi                       float64\n",
      "human                        float64\n",
      "animal                       float64\n",
      "molecular_cellular           float64\n",
      "is_clinical                  float64\n",
      "is_research_article          float64\n",
      "cited_by_clin                float64\n",
      "rage                         float64\n",
      "dtype: object\n",
      "hdhdhd before  239\n",
      "len of xtrain  236\n",
      "year   2001\n",
      "[1979 1990 1991 1993 1994 1997 1998 1999 2000 2006 2007 2008 2009 2010\n",
      " 2011 2012 2013 2014 2015 2016 2017 2018 2019]\n",
      "cv score  0.7853313353313354\n",
      "(1797,)\n",
      "no of positive  609\n",
      "len of predy  352\n"
     ]
    },
    {
     "data": {
      "image/png": "[encoded data removed]",
      "text/plain": [
       "<Figure size 432x288 with 1 Axes>"
      ]
     },
     "metadata": {
      "needs_background": "light"
     },
     "output_type": "display_data"
    },
    {
     "name": "stdout",
     "output_type": "stream",
     "text": [
      "$$$  1797   352\n",
      "total positive  352\n",
      "tp tn fp fn 0   0   0   0\n",
      "year  2001 positive  0\n",
      "actual len  14273\n",
      "len of xtest  1798\n",
      "pct_is_new                   float64\n",
      "n_secbiggest_anc             float64\n",
      "pct_of_secbiggest_anc_new    float64\n",
      "pct_top_5_anc                float64\n",
      "wrcr                         float64\n",
      "rcr_mid                      float64\n",
      "rcr_hi                       float64\n",
      "human                        float64\n",
      "animal                       float64\n",
      "molecular_cellular           float64\n",
      "is_clinical                  float64\n",
      "is_research_article          float64\n",
      "cited_by_clin                float64\n",
      "rage                         float64\n",
      "dtype: object\n",
      "hdhdhd before  239\n",
      "len of xtrain  236\n",
      "year   2002\n",
      "[1979 1990 1991 1993 1994 1997 1998 1999 2000 2006 2007 2008 2009 2010\n",
      " 2011 2012 2013 2014 2015 2016 2017 2018 2019]\n",
      "cv score  0.7853313353313354\n",
      "(1798,)\n",
      "no of positive  621\n",
      "len of predy  339\n"
     ]
    },
    {
     "data": {
      "image/png": "[encoded data removed]",
      "text/plain": [
       "<Figure size 432x288 with 1 Axes>"
      ]
     },
     "metadata": {
      "needs_background": "light"
     },
     "output_type": "display_data"
    },
    {
     "name": "stdout",
     "output_type": "stream",
     "text": [
      "$$$  1798   339\n",
      "total positive  339\n",
      "tp tn fp fn 0   0   0   0\n",
      "year  2002 positive  0\n",
      "actual len  14913\n",
      "len of xtest  1842\n",
      "pct_is_new                   float64\n",
      "n_secbiggest_anc             float64\n",
      "pct_of_secbiggest_anc_new    float64\n",
      "pct_top_5_anc                float64\n",
      "wrcr                         float64\n",
      "rcr_mid                      float64\n",
      "rcr_hi                       float64\n",
      "human                        float64\n",
      "animal                       float64\n",
      "molecular_cellular           float64\n",
      "is_clinical                  float64\n",
      "is_research_article          float64\n",
      "cited_by_clin                float64\n",
      "rage                         float64\n",
      "dtype: object\n",
      "hdhdhd before  239\n",
      "len of xtrain  236\n",
      "year   2003\n",
      "[1979 1990 1991 1993 1994 1997 1998 1999 2000 2006 2007 2008 2009 2010\n",
      " 2011 2012 2013 2014 2015 2016 2017 2018 2019]\n",
      "cv score  0.7853313353313354\n",
      "(1842,)\n",
      "no of positive  624\n",
      "len of predy  370\n"
     ]
    },
    {
     "data": {
      "image/png": "[encoded data removed]",
      "text/plain": [
       "<Figure size 432x288 with 1 Axes>"
      ]
     },
     "metadata": {
      "needs_background": "light"
     },
     "output_type": "display_data"
    },
    {
     "name": "stdout",
     "output_type": "stream",
     "text": [
      "$$$  1842   370\n",
      "total positive  370\n",
      "tp tn fp fn 0   0   0   0\n",
      "year  2003 positive  0\n",
      "actual len  15526\n",
      "len of xtest  1891\n",
      "pct_is_new                   float64\n",
      "n_secbiggest_anc             float64\n",
      "pct_of_secbiggest_anc_new    float64\n",
      "pct_top_5_anc                float64\n",
      "wrcr                         float64\n",
      "rcr_mid                      float64\n",
      "rcr_hi                       float64\n",
      "human                        float64\n",
      "animal                       float64\n",
      "molecular_cellular           float64\n",
      "is_clinical                  float64\n",
      "is_research_article          float64\n",
      "cited_by_clin                float64\n",
      "rage                         float64\n",
      "dtype: object\n",
      "hdhdhd before  239\n",
      "len of xtrain  236\n",
      "year   2004\n",
      "[1979 1990 1991 1993 1994 1997 1998 1999 2000 2006 2007 2008 2009 2010\n",
      " 2011 2012 2013 2014 2015 2016 2017 2018 2019]\n",
      "cv score  0.7853313353313354\n",
      "(1891,)\n",
      "no of positive  640\n",
      "len of predy  381\n"
     ]
    },
    {
     "data": {
      "image/png": "[encoded data removed]",
      "text/plain": [
       "<Figure size 432x288 with 1 Axes>"
      ]
     },
     "metadata": {
      "needs_background": "light"
     },
     "output_type": "display_data"
    },
    {
     "name": "stdout",
     "output_type": "stream",
     "text": [
      "$$$  1891   381\n",
      "total positive  381\n",
      "tp tn fp fn 0   0   0   0\n",
      "year  2004 positive  0\n",
      "actual len  16147\n",
      "len of xtest  1936\n",
      "pct_is_new                   float64\n",
      "n_secbiggest_anc             float64\n",
      "pct_of_secbiggest_anc_new    float64\n",
      "pct_top_5_anc                float64\n",
      "wrcr                         float64\n",
      "rcr_mid                      float64\n",
      "rcr_hi                       float64\n",
      "human                        float64\n",
      "animal                       float64\n",
      "molecular_cellular           float64\n",
      "is_clinical                  float64\n",
      "is_research_article          float64\n",
      "cited_by_clin                float64\n",
      "rage                         float64\n",
      "dtype: object\n",
      "hdhdhd before  239\n",
      "len of xtrain  236\n",
      "year   2005\n",
      "[1979 1990 1991 1993 1994 1997 1998 1999 2000 2006 2007 2008 2009 2010\n",
      " 2011 2012 2013 2014 2015 2016 2017 2018 2019]\n",
      "cv score  0.7853313353313354\n",
      "(1936,)\n",
      "no of positive  671\n",
      "len of predy  407\n"
     ]
    },
    {
     "data": {
      "image/png": "[encoded data removed]",
      "text/plain": [
       "<Figure size 432x288 with 1 Axes>"
      ]
     },
     "metadata": {
      "needs_background": "light"
     },
     "output_type": "display_data"
    },
    {
     "name": "stdout",
     "output_type": "stream",
     "text": [
      "$$$  1936   407\n",
      "total positive  407\n",
      "tp tn fp fn 0   0   0   0\n",
      "year  2005 positive  0\n",
      "actual len  16741\n",
      "len of xtest  1978\n",
      "pct_is_new                   float64\n",
      "n_secbiggest_anc             float64\n",
      "pct_of_secbiggest_anc_new    float64\n",
      "pct_top_5_anc                float64\n",
      "wrcr                         float64\n",
      "rcr_mid                      float64\n",
      "rcr_hi                       float64\n",
      "human                        float64\n",
      "animal                       float64\n",
      "molecular_cellular           float64\n",
      "is_clinical                  float64\n",
      "is_research_article          float64\n",
      "cited_by_clin                float64\n",
      "rage                         float64\n",
      "dtype: object\n",
      "hdhdhd before  239\n",
      "len of xtrain  232\n",
      "year   2006\n",
      "[1979 1990 1991 1993 1994 1997 1998 1999 2000 2007 2008 2009 2010 2011\n",
      " 2012 2013 2014 2015 2016 2017 2018 2019]\n",
      "cv score  0.7783799533799534\n",
      "(1978,)\n",
      "no of positive  705\n",
      "len of predy  411\n"
     ]
    },
    {
     "data": {
      "image/png": "[encoded data removed]",
      "text/plain": [
       "<Figure size 432x288 with 1 Axes>"
      ]
     },
     "metadata": {
      "needs_background": "light"
     },
     "output_type": "display_data"
    },
    {
     "name": "stdout",
     "output_type": "stream",
     "text": [
      "$$$  1978   411\n",
      "total positive  411\n",
      "tp tn fp fn 2   0   1   0\n",
      "year  2006 positive  2\n",
      "actual len  17387\n",
      "len of xtest  2023\n",
      "pct_is_new                   float64\n",
      "n_secbiggest_anc             float64\n",
      "pct_of_secbiggest_anc_new    float64\n",
      "pct_top_5_anc                float64\n",
      "wrcr                         float64\n",
      "rcr_mid                      float64\n",
      "rcr_hi                       float64\n",
      "human                        float64\n",
      "animal                       float64\n",
      "molecular_cellular           float64\n",
      "is_clinical                  float64\n",
      "is_research_article          float64\n",
      "cited_by_clin                float64\n",
      "rage                         float64\n",
      "dtype: object\n",
      "hdhdhd before  239\n",
      "len of xtrain  224\n",
      "year   2007\n",
      "[1979 1990 1991 1993 1994 1997 1998 1999 2000 2006 2008 2009 2010 2011\n",
      " 2012 2013 2014 2015 2016 2017 2018 2019]\n",
      "cv score  0.7690598290598291\n",
      "(2023,)\n",
      "no of positive  723\n",
      "len of predy  410\n"
     ]
    },
    {
     "data": {
      "image/png": "[encoded data removed]",
      "text/plain": [
       "<Figure size 432x288 with 1 Axes>"
      ]
     },
     "metadata": {
      "needs_background": "light"
     },
     "output_type": "display_data"
    },
    {
     "name": "stdout",
     "output_type": "stream",
     "text": [
      "$$$  2023   410\n",
      "total positive  410\n",
      "tp tn fp fn 3   0   0   1\n",
      "year  2007 positive  4\n",
      "actual len  17998\n",
      "len of xtest  2035\n",
      "pct_is_new                   float64\n",
      "n_secbiggest_anc             float64\n",
      "pct_of_secbiggest_anc_new    float64\n",
      "pct_top_5_anc                float64\n",
      "wrcr                         float64\n",
      "rcr_mid                      float64\n",
      "rcr_hi                       float64\n",
      "human                        float64\n",
      "animal                       float64\n",
      "molecular_cellular           float64\n",
      "is_clinical                  float64\n",
      "is_research_article          float64\n",
      "cited_by_clin                float64\n",
      "rage                         float64\n",
      "dtype: object\n",
      "hdhdhd before  239\n",
      "len of xtrain  234\n",
      "year   2008\n",
      "[1979 1990 1991 1993 1994 1997 1998 1999 2000 2006 2007 2009 2010 2011\n",
      " 2012 2013 2014 2015 2016 2017 2018 2019]\n",
      "cv score  0.7778371628371628\n",
      "(2035,)\n",
      "no of positive  681\n",
      "len of predy  371\n"
     ]
    },
    {
     "data": {
      "image/png": "[encoded data removed]",
      "text/plain": [
       "<Figure size 432x288 with 1 Axes>"
      ]
     },
     "metadata": {
      "needs_background": "light"
     },
     "output_type": "display_data"
    },
    {
     "name": "stdout",
     "output_type": "stream",
     "text": [
      "$$$  2035   371\n",
      "total positive  371\n",
      "tp tn fp fn 1   0   0   0\n",
      "year  2008 positive  1\n",
      "actual len  18746\n",
      "len of xtest  2105\n",
      "pct_is_new                   float64\n",
      "n_secbiggest_anc             float64\n",
      "pct_of_secbiggest_anc_new    float64\n",
      "pct_top_5_anc                float64\n",
      "wrcr                         float64\n",
      "rcr_mid                      float64\n",
      "rcr_hi                       float64\n",
      "human                        float64\n",
      "animal                       float64\n",
      "molecular_cellular           float64\n",
      "is_clinical                  float64\n",
      "is_research_article          float64\n",
      "cited_by_clin                float64\n",
      "rage                         float64\n",
      "dtype: object\n",
      "hdhdhd before  239\n",
      "len of xtrain  220\n",
      "year   2009\n",
      "[1979 1990 1991 1993 1994 1997 1998 1999 2000 2006 2007 2008 2010 2011\n",
      " 2012 2013 2014 2015 2016 2017 2018 2019]\n",
      "cv score  0.7677256077256078\n",
      "(2105,)\n",
      "no of positive  714\n",
      "len of predy  375\n"
     ]
    },
    {
     "data": {
      "image/png": "[encoded data removed]",
      "text/plain": [
       "<Figure size 432x288 with 1 Axes>"
      ]
     },
     "metadata": {
      "needs_background": "light"
     },
     "output_type": "display_data"
    },
    {
     "name": "stdout",
     "output_type": "stream",
     "text": [
      "$$$  2105   375\n",
      "total positive  375\n",
      "tp tn fp fn 6   2   1   1\n",
      "year  2009 positive  7\n",
      "actual len  19487\n",
      "len of xtest  2161\n",
      "pct_is_new                   float64\n",
      "n_secbiggest_anc             float64\n",
      "pct_of_secbiggest_anc_new    float64\n",
      "pct_top_5_anc                float64\n",
      "wrcr                         float64\n",
      "rcr_mid                      float64\n",
      "rcr_hi                       float64\n",
      "human                        float64\n",
      "animal                       float64\n",
      "molecular_cellular           float64\n",
      "is_clinical                  float64\n",
      "is_research_article          float64\n",
      "cited_by_clin                float64\n",
      "rage                         float64\n",
      "dtype: object\n",
      "hdhdhd before  239\n",
      "len of xtrain  216\n",
      "year   2010\n",
      "[1979 1990 1991 1993 1994 1997 1998 1999 2000 2006 2007 2008 2009 2011\n",
      " 2012 2013 2014 2015 2016 2017 2018 2019]\n",
      "cv score  0.7431349206349206\n",
      "(2161,)\n",
      "no of positive  723\n",
      "len of predy  381\n"
     ]
    },
    {
     "data": {
      "image/png": "[encoded data removed]",
      "text/plain": [
       "<Figure size 432x288 with 1 Axes>"
      ]
     },
     "metadata": {
      "needs_background": "light"
     },
     "output_type": "display_data"
    },
    {
     "name": "stdout",
     "output_type": "stream",
     "text": [
      "$$$  2161   381\n",
      "total positive  381\n",
      "tp tn fp fn 8   6   1   0\n",
      "year  2010 positive  8\n",
      "actual len  20289\n",
      "len of xtest  2212\n",
      "pct_is_new                   float64\n",
      "n_secbiggest_anc             float64\n",
      "pct_of_secbiggest_anc_new    float64\n",
      "pct_top_5_anc                float64\n",
      "wrcr                         float64\n",
      "rcr_mid                      float64\n",
      "rcr_hi                       float64\n",
      "human                        float64\n",
      "animal                       float64\n",
      "molecular_cellular           float64\n",
      "is_clinical                  float64\n",
      "is_research_article          float64\n",
      "cited_by_clin                float64\n",
      "rage                         float64\n",
      "dtype: object\n",
      "hdhdhd before  239\n",
      "len of xtrain  203\n",
      "year   2011\n",
      "[1979 1990 1991 1993 1994 1997 1998 1999 2000 2006 2007 2008 2009 2010\n",
      " 2012 2013 2014 2015 2016 2017 2018 2019]\n",
      "cv score  0.7623737373737374\n",
      "(2212,)\n",
      "no of positive  785\n",
      "len of predy  420\n"
     ]
    },
    {
     "data": {
      "image/png": "[encoded data removed]",
      "text/plain": [
       "<Figure size 432x288 with 1 Axes>"
      ]
     },
     "metadata": {
      "needs_background": "light"
     },
     "output_type": "display_data"
    },
    {
     "name": "stdout",
     "output_type": "stream",
     "text": [
      "$$$  2212   420\n",
      "total positive  420\n",
      "tp tn fp fn 13   8   2   2\n",
      "year  2011 positive  15\n",
      "actual len  21155\n",
      "len of xtest  2276\n",
      "pct_is_new                   float64\n",
      "n_secbiggest_anc             float64\n",
      "pct_of_secbiggest_anc_new    float64\n",
      "pct_top_5_anc                float64\n",
      "wrcr                         float64\n",
      "rcr_mid                      float64\n",
      "rcr_hi                       float64\n",
      "human                        float64\n",
      "animal                       float64\n",
      "molecular_cellular           float64\n",
      "is_clinical                  float64\n",
      "is_research_article          float64\n",
      "cited_by_clin                float64\n",
      "rage                         float64\n",
      "dtype: object\n",
      "hdhdhd before  239\n",
      "len of xtrain  215\n",
      "year   2012\n",
      "[1979 1990 1991 1993 1994 1997 1998 1999 2000 2006 2007 2008 2009 2010\n",
      " 2011 2013 2014 2015 2016 2017 2018 2019]\n",
      "cv score  0.7702738927738928\n",
      "(2276,)\n",
      "no of positive  843\n",
      "len of predy  471\n"
     ]
    },
    {
     "data": {
      "image/png": "[encoded data removed]",
      "text/plain": [
       "<Figure size 432x288 with 1 Axes>"
      ]
     },
     "metadata": {
      "needs_background": "light"
     },
     "output_type": "display_data"
    },
    {
     "name": "stdout",
     "output_type": "stream",
     "text": [
      "$$$  2276   471\n",
      "total positive  471\n",
      "tp tn fp fn 6   1   4   4\n",
      "year  2012 positive  10\n",
      "actual len  22085\n",
      "len of xtest  2351\n",
      "pct_is_new                   float64\n",
      "n_secbiggest_anc             float64\n",
      "pct_of_secbiggest_anc_new    float64\n",
      "pct_top_5_anc                float64\n",
      "wrcr                         float64\n",
      "rcr_mid                      float64\n",
      "rcr_hi                       float64\n",
      "human                        float64\n",
      "animal                       float64\n",
      "molecular_cellular           float64\n",
      "is_clinical                  float64\n",
      "is_research_article          float64\n",
      "cited_by_clin                float64\n",
      "rage                         float64\n",
      "dtype: object\n",
      "hdhdhd before  239\n",
      "len of xtrain  218\n",
      "year   2013\n",
      "[1979 1990 1991 1993 1994 1997 1998 1999 2000 2006 2007 2008 2009 2010\n",
      " 2011 2012 2014 2015 2016 2017 2018 2019]\n",
      "cv score  0.7708649683649683\n",
      "(2351,)\n",
      "no of positive  923\n",
      "len of predy  523\n"
     ]
    },
    {
     "data": {
      "image/png": "[encoded data removed]",
      "text/plain": [
       "<Figure size 432x288 with 1 Axes>"
      ]
     },
     "metadata": {
      "needs_background": "light"
     },
     "output_type": "display_data"
    },
    {
     "name": "stdout",
     "output_type": "stream",
     "text": [
      "$$$  2351   523\n",
      "total positive  523\n",
      "tp tn fp fn 7   3   1   1\n",
      "year  2013 positive  8\n",
      "actual len  23101\n",
      "len of xtest  2451\n",
      "pct_is_new                   float64\n",
      "n_secbiggest_anc             float64\n",
      "pct_of_secbiggest_anc_new    float64\n",
      "pct_top_5_anc                float64\n",
      "wrcr                         float64\n",
      "rcr_mid                      float64\n",
      "rcr_hi                       float64\n",
      "human                        float64\n",
      "animal                       float64\n",
      "molecular_cellular           float64\n",
      "is_clinical                  float64\n",
      "is_research_article          float64\n",
      "cited_by_clin                float64\n",
      "rage                         float64\n",
      "dtype: object\n",
      "hdhdhd before  239\n",
      "len of xtrain  213\n",
      "year   2014\n",
      "[1979 1990 1991 1993 1994 1997 1998 1999 2000 2006 2007 2008 2009 2010\n",
      " 2011 2012 2013 2015 2016 2017 2018 2019]\n",
      "cv score  0.7699580974580975\n",
      "(2451,)\n",
      "no of positive  896\n",
      "len of predy  479\n"
     ]
    },
    {
     "data": {
      "image/png": "[encoded data removed]",
      "text/plain": [
       "<Figure size 432x288 with 1 Axes>"
      ]
     },
     "metadata": {
      "needs_background": "light"
     },
     "output_type": "display_data"
    },
    {
     "name": "stdout",
     "output_type": "stream",
     "text": [
      "$$$  2451   479\n",
      "total positive  479\n",
      "tp tn fp fn 7   5   1   4\n",
      "year  2014 positive  11\n",
      "actual len  24194\n",
      "len of xtest  2564\n",
      "pct_is_new                   float64\n",
      "n_secbiggest_anc             float64\n",
      "pct_of_secbiggest_anc_new    float64\n",
      "pct_top_5_anc                float64\n",
      "wrcr                         float64\n",
      "rcr_mid                      float64\n",
      "rcr_hi                       float64\n",
      "human                        float64\n",
      "animal                       float64\n",
      "molecular_cellular           float64\n",
      "is_clinical                  float64\n",
      "is_research_article          float64\n",
      "cited_by_clin                float64\n",
      "rage                         float64\n",
      "dtype: object\n",
      "hdhdhd before  239\n",
      "len of xtrain  223\n",
      "year   2015\n",
      "[1979 1990 1991 1993 1994 1997 1998 1999 2000 2006 2007 2008 2009 2010\n",
      " 2011 2012 2013 2014 2016 2017 2018 2019]\n",
      "cv score  0.791951936951937\n",
      "(2564,)\n",
      "no of positive  942\n",
      "len of predy  510\n"
     ]
    },
    {
     "data": {
      "image/png": "[encoded data removed]",
      "text/plain": [
       "<Figure size 432x288 with 1 Axes>"
      ]
     },
     "metadata": {
      "needs_background": "light"
     },
     "output_type": "display_data"
    },
    {
     "name": "stdout",
     "output_type": "stream",
     "text": [
      "$$$  2564   510\n",
      "total positive  510\n",
      "tp tn fp fn 3   1   0   2\n",
      "year  2015 positive  5\n",
      "actual len  25290\n",
      "len of xtest  2640\n",
      "pct_is_new                   float64\n",
      "n_secbiggest_anc             float64\n",
      "pct_of_secbiggest_anc_new    float64\n",
      "pct_top_5_anc                float64\n",
      "wrcr                         float64\n",
      "rcr_mid                      float64\n",
      "rcr_hi                       float64\n",
      "human                        float64\n",
      "animal                       float64\n",
      "molecular_cellular           float64\n",
      "is_clinical                  float64\n",
      "is_research_article          float64\n",
      "cited_by_clin                float64\n",
      "rage                         float64\n",
      "dtype: object\n",
      "hdhdhd before  239\n",
      "len of xtrain  222\n",
      "year   2016\n",
      "[1979 1990 1991 1993 1994 1997 1998 1999 2000 2006 2007 2008 2009 2010\n",
      " 2011 2012 2013 2014 2015 2017 2018 2019]\n",
      "cv score  0.7776862026862028\n",
      "(2640,)\n",
      "no of positive  954\n",
      "len of predy  542\n"
     ]
    },
    {
     "data": {
      "image/png": "[encoded data removed]",
      "text/plain": [
       "<Figure size 432x288 with 1 Axes>"
      ]
     },
     "metadata": {
      "needs_background": "light"
     },
     "output_type": "display_data"
    },
    {
     "name": "stdout",
     "output_type": "stream",
     "text": [
      "$$$  2640   542\n",
      "total positive  542\n",
      "tp tn fp fn 4   3   2   3\n",
      "year  2016 positive  7\n",
      "actual len  26499\n",
      "len of xtest  2728\n",
      "pct_is_new                   float64\n",
      "n_secbiggest_anc             float64\n",
      "pct_of_secbiggest_anc_new    float64\n",
      "pct_top_5_anc                float64\n",
      "wrcr                         float64\n",
      "rcr_mid                      float64\n",
      "rcr_hi                       float64\n",
      "human                        float64\n",
      "animal                       float64\n",
      "molecular_cellular           float64\n",
      "is_clinical                  float64\n",
      "is_research_article          float64\n",
      "cited_by_clin                float64\n",
      "rage                         float64\n",
      "dtype: object\n",
      "hdhdhd before  239\n",
      "len of xtrain  226\n",
      "year   2017\n",
      "[1979 1990 1991 1993 1994 1997 1998 1999 2000 2006 2007 2008 2009 2010\n",
      " 2011 2012 2013 2014 2015 2016 2018 2019]\n",
      "cv score  0.7813125763125763\n",
      "(2728,)\n",
      "no of positive  992\n",
      "len of predy  521\n"
     ]
    },
    {
     "data": {
      "image/png": "[encoded data removed]",
      "text/plain": [
       "<Figure size 432x288 with 1 Axes>"
      ]
     },
     "metadata": {
      "needs_background": "light"
     },
     "output_type": "display_data"
    },
    {
     "name": "stdout",
     "output_type": "stream",
     "text": [
      "$$$  2728   521\n",
      "total positive  521\n",
      "tp tn fp fn 5   0   1   0\n",
      "year  2017 positive  5\n",
      "actual len  27875\n",
      "len of xtest  2832\n",
      "pct_is_new                   float64\n",
      "n_secbiggest_anc             float64\n",
      "pct_of_secbiggest_anc_new    float64\n",
      "pct_top_5_anc                float64\n",
      "wrcr                         float64\n",
      "rcr_mid                      float64\n",
      "rcr_hi                       float64\n",
      "human                        float64\n",
      "animal                       float64\n",
      "molecular_cellular           float64\n",
      "is_clinical                  float64\n",
      "is_research_article          float64\n",
      "cited_by_clin                float64\n",
      "rage                         float64\n",
      "dtype: object\n",
      "hdhdhd before  239\n",
      "len of xtrain  222\n",
      "year   2018\n",
      "[1979 1990 1991 1993 1994 1997 1998 1999 2000 2006 2007 2008 2009 2010\n",
      " 2011 2012 2013 2014 2015 2016 2017 2019]\n",
      "cv score  0.7749317349317348\n",
      "(2832,)\n",
      "no of positive  904\n",
      "len of predy  465\n"
     ]
    },
    {
     "data": {
      "image/png": "[encoded data removed]",
      "text/plain": [
       "<Figure size 432x288 with 1 Axes>"
      ]
     },
     "metadata": {
      "needs_background": "light"
     },
     "output_type": "display_data"
    },
    {
     "name": "stdout",
     "output_type": "stream",
     "text": [
      "$$$  2832   465\n",
      "total positive  465\n",
      "tp tn fp fn 3   2   0   3\n",
      "year  2018 positive  6\n",
      "actual len  29230\n",
      "len of xtest  2977\n",
      "pct_is_new                   float64\n",
      "n_secbiggest_anc             float64\n",
      "pct_of_secbiggest_anc_new    float64\n",
      "pct_top_5_anc                float64\n",
      "wrcr                         float64\n",
      "rcr_mid                      float64\n",
      "rcr_hi                       float64\n",
      "human                        float64\n",
      "animal                       float64\n",
      "molecular_cellular           float64\n",
      "is_clinical                  float64\n",
      "is_research_article          float64\n",
      "cited_by_clin                float64\n",
      "rage                         float64\n",
      "dtype: object\n",
      "hdhdhd before  239\n",
      "len of xtrain  228\n",
      "year   2019\n",
      "[1979 1990 1991 1993 1994 1997 1998 1999 2000 2006 2007 2008 2009 2010\n",
      " 2011 2012 2013 2014 2015 2016 2017 2018]\n",
      "cv score  0.7860289710289711\n",
      "(2977,)\n",
      "no of positive  988\n",
      "len of predy  515\n"
     ]
    },
    {
     "data": {
      "image/png": "[encoded data removed]",
      "text/plain": [
       "<Figure size 432x288 with 1 Axes>"
      ]
     },
     "metadata": {
      "needs_background": "light"
     },
     "output_type": "display_data"
    },
    {
     "name": "stdout",
     "output_type": "stream",
     "text": [
      "$$$  2977   515\n",
      "total positive  515\n",
      "tp tn fp fn 0   3   0   2\n",
      "year  2019 positive  2\n",
      "actual len  30564\n",
      "len of xtest  3106\n",
      "pct_is_new                   float64\n",
      "n_secbiggest_anc             float64\n",
      "pct_of_secbiggest_anc_new    float64\n",
      "pct_top_5_anc                float64\n",
      "wrcr                         float64\n",
      "rcr_mid                      float64\n",
      "rcr_hi                       float64\n",
      "human                        float64\n",
      "animal                       float64\n",
      "molecular_cellular           float64\n",
      "is_clinical                  float64\n",
      "is_research_article          float64\n",
      "cited_by_clin                float64\n",
      "rage                         float64\n",
      "dtype: object\n",
      "hdhdhd before  239\n",
      "len of xtrain  236\n",
      "year   2020\n",
      "[1979 1990 1991 1993 1994 1997 1998 1999 2000 2006 2007 2008 2009 2010\n",
      " 2011 2012 2013 2014 2015 2016 2017 2018 2019]\n",
      "cv score  0.7853313353313354\n",
      "(3106,)\n",
      "no of positive  1048\n",
      "len of predy  554\n"
     ]
    },
    {
     "data": {
      "image/png": "[encoded data removed]",
      "text/plain": [
       "<Figure size 432x288 with 1 Axes>"
      ]
     },
     "metadata": {
      "needs_background": "light"
     },
     "output_type": "display_data"
    },
    {
     "name": "stdout",
     "output_type": "stream",
     "text": [
      "$$$  3106   554\n",
      "total positive  554\n",
      "tp tn fp fn 0   0   0   0\n",
      "year  2020 positive  0\n",
      "total pos  101  true pos  72  total false pos  294.51162790697674\n"
     ]
    }
   ],
   "source": [
    "##logistic regression\n",
    "def recall2(pred,th, yr):\n",
    "    data = pd.read_csv(\"data_84.csv\")\n",
    "    data = data[data['year'] == yr]\n",
    "    data = data[data['n'] > 100]\n",
    "    ll = 350\n",
    "    tot = 0\n",
    "    ress = pd.merge(data,pred,on='cluster', how = 'inner')\n",
    "    \n",
    "    tp,tn,fp, fn = 0,0,0,0\n",
    "    pred = pred.sort_values(by=['pred_log'], ascending = False)\n",
    "    res = pred.head(ll)\n",
    "    for ind in res.index:\n",
    "        cl = res['cluster'][ind]\n",
    "        dd = data[data['cluster'] == cl]\n",
    "        if len(dd) != 0:\n",
    "            dd = dd.to_numpy()\n",
    "            cls = dd[0][dd.shape[1] - 1]\n",
    "            if cls == 1:\n",
    "                tp += 1\n",
    "            else:\n",
    "                fp += 1\n",
    "        else:\n",
    "            fp += 1\n",
    "       \n",
    "    pred = pred[pred['pred_log'] >= th]\n",
    "    print(\"total positive \", ll)\n",
    "    print(\"tp fp\",tp,\" \",fp)\n",
    "    total_pos = len(ress[ress['class'] == 1])\n",
    "    print(\"year \",yr,\"positive \",total_pos)\n",
    "    \n",
    "    \n",
    "    return total_pos,tp,ll - tp\n",
    "\n",
    "def recall(pred,th, yr):\n",
    "    data = pd.read_csv(\"data_84.csv\")\n",
    "    data = data[data['year'] == yr]\n",
    "    data = data[data['n'] > 100]\n",
    "\n",
    "    tot = 0\n",
    "    res = pd.merge(data,pred,on='cluster', how = 'inner')\n",
    "    tp,tn,fp, fn = 0,0,0,0\n",
    "    for ind in res.index:\n",
    "        if res['class'][ind] == 1 and res['pred_log'][ind] >= th:\n",
    "            tp += 1\n",
    "        elif res['class'][ind] == 0 and res['pred_log'][ind] < th:\n",
    "            tn += 1\n",
    "        elif res['class'][ind] == 0 and res['pred_log'][ind] >= th:\n",
    "            fp += 1\n",
    "        elif res['class'][ind] == 1 and res['pred_log'][ind] < th:\n",
    "            fn += 1\n",
    "    pred = pred[pred['pred_log'] >= th]\n",
    "    print(\"total positive \", len(pred))\n",
    "    print(\"tp tn fp fn\",tp,\" \",tn,\" \",fp,\" \",fn)\n",
    "    total_pos = len(res[res['class'] == 1])\n",
    "    print(\"year \",yr,\"positive \",total_pos)\n",
    "    \n",
    "    \n",
    "    return total_pos,tp,len(pred[pred['pred_log'] >= th]) - tp\n",
    "\n",
    "\n",
    "def train(x_train):\n",
    "    \n",
    "    \n",
    "  \n",
    "    y_train = x_train['class']\n",
    "    \n",
    "    '''x_train = x_train.drop(['class','cluster','year','n','pct_dusted_ccn','pct_dusted_rmcl',\n",
    "                           'pct_in_secbiggest_anc','rcr_low','secbiggest_anc',\n",
    "                           'pct_of_biggest_anc_newish','pct_of_biggest_anc_new','n_clusts_90_anc','pct_of_secbiggest_anc'\n",
    "                           ,'pct_in_biggest_anc','biggest_anc','pct_of_secbiggest_anc_newish','n_secbiggest_anc'\n",
    "                            ], axis = 1)'''\n",
    "    \n",
    "    x_train[['wrcr','n_biggest_anc','n_secbiggest_anc','n_clusts_90_anc']] = minmax_scale(x_train[['wrcr','n_biggest_anc','n_secbiggest_anc','n_clusts_90_anc']])\n",
    "    x_train = x_train.drop(['cluster','year','n','pct_is_newish','pct_dusted_ccn','pct_dusted_rmcl','biggest_anc','pct_in_biggest_anc','pct_of_biggest_anc','pct_of_biggest_anc_new','pct_of_biggest_anc_newish','secbiggest_anc'], axis = 1)#$%\n",
    "    x_train = x_train.drop(['n_biggest_anc','nih','n_clusts_90_anc','pct_in_secbiggest_anc','pct_of_secbiggest_anc','pct_of_secbiggest_anc_newish','rcr_low','class'], axis = 1)\n",
    "\n",
    "    \n",
    "    '''x_train = x_train.drop(['class','cluster','year','n','pct_dusted_ccn','pct_dusted_rmcl',\n",
    "                           'pct_in_secbiggest_anc','rcr_low','secbiggest_anc',\n",
    "                           'pct_of_biggest_anc_newish','pct_of_biggest_anc_new','n_clusts_90_anc'\n",
    "                           ,'pct_in_biggest_anc','biggest_anc','pct_of_secbiggest_anc_newish'\n",
    "                           ], axis = 1)\n",
    "    \n",
    "    x_train[['pct_of_biggest_anc','pct_is_newish','wrcr']] = minmax_scale(x_train[[\n",
    "    'pct_of_biggest_anc','pct_is_newish','wrcr']])'''\n",
    "    \n",
    "    \n",
    "    \n",
    "    '''x_train[['wrcr','rcr_hi','rcr_mid','n_biggest_anc','n_secbiggest_anc','n_clusts_90_anc','pct_of_biggest_anc_new']] = minmax_scale(x_train[['wrcr','rcr_hi','rcr_mid','n_biggest_anc','n_secbiggest_anc','n_clusts_90_anc','pct_of_biggest_anc_new']])\n",
    "    x_train = x_train.drop(['cluster','year','n','pct_is_newish','pct_dusted_ccn','pct_dusted_rmcl','biggest_anc','pct_in_biggest_anc','pct_of_biggest_anc','pct_of_biggest_anc_new','pct_of_biggest_anc_newish','secbiggest_anc'], axis = 1)#$%\n",
    "    #x_train = x_train.drop(['pct_of_biggest_anc_new','pct_of_secbiggest_anc_new','animal','pct_is_newish'], axis = 1)\n",
    "    x_train = x_train.drop(['pct_in_secbiggest_anc','pct_of_secbiggest_anc','pct_of_secbiggest_anc_newish','rcr_low','class'], axis = 1)\n",
    "    '''\n",
    "    \n",
    "    y_train = np.array(y_train)\n",
    " \n",
    "    model = LogisticRegression(random_state=0, C = 10).fit(x_train,y_train) ##logistioc\n",
    "    \n",
    "    '''crossvalidation2(x_train, y_train)\n",
    "    print(model.intercept_, model.coef_, model.score(x_train, y_train))'''\n",
    "    scores = cross_val_score(model, x_train, y_train, cv=20,scoring = \"f1\")\n",
    "    print(\"cv score \", scores.mean())\n",
    "    return model\n",
    "    \n",
    "tot,tp,total_fp = 0,0,0\n",
    "yr = 1978\n",
    "\n",
    "while yr <= 2020:\n",
    "    \n",
    "    x_train = pd.read_csv(\"data_84.csv\")\n",
    "    x_test = pd.read_csv(\"~/Documents/PhD/project_nobel/boty/boty_dccites/features_prediction_\"+str(yr)+\".csv\")\n",
    "    print(\"actual len \",len(x_test))\n",
    "    x_test = x_test.dropna(axis=0)\n",
    "    \n",
    "    x_test = x_test[x_test['n'] > 100]\n",
    "    \n",
    "   \n",
    "    #x_test = x_test[x_test['n_biggest_anc'] >= 500]\n",
    "    x_test = x_test[x_test['rcr_hi'] >= 2.00]\n",
    "    x_test = x_test[x_test['cited_by_clin'] >= 0.050]\n",
    "    x_test = x_test[x_test['is_clinical'] >= 0.010] ##this one\n",
    "    x_test = x_test[x_test['animal'] >= 0.01]\n",
    "\n",
    "    #x_test = x_test[x_test['molecular_cellular'] >= 0.030] ##this one, with C = 1\n",
    "    #x_test = x_test[x_test['nih'] >= 0.025]\n",
    "    #x_test = x_test[x_test['human'] >= 0.25]\n",
    "    #x_test = x_test[x_test['rage'] >= 5]\n",
    "    #x_test = x_test[x_test['pct_is_new'] >= 0.09]\n",
    "    print(\"len of xtest \",len(x_test))\n",
    "       \n",
    "    copy_test = x_test.copy()\n",
    "    #print(x_test.tail(10))\n",
    "    \n",
    "    #x_test = x_test[x_test['is_research_article'] > 0.75]\n",
    "    \n",
    "    '''x_test = x_test.drop(['prediction','cluster','year','n',\n",
    "                           'pct_in_secbiggest_anc','rcr_low','secbiggest_anc',\n",
    "                           'pct_of_biggest_anc_newish','pct_of_biggest_anc_new','n_clusts_90_anc','pct_of_secbiggest_anc'\n",
    "                           ,'pct_in_biggest_anc','biggest_anc','pct_of_secbiggest_anc_newish','n_secbiggest_anc'\n",
    "                            ], axis = 1)'''\n",
    "    \n",
    "    x_test[['wrcr','n_biggest_anc','n_secbiggest_anc','n_clusts_90_anc']] = minmax_scale(x_test[['wrcr','n_biggest_anc','n_secbiggest_anc','n_clusts_90_anc']])\n",
    "    x_test = x_test.drop(['cluster','year','n','pct_is_newish','biggest_anc','pct_in_biggest_anc','pct_of_biggest_anc','pct_of_biggest_anc_new','pct_of_biggest_anc_newish','secbiggest_anc'], axis = 1)#$%\n",
    "    x_test = x_test.drop(['n_biggest_anc','nih','n_clusts_90_anc','pct_in_secbiggest_anc','pct_of_secbiggest_anc','pct_of_secbiggest_anc_newish','rcr_low','prediction'], axis = 1)\n",
    "\n",
    "    \n",
    "    '''x_test = x_test.drop(['prediction','cluster','year','n',\n",
    "                               'pct_in_secbiggest_anc','rcr_low','secbiggest_anc',\n",
    "                               'pct_of_biggest_anc_newish','pct_of_biggest_anc_new','n_clusts_90_anc'\n",
    "                               ,'pct_in_biggest_anc','biggest_anc','pct_of_secbiggest_anc_newish'\n",
    "                               ], axis = 1)\n",
    "    \n",
    "    x_test[['pct_of_biggest_anc','pct_is_newish','wrcr']] = minmax_scale(x_test[[\n",
    "    'pct_of_biggest_anc','pct_is_newish','wrcr']])'''\n",
    "    \n",
    "    print(x_test.dtypes)\n",
    "    '''x_test[['wrcr','rcr_hi','rcr_mid','n_biggest_anc','n_secbiggest_anc','n_clusts_90_anc','pct_of_biggest_anc_new']] = minmax_scale(x_test[['wrcr','rcr_hi','rcr_mid','n_biggest_anc','n_secbiggest_anc','n_clusts_90_anc','pct_of_biggest_anc_new']])\n",
    "    x_test = x_test.drop(['cluster','year','n','pct_is_newish','biggest_anc','pct_in_biggest_anc','pct_of_biggest_anc','pct_of_biggest_anc_new','pct_of_biggest_anc_newish','secbiggest_anc'], axis = 1)\n",
    "    x_test = x_test.drop(['prediction','pct_in_secbiggest_anc','pct_of_secbiggest_anc','pct_of_secbiggest_anc_newish','rcr_low'], axis=1)\n",
    "    '''\n",
    "    \n",
    "    \n",
    "    print(\"hdhdhd before \",len(x_train))\n",
    "    x_train = x_train[x_train['year'] != yr]\n",
    "    x_train = x_train[x_train['n'] > 100]\n",
    "\n",
    "    \n",
    "    #x_train = x_train[x_train['is_research_article'] > 0.75]\n",
    "    print('len of xtrain ', len(x_train))\n",
    "    print(\"year  \",yr)\n",
    "    print(x_train['year'].unique())\n",
    "\n",
    "    model = train(x_train)\n",
    "    \n",
    "    pred = model.predict(x_test)\n",
    "    print(pred.shape)\n",
    "    #print(np.sum(pred))\n",
    "    print(\"no of positive \",np.count_nonzero(pred == 1))\n",
    "    \n",
    "\n",
    "    \n",
    "    predy = model.predict_proba(x_test)\n",
    "    pred_test = []\n",
    "    for i in range(predy.shape[0]):\n",
    "        if predy[i][0] >= predy[i][1]:\n",
    "            #pred_test.append(0.00)\n",
    "            pred_test.append(predy[i][1])\n",
    "        else:\n",
    "            pred_test.append(predy[i][1])\n",
    "    \n",
    "    predy = pd.DataFrame(predy, columns = ['col_0','col_1'])\n",
    "    predy = predy[predy['col_1'] >= 0.65]\n",
    "    #print(\"len of df \", len(df))\n",
    "    print(\"len of predy \", len(predy))\n",
    "    \n",
    "    \n",
    "    \n",
    "    copy_test['pred_log'] = pred_test\n",
    "    copy_test['pred_log'].hist()\n",
    "    plt.show()\n",
    "    \n",
    "    \n",
    "    print(\"$$$ \",len(copy_test),\" \",len(copy_test[copy_test['pred_log'] >= 0.65]))\n",
    "    a, b,c = recall(copy_test,0.65, yr)\n",
    "    tot += a\n",
    "    tp += b\n",
    "    total_fp += c\n",
    "    yr += 1\n",
    "print(\"total pos \",tot,\" true pos \", tp,\" total false pos \",total_fp/43)"
   ]
  },
  {
   "cell_type": "code",
   "execution_count": null,
   "id": "ca4cb5b4",
   "metadata": {},
   "outputs": [],
   "source": []
  }
 ],
 "metadata": {
  "kernelspec": {
   "display_name": "Python 3 (ipykernel)",
   "language": "python",
   "name": "python3"
  },
  "language_info": {
   "codemirror_mode": {
    "name": "ipython",
    "version": 3
   },
   "file_extension": ".py",
   "mimetype": "text/x-python",
   "name": "python",
   "nbconvert_exporter": "python",
   "pygments_lexer": "ipython3",
   "version": "3.9.6"
  }
 },
 "nbformat": 4,
 "nbformat_minor": 5
}
