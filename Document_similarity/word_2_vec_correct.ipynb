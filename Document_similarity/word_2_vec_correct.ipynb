{
 "cells": [
  {
   "cell_type": "code",
   "execution_count": 1,
   "id": "c2277656",
   "metadata": {},
   "outputs": [],
   "source": [
    "import pandas as pd\n",
    "import numpy as np\n",
    "import h5py\n",
    "import tables\n",
    "from scipy.spatial import distance\n",
    "import matplotlib.pyplot as plt\n",
    "import random\n",
    "from sklearn.metrics.pairwise import cosine_similarity\n",
    "import seaborn as sns\n",
    "import matplotlib.pyplot as plt"
   ]
  },
  {
   "cell_type": "code",
   "execution_count": 2,
   "id": "1273c059",
   "metadata": {},
   "outputs": [],
   "source": [
    "def pair_article_cluster(filename):\n",
    "    hf = h5py.File(filename, 'r')\n",
    "    x1 = hf['unique_IDF']\n",
    "    ddf = pd.DataFrame()\n",
    "    cnt = 0\n",
    "    for key, val in x1.items():\n",
    "        df = pd.DataFrame()\n",
    "        x2 = x1[key]['_ref']\n",
    "        x2 = np.array(x2)\n",
    "        #print(x2)\n",
    "        #print(str(key))\n",
    "        x3 = x1[key]['V']\n",
    "        #print(np.array(x3))\n",
    "        \n",
    "        df['ref'] = x2\n",
    "        df['file'] = str(key)\n",
    "       \n",
    "        ddf = pd.concat([ddf, df], axis=0, ignore_index=True)\n",
    "        #cnt += 1\n",
    "        #if cnt == 2:\n",
    "    #break\n",
    "    hf.close()\n",
    "    return ddf\n",
    "ddf = pair_article_cluster('document_scores.h5')\n",
    "ddf.tail(5)\n",
    "ddf.to_csv(\"ref_file.csv\", index = False)"
   ]
  },
  {
   "cell_type": "code",
   "execution_count": 3,
   "id": "c74d2c3e",
   "metadata": {},
   "outputs": [],
   "source": [
    "data = pd.read_csv(\"ref_file.csv\")\n",
    "data = data.set_index('ref').to_dict()['file']"
   ]
  },
  {
   "cell_type": "code",
   "execution_count": 4,
   "id": "4a732edc",
   "metadata": {},
   "outputs": [],
   "source": [
    "data2 = pd.read_csv(\"idmap.csv\")\n",
    "data2 = data2.drop(['cluster'], axis = 1)\n",
    "data2 = data2.set_index('pmid').to_dict()['refid']"
   ]
  },
  {
   "cell_type": "code",
   "execution_count": 15,
   "id": "6bb91d96",
   "metadata": {},
   "outputs": [
    {
     "name": "stdout",
     "output_type": "stream",
     "text": [
      "year  2003\n",
      "selected cluster  2\n",
      "out\n",
      "year  2009\n",
      "selected cluster  3\n",
      "out\n",
      "year  2004\n",
      "selected cluster  1\n",
      "out\n",
      "year  2004\n",
      "selected cluster  5\n",
      "out\n",
      "year  2006\n",
      "selected cluster  4\n",
      "out\n",
      "year  2011\n",
      "selected cluster  1\n",
      "out\n",
      "year  2014\n",
      "selected cluster  9\n",
      "out\n",
      "year  2015\n",
      "selected cluster  4\n",
      "out\n",
      "year  2009\n",
      "selected cluster  0\n",
      "out\n",
      "year  2013\n",
      "selected cluster  8\n",
      "out\n",
      "year  2003\n",
      "selected cluster  2\n",
      "out\n",
      "year  2008\n",
      "selected cluster  7\n",
      "out\n",
      "year  2007\n",
      "selected cluster  3\n",
      "out\n",
      "year  2008\n",
      "selected cluster  5\n",
      "out\n",
      "year  2016\n",
      "selected cluster  3\n",
      "out\n",
      "year  2020\n",
      "selected cluster  4\n",
      "ohh no\n",
      "out\n",
      "year  2016\n",
      "selected cluster  9\n",
      "out\n",
      "year  2013\n",
      "selected cluster  1\n",
      "out\n",
      "year  2012\n",
      "selected cluster  9\n",
      "out\n",
      "year  2007\n",
      "selected cluster  8\n",
      "out\n",
      "year  2016\n",
      "selected cluster  2\n",
      "out\n",
      "ohh no\n",
      "year  2015\n",
      "selected cluster  8\n",
      "out\n",
      "year  2001\n",
      "selected cluster  4\n",
      "out\n",
      "year  2018\n",
      "selected cluster  7\n",
      "out\n",
      "year  2003\n",
      "selected cluster  7\n",
      "out\n",
      "year  2000\n",
      "selected cluster  9\n",
      "out\n",
      "year  2003\n",
      "selected cluster  2\n",
      "out\n",
      "year  2013\n",
      "selected cluster  7\n",
      "out\n",
      "year  2009\n",
      "selected cluster  0\n",
      "out\n",
      "year  2013\n",
      "selected cluster  6\n",
      "out\n",
      "year  2016\n",
      "selected cluster  9\n",
      "out\n",
      "year  2019\n",
      "selected cluster  4\n",
      "out\n",
      "year  2004\n",
      "selected cluster  6\n",
      "out\n",
      "year  2004\n",
      "selected cluster  3\n",
      "out\n",
      "year  2006\n",
      "selected cluster  4\n",
      "out\n",
      "year  2018\n",
      "selected cluster  0\n",
      "out\n",
      "year  2009\n",
      "selected cluster  2\n",
      "out\n",
      "year  2001\n",
      "selected cluster  2\n",
      "out\n",
      "year  2019\n",
      "selected cluster  5\n",
      "out\n",
      "ohh no\n",
      "year  2018\n",
      "selected cluster  7\n",
      "out\n",
      "year  2016\n",
      "selected cluster  5\n",
      "out\n",
      "year  2020\n",
      "selected cluster  8\n",
      "out\n",
      "year  2017\n",
      "selected cluster  3\n",
      "out\n",
      "year  2010\n",
      "selected cluster  7\n",
      "out\n",
      "year  2001\n",
      "selected cluster  1\n",
      "out\n",
      "year  2000\n",
      "selected cluster  1\n",
      "out\n",
      "year  2002\n",
      "selected cluster  2\n",
      "out\n",
      "year  2014\n",
      "selected cluster  5\n",
      "out\n",
      "year  2004\n",
      "selected cluster  3\n",
      "out\n",
      "year  2019\n",
      "selected cluster  0\n",
      "out\n",
      "year  2012\n",
      "selected cluster  0\n",
      "out\n",
      "ohh no\n",
      "2549  len indata\n",
      "2547  len outdata\n"
     ]
    }
   ],
   "source": [
    "def similarity_find(yr,in_cluster, pair):\n",
    "    hf = h5py.File('document_scores.h5', 'r')\n",
    "    x1 = hf['unique_IDF']\n",
    "    sim_tab = []\n",
    "    if in_cluster == 1:\n",
    "        dd = pd.read_csv(\"~/Documents/PhD/project_nobel/boty/boty_outcites/features_prediction_\"+str(yr)+\".csv\")\n",
    "        dd = dd.sort_values(by=['n'], ascending = False)\n",
    "        dd = dd.head(10)\n",
    "        dd = dd.sample(n=1)\n",
    "        #print(dd)\n",
    "        a = dd.iloc[0]['cluster']\n",
    "        cluster = int(a)\n",
    "        print(\"selected cluster \",cluster)\n",
    "        \n",
    "        leiden_tab = pd.read_csv(\"~/Documents/PhD/project_nobel/boty/boty_outcites/leiden_cluster_table_\"+str(yr)+\".tsv\", sep=\"\\t\")\n",
    "        leiden_tab = leiden_tab[leiden_tab['cl'] == cluster]\n",
    "        for i in range(pair):\n",
    "            p = leiden_tab.sample(n=2)\n",
    "            #print(\"inside\")\n",
    "            #print(p)\n",
    "            #print(p.iloc[0]['id'],\" : \",p.iloc[1]['id'])\n",
    "            art1 = p.iloc[0]['id']\n",
    "            art2 = p.iloc[1]['id']\n",
    "            \n",
    "            if art1 in data2:\n",
    "                ref1 = data2.get(art1)\n",
    "            else:\n",
    "                print(\"ohh no\")\n",
    "                continue\n",
    "    \n",
    "            if art2 in data2:\n",
    "                ref2 = data2.get(art2)\n",
    "            else:\n",
    "                print(\"ohh no\")\n",
    "                continue\n",
    "    \n",
    "            file1, file2 = \"\",\"\"\n",
    "            #print(art1,\" ** \",art2)\n",
    "            if ref1 in data:\n",
    "                file1 = data.get(ref1)\n",
    "                #print(\"oh yes\")\n",
    "            else:\n",
    "                #print(\"oh no\")\n",
    "                continue\n",
    "            if ref2 in data:\n",
    "                file2 = data.get(ref2)\n",
    "                #print(\"oh yes\")\n",
    "            else:\n",
    "                #print(\"oh no\")\n",
    "                continue\n",
    "            #print(\"file 1\",file1)\n",
    "            bbc1 = x1[file1]\n",
    "            ff1 = bbc1['_ref']\n",
    "            ff1 = np.array(ff1)\n",
    "            loc1 = np.where(ff1==ref1)[0][0]\n",
    "            arr1 = bbc1['V'][loc1]\n",
    "            #print(arr1)\n",
    "            \n",
    "            bbc2 = x1[file2]\n",
    "            ff2 = bbc2['_ref']\n",
    "            ff2 = np.array(ff2)\n",
    "            loc2 = np.where(ff2==ref2)[0][0]\n",
    "            arr2 = bbc2['V'][loc2]\n",
    "            #print(arr2)\n",
    "            #sim_tab.append(1.0-distance.cosine(arr1, arr2))\n",
    "            #sim_tab.append(cosine_similarity2(arr1, arr2))\n",
    "            \n",
    "            a1 = arr1.reshape(1, -1)\n",
    "            a2 = arr2.reshape(1, -1)\n",
    "            cs2 = cosine_similarity(a1, a2)\n",
    "            sim_tab.append((cs2[0][0]))\n",
    "        \n",
    "    else:\n",
    "        print(\"out\")\n",
    "        leiden_tab = pd.read_csv(\"~/Documents/PhD/project_nobel/boty/boty_outcites/leiden_cluster_table_\"+str(yr)+\".tsv\", sep=\"\\t\")\n",
    "        for i in range(pair):\n",
    "            p = leiden_tab.sample(n=2)\n",
    "            #print(p)\n",
    "            #print(p.iloc[0]['id'],\" : \",p.iloc[1]['id'])\n",
    "            art1 = p.iloc[0]['id']\n",
    "            art2 = p.iloc[1]['id']\n",
    "            \n",
    "            if art1 in data2:\n",
    "                ref1 = data2.get(art1)\n",
    "            else:\n",
    "                print(\"ohh no\")\n",
    "                continue\n",
    "    \n",
    "            if art2 in data2:\n",
    "                ref2 = data2.get(art2)\n",
    "            else:\n",
    "                print(\"ohh no\")\n",
    "                continue\n",
    "    \n",
    "            file1, file2 = \"\",\"\"\n",
    "            #print(art1,\" ** \",art2)\n",
    "            if ref1 in data:\n",
    "                file1 = data.get(ref1)\n",
    "                #print(\"oh yes\")\n",
    "            else:\n",
    "                #print(\"oh no\")\n",
    "                continue\n",
    "            if ref2 in data:\n",
    "                file2 = data.get(ref2)\n",
    "                #print(\"oh yes\")\n",
    "            else:\n",
    "                #print(\"oh no\")\n",
    "                continue\n",
    "            #print(\"file 1\",file1)\n",
    "            bbc1 = x1[file1]\n",
    "            ff1 = bbc1['_ref']\n",
    "            ff1 = np.array(ff1)\n",
    "            loc1 = np.where(ff1==ref1)[0][0]\n",
    "            arr1 = bbc1['V'][loc1]\n",
    "            #print(arr1)\n",
    "            \n",
    "            bbc2 = x1[file2]\n",
    "            ff2 = bbc2['_ref']\n",
    "            ff2 = np.array(ff2)\n",
    "            loc2 = np.where(ff2==ref2)[0][0]\n",
    "            arr2 = bbc2['V'][loc2]\n",
    "            #print(arr2)\n",
    "            #sim_tab.append(1.0-distance.cosine(arr1, arr2))\n",
    "            #sim_tab.append(cosine_similarity2(arr1, arr2))\n",
    "            \n",
    "            a1 = arr1.reshape(1, -1)\n",
    "            a2 = arr2.reshape(1, -1)\n",
    "            cs2 = cosine_similarity(a1, a2)\n",
    "            sim_tab.append((cs2[0][0]))\n",
    "            \n",
    "    hf.close()\n",
    "    return sim_tab\n",
    "        \n",
    "    \n",
    "cnt = 0\n",
    "inclus = []\n",
    "outclus = []\n",
    "while (cnt <= 50):\n",
    "    y = random.randint(2000, 2020)\n",
    "    print(\"year \",y)\n",
    "    sim_tab1 = similarity_find(yr = y, in_cluster = 1, pair = 50)\n",
    "    sim_tab1 = [x for x in sim_tab1 if x != 'nan']\n",
    "    #print(len(sim_tab1), \" simtab1\")\n",
    "    inclus = inclus + sim_tab1\n",
    "    \n",
    "\n",
    "    sim_tab2 = similarity_find(yr = y, in_cluster = 0, pair = 50)\n",
    "    sim_tab2 = [x for x in sim_tab2 if x != 'nan']\n",
    "    #print(len(sim_tab2), \" simtab2\")\n",
    "    outclus = outclus + sim_tab2\n",
    "    \n",
    "    cnt += 1\n",
    "indata = pd.DataFrame()\n",
    "indata['value'] = inclus\n",
    "\n",
    "outdata = pd.DataFrame()\n",
    "outdata['value'] = outclus\n",
    "indata.to_csv(\"indata_4.csv\", index = False)\n",
    "outdata.to_csv(\"outdata_4.csv\", index = False)\n",
    "print(len(indata),\" len indata\")\n",
    "print(len(outdata),\" len outdata\")\n",
    "#print(sim_tab1)"
   ]
  },
  {
   "cell_type": "code",
   "execution_count": 16,
   "id": "c9b6d971",
   "metadata": {},
   "outputs": [
    {
     "name": "stdout",
     "output_type": "stream",
     "text": [
      "length  2547\n"
     ]
    },
    {
     "data": {
      "text/plain": [
       "(array([ 24., 300., 966., 669., 319., 149.,  81.,  25.,   7.,   7.]),\n",
       " array([-0.22982495, -0.1439012 , -0.05797745,  0.02794629,  0.11387004,\n",
       "         0.19979378,  0.28571753,  0.37164127,  0.45756502,  0.54348877,\n",
       "         0.62941251]),\n",
       " <BarContainer object of 10 artists>)"
      ]
     },
     "execution_count": 16,
     "metadata": {},
     "output_type": "execute_result"
    },
    {
     "data": {
      "image/png": "[encoded data removed]",
      "text/plain": [
       "<Figure size 432x288 with 1 Axes>"
      ]
     },
     "metadata": {
      "needs_background": "light"
     },
     "output_type": "display_data"
    }
   ],
   "source": [
    "print(\"length \",len(outclus))\n",
    "plt.hist(outclus)"
   ]
  },
  {
   "cell_type": "code",
   "execution_count": 17,
   "id": "27ff67dd",
   "metadata": {},
   "outputs": [
    {
     "name": "stdout",
     "output_type": "stream",
     "text": [
      "length  2549\n"
     ]
    },
    {
     "data": {
      "text/plain": [
       "(array([  1.,  42.,  95., 238., 398., 535., 549., 432., 219.,  40.]),\n",
       " array([-0.2006012 , -0.09145151,  0.01769818,  0.12684788,  0.23599757,\n",
       "         0.34514726,  0.45429695,  0.56344664,  0.67259633,  0.78174602,\n",
       "         0.89089571]),\n",
       " <BarContainer object of 10 artists>)"
      ]
     },
     "execution_count": 17,
     "metadata": {},
     "output_type": "execute_result"
    },
    {
     "data": {
      "image/png": "[encoded data removed]",
      "text/plain": [
       "<Figure size 432x288 with 1 Axes>"
      ]
     },
     "metadata": {
      "needs_background": "light"
     },
     "output_type": "display_data"
    }
   ],
   "source": [
    "print(\"length \",len(inclus))\n",
    "plt.hist(inclus)"
   ]
  },
  {
   "cell_type": "code",
   "execution_count": 2,
   "id": "1575d5f7",
   "metadata": {},
   "outputs": [
    {
     "name": "stdout",
     "output_type": "stream",
     "text": [
      "10190\n",
      "10195\n"
     ]
    }
   ],
   "source": [
    "d1 = pd.read_csv(\"indata_1.csv\")\n",
    "#print(len(d1))\n",
    "dd = pd.read_csv(\"indata_2.csv\")\n",
    "#print(len(dd))\n",
    "d1 = pd.concat([d1, dd], axis=0, ignore_index=True)\n",
    "#print(len(d1))\n",
    "dd = pd.read_csv(\"indata_3.csv\")\n",
    "d1 = pd.concat([d1, dd], axis=0, ignore_index=True)\n",
    "#print(len(d1))\n",
    "dd = pd.read_csv(\"indata_4.csv\")\n",
    "d1 = pd.concat([d1, dd], axis=0, ignore_index=True)\n",
    "print(len(d1))\n",
    "\n",
    "\n",
    "d2 = pd.read_csv(\"outdata_1.csv\")\n",
    "dd = pd.read_csv(\"outdata_2.csv\")\n",
    "d2 = pd.concat([d2, dd], axis=0, ignore_index=True)\n",
    "dd = pd.read_csv(\"outdata_3.csv\")\n",
    "d2 = pd.concat([d2, dd], axis=0, ignore_index=True)\n",
    "dd = pd.read_csv(\"outdata_4.csv\")\n",
    "d2 = pd.concat([d2, dd], axis=0, ignore_index=True)\n",
    "print(len(d2))"
   ]
  },
  {
   "cell_type": "code",
   "execution_count": 4,
   "id": "f9484261",
   "metadata": {},
   "outputs": [
    {
     "data": {
      "image/png": "[encoded data removed]",
      "text/plain": [
       "<Figure size 360x288 with 1 Axes>"
      ]
     },
     "metadata": {},
     "output_type": "display_data"
    }
   ],
   "source": [
    "fig = plt.figure(figsize=(5,4))\n",
    "sns.set_style('darkgrid')\n",
    "sns.set_palette(\"Set2\")\n",
    "sns.histplot(data = d1, x = 'value', stat=\"probability\", bins = 12, color = \"#2b7bba\")\n",
    "plt.xlabel(\"Cosine similarity\", fontsize = 15)\n",
    "plt.ylabel(\"Percent\", fontsize = 15)\n",
    "plt.axvline(x = d1['value'].median(), color = \"red\", linestyle = \"--\",linewidth = 2,label=\"median cosine similarity\")\n",
    "plt.xticks(fontsize = 12)\n",
    "plt.yticks(fontsize = 12)\n",
    "plt.legend(loc=\"upper left\")\n",
    "plt.xlim([-0.1,1.0])\n",
    "plt.tight_layout()\n",
    "fig.savefig(\"in_cluster_similarity.png\", dpi = 100)"
   ]
  },
  {
   "cell_type": "code",
   "execution_count": 8,
   "id": "22ebb8a7",
   "metadata": {},
   "outputs": [
    {
     "data": {
      "image/png": "[encoded data removed]",
      "text/plain": [
       "<Figure size 360x288 with 1 Axes>"
      ]
     },
     "metadata": {},
     "output_type": "display_data"
    }
   ],
   "source": [
    "fig = plt.figure(figsize=(5,4))\n",
    "sns.set_style('darkgrid')\n",
    "sns.set_palette(\"Set2\")\n",
    "sns.histplot(data = d2, x = 'value', stat=\"probability\", bins = 12, color = \"#2b7bba\")\n",
    "plt.xlabel(\"Cosine similarity\", fontsize = 15)\n",
    "plt.axvline(x = d2['value'].median(), color = \"red\", linestyle = \"--\",linewidth = 2,label=\"median cosine similarity\")\n",
    "plt.ylabel(\"Percent\", fontsize = 15)\n",
    "plt.xticks(fontsize = 12)\n",
    "plt.yticks(fontsize = 12)\n",
    "plt.legend(loc=\"upper right\")\n",
    "plt.xlim([-0.3,0.7])\n",
    "plt.tight_layout()\n",
    "fig.savefig(\"out_cluster_similarity.png\", dpi = 100)"
   ]
  },
  {
   "cell_type": "code",
   "execution_count": 19,
   "id": "f08fa44a",
   "metadata": {},
   "outputs": [
    {
     "data": {
      "text/plain": [
       "(array([ 134., 1738., 4187., 2376., 1013.,  440.,  197.,   68.,   33.,\n",
       "           9.]),\n",
       " array([-0.22982495, -0.13673779, -0.04365064,  0.04943651,  0.14252366,\n",
       "         0.23561081,  0.32869796,  0.42178511,  0.51487226,  0.60795941,\n",
       "         0.70104656]),\n",
       " <BarContainer object of 10 artists>)"
      ]
     },
     "execution_count": 19,
     "metadata": {},
     "output_type": "execute_result"
    },
    {
     "data": {
      "image/png": "[encoded data removed]",
      "text/plain": [
       "<Figure size 432x288 with 1 Axes>"
      ]
     },
     "metadata": {
      "needs_background": "light"
     },
     "output_type": "display_data"
    }
   ],
   "source": [
    "plt.hist(d2['value'])"
   ]
  },
  {
   "cell_type": "code",
   "execution_count": 20,
   "id": "58e09f50",
   "metadata": {},
   "outputs": [
    {
     "data": {
      "text/plain": [
       "(array([2.000e+00, 3.400e+01, 2.960e+02, 8.940e+02, 1.635e+03, 2.487e+03,\n",
       "        2.457e+03, 1.660e+03, 6.630e+02, 6.200e+01]),\n",
       " array([-0.27168851, -0.14980873, -0.02792896,  0.09395082,  0.21583059,\n",
       "         0.33771037,  0.45959015,  0.58146992,  0.7033497 ,  0.82522947,\n",
       "         0.94710925]),\n",
       " <BarContainer object of 10 artists>)"
      ]
     },
     "execution_count": 20,
     "metadata": {},
     "output_type": "execute_result"
    },
    {
     "data": {
      "image/png": "[encoded data removed]",
      "text/plain": [
       "<Figure size 432x288 with 1 Axes>"
      ]
     },
     "metadata": {
      "needs_background": "light"
     },
     "output_type": "display_data"
    }
   ],
   "source": [
    "plt.hist(d1['value'])"
   ]
  },
  {
   "cell_type": "code",
   "execution_count": 13,
   "id": "d463109b",
   "metadata": {},
   "outputs": [
    {
     "name": "stdout",
     "output_type": "stream",
     "text": [
      "0.6283893060012357\n",
      "0.6283893060012357\n"
     ]
    }
   ],
   "source": [
    "hf = h5py.File('document_scores.h5', 'r')\n",
    "x1 = hf['unique_IDF']\n",
    "#art1 = 19420254\n",
    "#art2 = 20936661\n",
    "\n",
    "art1 = 27599104\n",
    "art2 = 31600197\n",
    "\n",
    "if art1 in data2:\n",
    "    ref1 = data2.get(art1)\n",
    "else:\n",
    "    print(\"ohh no\")\n",
    "    \n",
    "if art2 in data2:\n",
    "    ref2 = data2.get(art2)\n",
    "else:\n",
    "    print(\"ohh no\")\n",
    "\n",
    "file1, file2 = \"\",\"\"\n",
    "if ref1 in data:\n",
    "    file1 = data.get(ref1)\n",
    "else:\n",
    "    print(\"on no\")\n",
    "if ref2 in data:\n",
    "    file2 = data.get(ref2)\n",
    "else:\n",
    "    print(\"on no\")\n",
    "            #print(\"file 1\",file1)\n",
    "bbc1 = x1[file1]\n",
    "ff1 = bbc1['_ref']\n",
    "ff1 = np.array(ff1)\n",
    "loc1 = np.where(ff1==ref1)[0][0]\n",
    "arr1 = bbc1['V'][loc1]\n",
    "            #print(arr1)\n",
    "            \n",
    "bbc2 = x1[file2]\n",
    "ff2 = bbc2['_ref']\n",
    "ff2 = np.array(ff2)\n",
    "loc2 = np.where(ff2==ref2)[0][0]\n",
    "arr2 = bbc2['V'][loc2]\n",
    "            #print(arr2)\n",
    "            #sim_tab.append(1.0-distance.cosine(arr1, arr2))\n",
    "            #sim_tab.append(cosine_similarity2(arr1, arr2))\n",
    "            \n",
    "a1 = arr1.reshape(1, -1)\n",
    "a2 = arr2.reshape(1, -1)\n",
    "cs2 = cosine_similarity(a1, a2)\n",
    "print(cs2[0][0])\n",
    "print(1.0-distance.cosine(a1, a2))"
   ]
  },
  {
   "cell_type": "code",
   "execution_count": 2,
   "id": "8bcdbc4a",
   "metadata": {},
   "outputs": [
    {
     "name": "stdout",
     "output_type": "stream",
     "text": [
      "    pmid  refid  cluster\n",
      "0      1      0        7\n",
      "1     10      1       21\n",
      "2    100      2        8\n",
      "3   1000      3        9\n",
      "4  10000      4       10\n"
     ]
    }
   ],
   "source": [
    "dd = pd.read_csv(\"idmap.csv\")\n",
    "print(dd.head(5))"
   ]
  },
  {
   "cell_type": "code",
   "execution_count": null,
   "id": "b8fc85ae",
   "metadata": {},
   "outputs": [],
   "source": []
  }
 ],
 "metadata": {
  "kernelspec": {
   "display_name": "Python 3 (ipykernel)",
   "language": "python",
   "name": "python3"
  },
  "language_info": {
   "codemirror_mode": {
    "name": "ipython",
    "version": 3
   },
   "file_extension": ".py",
   "mimetype": "text/x-python",
   "name": "python",
   "nbconvert_exporter": "python",
   "pygments_lexer": "ipython3",
   "version": "3.9.6"
  }
 },
 "nbformat": 4,
 "nbformat_minor": 5
}
