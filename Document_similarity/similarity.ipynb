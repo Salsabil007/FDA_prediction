{
 "cells": [
  {
   "cell_type": "code",
   "execution_count": 16,
   "id": "283fe927",
   "metadata": {},
   "outputs": [],
   "source": [
    "import pandas as pd\n",
    "import numpy as np\n",
    "import h5py\n",
    "import tables\n",
    "from scipy.spatial import distance\n",
    "from numpy.linalg import norm\n",
    "import random\n",
    "import spacy\n",
    "from sklearn.metrics.pairwise import cosine_similarity"
   ]
  },
  {
   "cell_type": "code",
   "execution_count": 17,
   "id": "6dd41177",
   "metadata": {},
   "outputs": [
    {
     "name": "stdout",
     "output_type": "stream",
     "text": [
      "Collecting package metadata (current_repodata.json): done\n",
      "Solving environment: done\n",
      "\n",
      "\n",
      "==> WARNING: A newer version of conda exists. <==\n",
      "  current version: 22.9.0\n",
      "  latest version: 23.3.1\n",
      "\n",
      "Please update conda by running\n",
      "\n",
      "    $ conda update -n base -c defaults conda\n",
      "\n",
      "\n",
      "\n",
      "## Package Plan ##\n",
      "\n",
      "  environment location: /home/arabi/anaconda3/envs/env\n",
      "\n",
      "  added / updated specs:\n",
      "    - spacy\n",
      "\n",
      "\n",
      "The following packages will be downloaded:\n",
      "\n",
      "    package                    |            build\n",
      "    ---------------------------|-----------------\n",
      "    ca-certificates-2022.12.7  |       ha878542_0         143 KB  conda-forge\n",
      "    catalogue-2.0.8            |   py39hf3d152e_1          32 KB  conda-forge\n",
      "    certifi-2022.12.7          |     pyhd8ed1ab_0         147 KB  conda-forge\n",
      "    commonmark-0.9.1           |             py_0          46 KB  conda-forge\n",
      "    confection-0.0.4           |   py39hcca971b_1          61 KB  conda-forge\n",
      "    cymem-2.0.7                |   py39h5a03fae_1          42 KB  conda-forge\n",
      "    cython-blis-0.7.9          |   py39h2ae25f5_1         9.0 MB  conda-forge\n",
      "    future-0.18.3              |     pyhd8ed1ab_0         357 KB  conda-forge\n",
      "    jinja2-3.1.2               |     pyhd8ed1ab_1          99 KB  conda-forge\n",
      "    langcodes-3.3.0            |     pyhd8ed1ab_0         156 KB  conda-forge\n",
      "    markupsafe-2.1.2           |   py39h72bdee0_0          23 KB  conda-forge\n",
      "    murmurhash-1.0.9           |   py39h5a03fae_1          27 KB  conda-forge\n",
      "    openssl-1.1.1t             |       h0b41bf4_0         1.9 MB  conda-forge\n",
      "    packaging-23.0             |     pyhd8ed1ab_0          40 KB  conda-forge\n",
      "    pathy-0.10.1               |     pyhd8ed1ab_0          42 KB  conda-forge\n",
      "    preshed-3.0.8              |   py39h5a03fae_1         121 KB  conda-forge\n",
      "    pydantic-1.10.7            |   py39h72bdee0_0         2.1 MB  conda-forge\n",
      "    rich-12.6.0                |     pyhd8ed1ab_0         170 KB  conda-forge\n",
      "    shellingham-1.5.1          |     pyhd8ed1ab_0          14 KB  conda-forge\n",
      "    smart_open-5.2.1           |     pyhd8ed1ab_0          43 KB  conda-forge\n",
      "    spacy-3.5.1                |   py39h0354152_0         5.1 MB  conda-forge\n",
      "    spacy-legacy-3.0.12        |     pyhd8ed1ab_0          28 KB  conda-forge\n",
      "    spacy-loggers-1.0.4        |     pyhd8ed1ab_0          15 KB  conda-forge\n",
      "    srsly-2.4.6                |   py39h227be39_0         550 KB  conda-forge\n",
      "    thinc-8.1.9                |   py39h0354152_0         847 KB  conda-forge\n",
      "    typer-0.7.0                |     pyhd8ed1ab_0          56 KB  conda-forge\n",
      "    typing-extensions-4.5.0    |       hd8ed1ab_0           9 KB  conda-forge\n",
      "    typing_extensions-4.5.0    |     pyha770c72_0          31 KB  conda-forge\n",
      "    wasabi-1.1.1               |   py39hf3d152e_1          45 KB  conda-forge\n",
      "    ------------------------------------------------------------\n",
      "                                           Total:        21.1 MB\n",
      "\n",
      "The following NEW packages will be INSTALLED:\n",
      "\n",
      "  catalogue          conda-forge/linux-64::catalogue-2.0.8-py39hf3d152e_1 None\n",
      "  commonmark         conda-forge/noarch::commonmark-0.9.1-py_0 None\n",
      "  confection         conda-forge/linux-64::confection-0.0.4-py39hcca971b_1 None\n",
      "  cymem              conda-forge/linux-64::cymem-2.0.7-py39h5a03fae_1 None\n",
      "  cython-blis        conda-forge/linux-64::cython-blis-0.7.9-py39h2ae25f5_1 None\n",
      "  future             conda-forge/noarch::future-0.18.3-pyhd8ed1ab_0 None\n",
      "  jinja2             conda-forge/noarch::jinja2-3.1.2-pyhd8ed1ab_1 None\n",
      "  langcodes          conda-forge/noarch::langcodes-3.3.0-pyhd8ed1ab_0 None\n",
      "  markupsafe         conda-forge/linux-64::markupsafe-2.1.2-py39h72bdee0_0 None\n",
      "  murmurhash         conda-forge/linux-64::murmurhash-1.0.9-py39h5a03fae_1 None\n",
      "  packaging          conda-forge/noarch::packaging-23.0-pyhd8ed1ab_0 None\n",
      "  pathy              conda-forge/noarch::pathy-0.10.1-pyhd8ed1ab_0 None\n",
      "  preshed            conda-forge/linux-64::preshed-3.0.8-py39h5a03fae_1 None\n",
      "  pydantic           conda-forge/linux-64::pydantic-1.10.7-py39h72bdee0_0 None\n",
      "  rich               conda-forge/noarch::rich-12.6.0-pyhd8ed1ab_0 None\n",
      "  shellingham        conda-forge/noarch::shellingham-1.5.1-pyhd8ed1ab_0 None\n",
      "  smart_open         conda-forge/noarch::smart_open-5.2.1-pyhd8ed1ab_0 None\n",
      "  spacy              conda-forge/linux-64::spacy-3.5.1-py39h0354152_0 None\n",
      "  spacy-legacy       conda-forge/noarch::spacy-legacy-3.0.12-pyhd8ed1ab_0 None\n",
      "  spacy-loggers      conda-forge/noarch::spacy-loggers-1.0.4-pyhd8ed1ab_0 None\n",
      "  srsly              conda-forge/linux-64::srsly-2.4.6-py39h227be39_0 None\n",
      "  thinc              conda-forge/linux-64::thinc-8.1.9-py39h0354152_0 None\n",
      "  typer              conda-forge/noarch::typer-0.7.0-pyhd8ed1ab_0 None\n",
      "  wasabi             conda-forge/linux-64::wasabi-1.1.1-py39hf3d152e_1 None\n",
      "\n",
      "The following packages will be UPDATED:\n",
      "\n",
      "  openssl               anaconda::openssl-1.1.1s-h7f8727e_0 --> conda-forge::openssl-1.1.1t-h0b41bf4_0 None\n",
      "  typing-extensions                     3.10.0.0-hd8ed1ab_0 --> 4.5.0-hd8ed1ab_0 None\n",
      "  typing_extensions                   3.10.0.0-pyha770c72_0 --> 4.5.0-pyha770c72_0 None\n",
      "\n",
      "The following packages will be SUPERSEDED by a higher-priority channel:\n",
      "\n",
      "  ca-certificates    anaconda::ca-certificates-2023.01.10-~ --> conda-forge::ca-certificates-2022.12.7-ha878542_0 None\n",
      "  certifi            anaconda/linux-64::certifi-2022.12.7-~ --> conda-forge/noarch::certifi-2022.12.7-pyhd8ed1ab_0 None\n",
      "\n",
      "\n",
      "\n",
      "Downloading and Extracting Packages\n",
      "openssl-1.1.1t       | 1.9 MB    | ##################################### | 100% \n",
      "thinc-8.1.9          | 847 KB    | ##################################### | 100% \n",
      "jinja2-3.1.2         | 99 KB     | ##################################### | 100% \n",
      "ca-certificates-2022 | 143 KB    | ##################################### | 100% \n",
      "spacy-loggers-1.0.4  | 15 KB     | ##################################### | 100% \n",
      "langcodes-3.3.0      | 156 KB    | ##################################### | 100% \n",
      "srsly-2.4.6          | 550 KB    | ##################################### | 100% \n",
      "certifi-2022.12.7    | 147 KB    | ##################################### | 100% \n",
      "typing-extensions-4. | 9 KB      | ##################################### | 100% \n",
      "preshed-3.0.8        | 121 KB    | ##################################### | 100% \n",
      "spacy-3.5.1          | 5.1 MB    | ##################################### | 100% \n",
      "pathy-0.10.1         | 42 KB     | ##################################### | 100% \n",
      "spacy-legacy-3.0.12  | 28 KB     | ##################################### | 100% \n",
      "cython-blis-0.7.9    | 9.0 MB    | ##################################### | 100% \n",
      "typer-0.7.0          | 56 KB     | ##################################### | 100% \n",
      "future-0.18.3        | 357 KB    | ##################################### | 100% \n",
      "pydantic-1.10.7      | 2.1 MB    | ##################################### | 100% \n",
      "packaging-23.0       | 40 KB     | ##################################### | 100% \n",
      "murmurhash-1.0.9     | 27 KB     | ##################################### | 100% \n",
      "typing_extensions-4. | 31 KB     | ##################################### | 100% \n",
      "smart_open-5.2.1     | 43 KB     | ##################################### | 100% \n",
      "wasabi-1.1.1         | 45 KB     | ##################################### | 100% \n",
      "markupsafe-2.1.2     | 23 KB     | ##################################### | 100% \n",
      "catalogue-2.0.8      | 32 KB     | ##################################### | 100% \n",
      "rich-12.6.0          | 170 KB    | ##################################### | 100% \n",
      "shellingham-1.5.1    | 14 KB     | ##################################### | 100% \n",
      "commonmark-0.9.1     | 46 KB     | ##################################### | 100% \n",
      "confection-0.0.4     | 61 KB     | ##################################### | 100% \n",
      "cymem-2.0.7          | 42 KB     | ##################################### | 100% \n",
      "Preparing transaction: done\n",
      "Verifying transaction: done\n",
      "Executing transaction: done\n",
      "Retrieving notices: ...working... done\n",
      "\n",
      "Note: you may need to restart the kernel to use updated packages.\n"
     ]
    }
   ],
   "source": [
    "conda install -c conda-forge spacy"
   ]
  },
  {
   "cell_type": "code",
   "execution_count": 3,
   "id": "ae4cb49b",
   "metadata": {},
   "outputs": [
    {
     "name": "stdout",
     "output_type": "stream",
     "text": [
      "Collecting package metadata (current_repodata.json): done\n",
      "Solving environment: failed with initial frozen solve. Retrying with flexible solve.\n",
      "Solving environment: done\n",
      "\n",
      "\n",
      "==> WARNING: A newer version of conda exists. <==\n",
      "  current version: 22.9.0\n",
      "  latest version: 23.3.1\n",
      "\n",
      "Please update conda by running\n",
      "\n",
      "    $ conda update -n base -c defaults conda\n",
      "\n",
      "\n",
      "Collecting package metadata (repodata.json): done\n",
      "Solving environment: done\n",
      "\n",
      "\n",
      "==> WARNING: A newer version of conda exists. <==\n",
      "  current version: 22.9.0\n",
      "  latest version: 23.3.1\n",
      "\n",
      "Please update conda by running\n",
      "\n",
      "    $ conda update -n base -c defaults conda\n",
      "\n",
      "\n",
      "\n",
      "## Package Plan ##\n",
      "\n",
      "  environment location: /home/arabi/anaconda3/envs/env\n",
      "\n",
      "  added / updated specs:\n",
      "    - pytables\n",
      "\n",
      "\n",
      "The following packages will be downloaded:\n",
      "\n",
      "    package                    |            build\n",
      "    ---------------------------|-----------------\n",
      "    blosc-1.20.1               |       hd408876_0          81 KB  anaconda\n",
      "    bzip2-1.0.8                |       h7b6447c_0         105 KB  anaconda\n",
      "    ca-certificates-2023.01.10 |       h06a4308_0         127 KB  anaconda\n",
      "    certifi-2022.12.7          |   py39h06a4308_0         152 KB  anaconda\n",
      "    libtiff-4.2.0              |       h85742a9_0         640 KB  anaconda\n",
      "    libwebp-base-1.2.4         |       h5eee18b_0         411 KB  anaconda\n",
      "    lzo-2.10                   |       h7b6447c_2         317 KB  anaconda\n",
      "    mock-4.0.3                 |     pyhd3eb1b0_0          27 KB  anaconda\n",
      "    openssl-1.1.1s             |       h7f8727e_0         3.8 MB  anaconda\n",
      "    pytables-3.6.1             |   py39h77479fe_1         1.5 MB  anaconda\n",
      "    zstd-1.4.5                 |       h9ceee32_0         716 KB  anaconda\n",
      "    ------------------------------------------------------------\n",
      "                                           Total:         7.8 MB\n",
      "\n",
      "The following NEW packages will be INSTALLED:\n",
      "\n",
      "  blosc              anaconda/linux-64::blosc-1.20.1-hd408876_0 None\n",
      "  bzip2              anaconda/linux-64::bzip2-1.0.8-h7b6447c_0 None\n",
      "  libwebp-base       anaconda/linux-64::libwebp-base-1.2.4-h5eee18b_0 None\n",
      "  lzo                anaconda/linux-64::lzo-2.10-h7b6447c_2 None\n",
      "  mock               anaconda/noarch::mock-4.0.3-pyhd3eb1b0_0 None\n",
      "  pytables           anaconda/linux-64::pytables-3.6.1-py39h77479fe_1 None\n",
      "\n",
      "The following packages will be UPDATED:\n",
      "\n",
      "  ca-certificates    conda-forge::ca-certificates-2022.9.2~ --> anaconda::ca-certificates-2023.01.10-h06a4308_0 None\n",
      "  certifi            conda-forge/noarch::certifi-2022.9.24~ --> anaconda/linux-64::certifi-2022.12.7-py39h06a4308_0 None\n",
      "  libtiff                                  4.1.0-h2733197_1 --> 4.2.0-h85742a9_0 None\n",
      "  zstd                                     1.4.4-h0b5b093_3 --> 1.4.5-h9ceee32_0 None\n",
      "\n",
      "The following packages will be SUPERSEDED by a higher-priority channel:\n",
      "\n",
      "  openssl            conda-forge::openssl-1.1.1s-h0b41bf4_1 --> anaconda::openssl-1.1.1s-h7f8727e_0 None\n",
      "\n",
      "\n",
      "\n",
      "Downloading and Extracting Packages\n",
      "lzo-2.10             | 317 KB    | ##################################### | 100% \n",
      "libtiff-4.2.0        | 640 KB    | ##################################### | 100% \n",
      "ca-certificates-2023 | 127 KB    | ##################################### | 100% \n",
      "certifi-2022.12.7    | 152 KB    | ##################################### | 100% \n",
      "zstd-1.4.5           | 716 KB    | ##################################### | 100% \n",
      "libwebp-base-1.2.4   | 411 KB    | ##################################### | 100% \n",
      "bzip2-1.0.8          | 105 KB    | ##################################### | 100% \n",
      "openssl-1.1.1s       | 3.8 MB    | ##################################### | 100% \n",
      "mock-4.0.3           | 27 KB     | ##################################### | 100% \n",
      "blosc-1.20.1         | 81 KB     | ##################################### | 100% \n",
      "pytables-3.6.1       | 1.5 MB    | ##################################### | 100% \n",
      "Preparing transaction: done\n",
      "Verifying transaction: done\n",
      "Executing transaction: done\n",
      "Retrieving notices: ...working... done\n",
      "\n",
      "Note: you may need to restart the kernel to use updated packages.\n"
     ]
    }
   ],
   "source": [
    "conda install -c anaconda pytables"
   ]
  },
  {
   "cell_type": "code",
   "execution_count": 20,
   "id": "9e0b8fa2",
   "metadata": {},
   "outputs": [],
   "source": [
    "h5file = tables.open_file(\"document_scores.h5\", driver=\"H5FD_CORE\")"
   ]
  },
  {
   "cell_type": "code",
   "execution_count": 24,
   "id": "38732745",
   "metadata": {},
   "outputs": [],
   "source": [
    "#a = h5file.create_array(h5file.root, \"array\")\n",
    "h5file.close()"
   ]
  },
  {
   "cell_type": "code",
   "execution_count": 23,
   "id": "4b5aab31",
   "metadata": {},
   "outputs": [
    {
     "ename": "IndexError",
     "evalue": "only integers, slices (`:`), ellipsis (`...`), numpy.newaxis (`None`) and integer or boolean arrays are valid indices",
     "output_type": "error",
     "traceback": [
      "\u001b[0;31m---------------------------------------------------------------------------\u001b[0m",
      "\u001b[0;31mIndexError\u001b[0m                                Traceback (most recent call last)",
      "\u001b[0;32m/tmp/ipykernel_9057/576435742.py\u001b[0m in \u001b[0;36m<module>\u001b[0;34m\u001b[0m\n\u001b[0;32m----> 1\u001b[0;31m \u001b[0mdf\u001b[0m \u001b[0;34m=\u001b[0m \u001b[0mpd\u001b[0m\u001b[0;34m.\u001b[0m\u001b[0mDataFrame\u001b[0m\u001b[0;34m(\u001b[0m\u001b[0mnp\u001b[0m\u001b[0;34m.\u001b[0m\u001b[0marray\u001b[0m\u001b[0;34m(\u001b[0m\u001b[0mh5file\u001b[0m\u001b[0;34m)\u001b[0m\u001b[0;34m[\u001b[0m\u001b[0;34m'variable_1'\u001b[0m\u001b[0;34m]\u001b[0m\u001b[0;34m)\u001b[0m\u001b[0;34m\u001b[0m\u001b[0;34m\u001b[0m\u001b[0m\n\u001b[0m",
      "\u001b[0;31mIndexError\u001b[0m: only integers, slices (`:`), ellipsis (`...`), numpy.newaxis (`None`) and integer or boolean arrays are valid indices"
     ]
    }
   ],
   "source": []
  },
  {
   "cell_type": "code",
   "execution_count": 7,
   "id": "b84a3711",
   "metadata": {},
   "outputs": [],
   "source": [
    "data = pd.DataFrame()\n",
    "data['name'] = ['shusmi','mou',\"sadid\"]\n",
    "data['class'] = ['seven','eight',\"nine\"]\n",
    "data.to_hdf(\"dummy.h5\",key='data',mode='w',index = False)"
   ]
  },
  {
   "cell_type": "code",
   "execution_count": 6,
   "id": "94332c6b",
   "metadata": {},
   "outputs": [
    {
     "name": "stdout",
     "output_type": "stream",
     "text": [
      "0    shusmi\n",
      "1       mou\n",
      "2     sadid\n",
      "Name: name, dtype: object\n",
      "  name  class\n",
      "1  mou  eight\n"
     ]
    }
   ],
   "source": [
    "df = pd.read_hdf(\"dummy.h5\")\n",
    "print(df['name'])\n",
    "a = df[df['name'] == 'mou']\n",
    "print(a)"
   ]
  },
  {
   "cell_type": "code",
   "execution_count": 4,
   "id": "e7fa5a7e",
   "metadata": {},
   "outputs": [],
   "source": [
    "\n",
    "'''f = h5py.File('document_scores.h5', 'r')\n",
    "data = f\n",
    "f.close()'''\n",
    "#print(data[10])\n",
    "\n",
    "data = pd.read_hdf(\"dummy.h5\")"
   ]
  },
  {
   "cell_type": "code",
   "execution_count": 5,
   "id": "7410fe5b",
   "metadata": {},
   "outputs": [
    {
     "ename": "AttributeError",
     "evalue": "'File' object has no attribute 'head'",
     "output_type": "error",
     "traceback": [
      "\u001b[0;31m---------------------------------------------------------------------------\u001b[0m",
      "\u001b[0;31mAttributeError\u001b[0m                            Traceback (most recent call last)",
      "\u001b[0;32m/tmp/ipykernel_7060/2560222592.py\u001b[0m in \u001b[0;36m<module>\u001b[0;34m\u001b[0m\n\u001b[0;32m----> 1\u001b[0;31m \u001b[0mprint\u001b[0m\u001b[0;34m(\u001b[0m\u001b[0mdata\u001b[0m\u001b[0;34m.\u001b[0m\u001b[0mhead\u001b[0m\u001b[0;34m(\u001b[0m\u001b[0;36m5\u001b[0m\u001b[0;34m)\u001b[0m\u001b[0;34m)\u001b[0m\u001b[0;34m\u001b[0m\u001b[0;34m\u001b[0m\u001b[0m\n\u001b[0m",
      "\u001b[0;31mAttributeError\u001b[0m: 'File' object has no attribute 'head'"
     ]
    }
   ],
   "source": [
    "print(data.head(5))"
   ]
  },
  {
   "cell_type": "code",
   "execution_count": 9,
   "id": "a66bfb7b",
   "metadata": {},
   "outputs": [],
   "source": [
    "d1 = np.random.random(size = (1000,20))\n",
    "d2 = np.random.random(size = (1000,200))\n",
    "hf = h5py.File('data.h5', 'w')\n",
    "hf.create_dataset('dataset_1', data=d1)\n",
    "hf.create_dataset('dataset_2', data=d2)\n",
    "hf.close()"
   ]
  },
  {
   "cell_type": "code",
   "execution_count": 12,
   "id": "8878cd98",
   "metadata": {},
   "outputs": [
    {
     "data": {
      "text/plain": [
       "<HDF5 dataset \"dataset_1\": shape (1000, 20), type \"<f8\">"
      ]
     },
     "execution_count": 12,
     "metadata": {},
     "output_type": "execute_result"
    }
   ],
   "source": [
    "hf = h5py.File('data.h5', 'r')\n",
    "n1 = hf.get('dataset_1')\n",
    "n1"
   ]
  },
  {
   "cell_type": "code",
   "execution_count": 2,
   "id": "ff8665a1",
   "metadata": {},
   "outputs": [
    {
     "data": {
      "text/plain": [
       "<KeysViewHDF5 ['unique_IDF']>"
      ]
     },
     "execution_count": 2,
     "metadata": {},
     "output_type": "execute_result"
    }
   ],
   "source": [
    "hf = h5py.File('document_scores.h5', 'r')\n",
    "hf.keys()"
   ]
  },
  {
   "cell_type": "code",
   "execution_count": 3,
   "id": "7992f067",
   "metadata": {},
   "outputs": [
    {
     "data": {
      "text/plain": [
       "array(['pmid_title_abstract_0.csv', 'pmid_title_abstract_1.csv',\n",
       "       'pmid_title_abstract_10.csv', 'pmid_title_abstract_100.csv',\n",
       "       'pmid_title_abstract_101.csv', 'pmid_title_abstract_102.csv',\n",
       "       'pmid_title_abstract_103.csv', 'pmid_title_abstract_104.csv',\n",
       "       'pmid_title_abstract_105.csv', 'pmid_title_abstract_106.csv',\n",
       "       'pmid_title_abstract_107.csv', 'pmid_title_abstract_108.csv',\n",
       "       'pmid_title_abstract_109.csv', 'pmid_title_abstract_11.csv',\n",
       "       'pmid_title_abstract_110.csv', 'pmid_title_abstract_111.csv',\n",
       "       'pmid_title_abstract_112.csv', 'pmid_title_abstract_113.csv',\n",
       "       'pmid_title_abstract_114.csv', 'pmid_title_abstract_115.csv',\n",
       "       'pmid_title_abstract_116.csv', 'pmid_title_abstract_117.csv',\n",
       "       'pmid_title_abstract_118.csv', 'pmid_title_abstract_119.csv',\n",
       "       'pmid_title_abstract_12.csv', 'pmid_title_abstract_120.csv',\n",
       "       'pmid_title_abstract_121.csv', 'pmid_title_abstract_122.csv',\n",
       "       'pmid_title_abstract_123.csv', 'pmid_title_abstract_124.csv',\n",
       "       'pmid_title_abstract_125.csv', 'pmid_title_abstract_126.csv',\n",
       "       'pmid_title_abstract_127.csv', 'pmid_title_abstract_128.csv',\n",
       "       'pmid_title_abstract_129.csv', 'pmid_title_abstract_13.csv',\n",
       "       'pmid_title_abstract_130.csv', 'pmid_title_abstract_131.csv',\n",
       "       'pmid_title_abstract_132.csv', 'pmid_title_abstract_133.csv',\n",
       "       'pmid_title_abstract_134.csv', 'pmid_title_abstract_135.csv',\n",
       "       'pmid_title_abstract_136.csv', 'pmid_title_abstract_137.csv',\n",
       "       'pmid_title_abstract_138.csv', 'pmid_title_abstract_139.csv',\n",
       "       'pmid_title_abstract_14.csv', 'pmid_title_abstract_140.csv',\n",
       "       'pmid_title_abstract_141.csv', 'pmid_title_abstract_142.csv',\n",
       "       'pmid_title_abstract_143.csv', 'pmid_title_abstract_144.csv',\n",
       "       'pmid_title_abstract_145.csv', 'pmid_title_abstract_146.csv',\n",
       "       'pmid_title_abstract_147.csv', 'pmid_title_abstract_148.csv',\n",
       "       'pmid_title_abstract_149.csv', 'pmid_title_abstract_15.csv',\n",
       "       'pmid_title_abstract_150.csv', 'pmid_title_abstract_151.csv',\n",
       "       'pmid_title_abstract_152.csv', 'pmid_title_abstract_153.csv',\n",
       "       'pmid_title_abstract_154.csv', 'pmid_title_abstract_155.csv',\n",
       "       'pmid_title_abstract_156.csv', 'pmid_title_abstract_157.csv',\n",
       "       'pmid_title_abstract_158.csv', 'pmid_title_abstract_159.csv',\n",
       "       'pmid_title_abstract_16.csv', 'pmid_title_abstract_160.csv',\n",
       "       'pmid_title_abstract_161.csv', 'pmid_title_abstract_162.csv',\n",
       "       'pmid_title_abstract_163.csv', 'pmid_title_abstract_164.csv',\n",
       "       'pmid_title_abstract_165.csv', 'pmid_title_abstract_166.csv',\n",
       "       'pmid_title_abstract_167.csv', 'pmid_title_abstract_168.csv',\n",
       "       'pmid_title_abstract_169.csv', 'pmid_title_abstract_17.csv',\n",
       "       'pmid_title_abstract_170.csv', 'pmid_title_abstract_171.csv',\n",
       "       'pmid_title_abstract_172.csv', 'pmid_title_abstract_173.csv',\n",
       "       'pmid_title_abstract_174.csv', 'pmid_title_abstract_175.csv',\n",
       "       'pmid_title_abstract_176.csv', 'pmid_title_abstract_177.csv',\n",
       "       'pmid_title_abstract_178.csv', 'pmid_title_abstract_179.csv',\n",
       "       'pmid_title_abstract_18.csv', 'pmid_title_abstract_180.csv',\n",
       "       'pmid_title_abstract_181.csv', 'pmid_title_abstract_182.csv',\n",
       "       'pmid_title_abstract_183.csv', 'pmid_title_abstract_184.csv',\n",
       "       'pmid_title_abstract_185.csv', 'pmid_title_abstract_186.csv',\n",
       "       'pmid_title_abstract_187.csv', 'pmid_title_abstract_188.csv',\n",
       "       'pmid_title_abstract_189.csv', 'pmid_title_abstract_19.csv',\n",
       "       'pmid_title_abstract_190.csv', 'pmid_title_abstract_191.csv',\n",
       "       'pmid_title_abstract_192.csv', 'pmid_title_abstract_193.csv',\n",
       "       'pmid_title_abstract_194.csv', 'pmid_title_abstract_195.csv',\n",
       "       'pmid_title_abstract_196.csv', 'pmid_title_abstract_197.csv',\n",
       "       'pmid_title_abstract_198.csv', 'pmid_title_abstract_199.csv',\n",
       "       'pmid_title_abstract_2.csv', 'pmid_title_abstract_20.csv',\n",
       "       'pmid_title_abstract_200.csv', 'pmid_title_abstract_201.csv',\n",
       "       'pmid_title_abstract_202.csv', 'pmid_title_abstract_203.csv',\n",
       "       'pmid_title_abstract_204.csv', 'pmid_title_abstract_205.csv',\n",
       "       'pmid_title_abstract_206.csv', 'pmid_title_abstract_207.csv',\n",
       "       'pmid_title_abstract_208.csv', 'pmid_title_abstract_209.csv',\n",
       "       'pmid_title_abstract_21.csv', 'pmid_title_abstract_210.csv',\n",
       "       'pmid_title_abstract_211.csv', 'pmid_title_abstract_212.csv',\n",
       "       'pmid_title_abstract_213.csv', 'pmid_title_abstract_214.csv',\n",
       "       'pmid_title_abstract_215.csv', 'pmid_title_abstract_216.csv',\n",
       "       'pmid_title_abstract_217.csv', 'pmid_title_abstract_218.csv',\n",
       "       'pmid_title_abstract_219.csv', 'pmid_title_abstract_22.csv',\n",
       "       'pmid_title_abstract_220.csv', 'pmid_title_abstract_221.csv',\n",
       "       'pmid_title_abstract_222.csv', 'pmid_title_abstract_223.csv',\n",
       "       'pmid_title_abstract_224.csv', 'pmid_title_abstract_225.csv',\n",
       "       'pmid_title_abstract_226.csv', 'pmid_title_abstract_227.csv',\n",
       "       'pmid_title_abstract_228.csv', 'pmid_title_abstract_229.csv',\n",
       "       'pmid_title_abstract_23.csv', 'pmid_title_abstract_230.csv',\n",
       "       'pmid_title_abstract_231.csv', 'pmid_title_abstract_232.csv',\n",
       "       'pmid_title_abstract_233.csv', 'pmid_title_abstract_234.csv',\n",
       "       'pmid_title_abstract_235.csv', 'pmid_title_abstract_236.csv',\n",
       "       'pmid_title_abstract_237.csv', 'pmid_title_abstract_238.csv',\n",
       "       'pmid_title_abstract_239.csv', 'pmid_title_abstract_24.csv',\n",
       "       'pmid_title_abstract_240.csv', 'pmid_title_abstract_241.csv',\n",
       "       'pmid_title_abstract_242.csv', 'pmid_title_abstract_243.csv',\n",
       "       'pmid_title_abstract_244.csv', 'pmid_title_abstract_245.csv',\n",
       "       'pmid_title_abstract_246.csv', 'pmid_title_abstract_247.csv',\n",
       "       'pmid_title_abstract_248.csv', 'pmid_title_abstract_249.csv',\n",
       "       'pmid_title_abstract_25.csv', 'pmid_title_abstract_250.csv',\n",
       "       'pmid_title_abstract_251.csv', 'pmid_title_abstract_252.csv',\n",
       "       'pmid_title_abstract_253.csv', 'pmid_title_abstract_254.csv',\n",
       "       'pmid_title_abstract_255.csv', 'pmid_title_abstract_256.csv',\n",
       "       'pmid_title_abstract_257.csv', 'pmid_title_abstract_258.csv',\n",
       "       'pmid_title_abstract_259.csv', 'pmid_title_abstract_26.csv',\n",
       "       'pmid_title_abstract_260.csv', 'pmid_title_abstract_261.csv',\n",
       "       'pmid_title_abstract_262.csv', 'pmid_title_abstract_263.csv',\n",
       "       'pmid_title_abstract_264.csv', 'pmid_title_abstract_265.csv',\n",
       "       'pmid_title_abstract_266.csv', 'pmid_title_abstract_267.csv',\n",
       "       'pmid_title_abstract_268.csv', 'pmid_title_abstract_269.csv',\n",
       "       'pmid_title_abstract_27.csv', 'pmid_title_abstract_270.csv',\n",
       "       'pmid_title_abstract_271.csv', 'pmid_title_abstract_272.csv',\n",
       "       'pmid_title_abstract_273.csv', 'pmid_title_abstract_274.csv',\n",
       "       'pmid_title_abstract_275.csv', 'pmid_title_abstract_276.csv',\n",
       "       'pmid_title_abstract_277.csv', 'pmid_title_abstract_278.csv',\n",
       "       'pmid_title_abstract_279.csv', 'pmid_title_abstract_28.csv',\n",
       "       'pmid_title_abstract_280.csv', 'pmid_title_abstract_281.csv',\n",
       "       'pmid_title_abstract_282.csv', 'pmid_title_abstract_283.csv',\n",
       "       'pmid_title_abstract_284.csv', 'pmid_title_abstract_285.csv',\n",
       "       'pmid_title_abstract_286.csv', 'pmid_title_abstract_287.csv',\n",
       "       'pmid_title_abstract_288.csv', 'pmid_title_abstract_289.csv',\n",
       "       'pmid_title_abstract_29.csv', 'pmid_title_abstract_290.csv',\n",
       "       'pmid_title_abstract_291.csv', 'pmid_title_abstract_292.csv',\n",
       "       'pmid_title_abstract_293.csv', 'pmid_title_abstract_294.csv',\n",
       "       'pmid_title_abstract_295.csv', 'pmid_title_abstract_296.csv',\n",
       "       'pmid_title_abstract_297.csv', 'pmid_title_abstract_298.csv',\n",
       "       'pmid_title_abstract_299.csv', 'pmid_title_abstract_3.csv',\n",
       "       'pmid_title_abstract_30.csv', 'pmid_title_abstract_300.csv',\n",
       "       'pmid_title_abstract_301.csv', 'pmid_title_abstract_302.csv',\n",
       "       'pmid_title_abstract_303.csv', 'pmid_title_abstract_304.csv',\n",
       "       'pmid_title_abstract_305.csv', 'pmid_title_abstract_306.csv',\n",
       "       'pmid_title_abstract_307.csv', 'pmid_title_abstract_308.csv',\n",
       "       'pmid_title_abstract_309.csv', 'pmid_title_abstract_31.csv',\n",
       "       'pmid_title_abstract_310.csv', 'pmid_title_abstract_311.csv',\n",
       "       'pmid_title_abstract_312.csv', 'pmid_title_abstract_313.csv',\n",
       "       'pmid_title_abstract_314.csv', 'pmid_title_abstract_315.csv',\n",
       "       'pmid_title_abstract_316.csv', 'pmid_title_abstract_317.csv',\n",
       "       'pmid_title_abstract_318.csv', 'pmid_title_abstract_319.csv',\n",
       "       'pmid_title_abstract_32.csv', 'pmid_title_abstract_320.csv',\n",
       "       'pmid_title_abstract_321.csv', 'pmid_title_abstract_322.csv',\n",
       "       'pmid_title_abstract_323.csv', 'pmid_title_abstract_324.csv',\n",
       "       'pmid_title_abstract_325.csv', 'pmid_title_abstract_326.csv',\n",
       "       'pmid_title_abstract_327.csv', 'pmid_title_abstract_328.csv',\n",
       "       'pmid_title_abstract_329.csv', 'pmid_title_abstract_33.csv',\n",
       "       'pmid_title_abstract_330.csv', 'pmid_title_abstract_331.csv',\n",
       "       'pmid_title_abstract_332.csv', 'pmid_title_abstract_333.csv',\n",
       "       'pmid_title_abstract_334.csv', 'pmid_title_abstract_335.csv',\n",
       "       'pmid_title_abstract_34.csv', 'pmid_title_abstract_35.csv',\n",
       "       'pmid_title_abstract_36.csv', 'pmid_title_abstract_37.csv',\n",
       "       'pmid_title_abstract_38.csv', 'pmid_title_abstract_39.csv',\n",
       "       'pmid_title_abstract_4.csv', 'pmid_title_abstract_40.csv',\n",
       "       'pmid_title_abstract_41.csv', 'pmid_title_abstract_42.csv',\n",
       "       'pmid_title_abstract_43.csv', 'pmid_title_abstract_44.csv',\n",
       "       'pmid_title_abstract_45.csv', 'pmid_title_abstract_46.csv',\n",
       "       'pmid_title_abstract_47.csv', 'pmid_title_abstract_48.csv',\n",
       "       'pmid_title_abstract_49.csv', 'pmid_title_abstract_5.csv',\n",
       "       'pmid_title_abstract_50.csv', 'pmid_title_abstract_51.csv',\n",
       "       'pmid_title_abstract_52.csv', 'pmid_title_abstract_53.csv',\n",
       "       'pmid_title_abstract_54.csv', 'pmid_title_abstract_55.csv',\n",
       "       'pmid_title_abstract_56.csv', 'pmid_title_abstract_57.csv',\n",
       "       'pmid_title_abstract_58.csv', 'pmid_title_abstract_59.csv',\n",
       "       'pmid_title_abstract_6.csv', 'pmid_title_abstract_60.csv',\n",
       "       'pmid_title_abstract_61.csv', 'pmid_title_abstract_62.csv',\n",
       "       'pmid_title_abstract_63.csv', 'pmid_title_abstract_64.csv',\n",
       "       'pmid_title_abstract_65.csv', 'pmid_title_abstract_66.csv',\n",
       "       'pmid_title_abstract_67.csv', 'pmid_title_abstract_68.csv',\n",
       "       'pmid_title_abstract_69.csv', 'pmid_title_abstract_7.csv',\n",
       "       'pmid_title_abstract_70.csv', 'pmid_title_abstract_71.csv',\n",
       "       'pmid_title_abstract_72.csv', 'pmid_title_abstract_73.csv',\n",
       "       'pmid_title_abstract_74.csv', 'pmid_title_abstract_75.csv',\n",
       "       'pmid_title_abstract_76.csv', 'pmid_title_abstract_77.csv',\n",
       "       'pmid_title_abstract_78.csv', 'pmid_title_abstract_79.csv',\n",
       "       'pmid_title_abstract_8.csv', 'pmid_title_abstract_80.csv',\n",
       "       'pmid_title_abstract_81.csv', 'pmid_title_abstract_82.csv',\n",
       "       'pmid_title_abstract_83.csv', 'pmid_title_abstract_84.csv',\n",
       "       'pmid_title_abstract_85.csv', 'pmid_title_abstract_86.csv',\n",
       "       'pmid_title_abstract_87.csv', 'pmid_title_abstract_88.csv',\n",
       "       'pmid_title_abstract_89.csv', 'pmid_title_abstract_9.csv',\n",
       "       'pmid_title_abstract_90.csv', 'pmid_title_abstract_91.csv',\n",
       "       'pmid_title_abstract_92.csv', 'pmid_title_abstract_93.csv',\n",
       "       'pmid_title_abstract_94.csv', 'pmid_title_abstract_95.csv',\n",
       "       'pmid_title_abstract_96.csv', 'pmid_title_abstract_97.csv',\n",
       "       'pmid_title_abstract_98.csv', 'pmid_title_abstract_99.csv'],\n",
       "      dtype='<U27')"
      ]
     },
     "execution_count": 3,
     "metadata": {},
     "output_type": "execute_result"
    }
   ],
   "source": [
    "n1 = hf.get('unique_IDF')\n",
    "n1 = np.array(n1)\n",
    "n1"
   ]
  },
  {
   "cell_type": "code",
   "execution_count": 5,
   "id": "08789a11",
   "metadata": {},
   "outputs": [],
   "source": [
    "x1 = hf['unique_IDF']\n",
    "x1.keys()\n",
    "x2 = x1['pmid_title_abstract_1.csv']"
   ]
  },
  {
   "cell_type": "code",
   "execution_count": 6,
   "id": "3c581d1e",
   "metadata": {},
   "outputs": [
    {
     "name": "stdout",
     "output_type": "stream",
     "text": [
      "<KeysViewHDF5 ['V', '_ref']>\n",
      "[ 98314  98315  98316 ... 198053 198054 198055]\n"
     ]
    },
    {
     "data": {
      "text/plain": [
       "(99742, 200)"
      ]
     },
     "execution_count": 6,
     "metadata": {},
     "output_type": "execute_result"
    }
   ],
   "source": [
    "print(x2.keys())\n",
    "\n",
    "xx = x2['_ref']\n",
    "xx = np.array(xx)\n",
    "print(xx)\n",
    "\n",
    "x3 = x2['V']\n",
    "x3 = np.array(x3)\n",
    "val = x3\n",
    "x3.shape"
   ]
  },
  {
   "cell_type": "code",
   "execution_count": 2,
   "id": "81acaa84",
   "metadata": {},
   "outputs": [
    {
     "ename": "NameError",
     "evalue": "name 'hf' is not defined",
     "output_type": "error",
     "traceback": [
      "\u001b[0;31m---------------------------------------------------------------------------\u001b[0m",
      "\u001b[0;31mNameError\u001b[0m                                 Traceback (most recent call last)",
      "\u001b[0;32m/tmp/ipykernel_5731/2310463031.py\u001b[0m in \u001b[0;36m<module>\u001b[0;34m\u001b[0m\n\u001b[0;32m----> 1\u001b[0;31m \u001b[0mhf\u001b[0m\u001b[0;34m.\u001b[0m\u001b[0mclose\u001b[0m\u001b[0;34m(\u001b[0m\u001b[0;34m)\u001b[0m\u001b[0;34m\u001b[0m\u001b[0;34m\u001b[0m\u001b[0m\n\u001b[0m",
      "\u001b[0;31mNameError\u001b[0m: name 'hf' is not defined"
     ]
    }
   ],
   "source": [
    "hf.close()"
   ]
  },
  {
   "cell_type": "code",
   "execution_count": 45,
   "id": "b409b83a",
   "metadata": {},
   "outputs": [
    {
     "data": {
      "text/plain": [
       "array([[-0.05965453, -0.00578227, -0.01279581, ..., -0.07290949,\n",
       "        -0.06872617,  0.05075565],\n",
       "       [-0.13727423,  0.03843192,  0.06886609, ..., -0.02066254,\n",
       "        -0.06638643,  0.00965991],\n",
       "       [ 0.04905552, -0.00602249, -0.09208383, ...,  0.04191353,\n",
       "        -0.01943428, -0.08658876],\n",
       "       ...,\n",
       "       [ 0.05697763,  0.05986729,  0.01519381, ...,  0.00809084,\n",
       "         0.14198401,  0.06788855],\n",
       "       [ 0.11953789,  0.1710377 ,  0.00536755, ..., -0.02107219,\n",
       "        -0.08555055, -0.01661236],\n",
       "       [ 0.00332061,  0.14810488, -0.08909484, ...,  0.04461067,\n",
       "         0.15837549,  0.02542045]])"
      ]
     },
     "execution_count": 45,
     "metadata": {},
     "output_type": "execute_result"
    }
   ],
   "source": [
    "val"
   ]
  },
  {
   "cell_type": "code",
   "execution_count": 2,
   "id": "1e079b3a",
   "metadata": {},
   "outputs": [
    {
     "name": "stdout",
     "output_type": "stream",
     "text": [
      "[    0     1     2 ... 98311 98312 98313]\n",
      "pmid_title_abstract_0.csv\n",
      "[[ 0.12220564 -0.06521089 -0.04725014 ...  0.00526334 -0.05353307\n",
      "  -0.03251462]\n",
      " [-0.0509406  -0.10806097  0.02433374 ... -0.09332399  0.0228999\n",
      "  -0.01231188]\n",
      " [-0.03098825  0.0273562  -0.06008766 ... -0.08318502 -0.04810697\n",
      "   0.09462893]\n",
      " ...\n",
      " [-0.04976247  0.01020731 -0.10382641 ...  0.02599197  0.06204781\n",
      "   0.04910607]\n",
      " [-0.1489028  -0.04110633 -0.19022238 ... -0.06564088  0.02153881\n",
      "  -0.03135086]\n",
      " [-0.00162936  0.02143402 -0.02685589 ...  0.00458998  0.14804929\n",
      "  -0.04502128]]\n",
      "[ 98314  98315  98316 ... 198053 198054 198055]\n",
      "pmid_title_abstract_1.csv\n",
      "[[-0.05965453 -0.00578227 -0.01279581 ... -0.07290949 -0.06872617\n",
      "   0.05075565]\n",
      " [-0.13727423  0.03843192  0.06886609 ... -0.02066254 -0.06638643\n",
      "   0.00965991]\n",
      " [ 0.04905552 -0.00602249 -0.09208383 ...  0.04191353 -0.01943428\n",
      "  -0.08658876]\n",
      " ...\n",
      " [ 0.05697763  0.05986729  0.01519381 ...  0.00809084  0.14198401\n",
      "   0.06788855]\n",
      " [ 0.11953789  0.1710377   0.00536755 ... -0.02107219 -0.08555055\n",
      "  -0.01661236]\n",
      " [ 0.00332061  0.14810488 -0.08909484 ...  0.04461067  0.15837549\n",
      "   0.02542045]]\n"
     ]
    }
   ],
   "source": [
    "hf = h5py.File('document_scores.h5', 'r')\n",
    "#hf.keys()\n",
    "x1 = hf['unique_IDF']\n",
    "x1.keys()\n",
    "ddf = pd.DataFrame()\n",
    "cnt = 0\n",
    "for key, val in x1.items():\n",
    "        df = pd.DataFrame()\n",
    "        #print(\"    %s: %s\" % (key, val))\n",
    "        x2 = x1[key]['_ref']\n",
    "        x2 = np.array(x2)\n",
    "        print(x2)\n",
    "        print(str(key))\n",
    "        x3 = x1[key]['V']\n",
    "        print(np.array(x3))\n",
    "        \n",
    "        df['pmid'] = x2\n",
    "        df['file'] = str(key)\n",
    "        #ddf = ddf.append(df, ignore_index = True)\n",
    "        ddf = pd.concat([ddf, df], axis=0, ignore_index=True)\n",
    "        cnt += 1\n",
    "        if cnt == 2:\n",
    "            break\n",
    "#x1 = np.array(x1)\n",
    "\n",
    "#x2 = x1[0]\n",
    "#x2.keys()\n"
   ]
  },
  {
   "cell_type": "code",
   "execution_count": 3,
   "id": "5c715ecd",
   "metadata": {},
   "outputs": [
    {
     "data": {
      "text/html": [
       "<div>\n",
       "<style scoped>\n",
       "    .dataframe tbody tr th:only-of-type {\n",
       "        vertical-align: middle;\n",
       "    }\n",
       "\n",
       "    .dataframe tbody tr th {\n",
       "        vertical-align: top;\n",
       "    }\n",
       "\n",
       "    .dataframe thead th {\n",
       "        text-align: right;\n",
       "    }\n",
       "</style>\n",
       "<table border=\"1\" class=\"dataframe\">\n",
       "  <thead>\n",
       "    <tr style=\"text-align: right;\">\n",
       "      <th></th>\n",
       "      <th>pmid</th>\n",
       "      <th>file</th>\n",
       "    </tr>\n",
       "  </thead>\n",
       "  <tbody>\n",
       "    <tr>\n",
       "      <th>0</th>\n",
       "      <td>0</td>\n",
       "      <td>pmid_title_abstract_0.csv</td>\n",
       "    </tr>\n",
       "    <tr>\n",
       "      <th>1</th>\n",
       "      <td>1</td>\n",
       "      <td>pmid_title_abstract_0.csv</td>\n",
       "    </tr>\n",
       "    <tr>\n",
       "      <th>2</th>\n",
       "      <td>2</td>\n",
       "      <td>pmid_title_abstract_0.csv</td>\n",
       "    </tr>\n",
       "    <tr>\n",
       "      <th>3</th>\n",
       "      <td>3</td>\n",
       "      <td>pmid_title_abstract_0.csv</td>\n",
       "    </tr>\n",
       "    <tr>\n",
       "      <th>4</th>\n",
       "      <td>4</td>\n",
       "      <td>pmid_title_abstract_0.csv</td>\n",
       "    </tr>\n",
       "  </tbody>\n",
       "</table>\n",
       "</div>"
      ],
      "text/plain": [
       "   pmid                       file\n",
       "0     0  pmid_title_abstract_0.csv\n",
       "1     1  pmid_title_abstract_0.csv\n",
       "2     2  pmid_title_abstract_0.csv\n",
       "3     3  pmid_title_abstract_0.csv\n",
       "4     4  pmid_title_abstract_0.csv"
      ]
     },
     "execution_count": 3,
     "metadata": {},
     "output_type": "execute_result"
    }
   ],
   "source": [
    "ddf.head(5)"
   ]
  },
  {
   "cell_type": "code",
   "execution_count": 4,
   "id": "dcae548a",
   "metadata": {},
   "outputs": [
    {
     "data": {
      "text/plain": [
       "<HDF5 group \"/unique_IDF/pmid_title_abstract_1.csv\" (2 members)>"
      ]
     },
     "execution_count": 4,
     "metadata": {},
     "output_type": "execute_result"
    }
   ],
   "source": [
    "abc = ddf.to_numpy()\n",
    "abc[0][0]\n",
    "bbc = x1[abc[abc.shape[0]-1][1]]\n",
    "#bbc = x1[abc[0][1]]\n",
    "bbc"
   ]
  },
  {
   "cell_type": "code",
   "execution_count": 5,
   "id": "877b3b8f",
   "metadata": {},
   "outputs": [],
   "source": [
    "d = bbc['V']\n",
    "d = np.array(d)\n"
   ]
  },
  {
   "cell_type": "code",
   "execution_count": 6,
   "id": "ce1f3d20",
   "metadata": {},
   "outputs": [],
   "source": [
    "for key, val in bbc.attrs.items():\n",
    "        #print(\"    %s: %s\" % (key, val))\n",
    "        #print(\" %s\" % (val[0]))\n",
    "        print(\" %s\" % (val))\n",
    "        print(key)\n",
    "        "
   ]
  },
  {
   "cell_type": "code",
   "execution_count": 7,
   "id": "ff0a1459",
   "metadata": {},
   "outputs": [
    {
     "ename": "IndexError",
     "evalue": "index 0 is out of bounds for axis 0 with size 0",
     "output_type": "error",
     "traceback": [
      "\u001b[0;31m---------------------------------------------------------------------------\u001b[0m",
      "\u001b[0;31mIndexError\u001b[0m                                Traceback (most recent call last)",
      "\u001b[0;32m/tmp/ipykernel_26325/911822754.py\u001b[0m in \u001b[0;36m<module>\u001b[0;34m\u001b[0m\n\u001b[1;32m      1\u001b[0m \u001b[0mff\u001b[0m \u001b[0;34m=\u001b[0m \u001b[0mbbc\u001b[0m\u001b[0;34m[\u001b[0m\u001b[0;34m'_ref'\u001b[0m\u001b[0;34m]\u001b[0m\u001b[0;34m\u001b[0m\u001b[0;34m\u001b[0m\u001b[0m\n\u001b[1;32m      2\u001b[0m \u001b[0mff\u001b[0m \u001b[0;34m=\u001b[0m \u001b[0mnp\u001b[0m\u001b[0;34m.\u001b[0m\u001b[0marray\u001b[0m\u001b[0;34m(\u001b[0m\u001b[0mff\u001b[0m\u001b[0;34m)\u001b[0m\u001b[0;34m\u001b[0m\u001b[0;34m\u001b[0m\u001b[0m\n\u001b[0;32m----> 3\u001b[0;31m \u001b[0ma\u001b[0m \u001b[0;34m=\u001b[0m \u001b[0mnp\u001b[0m\u001b[0;34m.\u001b[0m\u001b[0mwhere\u001b[0m\u001b[0;34m(\u001b[0m\u001b[0mff\u001b[0m\u001b[0;34m==\u001b[0m\u001b[0;36m0\u001b[0m\u001b[0;34m)\u001b[0m\u001b[0;34m[\u001b[0m\u001b[0;36m0\u001b[0m\u001b[0;34m]\u001b[0m\u001b[0;34m[\u001b[0m\u001b[0;36m0\u001b[0m\u001b[0;34m]\u001b[0m\u001b[0;34m\u001b[0m\u001b[0;34m\u001b[0m\u001b[0m\n\u001b[0m\u001b[1;32m      4\u001b[0m \u001b[0mbbc\u001b[0m\u001b[0;34m[\u001b[0m\u001b[0;34m'_ref'\u001b[0m\u001b[0;34m]\u001b[0m\u001b[0;34m[\u001b[0m\u001b[0ma\u001b[0m\u001b[0;34m]\u001b[0m\u001b[0;34m\u001b[0m\u001b[0;34m\u001b[0m\u001b[0m\n",
      "\u001b[0;31mIndexError\u001b[0m: index 0 is out of bounds for axis 0 with size 0"
     ]
    }
   ],
   "source": [
    "ff = bbc['_ref']\n",
    "ff = np.array(ff)\n",
    "a = np.where(ff==0)[0][0]\n",
    "bbc['_ref'][a]"
   ]
  },
  {
   "cell_type": "code",
   "execution_count": 21,
   "id": "a0f58993",
   "metadata": {},
   "outputs": [
    {
     "data": {
      "text/plain": [
       "array([-0.13727423,  0.03843192,  0.06886609, -0.07069801, -0.03271987,\n",
       "        0.15505287,  0.04059191, -0.02411703, -0.12887137,  0.0823396 ,\n",
       "        0.08546727, -0.00042393,  0.01509653, -0.07819805, -0.06666958,\n",
       "        0.09474602,  0.05212683,  0.00119547,  0.06910057,  0.05714077,\n",
       "       -0.00033923,  0.00837511,  0.05378158,  0.0461118 , -0.03504255,\n",
       "       -0.07884597, -0.05030205,  0.0164373 ,  0.0187426 ,  0.08425867,\n",
       "       -0.03856608, -0.14377997, -0.01036226, -0.00171846,  0.12107549,\n",
       "       -0.02554212, -0.06585785,  0.03999596,  0.12881359, -0.05469795,\n",
       "       -0.06904515,  0.08710575,  0.00098677, -0.06341201,  0.01621584,\n",
       "        0.12555587,  0.10257498, -0.0812101 , -0.05058759,  0.0183581 ,\n",
       "       -0.11239972,  0.12076802,  0.05203338,  0.03357297, -0.11926784,\n",
       "        0.10493612, -0.1174612 , -0.06173019,  0.0324309 , -0.0642478 ,\n",
       "        0.06796959, -0.06123084,  0.06446921,  0.08236705, -0.14080476,\n",
       "       -0.03755753,  0.0361677 , -0.05091824,  0.02425793, -0.02783259,\n",
       "        0.06932482,  0.0241436 ,  0.02519795,  0.03798775,  0.1195279 ,\n",
       "        0.02821901, -0.15030257, -0.06143052,  0.11928276, -0.06940673,\n",
       "       -0.06937452,  0.13137812,  0.06448062, -0.05169835,  0.07618082,\n",
       "        0.03775925, -0.01293357, -0.01033955,  0.02519634, -0.11994274,\n",
       "        0.00245988, -0.0525119 , -0.04735969,  0.01665104, -0.08091225,\n",
       "        0.00756707,  0.05212286, -0.05321443, -0.08694249,  0.07395427,\n",
       "       -0.01351182, -0.00992885, -0.09860572, -0.02517231, -0.09977148,\n",
       "       -0.02509378, -0.13797298,  0.05762101, -0.04023561, -0.09507046,\n",
       "       -0.04361902,  0.04750587,  0.07307818, -0.01226168, -0.03517909,\n",
       "        0.00393566,  0.08811746,  0.05495195, -0.05151864,  0.07079968,\n",
       "       -0.0262378 ,  0.05831663,  0.13957021,  0.05208593,  0.04460053,\n",
       "       -0.07602088, -0.01561609, -0.10095008,  0.14300497, -0.02549522,\n",
       "        0.02961453, -0.0809901 , -0.13805233, -0.00033459,  0.03866348,\n",
       "       -0.08436693, -0.11136884, -0.11430975,  0.05048807, -0.03241881,\n",
       "       -0.13022302, -0.01311854, -0.02063959,  0.03897645,  0.07212964,\n",
       "       -0.0233657 ,  0.00720292,  0.09180668,  0.05952073, -0.06007167,\n",
       "        0.05285516, -0.01212153,  0.02871015, -0.01423318,  0.03563413,\n",
       "        0.04859654,  0.07753327,  0.03133694,  0.01541358,  0.03566008,\n",
       "        0.05001594,  0.06491664,  0.05365002, -0.0789739 ,  0.02089602,\n",
       "       -0.06159697,  0.02404802, -0.00252897,  0.07140772, -0.05872222,\n",
       "       -0.00035681, -0.02057385, -0.00025464,  0.05908233, -0.08627514,\n",
       "        0.10661705,  0.07213608,  0.06891132,  0.05432241, -0.1012401 ,\n",
       "        0.02122066, -0.07411022, -0.0286044 ,  0.10472217, -0.06203669,\n",
       "        0.10712048,  0.05811734,  0.00503783, -0.10544086,  0.11175502,\n",
       "       -0.04318868,  0.0493594 ,  0.14738692,  0.0600658 ,  0.06555913,\n",
       "        0.14009922,  0.06933328, -0.02066254, -0.06638643,  0.00965991])"
      ]
     },
     "execution_count": 21,
     "metadata": {},
     "output_type": "execute_result"
    }
   ],
   "source": [
    "arr2 = bbc['V'][1]\n",
    "arr2"
   ]
  },
  {
   "cell_type": "code",
   "execution_count": 22,
   "id": "12438a25",
   "metadata": {},
   "outputs": [
    {
     "data": {
      "text/plain": [
       "array([ 0.04905552, -0.00602249, -0.09208383,  0.0464174 , -0.01324679,\n",
       "       -0.02215121,  0.05441623,  0.02131699, -0.04554901,  0.11186645,\n",
       "        0.06708385, -0.01914388,  0.14665751,  0.04047838,  0.02262859,\n",
       "        0.02187702,  0.07254481,  0.04535825,  0.06860216,  0.0679987 ,\n",
       "        0.07701944,  0.059563  ,  0.01529675, -0.01808798,  0.02720829,\n",
       "       -0.0635517 , -0.03934824, -0.0975143 ,  0.02611034, -0.15208467,\n",
       "        0.11464362, -0.00896658,  0.061862  ,  0.10411696, -0.02650534,\n",
       "        0.0640656 ,  0.00339769, -0.04245843, -0.07030892,  0.01098805,\n",
       "        0.09374675, -0.04165111, -0.03746168, -0.17417612, -0.03238775,\n",
       "       -0.06296456,  0.00081511,  0.09240469, -0.00124061, -0.103001  ,\n",
       "       -0.05842783,  0.1306029 , -0.06869222,  0.03416561,  0.02635573,\n",
       "       -0.12083514, -0.01915427, -0.05761654, -0.03695603,  0.04703898,\n",
       "       -0.01208242,  0.0792902 ,  0.04242413, -0.01907945,  0.08132202,\n",
       "       -0.03429523,  0.07934352, -0.15015951, -0.07655725, -0.02884151,\n",
       "       -0.06267597, -0.07327828,  0.06442306,  0.15450793,  0.08119748,\n",
       "       -0.01950374,  0.08209542, -0.06605484, -0.10693541, -0.10191822,\n",
       "        0.12462239, -0.11176364,  0.08447789, -0.04111809, -0.07557399,\n",
       "       -0.02828629, -0.01803974,  0.05354832, -0.02774711,  0.00746845,\n",
       "       -0.01961412,  0.01766409, -0.01008957,  0.04397031,  0.02594858,\n",
       "       -0.07452931, -0.10227944,  0.03022228, -0.03050421,  0.10465381,\n",
       "        0.02936132,  0.0630282 , -0.02792465, -0.13383747,  0.04471871,\n",
       "        0.07902801,  0.07310304, -0.04983007,  0.00572073,  0.01531252,\n",
       "        0.00634091, -0.04072832,  0.04591034, -0.07514624,  0.06043987,\n",
       "       -0.03375431,  0.00303031,  0.00378906, -0.04357745, -0.08988124,\n",
       "       -0.04342131,  0.1426077 ,  0.10576672, -0.10618016,  0.02918419,\n",
       "       -0.14014713,  0.02141555, -0.03877459, -0.0116188 ,  0.05897176,\n",
       "        0.15549764,  0.06773174, -0.03937088,  0.08532078,  0.06509457,\n",
       "       -0.02484548, -0.02443396, -0.04881477,  0.09552665,  0.05916965,\n",
       "        0.02247244, -0.01523927, -0.08246194, -0.07964676,  0.06960103,\n",
       "       -0.05356994,  0.07320365,  0.06259031,  0.10509906,  0.11032349,\n",
       "       -0.01575271, -0.07972809,  0.03455252,  0.07914996,  0.04695402,\n",
       "        0.05649671, -0.03593182,  0.13994983,  0.03581849,  0.03309811,\n",
       "       -0.03158253, -0.14517488,  0.02181825, -0.04201438,  0.02588399,\n",
       "       -0.05819174,  0.10733072,  0.04236491, -0.08127397,  0.05887475,\n",
       "        0.09569171,  0.0132418 , -0.03976871,  0.0085928 , -0.03026443,\n",
       "        0.11070044, -0.06805942,  0.05922357, -0.02669755, -0.14191748,\n",
       "        0.05861583,  0.0824012 , -0.14337608,  0.06882838,  0.02941029,\n",
       "        0.06071381,  0.01049094, -0.01724221, -0.08095875, -0.17328225,\n",
       "       -0.01992959,  0.01494748, -0.0518778 ,  0.04537045, -0.07180507,\n",
       "        0.05112983, -0.12158858,  0.04191353, -0.01943428, -0.08658876])"
      ]
     },
     "execution_count": 22,
     "metadata": {},
     "output_type": "execute_result"
    }
   ],
   "source": [
    "arr1 = bbc['V'][2]\n",
    "arr1"
   ]
  },
  {
   "cell_type": "code",
   "execution_count": 23,
   "id": "d30f935a",
   "metadata": {},
   "outputs": [
    {
     "name": "stdout",
     "output_type": "stream",
     "text": [
      "-2.8190319922849483e-07\n",
      "-2.8190319921114765e-07\n",
      "-2.8190319921114765e-07\n",
      "-2.8190319921114765e-07\n",
      "-2.819031992111476e-07\n"
     ]
    }
   ],
   "source": [
    "\n",
    "\n",
    "def cosine_similarity_calc(vec_1,vec_2):\n",
    "    \n",
    "    sim = np.dot(vec_1,vec_2)/(np.linalg.norm(vec_1)*np.linalg.norm(vec_2))\n",
    "    \n",
    "    return sim\n",
    "def cosine_similarity2(a, b):\n",
    "    nominator = np.dot(a, b)\n",
    "    \n",
    "    a_norm = np.sqrt(np.sum(a**2))\n",
    "    b_norm = np.sqrt(np.sum(b**2))\n",
    "    \n",
    "    denominator = a_norm * b_norm\n",
    "    \n",
    "    cosine_similarity = nominator / denominator\n",
    "    \n",
    "    return cosine_similarity\n",
    "print(1.0-distance.cosine(arr1, arr2))\n",
    "cosine = np.dot(arr1,arr2)/(norm(arr1)*norm(arr2))\n",
    "print(cosine)\n",
    "csine = cosine_similarity2(arr1, arr2)\n",
    "print(csine)\n",
    "cs1 = cosine_similarity_calc(arr1, arr2)\n",
    "print(cs1)\n",
    "\n",
    "a1 = arr1.reshape(1, -1)\n",
    "a2 = arr2.reshape(1, -1)\n",
    "cs2 = cosine_similarity(a1, a2)\n",
    "print(cs2[0][0])"
   ]
  },
  {
   "cell_type": "code",
   "execution_count": 110,
   "id": "55d1ecc2",
   "metadata": {},
   "outputs": [
    {
     "data": {
      "text/html": [
       "<div>\n",
       "<style scoped>\n",
       "    .dataframe tbody tr th:only-of-type {\n",
       "        vertical-align: middle;\n",
       "    }\n",
       "\n",
       "    .dataframe tbody tr th {\n",
       "        vertical-align: top;\n",
       "    }\n",
       "\n",
       "    .dataframe thead th {\n",
       "        text-align: right;\n",
       "    }\n",
       "</style>\n",
       "<table border=\"1\" class=\"dataframe\">\n",
       "  <thead>\n",
       "    <tr style=\"text-align: right;\">\n",
       "      <th></th>\n",
       "      <th>pmid</th>\n",
       "      <th>file</th>\n",
       "    </tr>\n",
       "  </thead>\n",
       "  <tbody>\n",
       "    <tr>\n",
       "      <th>198055</th>\n",
       "      <td>198055</td>\n",
       "      <td>pmid_title_abstract_1.csv</td>\n",
       "    </tr>\n",
       "  </tbody>\n",
       "</table>\n",
       "</div>"
      ],
      "text/plain": [
       "          pmid                       file\n",
       "198055  198055  pmid_title_abstract_1.csv"
      ]
     },
     "execution_count": 110,
     "metadata": {},
     "output_type": "execute_result"
    }
   ],
   "source": [
    "ddf[ddf['pmid'] == 198055]"
   ]
  },
  {
   "cell_type": "code",
   "execution_count": null,
   "id": "b27e4ca8",
   "metadata": {},
   "outputs": [],
   "source": [
    "data = pd.DataFrame()\n",
    "data['id'] = ['a','b','c']\n",
    "data['val'] = [1,22,3]\n",
    "data = data.set_index('id').to_dict()['val']\n",
    "if 'a' in data:\n",
    "    print(data.get('a'))\n",
    "else:\n",
    "    print(\"no\")"
   ]
  },
  {
   "cell_type": "code",
   "execution_count": 23,
   "id": "e3285ec3",
   "metadata": {},
   "outputs": [
    {
     "data": {
      "text/plain": [
       "2005"
      ]
     },
     "execution_count": 23,
     "metadata": {},
     "output_type": "execute_result"
    }
   ],
   "source": [
    "random.randint(2000, 2020)"
   ]
  },
  {
   "cell_type": "code",
   "execution_count": null,
   "id": "da6284cd",
   "metadata": {},
   "outputs": [],
   "source": []
  }
 ],
 "metadata": {
  "kernelspec": {
   "display_name": "Python 3 (ipykernel)",
   "language": "python",
   "name": "python3"
  },
  "language_info": {
   "codemirror_mode": {
    "name": "ipython",
    "version": 3
   },
   "file_extension": ".py",
   "mimetype": "text/x-python",
   "name": "python",
   "nbconvert_exporter": "python",
   "pygments_lexer": "ipython3",
   "version": "3.9.6"
  }
 },
 "nbformat": 4,
 "nbformat_minor": 5
}
