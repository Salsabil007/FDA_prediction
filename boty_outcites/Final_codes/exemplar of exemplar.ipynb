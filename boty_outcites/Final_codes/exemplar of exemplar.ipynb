{
 "cells": [
  {
   "cell_type": "code",
   "execution_count": 1,
   "id": "f107c306",
   "metadata": {},
   "outputs": [],
   "source": [
    "import pandas as pd\n",
    "import numpy as np\n",
    "import matplotlib.pyplot as plt"
   ]
  },
  {
   "cell_type": "code",
   "execution_count": 2,
   "id": "0c8fb8c7",
   "metadata": {},
   "outputs": [
    {
     "name": "stdout",
     "output_type": "stream",
     "text": [
      "            id    cl\n",
      "3665  22284660  2099\n",
      "3667  21809959  2099\n",
      "3668  22319005  2099\n",
      "3669  21777759  2099\n",
      "3670  22215891  2099\n",
      "3672  20966417  2099\n",
      "3673  18757287  2099\n",
      "3677  20609686  2099\n",
      "3678  22215856  2099\n",
      "4207  22785434  2099\n",
      "citing             int64\n",
      "referenced         int64\n",
      "citing_year        int64\n",
      "referenced_year    int64\n",
      "isin               int64\n",
      "dtype: object\n"
     ]
    }
   ],
   "source": [
    "yr = 2012\n",
    "cl = 2099\n",
    "data = pd.read_csv(\"~/Documents/PhD/project_nobel/boty/boty_outcites/leiden_cluster_table_\"+str(yr)+\".tsv\", sep=\"\\t\")\n",
    "data = data[data.cl == cl]\n",
    "print(data.head(10))\n",
    "x = data['id']\n",
    "d = pd.read_csv(\"~/Documents/PhD/project_nobel/boty/boty_outcites/occ_year_\"+str(yr)+\".csv\")\n",
    "d['isin'] = 0\n",
    "print(d.dtypes)"
   ]
  },
  {
   "cell_type": "code",
   "execution_count": 3,
   "id": "87954f88",
   "metadata": {},
   "outputs": [],
   "source": [
    "for ind in d.index:\n",
    "    x1 = d['citing'][ind]\n",
    "    x2 = d['referenced'][ind]\n",
    "    dd1 = data[data.id == x1]\n",
    "    dd2 = data[data.id == x2]\n",
    "    if len(dd1)>0 or len(dd2) > 0:\n",
    "        d['isin'][ind] = 1\n",
    "    \n",
    "d = d[d['isin'] == 1]\n",
    "d.to_csv(\"eliquis_2012_2099_2.csv\", index = False)"
   ]
  },
  {
   "cell_type": "code",
   "execution_count": 5,
   "id": "d07f9114",
   "metadata": {},
   "outputs": [
    {
     "name": "stdout",
     "output_type": "stream",
     "text": [
      "              id    cl\n",
      "19987358  139128  1920\n"
     ]
    }
   ],
   "source": [
    "df = pd.read_csv(\"~/Documents/PhD/project_nobel/boty/boty_outcites/leiden_cluster_table_\"+str(yr)+\".tsv\", sep=\"\\t\")\n",
    "df = df[df['id'] == 498571]\n",
    "print(df)"
   ]
  },
  {
   "cell_type": "code",
   "execution_count": null,
   "id": "2c87b9d6",
   "metadata": {},
   "outputs": [],
   "source": []
  }
 ],
 "metadata": {
  "kernelspec": {
   "display_name": "Python 3 (ipykernel)",
   "language": "python",
   "name": "python3"
  },
  "language_info": {
   "codemirror_mode": {
    "name": "ipython",
    "version": 3
   },
   "file_extension": ".py",
   "mimetype": "text/x-python",
   "name": "python",
   "nbconvert_exporter": "python",
   "pygments_lexer": "ipython3",
   "version": "3.9.6"
  }
 },
 "nbformat": 4,
 "nbformat_minor": 5
}
