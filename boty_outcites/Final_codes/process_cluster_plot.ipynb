{
 "cells": [
  {
   "cell_type": "code",
   "execution_count": 1,
   "id": "3f270428",
   "metadata": {},
   "outputs": [],
   "source": [
    "import pandas as pd\n",
    "import numpy as np"
   ]
  },
  {
   "cell_type": "code",
   "execution_count": 11,
   "id": "350a82ba",
   "metadata": {},
   "outputs": [
    {
     "name": "stdout",
     "output_type": "stream",
     "text": [
      "id            int64\n",
      "referenced    int64\n",
      "dtype: object\n",
      "id            int64\n",
      "referenced    int64\n",
      "cl            int64\n",
      "dtype: object\n"
     ]
    }
   ],
   "source": [
    "data = pd.read_csv(\"alecensa_2013_960_2.csv\")\n",
    "data = data.drop(['isin','citing_year','referenced_year'], axis = 1)\n",
    "\n",
    "data = data.rename(columns={\"citing\":\"id\"})\n",
    "print(data.dtypes)\n",
    "\n",
    "yr = 2013\n",
    "cl = 960\n",
    "data2 = pd.read_csv(\"~/Documents/PhD/project_nobel/boty/boty_outcites/leiden_cluster_table_\"+str(yr)+\".tsv\", sep=\"\\t\")\n",
    "\n",
    "result = pd.merge(data,data2,on=['id'],how = \"inner\")\n",
    "print(result.dtypes)"
   ]
  },
  {
   "cell_type": "code",
   "execution_count": 13,
   "id": "b7334d4f",
   "metadata": {},
   "outputs": [
    {
     "name": "stdout",
     "output_type": "stream",
     "text": [
      "        id    cl\n",
      "0      594  4034\n",
      "1  8616107   960\n",
      "2  8616107   960\n",
      "3  8616107   960\n",
      "4  8616107   960\n",
      "5  8616107   960\n",
      "6  8616107   960\n",
      "7  8616107   960\n",
      "8  8616107   960\n",
      "9  8635384   857\n"
     ]
    }
   ],
   "source": [
    "result = result.drop(['referenced'], axis = 1)\n",
    "print(result.head(10))\n",
    "result.to_csv(\"alecensa_2013_960_citing.csv\", index = False)"
   ]
  },
  {
   "cell_type": "code",
   "execution_count": 14,
   "id": "68e130dd",
   "metadata": {},
   "outputs": [
    {
     "name": "stdout",
     "output_type": "stream",
     "text": [
      "citing    int64\n",
      "id        int64\n",
      "dtype: object\n",
      "citing    int64\n",
      "id        int64\n",
      "cl        int64\n",
      "dtype: object\n",
      "         id   cl\n",
      "0  22162641  960\n",
      "1  22162641  960\n",
      "2  22162641  960\n",
      "3  22162641  960\n",
      "4  22162641  960\n",
      "5  22162641  960\n",
      "6  22162641  960\n",
      "7  22162641  960\n",
      "8  22162641  960\n",
      "9  22162641  960\n"
     ]
    }
   ],
   "source": [
    "data = pd.read_csv(\"alecensa_2013_960_2.csv\")\n",
    "data = data.drop(['isin','citing_year','referenced_year'], axis = 1)\n",
    "\n",
    "data = data.rename(columns={\"referenced\":\"id\"})\n",
    "print(data.dtypes)\n",
    "\n",
    "yr = 2013\n",
    "cl = 960\n",
    "data2 = pd.read_csv(\"~/Documents/PhD/project_nobel/boty/boty_outcites/leiden_cluster_table_\"+str(yr)+\".tsv\", sep=\"\\t\")\n",
    "\n",
    "result = pd.merge(data,data2,on=['id'],how = \"inner\")\n",
    "print(result.dtypes)\n",
    "\n",
    "result = result.drop(['citing'], axis = 1)\n",
    "print(result.head(10))\n",
    "result.to_csv(\"alecensa_2013_960_referenced.csv\", index = False)"
   ]
  },
  {
   "cell_type": "code",
   "execution_count": 17,
   "id": "e2f4cee7",
   "metadata": {},
   "outputs": [
    {
     "name": "stdout",
     "output_type": "stream",
     "text": [
      "71249   71249\n",
      "142498\n"
     ]
    },
    {
     "name": "stderr",
     "output_type": "stream",
     "text": [
      "/tmp/ipykernel_8283/2978910294.py:4: FutureWarning: The frame.append method is deprecated and will be removed from pandas in a future version. Use pandas.concat instead.\n",
      "  d1 = d1.append(d2, ignore_index = True)\n"
     ]
    }
   ],
   "source": [
    "d1 = pd.read_csv(\"alecensa_2013_960_referenced.csv\")\n",
    "d2 = pd.read_csv(\"alecensa_2013_960_citing.csv\")\n",
    "print(len(d1),\" \",len(d2))\n",
    "d1 = d1.append(d2, ignore_index = True)\n",
    "print(len(d1))\n"
   ]
  },
  {
   "cell_type": "code",
   "execution_count": 22,
   "id": "cedb5a23",
   "metadata": {},
   "outputs": [
    {
     "name": "stdout",
     "output_type": "stream",
     "text": [
      "69        5909\n",
      "736       2553\n",
      "1321      1352\n",
      "2973      1101\n",
      "3553      1017\n",
      "          ... \n",
      "61816        1\n",
      "2188         1\n",
      "22623        1\n",
      "16895        1\n",
      "796981       1\n",
      "Name: cl, Length: 3195, dtype: int64\n"
     ]
    }
   ],
   "source": [
    "d1 = d1[d1['cl'] != 960]\n",
    "print(d1['cl'].value_counts(ascending=False))"
   ]
  },
  {
   "cell_type": "code",
   "execution_count": null,
   "id": "80fb1753",
   "metadata": {},
   "outputs": [],
   "source": []
  }
 ],
 "metadata": {
  "kernelspec": {
   "display_name": "Python 3 (ipykernel)",
   "language": "python",
   "name": "python3"
  },
  "language_info": {
   "codemirror_mode": {
    "name": "ipython",
    "version": 3
   },
   "file_extension": ".py",
   "mimetype": "text/x-python",
   "name": "python",
   "nbconvert_exporter": "python",
   "pygments_lexer": "ipython3",
   "version": "3.9.6"
  }
 },
 "nbformat": 4,
 "nbformat_minor": 5
}
