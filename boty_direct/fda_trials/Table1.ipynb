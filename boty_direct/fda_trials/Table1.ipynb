{
 "cells": [
  {
   "cell_type": "code",
   "execution_count": 30,
   "id": "5fcc6d72",
   "metadata": {},
   "outputs": [],
   "source": [
    "import pandas as pd\n",
    "import numpy as np\n",
    "from sklearn.preprocessing import StandardScaler, LabelEncoder, minmax_scale\n",
    "import seaborn as sns\n",
    "import matplotlib.pyplot as plt\n",
    "from sklearn.metrics import confusion_matrix\n",
    "import sys \n",
    "#from keras.models import Sequential\n",
    "#from keras.layers import Dense\n",
    "#from keras.utils import np_utils\n",
    "import tensorflow as tf\n",
    "#from keras.regularizers import L1L2\n",
    "from sklearn.metrics import confusion_matrix, precision_score, recall_score, f1_score, cohen_kappa_score\n",
    "from sklearn.utils import shuffle\n",
    "#from keras.callbacks import EarlyStopping\n",
    "from sklearn.linear_model import LogisticRegression\n",
    "from sklearn import svm\n",
    "from sklearn.model_selection import KFold\n",
    "from sklearn.model_selection import cross_val_score\n",
    "from featurewiz import featurewiz\n",
    "from sklearn.metrics import f1_score\n",
    "from sklearn.feature_selection import SelectKBest, f_classif, chi2, RFE\n",
    "from sklearn.feature_selection import mutual_info_classif\n",
    "from scipy import stats\n",
    "np.random.seed(19680801)"
   ]
  },
  {
   "cell_type": "code",
   "execution_count": 31,
   "id": "94c3b71c",
   "metadata": {},
   "outputs": [
    {
     "name": "stdout",
     "output_type": "stream",
     "text": [
      "228\n",
      "223\n",
      "223\n"
     ]
    }
   ],
   "source": [
    "data = pd.read_csv(\"gold_control_datapoints_prized_samp_fda.csv\")\n",
    "data = data.sort_values(by=['cluster'])\n",
    "data = shuffle(data)\n",
    "data = shuffle(data)\n",
    "data = shuffle(data)\n",
    "data = shuffle(data)\n",
    "data = shuffle(data)\n",
    "data = shuffle(data)\n",
    "data = shuffle(data)\n",
    "data = shuffle(data)\n",
    "data = shuffle(data)\n",
    "data = shuffle(data)\n",
    "print(len(data))\n",
    "data.dropna(axis=0, inplace= True)\n",
    "print(len(data))\n",
    "data['class'] = data['class'].astype(int)\n",
    "#print(data.dtypes)\n",
    "#data = data[data.year >= 1984]\n",
    "data = data.sort_values(by=['year'])\n",
    "data.to_csv(\"data_84.csv\", index = False)\n",
    "print(len(data))"
   ]
  },
  {
   "cell_type": "code",
   "execution_count": 32,
   "id": "2e8ac0c7",
   "metadata": {},
   "outputs": [],
   "source": [
    "cv5, cv10,cv20 = 0,0,0"
   ]
  },
  {
   "cell_type": "code",
   "execution_count": 33,
   "id": "b37ca027",
   "metadata": {},
   "outputs": [
    {
     "name": "stdout",
     "output_type": "stream",
     "text": [
      "pct_is_new                   float64\n",
      "pct_is_newish                float64\n",
      "n_biggest_anc                  int64\n",
      "pct_of_biggest_anc           float64\n",
      "pct_of_secbiggest_anc_new    float64\n",
      "pct_top_5_anc                float64\n",
      "wrcr                         float64\n",
      "rcr_mid                      float64\n",
      "rcr_hi                       float64\n",
      "human                        float64\n",
      "animal                       float64\n",
      "molecular_cellular           float64\n",
      "is_clinical                  float64\n",
      "is_research_article          float64\n",
      "cited_by_clin                float64\n",
      "nih                          float64\n",
      "rage                         float64\n",
      "dtype: object\n",
      "cross validated f1 score  0.7806376956376957\n"
     ]
    }
   ],
   "source": [
    "x_train = pd.read_csv(\"data_84.csv\")\n",
    "y_train = x_train['class']\n",
    "x_train = x_train.drop(['class','cluster','year','n','pct_dusted_ccn','pct_dusted_rmcl',\n",
    "                           'pct_in_secbiggest_anc','rcr_low','secbiggest_anc',\n",
    "                           'pct_of_biggest_anc_newish','pct_of_biggest_anc_new','n_clusts_90_anc','pct_of_secbiggest_anc'\n",
    "                           ,'pct_in_biggest_anc','biggest_anc','pct_of_secbiggest_anc_newish','n_secbiggest_anc'\n",
    "                            ], axis = 1)\n",
    "x_train[['pct_of_biggest_anc','wrcr','rcr_hi']] = minmax_scale(x_train[[\n",
    "    'pct_of_biggest_anc','wrcr','rcr_hi']])\n",
    "print(x_train.dtypes)\n",
    "x_train =  StandardScaler().fit_transform(x_train) \n",
    "\n",
    "\n",
    "\n",
    "y_train = np.array(y_train)\n",
    "model = LogisticRegression(random_state=0, C = 10).fit(x_train,y_train) ##logistioc\n",
    "    \n",
    "#print(model.intercept_, model.coef_, model.score(x_train, y_train))\n",
    "scores = cross_val_score(model, x_train, y_train, cv=20,scoring = \"f1\")\n",
    "\n",
    "cv5 = cross_val_score(model, x_train, y_train, cv=5,scoring = \"f1\")\n",
    "cv5 = cv5.mean()\n",
    "cv10 = cross_val_score(model, x_train, y_train, cv=10,scoring = \"f1\")\n",
    "cv10 = cv10.mean()\n",
    "cv20 = cross_val_score(model, x_train, y_train, cv=20,scoring = \"f1\")\n",
    "cv20 = cv20.mean()\n",
    "\n",
    "print(\"cross validated f1 score \",scores.mean())"
   ]
  },
  {
   "cell_type": "code",
   "execution_count": 34,
   "id": "c65a7de5",
   "metadata": {},
   "outputs": [
    {
     "name": "stdout",
     "output_type": "stream",
     "text": [
      "cv5 0.7441480778357854 cv10 0.755420047520553 cv20 0.7806376956376957\n"
     ]
    }
   ],
   "source": [
    "print(\"cv5 {} cv10 {} cv20 {}\".format(cv5,cv10,cv20))"
   ]
  },
  {
   "cell_type": "code",
   "execution_count": null,
   "id": "2e5f050e",
   "metadata": {},
   "outputs": [],
   "source": []
  }
 ],
 "metadata": {
  "kernelspec": {
   "display_name": "Python 3 (ipykernel)",
   "language": "python",
   "name": "python3"
  },
  "language_info": {
   "codemirror_mode": {
    "name": "ipython",
    "version": 3
   },
   "file_extension": ".py",
   "mimetype": "text/x-python",
   "name": "python",
   "nbconvert_exporter": "python",
   "pygments_lexer": "ipython3",
   "version": "3.9.6"
  }
 },
 "nbformat": 4,
 "nbformat_minor": 5
}
