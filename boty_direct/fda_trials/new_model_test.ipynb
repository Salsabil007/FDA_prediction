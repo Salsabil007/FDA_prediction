{
 "cells": [
  {
   "cell_type": "code",
   "execution_count": 1,
   "id": "a4b4d3f4",
   "metadata": {},
   "outputs": [
    {
     "name": "stdout",
     "output_type": "stream",
     "text": [
      "Imported version = 0.1.70.\n",
      "from featurewiz import FeatureWiz\n",
      "wiz = FeatureWiz(verbose=1)\n",
      "X_train_selected = wiz.fit_transform(X_train, y_train)\n",
      "X_test_selected = wiz.transform(X_test)\n",
      "wiz.features  ### provides a list of selected features ###\n",
      "                                \n"
     ]
    }
   ],
   "source": [
    "import pandas as pd\n",
    "import numpy as np\n",
    "from sklearn.preprocessing import StandardScaler, LabelEncoder, minmax_scale\n",
    "import seaborn as sns\n",
    "import matplotlib.pyplot as plt\n",
    "from sklearn.metrics import confusion_matrix\n",
    "import sys \n",
    "#from keras.models import Sequential\n",
    "#from keras.layers import Dense\n",
    "#from keras.utils import np_utils\n",
    "import tensorflow as tf\n",
    "#from keras.regularizers import L1L2\n",
    "from sklearn.metrics import confusion_matrix, precision_score, recall_score, f1_score, cohen_kappa_score\n",
    "from sklearn.utils import shuffle\n",
    "#from keras.callbacks import EarlyStopping\n",
    "from sklearn.linear_model import LogisticRegression\n",
    "from sklearn import svm\n",
    "from sklearn.model_selection import KFold\n",
    "from sklearn.model_selection import cross_val_score\n",
    "from featurewiz import featurewiz\n",
    "from sklearn.metrics import f1_score\n",
    "from sklearn.feature_selection import SelectKBest, f_classif, chi2, RFE\n",
    "from sklearn.feature_selection import mutual_info_classif\n",
    "from scipy import stats\n",
    "np.random.seed(19680801)"
   ]
  },
  {
   "cell_type": "code",
   "execution_count": 2,
   "id": "03d8fb5f",
   "metadata": {},
   "outputs": [
    {
     "name": "stdout",
     "output_type": "stream",
     "text": [
      "pct_is_new                   0.111456\n",
      "pct_is_newish                0.103262\n",
      "n_biggest_anc                0.067415\n",
      "pct_of_biggest_anc           0.022574\n",
      "pct_of_secbiggest_anc_new    0.039359\n",
      "pct_top_5_anc                0.022648\n",
      "wrcr                         0.063189\n",
      "rcr_mid                      0.114117\n",
      "rcr_hi                       0.088574\n",
      "human                        0.124285\n",
      "animal                       0.139776\n",
      "molecular_cellular           0.080553\n",
      "is_clinical                  0.120856\n",
      "is_research_article          0.138533\n",
      "cited_by_clin                0.150842\n",
      "nih                          0.106868\n",
      "rage                         0.037880\n",
      "dtype: float64\n"
     ]
    },
    {
     "data": {
      "image/png": "[encoded data removed]",
      "text/plain": [
       "<Figure size 432x288 with 1 Axes>"
      ]
     },
     "metadata": {
      "needs_background": "light"
     },
     "output_type": "display_data"
    },
    {
     "name": "stdout",
     "output_type": "stream",
     "text": [
      "[0.59073319] [[ 6.19878230e-01  5.06719468e-01  1.34233580e-05  4.83219349e-01\n",
      "   8.21613391e-02  5.76534355e-01 -2.20338761e-02  1.43318461e+00\n",
      "   1.22636911e+00  2.09090922e+00 -5.99536180e-01 -7.62250317e-01\n",
      "   4.29989489e-01 -6.60660656e-02  1.35265069e+00 -1.43875187e-01\n",
      "  -6.36715565e-01]] 0.7757847533632287\n",
      "cross validated f1 score  0.7801383399209486\n"
     ]
    }
   ],
   "source": [
    "#best f1 score\n",
    "x_train = pd.read_csv(\"data_84.csv\")\n",
    "y_train = x_train['class']\n",
    "x_train = x_train.drop(['class','cluster','year','n','pct_dusted_ccn','pct_dusted_rmcl',\n",
    "                           'pct_in_secbiggest_anc','rcr_low','secbiggest_anc',\n",
    "                           'pct_of_biggest_anc_newish','pct_of_biggest_anc_new','n_clusts_90_anc','pct_of_secbiggest_anc'\n",
    "                           ,'pct_in_biggest_anc','biggest_anc','pct_of_secbiggest_anc_newish','n_secbiggest_anc'\n",
    "                            ], axis = 1)\n",
    "x_train[['pct_of_biggest_anc','wrcr','rcr_hi']] = minmax_scale(x_train[[\n",
    "    'pct_of_biggest_anc','wrcr','rcr_hi']])\n",
    "\n",
    "\n",
    "importance = mutual_info_classif(x_train,y_train)\n",
    "feat_imp = pd.Series(importance,x_train.columns[0:len(x_train.columns)])\n",
    "print(feat_imp)\n",
    "feat_imp.plot(kind = 'barh',color = 'teal')\n",
    "plt.show()\n",
    "\n",
    "#x_train =  StandardScaler().fit_transform(x_train) \n",
    "\n",
    "\n",
    "\n",
    "y_train = np.array(y_train)\n",
    "model = LogisticRegression(random_state=0, C = 10).fit(x_train,y_train) ##logistioc\n",
    "    \n",
    "print(model.intercept_, model.coef_, model.score(x_train, y_train))\n",
    "scores = cross_val_score(model, x_train, y_train, cv=10,scoring = \"f1\")\n",
    "print(\"cross validated f1 score \",scores.mean())"
   ]
  },
  {
   "cell_type": "code",
   "execution_count": 37,
   "id": "1c578401",
   "metadata": {},
   "outputs": [
    {
     "name": "stdout",
     "output_type": "stream",
     "text": [
      "actual len  5621\n",
      "len of xtest  1479\n",
      "pct_is_new                   float64\n",
      "pct_is_newish                float64\n",
      "n_biggest_anc                float64\n",
      "pct_of_biggest_anc           float64\n",
      "pct_of_secbiggest_anc_new    float64\n",
      "pct_top_5_anc                float64\n",
      "wrcr                         float64\n",
      "rcr_mid                      float64\n",
      "rcr_hi                       float64\n",
      "human                        float64\n",
      "animal                       float64\n",
      "molecular_cellular           float64\n",
      "is_clinical                  float64\n",
      "is_research_article          float64\n",
      "cited_by_clin                float64\n",
      "nih                          float64\n",
      "rage                         float64\n",
      "dtype: object\n",
      "hdhdhd before  223\n",
      "len of xtrain  219\n",
      "year   1978\n",
      "[1979 1991 1992 1993 1994 1996 1998 1999 2000 2003 2006 2007 2008 2009\n",
      " 2010 2011 2012 2013 2014 2015 2016 2017 2018 2019 2020]\n",
      "cv score  0.7344405594405594\n",
      "(1479,)\n",
      "no of positive  1090\n",
      "len of predy  729\n"
     ]
    },
    {
     "data": {
      "image/png": "[encoded data removed]",
      "text/plain": [
       "<Figure size 432x288 with 1 Axes>"
      ]
     },
     "metadata": {
      "needs_background": "light"
     },
     "output_type": "display_data"
    },
    {
     "name": "stdout",
     "output_type": "stream",
     "text": [
      "$$$  1479   729\n",
      "total positive  729\n",
      "tp tn fp fn 0   0   0   0\n",
      "year  1978 positive  0\n",
      "actual len  5840\n",
      "len of xtest  1463\n",
      "pct_is_new                   float64\n",
      "pct_is_newish                float64\n",
      "n_biggest_anc                  int64\n",
      "pct_of_biggest_anc           float64\n",
      "pct_of_secbiggest_anc_new    float64\n",
      "pct_top_5_anc                float64\n",
      "wrcr                         float64\n",
      "rcr_mid                      float64\n",
      "rcr_hi                       float64\n",
      "human                        float64\n",
      "animal                       float64\n",
      "molecular_cellular           float64\n",
      "is_clinical                  float64\n",
      "is_research_article          float64\n",
      "cited_by_clin                float64\n",
      "nih                          float64\n",
      "rage                         float64\n",
      "dtype: object\n",
      "hdhdhd before  223\n",
      "len of xtrain  218\n",
      "year   1979\n",
      "[1991 1992 1993 1994 1996 1998 1999 2000 2003 2006 2007 2008 2009 2010\n",
      " 2011 2012 2013 2014 2015 2016 2017 2018 2019 2020]\n",
      "cv score  0.7346642246642248\n",
      "(1463,)\n",
      "no of positive  1033\n",
      "len of predy  678\n"
     ]
    },
    {
     "data": {
      "image/png": "[encoded data removed]",
      "text/plain": [
       "<Figure size 432x288 with 1 Axes>"
      ]
     },
     "metadata": {
      "needs_background": "light"
     },
     "output_type": "display_data"
    },
    {
     "name": "stdout",
     "output_type": "stream",
     "text": [
      "$$$  1463   678\n",
      "total positive  678\n",
      "tp tn fp fn 1   0   0   0\n",
      "year  1979 positive  1\n",
      "actual len  6110\n",
      "len of xtest  1421\n",
      "pct_is_new                   float64\n",
      "pct_is_newish                float64\n",
      "n_biggest_anc                float64\n",
      "pct_of_biggest_anc           float64\n",
      "pct_of_secbiggest_anc_new    float64\n",
      "pct_top_5_anc                float64\n",
      "wrcr                         float64\n",
      "rcr_mid                      float64\n",
      "rcr_hi                       float64\n",
      "human                        float64\n",
      "animal                       float64\n",
      "molecular_cellular           float64\n",
      "is_clinical                  float64\n",
      "is_research_article          float64\n",
      "cited_by_clin                float64\n",
      "nih                          float64\n",
      "rage                         float64\n",
      "dtype: object\n",
      "hdhdhd before  223\n",
      "len of xtrain  219\n",
      "year   1980\n",
      "[1979 1991 1992 1993 1994 1996 1998 1999 2000 2003 2006 2007 2008 2009\n",
      " 2010 2011 2012 2013 2014 2015 2016 2017 2018 2019 2020]\n",
      "cv score  0.7344405594405594\n",
      "(1421,)\n",
      "no of positive  1003\n",
      "len of predy  651\n"
     ]
    },
    {
     "data": {
      "image/png": "[encoded data removed]",
      "text/plain": [
       "<Figure size 432x288 with 1 Axes>"
      ]
     },
     "metadata": {
      "needs_background": "light"
     },
     "output_type": "display_data"
    },
    {
     "name": "stdout",
     "output_type": "stream",
     "text": [
      "$$$  1421   651\n",
      "total positive  651\n",
      "tp tn fp fn 0   0   0   0\n",
      "year  1980 positive  0\n",
      "actual len  6410\n",
      "len of xtest  1555\n",
      "pct_is_new                   float64\n",
      "pct_is_newish                float64\n",
      "n_biggest_anc                float64\n",
      "pct_of_biggest_anc           float64\n",
      "pct_of_secbiggest_anc_new    float64\n",
      "pct_top_5_anc                float64\n",
      "wrcr                         float64\n",
      "rcr_mid                      float64\n",
      "rcr_hi                       float64\n",
      "human                        float64\n",
      "animal                       float64\n",
      "molecular_cellular           float64\n",
      "is_clinical                  float64\n",
      "is_research_article          float64\n",
      "cited_by_clin                float64\n",
      "nih                          float64\n",
      "rage                         float64\n",
      "dtype: object\n",
      "hdhdhd before  223\n",
      "len of xtrain  219\n",
      "year   1981\n",
      "[1979 1991 1992 1993 1994 1996 1998 1999 2000 2003 2006 2007 2008 2009\n",
      " 2010 2011 2012 2013 2014 2015 2016 2017 2018 2019 2020]\n",
      "cv score  0.7344405594405594\n",
      "(1555,)\n",
      "no of positive  1081\n",
      "len of predy  731\n"
     ]
    },
    {
     "data": {
      "image/png": "[encoded data removed]",
      "text/plain": [
       "<Figure size 432x288 with 1 Axes>"
      ]
     },
     "metadata": {
      "needs_background": "light"
     },
     "output_type": "display_data"
    },
    {
     "name": "stdout",
     "output_type": "stream",
     "text": [
      "$$$  1555   731\n",
      "total positive  731\n",
      "tp tn fp fn 0   0   0   0\n",
      "year  1981 positive  0\n",
      "actual len  6647\n",
      "len of xtest  1521\n",
      "pct_is_new                   float64\n",
      "pct_is_newish                float64\n",
      "n_biggest_anc                float64\n",
      "pct_of_biggest_anc           float64\n",
      "pct_of_secbiggest_anc_new    float64\n",
      "pct_top_5_anc                float64\n",
      "wrcr                         float64\n",
      "rcr_mid                      float64\n",
      "rcr_hi                       float64\n",
      "human                        float64\n",
      "animal                       float64\n",
      "molecular_cellular           float64\n",
      "is_clinical                  float64\n",
      "is_research_article          float64\n",
      "cited_by_clin                float64\n",
      "nih                          float64\n",
      "rage                         float64\n",
      "dtype: object\n",
      "hdhdhd before  223\n",
      "len of xtrain  219\n",
      "year   1982\n",
      "[1979 1991 1992 1993 1994 1996 1998 1999 2000 2003 2006 2007 2008 2009\n",
      " 2010 2011 2012 2013 2014 2015 2016 2017 2018 2019 2020]\n",
      "cv score  0.7344405594405594\n",
      "(1521,)\n",
      "no of positive  1016\n",
      "len of predy  652\n"
     ]
    },
    {
     "data": {
      "image/png": "[encoded data removed]",
      "text/plain": [
       "<Figure size 432x288 with 1 Axes>"
      ]
     },
     "metadata": {
      "needs_background": "light"
     },
     "output_type": "display_data"
    },
    {
     "name": "stdout",
     "output_type": "stream",
     "text": [
      "$$$  1521   652\n",
      "total positive  652\n",
      "tp tn fp fn 0   0   0   0\n",
      "year  1982 positive  0\n",
      "actual len  6902\n",
      "len of xtest  1544\n",
      "pct_is_new                   float64\n",
      "pct_is_newish                float64\n",
      "n_biggest_anc                float64\n",
      "pct_of_biggest_anc           float64\n",
      "pct_of_secbiggest_anc_new    float64\n",
      "pct_top_5_anc                float64\n",
      "wrcr                         float64\n",
      "rcr_mid                      float64\n",
      "rcr_hi                       float64\n",
      "human                        float64\n",
      "animal                       float64\n",
      "molecular_cellular           float64\n",
      "is_clinical                  float64\n",
      "is_research_article          float64\n",
      "cited_by_clin                float64\n",
      "nih                          float64\n",
      "rage                         float64\n",
      "dtype: object\n",
      "hdhdhd before  223\n",
      "len of xtrain  219\n",
      "year   1983\n",
      "[1979 1991 1992 1993 1994 1996 1998 1999 2000 2003 2006 2007 2008 2009\n",
      " 2010 2011 2012 2013 2014 2015 2016 2017 2018 2019 2020]\n",
      "cv score  0.7344405594405594\n",
      "(1544,)\n",
      "no of positive  1021\n",
      "len of predy  652\n"
     ]
    },
    {
     "data": {
      "image/png": "[encoded data removed]",
      "text/plain": [
       "<Figure size 432x288 with 1 Axes>"
      ]
     },
     "metadata": {
      "needs_background": "light"
     },
     "output_type": "display_data"
    },
    {
     "name": "stdout",
     "output_type": "stream",
     "text": [
      "$$$  1544   652\n",
      "total positive  652\n",
      "tp tn fp fn 0   0   0   0\n",
      "year  1983 positive  0\n",
      "actual len  7233\n",
      "len of xtest  1581\n",
      "pct_is_new                   float64\n",
      "pct_is_newish                float64\n",
      "n_biggest_anc                float64\n",
      "pct_of_biggest_anc           float64\n",
      "pct_of_secbiggest_anc_new    float64\n",
      "pct_top_5_anc                float64\n",
      "wrcr                         float64\n",
      "rcr_mid                      float64\n",
      "rcr_hi                       float64\n",
      "human                        float64\n",
      "animal                       float64\n",
      "molecular_cellular           float64\n",
      "is_clinical                  float64\n",
      "is_research_article          float64\n",
      "cited_by_clin                float64\n",
      "nih                          float64\n",
      "rage                         float64\n",
      "dtype: object\n",
      "hdhdhd before  223\n",
      "len of xtrain  219\n",
      "year   1984\n",
      "[1979 1991 1992 1993 1994 1996 1998 1999 2000 2003 2006 2007 2008 2009\n",
      " 2010 2011 2012 2013 2014 2015 2016 2017 2018 2019 2020]\n",
      "cv score  0.7344405594405594\n",
      "(1581,)\n",
      "no of positive  1032\n",
      "len of predy  647\n"
     ]
    },
    {
     "data": {
      "image/png": "[encoded data removed]",
      "text/plain": [
       "<Figure size 432x288 with 1 Axes>"
      ]
     },
     "metadata": {
      "needs_background": "light"
     },
     "output_type": "display_data"
    },
    {
     "name": "stdout",
     "output_type": "stream",
     "text": [
      "$$$  1581   647\n",
      "total positive  647\n",
      "tp tn fp fn 0   0   0   0\n",
      "year  1984 positive  0\n",
      "actual len  7596\n",
      "len of xtest  1621\n",
      "pct_is_new                   float64\n",
      "pct_is_newish                float64\n",
      "n_biggest_anc                float64\n",
      "pct_of_biggest_anc           float64\n",
      "pct_of_secbiggest_anc_new    float64\n",
      "pct_top_5_anc                float64\n",
      "wrcr                         float64\n",
      "rcr_mid                      float64\n",
      "rcr_hi                       float64\n",
      "human                        float64\n",
      "animal                       float64\n",
      "molecular_cellular           float64\n",
      "is_clinical                  float64\n",
      "is_research_article          float64\n",
      "cited_by_clin                float64\n",
      "nih                          float64\n",
      "rage                         float64\n",
      "dtype: object\n",
      "hdhdhd before  223\n",
      "len of xtrain  219\n",
      "year   1985\n",
      "[1979 1991 1992 1993 1994 1996 1998 1999 2000 2003 2006 2007 2008 2009\n",
      " 2010 2011 2012 2013 2014 2015 2016 2017 2018 2019 2020]\n",
      "cv score  0.7344405594405594\n",
      "(1621,)\n",
      "no of positive  1022\n",
      "len of predy  650\n"
     ]
    },
    {
     "data": {
      "image/png": "[encoded data removed]",
      "text/plain": [
       "<Figure size 432x288 with 1 Axes>"
      ]
     },
     "metadata": {
      "needs_background": "light"
     },
     "output_type": "display_data"
    },
    {
     "name": "stdout",
     "output_type": "stream",
     "text": [
      "$$$  1621   650\n",
      "total positive  650\n",
      "tp tn fp fn 0   0   0   0\n",
      "year  1985 positive  0\n",
      "actual len  7987\n",
      "len of xtest  1685\n",
      "pct_is_new                   float64\n",
      "pct_is_newish                float64\n",
      "n_biggest_anc                float64\n",
      "pct_of_biggest_anc           float64\n",
      "pct_of_secbiggest_anc_new    float64\n",
      "pct_top_5_anc                float64\n",
      "wrcr                         float64\n",
      "rcr_mid                      float64\n",
      "rcr_hi                       float64\n",
      "human                        float64\n",
      "animal                       float64\n",
      "molecular_cellular           float64\n",
      "is_clinical                  float64\n",
      "is_research_article          float64\n",
      "cited_by_clin                float64\n",
      "nih                          float64\n",
      "rage                         float64\n",
      "dtype: object\n",
      "hdhdhd before  223\n",
      "len of xtrain  219\n",
      "year   1986\n",
      "[1979 1991 1992 1993 1994 1996 1998 1999 2000 2003 2006 2007 2008 2009\n",
      " 2010 2011 2012 2013 2014 2015 2016 2017 2018 2019 2020]\n",
      "cv score  0.7344405594405594\n",
      "(1685,)\n",
      "no of positive  1034\n",
      "len of predy  661\n"
     ]
    },
    {
     "data": {
      "image/png": "[encoded data removed]",
      "text/plain": [
       "<Figure size 432x288 with 1 Axes>"
      ]
     },
     "metadata": {
      "needs_background": "light"
     },
     "output_type": "display_data"
    },
    {
     "name": "stdout",
     "output_type": "stream",
     "text": [
      "$$$  1685   661\n",
      "total positive  661\n",
      "tp tn fp fn 0   0   0   0\n",
      "year  1986 positive  0\n",
      "actual len  8301\n",
      "len of xtest  1702\n",
      "pct_is_new                   float64\n",
      "pct_is_newish                float64\n",
      "n_biggest_anc                float64\n",
      "pct_of_biggest_anc           float64\n",
      "pct_of_secbiggest_anc_new    float64\n",
      "pct_top_5_anc                float64\n",
      "wrcr                         float64\n",
      "rcr_mid                      float64\n",
      "rcr_hi                       float64\n",
      "human                        float64\n",
      "animal                       float64\n",
      "molecular_cellular           float64\n",
      "is_clinical                  float64\n",
      "is_research_article          float64\n",
      "cited_by_clin                float64\n",
      "nih                          float64\n",
      "rage                         float64\n",
      "dtype: object\n",
      "hdhdhd before  223\n",
      "len of xtrain  219\n",
      "year   1987\n",
      "[1979 1991 1992 1993 1994 1996 1998 1999 2000 2003 2006 2007 2008 2009\n",
      " 2010 2011 2012 2013 2014 2015 2016 2017 2018 2019 2020]\n",
      "cv score  0.7344405594405594\n",
      "(1702,)\n",
      "no of positive  1016\n",
      "len of predy  632\n"
     ]
    },
    {
     "data": {
      "image/png": "[encoded data removed]",
      "text/plain": [
       "<Figure size 432x288 with 1 Axes>"
      ]
     },
     "metadata": {
      "needs_background": "light"
     },
     "output_type": "display_data"
    },
    {
     "name": "stdout",
     "output_type": "stream",
     "text": [
      "$$$  1702   632\n",
      "total positive  632\n",
      "tp tn fp fn 0   0   0   0\n",
      "year  1987 positive  0\n",
      "actual len  8743\n",
      "len of xtest  1763\n",
      "pct_is_new                   float64\n",
      "pct_is_newish                float64\n",
      "n_biggest_anc                float64\n",
      "pct_of_biggest_anc           float64\n",
      "pct_of_secbiggest_anc_new    float64\n",
      "pct_top_5_anc                float64\n",
      "wrcr                         float64\n",
      "rcr_mid                      float64\n",
      "rcr_hi                       float64\n",
      "human                        float64\n",
      "animal                       float64\n",
      "molecular_cellular           float64\n",
      "is_clinical                  float64\n",
      "is_research_article          float64\n",
      "cited_by_clin                float64\n",
      "nih                          float64\n",
      "rage                         float64\n",
      "dtype: object\n",
      "hdhdhd before  223\n",
      "len of xtrain  219\n",
      "year   1988\n",
      "[1979 1991 1992 1993 1994 1996 1998 1999 2000 2003 2006 2007 2008 2009\n",
      " 2010 2011 2012 2013 2014 2015 2016 2017 2018 2019 2020]\n",
      "cv score  0.7344405594405594\n",
      "(1763,)\n",
      "no of positive  1064\n",
      "len of predy  662\n"
     ]
    },
    {
     "data": {
      "image/png": "[encoded data removed]",
      "text/plain": [
       "<Figure size 432x288 with 1 Axes>"
      ]
     },
     "metadata": {
      "needs_background": "light"
     },
     "output_type": "display_data"
    },
    {
     "name": "stdout",
     "output_type": "stream",
     "text": [
      "$$$  1763   662\n",
      "total positive  662\n",
      "tp tn fp fn 0   0   0   0\n",
      "year  1988 positive  0\n",
      "actual len  9089\n",
      "len of xtest  1817\n",
      "pct_is_new                   float64\n",
      "pct_is_newish                float64\n",
      "n_biggest_anc                float64\n",
      "pct_of_biggest_anc           float64\n",
      "pct_of_secbiggest_anc_new    float64\n",
      "pct_top_5_anc                float64\n",
      "wrcr                         float64\n",
      "rcr_mid                      float64\n",
      "rcr_hi                       float64\n",
      "human                        float64\n",
      "animal                       float64\n",
      "molecular_cellular           float64\n",
      "is_clinical                  float64\n",
      "is_research_article          float64\n",
      "cited_by_clin                float64\n",
      "nih                          float64\n",
      "rage                         float64\n",
      "dtype: object\n",
      "hdhdhd before  223\n",
      "len of xtrain  219\n",
      "year   1989\n",
      "[1979 1991 1992 1993 1994 1996 1998 1999 2000 2003 2006 2007 2008 2009\n",
      " 2010 2011 2012 2013 2014 2015 2016 2017 2018 2019 2020]\n",
      "cv score  0.7344405594405594\n",
      "(1817,)\n",
      "no of positive  1067\n",
      "len of predy  669\n"
     ]
    },
    {
     "data": {
      "image/png": "[encoded data removed]",
      "text/plain": [
       "<Figure size 432x288 with 1 Axes>"
      ]
     },
     "metadata": {
      "needs_background": "light"
     },
     "output_type": "display_data"
    },
    {
     "name": "stdout",
     "output_type": "stream",
     "text": [
      "$$$  1817   669\n",
      "total positive  669\n",
      "tp tn fp fn 0   0   0   0\n",
      "year  1989 positive  0\n",
      "actual len  9467\n",
      "len of xtest  1880\n",
      "pct_is_new                   float64\n",
      "pct_is_newish                float64\n",
      "n_biggest_anc                float64\n",
      "pct_of_biggest_anc           float64\n",
      "pct_of_secbiggest_anc_new    float64\n",
      "pct_top_5_anc                float64\n",
      "wrcr                         float64\n",
      "rcr_mid                      float64\n",
      "rcr_hi                       float64\n",
      "human                        float64\n",
      "animal                       float64\n",
      "molecular_cellular           float64\n",
      "is_clinical                  float64\n",
      "is_research_article          float64\n",
      "cited_by_clin                float64\n",
      "nih                          float64\n",
      "rage                         float64\n",
      "dtype: object\n",
      "hdhdhd before  223\n",
      "len of xtrain  219\n",
      "year   1990\n",
      "[1979 1991 1992 1993 1994 1996 1998 1999 2000 2003 2006 2007 2008 2009\n",
      " 2010 2011 2012 2013 2014 2015 2016 2017 2018 2019 2020]\n",
      "cv score  0.7344405594405594\n",
      "(1880,)\n",
      "no of positive  1095\n",
      "len of predy  670\n"
     ]
    },
    {
     "data": {
      "image/png": "[encoded data removed]",
      "text/plain": [
       "<Figure size 432x288 with 1 Axes>"
      ]
     },
     "metadata": {
      "needs_background": "light"
     },
     "output_type": "display_data"
    },
    {
     "name": "stdout",
     "output_type": "stream",
     "text": [
      "$$$  1880   670\n",
      "total positive  670\n",
      "tp tn fp fn 0   0   0   0\n",
      "year  1990 positive  0\n",
      "actual len  9825\n",
      "len of xtest  1956\n",
      "pct_is_new                   float64\n",
      "pct_is_newish                float64\n",
      "n_biggest_anc                float64\n",
      "pct_of_biggest_anc           float64\n",
      "pct_of_secbiggest_anc_new    float64\n",
      "pct_top_5_anc                float64\n",
      "wrcr                         float64\n",
      "rcr_mid                      float64\n",
      "rcr_hi                       float64\n",
      "human                        float64\n",
      "animal                       float64\n",
      "molecular_cellular           float64\n",
      "is_clinical                  float64\n",
      "is_research_article          float64\n",
      "cited_by_clin                float64\n",
      "nih                          float64\n",
      "rage                         float64\n",
      "dtype: object\n",
      "hdhdhd before  223\n",
      "len of xtrain  217\n",
      "year   1991\n",
      "[1979 1992 1993 1994 1996 1998 1999 2000 2003 2006 2007 2008 2009 2010\n",
      " 2011 2012 2013 2014 2015 2016 2017 2018 2019 2020]\n",
      "cv score  0.7459670884670884\n",
      "(1956,)\n",
      "no of positive  1127\n",
      "len of predy  717\n"
     ]
    },
    {
     "data": {
      "image/png": "[encoded data removed]",
      "text/plain": [
       "<Figure size 432x288 with 1 Axes>"
      ]
     },
     "metadata": {
      "needs_background": "light"
     },
     "output_type": "display_data"
    },
    {
     "name": "stdout",
     "output_type": "stream",
     "text": [
      "$$$  1956   717\n",
      "total positive  717\n",
      "tp tn fp fn 1   0   1   0\n",
      "year  1991 positive  1\n",
      "actual len  10202\n",
      "len of xtest  1984\n",
      "pct_is_new                   float64\n",
      "pct_is_newish                float64\n",
      "n_biggest_anc                float64\n",
      "pct_of_biggest_anc           float64\n",
      "pct_of_secbiggest_anc_new    float64\n",
      "pct_top_5_anc                float64\n",
      "wrcr                         float64\n",
      "rcr_mid                      float64\n",
      "rcr_hi                       float64\n",
      "human                        float64\n",
      "animal                       float64\n",
      "molecular_cellular           float64\n",
      "is_clinical                  float64\n",
      "is_research_article          float64\n",
      "cited_by_clin                float64\n",
      "nih                          float64\n",
      "rage                         float64\n",
      "dtype: object\n",
      "hdhdhd before  223\n",
      "len of xtrain  217\n",
      "year   1992\n",
      "[1979 1991 1993 1994 1996 1998 1999 2000 2003 2006 2007 2008 2009 2010\n",
      " 2011 2012 2013 2014 2015 2016 2017 2018 2019 2020]\n",
      "cv score  0.785461482961483\n",
      "(1984,)\n",
      "no of positive  940\n",
      "len of predy  576\n"
     ]
    },
    {
     "data": {
      "image/png": "[encoded data removed]",
      "text/plain": [
       "<Figure size 432x288 with 1 Axes>"
      ]
     },
     "metadata": {
      "needs_background": "light"
     },
     "output_type": "display_data"
    },
    {
     "name": "stdout",
     "output_type": "stream",
     "text": [
      "$$$  1984   576\n",
      "total positive  576\n",
      "tp tn fp fn 0   1   0   1\n",
      "year  1992 positive  1\n",
      "actual len  10609\n",
      "len of xtest  2039\n",
      "pct_is_new                   float64\n",
      "pct_is_newish                float64\n",
      "n_biggest_anc                float64\n",
      "pct_of_biggest_anc           float64\n",
      "pct_of_secbiggest_anc_new    float64\n",
      "pct_top_5_anc                float64\n",
      "wrcr                         float64\n",
      "rcr_mid                      float64\n",
      "rcr_hi                       float64\n",
      "human                        float64\n",
      "animal                       float64\n",
      "molecular_cellular           float64\n",
      "is_clinical                  float64\n",
      "is_research_article          float64\n",
      "cited_by_clin                float64\n",
      "nih                          float64\n",
      "rage                         float64\n",
      "dtype: object\n",
      "hdhdhd before  223\n",
      "len of xtrain  217\n",
      "year   1993\n",
      "[1979 1991 1992 1994 1996 1998 1999 2000 2003 2006 2007 2008 2009 2010\n",
      " 2011 2012 2013 2014 2015 2016 2017 2018 2019 2020]\n",
      "cv score  0.7831407481407482\n",
      "(2039,)\n",
      "no of positive  971\n",
      "len of predy  591\n"
     ]
    },
    {
     "data": {
      "image/png": "[encoded data removed]",
      "text/plain": [
       "<Figure size 432x288 with 1 Axes>"
      ]
     },
     "metadata": {
      "needs_background": "light"
     },
     "output_type": "display_data"
    },
    {
     "name": "stdout",
     "output_type": "stream",
     "text": [
      "$$$  2039   591\n",
      "total positive  591\n",
      "tp tn fp fn 1   0   0   0\n",
      "year  1993 positive  1\n",
      "actual len  10974\n",
      "len of xtest  2093\n",
      "pct_is_new                   float64\n",
      "pct_is_newish                float64\n",
      "n_biggest_anc                float64\n",
      "pct_of_biggest_anc           float64\n",
      "pct_of_secbiggest_anc_new    float64\n",
      "pct_top_5_anc                float64\n",
      "wrcr                         float64\n",
      "rcr_mid                      float64\n",
      "rcr_hi                       float64\n",
      "human                        float64\n",
      "animal                       float64\n",
      "molecular_cellular           float64\n",
      "is_clinical                  float64\n",
      "is_research_article          float64\n",
      "cited_by_clin                float64\n",
      "nih                          float64\n",
      "rage                         float64\n",
      "dtype: object\n",
      "hdhdhd before  223\n",
      "len of xtrain  218\n",
      "year   1994\n",
      "[1979 1991 1992 1993 1996 1998 1999 2000 2003 2006 2007 2008 2009 2010\n",
      " 2011 2012 2013 2014 2015 2016 2017 2018 2019 2020]\n",
      "cv score  0.7291580641580642\n",
      "(2093,)\n",
      "no of positive  1010\n",
      "len of predy  608\n"
     ]
    },
    {
     "data": {
      "image/png": "[encoded data removed]",
      "text/plain": [
       "<Figure size 432x288 with 1 Axes>"
      ]
     },
     "metadata": {
      "needs_background": "light"
     },
     "output_type": "display_data"
    },
    {
     "name": "stdout",
     "output_type": "stream",
     "text": [
      "$$$  2093   608\n",
      "total positive  608\n",
      "tp tn fp fn 0   1   0   0\n",
      "year  1994 positive  0\n",
      "actual len  11393\n",
      "len of xtest  2165\n",
      "pct_is_new                   float64\n",
      "pct_is_newish                float64\n",
      "n_biggest_anc                float64\n",
      "pct_of_biggest_anc           float64\n",
      "pct_of_secbiggest_anc_new    float64\n",
      "pct_top_5_anc                float64\n",
      "wrcr                         float64\n",
      "rcr_mid                      float64\n",
      "rcr_hi                       float64\n",
      "human                        float64\n",
      "animal                       float64\n",
      "molecular_cellular           float64\n",
      "is_clinical                  float64\n",
      "is_research_article          float64\n",
      "cited_by_clin                float64\n",
      "nih                          float64\n",
      "rage                         float64\n",
      "dtype: object\n",
      "hdhdhd before  223\n",
      "len of xtrain  219\n",
      "year   1995\n",
      "[1979 1991 1992 1993 1994 1996 1998 1999 2000 2003 2006 2007 2008 2009\n",
      " 2010 2011 2012 2013 2014 2015 2016 2017 2018 2019 2020]\n",
      "cv score  0.7344405594405594\n",
      "(2165,)\n",
      "no of positive  1162\n",
      "len of predy  735\n"
     ]
    },
    {
     "data": {
      "image/png": "[encoded data removed]",
      "text/plain": [
       "<Figure size 432x288 with 1 Axes>"
      ]
     },
     "metadata": {
      "needs_background": "light"
     },
     "output_type": "display_data"
    },
    {
     "name": "stdout",
     "output_type": "stream",
     "text": [
      "$$$  2165   735\n",
      "total positive  735\n",
      "tp tn fp fn 0   0   0   0\n",
      "year  1995 positive  0\n",
      "actual len  11780\n",
      "len of xtest  2178\n",
      "pct_is_new                   float64\n",
      "pct_is_newish                float64\n",
      "n_biggest_anc                float64\n",
      "pct_of_biggest_anc           float64\n",
      "pct_of_secbiggest_anc_new    float64\n",
      "pct_top_5_anc                float64\n",
      "wrcr                         float64\n",
      "rcr_mid                      float64\n",
      "rcr_hi                       float64\n",
      "human                        float64\n",
      "animal                       float64\n",
      "molecular_cellular           float64\n",
      "is_clinical                  float64\n",
      "is_research_article          float64\n",
      "cited_by_clin                float64\n",
      "nih                          float64\n",
      "rage                         float64\n",
      "dtype: object\n",
      "hdhdhd before  223\n",
      "len of xtrain  217\n",
      "year   1996\n",
      "[1979 1991 1992 1993 1994 1998 1999 2000 2003 2006 2007 2008 2009 2010\n",
      " 2011 2012 2013 2014 2015 2016 2017 2018 2019 2020]\n",
      "cv score  0.7697533022533023\n",
      "(2178,)\n",
      "no of positive  1145\n",
      "len of predy  723\n"
     ]
    },
    {
     "data": {
      "image/png": "[encoded data removed]",
      "text/plain": [
       "<Figure size 432x288 with 1 Axes>"
      ]
     },
     "metadata": {
      "needs_background": "light"
     },
     "output_type": "display_data"
    },
    {
     "name": "stdout",
     "output_type": "stream",
     "text": [
      "$$$  2178   723\n",
      "total positive  723\n",
      "tp tn fp fn 1   1   0   0\n",
      "year  1996 positive  1\n",
      "actual len  12157\n",
      "len of xtest  2191\n",
      "pct_is_new                   float64\n",
      "pct_is_newish                float64\n",
      "n_biggest_anc                float64\n",
      "pct_of_biggest_anc           float64\n",
      "pct_of_secbiggest_anc_new    float64\n",
      "pct_top_5_anc                float64\n",
      "wrcr                         float64\n",
      "rcr_mid                      float64\n",
      "rcr_hi                       float64\n",
      "human                        float64\n",
      "animal                       float64\n",
      "molecular_cellular           float64\n",
      "is_clinical                  float64\n",
      "is_research_article          float64\n",
      "cited_by_clin                float64\n",
      "nih                          float64\n",
      "rage                         float64\n",
      "dtype: object\n",
      "hdhdhd before  223\n",
      "len of xtrain  219\n",
      "year   1997\n",
      "[1979 1991 1992 1993 1994 1996 1998 1999 2000 2003 2006 2007 2008 2009\n",
      " 2010 2011 2012 2013 2014 2015 2016 2017 2018 2019 2020]\n",
      "cv score  0.7344405594405594\n",
      "(2191,)\n",
      "no of positive  1101\n",
      "len of predy  680\n"
     ]
    },
    {
     "data": {
      "image/png": "[encoded data removed]",
      "text/plain": [
       "<Figure size 432x288 with 1 Axes>"
      ]
     },
     "metadata": {
      "needs_background": "light"
     },
     "output_type": "display_data"
    },
    {
     "name": "stdout",
     "output_type": "stream",
     "text": [
      "$$$  2191   680\n",
      "total positive  680\n",
      "tp tn fp fn 0   0   0   0\n",
      "year  1997 positive  0\n",
      "actual len  12606\n",
      "len of xtest  2173\n",
      "pct_is_new                   float64\n",
      "pct_is_newish                float64\n",
      "n_biggest_anc                float64\n",
      "pct_of_biggest_anc           float64\n",
      "pct_of_secbiggest_anc_new    float64\n",
      "pct_top_5_anc                float64\n",
      "wrcr                         float64\n",
      "rcr_mid                      float64\n",
      "rcr_hi                       float64\n",
      "human                        float64\n",
      "animal                       float64\n",
      "molecular_cellular           float64\n",
      "is_clinical                  float64\n",
      "is_research_article          float64\n",
      "cited_by_clin                float64\n",
      "nih                          float64\n",
      "rage                         float64\n",
      "dtype: object\n",
      "hdhdhd before  223\n",
      "len of xtrain  213\n",
      "year   1998\n",
      "[1979 1991 1992 1993 1994 1996 1999 2000 2003 2006 2007 2008 2009 2010\n",
      " 2011 2012 2013 2014 2015 2016 2017 2018 2019 2020]\n",
      "cv score  0.7286691086691086\n",
      "(2173,)\n",
      "no of positive  1059\n",
      "len of predy  614\n"
     ]
    },
    {
     "data": {
      "image/png": "[encoded data removed]",
      "text/plain": [
       "<Figure size 432x288 with 1 Axes>"
      ]
     },
     "metadata": {
      "needs_background": "light"
     },
     "output_type": "display_data"
    },
    {
     "name": "stdout",
     "output_type": "stream",
     "text": [
      "$$$  2173   614\n",
      "total positive  614\n",
      "tp tn fp fn 2   1   0   1\n",
      "year  1998 positive  3\n",
      "actual len  13116\n",
      "len of xtest  2194\n",
      "pct_is_new                   float64\n",
      "pct_is_newish                float64\n",
      "n_biggest_anc                float64\n",
      "pct_of_biggest_anc           float64\n",
      "pct_of_secbiggest_anc_new    float64\n",
      "pct_top_5_anc                float64\n",
      "wrcr                         float64\n",
      "rcr_mid                      float64\n",
      "rcr_hi                       float64\n",
      "human                        float64\n",
      "animal                       float64\n",
      "molecular_cellular           float64\n",
      "is_clinical                  float64\n",
      "is_research_article          float64\n",
      "cited_by_clin                float64\n",
      "nih                          float64\n",
      "rage                         float64\n",
      "dtype: object\n",
      "hdhdhd before  223\n",
      "len of xtrain  215\n",
      "year   1999\n",
      "[1979 1991 1992 1993 1994 1996 1998 2000 2003 2006 2007 2008 2009 2010\n",
      " 2011 2012 2013 2014 2015 2016 2017 2018 2019 2020]\n",
      "cv score  0.7404961704961706\n",
      "(2194,)\n",
      "no of positive  1051\n",
      "len of predy  633\n"
     ]
    },
    {
     "data": {
      "image/png": "[encoded data removed]",
      "text/plain": [
       "<Figure size 432x288 with 1 Axes>"
      ]
     },
     "metadata": {
      "needs_background": "light"
     },
     "output_type": "display_data"
    },
    {
     "name": "stdout",
     "output_type": "stream",
     "text": [
      "$$$  2194   633\n",
      "total positive  633\n",
      "tp tn fp fn 0   2   0   2\n",
      "year  1999 positive  2\n",
      "actual len  13664\n",
      "len of xtest  2213\n",
      "pct_is_new                   float64\n",
      "pct_is_newish                float64\n",
      "n_biggest_anc                float64\n",
      "pct_of_biggest_anc           float64\n",
      "pct_of_secbiggest_anc_new    float64\n",
      "pct_top_5_anc                float64\n",
      "wrcr                         float64\n",
      "rcr_mid                      float64\n",
      "rcr_hi                       float64\n",
      "human                        float64\n",
      "animal                       float64\n",
      "molecular_cellular           float64\n",
      "is_clinical                  float64\n",
      "is_research_article          float64\n",
      "cited_by_clin                float64\n",
      "nih                          float64\n",
      "rage                         float64\n",
      "dtype: object\n",
      "hdhdhd before  223\n",
      "len of xtrain  213\n",
      "year   2000\n",
      "[1979 1991 1992 1993 1994 1996 1998 1999 2003 2006 2007 2008 2009 2010\n",
      " 2011 2012 2013 2014 2015 2016 2017 2018 2019 2020]\n",
      "cv score  0.7354417804417803\n",
      "(2213,)\n",
      "no of positive  1074\n",
      "len of predy  640\n"
     ]
    },
    {
     "data": {
      "image/png": "[encoded data removed]",
      "text/plain": [
       "<Figure size 432x288 with 1 Axes>"
      ]
     },
     "metadata": {
      "needs_background": "light"
     },
     "output_type": "display_data"
    },
    {
     "name": "stdout",
     "output_type": "stream",
     "text": [
      "$$$  2213   640\n",
      "total positive  640\n",
      "tp tn fp fn 2   0   1   1\n",
      "year  2000 positive  3\n",
      "actual len  14240\n",
      "len of xtest  2244\n",
      "pct_is_new                   float64\n",
      "pct_is_newish                float64\n",
      "n_biggest_anc                float64\n",
      "pct_of_biggest_anc           float64\n",
      "pct_of_secbiggest_anc_new    float64\n",
      "pct_top_5_anc                float64\n",
      "wrcr                         float64\n",
      "rcr_mid                      float64\n",
      "rcr_hi                       float64\n",
      "human                        float64\n",
      "animal                       float64\n",
      "molecular_cellular           float64\n",
      "is_clinical                  float64\n",
      "is_research_article          float64\n",
      "cited_by_clin                float64\n",
      "nih                          float64\n",
      "rage                         float64\n",
      "dtype: object\n",
      "hdhdhd before  223\n",
      "len of xtrain  219\n",
      "year   2001\n",
      "[1979 1991 1992 1993 1994 1996 1998 1999 2000 2003 2006 2007 2008 2009\n",
      " 2010 2011 2012 2013 2014 2015 2016 2017 2018 2019 2020]\n",
      "cv score  0.7344405594405594\n",
      "(2244,)\n",
      "no of positive  1041\n",
      "len of predy  591\n"
     ]
    },
    {
     "data": {
      "image/png": "[encoded data removed]",
      "text/plain": [
       "<Figure size 432x288 with 1 Axes>"
      ]
     },
     "metadata": {
      "needs_background": "light"
     },
     "output_type": "display_data"
    },
    {
     "name": "stdout",
     "output_type": "stream",
     "text": [
      "$$$  2244   591\n",
      "total positive  591\n",
      "tp tn fp fn 0   0   0   0\n",
      "year  2001 positive  0\n",
      "actual len  14757\n",
      "len of xtest  2280\n",
      "pct_is_new                   float64\n",
      "pct_is_newish                float64\n",
      "n_biggest_anc                float64\n",
      "pct_of_biggest_anc           float64\n",
      "pct_of_secbiggest_anc_new    float64\n",
      "pct_top_5_anc                float64\n",
      "wrcr                         float64\n",
      "rcr_mid                      float64\n",
      "rcr_hi                       float64\n",
      "human                        float64\n",
      "animal                       float64\n",
      "molecular_cellular           float64\n",
      "is_clinical                  float64\n",
      "is_research_article          float64\n",
      "cited_by_clin                float64\n",
      "nih                          float64\n",
      "rage                         float64\n",
      "dtype: object\n",
      "hdhdhd before  223\n",
      "len of xtrain  219\n",
      "year   2002\n",
      "[1979 1991 1992 1993 1994 1996 1998 1999 2000 2003 2006 2007 2008 2009\n",
      " 2010 2011 2012 2013 2014 2015 2016 2017 2018 2019 2020]\n",
      "cv score  0.7344405594405594\n",
      "(2280,)\n",
      "no of positive  1031\n",
      "len of predy  574\n"
     ]
    },
    {
     "data": {
      "image/png": "[encoded data removed]",
      "text/plain": [
       "<Figure size 432x288 with 1 Axes>"
      ]
     },
     "metadata": {
      "needs_background": "light"
     },
     "output_type": "display_data"
    },
    {
     "name": "stdout",
     "output_type": "stream",
     "text": [
      "$$$  2280   574\n",
      "total positive  574\n",
      "tp tn fp fn 0   0   0   0\n",
      "year  2002 positive  0\n",
      "actual len  15262\n",
      "len of xtest  2279\n",
      "pct_is_new                   float64\n",
      "pct_is_newish                float64\n",
      "n_biggest_anc                  int64\n",
      "pct_of_biggest_anc           float64\n",
      "pct_of_secbiggest_anc_new    float64\n",
      "pct_top_5_anc                float64\n",
      "wrcr                         float64\n",
      "rcr_mid                      float64\n",
      "rcr_hi                       float64\n",
      "human                        float64\n",
      "animal                       float64\n",
      "molecular_cellular           float64\n",
      "is_clinical                  float64\n",
      "is_research_article          float64\n",
      "cited_by_clin                float64\n",
      "nih                          float64\n",
      "rage                         float64\n",
      "dtype: object\n",
      "hdhdhd before  223\n",
      "len of xtrain  217\n",
      "year   2003\n",
      "[1979 1991 1992 1993 1994 1996 1998 1999 2000 2006 2007 2008 2009 2010\n",
      " 2011 2012 2013 2014 2015 2016 2017 2018 2019 2020]\n",
      "cv score  0.74253108003108\n",
      "(2279,)\n",
      "no of positive  839\n",
      "len of predy  429\n"
     ]
    },
    {
     "data": {
      "image/png": "[encoded data removed]",
      "text/plain": [
       "<Figure size 432x288 with 1 Axes>"
      ]
     },
     "metadata": {
      "needs_background": "light"
     },
     "output_type": "display_data"
    },
    {
     "name": "stdout",
     "output_type": "stream",
     "text": [
      "$$$  2279   429\n",
      "total positive  429\n",
      "tp tn fp fn 1   1   0   0\n",
      "year  2003 positive  1\n",
      "actual len  15787\n",
      "len of xtest  2248\n",
      "pct_is_new                   float64\n",
      "pct_is_newish                float64\n",
      "n_biggest_anc                float64\n",
      "pct_of_biggest_anc           float64\n",
      "pct_of_secbiggest_anc_new    float64\n",
      "pct_top_5_anc                float64\n",
      "wrcr                         float64\n",
      "rcr_mid                      float64\n",
      "rcr_hi                       float64\n",
      "human                        float64\n",
      "animal                       float64\n",
      "molecular_cellular           float64\n",
      "is_clinical                  float64\n",
      "is_research_article          float64\n",
      "cited_by_clin                float64\n",
      "nih                          float64\n",
      "rage                         float64\n",
      "dtype: object\n",
      "hdhdhd before  223\n",
      "len of xtrain  219\n",
      "year   2004\n",
      "[1979 1991 1992 1993 1994 1996 1998 1999 2000 2003 2006 2007 2008 2009\n",
      " 2010 2011 2012 2013 2014 2015 2016 2017 2018 2019 2020]\n",
      "cv score  0.7344405594405594\n",
      "(2248,)\n",
      "no of positive  949\n",
      "len of predy  486\n"
     ]
    },
    {
     "data": {
      "image/png": "[encoded data removed]",
      "text/plain": [
       "<Figure size 432x288 with 1 Axes>"
      ]
     },
     "metadata": {
      "needs_background": "light"
     },
     "output_type": "display_data"
    },
    {
     "name": "stdout",
     "output_type": "stream",
     "text": [
      "$$$  2248   486\n",
      "total positive  486\n",
      "tp tn fp fn 0   0   0   0\n",
      "year  2004 positive  0\n",
      "actual len  16382\n",
      "len of xtest  2227\n",
      "pct_is_new                   float64\n",
      "pct_is_newish                float64\n",
      "n_biggest_anc                float64\n",
      "pct_of_biggest_anc           float64\n",
      "pct_of_secbiggest_anc_new    float64\n",
      "pct_top_5_anc                float64\n",
      "wrcr                         float64\n",
      "rcr_mid                      float64\n",
      "rcr_hi                       float64\n",
      "human                        float64\n",
      "animal                       float64\n",
      "molecular_cellular           float64\n",
      "is_clinical                  float64\n",
      "is_research_article          float64\n",
      "cited_by_clin                float64\n",
      "nih                          float64\n",
      "rage                         float64\n",
      "dtype: object\n",
      "hdhdhd before  223\n",
      "len of xtrain  219\n",
      "year   2005\n",
      "[1979 1991 1992 1993 1994 1996 1998 1999 2000 2003 2006 2007 2008 2009\n",
      " 2010 2011 2012 2013 2014 2015 2016 2017 2018 2019 2020]\n",
      "cv score  0.7344405594405594\n",
      "(2227,)\n",
      "no of positive  930\n",
      "len of predy  467\n"
     ]
    },
    {
     "data": {
      "image/png": "[encoded data removed]",
      "text/plain": [
       "<Figure size 432x288 with 1 Axes>"
      ]
     },
     "metadata": {
      "needs_background": "light"
     },
     "output_type": "display_data"
    },
    {
     "name": "stdout",
     "output_type": "stream",
     "text": [
      "$$$  2227   467\n",
      "total positive  467\n",
      "tp tn fp fn 0   0   0   0\n",
      "year  2005 positive  0\n",
      "actual len  17084\n",
      "len of xtest  2242\n",
      "pct_is_new                   float64\n",
      "pct_is_newish                float64\n",
      "n_biggest_anc                float64\n",
      "pct_of_biggest_anc           float64\n",
      "pct_of_secbiggest_anc_new    float64\n",
      "pct_top_5_anc                float64\n",
      "wrcr                         float64\n",
      "rcr_mid                      float64\n",
      "rcr_hi                       float64\n",
      "human                        float64\n",
      "animal                       float64\n",
      "molecular_cellular           float64\n",
      "is_clinical                  float64\n",
      "is_research_article          float64\n",
      "cited_by_clin                float64\n",
      "nih                          float64\n",
      "rage                         float64\n",
      "dtype: object\n",
      "hdhdhd before  223\n",
      "len of xtrain  218\n",
      "year   2006\n",
      "[1979 1991 1992 1993 1994 1996 1998 1999 2000 2003 2007 2008 2009 2010\n",
      " 2011 2012 2013 2014 2015 2016 2017 2018 2019 2020]\n",
      "cv score  0.7381440781440781\n",
      "(2242,)\n",
      "no of positive  911\n",
      "len of predy  436\n"
     ]
    },
    {
     "data": {
      "image/png": "[encoded data removed]",
      "text/plain": [
       "<Figure size 432x288 with 1 Axes>"
      ]
     },
     "metadata": {
      "needs_background": "light"
     },
     "output_type": "display_data"
    },
    {
     "name": "stdout",
     "output_type": "stream",
     "text": [
      "$$$  2242   436\n",
      "total positive  436\n",
      "tp tn fp fn 1   0   0   0\n",
      "year  2006 positive  1\n",
      "actual len  17653\n",
      "len of xtest  2261\n",
      "pct_is_new                   float64\n",
      "pct_is_newish                float64\n",
      "n_biggest_anc                float64\n",
      "pct_of_biggest_anc           float64\n",
      "pct_of_secbiggest_anc_new    float64\n",
      "pct_top_5_anc                float64\n",
      "wrcr                         float64\n",
      "rcr_mid                      float64\n",
      "rcr_hi                       float64\n",
      "human                        float64\n",
      "animal                       float64\n",
      "molecular_cellular           float64\n",
      "is_clinical                  float64\n",
      "is_research_article          float64\n",
      "cited_by_clin                float64\n",
      "nih                          float64\n",
      "rage                         float64\n",
      "dtype: object\n",
      "hdhdhd before  223\n",
      "len of xtrain  213\n",
      "year   2007\n",
      "[1979 1991 1992 1993 1994 1996 1998 1999 2000 2003 2006 2008 2009 2010\n",
      " 2011 2012 2013 2014 2015 2016 2017 2018 2019 2020]\n",
      "cv score  0.7280594405594406\n",
      "(2261,)\n",
      "no of positive  780\n",
      "len of predy  357\n"
     ]
    },
    {
     "data": {
      "image/png": "[encoded data removed]",
      "text/plain": [
       "<Figure size 432x288 with 1 Axes>"
      ]
     },
     "metadata": {
      "needs_background": "light"
     },
     "output_type": "display_data"
    },
    {
     "name": "stdout",
     "output_type": "stream",
     "text": [
      "$$$  2261   357\n",
      "total positive  357\n",
      "tp tn fp fn 3   0   1   0\n",
      "year  2007 positive  3\n",
      "actual len  18303\n",
      "len of xtest  2288\n",
      "pct_is_new                   float64\n",
      "pct_is_newish                float64\n",
      "n_biggest_anc                float64\n",
      "pct_of_biggest_anc           float64\n",
      "pct_of_secbiggest_anc_new    float64\n",
      "pct_top_5_anc                float64\n",
      "wrcr                         float64\n",
      "rcr_mid                      float64\n",
      "rcr_hi                       float64\n",
      "human                        float64\n",
      "animal                       float64\n",
      "molecular_cellular           float64\n",
      "is_clinical                  float64\n",
      "is_research_article          float64\n",
      "cited_by_clin                float64\n",
      "nih                          float64\n",
      "rage                         float64\n",
      "dtype: object\n",
      "hdhdhd before  223\n",
      "len of xtrain  211\n",
      "year   2008\n",
      "[1979 1991 1992 1993 1994 1996 1998 1999 2000 2003 2006 2007 2009 2010\n",
      " 2011 2012 2013 2014 2015 2016 2017 2018 2019 2020]\n",
      "cv score  0.7491797091797091\n",
      "(2288,)\n",
      "no of positive  884\n",
      "len of predy  390\n"
     ]
    },
    {
     "data": {
      "image/png": "[encoded data removed]",
      "text/plain": [
       "<Figure size 432x288 with 1 Axes>"
      ]
     },
     "metadata": {
      "needs_background": "light"
     },
     "output_type": "display_data"
    },
    {
     "name": "stdout",
     "output_type": "stream",
     "text": [
      "$$$  2288   390\n",
      "total positive  390\n",
      "tp tn fp fn 4   2   1   0\n",
      "year  2008 positive  4\n",
      "actual len  18833\n",
      "len of xtest  2341\n",
      "pct_is_new                   float64\n",
      "pct_is_newish                float64\n",
      "n_biggest_anc                float64\n",
      "pct_of_biggest_anc           float64\n",
      "pct_of_secbiggest_anc_new    float64\n",
      "pct_top_5_anc                float64\n",
      "wrcr                         float64\n",
      "rcr_mid                      float64\n",
      "rcr_hi                       float64\n",
      "human                        float64\n",
      "animal                       float64\n",
      "molecular_cellular           float64\n",
      "is_clinical                  float64\n",
      "is_research_article          float64\n",
      "cited_by_clin                float64\n",
      "nih                          float64\n",
      "rage                         float64\n",
      "dtype: object\n",
      "hdhdhd before  223\n",
      "len of xtrain  207\n",
      "year   2009\n",
      "[1979 1991 1992 1993 1994 1996 1998 1999 2000 2003 2006 2007 2008 2010\n",
      " 2011 2012 2013 2014 2015 2016 2017 2018 2019 2020]\n",
      "cv score  0.7274869574869575\n",
      "(2341,)\n",
      "no of positive  818\n",
      "len of predy  397\n"
     ]
    },
    {
     "data": {
      "image/png": "[encoded data removed]",
      "text/plain": [
       "<Figure size 432x288 with 1 Axes>"
      ]
     },
     "metadata": {
      "needs_background": "light"
     },
     "output_type": "display_data"
    },
    {
     "name": "stdout",
     "output_type": "stream",
     "text": [
      "$$$  2341   397\n",
      "total positive  397\n",
      "tp tn fp fn 5   3   2   1\n",
      "year  2009 positive  6\n",
      "actual len  19499\n",
      "len of xtest  2372\n",
      "pct_is_new                   float64\n",
      "pct_is_newish                float64\n",
      "n_biggest_anc                float64\n",
      "pct_of_biggest_anc           float64\n",
      "pct_of_secbiggest_anc_new    float64\n",
      "pct_top_5_anc                float64\n",
      "wrcr                         float64\n",
      "rcr_mid                      float64\n",
      "rcr_hi                       float64\n",
      "human                        float64\n",
      "animal                       float64\n",
      "molecular_cellular           float64\n",
      "is_clinical                  float64\n",
      "is_research_article          float64\n",
      "cited_by_clin                float64\n",
      "nih                          float64\n",
      "rage                         float64\n",
      "dtype: object\n",
      "hdhdhd before  223\n",
      "len of xtrain  203\n",
      "year   2010\n",
      "[1979 1991 1992 1993 1994 1996 1998 1999 2000 2003 2006 2007 2008 2009\n",
      " 2011 2012 2013 2014 2015 2016 2017 2018 2019 2020]\n",
      "cv score  0.7602852702852703\n",
      "(2372,)\n",
      "no of positive  843\n",
      "len of predy  325\n"
     ]
    },
    {
     "data": {
      "image/png": "[encoded data removed]",
      "text/plain": [
       "<Figure size 432x288 with 1 Axes>"
      ]
     },
     "metadata": {
      "needs_background": "light"
     },
     "output_type": "display_data"
    },
    {
     "name": "stdout",
     "output_type": "stream",
     "text": [
      "$$$  2372   325\n",
      "total positive  325\n",
      "tp tn fp fn 4   6   0   4\n",
      "year  2010 positive  8\n",
      "actual len  20126\n",
      "len of xtest  2420\n",
      "pct_is_new                   float64\n",
      "pct_is_newish                float64\n",
      "n_biggest_anc                float64\n",
      "pct_of_biggest_anc           float64\n",
      "pct_of_secbiggest_anc_new    float64\n",
      "pct_top_5_anc                float64\n",
      "wrcr                         float64\n",
      "rcr_mid                      float64\n",
      "rcr_hi                       float64\n",
      "human                        float64\n",
      "animal                       float64\n",
      "molecular_cellular           float64\n",
      "is_clinical                  float64\n",
      "is_research_article          float64\n",
      "cited_by_clin                float64\n",
      "nih                          float64\n",
      "rage                         float64\n",
      "dtype: object\n",
      "hdhdhd before  223\n",
      "len of xtrain  195\n",
      "year   2011\n",
      "[1979 1991 1992 1993 1994 1996 1998 1999 2000 2003 2006 2007 2008 2009\n",
      " 2010 2012 2013 2014 2015 2016 2017 2018 2019 2020]\n",
      "cv score  0.727489454989455\n",
      "(2420,)\n",
      "no of positive  826\n",
      "len of predy  304\n"
     ]
    },
    {
     "data": {
      "image/png": "[encoded data removed]",
      "text/plain": [
       "<Figure size 432x288 with 1 Axes>"
      ]
     },
     "metadata": {
      "needs_background": "light"
     },
     "output_type": "display_data"
    },
    {
     "name": "stdout",
     "output_type": "stream",
     "text": [
      "$$$  2420   304\n",
      "total positive  304\n",
      "tp tn fp fn 7   7   1   6\n",
      "year  2011 positive  13\n",
      "actual len  20856\n",
      "len of xtest  2507\n",
      "pct_is_new                   float64\n",
      "pct_is_newish                float64\n",
      "n_biggest_anc                float64\n",
      "pct_of_biggest_anc           float64\n",
      "pct_of_secbiggest_anc_new    float64\n",
      "pct_top_5_anc                float64\n",
      "wrcr                         float64\n",
      "rcr_mid                      float64\n",
      "rcr_hi                       float64\n",
      "human                        float64\n",
      "animal                       float64\n",
      "molecular_cellular           float64\n",
      "is_clinical                  float64\n",
      "is_research_article          float64\n",
      "cited_by_clin                float64\n",
      "nih                          float64\n",
      "rage                         float64\n",
      "dtype: object\n",
      "hdhdhd before  223\n",
      "len of xtrain  193\n",
      "year   2012\n",
      "[1979 1991 1992 1993 1994 1996 1998 1999 2000 2003 2006 2007 2008 2009\n",
      " 2010 2011 2013 2014 2015 2016 2017 2018 2019 2020]\n",
      "cv score  0.7591161616161615\n",
      "(2507,)\n",
      "no of positive  859\n",
      "len of predy  322\n"
     ]
    },
    {
     "data": {
      "image/png": "[encoded data removed]",
      "text/plain": [
       "<Figure size 432x288 with 1 Axes>"
      ]
     },
     "metadata": {
      "needs_background": "light"
     },
     "output_type": "display_data"
    },
    {
     "name": "stdout",
     "output_type": "stream",
     "text": [
      "$$$  2507   322\n",
      "total positive  322\n",
      "tp tn fp fn 2   9   0   12\n",
      "year  2012 positive  14\n",
      "actual len  21671\n",
      "len of xtest  2580\n",
      "pct_is_new                   float64\n",
      "pct_is_newish                float64\n",
      "n_biggest_anc                float64\n",
      "pct_of_biggest_anc           float64\n",
      "pct_of_secbiggest_anc_new    float64\n",
      "pct_top_5_anc                float64\n",
      "wrcr                         float64\n",
      "rcr_mid                      float64\n",
      "rcr_hi                       float64\n",
      "human                        float64\n",
      "animal                       float64\n",
      "molecular_cellular           float64\n",
      "is_clinical                  float64\n",
      "is_research_article          float64\n",
      "cited_by_clin                float64\n",
      "nih                          float64\n",
      "rage                         float64\n",
      "dtype: object\n",
      "hdhdhd before  223\n",
      "len of xtrain  194\n",
      "year   2013\n",
      "[1979 1991 1992 1993 1994 1996 1998 1999 2000 2003 2006 2007 2008 2009\n",
      " 2010 2011 2012 2014 2015 2016 2017 2018 2019 2020]\n",
      "cv score  0.7696717171717172\n",
      "(2580,)\n",
      "no of positive  872\n",
      "len of predy  303\n"
     ]
    },
    {
     "data": {
      "image/png": "[encoded data removed]",
      "text/plain": [
       "<Figure size 432x288 with 1 Axes>"
      ]
     },
     "metadata": {
      "needs_background": "light"
     },
     "output_type": "display_data"
    },
    {
     "name": "stdout",
     "output_type": "stream",
     "text": [
      "$$$  2580   303\n",
      "total positive  303\n",
      "tp tn fp fn 6   9   0   7\n",
      "year  2013 positive  13\n",
      "actual len  22577\n",
      "len of xtest  2638\n",
      "pct_is_new                   float64\n",
      "pct_is_newish                float64\n",
      "n_biggest_anc                float64\n",
      "pct_of_biggest_anc           float64\n",
      "pct_of_secbiggest_anc_new    float64\n",
      "pct_top_5_anc                float64\n",
      "wrcr                         float64\n",
      "rcr_mid                      float64\n",
      "rcr_hi                       float64\n",
      "human                        float64\n",
      "animal                       float64\n",
      "molecular_cellular           float64\n",
      "is_clinical                  float64\n",
      "is_research_article          float64\n",
      "cited_by_clin                float64\n",
      "nih                          float64\n",
      "rage                         float64\n",
      "dtype: object\n",
      "hdhdhd before  223\n",
      "len of xtrain  202\n",
      "year   2014\n",
      "[1979 1991 1992 1993 1994 1996 1998 1999 2000 2003 2006 2007 2008 2009\n",
      " 2010 2011 2012 2013 2015 2016 2017 2018 2019 2020]\n",
      "cv score  0.7416705516705517\n",
      "(2638,)\n",
      "no of positive  833\n",
      "len of predy  313\n"
     ]
    },
    {
     "data": {
      "image/png": "[encoded data removed]",
      "text/plain": [
       "<Figure size 432x288 with 1 Axes>"
      ]
     },
     "metadata": {
      "needs_background": "light"
     },
     "output_type": "display_data"
    },
    {
     "name": "stdout",
     "output_type": "stream",
     "text": [
      "$$$  2638   313\n",
      "total positive  313\n",
      "tp tn fp fn 5   5   1   4\n",
      "year  2014 positive  9\n",
      "actual len  23437\n",
      "len of xtest  2737\n",
      "pct_is_new                   float64\n",
      "pct_is_newish                float64\n",
      "n_biggest_anc                float64\n",
      "pct_of_biggest_anc           float64\n",
      "pct_of_secbiggest_anc_new    float64\n",
      "pct_top_5_anc                float64\n",
      "wrcr                         float64\n",
      "rcr_mid                      float64\n",
      "rcr_hi                       float64\n",
      "human                        float64\n",
      "animal                       float64\n",
      "molecular_cellular           float64\n",
      "is_clinical                  float64\n",
      "is_research_article          float64\n",
      "cited_by_clin                float64\n",
      "nih                          float64\n",
      "rage                         float64\n",
      "dtype: object\n",
      "hdhdhd before  223\n",
      "len of xtrain  213\n",
      "year   2015\n",
      "[1979 1991 1992 1993 1994 1996 1998 1999 2000 2003 2006 2007 2008 2009\n",
      " 2010 2011 2012 2013 2014 2016 2017 2018 2019 2020]\n",
      "cv score  0.7316217116217116\n",
      "(2737,)\n",
      "no of positive  818\n",
      "len of predy  291\n"
     ]
    },
    {
     "data": {
      "image/png": "[encoded data removed]",
      "text/plain": [
       "<Figure size 432x288 with 1 Axes>"
      ]
     },
     "metadata": {
      "needs_background": "light"
     },
     "output_type": "display_data"
    },
    {
     "name": "stdout",
     "output_type": "stream",
     "text": [
      "$$$  2737   291\n",
      "total positive  291\n",
      "tp tn fp fn 1   2   0   2\n",
      "year  2015 positive  3\n",
      "actual len  24395\n",
      "len of xtest  2795\n",
      "pct_is_new                   float64\n",
      "pct_is_newish                float64\n",
      "n_biggest_anc                float64\n",
      "pct_of_biggest_anc           float64\n",
      "pct_of_secbiggest_anc_new    float64\n",
      "pct_top_5_anc                float64\n",
      "wrcr                         float64\n",
      "rcr_mid                      float64\n",
      "rcr_hi                       float64\n",
      "human                        float64\n",
      "animal                       float64\n",
      "molecular_cellular           float64\n",
      "is_clinical                  float64\n",
      "is_research_article          float64\n",
      "cited_by_clin                float64\n",
      "nih                          float64\n",
      "rage                         float64\n",
      "dtype: object\n",
      "hdhdhd before  223\n",
      "len of xtrain  211\n",
      "year   2016\n",
      "[1979 1991 1992 1993 1994 1996 1998 1999 2000 2003 2006 2007 2008 2009\n",
      " 2010 2011 2012 2013 2014 2015 2017 2018 2019 2020]\n",
      "cv score  0.7685120435120435\n",
      "(2795,)\n",
      "no of positive  786\n",
      "len of predy  306\n"
     ]
    },
    {
     "data": {
      "image/png": "[encoded data removed]",
      "text/plain": [
       "<Figure size 432x288 with 1 Axes>"
      ]
     },
     "metadata": {
      "needs_background": "light"
     },
     "output_type": "display_data"
    },
    {
     "name": "stdout",
     "output_type": "stream",
     "text": [
      "$$$  2795   306\n",
      "total positive  306\n",
      "tp tn fp fn 2   4   0   2\n",
      "year  2016 positive  4\n",
      "actual len  25382\n",
      "len of xtest  2905\n",
      "pct_is_new                   float64\n",
      "pct_is_newish                float64\n",
      "n_biggest_anc                float64\n",
      "pct_of_biggest_anc           float64\n",
      "pct_of_secbiggest_anc_new    float64\n",
      "pct_top_5_anc                float64\n",
      "wrcr                         float64\n",
      "rcr_mid                      float64\n",
      "rcr_hi                       float64\n",
      "human                        float64\n",
      "animal                       float64\n",
      "molecular_cellular           float64\n",
      "is_clinical                  float64\n",
      "is_research_article          float64\n",
      "cited_by_clin                float64\n",
      "nih                          float64\n",
      "rage                         float64\n",
      "dtype: object\n",
      "hdhdhd before  223\n",
      "len of xtrain  207\n",
      "year   2017\n",
      "[1979 1991 1992 1993 1994 1996 1998 1999 2000 2003 2006 2007 2008 2009\n",
      " 2010 2011 2012 2013 2014 2015 2016 2018 2019 2020]\n",
      "cv score  0.7525796425796426\n",
      "(2905,)\n",
      "no of positive  791\n",
      "len of predy  263\n"
     ]
    },
    {
     "data": {
      "image/png": "[encoded data removed]",
      "text/plain": [
       "<Figure size 432x288 with 1 Axes>"
      ]
     },
     "metadata": {
      "needs_background": "light"
     },
     "output_type": "display_data"
    },
    {
     "name": "stdout",
     "output_type": "stream",
     "text": [
      "$$$  2905   263\n",
      "total positive  263\n",
      "tp tn fp fn 0   4   0   6\n",
      "year  2017 positive  6\n",
      "actual len  26313\n",
      "len of xtest  2990\n",
      "pct_is_new                   float64\n",
      "pct_is_newish                float64\n",
      "n_biggest_anc                float64\n",
      "pct_of_biggest_anc           float64\n",
      "pct_of_secbiggest_anc_new    float64\n",
      "pct_top_5_anc                float64\n",
      "wrcr                         float64\n",
      "rcr_mid                      float64\n",
      "rcr_hi                       float64\n",
      "human                        float64\n",
      "animal                       float64\n",
      "molecular_cellular           float64\n",
      "is_clinical                  float64\n",
      "is_research_article          float64\n",
      "cited_by_clin                float64\n",
      "nih                          float64\n",
      "rage                         float64\n",
      "dtype: object\n",
      "hdhdhd before  223\n",
      "len of xtrain  203\n",
      "year   2018\n",
      "[1979 1991 1992 1993 1994 1996 1998 1999 2000 2003 2006 2007 2008 2009\n",
      " 2010 2011 2012 2013 2014 2015 2016 2017 2019 2020]\n",
      "cv score  0.7876551226551226\n",
      "(2990,)\n",
      "no of positive  773\n",
      "len of predy  324\n"
     ]
    },
    {
     "data": {
      "image/png": "[encoded data removed]",
      "text/plain": [
       "<Figure size 432x288 with 1 Axes>"
      ]
     },
     "metadata": {
      "needs_background": "light"
     },
     "output_type": "display_data"
    },
    {
     "name": "stdout",
     "output_type": "stream",
     "text": [
      "$$$  2990   324\n",
      "total positive  324\n",
      "tp tn fp fn 2   5   2   5\n",
      "year  2018 positive  7\n",
      "actual len  27361\n",
      "len of xtest  3139\n",
      "pct_is_new                   float64\n",
      "pct_is_newish                float64\n",
      "n_biggest_anc                float64\n",
      "pct_of_biggest_anc           float64\n",
      "pct_of_secbiggest_anc_new    float64\n",
      "pct_top_5_anc                float64\n",
      "wrcr                         float64\n",
      "rcr_mid                      float64\n",
      "rcr_hi                       float64\n",
      "human                        float64\n",
      "animal                       float64\n",
      "molecular_cellular           float64\n",
      "is_clinical                  float64\n",
      "is_research_article          float64\n",
      "cited_by_clin                float64\n",
      "nih                          float64\n",
      "rage                         float64\n",
      "dtype: object\n",
      "hdhdhd before  223\n",
      "len of xtrain  209\n",
      "year   2019\n",
      "[1979 1991 1992 1993 1994 1996 1998 1999 2000 2003 2006 2007 2008 2009\n",
      " 2010 2011 2012 2013 2014 2015 2016 2017 2018 2020]\n",
      "cv score  0.760535853035853\n",
      "(3139,)\n",
      "no of positive  782\n",
      "len of predy  318\n"
     ]
    },
    {
     "data": {
      "image/png": "[encoded data removed]",
      "text/plain": [
       "<Figure size 432x288 with 1 Axes>"
      ]
     },
     "metadata": {
      "needs_background": "light"
     },
     "output_type": "display_data"
    },
    {
     "name": "stdout",
     "output_type": "stream",
     "text": [
      "$$$  3139   318\n",
      "total positive  318\n",
      "tp tn fp fn 1   3   1   3\n",
      "year  2019 positive  4\n",
      "actual len  28712\n",
      "len of xtest  3248\n",
      "pct_is_new                   float64\n",
      "pct_is_newish                float64\n",
      "n_biggest_anc                float64\n",
      "pct_of_biggest_anc           float64\n",
      "pct_of_secbiggest_anc_new    float64\n",
      "pct_top_5_anc                float64\n",
      "wrcr                         float64\n",
      "rcr_mid                      float64\n",
      "rcr_hi                       float64\n",
      "human                        float64\n",
      "animal                       float64\n",
      "molecular_cellular           float64\n",
      "is_clinical                  float64\n",
      "is_research_article          float64\n",
      "cited_by_clin                float64\n",
      "nih                          float64\n",
      "rage                         float64\n",
      "dtype: object\n",
      "hdhdhd before  223\n",
      "len of xtrain  215\n",
      "year   2020\n",
      "[1979 1991 1992 1993 1994 1996 1998 1999 2000 2003 2006 2007 2008 2009\n",
      " 2010 2011 2012 2013 2014 2015 2016 2017 2018 2019]\n",
      "cv score  0.7245124320124321\n",
      "(3248,)\n",
      "no of positive  836\n",
      "len of predy  355\n"
     ]
    },
    {
     "data": {
      "image/png": "[encoded data removed]",
      "text/plain": [
       "<Figure size 432x288 with 1 Axes>"
      ]
     },
     "metadata": {
      "needs_background": "light"
     },
     "output_type": "display_data"
    },
    {
     "name": "stdout",
     "output_type": "stream",
     "text": [
      "$$$  3248   355\n",
      "total positive  355\n",
      "tp tn fp fn 0   1   0   2\n",
      "year  2020 positive  2\n",
      "total pos  111  true pos  52  total false pos  527.9069767441861\n"
     ]
    }
   ],
   "source": [
    "##logistic regression\n",
    "def recall2(pred,th, yr):\n",
    "    data = pd.read_csv(\"data_84.csv\")\n",
    "    data = data[data['year'] == yr]\n",
    "    data = data[data['n'] > 100]\n",
    "    ll = 350\n",
    "    tot = 0\n",
    "    ress = pd.merge(data,pred,on='cluster', how = 'inner')\n",
    "    \n",
    "    tp,tn,fp, fn = 0,0,0,0\n",
    "    pred = pred.sort_values(by=['pred_log'], ascending = False)\n",
    "    res = pred.head(ll)\n",
    "    for ind in res.index:\n",
    "        cl = res['cluster'][ind]\n",
    "        dd = data[data['cluster'] == cl]\n",
    "        if len(dd) != 0:\n",
    "            dd = dd.to_numpy()\n",
    "            cls = dd[0][dd.shape[1] - 1]\n",
    "            if cls == 1:\n",
    "                tp += 1\n",
    "            else:\n",
    "                fp += 1\n",
    "        else:\n",
    "            fp += 1\n",
    "       \n",
    "    pred = pred[pred['pred_log'] >= th]\n",
    "    print(\"total positive \", ll)\n",
    "    print(\"tp fp\",tp,\" \",fp)\n",
    "    total_pos = len(ress[ress['class'] == 1])\n",
    "    print(\"year \",yr,\"positive \",total_pos)\n",
    "    \n",
    "    \n",
    "    return total_pos,tp,ll - tp\n",
    "\n",
    "def recall(pred,th, yr):\n",
    "    data = pd.read_csv(\"data_84.csv\")\n",
    "    data = data[data['year'] == yr]\n",
    "    data = data[data['n'] > 100]\n",
    "\n",
    "    tot = 0\n",
    "    res = pd.merge(data,pred,on='cluster', how = 'inner')\n",
    "    tp,tn,fp, fn = 0,0,0,0\n",
    "    for ind in res.index:\n",
    "        if res['class'][ind] == 1 and res['pred_log'][ind] >= th:\n",
    "            tp += 1\n",
    "        elif res['class'][ind] == 0 and res['pred_log'][ind] < th:\n",
    "            tn += 1\n",
    "        elif res['class'][ind] == 0 and res['pred_log'][ind] >= th:\n",
    "            fp += 1\n",
    "        elif res['class'][ind] == 1 and res['pred_log'][ind] < th:\n",
    "            fn += 1\n",
    "    pred = pred[pred['pred_log'] >= th]\n",
    "    print(\"total positive \", len(pred))\n",
    "    print(\"tp tn fp fn\",tp,\" \",tn,\" \",fp,\" \",fn)\n",
    "    total_pos = len(res[res['class'] == 1])\n",
    "    print(\"year \",yr,\"positive \",total_pos)\n",
    "    \n",
    "    \n",
    "    return total_pos,tp,len(pred[pred['pred_log'] >= th]) - tp\n",
    "\n",
    "\n",
    "def train(x_train):\n",
    "    \n",
    "    \n",
    "  \n",
    "    y_train = x_train['class']\n",
    "    \n",
    "    x_train = x_train.drop(['class','cluster','year','n','pct_dusted_ccn','pct_dusted_rmcl',\n",
    "                           'pct_in_secbiggest_anc','rcr_low','secbiggest_anc',\n",
    "                           'pct_of_biggest_anc_newish','pct_of_biggest_anc_new','n_clusts_90_anc','pct_of_secbiggest_anc'\n",
    "                           ,'pct_in_biggest_anc','biggest_anc','pct_of_secbiggest_anc_newish','n_secbiggest_anc'\n",
    "                            ], axis = 1)\n",
    "    \n",
    "    '''x_train = x_train.drop(['class','cluster','year','n','pct_dusted_ccn','pct_dusted_rmcl',\n",
    "                           'pct_in_secbiggest_anc','rcr_low','secbiggest_anc',\n",
    "                           'pct_of_biggest_anc_newish','pct_of_biggest_anc_new','n_clusts_90_anc'\n",
    "                           ,'pct_in_biggest_anc','biggest_anc','pct_of_secbiggest_anc_newish'\n",
    "                           ], axis = 1)\n",
    "    \n",
    "    x_train[['pct_of_biggest_anc','pct_is_newish','wrcr']] = minmax_scale(x_train[[\n",
    "    'pct_of_biggest_anc','pct_is_newish','wrcr']])'''\n",
    "    \n",
    "    \n",
    "    \n",
    "    '''x_train[['wrcr','rcr_hi','rcr_mid','n_biggest_anc','n_secbiggest_anc','n_clusts_90_anc','pct_of_biggest_anc_new']] = minmax_scale(x_train[['wrcr','rcr_hi','rcr_mid','n_biggest_anc','n_secbiggest_anc','n_clusts_90_anc','pct_of_biggest_anc_new']])\n",
    "    x_train = x_train.drop(['cluster','year','n','pct_is_newish','pct_dusted_ccn','pct_dusted_rmcl','biggest_anc','pct_in_biggest_anc','pct_of_biggest_anc','pct_of_biggest_anc_new','pct_of_biggest_anc_newish','secbiggest_anc'], axis = 1)#$%\n",
    "    #x_train = x_train.drop(['pct_of_biggest_anc_new','pct_of_secbiggest_anc_new','animal','pct_is_newish'], axis = 1)\n",
    "    x_train = x_train.drop(['pct_in_secbiggest_anc','pct_of_secbiggest_anc','pct_of_secbiggest_anc_newish','rcr_low','class'], axis = 1)\n",
    "    '''\n",
    "    \n",
    "    y_train = np.array(y_train)\n",
    " \n",
    "    model = LogisticRegression(random_state=0, C = 1).fit(x_train,y_train) ##logistioc\n",
    "    \n",
    "    '''crossvalidation2(x_train, y_train)\n",
    "    print(model.intercept_, model.coef_, model.score(x_train, y_train))'''\n",
    "    scores = cross_val_score(model, x_train, y_train, cv=20,scoring = \"f1\")\n",
    "    print(\"cv score \", scores.mean())\n",
    "    return model\n",
    "    \n",
    "tot,tp,total_fp = 0,0,0\n",
    "yr = 1978\n",
    "\n",
    "while yr <= 2020:\n",
    "    \n",
    "    x_train = pd.read_csv(\"data_84.csv\")\n",
    "    x_test = pd.read_csv(\"~/Documents/PhD/project_nobel/boty/boty_direct/features_prediction_\"+str(yr)+\".csv\")\n",
    "    print(\"actual len \",len(x_test))\n",
    "    x_test = x_test.dropna(axis=0)\n",
    "    \n",
    "    x_test = x_test[x_test['n'] > 100]\n",
    "    \n",
    "   \n",
    "    #x_test = x_test[x_test['n_biggest_anc'] >= 500]\n",
    "    x_test = x_test[x_test['rcr_hi'] >= 2.00]\n",
    "    #x_test = x_test[x_test['cited_by_clin'] >= 0.080]\n",
    "    #x_test = x_test[x_test['is_clinical'] >= 0.012] ##this one\n",
    "    #x_test = x_test[x_test['animal'] >= 0.02]\n",
    "\n",
    "    #x_test = x_test[x_test['molecular_cellular'] >= 0.030] ##this one, with C = 1\n",
    "    #x_test = x_test[x_test['nih'] >= 0.025]\n",
    "    #x_test = x_test[x_test['human'] >= 0.25]\n",
    "    #x_test = x_test[x_test['rage'] >= 5]\n",
    "    #x_test = x_test[x_test['pct_is_new'] >= 0.09]\n",
    "    print(\"len of xtest \",len(x_test))\n",
    "       \n",
    "    copy_test = x_test.copy()\n",
    "    #print(x_test.tail(10))\n",
    "    \n",
    "    #x_test = x_test[x_test['is_research_article'] > 0.75]\n",
    "    \n",
    "    x_test = x_test.drop(['prediction','cluster','year','n',\n",
    "                           'pct_in_secbiggest_anc','rcr_low','secbiggest_anc',\n",
    "                           'pct_of_biggest_anc_newish','pct_of_biggest_anc_new','n_clusts_90_anc','pct_of_secbiggest_anc'\n",
    "                           ,'pct_in_biggest_anc','biggest_anc','pct_of_secbiggest_anc_newish','n_secbiggest_anc'\n",
    "                            ], axis = 1)\n",
    "    \n",
    "    '''x_test = x_test.drop(['prediction','cluster','year','n',\n",
    "                               'pct_in_secbiggest_anc','rcr_low','secbiggest_anc',\n",
    "                               'pct_of_biggest_anc_newish','pct_of_biggest_anc_new','n_clusts_90_anc'\n",
    "                               ,'pct_in_biggest_anc','biggest_anc','pct_of_secbiggest_anc_newish'\n",
    "                               ], axis = 1)\n",
    "    \n",
    "    x_test[['pct_of_biggest_anc','pct_is_newish','wrcr']] = minmax_scale(x_test[[\n",
    "    'pct_of_biggest_anc','pct_is_newish','wrcr']])'''\n",
    "    \n",
    "    print(x_test.dtypes)\n",
    "    '''x_test[['wrcr','rcr_hi','rcr_mid','n_biggest_anc','n_secbiggest_anc','n_clusts_90_anc','pct_of_biggest_anc_new']] = minmax_scale(x_test[['wrcr','rcr_hi','rcr_mid','n_biggest_anc','n_secbiggest_anc','n_clusts_90_anc','pct_of_biggest_anc_new']])\n",
    "    x_test = x_test.drop(['cluster','year','n','pct_is_newish','biggest_anc','pct_in_biggest_anc','pct_of_biggest_anc','pct_of_biggest_anc_new','pct_of_biggest_anc_newish','secbiggest_anc'], axis = 1)\n",
    "    x_test = x_test.drop(['prediction','pct_in_secbiggest_anc','pct_of_secbiggest_anc','pct_of_secbiggest_anc_newish','rcr_low'], axis=1)\n",
    "    '''\n",
    "    \n",
    "    \n",
    "    print(\"hdhdhd before \",len(x_train))\n",
    "    x_train = x_train[x_train['year'] != yr]\n",
    "    x_train = x_train[x_train['n'] > 100]\n",
    "\n",
    "    \n",
    "    #x_train = x_train[x_train['is_research_article'] > 0.75]\n",
    "    print('len of xtrain ', len(x_train))\n",
    "    print(\"year  \",yr)\n",
    "    print(x_train['year'].unique())\n",
    "\n",
    "    model = train(x_train)\n",
    "    \n",
    "    pred = model.predict(x_test)\n",
    "    print(pred.shape)\n",
    "    #print(np.sum(pred))\n",
    "    print(\"no of positive \",np.count_nonzero(pred == 1))\n",
    "    \n",
    "\n",
    "    \n",
    "    predy = model.predict_proba(x_test)\n",
    "    pred_test = []\n",
    "    for i in range(predy.shape[0]):\n",
    "        if predy[i][0] >= predy[i][1]:\n",
    "            #pred_test.append(0.00)\n",
    "            pred_test.append(predy[i][1])\n",
    "        else:\n",
    "            pred_test.append(predy[i][1])\n",
    "    \n",
    "    predy = pd.DataFrame(predy, columns = ['col_0','col_1'])\n",
    "    predy = predy[predy['col_1'] >= 0.70]\n",
    "    #print(\"len of df \", len(df))\n",
    "    print(\"len of predy \", len(predy))\n",
    "    \n",
    "    \n",
    "    \n",
    "    copy_test['pred_log'] = pred_test\n",
    "    copy_test['pred_log'].hist()\n",
    "    plt.show()\n",
    "    \n",
    "    \n",
    "    print(\"$$$ \",len(copy_test),\" \",len(copy_test[copy_test['pred_log'] >= 0.70]))\n",
    "    a, b,c = recall(copy_test,0.70, yr)\n",
    "    tot += a\n",
    "    tp += b\n",
    "    total_fp += c\n",
    "    yr += 1\n",
    "print(\"total pos \",tot,\" true pos \", tp,\" total false pos \",total_fp/43)"
   ]
  },
  {
   "cell_type": "code",
   "execution_count": 74,
   "id": "323c72d6",
   "metadata": {},
   "outputs": [],
   "source": [
    "data = pd.read_csv(\"data_84.csv\")"
   ]
  },
  {
   "cell_type": "code",
   "execution_count": 82,
   "id": "bd252ff8",
   "metadata": {},
   "outputs": [
    {
     "data": {
      "image/png": "[encoded data removed]",
      "text/plain": [
       "<Figure size 432x288 with 1 Axes>"
      ]
     },
     "metadata": {
      "needs_background": "light"
     },
     "output_type": "display_data"
    },
    {
     "name": "stdout",
     "output_type": "stream",
     "text": [
      "0.105774728416238\n"
     ]
    },
    {
     "data": {
      "image/png": "[encoded data removed]",
      "text/plain": [
       "<Figure size 432x288 with 1 Axes>"
      ]
     },
     "metadata": {
      "needs_background": "light"
     },
     "output_type": "display_data"
    },
    {
     "name": "stdout",
     "output_type": "stream",
     "text": [
      "2\n"
     ]
    }
   ],
   "source": [
    "x = \"pct_is_newish\"\n",
    "data[x].hist()\n",
    "plt.show()\n",
    "print(data[x].median())\n",
    "sns.boxplot(data[x])\n",
    "plt.show()\n",
    "data['z'] = np.abs(stats.zscore(data[x]))\n",
    "#print(np.where(z > 3))\n",
    "print(len(data[data['z'] > 3]))\n",
    "data = data[data['z'] <= 3]"
   ]
  },
  {
   "cell_type": "code",
   "execution_count": 84,
   "id": "867cd832",
   "metadata": {},
   "outputs": [
    {
     "name": "stdout",
     "output_type": "stream",
     "text": [
      "205\n"
     ]
    }
   ],
   "source": [
    "print(len(data))\n",
    "data.to_csv(\"data_no_outlier.csv\", index = False)"
   ]
  },
  {
   "cell_type": "code",
   "execution_count": 107,
   "id": "d0a3d3ed",
   "metadata": {},
   "outputs": [
    {
     "name": "stdout",
     "output_type": "stream",
     "text": [
      "[-0.74054727] [[ 1.39447686  0.88468923  0.32792243 -0.04256983 -0.36001118  0.92233518\n",
      "  -0.54938659  0.25434871  0.62044892  0.73292954  0.15282832 -0.5399761\n",
      "   0.15045997 -0.60370259  0.91818114 -0.01431408 -0.41750418]] 0.7804878048780488\n",
      "cross validated f1 score  0.7495736358584655\n"
     ]
    }
   ],
   "source": [
    "x_train = pd.read_csv(\"data_no_outlier.csv\")\n",
    "y_train = x_train['class']\n",
    "x_train = x_train.drop(['class','cluster','year','n','pct_dusted_ccn','pct_dusted_rmcl','z',\n",
    "                           'pct_in_secbiggest_anc','rcr_low','secbiggest_anc',\n",
    "                           'pct_of_biggest_anc_newish','pct_of_biggest_anc_new','n_clusts_90_anc','pct_of_secbiggest_anc'\n",
    "                           ,'pct_in_biggest_anc','biggest_anc','pct_of_secbiggest_anc_newish','n_secbiggest_anc'\n",
    "                            ], axis = 1)\n",
    "\n",
    "#x_train =  StandardScaler().fit_transform(x_train) \n",
    "\n",
    "x_train[['pct_is_new','pct_is_newish','wrcr','human','cited_by_clin','n_biggest_anc','animal',\n",
    "        'pct_top_5_anc','is_research_article','molecular_cellular','nih']] = minmax_scale(x_train[[\n",
    "    'pct_is_new','pct_is_newish','wrcr','human','cited_by_clin','n_biggest_anc','animal',\n",
    "        'pct_top_5_anc','is_research_article','molecular_cellular','nih']])\n",
    "\n",
    "'''col_names = ['rcr_hi', 'rcr_mid']\n",
    "features = x_train[col_names]\n",
    "scaler = StandardScaler().fit(features.values)\n",
    "features = scaler.transform(features.values)\n",
    "x_train[col_names] = features'''\n",
    "\n",
    "y_train = np.array(y_train)\n",
    "model = LogisticRegression(random_state=0, C = 1).fit(x_train,y_train) ##logistioc\n",
    "    \n",
    "print(model.intercept_, model.coef_, model.score(x_train, y_train))\n",
    "scores = cross_val_score(model, x_train, y_train, cv=10,scoring = \"f1\")\n",
    "print(\"cross validated f1 score \",scores.mean())"
   ]
  },
  {
   "cell_type": "code",
   "execution_count": 11,
   "id": "fe73880b",
   "metadata": {},
   "outputs": [
    {
     "name": "stdout",
     "output_type": "stream",
     "text": [
      "actual len  5621\n",
      "len of xtest  184\n",
      "cluster                           int64\n",
      "year                              int64\n",
      "n                                 int64\n",
      "pct_is_new                      float64\n",
      "pct_is_newish                   float64\n",
      "biggest_anc                     float64\n",
      "n_biggest_anc                   float64\n",
      "pct_in_biggest_anc              float64\n",
      "pct_of_biggest_anc              float64\n",
      "pct_of_biggest_anc_new          float64\n",
      "pct_of_biggest_anc_newish       float64\n",
      "secbiggest_anc                  float64\n",
      "n_secbiggest_anc                float64\n",
      "pct_in_secbiggest_anc           float64\n",
      "pct_of_secbiggest_anc           float64\n",
      "pct_of_secbiggest_anc_new       float64\n",
      "pct_of_secbiggest_anc_newish    float64\n",
      "n_clusts_90_anc                 float64\n",
      "pct_top_5_anc                   float64\n",
      "wrcr                            float64\n",
      "rcr_low                         float64\n",
      "rcr_mid                         float64\n",
      "rcr_hi                          float64\n",
      "human                           float64\n",
      "animal                          float64\n",
      "molecular_cellular              float64\n",
      "is_clinical                     float64\n",
      "is_research_article             float64\n",
      "cited_by_clin                   float64\n",
      "nih                             float64\n",
      "rage                            float64\n",
      "prediction                      float64\n",
      "dtype: object\n",
      "hdhdhd before  205\n",
      "len of xtrain  201\n",
      "year   1978\n",
      "[1979 1991 1992 1993 1996 1998 1999 2000 2003 2006 2007 2008 2009 2010\n",
      " 2011 2012 2013 2014 2015 2016 2017 2018 2019 2020]\n",
      "cv score  0.73748223998224\n",
      "(184,)\n",
      "no of positive  125\n",
      "len of predy  107\n"
     ]
    },
    {
     "data": {
      "image/png": "[encoded data removed]",
      "text/plain": [
       "<Figure size 432x288 with 1 Axes>"
      ]
     },
     "metadata": {
      "needs_background": "light"
     },
     "output_type": "display_data"
    },
    {
     "name": "stdout",
     "output_type": "stream",
     "text": [
      "$$$  184   107\n",
      "total positive  107\n",
      "tp tn fp fn 0   0   0   0\n",
      "year  1978 positive  0\n",
      "actual len  5840\n",
      "len of xtest  218\n",
      "cluster                           int64\n",
      "year                              int64\n",
      "n                                 int64\n",
      "pct_is_new                      float64\n",
      "pct_is_newish                   float64\n",
      "biggest_anc                       int64\n",
      "n_biggest_anc                     int64\n",
      "pct_in_biggest_anc              float64\n",
      "pct_of_biggest_anc              float64\n",
      "pct_of_biggest_anc_new          float64\n",
      "pct_of_biggest_anc_newish       float64\n",
      "secbiggest_anc                  float64\n",
      "n_secbiggest_anc                  int64\n",
      "pct_in_secbiggest_anc           float64\n",
      "pct_of_secbiggest_anc           float64\n",
      "pct_of_secbiggest_anc_new       float64\n",
      "pct_of_secbiggest_anc_newish    float64\n",
      "n_clusts_90_anc                 float64\n",
      "pct_top_5_anc                   float64\n",
      "wrcr                            float64\n",
      "rcr_low                         float64\n",
      "rcr_mid                         float64\n",
      "rcr_hi                          float64\n",
      "human                           float64\n",
      "animal                          float64\n",
      "molecular_cellular              float64\n",
      "is_clinical                     float64\n",
      "is_research_article             float64\n",
      "cited_by_clin                   float64\n",
      "nih                             float64\n",
      "rage                            float64\n",
      "prediction                      float64\n",
      "dtype: object\n",
      "hdhdhd before  205\n",
      "len of xtrain  200\n",
      "year   1979\n",
      "[1991 1992 1993 1996 1998 1999 2000 2003 2006 2007 2008 2009 2010 2011\n",
      " 2012 2013 2014 2015 2016 2017 2018 2019 2020]\n",
      "cv score  0.7209382284382284\n",
      "(218,)\n",
      "no of positive  108\n",
      "len of predy  90\n"
     ]
    },
    {
     "data": {
      "image/png": "[encoded data removed]",
      "text/plain": [
       "<Figure size 432x288 with 1 Axes>"
      ]
     },
     "metadata": {
      "needs_background": "light"
     },
     "output_type": "display_data"
    },
    {
     "name": "stdout",
     "output_type": "stream",
     "text": [
      "$$$  218   90\n",
      "total positive  90\n",
      "tp tn fp fn 0   0   0   0\n",
      "year  1979 positive  0\n",
      "actual len  6110\n",
      "len of xtest  230\n",
      "cluster                           int64\n",
      "year                              int64\n",
      "n                                 int64\n",
      "pct_is_new                      float64\n",
      "pct_is_newish                   float64\n",
      "biggest_anc                     float64\n",
      "n_biggest_anc                   float64\n",
      "pct_in_biggest_anc              float64\n",
      "pct_of_biggest_anc              float64\n",
      "pct_of_biggest_anc_new          float64\n",
      "pct_of_biggest_anc_newish       float64\n",
      "secbiggest_anc                  float64\n",
      "n_secbiggest_anc                float64\n",
      "pct_in_secbiggest_anc           float64\n",
      "pct_of_secbiggest_anc           float64\n",
      "pct_of_secbiggest_anc_new       float64\n",
      "pct_of_secbiggest_anc_newish    float64\n",
      "n_clusts_90_anc                 float64\n",
      "pct_top_5_anc                   float64\n",
      "wrcr                            float64\n",
      "rcr_low                         float64\n",
      "rcr_mid                         float64\n",
      "rcr_hi                          float64\n",
      "human                           float64\n",
      "animal                          float64\n",
      "molecular_cellular              float64\n",
      "is_clinical                     float64\n",
      "is_research_article             float64\n",
      "cited_by_clin                   float64\n",
      "nih                             float64\n",
      "rage                            float64\n",
      "prediction                      float64\n",
      "dtype: object\n",
      "hdhdhd before  205\n",
      "len of xtrain  201\n",
      "year   1980\n",
      "[1979 1991 1992 1993 1996 1998 1999 2000 2003 2006 2007 2008 2009 2010\n",
      " 2011 2012 2013 2014 2015 2016 2017 2018 2019 2020]\n",
      "cv score  0.73748223998224\n",
      "(230,)\n",
      "no of positive  118\n",
      "len of predy  94\n"
     ]
    },
    {
     "data": {
      "image/png": "[encoded data removed]",
      "text/plain": [
       "<Figure size 432x288 with 1 Axes>"
      ]
     },
     "metadata": {
      "needs_background": "light"
     },
     "output_type": "display_data"
    },
    {
     "name": "stdout",
     "output_type": "stream",
     "text": [
      "$$$  230   94\n",
      "total positive  94\n",
      "tp tn fp fn 0   0   0   0\n",
      "year  1980 positive  0\n",
      "actual len  6410\n",
      "len of xtest  263\n",
      "cluster                           int64\n",
      "year                              int64\n",
      "n                                 int64\n",
      "pct_is_new                      float64\n",
      "pct_is_newish                   float64\n",
      "biggest_anc                     float64\n",
      "n_biggest_anc                   float64\n",
      "pct_in_biggest_anc              float64\n",
      "pct_of_biggest_anc              float64\n",
      "pct_of_biggest_anc_new          float64\n",
      "pct_of_biggest_anc_newish       float64\n",
      "secbiggest_anc                  float64\n",
      "n_secbiggest_anc                float64\n",
      "pct_in_secbiggest_anc           float64\n",
      "pct_of_secbiggest_anc           float64\n",
      "pct_of_secbiggest_anc_new       float64\n",
      "pct_of_secbiggest_anc_newish    float64\n",
      "n_clusts_90_anc                 float64\n",
      "pct_top_5_anc                   float64\n",
      "wrcr                            float64\n",
      "rcr_low                         float64\n",
      "rcr_mid                         float64\n",
      "rcr_hi                          float64\n",
      "human                           float64\n",
      "animal                          float64\n",
      "molecular_cellular              float64\n",
      "is_clinical                     float64\n",
      "is_research_article             float64\n",
      "cited_by_clin                   float64\n",
      "nih                             float64\n",
      "rage                            float64\n",
      "prediction                      float64\n",
      "dtype: object\n",
      "hdhdhd before  205\n",
      "len of xtrain  201\n",
      "year   1981\n",
      "[1979 1991 1992 1993 1996 1998 1999 2000 2003 2006 2007 2008 2009 2010\n",
      " 2011 2012 2013 2014 2015 2016 2017 2018 2019 2020]\n",
      "cv score  0.73748223998224\n",
      "(263,)\n",
      "no of positive  136\n",
      "len of predy  106\n"
     ]
    },
    {
     "data": {
      "image/png": "[encoded data removed]",
      "text/plain": [
       "<Figure size 432x288 with 1 Axes>"
      ]
     },
     "metadata": {
      "needs_background": "light"
     },
     "output_type": "display_data"
    },
    {
     "name": "stdout",
     "output_type": "stream",
     "text": [
      "$$$  263   106\n",
      "total positive  106\n",
      "tp tn fp fn 0   0   0   0\n",
      "year  1981 positive  0\n",
      "actual len  6647\n",
      "len of xtest  289\n",
      "cluster                           int64\n",
      "year                              int64\n",
      "n                                 int64\n",
      "pct_is_new                      float64\n",
      "pct_is_newish                   float64\n",
      "biggest_anc                     float64\n",
      "n_biggest_anc                   float64\n",
      "pct_in_biggest_anc              float64\n",
      "pct_of_biggest_anc              float64\n",
      "pct_of_biggest_anc_new          float64\n",
      "pct_of_biggest_anc_newish       float64\n",
      "secbiggest_anc                  float64\n",
      "n_secbiggest_anc                float64\n",
      "pct_in_secbiggest_anc           float64\n",
      "pct_of_secbiggest_anc           float64\n",
      "pct_of_secbiggest_anc_new       float64\n",
      "pct_of_secbiggest_anc_newish    float64\n",
      "n_clusts_90_anc                 float64\n",
      "pct_top_5_anc                   float64\n",
      "wrcr                            float64\n",
      "rcr_low                         float64\n",
      "rcr_mid                         float64\n",
      "rcr_hi                          float64\n",
      "human                           float64\n",
      "animal                          float64\n",
      "molecular_cellular              float64\n",
      "is_clinical                     float64\n",
      "is_research_article             float64\n",
      "cited_by_clin                   float64\n",
      "nih                             float64\n",
      "rage                            float64\n",
      "prediction                      float64\n",
      "dtype: object\n",
      "hdhdhd before  205\n",
      "len of xtrain  201\n",
      "year   1982\n",
      "[1979 1991 1992 1993 1996 1998 1999 2000 2003 2006 2007 2008 2009 2010\n",
      " 2011 2012 2013 2014 2015 2016 2017 2018 2019 2020]\n",
      "cv score  0.73748223998224\n",
      "(289,)\n",
      "no of positive  144\n",
      "len of predy  113\n"
     ]
    },
    {
     "data": {
      "image/png": "[encoded data removed]",
      "text/plain": [
       "<Figure size 432x288 with 1 Axes>"
      ]
     },
     "metadata": {
      "needs_background": "light"
     },
     "output_type": "display_data"
    },
    {
     "name": "stdout",
     "output_type": "stream",
     "text": [
      "$$$  289   113\n",
      "total positive  113\n",
      "tp tn fp fn 0   0   0   0\n",
      "year  1982 positive  0\n",
      "actual len  6902\n",
      "len of xtest  323\n",
      "cluster                           int64\n",
      "year                              int64\n",
      "n                                 int64\n",
      "pct_is_new                      float64\n",
      "pct_is_newish                   float64\n",
      "biggest_anc                     float64\n",
      "n_biggest_anc                   float64\n",
      "pct_in_biggest_anc              float64\n",
      "pct_of_biggest_anc              float64\n",
      "pct_of_biggest_anc_new          float64\n",
      "pct_of_biggest_anc_newish       float64\n",
      "secbiggest_anc                  float64\n",
      "n_secbiggest_anc                float64\n",
      "pct_in_secbiggest_anc           float64\n",
      "pct_of_secbiggest_anc           float64\n",
      "pct_of_secbiggest_anc_new       float64\n",
      "pct_of_secbiggest_anc_newish    float64\n",
      "n_clusts_90_anc                 float64\n",
      "pct_top_5_anc                   float64\n",
      "wrcr                            float64\n",
      "rcr_low                         float64\n",
      "rcr_mid                         float64\n",
      "rcr_hi                          float64\n",
      "human                           float64\n",
      "animal                          float64\n",
      "molecular_cellular              float64\n",
      "is_clinical                     float64\n",
      "is_research_article             float64\n",
      "cited_by_clin                   float64\n",
      "nih                             float64\n",
      "rage                            float64\n",
      "prediction                      float64\n",
      "dtype: object\n",
      "hdhdhd before  205\n",
      "len of xtrain  201\n",
      "year   1983\n",
      "[1979 1991 1992 1993 1996 1998 1999 2000 2003 2006 2007 2008 2009 2010\n",
      " 2011 2012 2013 2014 2015 2016 2017 2018 2019 2020]\n",
      "cv score  0.73748223998224\n",
      "(323,)\n",
      "no of positive  154\n",
      "len of predy  106\n"
     ]
    },
    {
     "data": {
      "image/png": "[encoded data removed]",
      "text/plain": [
       "<Figure size 432x288 with 1 Axes>"
      ]
     },
     "metadata": {
      "needs_background": "light"
     },
     "output_type": "display_data"
    },
    {
     "name": "stdout",
     "output_type": "stream",
     "text": [
      "$$$  323   106\n",
      "total positive  106\n",
      "tp tn fp fn 0   0   0   0\n",
      "year  1983 positive  0\n",
      "actual len  7233\n",
      "len of xtest  357\n",
      "cluster                           int64\n",
      "year                              int64\n",
      "n                                 int64\n",
      "pct_is_new                      float64\n",
      "pct_is_newish                   float64\n",
      "biggest_anc                     float64\n",
      "n_biggest_anc                   float64\n",
      "pct_in_biggest_anc              float64\n",
      "pct_of_biggest_anc              float64\n",
      "pct_of_biggest_anc_new          float64\n",
      "pct_of_biggest_anc_newish       float64\n",
      "secbiggest_anc                  float64\n",
      "n_secbiggest_anc                float64\n",
      "pct_in_secbiggest_anc           float64\n",
      "pct_of_secbiggest_anc           float64\n",
      "pct_of_secbiggest_anc_new       float64\n",
      "pct_of_secbiggest_anc_newish    float64\n",
      "n_clusts_90_anc                 float64\n",
      "pct_top_5_anc                   float64\n",
      "wrcr                            float64\n",
      "rcr_low                         float64\n",
      "rcr_mid                         float64\n",
      "rcr_hi                          float64\n",
      "human                           float64\n",
      "animal                          float64\n",
      "molecular_cellular              float64\n",
      "is_clinical                     float64\n",
      "is_research_article             float64\n",
      "cited_by_clin                   float64\n",
      "nih                             float64\n",
      "rage                            float64\n",
      "prediction                      float64\n",
      "dtype: object\n",
      "hdhdhd before  205\n",
      "len of xtrain  201\n",
      "year   1984\n",
      "[1979 1991 1992 1993 1996 1998 1999 2000 2003 2006 2007 2008 2009 2010\n",
      " 2011 2012 2013 2014 2015 2016 2017 2018 2019 2020]\n",
      "cv score  0.73748223998224\n",
      "(357,)\n",
      "no of positive  85\n",
      "len of predy  57\n"
     ]
    },
    {
     "data": {
      "image/png": "[encoded data removed]",
      "text/plain": [
       "<Figure size 432x288 with 1 Axes>"
      ]
     },
     "metadata": {
      "needs_background": "light"
     },
     "output_type": "display_data"
    },
    {
     "name": "stdout",
     "output_type": "stream",
     "text": [
      "$$$  357   57\n",
      "total positive  57\n",
      "tp tn fp fn 0   0   0   0\n",
      "year  1984 positive  0\n",
      "actual len  7596\n",
      "len of xtest  381\n",
      "cluster                           int64\n",
      "year                              int64\n",
      "n                                 int64\n",
      "pct_is_new                      float64\n",
      "pct_is_newish                   float64\n",
      "biggest_anc                     float64\n",
      "n_biggest_anc                   float64\n",
      "pct_in_biggest_anc              float64\n",
      "pct_of_biggest_anc              float64\n",
      "pct_of_biggest_anc_new          float64\n",
      "pct_of_biggest_anc_newish       float64\n",
      "secbiggest_anc                  float64\n",
      "n_secbiggest_anc                float64\n",
      "pct_in_secbiggest_anc           float64\n",
      "pct_of_secbiggest_anc           float64\n",
      "pct_of_secbiggest_anc_new       float64\n",
      "pct_of_secbiggest_anc_newish    float64\n",
      "n_clusts_90_anc                 float64\n",
      "pct_top_5_anc                   float64\n",
      "wrcr                            float64\n",
      "rcr_low                         float64\n",
      "rcr_mid                         float64\n",
      "rcr_hi                          float64\n",
      "human                           float64\n",
      "animal                          float64\n",
      "molecular_cellular              float64\n",
      "is_clinical                     float64\n",
      "is_research_article             float64\n",
      "cited_by_clin                   float64\n",
      "nih                             float64\n",
      "rage                            float64\n",
      "prediction                      float64\n",
      "dtype: object\n",
      "hdhdhd before  205\n",
      "len of xtrain  201\n",
      "year   1985\n",
      "[1979 1991 1992 1993 1996 1998 1999 2000 2003 2006 2007 2008 2009 2010\n",
      " 2011 2012 2013 2014 2015 2016 2017 2018 2019 2020]\n",
      "cv score  0.73748223998224\n",
      "(381,)\n",
      "no of positive  105\n",
      "len of predy  68\n"
     ]
    },
    {
     "data": {
      "image/png": "[encoded data removed]",
      "text/plain": [
       "<Figure size 432x288 with 1 Axes>"
      ]
     },
     "metadata": {
      "needs_background": "light"
     },
     "output_type": "display_data"
    },
    {
     "name": "stdout",
     "output_type": "stream",
     "text": [
      "$$$  381   68\n",
      "total positive  68\n",
      "tp tn fp fn 0   0   0   0\n",
      "year  1985 positive  0\n",
      "actual len  7987\n",
      "len of xtest  427\n",
      "cluster                           int64\n",
      "year                              int64\n",
      "n                                 int64\n",
      "pct_is_new                      float64\n",
      "pct_is_newish                   float64\n",
      "biggest_anc                     float64\n",
      "n_biggest_anc                   float64\n",
      "pct_in_biggest_anc              float64\n",
      "pct_of_biggest_anc              float64\n",
      "pct_of_biggest_anc_new          float64\n",
      "pct_of_biggest_anc_newish       float64\n",
      "secbiggest_anc                  float64\n",
      "n_secbiggest_anc                float64\n",
      "pct_in_secbiggest_anc           float64\n",
      "pct_of_secbiggest_anc           float64\n",
      "pct_of_secbiggest_anc_new       float64\n",
      "pct_of_secbiggest_anc_newish    float64\n",
      "n_clusts_90_anc                 float64\n",
      "pct_top_5_anc                   float64\n",
      "wrcr                            float64\n",
      "rcr_low                         float64\n",
      "rcr_mid                         float64\n",
      "rcr_hi                          float64\n",
      "human                           float64\n",
      "animal                          float64\n",
      "molecular_cellular              float64\n",
      "is_clinical                     float64\n",
      "is_research_article             float64\n",
      "cited_by_clin                   float64\n",
      "nih                             float64\n",
      "rage                            float64\n",
      "prediction                      float64\n",
      "dtype: object\n",
      "hdhdhd before  205\n",
      "len of xtrain  201\n",
      "year   1986\n",
      "[1979 1991 1992 1993 1996 1998 1999 2000 2003 2006 2007 2008 2009 2010\n",
      " 2011 2012 2013 2014 2015 2016 2017 2018 2019 2020]\n",
      "cv score  0.73748223998224\n",
      "(427,)\n",
      "no of positive  65\n",
      "len of predy  39\n"
     ]
    },
    {
     "data": {
      "image/png": "[encoded data removed]",
      "text/plain": [
       "<Figure size 432x288 with 1 Axes>"
      ]
     },
     "metadata": {
      "needs_background": "light"
     },
     "output_type": "display_data"
    },
    {
     "name": "stdout",
     "output_type": "stream",
     "text": [
      "$$$  427   39\n",
      "total positive  39\n",
      "tp tn fp fn 0   0   0   0\n",
      "year  1986 positive  0\n",
      "actual len  8301\n",
      "len of xtest  464\n",
      "cluster                           int64\n",
      "year                              int64\n",
      "n                                 int64\n",
      "pct_is_new                      float64\n",
      "pct_is_newish                   float64\n",
      "biggest_anc                     float64\n",
      "n_biggest_anc                   float64\n",
      "pct_in_biggest_anc              float64\n",
      "pct_of_biggest_anc              float64\n",
      "pct_of_biggest_anc_new          float64\n",
      "pct_of_biggest_anc_newish       float64\n",
      "secbiggest_anc                  float64\n",
      "n_secbiggest_anc                float64\n",
      "pct_in_secbiggest_anc           float64\n",
      "pct_of_secbiggest_anc           float64\n",
      "pct_of_secbiggest_anc_new       float64\n",
      "pct_of_secbiggest_anc_newish    float64\n",
      "n_clusts_90_anc                 float64\n",
      "pct_top_5_anc                   float64\n",
      "wrcr                            float64\n",
      "rcr_low                         float64\n",
      "rcr_mid                         float64\n",
      "rcr_hi                          float64\n",
      "human                           float64\n",
      "animal                          float64\n",
      "molecular_cellular              float64\n",
      "is_clinical                     float64\n",
      "is_research_article             float64\n",
      "cited_by_clin                   float64\n",
      "nih                             float64\n",
      "rage                            float64\n",
      "prediction                      float64\n",
      "dtype: object\n",
      "hdhdhd before  205\n",
      "len of xtrain  201\n",
      "year   1987\n",
      "[1979 1991 1992 1993 1996 1998 1999 2000 2003 2006 2007 2008 2009 2010\n",
      " 2011 2012 2013 2014 2015 2016 2017 2018 2019 2020]\n",
      "cv score  0.73748223998224\n",
      "(464,)\n",
      "no of positive  88\n",
      "len of predy  50\n"
     ]
    },
    {
     "data": {
      "image/png": "[encoded data removed]",
      "text/plain": [
       "<Figure size 432x288 with 1 Axes>"
      ]
     },
     "metadata": {
      "needs_background": "light"
     },
     "output_type": "display_data"
    },
    {
     "name": "stdout",
     "output_type": "stream",
     "text": [
      "$$$  464   50\n",
      "total positive  50\n",
      "tp tn fp fn 0   0   0   0\n",
      "year  1987 positive  0\n",
      "actual len  8743\n",
      "len of xtest  499\n",
      "cluster                           int64\n",
      "year                              int64\n",
      "n                                 int64\n",
      "pct_is_new                      float64\n",
      "pct_is_newish                   float64\n",
      "biggest_anc                     float64\n",
      "n_biggest_anc                   float64\n",
      "pct_in_biggest_anc              float64\n",
      "pct_of_biggest_anc              float64\n",
      "pct_of_biggest_anc_new          float64\n",
      "pct_of_biggest_anc_newish       float64\n",
      "secbiggest_anc                  float64\n",
      "n_secbiggest_anc                float64\n",
      "pct_in_secbiggest_anc           float64\n",
      "pct_of_secbiggest_anc           float64\n",
      "pct_of_secbiggest_anc_new       float64\n",
      "pct_of_secbiggest_anc_newish    float64\n",
      "n_clusts_90_anc                 float64\n",
      "pct_top_5_anc                   float64\n",
      "wrcr                            float64\n",
      "rcr_low                         float64\n",
      "rcr_mid                         float64\n",
      "rcr_hi                          float64\n",
      "human                           float64\n",
      "animal                          float64\n",
      "molecular_cellular              float64\n",
      "is_clinical                     float64\n",
      "is_research_article             float64\n",
      "cited_by_clin                   float64\n",
      "nih                             float64\n",
      "rage                            float64\n",
      "prediction                      float64\n",
      "dtype: object\n",
      "hdhdhd before  205\n",
      "len of xtrain  201\n",
      "year   1988\n",
      "[1979 1991 1992 1993 1996 1998 1999 2000 2003 2006 2007 2008 2009 2010\n",
      " 2011 2012 2013 2014 2015 2016 2017 2018 2019 2020]\n",
      "cv score  0.73748223998224\n",
      "(499,)\n",
      "no of positive  94\n",
      "len of predy  56\n"
     ]
    },
    {
     "data": {
      "image/png": "[encoded data removed]",
      "text/plain": [
       "<Figure size 432x288 with 1 Axes>"
      ]
     },
     "metadata": {
      "needs_background": "light"
     },
     "output_type": "display_data"
    },
    {
     "name": "stdout",
     "output_type": "stream",
     "text": [
      "$$$  499   56\n",
      "total positive  56\n",
      "tp tn fp fn 0   0   0   0\n",
      "year  1988 positive  0\n",
      "actual len  9089\n",
      "len of xtest  529\n",
      "cluster                           int64\n",
      "year                              int64\n",
      "n                                 int64\n",
      "pct_is_new                      float64\n",
      "pct_is_newish                   float64\n",
      "biggest_anc                     float64\n",
      "n_biggest_anc                   float64\n",
      "pct_in_biggest_anc              float64\n",
      "pct_of_biggest_anc              float64\n",
      "pct_of_biggest_anc_new          float64\n",
      "pct_of_biggest_anc_newish       float64\n",
      "secbiggest_anc                  float64\n",
      "n_secbiggest_anc                float64\n",
      "pct_in_secbiggest_anc           float64\n",
      "pct_of_secbiggest_anc           float64\n",
      "pct_of_secbiggest_anc_new       float64\n",
      "pct_of_secbiggest_anc_newish    float64\n",
      "n_clusts_90_anc                 float64\n",
      "pct_top_5_anc                   float64\n",
      "wrcr                            float64\n",
      "rcr_low                         float64\n",
      "rcr_mid                         float64\n",
      "rcr_hi                          float64\n",
      "human                           float64\n",
      "animal                          float64\n",
      "molecular_cellular              float64\n",
      "is_clinical                     float64\n",
      "is_research_article             float64\n",
      "cited_by_clin                   float64\n",
      "nih                             float64\n",
      "rage                            float64\n",
      "prediction                      float64\n",
      "dtype: object\n",
      "hdhdhd before  205\n",
      "len of xtrain  201\n",
      "year   1989\n",
      "[1979 1991 1992 1993 1996 1998 1999 2000 2003 2006 2007 2008 2009 2010\n",
      " 2011 2012 2013 2014 2015 2016 2017 2018 2019 2020]\n",
      "cv score  0.73748223998224\n",
      "(529,)\n",
      "no of positive  124\n",
      "len of predy  80\n"
     ]
    },
    {
     "data": {
      "image/png": "[encoded data removed]",
      "text/plain": [
       "<Figure size 432x288 with 1 Axes>"
      ]
     },
     "metadata": {
      "needs_background": "light"
     },
     "output_type": "display_data"
    },
    {
     "name": "stdout",
     "output_type": "stream",
     "text": [
      "$$$  529   80\n",
      "total positive  80\n",
      "tp tn fp fn 0   0   0   0\n",
      "year  1989 positive  0\n",
      "actual len  9467\n",
      "len of xtest  567\n",
      "cluster                           int64\n",
      "year                              int64\n",
      "n                                 int64\n",
      "pct_is_new                      float64\n",
      "pct_is_newish                   float64\n",
      "biggest_anc                     float64\n",
      "n_biggest_anc                   float64\n",
      "pct_in_biggest_anc              float64\n",
      "pct_of_biggest_anc              float64\n",
      "pct_of_biggest_anc_new          float64\n",
      "pct_of_biggest_anc_newish       float64\n",
      "secbiggest_anc                  float64\n",
      "n_secbiggest_anc                float64\n",
      "pct_in_secbiggest_anc           float64\n",
      "pct_of_secbiggest_anc           float64\n",
      "pct_of_secbiggest_anc_new       float64\n",
      "pct_of_secbiggest_anc_newish    float64\n",
      "n_clusts_90_anc                 float64\n",
      "pct_top_5_anc                   float64\n",
      "wrcr                            float64\n",
      "rcr_low                         float64\n",
      "rcr_mid                         float64\n",
      "rcr_hi                          float64\n",
      "human                           float64\n",
      "animal                          float64\n",
      "molecular_cellular              float64\n",
      "is_clinical                     float64\n",
      "is_research_article             float64\n",
      "cited_by_clin                   float64\n",
      "nih                             float64\n",
      "rage                            float64\n",
      "prediction                      float64\n",
      "dtype: object\n",
      "hdhdhd before  205\n",
      "len of xtrain  201\n",
      "year   1990\n",
      "[1979 1991 1992 1993 1996 1998 1999 2000 2003 2006 2007 2008 2009 2010\n",
      " 2011 2012 2013 2014 2015 2016 2017 2018 2019 2020]\n",
      "cv score  0.73748223998224\n",
      "(567,)\n",
      "no of positive  117\n",
      "len of predy  79\n"
     ]
    },
    {
     "data": {
      "image/png": "[encoded data removed]",
      "text/plain": [
       "<Figure size 432x288 with 1 Axes>"
      ]
     },
     "metadata": {
      "needs_background": "light"
     },
     "output_type": "display_data"
    },
    {
     "name": "stdout",
     "output_type": "stream",
     "text": [
      "$$$  567   79\n",
      "total positive  79\n",
      "tp tn fp fn 0   0   0   0\n",
      "year  1990 positive  0\n",
      "actual len  9825\n",
      "len of xtest  621\n",
      "cluster                           int64\n",
      "year                              int64\n",
      "n                                 int64\n",
      "pct_is_new                      float64\n",
      "pct_is_newish                   float64\n",
      "biggest_anc                     float64\n",
      "n_biggest_anc                   float64\n",
      "pct_in_biggest_anc              float64\n",
      "pct_of_biggest_anc              float64\n",
      "pct_of_biggest_anc_new          float64\n",
      "pct_of_biggest_anc_newish       float64\n",
      "secbiggest_anc                  float64\n",
      "n_secbiggest_anc                float64\n",
      "pct_in_secbiggest_anc           float64\n",
      "pct_of_secbiggest_anc           float64\n",
      "pct_of_secbiggest_anc_new       float64\n",
      "pct_of_secbiggest_anc_newish    float64\n",
      "n_clusts_90_anc                 float64\n",
      "pct_top_5_anc                   float64\n",
      "wrcr                            float64\n",
      "rcr_low                         float64\n",
      "rcr_mid                         float64\n",
      "rcr_hi                          float64\n",
      "human                           float64\n",
      "animal                          float64\n",
      "molecular_cellular              float64\n",
      "is_clinical                     float64\n",
      "is_research_article             float64\n",
      "cited_by_clin                   float64\n",
      "nih                             float64\n",
      "rage                            float64\n",
      "prediction                      float64\n",
      "dtype: object\n",
      "hdhdhd before  205\n",
      "len of xtrain  200\n",
      "year   1991\n",
      "[1979 1992 1993 1996 1998 1999 2000 2003 2006 2007 2008 2009 2010 2011\n",
      " 2012 2013 2014 2015 2016 2017 2018 2019 2020]\n",
      "cv score  0.7182650682650683\n",
      "(621,)\n",
      "no of positive  120\n",
      "len of predy  76\n"
     ]
    },
    {
     "data": {
      "image/png": "[encoded data removed]",
      "text/plain": [
       "<Figure size 432x288 with 1 Axes>"
      ]
     },
     "metadata": {
      "needs_background": "light"
     },
     "output_type": "display_data"
    },
    {
     "name": "stdout",
     "output_type": "stream",
     "text": [
      "$$$  621   76\n",
      "total positive  76\n",
      "tp tn fp fn 0   0   0   0\n",
      "year  1991 positive  0\n",
      "actual len  10202\n",
      "len of xtest  660\n",
      "cluster                           int64\n",
      "year                              int64\n",
      "n                                 int64\n",
      "pct_is_new                      float64\n",
      "pct_is_newish                   float64\n",
      "biggest_anc                     float64\n",
      "n_biggest_anc                   float64\n",
      "pct_in_biggest_anc              float64\n",
      "pct_of_biggest_anc              float64\n",
      "pct_of_biggest_anc_new          float64\n",
      "pct_of_biggest_anc_newish       float64\n",
      "secbiggest_anc                  float64\n",
      "n_secbiggest_anc                float64\n",
      "pct_in_secbiggest_anc           float64\n",
      "pct_of_secbiggest_anc           float64\n",
      "pct_of_secbiggest_anc_new       float64\n",
      "pct_of_secbiggest_anc_newish    float64\n",
      "n_clusts_90_anc                 float64\n",
      "pct_top_5_anc                   float64\n",
      "wrcr                            float64\n",
      "rcr_low                         float64\n",
      "rcr_mid                         float64\n",
      "rcr_hi                          float64\n",
      "human                           float64\n",
      "animal                          float64\n",
      "molecular_cellular              float64\n",
      "is_clinical                     float64\n",
      "is_research_article             float64\n",
      "cited_by_clin                   float64\n",
      "nih                             float64\n",
      "rage                            float64\n",
      "prediction                      float64\n",
      "dtype: object\n",
      "hdhdhd before  205\n",
      "len of xtrain  199\n",
      "year   1992\n",
      "[1979 1991 1993 1996 1998 1999 2000 2003 2006 2007 2008 2009 2010 2011\n",
      " 2012 2013 2014 2015 2016 2017 2018 2019 2020]\n",
      "cv score  0.7394638694638693\n",
      "(660,)\n",
      "no of positive  127\n",
      "len of predy  79\n"
     ]
    },
    {
     "data": {
      "image/png": "[encoded data removed]",
      "text/plain": [
       "<Figure size 432x288 with 1 Axes>"
      ]
     },
     "metadata": {
      "needs_background": "light"
     },
     "output_type": "display_data"
    },
    {
     "name": "stdout",
     "output_type": "stream",
     "text": [
      "$$$  660   79\n",
      "total positive  79\n",
      "tp tn fp fn 0   0   0   0\n",
      "year  1992 positive  0\n",
      "actual len  10609\n",
      "len of xtest  708\n",
      "cluster                           int64\n",
      "year                              int64\n",
      "n                                 int64\n",
      "pct_is_new                      float64\n",
      "pct_is_newish                   float64\n",
      "biggest_anc                     float64\n",
      "n_biggest_anc                   float64\n",
      "pct_in_biggest_anc              float64\n",
      "pct_of_biggest_anc              float64\n",
      "pct_of_biggest_anc_new          float64\n",
      "pct_of_biggest_anc_newish       float64\n",
      "secbiggest_anc                  float64\n",
      "n_secbiggest_anc                float64\n",
      "pct_in_secbiggest_anc           float64\n",
      "pct_of_secbiggest_anc           float64\n",
      "pct_of_secbiggest_anc_new       float64\n",
      "pct_of_secbiggest_anc_newish    float64\n",
      "n_clusts_90_anc                 float64\n",
      "pct_top_5_anc                   float64\n",
      "wrcr                            float64\n",
      "rcr_low                         float64\n",
      "rcr_mid                         float64\n",
      "rcr_hi                          float64\n",
      "human                           float64\n",
      "animal                          float64\n",
      "molecular_cellular              float64\n",
      "is_clinical                     float64\n",
      "is_research_article             float64\n",
      "cited_by_clin                   float64\n",
      "nih                             float64\n",
      "rage                            float64\n",
      "prediction                      float64\n",
      "dtype: object\n",
      "hdhdhd before  205\n",
      "len of xtrain  199\n",
      "year   1993\n",
      "[1979 1991 1992 1996 1998 1999 2000 2003 2006 2007 2008 2009 2010 2011\n",
      " 2012 2013 2014 2015 2016 2017 2018 2019 2020]\n",
      "cv score  0.7320004995004995\n",
      "(708,)\n",
      "no of positive  152\n",
      "len of predy  90\n"
     ]
    },
    {
     "data": {
      "image/png": "[encoded data removed]",
      "text/plain": [
       "<Figure size 432x288 with 1 Axes>"
      ]
     },
     "metadata": {
      "needs_background": "light"
     },
     "output_type": "display_data"
    },
    {
     "name": "stdout",
     "output_type": "stream",
     "text": [
      "$$$  708   90\n",
      "total positive  90\n",
      "tp tn fp fn 0   0   0   1\n",
      "year  1993 positive  1\n",
      "actual len  10974\n",
      "len of xtest  789\n",
      "cluster                           int64\n",
      "year                              int64\n",
      "n                                 int64\n",
      "pct_is_new                      float64\n",
      "pct_is_newish                   float64\n",
      "biggest_anc                     float64\n",
      "n_biggest_anc                   float64\n",
      "pct_in_biggest_anc              float64\n",
      "pct_of_biggest_anc              float64\n",
      "pct_of_biggest_anc_new          float64\n",
      "pct_of_biggest_anc_newish       float64\n",
      "secbiggest_anc                  float64\n",
      "n_secbiggest_anc                float64\n",
      "pct_in_secbiggest_anc           float64\n",
      "pct_of_secbiggest_anc           float64\n",
      "pct_of_secbiggest_anc_new       float64\n",
      "pct_of_secbiggest_anc_newish    float64\n",
      "n_clusts_90_anc                 float64\n",
      "pct_top_5_anc                   float64\n",
      "wrcr                            float64\n",
      "rcr_low                         float64\n",
      "rcr_mid                         float64\n",
      "rcr_hi                          float64\n",
      "human                           float64\n",
      "animal                          float64\n",
      "molecular_cellular              float64\n",
      "is_clinical                     float64\n",
      "is_research_article             float64\n",
      "cited_by_clin                   float64\n",
      "nih                             float64\n",
      "rage                            float64\n",
      "prediction                      float64\n",
      "dtype: object\n",
      "hdhdhd before  205\n",
      "len of xtrain  201\n",
      "year   1994\n",
      "[1979 1991 1992 1993 1996 1998 1999 2000 2003 2006 2007 2008 2009 2010\n",
      " 2011 2012 2013 2014 2015 2016 2017 2018 2019 2020]\n",
      "cv score  0.73748223998224\n",
      "(789,)\n",
      "no of positive  187\n",
      "len of predy  126\n"
     ]
    },
    {
     "data": {
      "image/png": "[encoded data removed]",
      "text/plain": [
       "<Figure size 432x288 with 1 Axes>"
      ]
     },
     "metadata": {
      "needs_background": "light"
     },
     "output_type": "display_data"
    },
    {
     "name": "stdout",
     "output_type": "stream",
     "text": [
      "$$$  789   126\n",
      "total positive  126\n",
      "tp tn fp fn 0   0   0   0\n",
      "year  1994 positive  0\n",
      "actual len  11393\n",
      "len of xtest  860\n",
      "cluster                           int64\n",
      "year                              int64\n",
      "n                                 int64\n",
      "pct_is_new                      float64\n",
      "pct_is_newish                   float64\n",
      "biggest_anc                     float64\n",
      "n_biggest_anc                   float64\n",
      "pct_in_biggest_anc              float64\n",
      "pct_of_biggest_anc              float64\n",
      "pct_of_biggest_anc_new          float64\n",
      "pct_of_biggest_anc_newish       float64\n",
      "secbiggest_anc                  float64\n",
      "n_secbiggest_anc                float64\n",
      "pct_in_secbiggest_anc           float64\n",
      "pct_of_secbiggest_anc           float64\n",
      "pct_of_secbiggest_anc_new       float64\n",
      "pct_of_secbiggest_anc_newish    float64\n",
      "n_clusts_90_anc                 float64\n",
      "pct_top_5_anc                   float64\n",
      "wrcr                            float64\n",
      "rcr_low                         float64\n",
      "rcr_mid                         float64\n",
      "rcr_hi                          float64\n",
      "human                           float64\n",
      "animal                          float64\n",
      "molecular_cellular              float64\n",
      "is_clinical                     float64\n",
      "is_research_article             float64\n",
      "cited_by_clin                   float64\n",
      "nih                             float64\n",
      "rage                            float64\n",
      "prediction                      float64\n",
      "dtype: object\n",
      "hdhdhd before  205\n",
      "len of xtrain  201\n",
      "year   1995\n",
      "[1979 1991 1992 1993 1996 1998 1999 2000 2003 2006 2007 2008 2009 2010\n",
      " 2011 2012 2013 2014 2015 2016 2017 2018 2019 2020]\n",
      "cv score  0.73748223998224\n",
      "(860,)\n",
      "no of positive  131\n",
      "len of predy  91\n"
     ]
    },
    {
     "data": {
      "image/png": "[encoded data removed]",
      "text/plain": [
       "<Figure size 432x288 with 1 Axes>"
      ]
     },
     "metadata": {
      "needs_background": "light"
     },
     "output_type": "display_data"
    },
    {
     "name": "stdout",
     "output_type": "stream",
     "text": [
      "$$$  860   91\n",
      "total positive  91\n",
      "tp tn fp fn 0   0   0   0\n",
      "year  1995 positive  0\n",
      "actual len  11780\n",
      "len of xtest  907\n",
      "cluster                           int64\n",
      "year                              int64\n",
      "n                                 int64\n",
      "pct_is_new                      float64\n",
      "pct_is_newish                   float64\n",
      "biggest_anc                     float64\n",
      "n_biggest_anc                   float64\n",
      "pct_in_biggest_anc              float64\n",
      "pct_of_biggest_anc              float64\n",
      "pct_of_biggest_anc_new          float64\n",
      "pct_of_biggest_anc_newish       float64\n",
      "secbiggest_anc                  float64\n",
      "n_secbiggest_anc                float64\n",
      "pct_in_secbiggest_anc           float64\n",
      "pct_of_secbiggest_anc           float64\n",
      "pct_of_secbiggest_anc_new       float64\n",
      "pct_of_secbiggest_anc_newish    float64\n",
      "n_clusts_90_anc                 float64\n",
      "pct_top_5_anc                   float64\n",
      "wrcr                            float64\n",
      "rcr_low                         float64\n",
      "rcr_mid                         float64\n",
      "rcr_hi                          float64\n",
      "human                           float64\n",
      "animal                          float64\n",
      "molecular_cellular              float64\n",
      "is_clinical                     float64\n",
      "is_research_article             float64\n",
      "cited_by_clin                   float64\n",
      "nih                             float64\n",
      "rage                            float64\n",
      "prediction                      float64\n",
      "dtype: object\n",
      "hdhdhd before  205\n",
      "len of xtrain  199\n",
      "year   1996\n",
      "[1979 1991 1992 1993 1998 1999 2000 2003 2006 2007 2008 2009 2010 2011\n",
      " 2012 2013 2014 2015 2016 2017 2018 2019 2020]\n",
      "cv score  0.7491974691974692\n",
      "(907,)\n",
      "no of positive  188\n",
      "len of predy  122\n"
     ]
    },
    {
     "data": {
      "image/png": "[encoded data removed]",
      "text/plain": [
       "<Figure size 432x288 with 1 Axes>"
      ]
     },
     "metadata": {
      "needs_background": "light"
     },
     "output_type": "display_data"
    },
    {
     "name": "stdout",
     "output_type": "stream",
     "text": [
      "$$$  907   122\n",
      "total positive  122\n",
      "tp tn fp fn 1   0   0   0\n",
      "year  1996 positive  1\n",
      "actual len  12157\n",
      "len of xtest  979\n",
      "cluster                           int64\n",
      "year                              int64\n",
      "n                                 int64\n",
      "pct_is_new                      float64\n",
      "pct_is_newish                   float64\n",
      "biggest_anc                     float64\n",
      "n_biggest_anc                   float64\n",
      "pct_in_biggest_anc              float64\n",
      "pct_of_biggest_anc              float64\n",
      "pct_of_biggest_anc_new          float64\n",
      "pct_of_biggest_anc_newish       float64\n",
      "secbiggest_anc                  float64\n",
      "n_secbiggest_anc                float64\n",
      "pct_in_secbiggest_anc           float64\n",
      "pct_of_secbiggest_anc           float64\n",
      "pct_of_secbiggest_anc_new       float64\n",
      "pct_of_secbiggest_anc_newish    float64\n",
      "n_clusts_90_anc                 float64\n",
      "pct_top_5_anc                   float64\n",
      "wrcr                            float64\n",
      "rcr_low                         float64\n",
      "rcr_mid                         float64\n",
      "rcr_hi                          float64\n",
      "human                           float64\n",
      "animal                          float64\n",
      "molecular_cellular              float64\n",
      "is_clinical                     float64\n",
      "is_research_article             float64\n",
      "cited_by_clin                   float64\n",
      "nih                             float64\n",
      "rage                            float64\n",
      "prediction                      float64\n",
      "dtype: object\n",
      "hdhdhd before  205\n",
      "len of xtrain  201\n",
      "year   1997\n",
      "[1979 1991 1992 1993 1996 1998 1999 2000 2003 2006 2007 2008 2009 2010\n",
      " 2011 2012 2013 2014 2015 2016 2017 2018 2019 2020]\n",
      "cv score  0.73748223998224\n",
      "(979,)\n",
      "no of positive  175\n",
      "len of predy  119\n"
     ]
    },
    {
     "data": {
      "image/png": "[encoded data removed]",
      "text/plain": [
       "<Figure size 432x288 with 1 Axes>"
      ]
     },
     "metadata": {
      "needs_background": "light"
     },
     "output_type": "display_data"
    },
    {
     "name": "stdout",
     "output_type": "stream",
     "text": [
      "$$$  979   119\n",
      "total positive  119\n",
      "tp tn fp fn 0   0   0   0\n",
      "year  1997 positive  0\n",
      "actual len  12606\n",
      "len of xtest  1033\n",
      "cluster                           int64\n",
      "year                              int64\n",
      "n                                 int64\n",
      "pct_is_new                      float64\n",
      "pct_is_newish                   float64\n",
      "biggest_anc                     float64\n",
      "n_biggest_anc                   float64\n",
      "pct_in_biggest_anc              float64\n",
      "pct_of_biggest_anc              float64\n",
      "pct_of_biggest_anc_new          float64\n",
      "pct_of_biggest_anc_newish       float64\n",
      "secbiggest_anc                  float64\n",
      "n_secbiggest_anc                float64\n",
      "pct_in_secbiggest_anc           float64\n",
      "pct_of_secbiggest_anc           float64\n",
      "pct_of_secbiggest_anc_new       float64\n",
      "pct_of_secbiggest_anc_newish    float64\n",
      "n_clusts_90_anc                 float64\n",
      "pct_top_5_anc                   float64\n",
      "wrcr                            float64\n",
      "rcr_low                         float64\n",
      "rcr_mid                         float64\n",
      "rcr_hi                          float64\n",
      "human                           float64\n",
      "animal                          float64\n",
      "molecular_cellular              float64\n",
      "is_clinical                     float64\n",
      "is_research_article             float64\n",
      "cited_by_clin                   float64\n",
      "nih                             float64\n",
      "rage                            float64\n",
      "prediction                      float64\n",
      "dtype: object\n",
      "hdhdhd before  205\n",
      "len of xtrain  195\n",
      "year   1998\n",
      "[1979 1991 1992 1993 1996 1999 2000 2003 2006 2007 2008 2009 2010 2011\n",
      " 2012 2013 2014 2015 2016 2017 2018 2019 2020]\n",
      "cv score  0.7335733710733712\n",
      "(1033,)\n",
      "no of positive  194\n",
      "len of predy  143\n"
     ]
    },
    {
     "data": {
      "image/png": "[encoded data removed]",
      "text/plain": [
       "<Figure size 432x288 with 1 Axes>"
      ]
     },
     "metadata": {
      "needs_background": "light"
     },
     "output_type": "display_data"
    },
    {
     "name": "stdout",
     "output_type": "stream",
     "text": [
      "$$$  1033   143\n",
      "total positive  143\n",
      "tp tn fp fn 2   0   0   1\n",
      "year  1998 positive  3\n",
      "actual len  13116\n",
      "len of xtest  1099\n",
      "cluster                           int64\n",
      "year                              int64\n",
      "n                                 int64\n",
      "pct_is_new                      float64\n",
      "pct_is_newish                   float64\n",
      "biggest_anc                     float64\n",
      "n_biggest_anc                   float64\n",
      "pct_in_biggest_anc              float64\n",
      "pct_of_biggest_anc              float64\n",
      "pct_of_biggest_anc_new          float64\n",
      "pct_of_biggest_anc_newish       float64\n",
      "secbiggest_anc                  float64\n",
      "n_secbiggest_anc                float64\n",
      "pct_in_secbiggest_anc           float64\n",
      "pct_of_secbiggest_anc           float64\n",
      "pct_of_secbiggest_anc_new       float64\n",
      "pct_of_secbiggest_anc_newish    float64\n",
      "n_clusts_90_anc                 float64\n",
      "pct_top_5_anc                   float64\n",
      "wrcr                            float64\n",
      "rcr_low                         float64\n",
      "rcr_mid                         float64\n",
      "rcr_hi                          float64\n",
      "human                           float64\n",
      "animal                          float64\n",
      "molecular_cellular              float64\n",
      "is_clinical                     float64\n",
      "is_research_article             float64\n",
      "cited_by_clin                   float64\n",
      "nih                             float64\n",
      "rage                            float64\n",
      "prediction                      float64\n",
      "dtype: object\n",
      "hdhdhd before  205\n",
      "len of xtrain  197\n",
      "year   1999\n",
      "[1979 1991 1992 1993 1996 1998 2000 2003 2006 2007 2008 2009 2010 2011\n",
      " 2012 2013 2014 2015 2016 2017 2018 2019 2020]\n",
      "cv score  0.7329834054834055\n",
      "(1099,)\n",
      "no of positive  211\n",
      "len of predy  158\n"
     ]
    },
    {
     "data": {
      "image/png": "[encoded data removed]",
      "text/plain": [
       "<Figure size 432x288 with 1 Axes>"
      ]
     },
     "metadata": {
      "needs_background": "light"
     },
     "output_type": "display_data"
    },
    {
     "name": "stdout",
     "output_type": "stream",
     "text": [
      "$$$  1099   158\n",
      "total positive  158\n",
      "tp tn fp fn 0   1   0   1\n",
      "year  1999 positive  1\n",
      "actual len  13664\n",
      "len of xtest  1137\n",
      "cluster                           int64\n",
      "year                              int64\n",
      "n                                 int64\n",
      "pct_is_new                      float64\n",
      "pct_is_newish                   float64\n",
      "biggest_anc                     float64\n",
      "n_biggest_anc                   float64\n",
      "pct_in_biggest_anc              float64\n",
      "pct_of_biggest_anc              float64\n",
      "pct_of_biggest_anc_new          float64\n",
      "pct_of_biggest_anc_newish       float64\n",
      "secbiggest_anc                  float64\n",
      "n_secbiggest_anc                float64\n",
      "pct_in_secbiggest_anc           float64\n",
      "pct_of_secbiggest_anc           float64\n",
      "pct_of_secbiggest_anc_new       float64\n",
      "pct_of_secbiggest_anc_newish    float64\n",
      "n_clusts_90_anc                 float64\n",
      "pct_top_5_anc                   float64\n",
      "wrcr                            float64\n",
      "rcr_low                         float64\n",
      "rcr_mid                         float64\n",
      "rcr_hi                          float64\n",
      "human                           float64\n",
      "animal                          float64\n",
      "molecular_cellular              float64\n",
      "is_clinical                     float64\n",
      "is_research_article             float64\n",
      "cited_by_clin                   float64\n",
      "nih                             float64\n",
      "rage                            float64\n",
      "prediction                      float64\n",
      "dtype: object\n",
      "hdhdhd before  205\n",
      "len of xtrain  195\n",
      "year   2000\n",
      "[1979 1991 1992 1993 1996 1998 1999 2003 2006 2007 2008 2009 2010 2011\n",
      " 2012 2013 2014 2015 2016 2017 2018 2019 2020]\n",
      "cv score  0.7637248862248862\n",
      "(1137,)\n",
      "no of positive  243\n",
      "len of predy  186\n"
     ]
    },
    {
     "data": {
      "image/png": "[encoded data removed]",
      "text/plain": [
       "<Figure size 432x288 with 1 Axes>"
      ]
     },
     "metadata": {
      "needs_background": "light"
     },
     "output_type": "display_data"
    },
    {
     "name": "stdout",
     "output_type": "stream",
     "text": [
      "$$$  1137   186\n",
      "total positive  186\n",
      "tp tn fp fn 1   0   1   2\n",
      "year  2000 positive  3\n",
      "actual len  14240\n",
      "len of xtest  1183\n",
      "cluster                           int64\n",
      "year                              int64\n",
      "n                                 int64\n",
      "pct_is_new                      float64\n",
      "pct_is_newish                   float64\n",
      "biggest_anc                     float64\n",
      "n_biggest_anc                   float64\n",
      "pct_in_biggest_anc              float64\n",
      "pct_of_biggest_anc              float64\n",
      "pct_of_biggest_anc_new          float64\n",
      "pct_of_biggest_anc_newish       float64\n",
      "secbiggest_anc                  float64\n",
      "n_secbiggest_anc                float64\n",
      "pct_in_secbiggest_anc           float64\n",
      "pct_of_secbiggest_anc           float64\n",
      "pct_of_secbiggest_anc_new       float64\n",
      "pct_of_secbiggest_anc_newish    float64\n",
      "n_clusts_90_anc                 float64\n",
      "pct_top_5_anc                   float64\n",
      "wrcr                            float64\n",
      "rcr_low                         float64\n",
      "rcr_mid                         float64\n",
      "rcr_hi                          float64\n",
      "human                           float64\n",
      "animal                          float64\n",
      "molecular_cellular              float64\n",
      "is_clinical                     float64\n",
      "is_research_article             float64\n",
      "cited_by_clin                   float64\n",
      "nih                             float64\n",
      "rage                            float64\n",
      "prediction                      float64\n",
      "dtype: object\n",
      "hdhdhd before  205\n",
      "len of xtrain  201\n",
      "year   2001\n",
      "[1979 1991 1992 1993 1996 1998 1999 2000 2003 2006 2007 2008 2009 2010\n",
      " 2011 2012 2013 2014 2015 2016 2017 2018 2019 2020]\n",
      "cv score  0.73748223998224\n",
      "(1183,)\n",
      "no of positive  274\n",
      "len of predy  205\n"
     ]
    },
    {
     "data": {
      "image/png": "[encoded data removed]",
      "text/plain": [
       "<Figure size 432x288 with 1 Axes>"
      ]
     },
     "metadata": {
      "needs_background": "light"
     },
     "output_type": "display_data"
    },
    {
     "name": "stdout",
     "output_type": "stream",
     "text": [
      "$$$  1183   205\n",
      "total positive  205\n",
      "tp tn fp fn 0   0   0   0\n",
      "year  2001 positive  0\n",
      "actual len  14757\n",
      "len of xtest  1208\n",
      "cluster                           int64\n",
      "year                              int64\n",
      "n                                 int64\n",
      "pct_is_new                      float64\n",
      "pct_is_newish                   float64\n",
      "biggest_anc                     float64\n",
      "n_biggest_anc                   float64\n",
      "pct_in_biggest_anc              float64\n",
      "pct_of_biggest_anc              float64\n",
      "pct_of_biggest_anc_new          float64\n",
      "pct_of_biggest_anc_newish       float64\n",
      "secbiggest_anc                  float64\n",
      "n_secbiggest_anc                float64\n",
      "pct_in_secbiggest_anc           float64\n",
      "pct_of_secbiggest_anc           float64\n",
      "pct_of_secbiggest_anc_new       float64\n",
      "pct_of_secbiggest_anc_newish    float64\n",
      "n_clusts_90_anc                 float64\n",
      "pct_top_5_anc                   float64\n",
      "wrcr                            float64\n",
      "rcr_low                         float64\n",
      "rcr_mid                         float64\n",
      "rcr_hi                          float64\n",
      "human                           float64\n",
      "animal                          float64\n",
      "molecular_cellular              float64\n",
      "is_clinical                     float64\n",
      "is_research_article             float64\n",
      "cited_by_clin                   float64\n",
      "nih                             float64\n",
      "rage                            float64\n",
      "prediction                      float64\n",
      "dtype: object\n",
      "hdhdhd before  205\n",
      "len of xtrain  201\n",
      "year   2002\n",
      "[1979 1991 1992 1993 1996 1998 1999 2000 2003 2006 2007 2008 2009 2010\n",
      " 2011 2012 2013 2014 2015 2016 2017 2018 2019 2020]\n",
      "cv score  0.73748223998224\n",
      "(1208,)\n",
      "no of positive  327\n",
      "len of predy  245\n"
     ]
    },
    {
     "data": {
      "image/png": "[encoded data removed]",
      "text/plain": [
       "<Figure size 432x288 with 1 Axes>"
      ]
     },
     "metadata": {
      "needs_background": "light"
     },
     "output_type": "display_data"
    },
    {
     "name": "stdout",
     "output_type": "stream",
     "text": [
      "$$$  1208   245\n",
      "total positive  245\n",
      "tp tn fp fn 0   0   0   0\n",
      "year  2002 positive  0\n",
      "actual len  15262\n",
      "len of xtest  1252\n",
      "cluster                           int64\n",
      "year                              int64\n",
      "n                                 int64\n",
      "pct_is_new                      float64\n",
      "pct_is_newish                   float64\n",
      "biggest_anc                       int64\n",
      "n_biggest_anc                     int64\n",
      "pct_in_biggest_anc              float64\n",
      "pct_of_biggest_anc              float64\n",
      "pct_of_biggest_anc_new          float64\n",
      "pct_of_biggest_anc_newish       float64\n",
      "secbiggest_anc                  float64\n",
      "n_secbiggest_anc                  int64\n",
      "pct_in_secbiggest_anc           float64\n",
      "pct_of_secbiggest_anc           float64\n",
      "pct_of_secbiggest_anc_new       float64\n",
      "pct_of_secbiggest_anc_newish    float64\n",
      "n_clusts_90_anc                 float64\n",
      "pct_top_5_anc                   float64\n",
      "wrcr                            float64\n",
      "rcr_low                         float64\n",
      "rcr_mid                         float64\n",
      "rcr_hi                          float64\n",
      "human                           float64\n",
      "animal                          float64\n",
      "molecular_cellular              float64\n",
      "is_clinical                     float64\n",
      "is_research_article             float64\n",
      "cited_by_clin                   float64\n",
      "nih                             float64\n",
      "rage                            float64\n",
      "prediction                      float64\n",
      "dtype: object\n",
      "hdhdhd before  205\n",
      "len of xtrain  199\n",
      "year   2003\n",
      "[1979 1991 1992 1993 1996 1998 1999 2000 2006 2007 2008 2009 2010 2011\n",
      " 2012 2013 2014 2015 2016 2017 2018 2019 2020]\n",
      "cv score  0.7360547785547785\n",
      "(1252,)\n",
      "no of positive  319\n",
      "len of predy  237\n"
     ]
    },
    {
     "data": {
      "image/png": "[encoded data removed]",
      "text/plain": [
       "<Figure size 432x288 with 1 Axes>"
      ]
     },
     "metadata": {
      "needs_background": "light"
     },
     "output_type": "display_data"
    },
    {
     "name": "stdout",
     "output_type": "stream",
     "text": [
      "$$$  1252   237\n",
      "total positive  237\n",
      "tp tn fp fn 1   0   0   0\n",
      "year  2003 positive  1\n",
      "actual len  15787\n",
      "len of xtest  1321\n",
      "cluster                           int64\n",
      "year                              int64\n",
      "n                                 int64\n",
      "pct_is_new                      float64\n",
      "pct_is_newish                   float64\n",
      "biggest_anc                     float64\n",
      "n_biggest_anc                   float64\n",
      "pct_in_biggest_anc              float64\n",
      "pct_of_biggest_anc              float64\n",
      "pct_of_biggest_anc_new          float64\n",
      "pct_of_biggest_anc_newish       float64\n",
      "secbiggest_anc                  float64\n",
      "n_secbiggest_anc                float64\n",
      "pct_in_secbiggest_anc           float64\n",
      "pct_of_secbiggest_anc           float64\n",
      "pct_of_secbiggest_anc_new       float64\n",
      "pct_of_secbiggest_anc_newish    float64\n",
      "n_clusts_90_anc                 float64\n",
      "pct_top_5_anc                   float64\n",
      "wrcr                            float64\n",
      "rcr_low                         float64\n",
      "rcr_mid                         float64\n",
      "rcr_hi                          float64\n",
      "human                           float64\n",
      "animal                          float64\n",
      "molecular_cellular              float64\n",
      "is_clinical                     float64\n",
      "is_research_article             float64\n",
      "cited_by_clin                   float64\n",
      "nih                             float64\n",
      "rage                            float64\n",
      "prediction                      float64\n",
      "dtype: object\n",
      "hdhdhd before  205\n",
      "len of xtrain  201\n",
      "year   2004\n",
      "[1979 1991 1992 1993 1996 1998 1999 2000 2003 2006 2007 2008 2009 2010\n",
      " 2011 2012 2013 2014 2015 2016 2017 2018 2019 2020]\n",
      "cv score  0.73748223998224\n",
      "(1321,)\n",
      "no of positive  334\n",
      "len of predy  260\n"
     ]
    },
    {
     "data": {
      "image/png": "[encoded data removed]",
      "text/plain": [
       "<Figure size 432x288 with 1 Axes>"
      ]
     },
     "metadata": {
      "needs_background": "light"
     },
     "output_type": "display_data"
    },
    {
     "name": "stdout",
     "output_type": "stream",
     "text": [
      "$$$  1321   260\n",
      "total positive  260\n",
      "tp tn fp fn 0   0   0   0\n",
      "year  2004 positive  0\n",
      "actual len  16382\n",
      "len of xtest  1365\n",
      "cluster                           int64\n",
      "year                              int64\n",
      "n                                 int64\n",
      "pct_is_new                      float64\n",
      "pct_is_newish                   float64\n",
      "biggest_anc                     float64\n",
      "n_biggest_anc                   float64\n",
      "pct_in_biggest_anc              float64\n",
      "pct_of_biggest_anc              float64\n",
      "pct_of_biggest_anc_new          float64\n",
      "pct_of_biggest_anc_newish       float64\n",
      "secbiggest_anc                  float64\n",
      "n_secbiggest_anc                float64\n",
      "pct_in_secbiggest_anc           float64\n",
      "pct_of_secbiggest_anc           float64\n",
      "pct_of_secbiggest_anc_new       float64\n",
      "pct_of_secbiggest_anc_newish    float64\n",
      "n_clusts_90_anc                 float64\n",
      "pct_top_5_anc                   float64\n",
      "wrcr                            float64\n",
      "rcr_low                         float64\n",
      "rcr_mid                         float64\n",
      "rcr_hi                          float64\n",
      "human                           float64\n",
      "animal                          float64\n",
      "molecular_cellular              float64\n",
      "is_clinical                     float64\n",
      "is_research_article             float64\n",
      "cited_by_clin                   float64\n",
      "nih                             float64\n",
      "rage                            float64\n",
      "prediction                      float64\n",
      "dtype: object\n",
      "hdhdhd before  205\n",
      "len of xtrain  201\n",
      "year   2005\n",
      "[1979 1991 1992 1993 1996 1998 1999 2000 2003 2006 2007 2008 2009 2010\n",
      " 2011 2012 2013 2014 2015 2016 2017 2018 2019 2020]\n",
      "cv score  0.73748223998224\n",
      "(1365,)\n",
      "no of positive  341\n",
      "len of predy  260\n"
     ]
    },
    {
     "data": {
      "image/png": "[encoded data removed]",
      "text/plain": [
       "<Figure size 432x288 with 1 Axes>"
      ]
     },
     "metadata": {
      "needs_background": "light"
     },
     "output_type": "display_data"
    },
    {
     "name": "stdout",
     "output_type": "stream",
     "text": [
      "$$$  1365   260\n",
      "total positive  260\n",
      "tp tn fp fn 0   0   0   0\n",
      "year  2005 positive  0\n",
      "actual len  17084\n",
      "len of xtest  1396\n",
      "cluster                           int64\n",
      "year                              int64\n",
      "n                                 int64\n",
      "pct_is_new                      float64\n",
      "pct_is_newish                   float64\n",
      "biggest_anc                     float64\n",
      "n_biggest_anc                   float64\n",
      "pct_in_biggest_anc              float64\n",
      "pct_of_biggest_anc              float64\n",
      "pct_of_biggest_anc_new          float64\n",
      "pct_of_biggest_anc_newish       float64\n",
      "secbiggest_anc                  float64\n",
      "n_secbiggest_anc                float64\n",
      "pct_in_secbiggest_anc           float64\n",
      "pct_of_secbiggest_anc           float64\n",
      "pct_of_secbiggest_anc_new       float64\n",
      "pct_of_secbiggest_anc_newish    float64\n",
      "n_clusts_90_anc                 float64\n",
      "pct_top_5_anc                   float64\n",
      "wrcr                            float64\n",
      "rcr_low                         float64\n",
      "rcr_mid                         float64\n",
      "rcr_hi                          float64\n",
      "human                           float64\n",
      "animal                          float64\n",
      "molecular_cellular              float64\n",
      "is_clinical                     float64\n",
      "is_research_article             float64\n",
      "cited_by_clin                   float64\n",
      "nih                             float64\n",
      "rage                            float64\n",
      "prediction                      float64\n",
      "dtype: object\n",
      "hdhdhd before  205\n",
      "len of xtrain  200\n",
      "year   2006\n",
      "[1979 1991 1992 1993 1996 1998 1999 2000 2003 2007 2008 2009 2010 2011\n",
      " 2012 2013 2014 2015 2016 2017 2018 2019 2020]\n",
      "cv score  0.7212043512043512\n",
      "(1396,)\n",
      "no of positive  344\n",
      "len of predy  263\n"
     ]
    },
    {
     "data": {
      "image/png": "[encoded data removed]",
      "text/plain": [
       "<Figure size 432x288 with 1 Axes>"
      ]
     },
     "metadata": {
      "needs_background": "light"
     },
     "output_type": "display_data"
    },
    {
     "name": "stdout",
     "output_type": "stream",
     "text": [
      "$$$  1396   263\n",
      "total positive  263\n",
      "tp tn fp fn 1   0   0   0\n",
      "year  2006 positive  1\n",
      "actual len  17653\n",
      "len of xtest  1456\n",
      "cluster                           int64\n",
      "year                              int64\n",
      "n                                 int64\n",
      "pct_is_new                      float64\n",
      "pct_is_newish                   float64\n",
      "biggest_anc                     float64\n",
      "n_biggest_anc                   float64\n",
      "pct_in_biggest_anc              float64\n",
      "pct_of_biggest_anc              float64\n",
      "pct_of_biggest_anc_new          float64\n",
      "pct_of_biggest_anc_newish       float64\n",
      "secbiggest_anc                  float64\n",
      "n_secbiggest_anc                float64\n",
      "pct_in_secbiggest_anc           float64\n",
      "pct_of_secbiggest_anc           float64\n",
      "pct_of_secbiggest_anc_new       float64\n",
      "pct_of_secbiggest_anc_newish    float64\n",
      "n_clusts_90_anc                 float64\n",
      "pct_top_5_anc                   float64\n",
      "wrcr                            float64\n",
      "rcr_low                         float64\n",
      "rcr_mid                         float64\n",
      "rcr_hi                          float64\n",
      "human                           float64\n",
      "animal                          float64\n",
      "molecular_cellular              float64\n",
      "is_clinical                     float64\n",
      "is_research_article             float64\n",
      "cited_by_clin                   float64\n",
      "nih                             float64\n",
      "rage                            float64\n",
      "prediction                      float64\n",
      "dtype: object\n",
      "hdhdhd before  205\n",
      "len of xtrain  195\n",
      "year   2007\n",
      "[1979 1991 1992 1993 1996 1998 1999 2000 2003 2006 2008 2009 2010 2011\n",
      " 2012 2013 2014 2015 2016 2017 2018 2019 2020]\n",
      "cv score  0.7556188256188257\n",
      "(1456,)\n",
      "no of positive  375\n",
      "len of predy  291\n"
     ]
    },
    {
     "data": {
      "image/png": "[encoded data removed]",
      "text/plain": [
       "<Figure size 432x288 with 1 Axes>"
      ]
     },
     "metadata": {
      "needs_background": "light"
     },
     "output_type": "display_data"
    },
    {
     "name": "stdout",
     "output_type": "stream",
     "text": [
      "$$$  1456   291\n",
      "total positive  291\n",
      "tp tn fp fn 3   1   1   0\n",
      "year  2007 positive  3\n",
      "actual len  18303\n",
      "len of xtest  1506\n",
      "cluster                           int64\n",
      "year                              int64\n",
      "n                                 int64\n",
      "pct_is_new                      float64\n",
      "pct_is_newish                   float64\n",
      "biggest_anc                     float64\n",
      "n_biggest_anc                   float64\n",
      "pct_in_biggest_anc              float64\n",
      "pct_of_biggest_anc              float64\n",
      "pct_of_biggest_anc_new          float64\n",
      "pct_of_biggest_anc_newish       float64\n",
      "secbiggest_anc                  float64\n",
      "n_secbiggest_anc                float64\n",
      "pct_in_secbiggest_anc           float64\n",
      "pct_of_secbiggest_anc           float64\n",
      "pct_of_secbiggest_anc_new       float64\n",
      "pct_of_secbiggest_anc_newish    float64\n",
      "n_clusts_90_anc                 float64\n",
      "pct_top_5_anc                   float64\n",
      "wrcr                            float64\n",
      "rcr_low                         float64\n",
      "rcr_mid                         float64\n",
      "rcr_hi                          float64\n",
      "human                           float64\n",
      "animal                          float64\n",
      "molecular_cellular              float64\n",
      "is_clinical                     float64\n",
      "is_research_article             float64\n",
      "cited_by_clin                   float64\n",
      "nih                             float64\n",
      "rage                            float64\n",
      "prediction                      float64\n",
      "dtype: object\n",
      "hdhdhd before  205\n",
      "len of xtrain  193\n",
      "year   2008\n",
      "[1979 1991 1992 1993 1996 1998 1999 2000 2003 2006 2007 2009 2010 2011\n",
      " 2012 2013 2014 2015 2016 2017 2018 2019 2020]\n",
      "cv score  0.7450199800199802\n",
      "(1506,)\n",
      "no of positive  389\n",
      "len of predy  313\n"
     ]
    },
    {
     "data": {
      "image/png": "[encoded data removed]",
      "text/plain": [
       "<Figure size 432x288 with 1 Axes>"
      ]
     },
     "metadata": {
      "needs_background": "light"
     },
     "output_type": "display_data"
    },
    {
     "name": "stdout",
     "output_type": "stream",
     "text": [
      "$$$  1506   313\n",
      "total positive  313\n",
      "tp tn fp fn 4   0   2   0\n",
      "year  2008 positive  4\n",
      "actual len  18833\n",
      "len of xtest  1580\n",
      "cluster                           int64\n",
      "year                              int64\n",
      "n                                 int64\n",
      "pct_is_new                      float64\n",
      "pct_is_newish                   float64\n",
      "biggest_anc                     float64\n",
      "n_biggest_anc                   float64\n",
      "pct_in_biggest_anc              float64\n",
      "pct_of_biggest_anc              float64\n",
      "pct_of_biggest_anc_new          float64\n",
      "pct_of_biggest_anc_newish       float64\n",
      "secbiggest_anc                  float64\n",
      "n_secbiggest_anc                float64\n",
      "pct_in_secbiggest_anc           float64\n",
      "pct_of_secbiggest_anc           float64\n",
      "pct_of_secbiggest_anc_new       float64\n",
      "pct_of_secbiggest_anc_newish    float64\n",
      "n_clusts_90_anc                 float64\n",
      "pct_top_5_anc                   float64\n",
      "wrcr                            float64\n",
      "rcr_low                         float64\n",
      "rcr_mid                         float64\n",
      "rcr_hi                          float64\n",
      "human                           float64\n",
      "animal                          float64\n",
      "molecular_cellular              float64\n",
      "is_clinical                     float64\n",
      "is_research_article             float64\n",
      "cited_by_clin                   float64\n",
      "nih                             float64\n",
      "rage                            float64\n",
      "prediction                      float64\n",
      "dtype: object\n",
      "hdhdhd before  205\n",
      "len of xtrain  191\n",
      "year   2009\n",
      "[1979 1991 1992 1993 1996 1998 1999 2000 2003 2006 2007 2008 2010 2011\n",
      " 2012 2013 2014 2015 2016 2017 2018 2019 2020]\n",
      "cv score  0.7536763236763238\n",
      "(1580,)\n",
      "no of positive  387\n",
      "len of predy  313\n"
     ]
    },
    {
     "data": {
      "image/png": "[encoded data removed]",
      "text/plain": [
       "<Figure size 432x288 with 1 Axes>"
      ]
     },
     "metadata": {
      "needs_background": "light"
     },
     "output_type": "display_data"
    },
    {
     "name": "stdout",
     "output_type": "stream",
     "text": [
      "$$$  1580   313\n",
      "total positive  313\n",
      "tp tn fp fn 4   2   1   1\n",
      "year  2009 positive  5\n",
      "actual len  19499\n",
      "len of xtest  1634\n",
      "cluster                           int64\n",
      "year                              int64\n",
      "n                                 int64\n",
      "pct_is_new                      float64\n",
      "pct_is_newish                   float64\n",
      "biggest_anc                     float64\n",
      "n_biggest_anc                   float64\n",
      "pct_in_biggest_anc              float64\n",
      "pct_of_biggest_anc              float64\n",
      "pct_of_biggest_anc_new          float64\n",
      "pct_of_biggest_anc_newish       float64\n",
      "secbiggest_anc                  float64\n",
      "n_secbiggest_anc                float64\n",
      "pct_in_secbiggest_anc           float64\n",
      "pct_of_secbiggest_anc           float64\n",
      "pct_of_secbiggest_anc_new       float64\n",
      "pct_of_secbiggest_anc_newish    float64\n",
      "n_clusts_90_anc                 float64\n",
      "pct_top_5_anc                   float64\n",
      "wrcr                            float64\n",
      "rcr_low                         float64\n",
      "rcr_mid                         float64\n",
      "rcr_hi                          float64\n",
      "human                           float64\n",
      "animal                          float64\n",
      "molecular_cellular              float64\n",
      "is_clinical                     float64\n",
      "is_research_article             float64\n",
      "cited_by_clin                   float64\n",
      "nih                             float64\n",
      "rage                            float64\n",
      "prediction                      float64\n",
      "dtype: object\n",
      "hdhdhd before  205\n",
      "len of xtrain  186\n",
      "year   2010\n",
      "[1979 1991 1992 1993 1996 1998 1999 2000 2003 2006 2007 2008 2009 2011\n",
      " 2012 2013 2014 2015 2016 2017 2018 2019 2020]\n",
      "cv score  0.7453682428682429\n",
      "(1634,)\n",
      "no of positive  400\n",
      "len of predy  306\n"
     ]
    },
    {
     "data": {
      "image/png": "[encoded data removed]",
      "text/plain": [
       "<Figure size 432x288 with 1 Axes>"
      ]
     },
     "metadata": {
      "needs_background": "light"
     },
     "output_type": "display_data"
    },
    {
     "name": "stdout",
     "output_type": "stream",
     "text": [
      "$$$  1634   306\n",
      "total positive  306\n",
      "tp tn fp fn 5   2   0   2\n",
      "year  2010 positive  7\n",
      "actual len  20126\n",
      "len of xtest  1673\n",
      "cluster                           int64\n",
      "year                              int64\n",
      "n                                 int64\n",
      "pct_is_new                      float64\n",
      "pct_is_newish                   float64\n",
      "biggest_anc                     float64\n",
      "n_biggest_anc                   float64\n",
      "pct_in_biggest_anc              float64\n",
      "pct_of_biggest_anc              float64\n",
      "pct_of_biggest_anc_new          float64\n",
      "pct_of_biggest_anc_newish       float64\n",
      "secbiggest_anc                  float64\n",
      "n_secbiggest_anc                float64\n",
      "pct_in_secbiggest_anc           float64\n",
      "pct_of_secbiggest_anc           float64\n",
      "pct_of_secbiggest_anc_new       float64\n",
      "pct_of_secbiggest_anc_newish    float64\n",
      "n_clusts_90_anc                 float64\n",
      "pct_top_5_anc                   float64\n",
      "wrcr                            float64\n",
      "rcr_low                         float64\n",
      "rcr_mid                         float64\n",
      "rcr_hi                          float64\n",
      "human                           float64\n",
      "animal                          float64\n",
      "molecular_cellular              float64\n",
      "is_clinical                     float64\n",
      "is_research_article             float64\n",
      "cited_by_clin                   float64\n",
      "nih                             float64\n",
      "rage                            float64\n",
      "prediction                      float64\n",
      "dtype: object\n",
      "hdhdhd before  205\n",
      "len of xtrain  179\n",
      "year   2011\n",
      "[1979 1991 1992 1993 1996 1998 1999 2000 2003 2006 2007 2008 2009 2010\n",
      " 2012 2013 2014 2015 2016 2017 2018 2019 2020]\n",
      "cv score  0.7466072816072816\n",
      "(1673,)\n",
      "no of positive  437\n",
      "len of predy  331\n"
     ]
    },
    {
     "data": {
      "image/png": "[encoded data removed]",
      "text/plain": [
       "<Figure size 432x288 with 1 Axes>"
      ]
     },
     "metadata": {
      "needs_background": "light"
     },
     "output_type": "display_data"
    },
    {
     "name": "stdout",
     "output_type": "stream",
     "text": [
      "$$$  1673   331\n",
      "total positive  331\n",
      "tp tn fp fn 8   5   1   4\n",
      "year  2011 positive  12\n",
      "actual len  20856\n",
      "len of xtest  1743\n",
      "cluster                           int64\n",
      "year                              int64\n",
      "n                                 int64\n",
      "pct_is_new                      float64\n",
      "pct_is_newish                   float64\n",
      "biggest_anc                     float64\n",
      "n_biggest_anc                   float64\n",
      "pct_in_biggest_anc              float64\n",
      "pct_of_biggest_anc              float64\n",
      "pct_of_biggest_anc_new          float64\n",
      "pct_of_biggest_anc_newish       float64\n",
      "secbiggest_anc                  float64\n",
      "n_secbiggest_anc                float64\n",
      "pct_in_secbiggest_anc           float64\n",
      "pct_of_secbiggest_anc           float64\n",
      "pct_of_secbiggest_anc_new       float64\n",
      "pct_of_secbiggest_anc_newish    float64\n",
      "n_clusts_90_anc                 float64\n",
      "pct_top_5_anc                   float64\n",
      "wrcr                            float64\n",
      "rcr_low                         float64\n",
      "rcr_mid                         float64\n",
      "rcr_hi                          float64\n",
      "human                           float64\n",
      "animal                          float64\n",
      "molecular_cellular              float64\n",
      "is_clinical                     float64\n",
      "is_research_article             float64\n",
      "cited_by_clin                   float64\n",
      "nih                             float64\n",
      "rage                            float64\n",
      "prediction                      float64\n",
      "dtype: object\n",
      "hdhdhd before  205\n",
      "len of xtrain  176\n",
      "year   2012\n",
      "[1979 1991 1992 1993 1996 1998 1999 2000 2003 2006 2007 2008 2009 2010\n",
      " 2011 2013 2014 2015 2016 2017 2018 2019 2020]\n",
      "cv score  0.7372871572871572\n",
      "(1743,)\n",
      "no of positive  482\n",
      "len of predy  370\n"
     ]
    },
    {
     "data": {
      "image/png": "[encoded data removed]",
      "text/plain": [
       "<Figure size 432x288 with 1 Axes>"
      ]
     },
     "metadata": {
      "needs_background": "light"
     },
     "output_type": "display_data"
    },
    {
     "name": "stdout",
     "output_type": "stream",
     "text": [
      "$$$  1743   370\n",
      "total positive  370\n",
      "tp tn fp fn 11   5   2   3\n",
      "year  2012 positive  14\n",
      "actual len  21671\n",
      "len of xtest  1853\n",
      "cluster                           int64\n",
      "year                              int64\n",
      "n                                 int64\n",
      "pct_is_new                      float64\n",
      "pct_is_newish                   float64\n",
      "biggest_anc                     float64\n",
      "n_biggest_anc                   float64\n",
      "pct_in_biggest_anc              float64\n",
      "pct_of_biggest_anc              float64\n",
      "pct_of_biggest_anc_new          float64\n",
      "pct_of_biggest_anc_newish       float64\n",
      "secbiggest_anc                  float64\n",
      "n_secbiggest_anc                float64\n",
      "pct_in_secbiggest_anc           float64\n",
      "pct_of_secbiggest_anc           float64\n",
      "pct_of_secbiggest_anc_new       float64\n",
      "pct_of_secbiggest_anc_newish    float64\n",
      "n_clusts_90_anc                 float64\n",
      "pct_top_5_anc                   float64\n",
      "wrcr                            float64\n",
      "rcr_low                         float64\n",
      "rcr_mid                         float64\n",
      "rcr_hi                          float64\n",
      "human                           float64\n",
      "animal                          float64\n",
      "molecular_cellular              float64\n",
      "is_clinical                     float64\n",
      "is_research_article             float64\n",
      "cited_by_clin                   float64\n",
      "nih                             float64\n",
      "rage                            float64\n",
      "prediction                      float64\n",
      "dtype: object\n",
      "hdhdhd before  205\n",
      "len of xtrain  177\n",
      "year   2013\n",
      "[1979 1991 1992 1993 1996 1998 1999 2000 2003 2006 2007 2008 2009 2010\n",
      " 2011 2012 2014 2015 2016 2017 2018 2019 2020]\n",
      "cv score  0.7138419913419913\n",
      "(1853,)\n",
      "no of positive  443\n",
      "len of predy  327\n"
     ]
    },
    {
     "data": {
      "image/png": "[encoded data removed]",
      "text/plain": [
       "<Figure size 432x288 with 1 Axes>"
      ]
     },
     "metadata": {
      "needs_background": "light"
     },
     "output_type": "display_data"
    },
    {
     "name": "stdout",
     "output_type": "stream",
     "text": [
      "$$$  1853   327\n",
      "total positive  327\n",
      "tp tn fp fn 10   7   0   1\n",
      "year  2013 positive  11\n",
      "actual len  22577\n",
      "len of xtest  1951\n",
      "cluster                           int64\n",
      "year                              int64\n",
      "n                                 int64\n",
      "pct_is_new                      float64\n",
      "pct_is_newish                   float64\n",
      "biggest_anc                     float64\n",
      "n_biggest_anc                   float64\n",
      "pct_in_biggest_anc              float64\n",
      "pct_of_biggest_anc              float64\n",
      "pct_of_biggest_anc_new          float64\n",
      "pct_of_biggest_anc_newish       float64\n",
      "secbiggest_anc                  float64\n",
      "n_secbiggest_anc                float64\n",
      "pct_in_secbiggest_anc           float64\n",
      "pct_of_secbiggest_anc           float64\n",
      "pct_of_secbiggest_anc_new       float64\n",
      "pct_of_secbiggest_anc_newish    float64\n",
      "n_clusts_90_anc                 float64\n",
      "pct_top_5_anc                   float64\n",
      "wrcr                            float64\n",
      "rcr_low                         float64\n",
      "rcr_mid                         float64\n",
      "rcr_hi                          float64\n",
      "human                           float64\n",
      "animal                          float64\n",
      "molecular_cellular              float64\n",
      "is_clinical                     float64\n",
      "is_research_article             float64\n",
      "cited_by_clin                   float64\n",
      "nih                             float64\n",
      "rage                            float64\n",
      "prediction                      float64\n",
      "dtype: object\n",
      "hdhdhd before  205\n",
      "len of xtrain  187\n",
      "year   2014\n",
      "[1979 1991 1992 1993 1996 1998 1999 2000 2003 2006 2007 2008 2009 2010\n",
      " 2011 2012 2013 2015 2016 2017 2018 2019 2020]\n",
      "cv score  0.7402547452547453\n",
      "(1951,)\n",
      "no of positive  465\n",
      "len of predy  340\n"
     ]
    },
    {
     "data": {
      "image/png": "[encoded data removed]",
      "text/plain": [
       "<Figure size 432x288 with 1 Axes>"
      ]
     },
     "metadata": {
      "needs_background": "light"
     },
     "output_type": "display_data"
    },
    {
     "name": "stdout",
     "output_type": "stream",
     "text": [
      "$$$  1951   340\n",
      "total positive  340\n",
      "tp tn fp fn 4   4   2   3\n",
      "year  2014 positive  7\n",
      "actual len  23437\n",
      "len of xtest  2049\n",
      "cluster                           int64\n",
      "year                              int64\n",
      "n                                 int64\n",
      "pct_is_new                      float64\n",
      "pct_is_newish                   float64\n",
      "biggest_anc                     float64\n",
      "n_biggest_anc                   float64\n",
      "pct_in_biggest_anc              float64\n",
      "pct_of_biggest_anc              float64\n",
      "pct_of_biggest_anc_new          float64\n",
      "pct_of_biggest_anc_newish       float64\n",
      "secbiggest_anc                  float64\n",
      "n_secbiggest_anc                float64\n",
      "pct_in_secbiggest_anc           float64\n",
      "pct_of_secbiggest_anc           float64\n",
      "pct_of_secbiggest_anc_new       float64\n",
      "pct_of_secbiggest_anc_newish    float64\n",
      "n_clusts_90_anc                 float64\n",
      "pct_top_5_anc                   float64\n",
      "wrcr                            float64\n",
      "rcr_low                         float64\n",
      "rcr_mid                         float64\n",
      "rcr_hi                          float64\n",
      "human                           float64\n",
      "animal                          float64\n",
      "molecular_cellular              float64\n",
      "is_clinical                     float64\n",
      "is_research_article             float64\n",
      "cited_by_clin                   float64\n",
      "nih                             float64\n",
      "rage                            float64\n",
      "prediction                      float64\n",
      "dtype: object\n",
      "hdhdhd before  205\n",
      "len of xtrain  195\n",
      "year   2015\n",
      "[1979 1991 1992 1993 1996 1998 1999 2000 2003 2006 2007 2008 2009 2010\n",
      " 2011 2012 2013 2014 2016 2017 2018 2019 2020]\n",
      "cv score  0.7348523698523699\n",
      "(2049,)\n",
      "no of positive  441\n",
      "len of predy  332\n"
     ]
    },
    {
     "data": {
      "image/png": "[encoded data removed]",
      "text/plain": [
       "<Figure size 432x288 with 1 Axes>"
      ]
     },
     "metadata": {
      "needs_background": "light"
     },
     "output_type": "display_data"
    },
    {
     "name": "stdout",
     "output_type": "stream",
     "text": [
      "$$$  2049   332\n",
      "total positive  332\n",
      "tp tn fp fn 2   0   0   1\n",
      "year  2015 positive  3\n",
      "actual len  24395\n",
      "len of xtest  2110\n",
      "cluster                           int64\n",
      "year                              int64\n",
      "n                                 int64\n",
      "pct_is_new                      float64\n",
      "pct_is_newish                   float64\n",
      "biggest_anc                     float64\n",
      "n_biggest_anc                   float64\n",
      "pct_in_biggest_anc              float64\n",
      "pct_of_biggest_anc              float64\n",
      "pct_of_biggest_anc_new          float64\n",
      "pct_of_biggest_anc_newish       float64\n",
      "secbiggest_anc                  float64\n",
      "n_secbiggest_anc                float64\n",
      "pct_in_secbiggest_anc           float64\n",
      "pct_of_secbiggest_anc           float64\n",
      "pct_of_secbiggest_anc_new       float64\n",
      "pct_of_secbiggest_anc_newish    float64\n",
      "n_clusts_90_anc                 float64\n",
      "pct_top_5_anc                   float64\n",
      "wrcr                            float64\n",
      "rcr_low                         float64\n",
      "rcr_mid                         float64\n",
      "rcr_hi                          float64\n",
      "human                           float64\n",
      "animal                          float64\n",
      "molecular_cellular              float64\n",
      "is_clinical                     float64\n",
      "is_research_article             float64\n",
      "cited_by_clin                   float64\n",
      "nih                             float64\n",
      "rage                            float64\n",
      "prediction                      float64\n",
      "dtype: object\n",
      "hdhdhd before  205\n",
      "len of xtrain  195\n",
      "year   2016\n",
      "[1979 1991 1992 1993 1996 1998 1999 2000 2003 2006 2007 2008 2009 2010\n",
      " 2011 2012 2013 2014 2015 2017 2018 2019 2020]\n",
      "cv score  0.7366938616938616\n",
      "(2110,)\n",
      "no of positive  439\n",
      "len of predy  329\n"
     ]
    },
    {
     "data": {
      "image/png": "[encoded data removed]",
      "text/plain": [
       "<Figure size 432x288 with 1 Axes>"
      ]
     },
     "metadata": {
      "needs_background": "light"
     },
     "output_type": "display_data"
    },
    {
     "name": "stdout",
     "output_type": "stream",
     "text": [
      "$$$  2110   329\n",
      "total positive  329\n",
      "tp tn fp fn 2   3   0   1\n",
      "year  2016 positive  3\n",
      "actual len  25382\n",
      "len of xtest  2180\n",
      "cluster                           int64\n",
      "year                              int64\n",
      "n                                 int64\n",
      "pct_is_new                      float64\n",
      "pct_is_newish                   float64\n",
      "biggest_anc                     float64\n",
      "n_biggest_anc                   float64\n",
      "pct_in_biggest_anc              float64\n",
      "pct_of_biggest_anc              float64\n",
      "pct_of_biggest_anc_new          float64\n",
      "pct_of_biggest_anc_newish       float64\n",
      "secbiggest_anc                  float64\n",
      "n_secbiggest_anc                float64\n",
      "pct_in_secbiggest_anc           float64\n",
      "pct_of_secbiggest_anc           float64\n",
      "pct_of_secbiggest_anc_new       float64\n",
      "pct_of_secbiggest_anc_newish    float64\n",
      "n_clusts_90_anc                 float64\n",
      "pct_top_5_anc                   float64\n",
      "wrcr                            float64\n",
      "rcr_low                         float64\n",
      "rcr_mid                         float64\n",
      "rcr_hi                          float64\n",
      "human                           float64\n",
      "animal                          float64\n",
      "molecular_cellular              float64\n",
      "is_clinical                     float64\n",
      "is_research_article             float64\n",
      "cited_by_clin                   float64\n",
      "nih                             float64\n",
      "rage                            float64\n",
      "prediction                      float64\n",
      "dtype: object\n",
      "hdhdhd before  205\n",
      "len of xtrain  189\n",
      "year   2017\n",
      "[1979 1991 1992 1993 1996 1998 1999 2000 2003 2006 2007 2008 2009 2010\n",
      " 2011 2012 2013 2014 2015 2016 2018 2019 2020]\n",
      "cv score  0.7672080697080698\n",
      "(2180,)\n",
      "no of positive  479\n",
      "len of predy  357\n"
     ]
    },
    {
     "data": {
      "image/png": "[encoded data removed]",
      "text/plain": [
       "<Figure size 432x288 with 1 Axes>"
      ]
     },
     "metadata": {
      "needs_background": "light"
     },
     "output_type": "display_data"
    },
    {
     "name": "stdout",
     "output_type": "stream",
     "text": [
      "$$$  2180   357\n",
      "total positive  357\n",
      "tp tn fp fn 5   1   1   1\n",
      "year  2017 positive  6\n",
      "actual len  26313\n",
      "len of xtest  2256\n",
      "cluster                           int64\n",
      "year                              int64\n",
      "n                                 int64\n",
      "pct_is_new                      float64\n",
      "pct_is_newish                   float64\n",
      "biggest_anc                     float64\n",
      "n_biggest_anc                   float64\n",
      "pct_in_biggest_anc              float64\n",
      "pct_of_biggest_anc              float64\n",
      "pct_of_biggest_anc_new          float64\n",
      "pct_of_biggest_anc_newish       float64\n",
      "secbiggest_anc                  float64\n",
      "n_secbiggest_anc                float64\n",
      "pct_in_secbiggest_anc           float64\n",
      "pct_of_secbiggest_anc           float64\n",
      "pct_of_secbiggest_anc_new       float64\n",
      "pct_of_secbiggest_anc_newish    float64\n",
      "n_clusts_90_anc                 float64\n",
      "pct_top_5_anc                   float64\n",
      "wrcr                            float64\n",
      "rcr_low                         float64\n",
      "rcr_mid                         float64\n",
      "rcr_hi                          float64\n",
      "human                           float64\n",
      "animal                          float64\n",
      "molecular_cellular              float64\n",
      "is_clinical                     float64\n",
      "is_research_article             float64\n",
      "cited_by_clin                   float64\n",
      "nih                             float64\n",
      "rage                            float64\n",
      "prediction                      float64\n",
      "dtype: object\n",
      "hdhdhd before  205\n",
      "len of xtrain  188\n",
      "year   2018\n",
      "[1979 1991 1992 1993 1996 1998 1999 2000 2003 2006 2007 2008 2009 2010\n",
      " 2011 2012 2013 2014 2015 2016 2017 2019 2020]\n",
      "cv score  0.7641489066489067\n",
      "(2256,)\n",
      "no of positive  436\n",
      "len of predy  322\n"
     ]
    },
    {
     "data": {
      "image/png": "[encoded data removed]",
      "text/plain": [
       "<Figure size 432x288 with 1 Axes>"
      ]
     },
     "metadata": {
      "needs_background": "light"
     },
     "output_type": "display_data"
    },
    {
     "name": "stdout",
     "output_type": "stream",
     "text": [
      "$$$  2256   322\n",
      "total positive  322\n",
      "tp tn fp fn 2   2   1   3\n",
      "year  2018 positive  5\n",
      "actual len  27361\n",
      "len of xtest  2368\n",
      "cluster                           int64\n",
      "year                              int64\n",
      "n                                 int64\n",
      "pct_is_new                      float64\n",
      "pct_is_newish                   float64\n",
      "biggest_anc                     float64\n",
      "n_biggest_anc                   float64\n",
      "pct_in_biggest_anc              float64\n",
      "pct_of_biggest_anc              float64\n",
      "pct_of_biggest_anc_new          float64\n",
      "pct_of_biggest_anc_newish       float64\n",
      "secbiggest_anc                  float64\n",
      "n_secbiggest_anc                float64\n",
      "pct_in_secbiggest_anc           float64\n",
      "pct_of_secbiggest_anc           float64\n",
      "pct_of_secbiggest_anc_new       float64\n",
      "pct_of_secbiggest_anc_newish    float64\n",
      "n_clusts_90_anc                 float64\n",
      "pct_top_5_anc                   float64\n",
      "wrcr                            float64\n",
      "rcr_low                         float64\n",
      "rcr_mid                         float64\n",
      "rcr_hi                          float64\n",
      "human                           float64\n",
      "animal                          float64\n",
      "molecular_cellular              float64\n",
      "is_clinical                     float64\n",
      "is_research_article             float64\n",
      "cited_by_clin                   float64\n",
      "nih                             float64\n",
      "rage                            float64\n",
      "prediction                      float64\n",
      "dtype: object\n",
      "hdhdhd before  205\n",
      "len of xtrain  192\n",
      "year   2019\n",
      "[1979 1991 1992 1993 1996 1998 1999 2000 2003 2006 2007 2008 2009 2010\n",
      " 2011 2012 2013 2014 2015 2016 2017 2018 2020]\n",
      "cv score  0.7783732933732934\n",
      "(2368,)\n",
      "no of positive  229\n",
      "len of predy  165\n"
     ]
    },
    {
     "data": {
      "image/png": "[encoded data removed]",
      "text/plain": [
       "<Figure size 432x288 with 1 Axes>"
      ]
     },
     "metadata": {
      "needs_background": "light"
     },
     "output_type": "display_data"
    },
    {
     "name": "stdout",
     "output_type": "stream",
     "text": [
      "$$$  2368   165\n",
      "total positive  165\n",
      "tp tn fp fn 1   2   0   2\n",
      "year  2019 positive  3\n",
      "actual len  28712\n",
      "len of xtest  2482\n",
      "cluster                           int64\n",
      "year                              int64\n",
      "n                                 int64\n",
      "pct_is_new                      float64\n",
      "pct_is_newish                   float64\n",
      "biggest_anc                     float64\n",
      "n_biggest_anc                   float64\n",
      "pct_in_biggest_anc              float64\n",
      "pct_of_biggest_anc              float64\n",
      "pct_of_biggest_anc_new          float64\n",
      "pct_of_biggest_anc_newish       float64\n",
      "secbiggest_anc                  float64\n",
      "n_secbiggest_anc                float64\n",
      "pct_in_secbiggest_anc           float64\n",
      "pct_of_secbiggest_anc           float64\n",
      "pct_of_secbiggest_anc_new       float64\n",
      "pct_of_secbiggest_anc_newish    float64\n",
      "n_clusts_90_anc                 float64\n",
      "pct_top_5_anc                   float64\n",
      "wrcr                            float64\n",
      "rcr_low                         float64\n",
      "rcr_mid                         float64\n",
      "rcr_hi                          float64\n",
      "human                           float64\n",
      "animal                          float64\n",
      "molecular_cellular              float64\n",
      "is_clinical                     float64\n",
      "is_research_article             float64\n",
      "cited_by_clin                   float64\n",
      "nih                             float64\n",
      "rage                            float64\n",
      "prediction                      float64\n",
      "dtype: object\n",
      "hdhdhd before  205\n",
      "len of xtrain  197\n",
      "year   2020\n",
      "[1979 1991 1992 1993 1996 1998 1999 2000 2003 2006 2007 2008 2009 2010\n",
      " 2011 2012 2013 2014 2015 2016 2017 2018 2019]\n",
      "cv score  0.7413325563325562\n",
      "(2482,)\n",
      "no of positive  364\n",
      "len of predy  264\n"
     ]
    },
    {
     "data": {
      "image/png": "[encoded data removed]",
      "text/plain": [
       "<Figure size 432x288 with 1 Axes>"
      ]
     },
     "metadata": {
      "needs_background": "light"
     },
     "output_type": "display_data"
    },
    {
     "name": "stdout",
     "output_type": "stream",
     "text": [
      "$$$  2482   264\n",
      "total positive  264\n",
      "tp tn fp fn 1   0   0   1\n",
      "year  2020 positive  2\n",
      "total pos  96  true pos  68  total false pos  185.97674418604652\n"
     ]
    }
   ],
   "source": [
    "##this one doing the best for direct. But it is a bit different than outcites.\n",
    "def remove_outlier(data):\n",
    "    x = ['rcr_hi','human','cited_by_clin','pct_is_new','n_biggest_anc','pct_top_5_anc','animal','rcr_mid',\n",
    "         'wrcr','is_research_article','molecular_cellular','nih',\"pct_is_newish\"]\n",
    "    for i in x:\n",
    "        data['z'] = np.abs(stats.zscore(data[i]))\n",
    "        data = data[data['z'] <= 3]\n",
    "    return data\n",
    "    \n",
    "def recall2(pred,th, yr):\n",
    "    data = pd.read_csv(\"data_no_outlier.csv\")\n",
    "    data = data[data['year'] == yr]\n",
    "    data = data[data['n'] > 100]\n",
    "    ll = 350\n",
    "    tot = 0\n",
    "    ress = pd.merge(data,pred,on='cluster', how = 'inner')\n",
    "    \n",
    "    tp,tn,fp, fn = 0,0,0,0\n",
    "    pred = pred.sort_values(by=['pred_log'], ascending = False)\n",
    "    res = pred.head(ll)\n",
    "    for ind in res.index:\n",
    "        cl = res['cluster'][ind]\n",
    "        dd = data[data['cluster'] == cl]\n",
    "        if len(dd) != 0:\n",
    "            dd = dd.to_numpy()\n",
    "            cls = dd[0][dd.shape[1] - 1]\n",
    "            if cls == 1:\n",
    "                tp += 1\n",
    "            else:\n",
    "                fp += 1\n",
    "        else:\n",
    "            fp += 1\n",
    "       \n",
    "    pred = pred[pred['pred_log'] >= th]\n",
    "    print(\"total positive \", ll)\n",
    "    print(\"tp fp\",tp,\" \",fp)\n",
    "    total_pos = len(ress[ress['class'] == 1])\n",
    "    print(\"year \",yr,\"positive \",total_pos)\n",
    "    \n",
    "    \n",
    "    return total_pos,tp,ll - tp\n",
    "\n",
    "def recall(pred,th, yr):\n",
    "    data = pd.read_csv(\"data_no_outlier.csv\")\n",
    "    data = data[data['year'] == yr]\n",
    "    data = data[data['n'] > 100]\n",
    "\n",
    "    tot = 0\n",
    "    res = pd.merge(data,pred,on='cluster', how = 'inner')\n",
    "    tp,tn,fp, fn = 0,0,0,0\n",
    "    for ind in res.index:\n",
    "        if res['class'][ind] == 1 and res['pred_log'][ind] >= th:\n",
    "            tp += 1\n",
    "        elif res['class'][ind] == 0 and res['pred_log'][ind] < th:\n",
    "            tn += 1\n",
    "        elif res['class'][ind] == 0 and res['pred_log'][ind] >= th:\n",
    "            fp += 1\n",
    "        elif res['class'][ind] == 1 and res['pred_log'][ind] < th:\n",
    "            fn += 1\n",
    "    pred = pred[pred['pred_log'] >= th]\n",
    "    print(\"total positive \", len(pred))\n",
    "    print(\"tp tn fp fn\",tp,\" \",tn,\" \",fp,\" \",fn)\n",
    "    total_pos = len(res[res['class'] == 1])\n",
    "    print(\"year \",yr,\"positive \",total_pos)\n",
    "    \n",
    "    \n",
    "    return total_pos,tp,len(pred[pred['pred_log'] >= th]) - tp\n",
    "\n",
    "\n",
    "def train(x_train):\n",
    "    \n",
    "    \n",
    "  \n",
    "    y_train = x_train['class']\n",
    "    \n",
    "    '''x_train = x_train.drop(['class','cluster','year','n','pct_dusted_ccn','pct_dusted_rmcl','z',\n",
    "                           'pct_in_secbiggest_anc','rcr_low','secbiggest_anc',\n",
    "                           'pct_of_biggest_anc_newish','pct_of_biggest_anc_new','n_clusts_90_anc','pct_of_secbiggest_anc'\n",
    "                           ,'pct_in_biggest_anc','biggest_anc','pct_of_secbiggest_anc_newish','n_secbiggest_anc'\n",
    "                            ], axis = 1)\n",
    "\n",
    "\n",
    "    x_train[['pct_is_new','pct_is_newish','wrcr','human','cited_by_clin','n_biggest_anc','animal',\n",
    "        'pct_top_5_anc','is_research_article','molecular_cellular','nih']] = minmax_scale(x_train[[\n",
    "    'pct_is_new','pct_is_newish','wrcr','human','cited_by_clin','n_biggest_anc','animal',\n",
    "        'pct_top_5_anc','is_research_article','molecular_cellular','nih']])'''\n",
    "    \n",
    "    '''x_train = x_train.drop(['class','cluster','year','n','pct_dusted_ccn','pct_dusted_rmcl','z',\n",
    "                           'pct_in_secbiggest_anc','rcr_low','secbiggest_anc',\n",
    "                           'pct_of_biggest_anc_newish','pct_of_biggest_anc_new','n_clusts_90_anc'\n",
    "                           ,'pct_in_biggest_anc','biggest_anc','pct_of_secbiggest_anc_newish'\n",
    "                           ], axis = 1)\n",
    "    \n",
    "    x_train[['pct_of_biggest_anc','pct_is_newish','wrcr']] = minmax_scale(x_train[[\n",
    "    'pct_of_biggest_anc','pct_is_newish','wrcr']])'''\n",
    "    \n",
    "    \n",
    "    \n",
    "    x_train[['wrcr','rcr_hi','rcr_mid','n_biggest_anc','n_secbiggest_anc','n_clusts_90_anc','pct_of_biggest_anc_new']] = minmax_scale(x_train[['wrcr','rcr_hi','rcr_mid','n_biggest_anc','n_secbiggest_anc','n_clusts_90_anc','pct_of_biggest_anc_new']])\n",
    "    x_train = x_train.drop(['z','cluster','year','n','pct_is_newish','pct_dusted_ccn','pct_dusted_rmcl','biggest_anc','pct_in_biggest_anc','pct_of_biggest_anc','pct_of_biggest_anc_new','pct_of_biggest_anc_newish','secbiggest_anc'], axis = 1)#$%\n",
    "    #x_train = x_train.drop(['pct_of_biggest_anc_new','pct_of_secbiggest_anc_new','animal','pct_is_newish'], axis = 1)\n",
    "    x_train = x_train.drop(['pct_in_secbiggest_anc','pct_of_secbiggest_anc','pct_of_secbiggest_anc_newish','rcr_low','class'], axis = 1)\n",
    "    \n",
    "    \n",
    "    y_train = np.array(y_train)\n",
    " \n",
    "    model = LogisticRegression(random_state=0, C = 100).fit(x_train,y_train) ##logistioc\n",
    "    \n",
    "    '''crossvalidation2(x_train, y_train)\n",
    "    print(model.intercept_, model.coef_, model.score(x_train, y_train))'''\n",
    "    scores = cross_val_score(model, x_train, y_train, cv=20,scoring = \"f1\")\n",
    "    print(\"cv score \", scores.mean())\n",
    "    return model\n",
    "    \n",
    "tot,tp,total_fp = 0,0,0\n",
    "yr = 1978\n",
    "\n",
    "while yr <= 2020:\n",
    "    \n",
    "    x_train = pd.read_csv(\"data_no_outlier.csv\")\n",
    "    x_test = pd.read_csv(\"~/Documents/PhD/project_nobel/boty/boty_direct/features_prediction_\"+str(yr)+\".csv\")\n",
    "    print(\"actual len \",len(x_test))\n",
    "    x_test = x_test.dropna(axis=0)\n",
    "    \n",
    "    x_test = x_test[x_test['n'] > 100]\n",
    "    #x_test = remove_outlier(x_test)\n",
    "    \n",
    "   \n",
    "    x_test = x_test[x_test['rcr_hi'] >= 1.00]\n",
    "    x_test = x_test[x_test['cited_by_clin'] >= 0.080]\n",
    "    #x_test = x_test[x_test['is_clinical'] >= 0.012] ##this one\n",
    "    x_test = x_test[x_test['animal'] >= 0.01]\n",
    "\n",
    "    x_test = x_test[x_test['molecular_cellular'] >= 0.010] ##this one, with C = 1\n",
    "    x_test = x_test[x_test['nih'] >= 0.020]\n",
    "    x_test = x_test[x_test['human'] >= 0.20]\n",
    "    print(\"len of xtest \",len(x_test))\n",
    "       \n",
    "    copy_test = x_test.copy()\n",
    "    #print(x_test.tail(10))\n",
    "    \n",
    "    #x_test = x_test[x_test['is_research_article'] > 0.75]\n",
    "    \n",
    "    '''x_test = x_test.drop(['prediction','cluster','year','n',\n",
    "                           'pct_in_secbiggest_anc','rcr_low','secbiggest_anc',\n",
    "                           'pct_of_biggest_anc_newish','pct_of_biggest_anc_new','n_clusts_90_anc','pct_of_secbiggest_anc'\n",
    "                           ,'pct_in_biggest_anc','biggest_anc','pct_of_secbiggest_anc_newish','n_secbiggest_anc'\n",
    "                            ], axis = 1)\n",
    "\n",
    "\n",
    "    x_test[['pct_is_new','pct_is_newish','wrcr','human','cited_by_clin','n_biggest_anc','animal',\n",
    "        'pct_top_5_anc','is_research_article','molecular_cellular','nih']] = minmax_scale(x_test[[\n",
    "    'pct_is_new','pct_is_newish','wrcr','human','cited_by_clin','n_biggest_anc','animal',\n",
    "        'pct_top_5_anc','is_research_article','molecular_cellular','nih']])'''\n",
    "    \n",
    "    \n",
    "    '''x_test = x_test.drop(['prediction','cluster','year','n',\n",
    "                           'pct_in_secbiggest_anc','rcr_low','secbiggest_anc',\n",
    "                           'pct_of_biggest_anc_newish','pct_of_biggest_anc_new','n_clusts_90_anc','pct_of_secbiggest_anc'\n",
    "                           ,'pct_in_biggest_anc','biggest_anc','pct_of_secbiggest_anc_newish','n_secbiggest_anc'\n",
    "                            ], axis = 1)'''\n",
    "    \n",
    "    '''x_test = x_test.drop(['prediction','cluster','year','n',\n",
    "                               'pct_in_secbiggest_anc','rcr_low','secbiggest_anc',\n",
    "                               'pct_of_biggest_anc_newish','pct_of_biggest_anc_new','n_clusts_90_anc'\n",
    "                               ,'pct_in_biggest_anc','biggest_anc','pct_of_secbiggest_anc_newish'\n",
    "                               ], axis = 1)\n",
    "    \n",
    "    x_test[['pct_of_biggest_anc','pct_is_newish','wrcr']] = minmax_scale(x_test[[\n",
    "    'pct_of_biggest_anc','pct_is_newish','wrcr']])'''\n",
    "    \n",
    "    print(x_test.dtypes)\n",
    "    x_test[['wrcr','rcr_hi','rcr_mid','n_biggest_anc','n_secbiggest_anc','n_clusts_90_anc','pct_of_biggest_anc_new']] = minmax_scale(x_test[['wrcr','rcr_hi','rcr_mid','n_biggest_anc','n_secbiggest_anc','n_clusts_90_anc','pct_of_biggest_anc_new']])\n",
    "    x_test = x_test.drop(['cluster','year','n','pct_is_newish','biggest_anc','pct_in_biggest_anc','pct_of_biggest_anc','pct_of_biggest_anc_new','pct_of_biggest_anc_newish','secbiggest_anc'], axis = 1)\n",
    "    x_test = x_test.drop(['prediction','pct_in_secbiggest_anc','pct_of_secbiggest_anc','pct_of_secbiggest_anc_newish','rcr_low'], axis=1)\n",
    "    \n",
    "    \n",
    "    \n",
    "    print(\"hdhdhd before \",len(x_train))\n",
    "    x_train = x_train[x_train['year'] != yr]\n",
    "    x_train = x_train[x_train['n'] > 100]\n",
    "\n",
    "    \n",
    "    #x_train = x_train[x_train['is_research_article'] > 0.75]\n",
    "    print('len of xtrain ', len(x_train))\n",
    "    print(\"year  \",yr)\n",
    "    print(x_train['year'].unique())\n",
    "\n",
    "    model = train(x_train)\n",
    "    \n",
    "    pred = model.predict(x_test)\n",
    "    print(pred.shape)\n",
    "    #print(np.sum(pred))\n",
    "    print(\"no of positive \",np.count_nonzero(pred == 1))\n",
    "    \n",
    "\n",
    "    \n",
    "    predy = model.predict_proba(x_test)\n",
    "    pred_test = []\n",
    "    for i in range(predy.shape[0]):\n",
    "        if predy[i][0] >= predy[i][1]:\n",
    "            #pred_test.append(0.00)\n",
    "            pred_test.append(predy[i][1])\n",
    "        else:\n",
    "            pred_test.append(predy[i][1])\n",
    "    \n",
    "    predy = pd.DataFrame(predy, columns = ['col_0','col_1'])\n",
    "    predy = predy[predy['col_1'] >= 0.60]\n",
    "    #print(\"len of df \", len(df))\n",
    "    print(\"len of predy \", len(predy))\n",
    "    \n",
    "    \n",
    "    \n",
    "    copy_test['pred_log'] = pred_test\n",
    "    copy_test['pred_log'].hist()\n",
    "    plt.show()\n",
    "    \n",
    "    \n",
    "    print(\"$$$ \",len(copy_test),\" \",len(copy_test[copy_test['pred_log'] >= 0.60]))\n",
    "    a, b,c = recall(copy_test,0.60, yr)\n",
    "    tot += a\n",
    "    tp += b\n",
    "    total_fp += c\n",
    "    yr += 1\n",
    "print(\"total pos \",tot,\" true pos \", tp,\" total false pos \",total_fp/43)"
   ]
  },
  {
   "cell_type": "code",
   "execution_count": 116,
   "id": "5f855ded",
   "metadata": {},
   "outputs": [
    {
     "name": "stdout",
     "output_type": "stream",
     "text": [
      "105\n"
     ]
    }
   ],
   "source": [
    "data = pd.read_csv(\"data_no_outlier.csv\")\n",
    "data = data[data['n'] > 100]\n",
    "print(len(data[data['class'] == 1]))"
   ]
  },
  {
   "cell_type": "code",
   "execution_count": null,
   "id": "ca4cb5b4",
   "metadata": {},
   "outputs": [],
   "source": []
  }
 ],
 "metadata": {
  "kernelspec": {
   "display_name": "Python 3 (ipykernel)",
   "language": "python",
   "name": "python3"
  },
  "language_info": {
   "codemirror_mode": {
    "name": "ipython",
    "version": 3
   },
   "file_extension": ".py",
   "mimetype": "text/x-python",
   "name": "python",
   "nbconvert_exporter": "python",
   "pygments_lexer": "ipython3",
   "version": "3.9.6"
  }
 },
 "nbformat": 4,
 "nbformat_minor": 5
}
