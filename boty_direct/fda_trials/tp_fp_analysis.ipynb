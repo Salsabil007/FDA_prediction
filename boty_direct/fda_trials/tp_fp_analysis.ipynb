{
 "cells": [
  {
   "cell_type": "code",
   "execution_count": 1,
   "id": "c13346ad",
   "metadata": {},
   "outputs": [
    {
     "name": "stdout",
     "output_type": "stream",
     "text": [
      "Imported version = 0.1.70.\n",
      "from featurewiz import FeatureWiz\n",
      "wiz = FeatureWiz(verbose=1)\n",
      "X_train_selected = wiz.fit_transform(X_train, y_train)\n",
      "X_test_selected = wiz.transform(X_test)\n",
      "wiz.features  ### provides a list of selected features ###\n",
      "                                \n"
     ]
    }
   ],
   "source": [
    "import pandas as pd\n",
    "import numpy as np\n",
    "from sklearn.preprocessing import StandardScaler, LabelEncoder, minmax_scale\n",
    "import seaborn as sns\n",
    "import matplotlib.pyplot as plt\n",
    "from sklearn.metrics import confusion_matrix\n",
    "import sys \n",
    "#from keras.models import Sequential\n",
    "#from keras.layers import Dense\n",
    "#from keras.utils import np_utils\n",
    "import tensorflow as tf\n",
    "#from keras.regularizers import L1L2\n",
    "from sklearn.metrics import confusion_matrix, precision_score, recall_score, f1_score, cohen_kappa_score\n",
    "from sklearn.utils import shuffle\n",
    "#from keras.callbacks import EarlyStopping\n",
    "from sklearn.linear_model import LogisticRegression\n",
    "from sklearn import svm\n",
    "from sklearn.model_selection import KFold\n",
    "from sklearn.model_selection import cross_val_score\n",
    "from featurewiz import featurewiz\n",
    "from sklearn.metrics import f1_score\n",
    "from sklearn.feature_selection import SelectKBest, f_classif, chi2, RFE\n",
    "from sklearn.feature_selection import mutual_info_classif\n",
    "np.random.seed(19680801)"
   ]
  },
  {
   "cell_type": "code",
   "execution_count": 2,
   "id": "c8f92244",
   "metadata": {},
   "outputs": [
    {
     "data": {
      "text/html": [
       "<div>\n",
       "<style scoped>\n",
       "    .dataframe tbody tr th:only-of-type {\n",
       "        vertical-align: middle;\n",
       "    }\n",
       "\n",
       "    .dataframe tbody tr th {\n",
       "        vertical-align: top;\n",
       "    }\n",
       "\n",
       "    .dataframe thead th {\n",
       "        text-align: right;\n",
       "    }\n",
       "</style>\n",
       "<table border=\"1\" class=\"dataframe\">\n",
       "  <thead>\n",
       "    <tr style=\"text-align: right;\">\n",
       "      <th></th>\n",
       "      <th>cluster</th>\n",
       "      <th>year</th>\n",
       "      <th>n</th>\n",
       "      <th>pct_is_new</th>\n",
       "      <th>pct_is_newish</th>\n",
       "      <th>pct_dusted_ccn</th>\n",
       "      <th>pct_dusted_rmcl</th>\n",
       "      <th>biggest_anc</th>\n",
       "      <th>n_biggest_anc</th>\n",
       "      <th>pct_in_biggest_anc</th>\n",
       "      <th>...</th>\n",
       "      <th>rcr_hi</th>\n",
       "      <th>human</th>\n",
       "      <th>animal</th>\n",
       "      <th>molecular_cellular</th>\n",
       "      <th>is_clinical</th>\n",
       "      <th>is_research_article</th>\n",
       "      <th>cited_by_clin</th>\n",
       "      <th>nih</th>\n",
       "      <th>rage</th>\n",
       "      <th>class</th>\n",
       "    </tr>\n",
       "  </thead>\n",
       "  <tbody>\n",
       "    <tr>\n",
       "      <th>cluster</th>\n",
       "      <td>1.000000</td>\n",
       "      <td>0.037994</td>\n",
       "      <td>-0.565748</td>\n",
       "      <td>-0.074504</td>\n",
       "      <td>-0.110348</td>\n",
       "      <td>NaN</td>\n",
       "      <td>0.167889</td>\n",
       "      <td>0.970928</td>\n",
       "      <td>-0.535347</td>\n",
       "      <td>-0.292716</td>\n",
       "      <td>...</td>\n",
       "      <td>-0.593921</td>\n",
       "      <td>0.147785</td>\n",
       "      <td>-0.105695</td>\n",
       "      <td>-0.219470</td>\n",
       "      <td>-0.131641</td>\n",
       "      <td>0.024460</td>\n",
       "      <td>-0.291785</td>\n",
       "      <td>-0.360423</td>\n",
       "      <td>0.186567</td>\n",
       "      <td>-0.287462</td>\n",
       "    </tr>\n",
       "    <tr>\n",
       "      <th>year</th>\n",
       "      <td>0.037994</td>\n",
       "      <td>1.000000</td>\n",
       "      <td>0.255527</td>\n",
       "      <td>-0.076400</td>\n",
       "      <td>-0.090718</td>\n",
       "      <td>NaN</td>\n",
       "      <td>-0.062247</td>\n",
       "      <td>0.032234</td>\n",
       "      <td>0.257807</td>\n",
       "      <td>0.064707</td>\n",
       "      <td>...</td>\n",
       "      <td>0.026724</td>\n",
       "      <td>0.115597</td>\n",
       "      <td>-0.182500</td>\n",
       "      <td>0.022261</td>\n",
       "      <td>0.155194</td>\n",
       "      <td>-0.342872</td>\n",
       "      <td>0.290132</td>\n",
       "      <td>0.145866</td>\n",
       "      <td>0.141452</td>\n",
       "      <td>0.000064</td>\n",
       "    </tr>\n",
       "    <tr>\n",
       "      <th>n</th>\n",
       "      <td>-0.565748</td>\n",
       "      <td>0.255527</td>\n",
       "      <td>1.000000</td>\n",
       "      <td>0.000479</td>\n",
       "      <td>0.046986</td>\n",
       "      <td>NaN</td>\n",
       "      <td>-0.163902</td>\n",
       "      <td>-0.529706</td>\n",
       "      <td>0.944779</td>\n",
       "      <td>0.250814</td>\n",
       "      <td>...</td>\n",
       "      <td>0.554896</td>\n",
       "      <td>-0.176251</td>\n",
       "      <td>0.042750</td>\n",
       "      <td>0.310893</td>\n",
       "      <td>0.086510</td>\n",
       "      <td>-0.227096</td>\n",
       "      <td>0.271389</td>\n",
       "      <td>0.493154</td>\n",
       "      <td>-0.297408</td>\n",
       "      <td>0.203125</td>\n",
       "    </tr>\n",
       "    <tr>\n",
       "      <th>pct_is_new</th>\n",
       "      <td>-0.074504</td>\n",
       "      <td>-0.076400</td>\n",
       "      <td>0.000479</td>\n",
       "      <td>1.000000</td>\n",
       "      <td>0.977504</td>\n",
       "      <td>NaN</td>\n",
       "      <td>0.324819</td>\n",
       "      <td>-0.067030</td>\n",
       "      <td>0.031434</td>\n",
       "      <td>-0.577600</td>\n",
       "      <td>...</td>\n",
       "      <td>0.578511</td>\n",
       "      <td>0.103644</td>\n",
       "      <td>-0.178666</td>\n",
       "      <td>-0.016157</td>\n",
       "      <td>0.179609</td>\n",
       "      <td>-0.486184</td>\n",
       "      <td>0.106372</td>\n",
       "      <td>0.041895</td>\n",
       "      <td>-0.375163</td>\n",
       "      <td>0.380536</td>\n",
       "    </tr>\n",
       "    <tr>\n",
       "      <th>pct_is_newish</th>\n",
       "      <td>-0.110348</td>\n",
       "      <td>-0.090718</td>\n",
       "      <td>0.046986</td>\n",
       "      <td>0.977504</td>\n",
       "      <td>1.000000</td>\n",
       "      <td>NaN</td>\n",
       "      <td>0.296614</td>\n",
       "      <td>-0.087014</td>\n",
       "      <td>0.071423</td>\n",
       "      <td>-0.532598</td>\n",
       "      <td>...</td>\n",
       "      <td>0.594545</td>\n",
       "      <td>0.118009</td>\n",
       "      <td>-0.192315</td>\n",
       "      <td>-0.023968</td>\n",
       "      <td>0.197461</td>\n",
       "      <td>-0.516794</td>\n",
       "      <td>0.135593</td>\n",
       "      <td>0.042045</td>\n",
       "      <td>-0.408149</td>\n",
       "      <td>0.395348</td>\n",
       "    </tr>\n",
       "    <tr>\n",
       "      <th>pct_dusted_ccn</th>\n",
       "      <td>NaN</td>\n",
       "      <td>NaN</td>\n",
       "      <td>NaN</td>\n",
       "      <td>NaN</td>\n",
       "      <td>NaN</td>\n",
       "      <td>NaN</td>\n",
       "      <td>NaN</td>\n",
       "      <td>NaN</td>\n",
       "      <td>NaN</td>\n",
       "      <td>NaN</td>\n",
       "      <td>...</td>\n",
       "      <td>NaN</td>\n",
       "      <td>NaN</td>\n",
       "      <td>NaN</td>\n",
       "      <td>NaN</td>\n",
       "      <td>NaN</td>\n",
       "      <td>NaN</td>\n",
       "      <td>NaN</td>\n",
       "      <td>NaN</td>\n",
       "      <td>NaN</td>\n",
       "      <td>NaN</td>\n",
       "    </tr>\n",
       "    <tr>\n",
       "      <th>pct_dusted_rmcl</th>\n",
       "      <td>0.167889</td>\n",
       "      <td>-0.062247</td>\n",
       "      <td>-0.163902</td>\n",
       "      <td>0.324819</td>\n",
       "      <td>0.296614</td>\n",
       "      <td>NaN</td>\n",
       "      <td>1.000000</td>\n",
       "      <td>0.143202</td>\n",
       "      <td>-0.148498</td>\n",
       "      <td>-0.257728</td>\n",
       "      <td>...</td>\n",
       "      <td>0.064114</td>\n",
       "      <td>0.160536</td>\n",
       "      <td>-0.119093</td>\n",
       "      <td>-0.143087</td>\n",
       "      <td>0.041678</td>\n",
       "      <td>-0.228725</td>\n",
       "      <td>-0.038265</td>\n",
       "      <td>-0.110932</td>\n",
       "      <td>-0.126911</td>\n",
       "      <td>0.024222</td>\n",
       "    </tr>\n",
       "    <tr>\n",
       "      <th>biggest_anc</th>\n",
       "      <td>0.970928</td>\n",
       "      <td>0.032234</td>\n",
       "      <td>-0.529706</td>\n",
       "      <td>-0.067030</td>\n",
       "      <td>-0.087014</td>\n",
       "      <td>NaN</td>\n",
       "      <td>0.143202</td>\n",
       "      <td>1.000000</td>\n",
       "      <td>-0.540385</td>\n",
       "      <td>-0.201230</td>\n",
       "      <td>...</td>\n",
       "      <td>-0.576842</td>\n",
       "      <td>0.123883</td>\n",
       "      <td>-0.096861</td>\n",
       "      <td>-0.189442</td>\n",
       "      <td>-0.154197</td>\n",
       "      <td>0.020484</td>\n",
       "      <td>-0.297437</td>\n",
       "      <td>-0.320532</td>\n",
       "      <td>0.176216</td>\n",
       "      <td>-0.273538</td>\n",
       "    </tr>\n",
       "    <tr>\n",
       "      <th>n_biggest_anc</th>\n",
       "      <td>-0.535347</td>\n",
       "      <td>0.257807</td>\n",
       "      <td>0.944779</td>\n",
       "      <td>0.031434</td>\n",
       "      <td>0.071423</td>\n",
       "      <td>NaN</td>\n",
       "      <td>-0.148498</td>\n",
       "      <td>-0.540385</td>\n",
       "      <td>1.000000</td>\n",
       "      <td>0.039832</td>\n",
       "      <td>...</td>\n",
       "      <td>0.548927</td>\n",
       "      <td>-0.180580</td>\n",
       "      <td>0.042676</td>\n",
       "      <td>0.315824</td>\n",
       "      <td>0.114279</td>\n",
       "      <td>-0.229948</td>\n",
       "      <td>0.264323</td>\n",
       "      <td>0.482309</td>\n",
       "      <td>-0.309210</td>\n",
       "      <td>0.199221</td>\n",
       "    </tr>\n",
       "    <tr>\n",
       "      <th>pct_in_biggest_anc</th>\n",
       "      <td>-0.292716</td>\n",
       "      <td>0.064707</td>\n",
       "      <td>0.250814</td>\n",
       "      <td>-0.577600</td>\n",
       "      <td>-0.532598</td>\n",
       "      <td>NaN</td>\n",
       "      <td>-0.257728</td>\n",
       "      <td>-0.201230</td>\n",
       "      <td>0.039832</td>\n",
       "      <td>1.000000</td>\n",
       "      <td>...</td>\n",
       "      <td>-0.166538</td>\n",
       "      <td>-0.103899</td>\n",
       "      <td>0.117349</td>\n",
       "      <td>0.079256</td>\n",
       "      <td>-0.098682</td>\n",
       "      <td>0.271343</td>\n",
       "      <td>0.040402</td>\n",
       "      <td>0.072045</td>\n",
       "      <td>0.173242</td>\n",
       "      <td>-0.143398</td>\n",
       "    </tr>\n",
       "    <tr>\n",
       "      <th>pct_of_biggest_anc</th>\n",
       "      <td>-0.172446</td>\n",
       "      <td>0.026491</td>\n",
       "      <td>0.166574</td>\n",
       "      <td>-0.234990</td>\n",
       "      <td>-0.195147</td>\n",
       "      <td>NaN</td>\n",
       "      <td>-0.153881</td>\n",
       "      <td>0.001612</td>\n",
       "      <td>-0.115214</td>\n",
       "      <td>0.817308</td>\n",
       "      <td>...</td>\n",
       "      <td>-0.029221</td>\n",
       "      <td>-0.050642</td>\n",
       "      <td>0.040242</td>\n",
       "      <td>0.051452</td>\n",
       "      <td>-0.090410</td>\n",
       "      <td>0.107575</td>\n",
       "      <td>0.016951</td>\n",
       "      <td>0.080706</td>\n",
       "      <td>0.102048</td>\n",
       "      <td>-0.048380</td>\n",
       "    </tr>\n",
       "    <tr>\n",
       "      <th>pct_of_biggest_anc_new</th>\n",
       "      <td>-0.110946</td>\n",
       "      <td>-0.075757</td>\n",
       "      <td>0.028788</td>\n",
       "      <td>0.883708</td>\n",
       "      <td>0.915352</td>\n",
       "      <td>NaN</td>\n",
       "      <td>0.286858</td>\n",
       "      <td>-0.064323</td>\n",
       "      <td>-0.005628</td>\n",
       "      <td>-0.459676</td>\n",
       "      <td>...</td>\n",
       "      <td>0.518714</td>\n",
       "      <td>0.097948</td>\n",
       "      <td>-0.192083</td>\n",
       "      <td>0.003935</td>\n",
       "      <td>0.155216</td>\n",
       "      <td>-0.437828</td>\n",
       "      <td>0.108827</td>\n",
       "      <td>0.054718</td>\n",
       "      <td>-0.366395</td>\n",
       "      <td>0.317734</td>\n",
       "    </tr>\n",
       "    <tr>\n",
       "      <th>pct_of_biggest_anc_newish</th>\n",
       "      <td>-0.104952</td>\n",
       "      <td>-0.086100</td>\n",
       "      <td>0.068184</td>\n",
       "      <td>0.840744</td>\n",
       "      <td>0.904927</td>\n",
       "      <td>NaN</td>\n",
       "      <td>0.301054</td>\n",
       "      <td>-0.064992</td>\n",
       "      <td>0.040452</td>\n",
       "      <td>-0.429238</td>\n",
       "      <td>...</td>\n",
       "      <td>0.522858</td>\n",
       "      <td>0.134036</td>\n",
       "      <td>-0.214681</td>\n",
       "      <td>-0.021023</td>\n",
       "      <td>0.191251</td>\n",
       "      <td>-0.477766</td>\n",
       "      <td>0.145297</td>\n",
       "      <td>0.041718</td>\n",
       "      <td>-0.397984</td>\n",
       "      <td>0.332553</td>\n",
       "    </tr>\n",
       "    <tr>\n",
       "      <th>secbiggest_anc</th>\n",
       "      <td>0.275407</td>\n",
       "      <td>-0.229080</td>\n",
       "      <td>-0.220232</td>\n",
       "      <td>0.020448</td>\n",
       "      <td>0.024768</td>\n",
       "      <td>NaN</td>\n",
       "      <td>0.140659</td>\n",
       "      <td>0.243878</td>\n",
       "      <td>-0.208446</td>\n",
       "      <td>-0.054316</td>\n",
       "      <td>...</td>\n",
       "      <td>-0.218796</td>\n",
       "      <td>0.000522</td>\n",
       "      <td>0.021358</td>\n",
       "      <td>-0.104947</td>\n",
       "      <td>-0.109020</td>\n",
       "      <td>0.093467</td>\n",
       "      <td>-0.168381</td>\n",
       "      <td>-0.204557</td>\n",
       "      <td>-0.065477</td>\n",
       "      <td>-0.115759</td>\n",
       "    </tr>\n",
       "    <tr>\n",
       "      <th>n_secbiggest_anc</th>\n",
       "      <td>-0.274542</td>\n",
       "      <td>0.216062</td>\n",
       "      <td>0.398770</td>\n",
       "      <td>-0.047539</td>\n",
       "      <td>-0.033853</td>\n",
       "      <td>NaN</td>\n",
       "      <td>-0.176018</td>\n",
       "      <td>-0.237575</td>\n",
       "      <td>0.354141</td>\n",
       "      <td>0.186261</td>\n",
       "      <td>...</td>\n",
       "      <td>0.253052</td>\n",
       "      <td>-0.181573</td>\n",
       "      <td>0.087115</td>\n",
       "      <td>0.258538</td>\n",
       "      <td>0.034972</td>\n",
       "      <td>-0.071939</td>\n",
       "      <td>0.156618</td>\n",
       "      <td>0.423563</td>\n",
       "      <td>-0.132528</td>\n",
       "      <td>0.073214</td>\n",
       "    </tr>\n",
       "    <tr>\n",
       "      <th>pct_in_secbiggest_anc</th>\n",
       "      <td>0.222155</td>\n",
       "      <td>-0.087032</td>\n",
       "      <td>-0.215613</td>\n",
       "      <td>0.152028</td>\n",
       "      <td>0.148152</td>\n",
       "      <td>NaN</td>\n",
       "      <td>0.043833</td>\n",
       "      <td>0.187801</td>\n",
       "      <td>-0.029408</td>\n",
       "      <td>-0.725648</td>\n",
       "      <td>...</td>\n",
       "      <td>-0.041741</td>\n",
       "      <td>0.024161</td>\n",
       "      <td>0.028469</td>\n",
       "      <td>-0.080820</td>\n",
       "      <td>-0.041900</td>\n",
       "      <td>-0.026992</td>\n",
       "      <td>-0.102131</td>\n",
       "      <td>-0.080435</td>\n",
       "      <td>-0.008581</td>\n",
       "      <td>0.033867</td>\n",
       "    </tr>\n",
       "    <tr>\n",
       "      <th>pct_of_secbiggest_anc</th>\n",
       "      <td>0.167185</td>\n",
       "      <td>-0.183772</td>\n",
       "      <td>-0.188780</td>\n",
       "      <td>0.119945</td>\n",
       "      <td>0.132268</td>\n",
       "      <td>NaN</td>\n",
       "      <td>0.311593</td>\n",
       "      <td>0.135016</td>\n",
       "      <td>-0.068070</td>\n",
       "      <td>-0.335675</td>\n",
       "      <td>...</td>\n",
       "      <td>-0.083363</td>\n",
       "      <td>-0.014656</td>\n",
       "      <td>0.053174</td>\n",
       "      <td>-0.070452</td>\n",
       "      <td>-0.082987</td>\n",
       "      <td>0.028882</td>\n",
       "      <td>-0.146326</td>\n",
       "      <td>-0.150410</td>\n",
       "      <td>-0.087385</td>\n",
       "      <td>0.004165</td>\n",
       "    </tr>\n",
       "    <tr>\n",
       "      <th>pct_of_secbiggest_anc_new</th>\n",
       "      <td>-0.027094</td>\n",
       "      <td>-0.271631</td>\n",
       "      <td>0.043701</td>\n",
       "      <td>0.115955</td>\n",
       "      <td>0.162585</td>\n",
       "      <td>NaN</td>\n",
       "      <td>-0.159249</td>\n",
       "      <td>-0.007836</td>\n",
       "      <td>0.068664</td>\n",
       "      <td>-0.010592</td>\n",
       "      <td>...</td>\n",
       "      <td>0.043892</td>\n",
       "      <td>-0.086762</td>\n",
       "      <td>0.076042</td>\n",
       "      <td>0.024503</td>\n",
       "      <td>-0.009835</td>\n",
       "      <td>0.048268</td>\n",
       "      <td>-0.012383</td>\n",
       "      <td>-0.012254</td>\n",
       "      <td>-0.129863</td>\n",
       "      <td>0.025542</td>\n",
       "    </tr>\n",
       "    <tr>\n",
       "      <th>pct_of_secbiggest_anc_newish</th>\n",
       "      <td>0.031169</td>\n",
       "      <td>-0.263097</td>\n",
       "      <td>0.025978</td>\n",
       "      <td>0.095314</td>\n",
       "      <td>0.142094</td>\n",
       "      <td>NaN</td>\n",
       "      <td>-0.124750</td>\n",
       "      <td>0.052295</td>\n",
       "      <td>0.041118</td>\n",
       "      <td>0.002562</td>\n",
       "      <td>...</td>\n",
       "      <td>-0.003155</td>\n",
       "      <td>-0.078001</td>\n",
       "      <td>0.054867</td>\n",
       "      <td>0.013800</td>\n",
       "      <td>-0.026844</td>\n",
       "      <td>0.041563</td>\n",
       "      <td>-0.033352</td>\n",
       "      <td>-0.029950</td>\n",
       "      <td>-0.145982</td>\n",
       "      <td>-0.006184</td>\n",
       "    </tr>\n",
       "    <tr>\n",
       "      <th>n_clusts_90_anc</th>\n",
       "      <td>0.044718</td>\n",
       "      <td>-0.018170</td>\n",
       "      <td>-0.079107</td>\n",
       "      <td>0.084882</td>\n",
       "      <td>0.081281</td>\n",
       "      <td>NaN</td>\n",
       "      <td>0.122903</td>\n",
       "      <td>0.043951</td>\n",
       "      <td>-0.071311</td>\n",
       "      <td>-0.102364</td>\n",
       "      <td>...</td>\n",
       "      <td>-0.003418</td>\n",
       "      <td>0.092811</td>\n",
       "      <td>-0.070253</td>\n",
       "      <td>-0.075548</td>\n",
       "      <td>-0.060227</td>\n",
       "      <td>0.020370</td>\n",
       "      <td>-0.053757</td>\n",
       "      <td>0.075771</td>\n",
       "      <td>-0.015530</td>\n",
       "      <td>-0.070165</td>\n",
       "    </tr>\n",
       "    <tr>\n",
       "      <th>pct_top_5_anc</th>\n",
       "      <td>-0.006740</td>\n",
       "      <td>0.002956</td>\n",
       "      <td>-0.018995</td>\n",
       "      <td>-0.452366</td>\n",
       "      <td>-0.476041</td>\n",
       "      <td>NaN</td>\n",
       "      <td>-0.351887</td>\n",
       "      <td>-0.015902</td>\n",
       "      <td>-0.023582</td>\n",
       "      <td>0.326136</td>\n",
       "      <td>...</td>\n",
       "      <td>-0.207464</td>\n",
       "      <td>-0.022936</td>\n",
       "      <td>0.111254</td>\n",
       "      <td>-0.016349</td>\n",
       "      <td>0.042550</td>\n",
       "      <td>0.184506</td>\n",
       "      <td>0.046537</td>\n",
       "      <td>-0.134974</td>\n",
       "      <td>0.266308</td>\n",
       "      <td>-0.030968</td>\n",
       "    </tr>\n",
       "    <tr>\n",
       "      <th>wrcr</th>\n",
       "      <td>-0.481996</td>\n",
       "      <td>0.228009</td>\n",
       "      <td>0.962016</td>\n",
       "      <td>0.094189</td>\n",
       "      <td>0.139159</td>\n",
       "      <td>NaN</td>\n",
       "      <td>-0.122406</td>\n",
       "      <td>-0.450911</td>\n",
       "      <td>0.915581</td>\n",
       "      <td>0.160003</td>\n",
       "      <td>...</td>\n",
       "      <td>0.623910</td>\n",
       "      <td>-0.141502</td>\n",
       "      <td>0.019654</td>\n",
       "      <td>0.264431</td>\n",
       "      <td>0.101323</td>\n",
       "      <td>-0.264218</td>\n",
       "      <td>0.275905</td>\n",
       "      <td>0.461790</td>\n",
       "      <td>-0.292128</td>\n",
       "      <td>0.183951</td>\n",
       "    </tr>\n",
       "    <tr>\n",
       "      <th>rcr_low</th>\n",
       "      <td>-0.501017</td>\n",
       "      <td>0.241695</td>\n",
       "      <td>0.661687</td>\n",
       "      <td>0.122755</td>\n",
       "      <td>0.148230</td>\n",
       "      <td>NaN</td>\n",
       "      <td>-0.192276</td>\n",
       "      <td>-0.471909</td>\n",
       "      <td>0.640991</td>\n",
       "      <td>0.087176</td>\n",
       "      <td>...</td>\n",
       "      <td>0.652229</td>\n",
       "      <td>-0.278002</td>\n",
       "      <td>0.210765</td>\n",
       "      <td>0.330167</td>\n",
       "      <td>0.112248</td>\n",
       "      <td>-0.078280</td>\n",
       "      <td>0.277410</td>\n",
       "      <td>0.476927</td>\n",
       "      <td>-0.096613</td>\n",
       "      <td>0.157756</td>\n",
       "    </tr>\n",
       "    <tr>\n",
       "      <th>rcr_mid</th>\n",
       "      <td>-0.598441</td>\n",
       "      <td>0.008699</td>\n",
       "      <td>0.562898</td>\n",
       "      <td>0.424119</td>\n",
       "      <td>0.462338</td>\n",
       "      <td>NaN</td>\n",
       "      <td>-0.032121</td>\n",
       "      <td>-0.566156</td>\n",
       "      <td>0.539170</td>\n",
       "      <td>-0.042334</td>\n",
       "      <td>...</td>\n",
       "      <td>0.914578</td>\n",
       "      <td>-0.037730</td>\n",
       "      <td>0.054334</td>\n",
       "      <td>0.100245</td>\n",
       "      <td>0.281034</td>\n",
       "      <td>-0.268286</td>\n",
       "      <td>0.433603</td>\n",
       "      <td>0.324653</td>\n",
       "      <td>-0.152853</td>\n",
       "      <td>0.344989</td>\n",
       "    </tr>\n",
       "    <tr>\n",
       "      <th>rcr_hi</th>\n",
       "      <td>-0.593921</td>\n",
       "      <td>0.026724</td>\n",
       "      <td>0.554896</td>\n",
       "      <td>0.578511</td>\n",
       "      <td>0.594545</td>\n",
       "      <td>NaN</td>\n",
       "      <td>0.064114</td>\n",
       "      <td>-0.576842</td>\n",
       "      <td>0.548927</td>\n",
       "      <td>-0.166538</td>\n",
       "      <td>...</td>\n",
       "      <td>1.000000</td>\n",
       "      <td>0.062553</td>\n",
       "      <td>-0.056276</td>\n",
       "      <td>0.047897</td>\n",
       "      <td>0.324963</td>\n",
       "      <td>-0.443947</td>\n",
       "      <td>0.464984</td>\n",
       "      <td>0.301349</td>\n",
       "      <td>-0.262223</td>\n",
       "      <td>0.411892</td>\n",
       "    </tr>\n",
       "    <tr>\n",
       "      <th>human</th>\n",
       "      <td>0.147785</td>\n",
       "      <td>0.115597</td>\n",
       "      <td>-0.176251</td>\n",
       "      <td>0.103644</td>\n",
       "      <td>0.118009</td>\n",
       "      <td>NaN</td>\n",
       "      <td>0.160536</td>\n",
       "      <td>0.123883</td>\n",
       "      <td>-0.180580</td>\n",
       "      <td>-0.103899</td>\n",
       "      <td>...</td>\n",
       "      <td>0.062553</td>\n",
       "      <td>1.000000</td>\n",
       "      <td>-0.752764</td>\n",
       "      <td>-0.822256</td>\n",
       "      <td>0.472968</td>\n",
       "      <td>-0.470413</td>\n",
       "      <td>0.570875</td>\n",
       "      <td>-0.476456</td>\n",
       "      <td>0.215924</td>\n",
       "      <td>0.255092</td>\n",
       "    </tr>\n",
       "    <tr>\n",
       "      <th>animal</th>\n",
       "      <td>-0.105695</td>\n",
       "      <td>-0.182500</td>\n",
       "      <td>0.042750</td>\n",
       "      <td>-0.178666</td>\n",
       "      <td>-0.192315</td>\n",
       "      <td>NaN</td>\n",
       "      <td>-0.119093</td>\n",
       "      <td>-0.096861</td>\n",
       "      <td>0.042676</td>\n",
       "      <td>0.117349</td>\n",
       "      <td>...</td>\n",
       "      <td>-0.056276</td>\n",
       "      <td>-0.752764</td>\n",
       "      <td>1.000000</td>\n",
       "      <td>0.285174</td>\n",
       "      <td>-0.305444</td>\n",
       "      <td>0.407546</td>\n",
       "      <td>-0.369555</td>\n",
       "      <td>0.266856</td>\n",
       "      <td>0.044661</td>\n",
       "      <td>-0.207137</td>\n",
       "    </tr>\n",
       "    <tr>\n",
       "      <th>molecular_cellular</th>\n",
       "      <td>-0.219470</td>\n",
       "      <td>0.022261</td>\n",
       "      <td>0.310893</td>\n",
       "      <td>-0.016157</td>\n",
       "      <td>-0.023968</td>\n",
       "      <td>NaN</td>\n",
       "      <td>-0.143087</td>\n",
       "      <td>-0.189442</td>\n",
       "      <td>0.315824</td>\n",
       "      <td>0.079256</td>\n",
       "      <td>...</td>\n",
       "      <td>0.047897</td>\n",
       "      <td>-0.822256</td>\n",
       "      <td>0.285174</td>\n",
       "      <td>1.000000</td>\n",
       "      <td>-0.406235</td>\n",
       "      <td>0.292292</td>\n",
       "      <td>-0.461967</td>\n",
       "      <td>0.549083</td>\n",
       "      <td>-0.349999</td>\n",
       "      <td>-0.141222</td>\n",
       "    </tr>\n",
       "    <tr>\n",
       "      <th>is_clinical</th>\n",
       "      <td>-0.131641</td>\n",
       "      <td>0.155194</td>\n",
       "      <td>0.086510</td>\n",
       "      <td>0.179609</td>\n",
       "      <td>0.197461</td>\n",
       "      <td>NaN</td>\n",
       "      <td>0.041678</td>\n",
       "      <td>-0.154197</td>\n",
       "      <td>0.114279</td>\n",
       "      <td>-0.098682</td>\n",
       "      <td>...</td>\n",
       "      <td>0.324963</td>\n",
       "      <td>0.472968</td>\n",
       "      <td>-0.305444</td>\n",
       "      <td>-0.406235</td>\n",
       "      <td>1.000000</td>\n",
       "      <td>-0.481435</td>\n",
       "      <td>0.860450</td>\n",
       "      <td>-0.247055</td>\n",
       "      <td>0.001125</td>\n",
       "      <td>0.333358</td>\n",
       "    </tr>\n",
       "    <tr>\n",
       "      <th>is_research_article</th>\n",
       "      <td>0.024460</td>\n",
       "      <td>-0.342872</td>\n",
       "      <td>-0.227096</td>\n",
       "      <td>-0.486184</td>\n",
       "      <td>-0.516794</td>\n",
       "      <td>NaN</td>\n",
       "      <td>-0.228725</td>\n",
       "      <td>0.020484</td>\n",
       "      <td>-0.229948</td>\n",
       "      <td>0.271343</td>\n",
       "      <td>...</td>\n",
       "      <td>-0.443947</td>\n",
       "      <td>-0.470413</td>\n",
       "      <td>0.407546</td>\n",
       "      <td>0.292292</td>\n",
       "      <td>-0.481435</td>\n",
       "      <td>1.000000</td>\n",
       "      <td>-0.520555</td>\n",
       "      <td>0.038738</td>\n",
       "      <td>0.361497</td>\n",
       "      <td>-0.436657</td>\n",
       "    </tr>\n",
       "    <tr>\n",
       "      <th>cited_by_clin</th>\n",
       "      <td>-0.291785</td>\n",
       "      <td>0.290132</td>\n",
       "      <td>0.271389</td>\n",
       "      <td>0.106372</td>\n",
       "      <td>0.135593</td>\n",
       "      <td>NaN</td>\n",
       "      <td>-0.038265</td>\n",
       "      <td>-0.297437</td>\n",
       "      <td>0.264323</td>\n",
       "      <td>0.040402</td>\n",
       "      <td>...</td>\n",
       "      <td>0.464984</td>\n",
       "      <td>0.570875</td>\n",
       "      <td>-0.369555</td>\n",
       "      <td>-0.461967</td>\n",
       "      <td>0.860450</td>\n",
       "      <td>-0.520555</td>\n",
       "      <td>1.000000</td>\n",
       "      <td>-0.130023</td>\n",
       "      <td>0.037438</td>\n",
       "      <td>0.396025</td>\n",
       "    </tr>\n",
       "    <tr>\n",
       "      <th>nih</th>\n",
       "      <td>-0.360423</td>\n",
       "      <td>0.145866</td>\n",
       "      <td>0.493154</td>\n",
       "      <td>0.041895</td>\n",
       "      <td>0.042045</td>\n",
       "      <td>NaN</td>\n",
       "      <td>-0.110932</td>\n",
       "      <td>-0.320532</td>\n",
       "      <td>0.482309</td>\n",
       "      <td>0.072045</td>\n",
       "      <td>...</td>\n",
       "      <td>0.301349</td>\n",
       "      <td>-0.476456</td>\n",
       "      <td>0.266856</td>\n",
       "      <td>0.549083</td>\n",
       "      <td>-0.247055</td>\n",
       "      <td>0.038738</td>\n",
       "      <td>-0.130023</td>\n",
       "      <td>1.000000</td>\n",
       "      <td>-0.319518</td>\n",
       "      <td>0.010481</td>\n",
       "    </tr>\n",
       "    <tr>\n",
       "      <th>rage</th>\n",
       "      <td>0.186567</td>\n",
       "      <td>0.141452</td>\n",
       "      <td>-0.297408</td>\n",
       "      <td>-0.375163</td>\n",
       "      <td>-0.408149</td>\n",
       "      <td>NaN</td>\n",
       "      <td>-0.126911</td>\n",
       "      <td>0.176216</td>\n",
       "      <td>-0.309210</td>\n",
       "      <td>0.173242</td>\n",
       "      <td>...</td>\n",
       "      <td>-0.262223</td>\n",
       "      <td>0.215924</td>\n",
       "      <td>0.044661</td>\n",
       "      <td>-0.349999</td>\n",
       "      <td>0.001125</td>\n",
       "      <td>0.361497</td>\n",
       "      <td>0.037438</td>\n",
       "      <td>-0.319518</td>\n",
       "      <td>1.000000</td>\n",
       "      <td>-0.299709</td>\n",
       "    </tr>\n",
       "    <tr>\n",
       "      <th>class</th>\n",
       "      <td>-0.287462</td>\n",
       "      <td>0.000064</td>\n",
       "      <td>0.203125</td>\n",
       "      <td>0.380536</td>\n",
       "      <td>0.395348</td>\n",
       "      <td>NaN</td>\n",
       "      <td>0.024222</td>\n",
       "      <td>-0.273538</td>\n",
       "      <td>0.199221</td>\n",
       "      <td>-0.143398</td>\n",
       "      <td>...</td>\n",
       "      <td>0.411892</td>\n",
       "      <td>0.255092</td>\n",
       "      <td>-0.207137</td>\n",
       "      <td>-0.141222</td>\n",
       "      <td>0.333358</td>\n",
       "      <td>-0.436657</td>\n",
       "      <td>0.396025</td>\n",
       "      <td>0.010481</td>\n",
       "      <td>-0.299709</td>\n",
       "      <td>1.000000</td>\n",
       "    </tr>\n",
       "  </tbody>\n",
       "</table>\n",
       "<p>34 rows × 34 columns</p>\n",
       "</div>"
      ],
      "text/plain": [
       "                               cluster      year         n  pct_is_new  \\\n",
       "cluster                       1.000000  0.037994 -0.565748   -0.074504   \n",
       "year                          0.037994  1.000000  0.255527   -0.076400   \n",
       "n                            -0.565748  0.255527  1.000000    0.000479   \n",
       "pct_is_new                   -0.074504 -0.076400  0.000479    1.000000   \n",
       "pct_is_newish                -0.110348 -0.090718  0.046986    0.977504   \n",
       "pct_dusted_ccn                     NaN       NaN       NaN         NaN   \n",
       "pct_dusted_rmcl               0.167889 -0.062247 -0.163902    0.324819   \n",
       "biggest_anc                   0.970928  0.032234 -0.529706   -0.067030   \n",
       "n_biggest_anc                -0.535347  0.257807  0.944779    0.031434   \n",
       "pct_in_biggest_anc           -0.292716  0.064707  0.250814   -0.577600   \n",
       "pct_of_biggest_anc           -0.172446  0.026491  0.166574   -0.234990   \n",
       "pct_of_biggest_anc_new       -0.110946 -0.075757  0.028788    0.883708   \n",
       "pct_of_biggest_anc_newish    -0.104952 -0.086100  0.068184    0.840744   \n",
       "secbiggest_anc                0.275407 -0.229080 -0.220232    0.020448   \n",
       "n_secbiggest_anc             -0.274542  0.216062  0.398770   -0.047539   \n",
       "pct_in_secbiggest_anc         0.222155 -0.087032 -0.215613    0.152028   \n",
       "pct_of_secbiggest_anc         0.167185 -0.183772 -0.188780    0.119945   \n",
       "pct_of_secbiggest_anc_new    -0.027094 -0.271631  0.043701    0.115955   \n",
       "pct_of_secbiggest_anc_newish  0.031169 -0.263097  0.025978    0.095314   \n",
       "n_clusts_90_anc               0.044718 -0.018170 -0.079107    0.084882   \n",
       "pct_top_5_anc                -0.006740  0.002956 -0.018995   -0.452366   \n",
       "wrcr                         -0.481996  0.228009  0.962016    0.094189   \n",
       "rcr_low                      -0.501017  0.241695  0.661687    0.122755   \n",
       "rcr_mid                      -0.598441  0.008699  0.562898    0.424119   \n",
       "rcr_hi                       -0.593921  0.026724  0.554896    0.578511   \n",
       "human                         0.147785  0.115597 -0.176251    0.103644   \n",
       "animal                       -0.105695 -0.182500  0.042750   -0.178666   \n",
       "molecular_cellular           -0.219470  0.022261  0.310893   -0.016157   \n",
       "is_clinical                  -0.131641  0.155194  0.086510    0.179609   \n",
       "is_research_article           0.024460 -0.342872 -0.227096   -0.486184   \n",
       "cited_by_clin                -0.291785  0.290132  0.271389    0.106372   \n",
       "nih                          -0.360423  0.145866  0.493154    0.041895   \n",
       "rage                          0.186567  0.141452 -0.297408   -0.375163   \n",
       "class                        -0.287462  0.000064  0.203125    0.380536   \n",
       "\n",
       "                              pct_is_newish  pct_dusted_ccn  pct_dusted_rmcl  \\\n",
       "cluster                           -0.110348             NaN         0.167889   \n",
       "year                              -0.090718             NaN        -0.062247   \n",
       "n                                  0.046986             NaN        -0.163902   \n",
       "pct_is_new                         0.977504             NaN         0.324819   \n",
       "pct_is_newish                      1.000000             NaN         0.296614   \n",
       "pct_dusted_ccn                          NaN             NaN              NaN   \n",
       "pct_dusted_rmcl                    0.296614             NaN         1.000000   \n",
       "biggest_anc                       -0.087014             NaN         0.143202   \n",
       "n_biggest_anc                      0.071423             NaN        -0.148498   \n",
       "pct_in_biggest_anc                -0.532598             NaN        -0.257728   \n",
       "pct_of_biggest_anc                -0.195147             NaN        -0.153881   \n",
       "pct_of_biggest_anc_new             0.915352             NaN         0.286858   \n",
       "pct_of_biggest_anc_newish          0.904927             NaN         0.301054   \n",
       "secbiggest_anc                     0.024768             NaN         0.140659   \n",
       "n_secbiggest_anc                  -0.033853             NaN        -0.176018   \n",
       "pct_in_secbiggest_anc              0.148152             NaN         0.043833   \n",
       "pct_of_secbiggest_anc              0.132268             NaN         0.311593   \n",
       "pct_of_secbiggest_anc_new          0.162585             NaN        -0.159249   \n",
       "pct_of_secbiggest_anc_newish       0.142094             NaN        -0.124750   \n",
       "n_clusts_90_anc                    0.081281             NaN         0.122903   \n",
       "pct_top_5_anc                     -0.476041             NaN        -0.351887   \n",
       "wrcr                               0.139159             NaN        -0.122406   \n",
       "rcr_low                            0.148230             NaN        -0.192276   \n",
       "rcr_mid                            0.462338             NaN        -0.032121   \n",
       "rcr_hi                             0.594545             NaN         0.064114   \n",
       "human                              0.118009             NaN         0.160536   \n",
       "animal                            -0.192315             NaN        -0.119093   \n",
       "molecular_cellular                -0.023968             NaN        -0.143087   \n",
       "is_clinical                        0.197461             NaN         0.041678   \n",
       "is_research_article               -0.516794             NaN        -0.228725   \n",
       "cited_by_clin                      0.135593             NaN        -0.038265   \n",
       "nih                                0.042045             NaN        -0.110932   \n",
       "rage                              -0.408149             NaN        -0.126911   \n",
       "class                              0.395348             NaN         0.024222   \n",
       "\n",
       "                              biggest_anc  n_biggest_anc  pct_in_biggest_anc  \\\n",
       "cluster                          0.970928      -0.535347           -0.292716   \n",
       "year                             0.032234       0.257807            0.064707   \n",
       "n                               -0.529706       0.944779            0.250814   \n",
       "pct_is_new                      -0.067030       0.031434           -0.577600   \n",
       "pct_is_newish                   -0.087014       0.071423           -0.532598   \n",
       "pct_dusted_ccn                        NaN            NaN                 NaN   \n",
       "pct_dusted_rmcl                  0.143202      -0.148498           -0.257728   \n",
       "biggest_anc                      1.000000      -0.540385           -0.201230   \n",
       "n_biggest_anc                   -0.540385       1.000000            0.039832   \n",
       "pct_in_biggest_anc              -0.201230       0.039832            1.000000   \n",
       "pct_of_biggest_anc               0.001612      -0.115214            0.817308   \n",
       "pct_of_biggest_anc_new          -0.064323      -0.005628           -0.459676   \n",
       "pct_of_biggest_anc_newish       -0.064992       0.040452           -0.429238   \n",
       "secbiggest_anc                   0.243878      -0.208446           -0.054316   \n",
       "n_secbiggest_anc                -0.237575       0.354141            0.186261   \n",
       "pct_in_secbiggest_anc            0.187801      -0.029408           -0.725648   \n",
       "pct_of_secbiggest_anc            0.135016      -0.068070           -0.335675   \n",
       "pct_of_secbiggest_anc_new       -0.007836       0.068664           -0.010592   \n",
       "pct_of_secbiggest_anc_newish     0.052295       0.041118            0.002562   \n",
       "n_clusts_90_anc                  0.043951      -0.071311           -0.102364   \n",
       "pct_top_5_anc                   -0.015902      -0.023582            0.326136   \n",
       "wrcr                            -0.450911       0.915581            0.160003   \n",
       "rcr_low                         -0.471909       0.640991            0.087176   \n",
       "rcr_mid                         -0.566156       0.539170           -0.042334   \n",
       "rcr_hi                          -0.576842       0.548927           -0.166538   \n",
       "human                            0.123883      -0.180580           -0.103899   \n",
       "animal                          -0.096861       0.042676            0.117349   \n",
       "molecular_cellular              -0.189442       0.315824            0.079256   \n",
       "is_clinical                     -0.154197       0.114279           -0.098682   \n",
       "is_research_article              0.020484      -0.229948            0.271343   \n",
       "cited_by_clin                   -0.297437       0.264323            0.040402   \n",
       "nih                             -0.320532       0.482309            0.072045   \n",
       "rage                             0.176216      -0.309210            0.173242   \n",
       "class                           -0.273538       0.199221           -0.143398   \n",
       "\n",
       "                              ...    rcr_hi     human    animal  \\\n",
       "cluster                       ... -0.593921  0.147785 -0.105695   \n",
       "year                          ...  0.026724  0.115597 -0.182500   \n",
       "n                             ...  0.554896 -0.176251  0.042750   \n",
       "pct_is_new                    ...  0.578511  0.103644 -0.178666   \n",
       "pct_is_newish                 ...  0.594545  0.118009 -0.192315   \n",
       "pct_dusted_ccn                ...       NaN       NaN       NaN   \n",
       "pct_dusted_rmcl               ...  0.064114  0.160536 -0.119093   \n",
       "biggest_anc                   ... -0.576842  0.123883 -0.096861   \n",
       "n_biggest_anc                 ...  0.548927 -0.180580  0.042676   \n",
       "pct_in_biggest_anc            ... -0.166538 -0.103899  0.117349   \n",
       "pct_of_biggest_anc            ... -0.029221 -0.050642  0.040242   \n",
       "pct_of_biggest_anc_new        ...  0.518714  0.097948 -0.192083   \n",
       "pct_of_biggest_anc_newish     ...  0.522858  0.134036 -0.214681   \n",
       "secbiggest_anc                ... -0.218796  0.000522  0.021358   \n",
       "n_secbiggest_anc              ...  0.253052 -0.181573  0.087115   \n",
       "pct_in_secbiggest_anc         ... -0.041741  0.024161  0.028469   \n",
       "pct_of_secbiggest_anc         ... -0.083363 -0.014656  0.053174   \n",
       "pct_of_secbiggest_anc_new     ...  0.043892 -0.086762  0.076042   \n",
       "pct_of_secbiggest_anc_newish  ... -0.003155 -0.078001  0.054867   \n",
       "n_clusts_90_anc               ... -0.003418  0.092811 -0.070253   \n",
       "pct_top_5_anc                 ... -0.207464 -0.022936  0.111254   \n",
       "wrcr                          ...  0.623910 -0.141502  0.019654   \n",
       "rcr_low                       ...  0.652229 -0.278002  0.210765   \n",
       "rcr_mid                       ...  0.914578 -0.037730  0.054334   \n",
       "rcr_hi                        ...  1.000000  0.062553 -0.056276   \n",
       "human                         ...  0.062553  1.000000 -0.752764   \n",
       "animal                        ... -0.056276 -0.752764  1.000000   \n",
       "molecular_cellular            ...  0.047897 -0.822256  0.285174   \n",
       "is_clinical                   ...  0.324963  0.472968 -0.305444   \n",
       "is_research_article           ... -0.443947 -0.470413  0.407546   \n",
       "cited_by_clin                 ...  0.464984  0.570875 -0.369555   \n",
       "nih                           ...  0.301349 -0.476456  0.266856   \n",
       "rage                          ... -0.262223  0.215924  0.044661   \n",
       "class                         ...  0.411892  0.255092 -0.207137   \n",
       "\n",
       "                              molecular_cellular  is_clinical  \\\n",
       "cluster                                -0.219470    -0.131641   \n",
       "year                                    0.022261     0.155194   \n",
       "n                                       0.310893     0.086510   \n",
       "pct_is_new                             -0.016157     0.179609   \n",
       "pct_is_newish                          -0.023968     0.197461   \n",
       "pct_dusted_ccn                               NaN          NaN   \n",
       "pct_dusted_rmcl                        -0.143087     0.041678   \n",
       "biggest_anc                            -0.189442    -0.154197   \n",
       "n_biggest_anc                           0.315824     0.114279   \n",
       "pct_in_biggest_anc                      0.079256    -0.098682   \n",
       "pct_of_biggest_anc                      0.051452    -0.090410   \n",
       "pct_of_biggest_anc_new                  0.003935     0.155216   \n",
       "pct_of_biggest_anc_newish              -0.021023     0.191251   \n",
       "secbiggest_anc                         -0.104947    -0.109020   \n",
       "n_secbiggest_anc                        0.258538     0.034972   \n",
       "pct_in_secbiggest_anc                  -0.080820    -0.041900   \n",
       "pct_of_secbiggest_anc                  -0.070452    -0.082987   \n",
       "pct_of_secbiggest_anc_new               0.024503    -0.009835   \n",
       "pct_of_secbiggest_anc_newish            0.013800    -0.026844   \n",
       "n_clusts_90_anc                        -0.075548    -0.060227   \n",
       "pct_top_5_anc                          -0.016349     0.042550   \n",
       "wrcr                                    0.264431     0.101323   \n",
       "rcr_low                                 0.330167     0.112248   \n",
       "rcr_mid                                 0.100245     0.281034   \n",
       "rcr_hi                                  0.047897     0.324963   \n",
       "human                                  -0.822256     0.472968   \n",
       "animal                                  0.285174    -0.305444   \n",
       "molecular_cellular                      1.000000    -0.406235   \n",
       "is_clinical                            -0.406235     1.000000   \n",
       "is_research_article                     0.292292    -0.481435   \n",
       "cited_by_clin                          -0.461967     0.860450   \n",
       "nih                                     0.549083    -0.247055   \n",
       "rage                                   -0.349999     0.001125   \n",
       "class                                  -0.141222     0.333358   \n",
       "\n",
       "                              is_research_article  cited_by_clin       nih  \\\n",
       "cluster                                  0.024460      -0.291785 -0.360423   \n",
       "year                                    -0.342872       0.290132  0.145866   \n",
       "n                                       -0.227096       0.271389  0.493154   \n",
       "pct_is_new                              -0.486184       0.106372  0.041895   \n",
       "pct_is_newish                           -0.516794       0.135593  0.042045   \n",
       "pct_dusted_ccn                                NaN            NaN       NaN   \n",
       "pct_dusted_rmcl                         -0.228725      -0.038265 -0.110932   \n",
       "biggest_anc                              0.020484      -0.297437 -0.320532   \n",
       "n_biggest_anc                           -0.229948       0.264323  0.482309   \n",
       "pct_in_biggest_anc                       0.271343       0.040402  0.072045   \n",
       "pct_of_biggest_anc                       0.107575       0.016951  0.080706   \n",
       "pct_of_biggest_anc_new                  -0.437828       0.108827  0.054718   \n",
       "pct_of_biggest_anc_newish               -0.477766       0.145297  0.041718   \n",
       "secbiggest_anc                           0.093467      -0.168381 -0.204557   \n",
       "n_secbiggest_anc                        -0.071939       0.156618  0.423563   \n",
       "pct_in_secbiggest_anc                   -0.026992      -0.102131 -0.080435   \n",
       "pct_of_secbiggest_anc                    0.028882      -0.146326 -0.150410   \n",
       "pct_of_secbiggest_anc_new                0.048268      -0.012383 -0.012254   \n",
       "pct_of_secbiggest_anc_newish             0.041563      -0.033352 -0.029950   \n",
       "n_clusts_90_anc                          0.020370      -0.053757  0.075771   \n",
       "pct_top_5_anc                            0.184506       0.046537 -0.134974   \n",
       "wrcr                                    -0.264218       0.275905  0.461790   \n",
       "rcr_low                                 -0.078280       0.277410  0.476927   \n",
       "rcr_mid                                 -0.268286       0.433603  0.324653   \n",
       "rcr_hi                                  -0.443947       0.464984  0.301349   \n",
       "human                                   -0.470413       0.570875 -0.476456   \n",
       "animal                                   0.407546      -0.369555  0.266856   \n",
       "molecular_cellular                       0.292292      -0.461967  0.549083   \n",
       "is_clinical                             -0.481435       0.860450 -0.247055   \n",
       "is_research_article                      1.000000      -0.520555  0.038738   \n",
       "cited_by_clin                           -0.520555       1.000000 -0.130023   \n",
       "nih                                      0.038738      -0.130023  1.000000   \n",
       "rage                                     0.361497       0.037438 -0.319518   \n",
       "class                                   -0.436657       0.396025  0.010481   \n",
       "\n",
       "                                  rage     class  \n",
       "cluster                       0.186567 -0.287462  \n",
       "year                          0.141452  0.000064  \n",
       "n                            -0.297408  0.203125  \n",
       "pct_is_new                   -0.375163  0.380536  \n",
       "pct_is_newish                -0.408149  0.395348  \n",
       "pct_dusted_ccn                     NaN       NaN  \n",
       "pct_dusted_rmcl              -0.126911  0.024222  \n",
       "biggest_anc                   0.176216 -0.273538  \n",
       "n_biggest_anc                -0.309210  0.199221  \n",
       "pct_in_biggest_anc            0.173242 -0.143398  \n",
       "pct_of_biggest_anc            0.102048 -0.048380  \n",
       "pct_of_biggest_anc_new       -0.366395  0.317734  \n",
       "pct_of_biggest_anc_newish    -0.397984  0.332553  \n",
       "secbiggest_anc               -0.065477 -0.115759  \n",
       "n_secbiggest_anc             -0.132528  0.073214  \n",
       "pct_in_secbiggest_anc        -0.008581  0.033867  \n",
       "pct_of_secbiggest_anc        -0.087385  0.004165  \n",
       "pct_of_secbiggest_anc_new    -0.129863  0.025542  \n",
       "pct_of_secbiggest_anc_newish -0.145982 -0.006184  \n",
       "n_clusts_90_anc              -0.015530 -0.070165  \n",
       "pct_top_5_anc                 0.266308 -0.030968  \n",
       "wrcr                         -0.292128  0.183951  \n",
       "rcr_low                      -0.096613  0.157756  \n",
       "rcr_mid                      -0.152853  0.344989  \n",
       "rcr_hi                       -0.262223  0.411892  \n",
       "human                         0.215924  0.255092  \n",
       "animal                        0.044661 -0.207137  \n",
       "molecular_cellular           -0.349999 -0.141222  \n",
       "is_clinical                   0.001125  0.333358  \n",
       "is_research_article           0.361497 -0.436657  \n",
       "cited_by_clin                 0.037438  0.396025  \n",
       "nih                          -0.319518  0.010481  \n",
       "rage                          1.000000 -0.299709  \n",
       "class                        -0.299709  1.000000  \n",
       "\n",
       "[34 rows x 34 columns]"
      ]
     },
     "execution_count": 2,
     "metadata": {},
     "output_type": "execute_result"
    }
   ],
   "source": [
    "data = pd.read_csv(\"data_84.csv\")\n",
    "data.corr()"
   ]
  },
  {
   "cell_type": "code",
   "execution_count": 3,
   "id": "3898c67e",
   "metadata": {
    "scrolled": true
   },
   "outputs": [
    {
     "name": "stdout",
     "output_type": "stream",
     "text": [
      "                           pct_is_new  pct_is_newish  n_biggest_anc  \\\n",
      "pct_is_new                   1.000000       0.944491      -0.044343   \n",
      "pct_is_newish                0.944491       1.000000      -0.021100   \n",
      "n_biggest_anc               -0.044343      -0.021100       1.000000   \n",
      "pct_of_biggest_anc          -0.497805      -0.442149       0.165535   \n",
      "n_secbiggest_anc             0.009628       0.022531       0.334137   \n",
      "pct_of_secbiggest_anc        0.083921       0.075561      -0.135367   \n",
      "pct_of_secbiggest_anc_new    0.315785       0.322555       0.034598   \n",
      "pct_top_5_anc               -0.659848      -0.623264       0.055103   \n",
      "wrcr                         0.034831       0.059083       0.913371   \n",
      "rcr_mid                      0.348472       0.366712       0.660139   \n",
      "rcr_hi                       0.375248       0.376276       0.664355   \n",
      "human                        0.033642       0.042392      -0.003506   \n",
      "animal                      -0.118826      -0.126191       0.024838   \n",
      "molecular_cellular           0.022813       0.021531       0.105498   \n",
      "is_clinical                  0.102954       0.112117       0.190299   \n",
      "is_research_article         -0.253732      -0.275200      -0.049519   \n",
      "cited_by_clin                0.004562       0.021542       0.420650   \n",
      "nih                          0.109767       0.117095       0.324972   \n",
      "rage                        -0.221780      -0.225946      -0.221086   \n",
      "pred_log                     0.601541       0.616862       0.384992   \n",
      "\n",
      "                           pct_of_biggest_anc  n_secbiggest_anc  \\\n",
      "pct_is_new                          -0.497805          0.009628   \n",
      "pct_is_newish                       -0.442149          0.022531   \n",
      "n_biggest_anc                        0.165535          0.334137   \n",
      "pct_of_biggest_anc                   1.000000          0.182701   \n",
      "n_secbiggest_anc                     0.182701          1.000000   \n",
      "pct_of_secbiggest_anc               -0.250476         -0.301496   \n",
      "pct_of_secbiggest_anc_new           -0.171408         -0.088733   \n",
      "pct_top_5_anc                        0.574880          0.017366   \n",
      "wrcr                                 0.138605          0.296597   \n",
      "rcr_mid                              0.038156          0.377600   \n",
      "rcr_hi                               0.028138          0.376665   \n",
      "human                               -0.008641          0.008029   \n",
      "animal                               0.058886          0.019764   \n",
      "molecular_cellular                  -0.009016          0.097597   \n",
      "is_clinical                         -0.011046          0.127922   \n",
      "is_research_article                  0.154103         -0.003523   \n",
      "cited_by_clin                        0.085618          0.252529   \n",
      "nih                                 -0.013791          0.231599   \n",
      "rage                                 0.062335         -0.149087   \n",
      "pred_log                            -0.279696          0.180595   \n",
      "\n",
      "                           pct_of_secbiggest_anc  pct_of_secbiggest_anc_new  \\\n",
      "pct_is_new                              0.083921                   0.315785   \n",
      "pct_is_newish                           0.075561                   0.322555   \n",
      "n_biggest_anc                          -0.135367                   0.034598   \n",
      "pct_of_biggest_anc                     -0.250476                  -0.171408   \n",
      "n_secbiggest_anc                       -0.301496                  -0.088733   \n",
      "pct_of_secbiggest_anc                   1.000000                   0.134088   \n",
      "pct_of_secbiggest_anc_new               0.134088                   1.000000   \n",
      "pct_top_5_anc                          -0.075239                  -0.235011   \n",
      "wrcr                                   -0.113019                   0.061477   \n",
      "rcr_mid                                -0.131722                   0.102080   \n",
      "rcr_hi                                 -0.126610                   0.110491   \n",
      "human                                   0.038178                  -0.001208   \n",
      "animal                                 -0.035379                  -0.072713   \n",
      "molecular_cellular                     -0.058612                   0.034934   \n",
      "is_clinical                            -0.014137                   0.031088   \n",
      "is_research_article                    -0.063128                  -0.122088   \n",
      "cited_by_clin                          -0.065642                   0.010011   \n",
      "nih                                    -0.076586                   0.052085   \n",
      "rage                                    0.044072                  -0.123060   \n",
      "pred_log                                0.076578                   0.260762   \n",
      "\n",
      "                           pct_top_5_anc      wrcr   rcr_mid    rcr_hi  \\\n",
      "pct_is_new                     -0.659848  0.034831  0.348472  0.375248   \n",
      "pct_is_newish                  -0.623264  0.059083  0.366712  0.376276   \n",
      "n_biggest_anc                   0.055103  0.913371  0.660139  0.664355   \n",
      "pct_of_biggest_anc              0.574880  0.138605  0.038156  0.028138   \n",
      "n_secbiggest_anc                0.017366  0.296597  0.377600  0.376665   \n",
      "pct_of_secbiggest_anc          -0.075239 -0.113019 -0.131722 -0.126610   \n",
      "pct_of_secbiggest_anc_new      -0.235011  0.061477  0.102080  0.110491   \n",
      "pct_top_5_anc                   1.000000 -0.010080 -0.191656 -0.201958   \n",
      "wrcr                           -0.010080  1.000000  0.680785  0.679787   \n",
      "rcr_mid                        -0.191656  0.680785  1.000000  0.903200   \n",
      "rcr_hi                         -0.201958  0.679787  0.903200  1.000000   \n",
      "human                           0.030490 -0.005334 -0.100693  0.036008   \n",
      "animal                          0.038055  0.015590  0.120262  0.010412   \n",
      "molecular_cellular             -0.101631  0.099898  0.197190  0.082370   \n",
      "is_clinical                    -0.072466  0.180890  0.183025  0.238708   \n",
      "is_research_article             0.189446 -0.077787  0.012658 -0.077158   \n",
      "cited_by_clin                  -0.014843  0.383927  0.359038  0.445968   \n",
      "nih                            -0.183042  0.321694  0.391510  0.365374   \n",
      "rage                            0.157087 -0.197784 -0.197657 -0.249012   \n",
      "pred_log                       -0.405022  0.398887  0.455795  0.570459   \n",
      "\n",
      "                              human    animal  molecular_cellular  \\\n",
      "pct_is_new                 0.033642 -0.118826            0.022813   \n",
      "pct_is_newish              0.042392 -0.126191            0.021531   \n",
      "n_biggest_anc             -0.003506  0.024838            0.105498   \n",
      "pct_of_biggest_anc        -0.008641  0.058886           -0.009016   \n",
      "n_secbiggest_anc           0.008029  0.019764            0.097597   \n",
      "pct_of_secbiggest_anc      0.038178 -0.035379           -0.058612   \n",
      "pct_of_secbiggest_anc_new -0.001208 -0.072713            0.034934   \n",
      "pct_top_5_anc              0.030490  0.038055           -0.101631   \n",
      "wrcr                      -0.005334  0.015590            0.099898   \n",
      "rcr_mid                   -0.100693  0.120262            0.197190   \n",
      "rcr_hi                     0.036008  0.010412            0.082370   \n",
      "human                      1.000000 -0.649714           -0.722397   \n",
      "animal                    -0.649714  1.000000            0.181303   \n",
      "molecular_cellular        -0.722397  0.181303            1.000000   \n",
      "is_clinical                0.351712 -0.151902           -0.257452   \n",
      "is_research_article       -0.410996  0.268312            0.287586   \n",
      "cited_by_clin              0.483277 -0.175481           -0.341178   \n",
      "nih                       -0.195386  0.148288            0.344905   \n",
      "rage                       0.090269  0.119309           -0.209802   \n",
      "pred_log                   0.458024 -0.459437           -0.148544   \n",
      "\n",
      "                           is_clinical  is_research_article  cited_by_clin  \\\n",
      "pct_is_new                    0.102954            -0.253732       0.004562   \n",
      "pct_is_newish                 0.112117            -0.275200       0.021542   \n",
      "n_biggest_anc                 0.190299            -0.049519       0.420650   \n",
      "pct_of_biggest_anc           -0.011046             0.154103       0.085618   \n",
      "n_secbiggest_anc              0.127922            -0.003523       0.252529   \n",
      "pct_of_secbiggest_anc        -0.014137            -0.063128      -0.065642   \n",
      "pct_of_secbiggest_anc_new     0.031088            -0.122088       0.010011   \n",
      "pct_top_5_anc                -0.072466             0.189446      -0.014843   \n",
      "wrcr                          0.180890            -0.077787       0.383927   \n",
      "rcr_mid                       0.183025             0.012658       0.359038   \n",
      "rcr_hi                        0.238708            -0.077158       0.445968   \n",
      "human                         0.351712            -0.410996       0.483277   \n",
      "animal                       -0.151902             0.268312      -0.175481   \n",
      "molecular_cellular           -0.257452             0.287586      -0.341178   \n",
      "is_clinical                   1.000000            -0.233747       0.797774   \n",
      "is_research_article          -0.233747             1.000000      -0.248000   \n",
      "cited_by_clin                 0.797774            -0.248000       1.000000   \n",
      "nih                           0.004116            -0.060082       0.135882   \n",
      "rage                         -0.085838            -0.000469      -0.099959   \n",
      "pred_log                      0.465565            -0.469264       0.549034   \n",
      "\n",
      "                                nih      rage  pred_log  \n",
      "pct_is_new                 0.109767 -0.221780  0.601541  \n",
      "pct_is_newish              0.117095 -0.225946  0.616862  \n",
      "n_biggest_anc              0.324972 -0.221086  0.384992  \n",
      "pct_of_biggest_anc        -0.013791  0.062335 -0.279696  \n",
      "n_secbiggest_anc           0.231599 -0.149087  0.180595  \n",
      "pct_of_secbiggest_anc     -0.076586  0.044072  0.076578  \n",
      "pct_of_secbiggest_anc_new  0.052085 -0.123060  0.260762  \n",
      "pct_top_5_anc             -0.183042  0.157087 -0.405022  \n",
      "wrcr                       0.321694 -0.197784  0.398887  \n",
      "rcr_mid                    0.391510 -0.197657  0.455795  \n",
      "rcr_hi                     0.365374 -0.249012  0.570459  \n",
      "human                     -0.195386  0.090269  0.458024  \n",
      "animal                     0.148288  0.119309 -0.459437  \n",
      "molecular_cellular         0.344905 -0.209802 -0.148544  \n",
      "is_clinical                0.004116 -0.085838  0.465565  \n",
      "is_research_article       -0.060082 -0.000469 -0.469264  \n",
      "cited_by_clin              0.135882 -0.099959  0.549034  \n",
      "nih                        1.000000 -0.253872  0.237046  \n",
      "rage                      -0.253872  1.000000 -0.540165  \n",
      "pred_log                   0.237046 -0.540165  1.000000  \n",
      "0.0406011797867955\n"
     ]
    }
   ],
   "source": [
    "data = pd.read_csv(\"data_84.csv\")\n",
    "data = data[data['n'] > 100]\n",
    "d1 = data[data['class'] == 1]\n",
    "d0 = data[data['class'] == 0]\n",
    "\n",
    "data2 = pd.read_csv(\"xx_2020.csv\")\n",
    "\n",
    "data2 = data2[data2['cluster'] != 822]\n",
    "data2 = data2[data2['cluster'] != 4139]\n",
    "data2 = data2.drop(['cluster','year','n','pct_in_secbiggest_anc','rcr_low','secbiggest_anc',\n",
    "                           'pct_of_biggest_anc_newish','pct_of_biggest_anc_new','n_clusts_90_anc'\n",
    "                           ,'pct_in_biggest_anc','biggest_anc','pct_of_secbiggest_anc_newish','prediction'], axis = 1)\n",
    "\n",
    "\n",
    "data3 = pd.read_csv(\"xx_2019.csv\")\n",
    "\n",
    "data3 = data3[data3['cluster'] != 1341]\n",
    "data3 = data3[data3['cluster'] != 11637]\n",
    "data3 = data3[data3['cluster'] != 1985]\n",
    "data3 = data3[data3['cluster'] != 2163]\n",
    "data3 = data3.drop(['cluster','year','n','pct_in_secbiggest_anc','rcr_low','secbiggest_anc',\n",
    "                           'pct_of_biggest_anc_newish','pct_of_biggest_anc_new','n_clusts_90_anc'\n",
    "                           ,'pct_in_biggest_anc','biggest_anc','pct_of_secbiggest_anc_newish','prediction'], axis = 1)\n",
    "\n",
    "print(data3.corr())\n",
    "data4 = pd.read_csv(\"xx_2018.csv\")\n",
    "print(data4['rcr_low'].median())\n",
    "data4 = data4[data4['cluster'] != 441]\n",
    "data4 = data4[data4['cluster'] != 2623]\n",
    "data4 = data4[data4['cluster'] != 11807]\n",
    "data4 = data4[data4['cluster'] != 21419]\n",
    "data4 = data4.drop(['cluster','year','n','pct_in_secbiggest_anc','rcr_low','secbiggest_anc',\n",
    "                           'pct_of_biggest_anc_newish','pct_of_biggest_anc_new','n_clusts_90_anc'\n",
    "                           ,'pct_in_biggest_anc','biggest_anc','pct_of_secbiggest_anc_newish','prediction'], axis = 1)\n",
    "\n"
   ]
  },
  {
   "cell_type": "code",
   "execution_count": 4,
   "id": "c53cae32",
   "metadata": {},
   "outputs": [
    {
     "name": "stdout",
     "output_type": "stream",
     "text": [
      "63939   22228   21197   20514\n"
     ]
    }
   ],
   "source": [
    "dd = pd.concat([data2, data3], axis=0)\n",
    "dd = pd.concat([dd, data4], axis=0)\n",
    "print(len(dd),\" \",len(data2),\" \",len(data3),\" \", len(data4))\n",
    "dd.corr()\n",
    "ddh = dd[dd['pred_log'] > 0.70]"
   ]
  },
  {
   "cell_type": "code",
   "execution_count": 5,
   "id": "24ab4cad",
   "metadata": {
    "scrolled": true
   },
   "outputs": [
    {
     "name": "stdout",
     "output_type": "stream",
     "text": [
      "139\n",
      "0.6615782889190448\n",
      "0.4992861269431743\n",
      "0.7985500906961734\n"
     ]
    }
   ],
   "source": [
    "print(len(d1[d1['human'] >= 0.020]))\n",
    "print(d1['human'].mean())\n",
    "print(d0['human'].mean())\n",
    "d = dd[dd['pred_log'] > 0.75]\n",
    "print(d['human'].mean())"
   ]
  },
  {
   "cell_type": "code",
   "execution_count": 6,
   "id": "d2e609ac",
   "metadata": {},
   "outputs": [
    {
     "name": "stdout",
     "output_type": "stream",
     "text": [
      "139\n",
      "129\n",
      "0.3139763005804777\n",
      "0.19447812104544823\n",
      "0.3002365114722526\n",
      "755\n"
     ]
    }
   ],
   "source": [
    "print(len(d1))\n",
    "print(len(d1[d1['cited_by_clin'] >= 0.1]))\n",
    "print(d1['cited_by_clin'].mean())\n",
    "print(d0['cited_by_clin'].mean())\n",
    "d = dd[dd['pred_log'] > 0.75]\n",
    "print(d['cited_by_clin'].mean())\n",
    "print(len(d[d['cited_by_clin'] < 0.1]))"
   ]
  },
  {
   "cell_type": "code",
   "execution_count": 35,
   "id": "ac650d15",
   "metadata": {},
   "outputs": [
    {
     "name": "stdout",
     "output_type": "stream",
     "text": [
      "117\n",
      "3.360497019995197\n",
      "2.5996143195839845\n",
      "3.0720042366859865\n",
      "945\n"
     ]
    }
   ],
   "source": [
    "print(len(d1[d1['rcr_hi'] > 2.50]))\n",
    "print(d1['rcr_hi'].mean())\n",
    "print(d0['rcr_hi'].mean())\n",
    "d = dd[dd['pred_log'] > 0.75]\n",
    "print(d['rcr_hi'].mean())\n",
    "print(len(d[d['rcr_hi'] <= 2.00]))"
   ]
  },
  {
   "cell_type": "code",
   "execution_count": 43,
   "id": "b72465af",
   "metadata": {},
   "outputs": [
    {
     "name": "stdout",
     "output_type": "stream",
     "text": [
      "124\n",
      "0.191511387163561\n",
      "0.08446150930062704\n",
      "0.259259259259259\n",
      "503\n"
     ]
    }
   ],
   "source": [
    "print(len(d1[d1['pct_is_new'] <= 0.50]))\n",
    "print(d1['pct_is_new'].median())\n",
    "print(d0['pct_is_new'].median())\n",
    "d = dd[dd['pred_log'] > 0.75]\n",
    "print(d['pct_is_new'].median())\n",
    "print(len(d[d['pct_is_new'] > 0.50]))"
   ]
  },
  {
   "cell_type": "code",
   "execution_count": 9,
   "id": "1e15b297",
   "metadata": {},
   "outputs": [
    {
     "name": "stdout",
     "output_type": "stream",
     "text": [
      "0.181515957446809\n",
      "0.07999358839235525\n",
      "0.235321695485508\n"
     ]
    }
   ],
   "source": [
    "print(d1['pct_is_newish'].median())\n",
    "print(d0['pct_is_newish'].median())\n",
    "d = dd[dd['pred_log'] > 0.75]\n",
    "print(d['pct_is_newish'].median())"
   ]
  },
  {
   "cell_type": "code",
   "execution_count": 10,
   "id": "8fce6ef8",
   "metadata": {},
   "outputs": [
    {
     "name": "stdout",
     "output_type": "stream",
     "text": [
      "120\n",
      "2669.0\n",
      "2065.0\n",
      "661.5\n"
     ]
    }
   ],
   "source": [
    "print(len(d1[d1['n_biggest_anc'] >= 300]))\n",
    "print(d1['n_biggest_anc'].median())\n",
    "print(d0['n_biggest_anc'].median())\n",
    "d = dd[dd['pred_log'] > 0.75]\n",
    "print(d['n_biggest_anc'].median())"
   ]
  },
  {
   "cell_type": "code",
   "execution_count": 11,
   "id": "827041ca",
   "metadata": {},
   "outputs": [
    {
     "name": "stdout",
     "output_type": "stream",
     "text": [
      "0.948643410852713\n",
      "0.9622801199532045\n",
      "0.8955495748851026\n"
     ]
    }
   ],
   "source": [
    "print(d1['pct_of_biggest_anc'].median())\n",
    "print(d0['pct_of_biggest_anc'].median())\n",
    "d = data2[data2['pred_log'] > 0.75]\n",
    "print(d['pct_of_biggest_anc'].median())"
   ]
  },
  {
   "cell_type": "code",
   "execution_count": 12,
   "id": "fcc6d962",
   "metadata": {},
   "outputs": [
    {
     "name": "stdout",
     "output_type": "stream",
     "text": [
      "122\n",
      "3.42451246635554\n",
      "7.676822355712575\n",
      "4.751392716077815\n",
      "2564\n",
      "     cluster  year     n  pct_is_new  pct_is_newish  pct_dusted_ccn  \\\n",
      "236     8803  2014   381    0.551181       0.404199               0   \n",
      "239      280  2014  5899    0.093745       0.092728               0   \n",
      "244      315  2014  5716    0.199265       0.180196               0   \n",
      "248     1436  2015  3135    0.101116       0.086124               0   \n",
      "250     1693  2015  2822    0.132176       0.117647               0   \n",
      "256     4054  2015  1335    0.457678       0.343071               0   \n",
      "257      750  2015  4279    0.264080       0.266651               0   \n",
      "259     4337  2016  1302    0.157450       0.133641               0   \n",
      "261      314  2016  6001    0.143809       0.134478               0   \n",
      "263      319  2017  6072    0.147563       0.135870               0   \n",
      "265      235  2017  6508    0.583743       0.398125               0   \n",
      "269      698  2017  4717    0.043672       0.041976               0   \n",
      "271     2623  2018  2307    0.149111       0.119202               0   \n",
      "273      441  2018  5793    0.139651       0.136026               0   \n",
      "277    11807  2018   293    0.532423       0.372014               0   \n",
      "282     1341  2019  3945    0.033714       0.031686               0   \n",
      "283    11637  2019   323    0.318885       0.269350               0   \n",
      "286     2163  2019  2825    0.241770       0.209558               0   \n",
      "288      822  2020  4921    0.186954       0.163381               0   \n",
      "291     4139  2020  1743    0.483075       0.400459               0   \n",
      "\n",
      "     pct_dusted_rmcl  biggest_anc  n_biggest_anc  pct_in_biggest_anc  ...  \\\n",
      "236         0.034121        14591            138            0.225722  ...   \n",
      "239         0.014748          302           5574            0.929141  ...   \n",
      "244         0.022393          382           5174            0.887159  ...   \n",
      "248         0.001276         1493           2942            0.911005  ...   \n",
      "250         0.001063         1717           2669            0.915663  ...   \n",
      "256         0.003745         4783           1008            0.713858  ...   \n",
      "257         0.002103          667           4334            0.666043  ...   \n",
      "259         0.000000         3855           1414            0.828725  ...   \n",
      "261         0.012831          362           5603            0.904016  ...   \n",
      "263         0.000823          372           5727            0.895257  ...   \n",
      "265         0.013675          749           4436            0.569914  ...   \n",
      "269         0.000000          676           4621            0.968836  ...   \n",
      "271         0.000433         2801           2099            0.896836  ...   \n",
      "273         0.014155          489           5424            0.909373  ...   \n",
      "277         0.000000        17558            131            0.354949  ...   \n",
      "282         0.008365         1286           3874            0.971863  ...   \n",
      "283         0.003096        12694            255            0.687307  ...   \n",
      "286         0.000708         2413           2484            0.823717  ...   \n",
      "288         0.000610          609           5360            0.821175  ...   \n",
      "291         0.045324         9092            508            0.255881  ...   \n",
      "\n",
      "       rcr_hi     human    animal  molecular_cellular  is_clinical  \\\n",
      "236  2.742703  0.805564  0.061811            0.124724     0.107612   \n",
      "239  3.182992  0.559417  0.105482            0.333392     0.042041   \n",
      "244  4.277654  0.700614  0.109487            0.170066     0.026767   \n",
      "248  3.060600  0.943467  0.020683            0.025949     0.038915   \n",
      "250  2.983618  0.723140  0.225680            0.041860     0.144224   \n",
      "256  6.116288  0.582217  0.219483            0.162127     0.165543   \n",
      "257  3.465757  0.752631  0.049649            0.186558     0.175742   \n",
      "259  2.723602  0.887673  0.070822            0.024570     0.196621   \n",
      "261  2.770353  0.666817  0.033196            0.294211     0.104816   \n",
      "263  3.608291  0.716653  0.117528            0.159960     0.125494   \n",
      "265  6.550955  0.529554  0.127727            0.321716     0.053319   \n",
      "269  3.004074  0.738069  0.115849            0.133538     0.283867   \n",
      "271  2.151464  0.820767  0.002566            0.172757     0.069354   \n",
      "273  4.109515  0.683913  0.148574            0.154666     0.113067   \n",
      "277  5.060390  0.460580  0.056826            0.455256     0.075085   \n",
      "282  3.188632  0.875508  0.089693            0.021098     0.130038   \n",
      "283  2.177646  0.803591  0.009071            0.168793     0.080495   \n",
      "286  2.785200  0.339795  0.147179            0.499844     0.066903   \n",
      "288  3.459224  0.292782  0.223818            0.472176     0.038407   \n",
      "291  5.978936  0.422840  0.054848            0.490034     0.067126   \n",
      "\n",
      "     is_research_article  cited_by_clin       nih      rage  class  \n",
      "236             0.627297       0.251969  0.165354  6.532626      1  \n",
      "239             0.786913       0.346330  0.477708  6.371021      1  \n",
      "244             0.799335       0.283415  0.102169  6.751952      1  \n",
      "248             0.787241       0.336204  0.067305  9.416034      1  \n",
      "250             0.771793       0.427356  0.014529  8.436536      1  \n",
      "256             0.698127       0.328839  0.098876  6.776821      1  \n",
      "257             0.682169       0.462491  0.197710  5.959198      1  \n",
      "259             0.699693       0.490015  0.054531  8.485639      1  \n",
      "261             0.733711       0.459923  0.185969  6.541350      1  \n",
      "263             0.737484       0.517787  0.069005  7.488534      1  \n",
      "265             0.638291       0.245698  0.270129  5.439450      1  \n",
      "269             0.860081       0.682425  0.035616  8.744342      1  \n",
      "271             0.770264       0.398786  0.039445  6.725384      1  \n",
      "273             0.851545       0.539272  0.184878  9.957438      1  \n",
      "277             0.836177       0.232082  0.051195  5.507021      1  \n",
      "282             0.835741       0.531305  0.096071  8.068011      1  \n",
      "283             0.705882       0.244582  0.061920  6.488367      1  \n",
      "286             0.768142       0.206726  0.240354  6.802819      1  \n",
      "288             0.767730       0.189596  0.257265  7.077455      1  \n",
      "291             0.787722       0.212278  0.084911  5.684465      1  \n",
      "\n",
      "[20 rows x 34 columns]\n"
     ]
    }
   ],
   "source": [
    "print(len(d1[d1['rage'] >= 5.00]))\n",
    "\n",
    "print(d1['rage'].min())\n",
    "print(d0['rage'].median())\n",
    "d = dd[dd['pred_log'] > 0.75]\n",
    "print(d['rage'].median())\n",
    "print(len(d[d['rage'] < 5]))\n",
    "\n",
    "df = d1[d1['rage'] >= 5.00]\n",
    "print(df.tail(20))"
   ]
  },
  {
   "cell_type": "code",
   "execution_count": 47,
   "id": "29fb4b4d",
   "metadata": {},
   "outputs": [
    {
     "name": "stdout",
     "output_type": "stream",
     "text": [
      "118\n",
      "0.10439275034131415\n",
      "0.03158050066749413\n",
      "0.07969805140048392\n",
      "740\n"
     ]
    }
   ],
   "source": [
    "print(len(d1[d1['is_clinical'] >= 0.020]))\n",
    "print(d1['is_clinical'].mean())\n",
    "print(d0['is_clinical'].mean())\n",
    "d = dd[dd['pred_log'] > 0.75]\n",
    "print(d['is_clinical'].mean())\n",
    "print(len(d[d['is_clinical'] < 0.015]))"
   ]
  },
  {
   "cell_type": "code",
   "execution_count": 14,
   "id": "d1bb0fd4",
   "metadata": {},
   "outputs": [
    {
     "name": "stdout",
     "output_type": "stream",
     "text": [
      "0.689622332432986\n",
      "0.6070329053518465\n",
      "0.664509997248611\n"
     ]
    }
   ],
   "source": [
    "#print(len(data[data['rcr_mid'] >= 0.045]))\n",
    "print(d1['rcr_mid'].median())\n",
    "print(d0['rcr_mid'].median())\n",
    "d = data2[data2['pred_log'] > 0.75]\n",
    "print(d['rcr_mid'].median())"
   ]
  },
  {
   "cell_type": "code",
   "execution_count": 15,
   "id": "fd2c73b5",
   "metadata": {},
   "outputs": [
    {
     "name": "stdout",
     "output_type": "stream",
     "text": [
      "0.970748898678414\n",
      "0.983296130952381\n",
      "0.9515902037117066\n"
     ]
    }
   ],
   "source": [
    "print(d1['pct_top_5_anc'].median())\n",
    "print(d0['pct_top_5_anc'].median())\n",
    "d = dd[dd['pred_log'] > 0.75]\n",
    "print(d['pct_top_5_anc'].median())"
   ]
  },
  {
   "cell_type": "code",
   "execution_count": 16,
   "id": "3029a0f5",
   "metadata": {},
   "outputs": [
    {
     "name": "stdout",
     "output_type": "stream",
     "text": [
      "122\n",
      "0.0857692307692308\n",
      "0.141416102841678\n",
      "0.0205392033542977\n",
      "2071\n"
     ]
    }
   ],
   "source": [
    "print(len(d1[d1['animal'] >= 0.020]))\n",
    "print(d1['animal'].median())\n",
    "print(d0['animal'].median())\n",
    "d = dd[dd['pred_log'] > 0.75]\n",
    "print(d['animal'].median())\n",
    "print(len(d[d['animal'] < 0.020]))"
   ]
  },
  {
   "cell_type": "code",
   "execution_count": 17,
   "id": "a800b6bb",
   "metadata": {},
   "outputs": [
    {
     "name": "stdout",
     "output_type": "stream",
     "text": [
      "0.761996161228407\n",
      "0.890601325212548\n",
      "0.7658616795110285\n"
     ]
    }
   ],
   "source": [
    "print(d1['is_research_article'].median())\n",
    "print(d0['is_research_article'].median())\n",
    "d = dd[dd['pred_log'] > 0.75]\n",
    "print(d['is_research_article'].median())"
   ]
  },
  {
   "cell_type": "code",
   "execution_count": 26,
   "id": "1f3e3400",
   "metadata": {},
   "outputs": [
    {
     "name": "stdout",
     "output_type": "stream",
     "text": [
      "114\n",
      "3684.19651326051\n",
      "1902.839315958975\n",
      "789.0962646656735\n",
      "2041\n"
     ]
    }
   ],
   "source": [
    "print(len(d1[d1['wrcr'] >= 700]))\n",
    "print(d1['wrcr'].median())\n",
    "print(d0['wrcr'].median())\n",
    "d = dd[dd['pred_log'] > 0.75]\n",
    "print(d['wrcr'].median())\n",
    "print(len(d[d['wrcr'] < 700]))"
   ]
  },
  {
   "cell_type": "code",
   "execution_count": 234,
   "id": "6b59eda0",
   "metadata": {},
   "outputs": [
    {
     "name": "stdout",
     "output_type": "stream",
     "text": [
      "125\n",
      "0.183814046488378\n",
      "0.1166807091749025\n",
      "0.02828744374176035\n"
     ]
    }
   ],
   "source": [
    "print(len(d1[d1['molecular_cellular'] >= 0.03]))\n",
    "print(d1['molecular_cellular'].median())\n",
    "print(d0['molecular_cellular'].median())\n",
    "d = dd[dd['pred_log'] > 0.75]\n",
    "print(d['molecular_cellular'].median())"
   ]
  },
  {
   "cell_type": "code",
   "execution_count": 193,
   "id": "7b6942b0",
   "metadata": {},
   "outputs": [
    {
     "name": "stdout",
     "output_type": "stream",
     "text": [
      "133\n",
      "0.104443521594684\n",
      "0.070151989583813\n",
      "0.07594585871060089\n",
      "792\n"
     ]
    }
   ],
   "source": [
    "print(len(d1[d1['nih'] >= 0.025]))\n",
    "print(d1['nih'].median())\n",
    "print(d0['nih'].median())\n",
    "d = dd[dd['pred_log'] > 0.75]\n",
    "print(d['nih'].median())\n",
    "print(len(d[d['nih'] < 0.025]))"
   ]
  },
  {
   "cell_type": "code",
   "execution_count": 166,
   "id": "fa15658a",
   "metadata": {},
   "outputs": [
    {
     "name": "stdout",
     "output_type": "stream",
     "text": [
      "18\n",
      "0.0988292416525234\n",
      "0.0794700648749535\n"
     ]
    }
   ],
   "source": [
    "print(len(d1[d1['rcr_low'] == 0]))\n",
    "print(d1['rcr_low'].median())\n",
    "print(d0['rcr_low'].median())"
   ]
  },
  {
   "cell_type": "code",
   "execution_count": 320,
   "id": "4ee1b980",
   "metadata": {},
   "outputs": [
    {
     "name": "stdout",
     "output_type": "stream",
     "text": [
      "117\n",
      "109\n"
     ]
    }
   ],
   "source": [
    "\n",
    "dm = d1[d1['rcr_hi'] >= 2.55]\n",
    "print(len(dm))\n",
    "#dm = dm[dm['wrcr'] >= 500]\n",
    "dm = dm[dm['cited_by_clin'] >= 0.10]\n",
    "print(len(dm))\n",
    "    #x_test = x_test[x_test['is_clinical'] >= 0.015] ##this one\n",
    "    \n",
    "\n",
    "    #x_test = x_test[x_test['molecular_cellular'] >= 0.030] ##this one, with C = 1\n",
    "    \n",
    "    #x_test = x_test[x_test['human'] >= 0.25]\n",
    "    #x_test = x_test[x_test['rage'] >= 5]\n",
    "    #x_test = x_test[x_test['pct_is_new'] >= 0.09]"
   ]
  },
  {
   "cell_type": "code",
   "execution_count": 3,
   "id": "03b80300",
   "metadata": {},
   "outputs": [
    {
     "name": "stdout",
     "output_type": "stream",
     "text": [
      "actual len  5621\n",
      "len of xtest  246\n",
      "pct_is_new                   float64\n",
      "pct_is_newish                float64\n",
      "n_biggest_anc                float64\n",
      "pct_of_biggest_anc           float64\n",
      "n_secbiggest_anc             float64\n",
      "pct_of_secbiggest_anc        float64\n",
      "pct_of_secbiggest_anc_new    float64\n",
      "pct_top_5_anc                float64\n",
      "wrcr                         float64\n",
      "rcr_mid                      float64\n",
      "rcr_hi                       float64\n",
      "human                        float64\n",
      "animal                       float64\n",
      "molecular_cellular           float64\n",
      "is_clinical                  float64\n",
      "is_research_article          float64\n",
      "cited_by_clin                float64\n",
      "nih                          float64\n",
      "rage                         float64\n",
      "dtype: object\n",
      "hdhdhd before  223\n",
      "len of xtrain  219\n",
      "year   1978\n",
      "[1979 1991 1992 1993 1994 1996 1998 1999 2000 2003 2006 2007 2008 2009\n",
      " 2010 2011 2012 2013 2014 2015 2016 2017 2018 2019 2020]\n",
      "cv score  0.7378338328338326\n",
      "(246,)\n",
      "no of positive  224\n",
      "len of predy  200\n"
     ]
    },
    {
     "data": {
      "image/png": "[encoded data removed]",
      "text/plain": [
       "<Figure size 432x288 with 1 Axes>"
      ]
     },
     "metadata": {
      "needs_background": "light"
     },
     "output_type": "display_data"
    },
    {
     "name": "stdout",
     "output_type": "stream",
     "text": [
      "$$$  246   200\n",
      "total positive  200\n",
      "tp tn fp fn 0   0   0   0\n",
      "year  1978 positive  0\n",
      "actual len  5840\n",
      "len of xtest  272\n",
      "pct_is_new                   float64\n",
      "pct_is_newish                float64\n",
      "n_biggest_anc                  int64\n",
      "pct_of_biggest_anc           float64\n",
      "n_secbiggest_anc               int64\n",
      "pct_of_secbiggest_anc        float64\n",
      "pct_of_secbiggest_anc_new    float64\n",
      "pct_top_5_anc                float64\n",
      "wrcr                         float64\n",
      "rcr_mid                      float64\n",
      "rcr_hi                       float64\n",
      "human                        float64\n",
      "animal                       float64\n",
      "molecular_cellular           float64\n",
      "is_clinical                  float64\n",
      "is_research_article          float64\n",
      "cited_by_clin                float64\n",
      "nih                          float64\n",
      "rage                         float64\n",
      "dtype: object\n",
      "hdhdhd before  223\n",
      "len of xtrain  218\n",
      "year   1979\n",
      "[1991 1992 1993 1994 1996 1998 1999 2000 2003 2006 2007 2008 2009 2010\n",
      " 2011 2012 2013 2014 2015 2016 2017 2018 2019 2020]\n",
      "cv score  0.7582933732933733\n",
      "(272,)\n",
      "no of positive  243\n",
      "len of predy  206\n"
     ]
    },
    {
     "data": {
      "image/png": "[encoded data removed]",
      "text/plain": [
       "<Figure size 432x288 with 1 Axes>"
      ]
     },
     "metadata": {
      "needs_background": "light"
     },
     "output_type": "display_data"
    },
    {
     "name": "stdout",
     "output_type": "stream",
     "text": [
      "$$$  272   206\n",
      "total positive  206\n",
      "tp tn fp fn 0   0   0   0\n",
      "year  1979 positive  0\n",
      "actual len  6110\n",
      "len of xtest  275\n",
      "pct_is_new                   float64\n",
      "pct_is_newish                float64\n",
      "n_biggest_anc                float64\n",
      "pct_of_biggest_anc           float64\n",
      "n_secbiggest_anc             float64\n",
      "pct_of_secbiggest_anc        float64\n",
      "pct_of_secbiggest_anc_new    float64\n",
      "pct_top_5_anc                float64\n",
      "wrcr                         float64\n",
      "rcr_mid                      float64\n",
      "rcr_hi                       float64\n",
      "human                        float64\n",
      "animal                       float64\n",
      "molecular_cellular           float64\n",
      "is_clinical                  float64\n",
      "is_research_article          float64\n",
      "cited_by_clin                float64\n",
      "nih                          float64\n",
      "rage                         float64\n",
      "dtype: object\n",
      "hdhdhd before  223\n",
      "len of xtrain  219\n",
      "year   1980\n",
      "[1979 1991 1992 1993 1994 1996 1998 1999 2000 2003 2006 2007 2008 2009\n",
      " 2010 2011 2012 2013 2014 2015 2016 2017 2018 2019 2020]\n",
      "cv score  0.7378338328338326\n",
      "(275,)\n",
      "no of positive  244\n",
      "len of predy  205\n"
     ]
    },
    {
     "data": {
      "image/png": "[encoded data removed]",
      "text/plain": [
       "<Figure size 432x288 with 1 Axes>"
      ]
     },
     "metadata": {
      "needs_background": "light"
     },
     "output_type": "display_data"
    },
    {
     "name": "stdout",
     "output_type": "stream",
     "text": [
      "$$$  275   205\n",
      "total positive  205\n",
      "tp tn fp fn 0   0   0   0\n",
      "year  1980 positive  0\n",
      "actual len  6410\n",
      "len of xtest  299\n",
      "pct_is_new                   float64\n",
      "pct_is_newish                float64\n",
      "n_biggest_anc                float64\n",
      "pct_of_biggest_anc           float64\n",
      "n_secbiggest_anc             float64\n",
      "pct_of_secbiggest_anc        float64\n",
      "pct_of_secbiggest_anc_new    float64\n",
      "pct_top_5_anc                float64\n",
      "wrcr                         float64\n",
      "rcr_mid                      float64\n",
      "rcr_hi                       float64\n",
      "human                        float64\n",
      "animal                       float64\n",
      "molecular_cellular           float64\n",
      "is_clinical                  float64\n",
      "is_research_article          float64\n",
      "cited_by_clin                float64\n",
      "nih                          float64\n",
      "rage                         float64\n",
      "dtype: object\n",
      "hdhdhd before  223\n",
      "len of xtrain  219\n",
      "year   1981\n",
      "[1979 1991 1992 1993 1994 1996 1998 1999 2000 2003 2006 2007 2008 2009\n",
      " 2010 2011 2012 2013 2014 2015 2016 2017 2018 2019 2020]\n",
      "cv score  0.7378338328338326\n",
      "(299,)\n",
      "no of positive  268\n",
      "len of predy  232\n"
     ]
    },
    {
     "data": {
      "image/png": "[encoded data removed]",
      "text/plain": [
       "<Figure size 432x288 with 1 Axes>"
      ]
     },
     "metadata": {
      "needs_background": "light"
     },
     "output_type": "display_data"
    },
    {
     "name": "stdout",
     "output_type": "stream",
     "text": [
      "$$$  299   232\n",
      "total positive  232\n",
      "tp tn fp fn 0   0   0   0\n",
      "year  1981 positive  0\n",
      "actual len  6647\n",
      "len of xtest  306\n",
      "pct_is_new                   float64\n",
      "pct_is_newish                float64\n",
      "n_biggest_anc                float64\n",
      "pct_of_biggest_anc           float64\n",
      "n_secbiggest_anc             float64\n",
      "pct_of_secbiggest_anc        float64\n",
      "pct_of_secbiggest_anc_new    float64\n",
      "pct_top_5_anc                float64\n",
      "wrcr                         float64\n",
      "rcr_mid                      float64\n",
      "rcr_hi                       float64\n",
      "human                        float64\n",
      "animal                       float64\n",
      "molecular_cellular           float64\n",
      "is_clinical                  float64\n",
      "is_research_article          float64\n",
      "cited_by_clin                float64\n",
      "nih                          float64\n",
      "rage                         float64\n",
      "dtype: object\n",
      "hdhdhd before  223\n",
      "len of xtrain  219\n",
      "year   1982\n",
      "[1979 1991 1992 1993 1994 1996 1998 1999 2000 2003 2006 2007 2008 2009\n",
      " 2010 2011 2012 2013 2014 2015 2016 2017 2018 2019 2020]\n",
      "cv score  0.7378338328338326\n",
      "(306,)\n",
      "no of positive  264\n",
      "len of predy  229\n"
     ]
    },
    {
     "data": {
      "image/png": "[encoded data removed]",
      "text/plain": [
       "<Figure size 432x288 with 1 Axes>"
      ]
     },
     "metadata": {
      "needs_background": "light"
     },
     "output_type": "display_data"
    },
    {
     "name": "stdout",
     "output_type": "stream",
     "text": [
      "$$$  306   229\n",
      "total positive  229\n",
      "tp tn fp fn 0   0   0   0\n",
      "year  1982 positive  0\n",
      "actual len  6902\n",
      "len of xtest  319\n",
      "pct_is_new                   float64\n",
      "pct_is_newish                float64\n",
      "n_biggest_anc                float64\n",
      "pct_of_biggest_anc           float64\n",
      "n_secbiggest_anc             float64\n",
      "pct_of_secbiggest_anc        float64\n",
      "pct_of_secbiggest_anc_new    float64\n",
      "pct_top_5_anc                float64\n",
      "wrcr                         float64\n",
      "rcr_mid                      float64\n",
      "rcr_hi                       float64\n",
      "human                        float64\n",
      "animal                       float64\n",
      "molecular_cellular           float64\n",
      "is_clinical                  float64\n",
      "is_research_article          float64\n",
      "cited_by_clin                float64\n",
      "nih                          float64\n",
      "rage                         float64\n",
      "dtype: object\n",
      "hdhdhd before  223\n",
      "len of xtrain  219\n",
      "year   1983\n",
      "[1979 1991 1992 1993 1994 1996 1998 1999 2000 2003 2006 2007 2008 2009\n",
      " 2010 2011 2012 2013 2014 2015 2016 2017 2018 2019 2020]\n",
      "cv score  0.7378338328338326\n",
      "(319,)\n",
      "no of positive  271\n",
      "len of predy  227\n"
     ]
    },
    {
     "data": {
      "image/png": "[encoded data removed]",
      "text/plain": [
       "<Figure size 432x288 with 1 Axes>"
      ]
     },
     "metadata": {
      "needs_background": "light"
     },
     "output_type": "display_data"
    },
    {
     "name": "stdout",
     "output_type": "stream",
     "text": [
      "$$$  319   227\n",
      "total positive  227\n",
      "tp tn fp fn 0   0   0   0\n",
      "year  1983 positive  0\n",
      "actual len  7233\n",
      "len of xtest  338\n",
      "pct_is_new                   float64\n",
      "pct_is_newish                float64\n",
      "n_biggest_anc                float64\n",
      "pct_of_biggest_anc           float64\n",
      "n_secbiggest_anc             float64\n",
      "pct_of_secbiggest_anc        float64\n",
      "pct_of_secbiggest_anc_new    float64\n",
      "pct_top_5_anc                float64\n",
      "wrcr                         float64\n",
      "rcr_mid                      float64\n",
      "rcr_hi                       float64\n",
      "human                        float64\n",
      "animal                       float64\n",
      "molecular_cellular           float64\n",
      "is_clinical                  float64\n",
      "is_research_article          float64\n",
      "cited_by_clin                float64\n",
      "nih                          float64\n",
      "rage                         float64\n",
      "dtype: object\n",
      "hdhdhd before  223\n",
      "len of xtrain  219\n",
      "year   1984\n",
      "[1979 1991 1992 1993 1994 1996 1998 1999 2000 2003 2006 2007 2008 2009\n",
      " 2010 2011 2012 2013 2014 2015 2016 2017 2018 2019 2020]\n",
      "cv score  0.7378338328338326\n",
      "(338,)\n",
      "no of positive  285\n",
      "len of predy  240\n"
     ]
    },
    {
     "data": {
      "image/png": "[encoded data removed]",
      "text/plain": [
       "<Figure size 432x288 with 1 Axes>"
      ]
     },
     "metadata": {
      "needs_background": "light"
     },
     "output_type": "display_data"
    },
    {
     "name": "stdout",
     "output_type": "stream",
     "text": [
      "$$$  338   240\n",
      "total positive  240\n",
      "tp tn fp fn 0   0   0   0\n",
      "year  1984 positive  0\n",
      "actual len  7596\n",
      "len of xtest  370\n",
      "pct_is_new                   float64\n",
      "pct_is_newish                float64\n",
      "n_biggest_anc                float64\n",
      "pct_of_biggest_anc           float64\n",
      "n_secbiggest_anc             float64\n",
      "pct_of_secbiggest_anc        float64\n",
      "pct_of_secbiggest_anc_new    float64\n",
      "pct_top_5_anc                float64\n",
      "wrcr                         float64\n",
      "rcr_mid                      float64\n",
      "rcr_hi                       float64\n",
      "human                        float64\n",
      "animal                       float64\n",
      "molecular_cellular           float64\n",
      "is_clinical                  float64\n",
      "is_research_article          float64\n",
      "cited_by_clin                float64\n",
      "nih                          float64\n",
      "rage                         float64\n",
      "dtype: object\n",
      "hdhdhd before  223\n",
      "len of xtrain  219\n",
      "year   1985\n",
      "[1979 1991 1992 1993 1994 1996 1998 1999 2000 2003 2006 2007 2008 2009\n",
      " 2010 2011 2012 2013 2014 2015 2016 2017 2018 2019 2020]\n",
      "cv score  0.7378338328338326\n",
      "(370,)\n",
      "no of positive  298\n",
      "len of predy  251\n"
     ]
    },
    {
     "data": {
      "image/png": "[encoded data removed]",
      "text/plain": [
       "<Figure size 432x288 with 1 Axes>"
      ]
     },
     "metadata": {
      "needs_background": "light"
     },
     "output_type": "display_data"
    },
    {
     "name": "stdout",
     "output_type": "stream",
     "text": [
      "$$$  370   251\n",
      "total positive  251\n",
      "tp tn fp fn 0   0   0   0\n",
      "year  1985 positive  0\n",
      "actual len  7987\n",
      "len of xtest  399\n",
      "pct_is_new                   float64\n",
      "pct_is_newish                float64\n",
      "n_biggest_anc                float64\n",
      "pct_of_biggest_anc           float64\n",
      "n_secbiggest_anc             float64\n",
      "pct_of_secbiggest_anc        float64\n",
      "pct_of_secbiggest_anc_new    float64\n",
      "pct_top_5_anc                float64\n",
      "wrcr                         float64\n",
      "rcr_mid                      float64\n",
      "rcr_hi                       float64\n",
      "human                        float64\n",
      "animal                       float64\n",
      "molecular_cellular           float64\n",
      "is_clinical                  float64\n",
      "is_research_article          float64\n",
      "cited_by_clin                float64\n",
      "nih                          float64\n",
      "rage                         float64\n",
      "dtype: object\n",
      "hdhdhd before  223\n",
      "len of xtrain  219\n",
      "year   1986\n",
      "[1979 1991 1992 1993 1994 1996 1998 1999 2000 2003 2006 2007 2008 2009\n",
      " 2010 2011 2012 2013 2014 2015 2016 2017 2018 2019 2020]\n",
      "cv score  0.7378338328338326\n",
      "(399,)\n",
      "no of positive  311\n",
      "len of predy  263\n"
     ]
    },
    {
     "data": {
      "image/png": "[encoded data removed]",
      "text/plain": [
       "<Figure size 432x288 with 1 Axes>"
      ]
     },
     "metadata": {
      "needs_background": "light"
     },
     "output_type": "display_data"
    },
    {
     "name": "stdout",
     "output_type": "stream",
     "text": [
      "$$$  399   263\n",
      "total positive  263\n",
      "tp tn fp fn 0   0   0   0\n",
      "year  1986 positive  0\n",
      "actual len  8301\n",
      "len of xtest  425\n",
      "pct_is_new                   float64\n",
      "pct_is_newish                float64\n",
      "n_biggest_anc                float64\n",
      "pct_of_biggest_anc           float64\n",
      "n_secbiggest_anc             float64\n",
      "pct_of_secbiggest_anc        float64\n",
      "pct_of_secbiggest_anc_new    float64\n",
      "pct_top_5_anc                float64\n",
      "wrcr                         float64\n",
      "rcr_mid                      float64\n",
      "rcr_hi                       float64\n",
      "human                        float64\n",
      "animal                       float64\n",
      "molecular_cellular           float64\n",
      "is_clinical                  float64\n",
      "is_research_article          float64\n",
      "cited_by_clin                float64\n",
      "nih                          float64\n",
      "rage                         float64\n",
      "dtype: object\n",
      "hdhdhd before  223\n",
      "len of xtrain  219\n",
      "year   1987\n",
      "[1979 1991 1992 1993 1994 1996 1998 1999 2000 2003 2006 2007 2008 2009\n",
      " 2010 2011 2012 2013 2014 2015 2016 2017 2018 2019 2020]\n",
      "cv score  0.7378338328338326\n",
      "(425,)\n",
      "no of positive  322\n",
      "len of predy  265\n"
     ]
    },
    {
     "data": {
      "image/png": "[encoded data removed]",
      "text/plain": [
       "<Figure size 432x288 with 1 Axes>"
      ]
     },
     "metadata": {
      "needs_background": "light"
     },
     "output_type": "display_data"
    },
    {
     "name": "stdout",
     "output_type": "stream",
     "text": [
      "$$$  425   265\n",
      "total positive  265\n",
      "tp tn fp fn 0   0   0   0\n",
      "year  1987 positive  0\n",
      "actual len  8743\n",
      "len of xtest  443\n",
      "pct_is_new                   float64\n",
      "pct_is_newish                float64\n",
      "n_biggest_anc                float64\n",
      "pct_of_biggest_anc           float64\n",
      "n_secbiggest_anc             float64\n",
      "pct_of_secbiggest_anc        float64\n",
      "pct_of_secbiggest_anc_new    float64\n",
      "pct_top_5_anc                float64\n",
      "wrcr                         float64\n",
      "rcr_mid                      float64\n",
      "rcr_hi                       float64\n",
      "human                        float64\n",
      "animal                       float64\n",
      "molecular_cellular           float64\n",
      "is_clinical                  float64\n",
      "is_research_article          float64\n",
      "cited_by_clin                float64\n",
      "nih                          float64\n",
      "rage                         float64\n",
      "dtype: object\n",
      "hdhdhd before  223\n",
      "len of xtrain  219\n",
      "year   1988\n",
      "[1979 1991 1992 1993 1994 1996 1998 1999 2000 2003 2006 2007 2008 2009\n",
      " 2010 2011 2012 2013 2014 2015 2016 2017 2018 2019 2020]\n",
      "cv score  0.7378338328338326\n",
      "(443,)\n",
      "no of positive  329\n",
      "len of predy  253\n"
     ]
    },
    {
     "data": {
      "image/png": "[encoded data removed]",
      "text/plain": [
       "<Figure size 432x288 with 1 Axes>"
      ]
     },
     "metadata": {
      "needs_background": "light"
     },
     "output_type": "display_data"
    },
    {
     "name": "stdout",
     "output_type": "stream",
     "text": [
      "$$$  443   253\n",
      "total positive  253\n",
      "tp tn fp fn 0   0   0   0\n",
      "year  1988 positive  0\n",
      "actual len  9089\n",
      "len of xtest  463\n",
      "pct_is_new                   float64\n",
      "pct_is_newish                float64\n",
      "n_biggest_anc                float64\n",
      "pct_of_biggest_anc           float64\n",
      "n_secbiggest_anc             float64\n",
      "pct_of_secbiggest_anc        float64\n",
      "pct_of_secbiggest_anc_new    float64\n",
      "pct_top_5_anc                float64\n",
      "wrcr                         float64\n",
      "rcr_mid                      float64\n",
      "rcr_hi                       float64\n",
      "human                        float64\n",
      "animal                       float64\n",
      "molecular_cellular           float64\n",
      "is_clinical                  float64\n",
      "is_research_article          float64\n",
      "cited_by_clin                float64\n",
      "nih                          float64\n",
      "rage                         float64\n",
      "dtype: object\n",
      "hdhdhd before  223\n",
      "len of xtrain  219\n",
      "year   1989\n",
      "[1979 1991 1992 1993 1994 1996 1998 1999 2000 2003 2006 2007 2008 2009\n",
      " 2010 2011 2012 2013 2014 2015 2016 2017 2018 2019 2020]\n",
      "cv score  0.7378338328338326\n",
      "(463,)\n",
      "no of positive  333\n",
      "len of predy  251\n"
     ]
    },
    {
     "data": {
      "image/png": "[encoded data removed]",
      "text/plain": [
       "<Figure size 432x288 with 1 Axes>"
      ]
     },
     "metadata": {
      "needs_background": "light"
     },
     "output_type": "display_data"
    },
    {
     "name": "stdout",
     "output_type": "stream",
     "text": [
      "$$$  463   251\n",
      "total positive  251\n",
      "tp tn fp fn 0   0   0   0\n",
      "year  1989 positive  0\n",
      "actual len  9467\n",
      "len of xtest  490\n",
      "pct_is_new                   float64\n",
      "pct_is_newish                float64\n",
      "n_biggest_anc                float64\n",
      "pct_of_biggest_anc           float64\n",
      "n_secbiggest_anc             float64\n",
      "pct_of_secbiggest_anc        float64\n",
      "pct_of_secbiggest_anc_new    float64\n",
      "pct_top_5_anc                float64\n",
      "wrcr                         float64\n",
      "rcr_mid                      float64\n",
      "rcr_hi                       float64\n",
      "human                        float64\n",
      "animal                       float64\n",
      "molecular_cellular           float64\n",
      "is_clinical                  float64\n",
      "is_research_article          float64\n",
      "cited_by_clin                float64\n",
      "nih                          float64\n",
      "rage                         float64\n",
      "dtype: object\n",
      "hdhdhd before  223\n",
      "len of xtrain  219\n",
      "year   1990\n",
      "[1979 1991 1992 1993 1994 1996 1998 1999 2000 2003 2006 2007 2008 2009\n",
      " 2010 2011 2012 2013 2014 2015 2016 2017 2018 2019 2020]\n",
      "cv score  0.7378338328338326\n",
      "(490,)\n",
      "no of positive  347\n",
      "len of predy  269\n"
     ]
    },
    {
     "data": {
      "image/png": "[encoded data removed]",
      "text/plain": [
       "<Figure size 432x288 with 1 Axes>"
      ]
     },
     "metadata": {
      "needs_background": "light"
     },
     "output_type": "display_data"
    },
    {
     "name": "stdout",
     "output_type": "stream",
     "text": [
      "$$$  490   269\n",
      "total positive  269\n",
      "tp tn fp fn 0   0   0   0\n",
      "year  1990 positive  0\n",
      "actual len  9825\n",
      "len of xtest  542\n",
      "pct_is_new                   float64\n",
      "pct_is_newish                float64\n",
      "n_biggest_anc                float64\n",
      "pct_of_biggest_anc           float64\n",
      "n_secbiggest_anc             float64\n",
      "pct_of_secbiggest_anc        float64\n",
      "pct_of_secbiggest_anc_new    float64\n",
      "pct_top_5_anc                float64\n",
      "wrcr                         float64\n",
      "rcr_mid                      float64\n",
      "rcr_hi                       float64\n",
      "human                        float64\n",
      "animal                       float64\n",
      "molecular_cellular           float64\n",
      "is_clinical                  float64\n",
      "is_research_article          float64\n",
      "cited_by_clin                float64\n",
      "nih                          float64\n",
      "rage                         float64\n",
      "dtype: object\n",
      "hdhdhd before  223\n",
      "len of xtrain  217\n",
      "year   1991\n",
      "[1979 1992 1993 1994 1996 1998 1999 2000 2003 2006 2007 2008 2009 2010\n",
      " 2011 2012 2013 2014 2015 2016 2017 2018 2019 2020]\n",
      "cv score  0.7362970362970362\n",
      "(542,)\n",
      "no of positive  380\n",
      "len of predy  287\n"
     ]
    },
    {
     "data": {
      "image/png": "[encoded data removed]",
      "text/plain": [
       "<Figure size 432x288 with 1 Axes>"
      ]
     },
     "metadata": {
      "needs_background": "light"
     },
     "output_type": "display_data"
    },
    {
     "name": "stdout",
     "output_type": "stream",
     "text": [
      "$$$  542   287\n",
      "total positive  287\n",
      "tp tn fp fn 0   0   0   0\n",
      "year  1991 positive  0\n",
      "actual len  10202\n",
      "len of xtest  569\n",
      "pct_is_new                   float64\n",
      "pct_is_newish                float64\n",
      "n_biggest_anc                float64\n",
      "pct_of_biggest_anc           float64\n",
      "n_secbiggest_anc             float64\n",
      "pct_of_secbiggest_anc        float64\n",
      "pct_of_secbiggest_anc_new    float64\n",
      "pct_top_5_anc                float64\n",
      "wrcr                         float64\n",
      "rcr_mid                      float64\n",
      "rcr_hi                       float64\n",
      "human                        float64\n",
      "animal                       float64\n",
      "molecular_cellular           float64\n",
      "is_clinical                  float64\n",
      "is_research_article          float64\n",
      "cited_by_clin                float64\n",
      "nih                          float64\n",
      "rage                         float64\n",
      "dtype: object\n",
      "hdhdhd before  223\n",
      "len of xtrain  217\n",
      "year   1992\n",
      "[1979 1991 1993 1994 1996 1998 1999 2000 2003 2006 2007 2008 2009 2010\n",
      " 2011 2012 2013 2014 2015 2016 2017 2018 2019 2020]\n",
      "cv score  0.7506415806415806\n",
      "(569,)\n",
      "no of positive  377\n",
      "len of predy  294\n"
     ]
    },
    {
     "data": {
      "image/png": "[encoded data removed]",
      "text/plain": [
       "<Figure size 432x288 with 1 Axes>"
      ]
     },
     "metadata": {
      "needs_background": "light"
     },
     "output_type": "display_data"
    },
    {
     "name": "stdout",
     "output_type": "stream",
     "text": [
      "$$$  569   294\n",
      "total positive  294\n",
      "tp tn fp fn 0   0   0   0\n",
      "year  1992 positive  0\n",
      "actual len  10609\n",
      "len of xtest  599\n",
      "pct_is_new                   float64\n",
      "pct_is_newish                float64\n",
      "n_biggest_anc                float64\n",
      "pct_of_biggest_anc           float64\n",
      "n_secbiggest_anc             float64\n",
      "pct_of_secbiggest_anc        float64\n",
      "pct_of_secbiggest_anc_new    float64\n",
      "pct_top_5_anc                float64\n",
      "wrcr                         float64\n",
      "rcr_mid                      float64\n",
      "rcr_hi                       float64\n",
      "human                        float64\n",
      "animal                       float64\n",
      "molecular_cellular           float64\n",
      "is_clinical                  float64\n",
      "is_research_article          float64\n",
      "cited_by_clin                float64\n",
      "nih                          float64\n",
      "rage                         float64\n",
      "dtype: object\n",
      "hdhdhd before  223\n",
      "len of xtrain  217\n",
      "year   1993\n",
      "[1979 1991 1992 1994 1996 1998 1999 2000 2003 2006 2007 2008 2009 2010\n",
      " 2011 2012 2013 2014 2015 2016 2017 2018 2019 2020]\n",
      "cv score  0.711936396936397\n",
      "(599,)\n",
      "no of positive  327\n",
      "len of predy  228\n"
     ]
    },
    {
     "data": {
      "image/png": "[encoded data removed]",
      "text/plain": [
       "<Figure size 432x288 with 1 Axes>"
      ]
     },
     "metadata": {
      "needs_background": "light"
     },
     "output_type": "display_data"
    },
    {
     "name": "stdout",
     "output_type": "stream",
     "text": [
      "$$$  599   228\n",
      "total positive  228\n",
      "tp tn fp fn 1   0   0   0\n",
      "year  1993 positive  1\n",
      "actual len  10974\n",
      "len of xtest  657\n",
      "pct_is_new                   float64\n",
      "pct_is_newish                float64\n",
      "n_biggest_anc                float64\n",
      "pct_of_biggest_anc           float64\n",
      "n_secbiggest_anc             float64\n",
      "pct_of_secbiggest_anc        float64\n",
      "pct_of_secbiggest_anc_new    float64\n",
      "pct_top_5_anc                float64\n",
      "wrcr                         float64\n",
      "rcr_mid                      float64\n",
      "rcr_hi                       float64\n",
      "human                        float64\n",
      "animal                       float64\n",
      "molecular_cellular           float64\n",
      "is_clinical                  float64\n",
      "is_research_article          float64\n",
      "cited_by_clin                float64\n",
      "nih                          float64\n",
      "rage                         float64\n",
      "dtype: object\n",
      "hdhdhd before  223\n",
      "len of xtrain  218\n",
      "year   1994\n",
      "[1979 1991 1992 1993 1996 1998 1999 2000 2003 2006 2007 2008 2009 2010\n",
      " 2011 2012 2013 2014 2015 2016 2017 2018 2019 2020]\n",
      "cv score  0.7693056943056942\n",
      "(657,)\n",
      "no of positive  432\n",
      "len of predy  328\n"
     ]
    },
    {
     "data": {
      "image/png": "[encoded data removed]",
      "text/plain": [
       "<Figure size 432x288 with 1 Axes>"
      ]
     },
     "metadata": {
      "needs_background": "light"
     },
     "output_type": "display_data"
    },
    {
     "name": "stdout",
     "output_type": "stream",
     "text": [
      "$$$  657   328\n",
      "total positive  328\n",
      "tp tn fp fn 0   0   0   0\n",
      "year  1994 positive  0\n",
      "actual len  11393\n",
      "len of xtest  730\n",
      "pct_is_new                   float64\n",
      "pct_is_newish                float64\n",
      "n_biggest_anc                float64\n",
      "pct_of_biggest_anc           float64\n",
      "n_secbiggest_anc             float64\n",
      "pct_of_secbiggest_anc        float64\n",
      "pct_of_secbiggest_anc_new    float64\n",
      "pct_top_5_anc                float64\n",
      "wrcr                         float64\n",
      "rcr_mid                      float64\n",
      "rcr_hi                       float64\n",
      "human                        float64\n",
      "animal                       float64\n",
      "molecular_cellular           float64\n",
      "is_clinical                  float64\n",
      "is_research_article          float64\n",
      "cited_by_clin                float64\n",
      "nih                          float64\n",
      "rage                         float64\n",
      "dtype: object\n",
      "hdhdhd before  223\n",
      "len of xtrain  219\n",
      "year   1995\n",
      "[1979 1991 1992 1993 1994 1996 1998 1999 2000 2003 2006 2007 2008 2009\n",
      " 2010 2011 2012 2013 2014 2015 2016 2017 2018 2019 2020]\n",
      "cv score  0.7378338328338326\n",
      "(730,)\n",
      "no of positive  437\n",
      "len of predy  339\n"
     ]
    },
    {
     "data": {
      "image/png": "[encoded data removed]",
      "text/plain": [
       "<Figure size 432x288 with 1 Axes>"
      ]
     },
     "metadata": {
      "needs_background": "light"
     },
     "output_type": "display_data"
    },
    {
     "name": "stdout",
     "output_type": "stream",
     "text": [
      "$$$  730   339\n",
      "total positive  339\n",
      "tp tn fp fn 0   0   0   0\n",
      "year  1995 positive  0\n",
      "actual len  11780\n",
      "len of xtest  754\n",
      "pct_is_new                   float64\n",
      "pct_is_newish                float64\n",
      "n_biggest_anc                float64\n",
      "pct_of_biggest_anc           float64\n",
      "n_secbiggest_anc             float64\n",
      "pct_of_secbiggest_anc        float64\n",
      "pct_of_secbiggest_anc_new    float64\n",
      "pct_top_5_anc                float64\n",
      "wrcr                         float64\n",
      "rcr_mid                      float64\n",
      "rcr_hi                       float64\n",
      "human                        float64\n",
      "animal                       float64\n",
      "molecular_cellular           float64\n",
      "is_clinical                  float64\n",
      "is_research_article          float64\n",
      "cited_by_clin                float64\n",
      "nih                          float64\n",
      "rage                         float64\n",
      "dtype: object\n",
      "hdhdhd before  223\n",
      "len of xtrain  217\n",
      "year   1996\n",
      "[1979 1991 1992 1993 1994 1998 1999 2000 2003 2006 2007 2008 2009 2010\n",
      " 2011 2012 2013 2014 2015 2016 2017 2018 2019 2020]\n",
      "cv score  0.7426434676434676\n",
      "(754,)\n",
      "no of positive  456\n",
      "len of predy  341\n"
     ]
    },
    {
     "data": {
      "image/png": "[encoded data removed]",
      "text/plain": [
       "<Figure size 432x288 with 1 Axes>"
      ]
     },
     "metadata": {
      "needs_background": "light"
     },
     "output_type": "display_data"
    },
    {
     "name": "stdout",
     "output_type": "stream",
     "text": [
      "$$$  754   341\n",
      "total positive  341\n",
      "tp tn fp fn 1   0   0   0\n",
      "year  1996 positive  1\n",
      "actual len  12157\n",
      "len of xtest  793\n",
      "pct_is_new                   float64\n",
      "pct_is_newish                float64\n",
      "n_biggest_anc                float64\n",
      "pct_of_biggest_anc           float64\n",
      "n_secbiggest_anc             float64\n",
      "pct_of_secbiggest_anc        float64\n",
      "pct_of_secbiggest_anc_new    float64\n",
      "pct_top_5_anc                float64\n",
      "wrcr                         float64\n",
      "rcr_mid                      float64\n",
      "rcr_hi                       float64\n",
      "human                        float64\n",
      "animal                       float64\n",
      "molecular_cellular           float64\n",
      "is_clinical                  float64\n",
      "is_research_article          float64\n",
      "cited_by_clin                float64\n",
      "nih                          float64\n",
      "rage                         float64\n",
      "dtype: object\n",
      "hdhdhd before  223\n",
      "len of xtrain  219\n",
      "year   1997\n",
      "[1979 1991 1992 1993 1994 1996 1998 1999 2000 2003 2006 2007 2008 2009\n",
      " 2010 2011 2012 2013 2014 2015 2016 2017 2018 2019 2020]\n",
      "cv score  0.7378338328338326\n",
      "(793,)\n",
      "no of positive  475\n",
      "len of predy  355\n"
     ]
    },
    {
     "data": {
      "image/png": "[encoded data removed]",
      "text/plain": [
       "<Figure size 432x288 with 1 Axes>"
      ]
     },
     "metadata": {
      "needs_background": "light"
     },
     "output_type": "display_data"
    },
    {
     "name": "stdout",
     "output_type": "stream",
     "text": [
      "$$$  793   355\n",
      "total positive  355\n",
      "tp tn fp fn 0   0   0   0\n",
      "year  1997 positive  0\n",
      "actual len  12606\n",
      "len of xtest  819\n",
      "pct_is_new                   float64\n",
      "pct_is_newish                float64\n",
      "n_biggest_anc                float64\n",
      "pct_of_biggest_anc           float64\n",
      "n_secbiggest_anc             float64\n",
      "pct_of_secbiggest_anc        float64\n",
      "pct_of_secbiggest_anc_new    float64\n",
      "pct_top_5_anc                float64\n",
      "wrcr                         float64\n",
      "rcr_mid                      float64\n",
      "rcr_hi                       float64\n",
      "human                        float64\n",
      "animal                       float64\n",
      "molecular_cellular           float64\n",
      "is_clinical                  float64\n",
      "is_research_article          float64\n",
      "cited_by_clin                float64\n",
      "nih                          float64\n",
      "rage                         float64\n",
      "dtype: object\n",
      "hdhdhd before  223\n",
      "len of xtrain  213\n",
      "year   1998\n",
      "[1979 1991 1992 1993 1994 1996 1999 2000 2003 2006 2007 2008 2009 2010\n",
      " 2011 2012 2013 2014 2015 2016 2017 2018 2019 2020]\n",
      "cv score  0.7500108225108224\n",
      "(819,)\n",
      "no of positive  480\n",
      "len of predy  354\n"
     ]
    },
    {
     "data": {
      "image/png": "[encoded data removed]",
      "text/plain": [
       "<Figure size 432x288 with 1 Axes>"
      ]
     },
     "metadata": {
      "needs_background": "light"
     },
     "output_type": "display_data"
    },
    {
     "name": "stdout",
     "output_type": "stream",
     "text": [
      "$$$  819   354\n",
      "total positive  354\n",
      "tp tn fp fn 2   0   0   1\n",
      "year  1998 positive  3\n",
      "actual len  13116\n",
      "len of xtest  846\n",
      "pct_is_new                   float64\n",
      "pct_is_newish                float64\n",
      "n_biggest_anc                float64\n",
      "pct_of_biggest_anc           float64\n",
      "n_secbiggest_anc             float64\n",
      "pct_of_secbiggest_anc        float64\n",
      "pct_of_secbiggest_anc_new    float64\n",
      "pct_top_5_anc                float64\n",
      "wrcr                         float64\n",
      "rcr_mid                      float64\n",
      "rcr_hi                       float64\n",
      "human                        float64\n",
      "animal                       float64\n",
      "molecular_cellular           float64\n",
      "is_clinical                  float64\n",
      "is_research_article          float64\n",
      "cited_by_clin                float64\n",
      "nih                          float64\n",
      "rage                         float64\n",
      "dtype: object\n",
      "hdhdhd before  223\n",
      "len of xtrain  215\n",
      "year   1999\n",
      "[1979 1991 1992 1993 1994 1996 1998 2000 2003 2006 2007 2008 2009 2010\n",
      " 2011 2012 2013 2014 2015 2016 2017 2018 2019 2020]\n",
      "cv score  0.7285553335553334\n",
      "(846,)\n",
      "no of positive  386\n",
      "len of predy  273\n"
     ]
    },
    {
     "data": {
      "image/png": "[encoded data removed]",
      "text/plain": [
       "<Figure size 432x288 with 1 Axes>"
      ]
     },
     "metadata": {
      "needs_background": "light"
     },
     "output_type": "display_data"
    },
    {
     "name": "stdout",
     "output_type": "stream",
     "text": [
      "$$$  846   273\n",
      "total positive  273\n",
      "tp tn fp fn 0   1   0   1\n",
      "year  1999 positive  1\n",
      "actual len  13664\n",
      "len of xtest  879\n",
      "pct_is_new                   float64\n",
      "pct_is_newish                float64\n",
      "n_biggest_anc                float64\n",
      "pct_of_biggest_anc           float64\n",
      "n_secbiggest_anc             float64\n",
      "pct_of_secbiggest_anc        float64\n",
      "pct_of_secbiggest_anc_new    float64\n",
      "pct_top_5_anc                float64\n",
      "wrcr                         float64\n",
      "rcr_mid                      float64\n",
      "rcr_hi                       float64\n",
      "human                        float64\n",
      "animal                       float64\n",
      "molecular_cellular           float64\n",
      "is_clinical                  float64\n",
      "is_research_article          float64\n",
      "cited_by_clin                float64\n",
      "nih                          float64\n",
      "rage                         float64\n",
      "dtype: object\n",
      "hdhdhd before  223\n",
      "len of xtrain  213\n",
      "year   2000\n",
      "[1979 1991 1992 1993 1994 1996 1998 1999 2003 2006 2007 2008 2009 2010\n",
      " 2011 2012 2013 2014 2015 2016 2017 2018 2019 2020]\n",
      "cv score  0.7500885225885225\n",
      "(879,)\n",
      "no of positive  473\n",
      "len of predy  359\n"
     ]
    },
    {
     "data": {
      "image/png": "[encoded data removed]",
      "text/plain": [
       "<Figure size 432x288 with 1 Axes>"
      ]
     },
     "metadata": {
      "needs_background": "light"
     },
     "output_type": "display_data"
    },
    {
     "name": "stdout",
     "output_type": "stream",
     "text": [
      "$$$  879   359\n",
      "total positive  359\n",
      "tp tn fp fn 2   0   1   1\n",
      "year  2000 positive  3\n",
      "actual len  14240\n",
      "len of xtest  891\n",
      "pct_is_new                   float64\n",
      "pct_is_newish                float64\n",
      "n_biggest_anc                float64\n",
      "pct_of_biggest_anc           float64\n",
      "n_secbiggest_anc             float64\n",
      "pct_of_secbiggest_anc        float64\n",
      "pct_of_secbiggest_anc_new    float64\n",
      "pct_top_5_anc                float64\n",
      "wrcr                         float64\n",
      "rcr_mid                      float64\n",
      "rcr_hi                       float64\n",
      "human                        float64\n",
      "animal                       float64\n",
      "molecular_cellular           float64\n",
      "is_clinical                  float64\n",
      "is_research_article          float64\n",
      "cited_by_clin                float64\n",
      "nih                          float64\n",
      "rage                         float64\n",
      "dtype: object\n",
      "hdhdhd before  223\n",
      "len of xtrain  219\n",
      "year   2001\n",
      "[1979 1991 1992 1993 1994 1996 1998 1999 2000 2003 2006 2007 2008 2009\n",
      " 2010 2011 2012 2013 2014 2015 2016 2017 2018 2019 2020]\n",
      "cv score  0.7378338328338326\n",
      "(891,)\n",
      "no of positive  460\n",
      "len of predy  341\n"
     ]
    },
    {
     "data": {
      "image/png": "[encoded data removed]",
      "text/plain": [
       "<Figure size 432x288 with 1 Axes>"
      ]
     },
     "metadata": {
      "needs_background": "light"
     },
     "output_type": "display_data"
    },
    {
     "name": "stdout",
     "output_type": "stream",
     "text": [
      "$$$  891   341\n",
      "total positive  341\n",
      "tp tn fp fn 0   0   0   0\n",
      "year  2001 positive  0\n",
      "actual len  14757\n",
      "len of xtest  916\n",
      "pct_is_new                   float64\n",
      "pct_is_newish                float64\n",
      "n_biggest_anc                float64\n",
      "pct_of_biggest_anc           float64\n",
      "n_secbiggest_anc             float64\n",
      "pct_of_secbiggest_anc        float64\n",
      "pct_of_secbiggest_anc_new    float64\n",
      "pct_top_5_anc                float64\n",
      "wrcr                         float64\n",
      "rcr_mid                      float64\n",
      "rcr_hi                       float64\n",
      "human                        float64\n",
      "animal                       float64\n",
      "molecular_cellular           float64\n",
      "is_clinical                  float64\n",
      "is_research_article          float64\n",
      "cited_by_clin                float64\n",
      "nih                          float64\n",
      "rage                         float64\n",
      "dtype: object\n",
      "hdhdhd before  223\n",
      "len of xtrain  219\n",
      "year   2002\n",
      "[1979 1991 1992 1993 1994 1996 1998 1999 2000 2003 2006 2007 2008 2009\n",
      " 2010 2011 2012 2013 2014 2015 2016 2017 2018 2019 2020]\n",
      "cv score  0.7378338328338326\n",
      "(916,)\n",
      "no of positive  448\n",
      "len of predy  319\n"
     ]
    },
    {
     "data": {
      "image/png": "[encoded data removed]",
      "text/plain": [
       "<Figure size 432x288 with 1 Axes>"
      ]
     },
     "metadata": {
      "needs_background": "light"
     },
     "output_type": "display_data"
    },
    {
     "name": "stdout",
     "output_type": "stream",
     "text": [
      "$$$  916   319\n",
      "total positive  319\n",
      "tp tn fp fn 0   0   0   0\n",
      "year  2002 positive  0\n",
      "actual len  15262\n",
      "len of xtest  919\n",
      "pct_is_new                   float64\n",
      "pct_is_newish                float64\n",
      "n_biggest_anc                  int64\n",
      "pct_of_biggest_anc           float64\n",
      "n_secbiggest_anc               int64\n",
      "pct_of_secbiggest_anc        float64\n",
      "pct_of_secbiggest_anc_new    float64\n",
      "pct_top_5_anc                float64\n",
      "wrcr                         float64\n",
      "rcr_mid                      float64\n",
      "rcr_hi                       float64\n",
      "human                        float64\n",
      "animal                       float64\n",
      "molecular_cellular           float64\n",
      "is_clinical                  float64\n",
      "is_research_article          float64\n",
      "cited_by_clin                float64\n",
      "nih                          float64\n",
      "rage                         float64\n",
      "dtype: object\n",
      "hdhdhd before  223\n",
      "len of xtrain  217\n",
      "year   2003\n",
      "[1979 1991 1992 1993 1994 1996 1998 1999 2000 2006 2007 2008 2009 2010\n",
      " 2011 2012 2013 2014 2015 2016 2017 2018 2019 2020]\n",
      "cv score  0.7182883782883781\n",
      "(919,)\n",
      "no of positive  429\n",
      "len of predy  299\n"
     ]
    },
    {
     "data": {
      "image/png": "[encoded data removed]",
      "text/plain": [
       "<Figure size 432x288 with 1 Axes>"
      ]
     },
     "metadata": {
      "needs_background": "light"
     },
     "output_type": "display_data"
    },
    {
     "name": "stdout",
     "output_type": "stream",
     "text": [
      "$$$  919   299\n",
      "total positive  299\n",
      "tp tn fp fn 1   0   0   0\n",
      "year  2003 positive  1\n",
      "actual len  15787\n",
      "len of xtest  948\n",
      "pct_is_new                   float64\n",
      "pct_is_newish                float64\n",
      "n_biggest_anc                float64\n",
      "pct_of_biggest_anc           float64\n",
      "n_secbiggest_anc             float64\n",
      "pct_of_secbiggest_anc        float64\n",
      "pct_of_secbiggest_anc_new    float64\n",
      "pct_top_5_anc                float64\n",
      "wrcr                         float64\n",
      "rcr_mid                      float64\n",
      "rcr_hi                       float64\n",
      "human                        float64\n",
      "animal                       float64\n",
      "molecular_cellular           float64\n",
      "is_clinical                  float64\n",
      "is_research_article          float64\n",
      "cited_by_clin                float64\n",
      "nih                          float64\n",
      "rage                         float64\n",
      "dtype: object\n",
      "hdhdhd before  223\n",
      "len of xtrain  219\n",
      "year   2004\n",
      "[1979 1991 1992 1993 1994 1996 1998 1999 2000 2003 2006 2007 2008 2009\n",
      " 2010 2011 2012 2013 2014 2015 2016 2017 2018 2019 2020]\n",
      "cv score  0.7378338328338326\n",
      "(948,)\n",
      "no of positive  417\n",
      "len of predy  288\n"
     ]
    },
    {
     "data": {
      "image/png": "[encoded data removed]",
      "text/plain": [
       "<Figure size 432x288 with 1 Axes>"
      ]
     },
     "metadata": {
      "needs_background": "light"
     },
     "output_type": "display_data"
    },
    {
     "name": "stdout",
     "output_type": "stream",
     "text": [
      "$$$  948   288\n",
      "total positive  288\n",
      "tp tn fp fn 0   0   0   0\n",
      "year  2004 positive  0\n",
      "actual len  16382\n",
      "len of xtest  953\n",
      "pct_is_new                   float64\n",
      "pct_is_newish                float64\n",
      "n_biggest_anc                float64\n",
      "pct_of_biggest_anc           float64\n",
      "n_secbiggest_anc             float64\n",
      "pct_of_secbiggest_anc        float64\n",
      "pct_of_secbiggest_anc_new    float64\n",
      "pct_top_5_anc                float64\n",
      "wrcr                         float64\n",
      "rcr_mid                      float64\n",
      "rcr_hi                       float64\n",
      "human                        float64\n",
      "animal                       float64\n",
      "molecular_cellular           float64\n",
      "is_clinical                  float64\n",
      "is_research_article          float64\n",
      "cited_by_clin                float64\n",
      "nih                          float64\n",
      "rage                         float64\n",
      "dtype: object\n",
      "hdhdhd before  223\n",
      "len of xtrain  219\n",
      "year   2005\n",
      "[1979 1991 1992 1993 1994 1996 1998 1999 2000 2003 2006 2007 2008 2009\n",
      " 2010 2011 2012 2013 2014 2015 2016 2017 2018 2019 2020]\n",
      "cv score  0.7378338328338326\n",
      "(953,)\n",
      "no of positive  400\n",
      "len of predy  273\n"
     ]
    },
    {
     "data": {
      "image/png": "[encoded data removed]",
      "text/plain": [
       "<Figure size 432x288 with 1 Axes>"
      ]
     },
     "metadata": {
      "needs_background": "light"
     },
     "output_type": "display_data"
    },
    {
     "name": "stdout",
     "output_type": "stream",
     "text": [
      "$$$  953   273\n",
      "total positive  273\n",
      "tp tn fp fn 0   0   0   0\n",
      "year  2005 positive  0\n",
      "actual len  17084\n",
      "len of xtest  966\n",
      "pct_is_new                   float64\n",
      "pct_is_newish                float64\n",
      "n_biggest_anc                float64\n",
      "pct_of_biggest_anc           float64\n",
      "n_secbiggest_anc             float64\n",
      "pct_of_secbiggest_anc        float64\n",
      "pct_of_secbiggest_anc_new    float64\n",
      "pct_top_5_anc                float64\n",
      "wrcr                         float64\n",
      "rcr_mid                      float64\n",
      "rcr_hi                       float64\n",
      "human                        float64\n",
      "animal                       float64\n",
      "molecular_cellular           float64\n",
      "is_clinical                  float64\n",
      "is_research_article          float64\n",
      "cited_by_clin                float64\n",
      "nih                          float64\n",
      "rage                         float64\n",
      "dtype: object\n",
      "hdhdhd before  223\n",
      "len of xtrain  218\n",
      "year   2006\n",
      "[1979 1991 1992 1993 1994 1996 1998 1999 2000 2003 2007 2008 2009 2010\n",
      " 2011 2012 2013 2014 2015 2016 2017 2018 2019 2020]\n",
      "cv score  0.7397549672549671\n",
      "(966,)\n",
      "no of positive  396\n",
      "len of predy  261\n"
     ]
    },
    {
     "data": {
      "image/png": "[encoded data removed]",
      "text/plain": [
       "<Figure size 432x288 with 1 Axes>"
      ]
     },
     "metadata": {
      "needs_background": "light"
     },
     "output_type": "display_data"
    },
    {
     "name": "stdout",
     "output_type": "stream",
     "text": [
      "$$$  966   261\n",
      "total positive  261\n",
      "tp tn fp fn 1   0   0   0\n",
      "year  2006 positive  1\n",
      "actual len  17653\n",
      "len of xtest  986\n",
      "pct_is_new                   float64\n",
      "pct_is_newish                float64\n",
      "n_biggest_anc                float64\n",
      "pct_of_biggest_anc           float64\n",
      "n_secbiggest_anc             float64\n",
      "pct_of_secbiggest_anc        float64\n",
      "pct_of_secbiggest_anc_new    float64\n",
      "pct_top_5_anc                float64\n",
      "wrcr                         float64\n",
      "rcr_mid                      float64\n",
      "rcr_hi                       float64\n",
      "human                        float64\n",
      "animal                       float64\n",
      "molecular_cellular           float64\n",
      "is_clinical                  float64\n",
      "is_research_article          float64\n",
      "cited_by_clin                float64\n",
      "nih                          float64\n",
      "rage                         float64\n",
      "dtype: object\n",
      "hdhdhd before  223\n",
      "len of xtrain  213\n",
      "year   2007\n",
      "[1979 1991 1992 1993 1994 1996 1998 1999 2000 2003 2006 2008 2009 2010\n",
      " 2011 2012 2013 2014 2015 2016 2017 2018 2019 2020]\n",
      "cv score  0.7036960261960261\n",
      "(986,)\n",
      "no of positive  392\n",
      "len of predy  262\n"
     ]
    },
    {
     "data": {
      "image/png": "[encoded data removed]",
      "text/plain": [
       "<Figure size 432x288 with 1 Axes>"
      ]
     },
     "metadata": {
      "needs_background": "light"
     },
     "output_type": "display_data"
    },
    {
     "name": "stdout",
     "output_type": "stream",
     "text": [
      "$$$  986   262\n",
      "total positive  262\n",
      "tp tn fp fn 3   0   1   0\n",
      "year  2007 positive  3\n",
      "actual len  18303\n",
      "len of xtest  1001\n",
      "pct_is_new                   float64\n",
      "pct_is_newish                float64\n",
      "n_biggest_anc                float64\n",
      "pct_of_biggest_anc           float64\n",
      "n_secbiggest_anc             float64\n",
      "pct_of_secbiggest_anc        float64\n",
      "pct_of_secbiggest_anc_new    float64\n",
      "pct_top_5_anc                float64\n",
      "wrcr                         float64\n",
      "rcr_mid                      float64\n",
      "rcr_hi                       float64\n",
      "human                        float64\n",
      "animal                       float64\n",
      "molecular_cellular           float64\n",
      "is_clinical                  float64\n",
      "is_research_article          float64\n",
      "cited_by_clin                float64\n",
      "nih                          float64\n",
      "rage                         float64\n",
      "dtype: object\n",
      "hdhdhd before  223\n",
      "len of xtrain  211\n",
      "year   2008\n",
      "[1979 1991 1992 1993 1994 1996 1998 1999 2000 2003 2006 2007 2009 2010\n",
      " 2011 2012 2013 2014 2015 2016 2017 2018 2019 2020]\n",
      "cv score  0.7492968142968143\n",
      "(1001,)\n",
      "no of positive  393\n",
      "len of predy  266\n"
     ]
    },
    {
     "data": {
      "image/png": "[encoded data removed]",
      "text/plain": [
       "<Figure size 432x288 with 1 Axes>"
      ]
     },
     "metadata": {
      "needs_background": "light"
     },
     "output_type": "display_data"
    },
    {
     "name": "stdout",
     "output_type": "stream",
     "text": [
      "$$$  1001   266\n",
      "total positive  266\n",
      "tp tn fp fn 4   0   2   0\n",
      "year  2008 positive  4\n",
      "actual len  18833\n",
      "len of xtest  1038\n",
      "pct_is_new                   float64\n",
      "pct_is_newish                float64\n",
      "n_biggest_anc                float64\n",
      "pct_of_biggest_anc           float64\n",
      "n_secbiggest_anc             float64\n",
      "pct_of_secbiggest_anc        float64\n",
      "pct_of_secbiggest_anc_new    float64\n",
      "pct_top_5_anc                float64\n",
      "wrcr                         float64\n",
      "rcr_mid                      float64\n",
      "rcr_hi                       float64\n",
      "human                        float64\n",
      "animal                       float64\n",
      "molecular_cellular           float64\n",
      "is_clinical                  float64\n",
      "is_research_article          float64\n",
      "cited_by_clin                float64\n",
      "nih                          float64\n",
      "rage                         float64\n",
      "dtype: object\n",
      "hdhdhd before  223\n",
      "len of xtrain  207\n",
      "year   2009\n",
      "[1979 1991 1992 1993 1994 1996 1998 1999 2000 2003 2006 2007 2008 2010\n",
      " 2011 2012 2013 2014 2015 2016 2017 2018 2019 2020]\n",
      "cv score  0.7491397491397492\n",
      "(1038,)\n",
      "no of positive  415\n",
      "len of predy  288\n"
     ]
    },
    {
     "data": {
      "image/png": "[encoded data removed]",
      "text/plain": [
       "<Figure size 432x288 with 1 Axes>"
      ]
     },
     "metadata": {
      "needs_background": "light"
     },
     "output_type": "display_data"
    },
    {
     "name": "stdout",
     "output_type": "stream",
     "text": [
      "$$$  1038   288\n",
      "total positive  288\n",
      "tp tn fp fn 5   3   0   1\n",
      "year  2009 positive  6\n",
      "actual len  19499\n",
      "len of xtest  1047\n",
      "pct_is_new                   float64\n",
      "pct_is_newish                float64\n",
      "n_biggest_anc                float64\n",
      "pct_of_biggest_anc           float64\n",
      "n_secbiggest_anc             float64\n",
      "pct_of_secbiggest_anc        float64\n",
      "pct_of_secbiggest_anc_new    float64\n",
      "pct_top_5_anc                float64\n",
      "wrcr                         float64\n",
      "rcr_mid                      float64\n",
      "rcr_hi                       float64\n",
      "human                        float64\n",
      "animal                       float64\n",
      "molecular_cellular           float64\n",
      "is_clinical                  float64\n",
      "is_research_article          float64\n",
      "cited_by_clin                float64\n",
      "nih                          float64\n",
      "rage                         float64\n",
      "dtype: object\n",
      "hdhdhd before  223\n",
      "len of xtrain  203\n",
      "year   2010\n",
      "[1979 1991 1992 1993 1994 1996 1998 1999 2000 2003 2006 2007 2008 2009\n",
      " 2011 2012 2013 2014 2015 2016 2017 2018 2019 2020]\n",
      "cv score  0.7268217893217892\n",
      "(1047,)\n",
      "no of positive  362\n",
      "len of predy  230\n"
     ]
    },
    {
     "data": {
      "image/png": "[encoded data removed]",
      "text/plain": [
       "<Figure size 432x288 with 1 Axes>"
      ]
     },
     "metadata": {
      "needs_background": "light"
     },
     "output_type": "display_data"
    },
    {
     "name": "stdout",
     "output_type": "stream",
     "text": [
      "$$$  1047   230\n",
      "total positive  230\n",
      "tp tn fp fn 5   2   0   2\n",
      "year  2010 positive  7\n",
      "actual len  20126\n",
      "len of xtest  1063\n",
      "pct_is_new                   float64\n",
      "pct_is_newish                float64\n",
      "n_biggest_anc                float64\n",
      "pct_of_biggest_anc           float64\n",
      "n_secbiggest_anc             float64\n",
      "pct_of_secbiggest_anc        float64\n",
      "pct_of_secbiggest_anc_new    float64\n",
      "pct_top_5_anc                float64\n",
      "wrcr                         float64\n",
      "rcr_mid                      float64\n",
      "rcr_hi                       float64\n",
      "human                        float64\n",
      "animal                       float64\n",
      "molecular_cellular           float64\n",
      "is_clinical                  float64\n",
      "is_research_article          float64\n",
      "cited_by_clin                float64\n",
      "nih                          float64\n",
      "rage                         float64\n",
      "dtype: object\n",
      "hdhdhd before  223\n",
      "len of xtrain  195\n",
      "year   2011\n",
      "[1979 1991 1992 1993 1994 1996 1998 1999 2000 2003 2006 2007 2008 2009\n",
      " 2010 2012 2013 2014 2015 2016 2017 2018 2019 2020]\n",
      "cv score  0.7069300144300145\n",
      "(1063,)\n",
      "no of positive  328\n",
      "len of predy  213\n"
     ]
    },
    {
     "data": {
      "image/png": "[encoded data removed]",
      "text/plain": [
       "<Figure size 432x288 with 1 Axes>"
      ]
     },
     "metadata": {
      "needs_background": "light"
     },
     "output_type": "display_data"
    },
    {
     "name": "stdout",
     "output_type": "stream",
     "text": [
      "$$$  1063   213\n",
      "total positive  213\n",
      "tp tn fp fn 7   1   2   5\n",
      "year  2011 positive  12\n",
      "actual len  20856\n",
      "len of xtest  1102\n",
      "pct_is_new                   float64\n",
      "pct_is_newish                float64\n",
      "n_biggest_anc                float64\n",
      "pct_of_biggest_anc           float64\n",
      "n_secbiggest_anc             float64\n",
      "pct_of_secbiggest_anc        float64\n",
      "pct_of_secbiggest_anc_new    float64\n",
      "pct_top_5_anc                float64\n",
      "wrcr                         float64\n",
      "rcr_mid                      float64\n",
      "rcr_hi                       float64\n",
      "human                        float64\n",
      "animal                       float64\n",
      "molecular_cellular           float64\n",
      "is_clinical                  float64\n",
      "is_research_article          float64\n",
      "cited_by_clin                float64\n",
      "nih                          float64\n",
      "rage                         float64\n",
      "dtype: object\n",
      "hdhdhd before  223\n",
      "len of xtrain  193\n",
      "year   2012\n",
      "[1979 1991 1992 1993 1994 1996 1998 1999 2000 2003 2006 2007 2008 2009\n",
      " 2010 2011 2013 2014 2015 2016 2017 2018 2019 2020]\n",
      "cv score  0.7508116883116883\n",
      "(1102,)\n",
      "no of positive  349\n",
      "len of predy  227\n"
     ]
    },
    {
     "data": {
      "image/png": "[encoded data removed]",
      "text/plain": [
       "<Figure size 432x288 with 1 Axes>"
      ]
     },
     "metadata": {
      "needs_background": "light"
     },
     "output_type": "display_data"
    },
    {
     "name": "stdout",
     "output_type": "stream",
     "text": [
      "$$$  1102   227\n",
      "total positive  227\n",
      "tp tn fp fn 6   6   1   7\n",
      "year  2012 positive  13\n",
      "actual len  21671\n",
      "len of xtest  1143\n",
      "pct_is_new                   float64\n",
      "pct_is_newish                float64\n",
      "n_biggest_anc                float64\n",
      "pct_of_biggest_anc           float64\n",
      "n_secbiggest_anc             float64\n",
      "pct_of_secbiggest_anc        float64\n",
      "pct_of_secbiggest_anc_new    float64\n",
      "pct_top_5_anc                float64\n",
      "wrcr                         float64\n",
      "rcr_mid                      float64\n",
      "rcr_hi                       float64\n",
      "human                        float64\n",
      "animal                       float64\n",
      "molecular_cellular           float64\n",
      "is_clinical                  float64\n",
      "is_research_article          float64\n",
      "cited_by_clin                float64\n",
      "nih                          float64\n",
      "rage                         float64\n",
      "dtype: object\n",
      "hdhdhd before  223\n",
      "len of xtrain  194\n",
      "year   2013\n",
      "[1979 1991 1992 1993 1994 1996 1998 1999 2000 2003 2006 2007 2008 2009\n",
      " 2010 2011 2012 2014 2015 2016 2017 2018 2019 2020]\n",
      "cv score  0.7172835497835498\n",
      "(1143,)\n",
      "no of positive  400\n",
      "len of predy  246\n"
     ]
    },
    {
     "data": {
      "image/png": "[encoded data removed]",
      "text/plain": [
       "<Figure size 432x288 with 1 Axes>"
      ]
     },
     "metadata": {
      "needs_background": "light"
     },
     "output_type": "display_data"
    },
    {
     "name": "stdout",
     "output_type": "stream",
     "text": [
      "$$$  1143   246\n",
      "total positive  246\n",
      "tp tn fp fn 8   4   2   3\n",
      "year  2013 positive  11\n",
      "actual len  22577\n",
      "len of xtest  1179\n",
      "pct_is_new                   float64\n",
      "pct_is_newish                float64\n",
      "n_biggest_anc                float64\n",
      "pct_of_biggest_anc           float64\n",
      "n_secbiggest_anc             float64\n",
      "pct_of_secbiggest_anc        float64\n",
      "pct_of_secbiggest_anc_new    float64\n",
      "pct_top_5_anc                float64\n",
      "wrcr                         float64\n",
      "rcr_mid                      float64\n",
      "rcr_hi                       float64\n",
      "human                        float64\n",
      "animal                       float64\n",
      "molecular_cellular           float64\n",
      "is_clinical                  float64\n",
      "is_research_article          float64\n",
      "cited_by_clin                float64\n",
      "nih                          float64\n",
      "rage                         float64\n",
      "dtype: object\n",
      "hdhdhd before  223\n",
      "len of xtrain  202\n",
      "year   2014\n",
      "[1979 1991 1992 1993 1994 1996 1998 1999 2000 2003 2006 2007 2008 2009\n",
      " 2010 2011 2012 2013 2015 2016 2017 2018 2019 2020]\n",
      "cv score  0.7086849261849262\n",
      "(1179,)\n",
      "no of positive  393\n",
      "len of predy  265\n"
     ]
    },
    {
     "data": {
      "image/png": "[encoded data removed]",
      "text/plain": [
       "<Figure size 432x288 with 1 Axes>"
      ]
     },
     "metadata": {
      "needs_background": "light"
     },
     "output_type": "display_data"
    },
    {
     "name": "stdout",
     "output_type": "stream",
     "text": [
      "$$$  1179   265\n",
      "total positive  265\n",
      "tp tn fp fn 4   3   2   4\n",
      "year  2014 positive  8\n",
      "actual len  23437\n",
      "len of xtest  1223\n",
      "pct_is_new                   float64\n",
      "pct_is_newish                float64\n",
      "n_biggest_anc                float64\n",
      "pct_of_biggest_anc           float64\n",
      "n_secbiggest_anc             float64\n",
      "pct_of_secbiggest_anc        float64\n",
      "pct_of_secbiggest_anc_new    float64\n",
      "pct_top_5_anc                float64\n",
      "wrcr                         float64\n",
      "rcr_mid                      float64\n",
      "rcr_hi                       float64\n",
      "human                        float64\n",
      "animal                       float64\n",
      "molecular_cellular           float64\n",
      "is_clinical                  float64\n",
      "is_research_article          float64\n",
      "cited_by_clin                float64\n",
      "nih                          float64\n",
      "rage                         float64\n",
      "dtype: object\n",
      "hdhdhd before  223\n",
      "len of xtrain  213\n",
      "year   2015\n",
      "[1979 1991 1992 1993 1994 1996 1998 1999 2000 2003 2006 2007 2008 2009\n",
      " 2010 2011 2012 2013 2014 2016 2017 2018 2019 2020]\n",
      "cv score  0.7172727272727273\n",
      "(1223,)\n",
      "no of positive  326\n",
      "len of predy  207\n"
     ]
    },
    {
     "data": {
      "image/png": "[encoded data removed]",
      "text/plain": [
       "<Figure size 432x288 with 1 Axes>"
      ]
     },
     "metadata": {
      "needs_background": "light"
     },
     "output_type": "display_data"
    },
    {
     "name": "stdout",
     "output_type": "stream",
     "text": [
      "$$$  1223   207\n",
      "total positive  207\n",
      "tp tn fp fn 1   0   0   2\n",
      "year  2015 positive  3\n",
      "actual len  24395\n",
      "len of xtest  1249\n",
      "pct_is_new                   float64\n",
      "pct_is_newish                float64\n",
      "n_biggest_anc                float64\n",
      "pct_of_biggest_anc           float64\n",
      "n_secbiggest_anc             float64\n",
      "pct_of_secbiggest_anc        float64\n",
      "pct_of_secbiggest_anc_new    float64\n",
      "pct_top_5_anc                float64\n",
      "wrcr                         float64\n",
      "rcr_mid                      float64\n",
      "rcr_hi                       float64\n",
      "human                        float64\n",
      "animal                       float64\n",
      "molecular_cellular           float64\n",
      "is_clinical                  float64\n",
      "is_research_article          float64\n",
      "cited_by_clin                float64\n",
      "nih                          float64\n",
      "rage                         float64\n",
      "dtype: object\n",
      "hdhdhd before  223\n",
      "len of xtrain  211\n",
      "year   2016\n",
      "[1979 1991 1992 1993 1994 1996 1998 1999 2000 2003 2006 2007 2008 2009\n",
      " 2010 2011 2012 2013 2014 2015 2017 2018 2019 2020]\n",
      "cv score  0.7333080808080807\n",
      "(1249,)\n",
      "no of positive  404\n",
      "len of predy  259\n"
     ]
    },
    {
     "data": {
      "image/png": "[encoded data removed]",
      "text/plain": [
       "<Figure size 432x288 with 1 Axes>"
      ]
     },
     "metadata": {
      "needs_background": "light"
     },
     "output_type": "display_data"
    },
    {
     "name": "stdout",
     "output_type": "stream",
     "text": [
      "$$$  1249   259\n",
      "total positive  259\n",
      "tp tn fp fn 3   3   0   1\n",
      "year  2016 positive  4\n",
      "actual len  25382\n",
      "len of xtest  1268\n",
      "pct_is_new                   float64\n",
      "pct_is_newish                float64\n",
      "n_biggest_anc                float64\n",
      "pct_of_biggest_anc           float64\n",
      "n_secbiggest_anc             float64\n",
      "pct_of_secbiggest_anc        float64\n",
      "pct_of_secbiggest_anc_new    float64\n",
      "pct_top_5_anc                float64\n",
      "wrcr                         float64\n",
      "rcr_mid                      float64\n",
      "rcr_hi                       float64\n",
      "human                        float64\n",
      "animal                       float64\n",
      "molecular_cellular           float64\n",
      "is_clinical                  float64\n",
      "is_research_article          float64\n",
      "cited_by_clin                float64\n",
      "nih                          float64\n",
      "rage                         float64\n",
      "dtype: object\n",
      "hdhdhd before  223\n",
      "len of xtrain  207\n",
      "year   2017\n",
      "[1979 1991 1992 1993 1994 1996 1998 1999 2000 2003 2006 2007 2008 2009\n",
      " 2010 2011 2012 2013 2014 2015 2016 2018 2019 2020]\n",
      "cv score  0.7154076479076478\n",
      "(1268,)\n",
      "no of positive  289\n",
      "len of predy  172\n"
     ]
    },
    {
     "data": {
      "image/png": "[encoded data removed]",
      "text/plain": [
       "<Figure size 432x288 with 1 Axes>"
      ]
     },
     "metadata": {
      "needs_background": "light"
     },
     "output_type": "display_data"
    },
    {
     "name": "stdout",
     "output_type": "stream",
     "text": [
      "$$$  1268   172\n",
      "total positive  172\n",
      "tp tn fp fn 3   1   0   3\n",
      "year  2017 positive  6\n",
      "actual len  26313\n",
      "len of xtest  1292\n",
      "pct_is_new                   float64\n",
      "pct_is_newish                float64\n",
      "n_biggest_anc                float64\n",
      "pct_of_biggest_anc           float64\n",
      "n_secbiggest_anc             float64\n",
      "pct_of_secbiggest_anc        float64\n",
      "pct_of_secbiggest_anc_new    float64\n",
      "pct_top_5_anc                float64\n",
      "wrcr                         float64\n",
      "rcr_mid                      float64\n",
      "rcr_hi                       float64\n",
      "human                        float64\n",
      "animal                       float64\n",
      "molecular_cellular           float64\n",
      "is_clinical                  float64\n",
      "is_research_article          float64\n",
      "cited_by_clin                float64\n",
      "nih                          float64\n",
      "rage                         float64\n",
      "dtype: object\n",
      "hdhdhd before  223\n",
      "len of xtrain  203\n",
      "year   2018\n",
      "[1979 1991 1992 1993 1994 1996 1998 1999 2000 2003 2006 2007 2008 2009\n",
      " 2010 2011 2012 2013 2014 2015 2016 2017 2019 2020]\n",
      "cv score  0.7587409812409811\n",
      "(1292,)\n",
      "no of positive  357\n",
      "len of predy  235\n"
     ]
    },
    {
     "data": {
      "image/png": "[encoded data removed]",
      "text/plain": [
       "<Figure size 432x288 with 1 Axes>"
      ]
     },
     "metadata": {
      "needs_background": "light"
     },
     "output_type": "display_data"
    },
    {
     "name": "stdout",
     "output_type": "stream",
     "text": [
      "$$$  1292   235\n",
      "total positive  235\n",
      "tp tn fp fn 3   3   0   3\n",
      "year  2018 positive  6\n",
      "actual len  27361\n",
      "len of xtest  1343\n",
      "pct_is_new                   float64\n",
      "pct_is_newish                float64\n",
      "n_biggest_anc                float64\n",
      "pct_of_biggest_anc           float64\n",
      "n_secbiggest_anc             float64\n",
      "pct_of_secbiggest_anc        float64\n",
      "pct_of_secbiggest_anc_new    float64\n",
      "pct_top_5_anc                float64\n",
      "wrcr                         float64\n",
      "rcr_mid                      float64\n",
      "rcr_hi                       float64\n",
      "human                        float64\n",
      "animal                       float64\n",
      "molecular_cellular           float64\n",
      "is_clinical                  float64\n",
      "is_research_article          float64\n",
      "cited_by_clin                float64\n",
      "nih                          float64\n",
      "rage                         float64\n",
      "dtype: object\n",
      "hdhdhd before  223\n",
      "len of xtrain  209\n",
      "year   2019\n",
      "[1979 1991 1992 1993 1994 1996 1998 1999 2000 2003 2006 2007 2008 2009\n",
      " 2010 2011 2012 2013 2014 2015 2016 2017 2018 2020]\n",
      "cv score  0.7543722943722944\n",
      "(1343,)\n",
      "no of positive  391\n",
      "len of predy  265\n"
     ]
    },
    {
     "data": {
      "image/png": "[encoded data removed]",
      "text/plain": [
       "<Figure size 432x288 with 1 Axes>"
      ]
     },
     "metadata": {
      "needs_background": "light"
     },
     "output_type": "display_data"
    },
    {
     "name": "stdout",
     "output_type": "stream",
     "text": [
      "$$$  1343   265\n",
      "total positive  265\n",
      "tp tn fp fn 0   1   0   2\n",
      "year  2019 positive  2\n",
      "actual len  28712\n",
      "len of xtest  1385\n",
      "pct_is_new                   float64\n",
      "pct_is_newish                float64\n",
      "n_biggest_anc                float64\n",
      "pct_of_biggest_anc           float64\n",
      "n_secbiggest_anc             float64\n",
      "pct_of_secbiggest_anc        float64\n",
      "pct_of_secbiggest_anc_new    float64\n",
      "pct_top_5_anc                float64\n",
      "wrcr                         float64\n",
      "rcr_mid                      float64\n",
      "rcr_hi                       float64\n",
      "human                        float64\n",
      "animal                       float64\n",
      "molecular_cellular           float64\n",
      "is_clinical                  float64\n",
      "is_research_article          float64\n",
      "cited_by_clin                float64\n",
      "nih                          float64\n",
      "rage                         float64\n",
      "dtype: object\n",
      "hdhdhd before  223\n",
      "len of xtrain  215\n",
      "year   2020\n",
      "[1979 1991 1992 1993 1994 1996 1998 1999 2000 2003 2006 2007 2008 2009\n",
      " 2010 2011 2012 2013 2014 2015 2016 2017 2018 2019]\n",
      "cv score  0.7560914085914086\n",
      "(1385,)\n",
      "no of positive  313\n",
      "len of predy  186\n"
     ]
    },
    {
     "data": {
      "image/png": "[encoded data removed]",
      "text/plain": [
       "<Figure size 432x288 with 1 Axes>"
      ]
     },
     "metadata": {
      "needs_background": "light"
     },
     "output_type": "display_data"
    },
    {
     "name": "stdout",
     "output_type": "stream",
     "text": [
      "$$$  1385   186\n",
      "total positive  186\n",
      "tp tn fp fn 0   0   0   2\n",
      "year  2020 positive  2\n",
      "total pos  98  true pos  60  total false pos  262.5813953488372  mean cv  0.7368530758647036\n"
     ]
    }
   ],
   "source": [
    "##logistic regression: unified model for all\n",
    "def recall2(pred,th, yr):\n",
    "    data = pd.read_csv(\"data_84.csv\")\n",
    "    data = data[data['year'] == yr]\n",
    "    data = data[data['n'] > 100]\n",
    "    ll = 350\n",
    "    tot = 0\n",
    "    ress = pd.merge(data,pred,on='cluster', how = 'inner')\n",
    "    \n",
    "    tp,tn,fp, fn = 0,0,0,0\n",
    "    pred = pred.sort_values(by=['pred_log'], ascending = False)\n",
    "    res = pred.head(ll)\n",
    "    for ind in res.index:\n",
    "        cl = res['cluster'][ind]\n",
    "        dd = data[data['cluster'] == cl]\n",
    "        if len(dd) != 0:\n",
    "            dd = dd.to_numpy()\n",
    "            cls = dd[0][dd.shape[1] - 1]\n",
    "            if cls == 1:\n",
    "                tp += 1\n",
    "            else:\n",
    "                fp += 1\n",
    "        else:\n",
    "            fp += 1\n",
    "       \n",
    "    pred = pred[pred['pred_log'] >= th]\n",
    "    print(\"total positive \", ll)\n",
    "    print(\"tp fp\",tp,\" \",fp)\n",
    "    total_pos = len(ress[ress['class'] == 1])\n",
    "    print(\"year \",yr,\"positive \",total_pos)\n",
    "    \n",
    "    \n",
    "    return total_pos,tp,ll - tp\n",
    "\n",
    "def recall(pred,th, yr):\n",
    "    data = pd.read_csv(\"data_84.csv\")\n",
    "    data = data[data['year'] == yr]\n",
    "    data = data[data['n'] > 100]\n",
    "\n",
    "    tot = 0\n",
    "    res = pd.merge(data,pred,on='cluster', how = 'inner')\n",
    "    tp,tn,fp, fn = 0,0,0,0\n",
    "    for ind in res.index:\n",
    "        if res['class'][ind] == 1 and res['pred_log'][ind] >= th:\n",
    "            tp += 1\n",
    "        elif res['class'][ind] == 0 and res['pred_log'][ind] < th:\n",
    "            tn += 1\n",
    "        elif res['class'][ind] == 0 and res['pred_log'][ind] >= th:\n",
    "            fp += 1\n",
    "        elif res['class'][ind] == 1 and res['pred_log'][ind] < th:\n",
    "            fn += 1\n",
    "    pred = pred[pred['pred_log'] >= th]\n",
    "    print(\"total positive \", len(pred))\n",
    "    print(\"tp tn fp fn\",tp,\" \",tn,\" \",fp,\" \",fn)\n",
    "    total_pos = len(res[res['class'] == 1])\n",
    "    print(\"year \",yr,\"positive \",total_pos)\n",
    "    \n",
    "    \n",
    "    return total_pos,tp,len(pred[pred['pred_log'] >= th]) - tp\n",
    "\n",
    "\n",
    "def train(x_train):\n",
    "    \n",
    "    \n",
    "  \n",
    "    y_train = x_train['class']\n",
    "    \n",
    "    x_train = x_train.drop(['class','cluster','year','n','pct_dusted_ccn','pct_dusted_rmcl',\n",
    "                           'pct_in_secbiggest_anc','rcr_low','secbiggest_anc',\n",
    "                           'pct_of_biggest_anc_newish','pct_of_biggest_anc_new','n_clusts_90_anc'\n",
    "                           ,'pct_in_biggest_anc','biggest_anc','pct_of_secbiggest_anc_newish'\n",
    "                           ], axis = 1)\n",
    "    \n",
    "    x_train[['pct_of_biggest_anc','pct_is_newish','wrcr']] = minmax_scale(x_train[[\n",
    "    'pct_of_biggest_anc','pct_is_newish','wrcr']])\n",
    "    \n",
    "    \n",
    "    \n",
    "    '''x_train[['wrcr','rcr_hi','rcr_mid','n_biggest_anc','n_secbiggest_anc','n_clusts_90_anc','pct_of_biggest_anc_new']] = minmax_scale(x_train[['wrcr','rcr_hi','rcr_mid','n_biggest_anc','n_secbiggest_anc','n_clusts_90_anc','pct_of_biggest_anc_new']])\n",
    "    x_train = x_train.drop(['cluster','year','n','pct_is_newish','pct_dusted_ccn','pct_dusted_rmcl','biggest_anc','pct_in_biggest_anc','pct_of_biggest_anc','pct_of_biggest_anc_new','pct_of_biggest_anc_newish','secbiggest_anc'], axis = 1)#$%\n",
    "    #x_train = x_train.drop(['pct_of_biggest_anc_new','pct_of_secbiggest_anc_new','animal','pct_is_newish'], axis = 1)\n",
    "    x_train = x_train.drop(['pct_in_secbiggest_anc','pct_of_secbiggest_anc','pct_of_secbiggest_anc_newish','rcr_low','class'], axis = 1)\n",
    "    '''\n",
    "    \n",
    "    y_train = np.array(y_train)\n",
    " \n",
    "    model = LogisticRegression(random_state=0, C = 10).fit(x_train,y_train) ##logistioc\n",
    "    \n",
    "    '''crossvalidation2(x_train, y_train)\n",
    "    print(model.intercept_, model.coef_, model.score(x_train, y_train))'''\n",
    "    scores = cross_val_score(model, x_train, y_train, cv=20,scoring = \"f1\")\n",
    "    print(\"cv score \", scores.mean())\n",
    "    return model,scores.mean()\n",
    "    \n",
    "tot,tp,total_fp = 0,0,0\n",
    "yr = 1978\n",
    "CV = 0\n",
    "while yr <= 2020:\n",
    "    \n",
    "    x_train = pd.read_csv(\"data_84.csv\")\n",
    "    x_test = pd.read_csv(\"~/Documents/PhD/project_nobel/boty/boty_direct/features_prediction_\"+str(yr)+\".csv\")\n",
    "    print(\"actual len \",len(x_test))\n",
    "    x_test = x_test.dropna(axis=0)\n",
    "    \n",
    "    x_test = x_test[x_test['n'] > 100]\n",
    "    \n",
    "   \n",
    "    #x_test = x_test[x_test['n_biggest_anc'] >= 500]\n",
    "    x_test = x_test[x_test['rcr_hi'] >= 2.00]\n",
    "    x_test = x_test[x_test['cited_by_clin'] >= 0.080]\n",
    "    #x_test = x_test[x_test['is_clinical'] >= 0.010] ##this one\n",
    "    x_test = x_test[x_test['animal'] >= 0.01]\n",
    "\n",
    "    x_test = x_test[x_test['molecular_cellular'] >= 0.020] ##this one, with C = 1\n",
    "    #x_test = x_test[x_test['nih'] >= 0.020]\n",
    "    x_test = x_test[x_test['human'] >= 0.20]\n",
    "    #x_test = x_test[x_test['rage'] >= 5]\n",
    "    #x_test = x_test[x_test['pct_is_new'] >= 0.09]\n",
    "    print(\"len of xtest \",len(x_test))\n",
    "       \n",
    "    copy_test = x_test.copy()\n",
    "    #print(x_test.tail(10))\n",
    "    \n",
    "    #x_test = x_test[x_test['is_research_article'] > 0.75]\n",
    "    x_test = x_test.drop(['prediction','cluster','year','n',\n",
    "                               'pct_in_secbiggest_anc','rcr_low','secbiggest_anc',\n",
    "                               'pct_of_biggest_anc_newish','pct_of_biggest_anc_new','n_clusts_90_anc'\n",
    "                               ,'pct_in_biggest_anc','biggest_anc','pct_of_secbiggest_anc_newish'\n",
    "                               ], axis = 1)\n",
    "    \n",
    "    x_test[['pct_of_biggest_anc','pct_is_newish','wrcr']] = minmax_scale(x_test[[\n",
    "    'pct_of_biggest_anc','pct_is_newish','wrcr']])\n",
    "    \n",
    "    print(x_test.dtypes)\n",
    "    '''x_test[['wrcr','rcr_hi','rcr_mid','n_biggest_anc','n_secbiggest_anc','n_clusts_90_anc','pct_of_biggest_anc_new']] = minmax_scale(x_test[['wrcr','rcr_hi','rcr_mid','n_biggest_anc','n_secbiggest_anc','n_clusts_90_anc','pct_of_biggest_anc_new']])\n",
    "    x_test = x_test.drop(['cluster','year','n','pct_is_newish','biggest_anc','pct_in_biggest_anc','pct_of_biggest_anc','pct_of_biggest_anc_new','pct_of_biggest_anc_newish','secbiggest_anc'], axis = 1)\n",
    "    x_test = x_test.drop(['prediction','pct_in_secbiggest_anc','pct_of_secbiggest_anc','pct_of_secbiggest_anc_newish','rcr_low'], axis=1)\n",
    "    '''\n",
    "    \n",
    "    \n",
    "    print(\"hdhdhd before \",len(x_train))\n",
    "    x_train = x_train[x_train['year'] != yr]\n",
    "    x_train = x_train[x_train['n'] > 100]\n",
    "\n",
    "    \n",
    "    #x_train = x_train[x_train['is_research_article'] > 0.75]\n",
    "    print('len of xtrain ', len(x_train))\n",
    "    print(\"year  \",yr)\n",
    "    print(x_train['year'].unique())\n",
    "\n",
    "    model,cv = train(x_train)\n",
    "    CV += cv\n",
    "    pred = model.predict(x_test)\n",
    "    print(pred.shape)\n",
    "    #print(np.sum(pred))\n",
    "    print(\"no of positive \",np.count_nonzero(pred == 1))\n",
    "    \n",
    "\n",
    "    \n",
    "    predy = model.predict_proba(x_test)\n",
    "    pred_test = []\n",
    "    for i in range(predy.shape[0]):\n",
    "        if predy[i][0] >= predy[i][1]:\n",
    "            #pred_test.append(0.00)\n",
    "            pred_test.append(predy[i][1])\n",
    "        else:\n",
    "            pred_test.append(predy[i][1])\n",
    "    \n",
    "    predy = pd.DataFrame(predy, columns = ['col_0','col_1'])\n",
    "    predy = predy[predy['col_1'] >= 0.60]\n",
    "    #print(\"len of df \", len(df))\n",
    "    print(\"len of predy \", len(predy))\n",
    "    \n",
    "    \n",
    "    \n",
    "    copy_test['pred_log'] = pred_test\n",
    "    copy_test['pred_log'].hist()\n",
    "    plt.show()\n",
    "    \n",
    "    \n",
    "    print(\"$$$ \",len(copy_test),\" \",len(copy_test[copy_test['pred_log'] >= 0.60]))\n",
    "    a, b,c = recall(copy_test,0.60, yr)\n",
    "    tot += a\n",
    "    tp += b\n",
    "    total_fp += c\n",
    "    yr += 1\n",
    "print(\"total pos \",tot,\" true pos \", tp,\" total false pos \",total_fp/43,\" mean cv \",CV/43)"
   ]
  },
  {
   "cell_type": "code",
   "execution_count": null,
   "id": "838e2857",
   "metadata": {},
   "outputs": [],
   "source": []
  },
  {
   "cell_type": "code",
   "execution_count": 6,
   "id": "64405cad",
   "metadata": {},
   "outputs": [
    {
     "name": "stdout",
     "output_type": "stream",
     "text": [
      "actual len  8714\n",
      "len of xtest  4303\n",
      "hdhdhd before  223\n",
      "len of xtrain  219\n",
      "year   1978\n",
      "[1979 1991 1992 1993 1994 1996 1998 1999 2000 2003 2006 2007 2008 2009\n",
      " 2010 2011 2012 2013 2014 2015 2016 2017 2018 2019 2020]\n",
      "cv score  0.770358807858808\n",
      "(4303,)\n",
      "no of positive  1619\n",
      "len of predy  684\n"
     ]
    },
    {
     "data": {
      "image/png": "[encoded data removed]",
      "text/plain": [
       "<Figure size 432x288 with 1 Axes>"
      ]
     },
     "metadata": {
      "needs_background": "light"
     },
     "output_type": "display_data"
    },
    {
     "name": "stdout",
     "output_type": "stream",
     "text": [
      "$$$  4303   684\n",
      "total positive  684\n",
      "tp tn fp fn 0   0   0   0\n",
      "year  1978 positive  0\n",
      "actual len  9064\n",
      "len of xtest  4522\n",
      "hdhdhd before  223\n",
      "len of xtrain  218\n",
      "year   1979\n",
      "[1991 1992 1993 1994 1996 1998 1999 2000 2003 2006 2007 2008 2009 2010\n",
      " 2011 2012 2013 2014 2015 2016 2017 2018 2019 2020]\n",
      "cv score  0.7723212898212898\n",
      "(4522,)\n",
      "no of positive  1510\n",
      "len of predy  477\n"
     ]
    },
    {
     "data": {
      "image/png": "[encoded data removed]",
      "text/plain": [
       "<Figure size 432x288 with 1 Axes>"
      ]
     },
     "metadata": {
      "needs_background": "light"
     },
     "output_type": "display_data"
    },
    {
     "name": "stdout",
     "output_type": "stream",
     "text": [
      "$$$  4522   477\n",
      "total positive  477\n",
      "tp tn fp fn 0   0   0   1\n",
      "year  1979 positive  1\n",
      "actual len  9441\n",
      "len of xtest  4677\n",
      "hdhdhd before  223\n",
      "len of xtrain  219\n",
      "year   1980\n",
      "[1979 1991 1992 1993 1994 1996 1998 1999 2000 2003 2006 2007 2008 2009\n",
      " 2010 2011 2012 2013 2014 2015 2016 2017 2018 2019 2020]\n",
      "cv score  0.770358807858808\n",
      "(4677,)\n",
      "no of positive  1765\n",
      "len of predy  685\n"
     ]
    },
    {
     "data": {
      "image/png": "[encoded data removed]",
      "text/plain": [
       "<Figure size 432x288 with 1 Axes>"
      ]
     },
     "metadata": {
      "needs_background": "light"
     },
     "output_type": "display_data"
    },
    {
     "name": "stdout",
     "output_type": "stream",
     "text": [
      "$$$  4677   685\n",
      "total positive  685\n",
      "tp tn fp fn 0   0   0   0\n",
      "year  1980 positive  0\n",
      "actual len  9864\n",
      "len of xtest  4855\n",
      "hdhdhd before  223\n",
      "len of xtrain  219\n",
      "year   1981\n",
      "[1979 1991 1992 1993 1994 1996 1998 1999 2000 2003 2006 2007 2008 2009\n",
      " 2010 2011 2012 2013 2014 2015 2016 2017 2018 2019 2020]\n",
      "cv score  0.770358807858808\n",
      "(4855,)\n",
      "no of positive  1794\n",
      "len of predy  811\n"
     ]
    },
    {
     "data": {
      "image/png": "[encoded data removed]",
      "text/plain": [
       "<Figure size 432x288 with 1 Axes>"
      ]
     },
     "metadata": {
      "needs_background": "light"
     },
     "output_type": "display_data"
    },
    {
     "name": "stdout",
     "output_type": "stream",
     "text": [
      "$$$  4855   811\n",
      "total positive  811\n",
      "tp tn fp fn 0   0   0   0\n",
      "year  1981 positive  0\n",
      "actual len  10210\n",
      "len of xtest  5115\n",
      "hdhdhd before  223\n",
      "len of xtrain  219\n",
      "year   1982\n",
      "[1979 1991 1992 1993 1994 1996 1998 1999 2000 2003 2006 2007 2008 2009\n",
      " 2010 2011 2012 2013 2014 2015 2016 2017 2018 2019 2020]\n",
      "cv score  0.770358807858808\n",
      "(5115,)\n",
      "no of positive  1957\n",
      "len of predy  891\n"
     ]
    },
    {
     "data": {
      "image/png": "[encoded data removed]",
      "text/plain": [
       "<Figure size 432x288 with 1 Axes>"
      ]
     },
     "metadata": {
      "needs_background": "light"
     },
     "output_type": "display_data"
    },
    {
     "name": "stdout",
     "output_type": "stream",
     "text": [
      "$$$  5115   891\n",
      "total positive  891\n",
      "tp tn fp fn 0   0   0   0\n",
      "year  1982 positive  0\n",
      "actual len  10637\n",
      "len of xtest  5290\n",
      "hdhdhd before  223\n",
      "len of xtrain  219\n",
      "year   1983\n",
      "[1979 1991 1992 1993 1994 1996 1998 1999 2000 2003 2006 2007 2008 2009\n",
      " 2010 2011 2012 2013 2014 2015 2016 2017 2018 2019 2020]\n",
      "cv score  0.770358807858808\n",
      "(5290,)\n",
      "no of positive  1951\n",
      "len of predy  840\n"
     ]
    },
    {
     "data": {
      "image/png": "[encoded data removed]",
      "text/plain": [
       "<Figure size 432x288 with 1 Axes>"
      ]
     },
     "metadata": {
      "needs_background": "light"
     },
     "output_type": "display_data"
    },
    {
     "name": "stdout",
     "output_type": "stream",
     "text": [
      "$$$  5290   840\n",
      "total positive  840\n",
      "tp tn fp fn 0   0   0   0\n",
      "year  1983 positive  0\n",
      "actual len  11077\n",
      "len of xtest  5538\n",
      "hdhdhd before  223\n",
      "len of xtrain  219\n",
      "year   1984\n",
      "[1979 1991 1992 1993 1994 1996 1998 1999 2000 2003 2006 2007 2008 2009\n",
      " 2010 2011 2012 2013 2014 2015 2016 2017 2018 2019 2020]\n",
      "cv score  0.770358807858808\n",
      "(5538,)\n",
      "no of positive  1946\n",
      "len of predy  732\n"
     ]
    },
    {
     "data": {
      "image/png": "[encoded data removed]",
      "text/plain": [
       "<Figure size 432x288 with 1 Axes>"
      ]
     },
     "metadata": {
      "needs_background": "light"
     },
     "output_type": "display_data"
    },
    {
     "name": "stdout",
     "output_type": "stream",
     "text": [
      "$$$  5538   732\n",
      "total positive  732\n",
      "tp tn fp fn 0   0   0   0\n",
      "year  1984 positive  0\n",
      "actual len  11539\n",
      "len of xtest  5729\n",
      "hdhdhd before  223\n",
      "len of xtrain  219\n",
      "year   1985\n",
      "[1979 1991 1992 1993 1994 1996 1998 1999 2000 2003 2006 2007 2008 2009\n",
      " 2010 2011 2012 2013 2014 2015 2016 2017 2018 2019 2020]\n",
      "cv score  0.770358807858808\n",
      "(5729,)\n",
      "no of positive  1890\n",
      "len of predy  704\n"
     ]
    },
    {
     "data": {
      "image/png": "[encoded data removed]",
      "text/plain": [
       "<Figure size 432x288 with 1 Axes>"
      ]
     },
     "metadata": {
      "needs_background": "light"
     },
     "output_type": "display_data"
    },
    {
     "name": "stdout",
     "output_type": "stream",
     "text": [
      "$$$  5729   704\n",
      "total positive  704\n",
      "tp tn fp fn 0   0   0   0\n",
      "year  1985 positive  0\n",
      "actual len  12054\n",
      "len of xtest  6003\n",
      "hdhdhd before  223\n",
      "len of xtrain  219\n",
      "year   1986\n",
      "[1979 1991 1992 1993 1994 1996 1998 1999 2000 2003 2006 2007 2008 2009\n",
      " 2010 2011 2012 2013 2014 2015 2016 2017 2018 2019 2020]\n",
      "cv score  0.770358807858808\n",
      "(6003,)\n",
      "no of positive  1720\n",
      "len of predy  550\n"
     ]
    },
    {
     "data": {
      "image/png": "[encoded data removed]",
      "text/plain": [
       "<Figure size 432x288 with 1 Axes>"
      ]
     },
     "metadata": {
      "needs_background": "light"
     },
     "output_type": "display_data"
    },
    {
     "name": "stdout",
     "output_type": "stream",
     "text": [
      "$$$  6003   550\n",
      "total positive  550\n",
      "tp tn fp fn 0   0   0   0\n",
      "year  1986 positive  0\n",
      "actual len  12580\n",
      "len of xtest  6317\n",
      "hdhdhd before  223\n",
      "len of xtrain  219\n",
      "year   1987\n",
      "[1979 1991 1992 1993 1994 1996 1998 1999 2000 2003 2006 2007 2008 2009\n",
      " 2010 2011 2012 2013 2014 2015 2016 2017 2018 2019 2020]\n",
      "cv score  0.770358807858808\n",
      "(6317,)\n",
      "no of positive  1554\n",
      "len of predy  328\n"
     ]
    },
    {
     "data": {
      "image/png": "[encoded data removed]",
      "text/plain": [
       "<Figure size 432x288 with 1 Axes>"
      ]
     },
     "metadata": {
      "needs_background": "light"
     },
     "output_type": "display_data"
    },
    {
     "name": "stdout",
     "output_type": "stream",
     "text": [
      "$$$  6317   328\n",
      "total positive  328\n",
      "tp tn fp fn 0   0   0   0\n",
      "year  1987 positive  0\n",
      "actual len  13150\n",
      "len of xtest  6609\n",
      "hdhdhd before  223\n",
      "len of xtrain  219\n",
      "year   1988\n",
      "[1979 1991 1992 1993 1994 1996 1998 1999 2000 2003 2006 2007 2008 2009\n",
      " 2010 2011 2012 2013 2014 2015 2016 2017 2018 2019 2020]\n",
      "cv score  0.770358807858808\n",
      "(6609,)\n",
      "no of positive  1622\n",
      "len of predy  353\n"
     ]
    },
    {
     "data": {
      "image/png": "[encoded data removed]",
      "text/plain": [
       "<Figure size 432x288 with 1 Axes>"
      ]
     },
     "metadata": {
      "needs_background": "light"
     },
     "output_type": "display_data"
    },
    {
     "name": "stdout",
     "output_type": "stream",
     "text": [
      "$$$  6609   353\n",
      "total positive  353\n",
      "tp tn fp fn 0   0   0   0\n",
      "year  1988 positive  0\n",
      "actual len  13783\n",
      "len of xtest  6819\n",
      "hdhdhd before  223\n",
      "len of xtrain  219\n",
      "year   1989\n",
      "[1979 1991 1992 1993 1994 1996 1998 1999 2000 2003 2006 2007 2008 2009\n",
      " 2010 2011 2012 2013 2014 2015 2016 2017 2018 2019 2020]\n",
      "cv score  0.770358807858808\n",
      "(6819,)\n",
      "no of positive  2162\n",
      "len of predy  763\n"
     ]
    },
    {
     "data": {
      "image/png": "[encoded data removed]",
      "text/plain": [
       "<Figure size 432x288 with 1 Axes>"
      ]
     },
     "metadata": {
      "needs_background": "light"
     },
     "output_type": "display_data"
    },
    {
     "name": "stdout",
     "output_type": "stream",
     "text": [
      "$$$  6819   763\n",
      "total positive  763\n",
      "tp tn fp fn 0   0   0   0\n",
      "year  1989 positive  0\n",
      "actual len  14399\n",
      "len of xtest  7133\n",
      "hdhdhd before  223\n",
      "len of xtrain  219\n",
      "year   1990\n",
      "[1979 1991 1992 1993 1994 1996 1998 1999 2000 2003 2006 2007 2008 2009\n",
      " 2010 2011 2012 2013 2014 2015 2016 2017 2018 2019 2020]\n",
      "cv score  0.770358807858808\n",
      "(7133,)\n",
      "no of positive  2437\n",
      "len of predy  983\n"
     ]
    },
    {
     "data": {
      "image/png": "[encoded data removed]",
      "text/plain": [
       "<Figure size 432x288 with 1 Axes>"
      ]
     },
     "metadata": {
      "needs_background": "light"
     },
     "output_type": "display_data"
    },
    {
     "name": "stdout",
     "output_type": "stream",
     "text": [
      "$$$  7133   983\n",
      "total positive  983\n",
      "tp tn fp fn 0   0   0   0\n",
      "year  1990 positive  0\n",
      "actual len  15057\n",
      "len of xtest  7484\n",
      "hdhdhd before  223\n",
      "len of xtrain  217\n",
      "year   1991\n",
      "[1979 1992 1993 1994 1996 1998 1999 2000 2003 2006 2007 2008 2009 2010\n",
      " 2011 2012 2013 2014 2015 2016 2017 2018 2019 2020]\n",
      "cv score  0.763443500943501\n",
      "(7484,)\n",
      "no of positive  2519\n",
      "len of predy  1037\n"
     ]
    },
    {
     "data": {
      "image/png": "[encoded data removed]",
      "text/plain": [
       "<Figure size 432x288 with 1 Axes>"
      ]
     },
     "metadata": {
      "needs_background": "light"
     },
     "output_type": "display_data"
    },
    {
     "name": "stdout",
     "output_type": "stream",
     "text": [
      "$$$  7484   1037\n",
      "total positive  1037\n",
      "tp tn fp fn 0   1   0   1\n",
      "year  1991 positive  1\n",
      "actual len  15614\n",
      "len of xtest  7753\n",
      "hdhdhd before  223\n",
      "len of xtrain  217\n",
      "year   1992\n",
      "[1979 1991 1993 1994 1996 1998 1999 2000 2003 2006 2007 2008 2009 2010\n",
      " 2011 2012 2013 2014 2015 2016 2017 2018 2019 2020]\n",
      "cv score  0.7679889554889555\n",
      "(7753,)\n",
      "no of positive  2258\n",
      "len of predy  755\n"
     ]
    },
    {
     "data": {
      "image/png": "[encoded data removed]",
      "text/plain": [
       "<Figure size 432x288 with 1 Axes>"
      ]
     },
     "metadata": {
      "needs_background": "light"
     },
     "output_type": "display_data"
    },
    {
     "name": "stdout",
     "output_type": "stream",
     "text": [
      "$$$  7753   755\n",
      "total positive  755\n",
      "tp tn fp fn 1   1   0   0\n",
      "year  1992 positive  1\n",
      "actual len  16286\n",
      "len of xtest  7982\n",
      "hdhdhd before  223\n",
      "len of xtrain  217\n",
      "year   1993\n",
      "[1979 1991 1992 1994 1996 1998 1999 2000 2003 2006 2007 2008 2009 2010\n",
      " 2011 2012 2013 2014 2015 2016 2017 2018 2019 2020]\n",
      "cv score  0.763443500943501\n",
      "(7982,)\n",
      "no of positive  3010\n",
      "len of predy  1512\n"
     ]
    },
    {
     "data": {
      "image/png": "[encoded data removed]",
      "text/plain": [
       "<Figure size 432x288 with 1 Axes>"
      ]
     },
     "metadata": {
      "needs_background": "light"
     },
     "output_type": "display_data"
    },
    {
     "name": "stdout",
     "output_type": "stream",
     "text": [
      "$$$  7982   1512\n",
      "total positive  1512\n",
      "tp tn fp fn 0   1   0   1\n",
      "year  1993 positive  1\n",
      "actual len  16911\n",
      "len of xtest  8301\n",
      "hdhdhd before  223\n",
      "len of xtrain  218\n",
      "year   1994\n",
      "[1979 1991 1992 1993 1996 1998 1999 2000 2003 2006 2007 2008 2009 2010\n",
      " 2011 2012 2013 2014 2015 2016 2017 2018 2019 2020]\n",
      "cv score  0.7707883782883783\n",
      "(8301,)\n",
      "no of positive  2981\n",
      "len of predy  1318\n"
     ]
    },
    {
     "data": {
      "image/png": "[encoded data removed]",
      "text/plain": [
       "<Figure size 432x288 with 1 Axes>"
      ]
     },
     "metadata": {
      "needs_background": "light"
     },
     "output_type": "display_data"
    },
    {
     "name": "stdout",
     "output_type": "stream",
     "text": [
      "$$$  8301   1318\n",
      "total positive  1318\n",
      "tp tn fp fn 0   1   0   0\n",
      "year  1994 positive  0\n",
      "actual len  17585\n",
      "len of xtest  8620\n",
      "hdhdhd before  223\n",
      "len of xtrain  219\n",
      "year   1995\n",
      "[1979 1991 1992 1993 1994 1996 1998 1999 2000 2003 2006 2007 2008 2009\n",
      " 2010 2011 2012 2013 2014 2015 2016 2017 2018 2019 2020]\n",
      "cv score  0.770358807858808\n",
      "(8620,)\n",
      "no of positive  3401\n",
      "len of predy  1792\n"
     ]
    },
    {
     "data": {
      "image/png": "[encoded data removed]",
      "text/plain": [
       "<Figure size 432x288 with 1 Axes>"
      ]
     },
     "metadata": {
      "needs_background": "light"
     },
     "output_type": "display_data"
    },
    {
     "name": "stdout",
     "output_type": "stream",
     "text": [
      "$$$  8620   1792\n",
      "total positive  1792\n",
      "tp tn fp fn 0   0   0   0\n",
      "year  1995 positive  0\n",
      "actual len  18277\n",
      "len of xtest  8999\n",
      "hdhdhd before  223\n",
      "len of xtrain  217\n",
      "year   1996\n",
      "[1979 1991 1992 1993 1994 1998 1999 2000 2003 2006 2007 2008 2009 2010\n",
      " 2011 2012 2013 2014 2015 2016 2017 2018 2019 2020]\n",
      "cv score  0.7564990564990566\n",
      "(8999,)\n",
      "no of positive  3245\n",
      "len of predy  1545\n"
     ]
    },
    {
     "data": {
      "image/png": "[encoded data removed]",
      "text/plain": [
       "<Figure size 432x288 with 1 Axes>"
      ]
     },
     "metadata": {
      "needs_background": "light"
     },
     "output_type": "display_data"
    },
    {
     "name": "stdout",
     "output_type": "stream",
     "text": [
      "$$$  8999   1545\n",
      "total positive  1545\n",
      "tp tn fp fn 0   1   0   1\n",
      "year  1996 positive  1\n",
      "actual len  18933\n",
      "len of xtest  9261\n",
      "hdhdhd before  223\n",
      "len of xtrain  219\n",
      "year   1997\n",
      "[1979 1991 1992 1993 1994 1996 1998 1999 2000 2003 2006 2007 2008 2009\n",
      " 2010 2011 2012 2013 2014 2015 2016 2017 2018 2019 2020]\n",
      "cv score  0.770358807858808\n",
      "(9261,)\n",
      "no of positive  3201\n",
      "len of predy  1478\n"
     ]
    },
    {
     "data": {
      "image/png": "[encoded data removed]",
      "text/plain": [
       "<Figure size 432x288 with 1 Axes>"
      ]
     },
     "metadata": {
      "needs_background": "light"
     },
     "output_type": "display_data"
    },
    {
     "name": "stdout",
     "output_type": "stream",
     "text": [
      "$$$  9261   1478\n",
      "total positive  1478\n",
      "tp tn fp fn 0   0   0   0\n",
      "year  1997 positive  0\n",
      "actual len  19596\n",
      "len of xtest  9510\n",
      "hdhdhd before  223\n",
      "len of xtrain  213\n",
      "year   1998\n",
      "[1979 1991 1992 1993 1994 1996 1999 2000 2003 2006 2007 2008 2009 2010\n",
      " 2011 2012 2013 2014 2015 2016 2017 2018 2019 2020]\n",
      "cv score  0.7798054723054724\n",
      "(9510,)\n",
      "no of positive  2677\n",
      "len of predy  1014\n"
     ]
    },
    {
     "data": {
      "image/png": "[encoded data removed]",
      "text/plain": [
       "<Figure size 432x288 with 1 Axes>"
      ]
     },
     "metadata": {
      "needs_background": "light"
     },
     "output_type": "display_data"
    },
    {
     "name": "stdout",
     "output_type": "stream",
     "text": [
      "$$$  9510   1014\n",
      "total positive  1014\n",
      "tp tn fp fn 2   3   0   1\n",
      "year  1998 positive  3\n",
      "actual len  20269\n",
      "len of xtest  9903\n",
      "hdhdhd before  223\n",
      "len of xtrain  215\n",
      "year   1999\n",
      "[1979 1991 1992 1993 1994 1996 1998 2000 2003 2006 2007 2008 2009 2010\n",
      " 2011 2012 2013 2014 2015 2016 2017 2018 2019 2020]\n",
      "cv score  0.7677358752358752\n",
      "(9903,)\n",
      "no of positive  3123\n",
      "len of predy  1414\n"
     ]
    },
    {
     "data": {
      "image/png": "[encoded data removed]",
      "text/plain": [
       "<Figure size 432x288 with 1 Axes>"
      ]
     },
     "metadata": {
      "needs_background": "light"
     },
     "output_type": "display_data"
    },
    {
     "name": "stdout",
     "output_type": "stream",
     "text": [
      "$$$  9903   1414\n",
      "total positive  1414\n",
      "tp tn fp fn 0   0   2   2\n",
      "year  1999 positive  2\n",
      "actual len  21025\n",
      "len of xtest  10331\n",
      "hdhdhd before  223\n",
      "len of xtrain  213\n",
      "year   2000\n",
      "[1979 1991 1992 1993 1994 1996 1998 1999 2003 2006 2007 2008 2009 2010\n",
      " 2011 2012 2013 2014 2015 2016 2017 2018 2019 2020]\n",
      "cv score  0.7761341436341437\n",
      "(10331,)\n",
      "no of positive  3646\n",
      "len of predy  1750\n"
     ]
    },
    {
     "data": {
      "image/png": "[encoded data removed]",
      "text/plain": [
       "<Figure size 432x288 with 1 Axes>"
      ]
     },
     "metadata": {
      "needs_background": "light"
     },
     "output_type": "display_data"
    },
    {
     "name": "stdout",
     "output_type": "stream",
     "text": [
      "$$$  10331   1750\n",
      "total positive  1750\n",
      "tp tn fp fn 0   2   1   3\n",
      "year  2000 positive  3\n",
      "actual len  21961\n",
      "len of xtest  10713\n",
      "hdhdhd before  223\n",
      "len of xtrain  219\n",
      "year   2001\n",
      "[1979 1991 1992 1993 1994 1996 1998 1999 2000 2003 2006 2007 2008 2009\n",
      " 2010 2011 2012 2013 2014 2015 2016 2017 2018 2019 2020]\n",
      "cv score  0.770358807858808\n",
      "(10713,)\n",
      "no of positive  3198\n",
      "len of predy  1228\n"
     ]
    },
    {
     "data": {
      "image/png": "[encoded data removed]",
      "text/plain": [
       "<Figure size 432x288 with 1 Axes>"
      ]
     },
     "metadata": {
      "needs_background": "light"
     },
     "output_type": "display_data"
    },
    {
     "name": "stdout",
     "output_type": "stream",
     "text": [
      "$$$  10713   1228\n",
      "total positive  1228\n",
      "tp tn fp fn 0   0   0   0\n",
      "year  2001 positive  0\n",
      "actual len  22884\n",
      "len of xtest  11183\n",
      "hdhdhd before  223\n",
      "len of xtrain  219\n",
      "year   2002\n",
      "[1979 1991 1992 1993 1994 1996 1998 1999 2000 2003 2006 2007 2008 2009\n",
      " 2010 2011 2012 2013 2014 2015 2016 2017 2018 2019 2020]\n",
      "cv score  0.770358807858808\n",
      "(11183,)\n",
      "no of positive  3810\n",
      "len of predy  1930\n"
     ]
    },
    {
     "data": {
      "image/png": "[encoded data removed]",
      "text/plain": [
       "<Figure size 432x288 with 1 Axes>"
      ]
     },
     "metadata": {
      "needs_background": "light"
     },
     "output_type": "display_data"
    },
    {
     "name": "stdout",
     "output_type": "stream",
     "text": [
      "$$$  11183   1930\n",
      "total positive  1930\n",
      "tp tn fp fn 0   0   0   0\n",
      "year  2002 positive  0\n",
      "actual len  23708\n",
      "len of xtest  11586\n",
      "hdhdhd before  223\n",
      "len of xtrain  217\n",
      "year   2003\n",
      "[1979 1991 1992 1993 1994 1996 1998 1999 2000 2006 2007 2008 2009 2010\n",
      " 2011 2012 2013 2014 2015 2016 2017 2018 2019 2020]\n",
      "cv score  0.7628590853590854\n",
      "(11586,)\n",
      "no of positive  3356\n",
      "len of predy  1269\n"
     ]
    },
    {
     "data": {
      "image/png": "[encoded data removed]",
      "text/plain": [
       "<Figure size 432x288 with 1 Axes>"
      ]
     },
     "metadata": {
      "needs_background": "light"
     },
     "output_type": "display_data"
    },
    {
     "name": "stdout",
     "output_type": "stream",
     "text": [
      "$$$  11586   1269\n",
      "total positive  1269\n",
      "tp tn fp fn 1   0   1   0\n",
      "year  2003 positive  1\n",
      "actual len  24651\n",
      "len of xtest  12088\n",
      "hdhdhd before  223\n",
      "len of xtrain  219\n",
      "year   2004\n",
      "[1979 1991 1992 1993 1994 1996 1998 1999 2000 2003 2006 2007 2008 2009\n",
      " 2010 2011 2012 2013 2014 2015 2016 2017 2018 2019 2020]\n",
      "cv score  0.770358807858808\n",
      "(12088,)\n",
      "no of positive  3931\n",
      "len of predy  1855\n"
     ]
    },
    {
     "data": {
      "image/png": "[encoded data removed]",
      "text/plain": [
       "<Figure size 432x288 with 1 Axes>"
      ]
     },
     "metadata": {
      "needs_background": "light"
     },
     "output_type": "display_data"
    },
    {
     "name": "stdout",
     "output_type": "stream",
     "text": [
      "$$$  12088   1855\n",
      "total positive  1855\n",
      "tp tn fp fn 0   0   0   0\n",
      "year  2004 positive  0\n",
      "actual len  25639\n",
      "len of xtest  12545\n",
      "hdhdhd before  223\n",
      "len of xtrain  219\n",
      "year   2005\n",
      "[1979 1991 1992 1993 1994 1996 1998 1999 2000 2003 2006 2007 2008 2009\n",
      " 2010 2011 2012 2013 2014 2015 2016 2017 2018 2019 2020]\n",
      "cv score  0.770358807858808\n",
      "(12545,)\n",
      "no of positive  4167\n",
      "len of predy  2008\n"
     ]
    },
    {
     "data": {
      "image/png": "[encoded data removed]",
      "text/plain": [
       "<Figure size 432x288 with 1 Axes>"
      ]
     },
     "metadata": {
      "needs_background": "light"
     },
     "output_type": "display_data"
    },
    {
     "name": "stdout",
     "output_type": "stream",
     "text": [
      "$$$  12545   2008\n",
      "total positive  2008\n",
      "tp tn fp fn 0   0   0   0\n",
      "year  2005 positive  0\n",
      "actual len  26791\n",
      "len of xtest  13090\n",
      "hdhdhd before  223\n",
      "len of xtrain  218\n",
      "year   2006\n",
      "[1979 1991 1992 1993 1994 1996 1998 1999 2000 2003 2007 2008 2009 2010\n",
      " 2011 2012 2013 2014 2015 2016 2017 2018 2019 2020]\n",
      "cv score  0.7582628482628484\n",
      "(13090,)\n",
      "no of positive  4730\n",
      "len of predy  2289\n"
     ]
    },
    {
     "data": {
      "image/png": "[encoded data removed]",
      "text/plain": [
       "<Figure size 432x288 with 1 Axes>"
      ]
     },
     "metadata": {
      "needs_background": "light"
     },
     "output_type": "display_data"
    },
    {
     "name": "stdout",
     "output_type": "stream",
     "text": [
      "$$$  13090   2289\n",
      "total positive  2289\n",
      "tp tn fp fn 1   0   0   0\n",
      "year  2006 positive  1\n",
      "actual len  27781\n",
      "len of xtest  13582\n",
      "hdhdhd before  223\n",
      "len of xtrain  213\n",
      "year   2007\n",
      "[1979 1991 1992 1993 1994 1996 1998 1999 2000 2003 2006 2008 2009 2010\n",
      " 2011 2012 2013 2014 2015 2016 2017 2018 2019 2020]\n",
      "cv score  0.7740345765345766\n",
      "(13582,)\n",
      "no of positive  4452\n",
      "len of predy  1959\n"
     ]
    },
    {
     "data": {
      "image/png": "[encoded data removed]",
      "text/plain": [
       "<Figure size 432x288 with 1 Axes>"
      ]
     },
     "metadata": {
      "needs_background": "light"
     },
     "output_type": "display_data"
    },
    {
     "name": "stdout",
     "output_type": "stream",
     "text": [
      "$$$  13582   1959\n",
      "total positive  1959\n",
      "tp tn fp fn 2   2   1   1\n",
      "year  2007 positive  3\n",
      "actual len  28867\n",
      "len of xtest  14108\n",
      "hdhdhd before  223\n",
      "len of xtrain  211\n",
      "year   2008\n",
      "[1979 1991 1992 1993 1994 1996 1998 1999 2000 2003 2006 2007 2009 2010\n",
      " 2011 2012 2013 2014 2015 2016 2017 2018 2019 2020]\n",
      "cv score  0.7652444777444778\n",
      "(14108,)\n",
      "no of positive  4212\n",
      "len of predy  1729\n"
     ]
    },
    {
     "data": {
      "image/png": "[encoded data removed]",
      "text/plain": [
       "<Figure size 432x288 with 1 Axes>"
      ]
     },
     "metadata": {
      "needs_background": "light"
     },
     "output_type": "display_data"
    },
    {
     "name": "stdout",
     "output_type": "stream",
     "text": [
      "$$$  14108   1729\n",
      "total positive  1729\n",
      "tp tn fp fn 1   4   0   3\n",
      "year  2008 positive  4\n",
      "actual len  30063\n",
      "len of xtest  14615\n",
      "hdhdhd before  223\n",
      "len of xtrain  207\n",
      "year   2009\n",
      "[1979 1991 1992 1993 1994 1996 1998 1999 2000 2003 2006 2007 2008 2010\n",
      " 2011 2012 2013 2014 2015 2016 2017 2018 2019 2020]\n",
      "cv score  0.7686383061383062\n",
      "(14615,)\n",
      "no of positive  5132\n",
      "len of predy  2509\n"
     ]
    },
    {
     "data": {
      "image/png": "[encoded data removed]",
      "text/plain": [
       "<Figure size 432x288 with 1 Axes>"
      ]
     },
     "metadata": {
      "needs_background": "light"
     },
     "output_type": "display_data"
    },
    {
     "name": "stdout",
     "output_type": "stream",
     "text": [
      "$$$  14615   2509\n",
      "total positive  2509\n",
      "tp tn fp fn 2   4   2   4\n",
      "year  2009 positive  6\n",
      "actual len  31270\n",
      "len of xtest  15236\n",
      "hdhdhd before  223\n",
      "len of xtrain  203\n",
      "year   2010\n",
      "[1979 1991 1992 1993 1994 1996 1998 1999 2000 2003 2006 2007 2008 2009\n",
      " 2011 2012 2013 2014 2015 2016 2017 2018 2019 2020]\n",
      "cv score  0.7799514374514375\n",
      "(15236,)\n",
      "no of positive  4654\n",
      "len of predy  1925\n"
     ]
    },
    {
     "data": {
      "image/png": "[encoded data removed]",
      "text/plain": [
       "<Figure size 432x288 with 1 Axes>"
      ]
     },
     "metadata": {
      "needs_background": "light"
     },
     "output_type": "display_data"
    },
    {
     "name": "stdout",
     "output_type": "stream",
     "text": [
      "$$$  15236   1925\n",
      "total positive  1925\n",
      "tp tn fp fn 2   7   1   6\n",
      "year  2010 positive  8\n",
      "actual len  32548\n",
      "len of xtest  15809\n",
      "hdhdhd before  223\n",
      "len of xtrain  195\n",
      "year   2011\n",
      "[1979 1991 1992 1993 1994 1996 1998 1999 2000 2003 2006 2007 2008 2009\n",
      " 2010 2012 2013 2014 2015 2016 2017 2018 2019 2020]\n",
      "cv score  0.7706604506604507\n",
      "(15809,)\n",
      "no of positive  5551\n",
      "len of predy  2875\n"
     ]
    },
    {
     "data": {
      "image/png": "[encoded data removed]",
      "text/plain": [
       "<Figure size 432x288 with 1 Axes>"
      ]
     },
     "metadata": {
      "needs_background": "light"
     },
     "output_type": "display_data"
    },
    {
     "name": "stdout",
     "output_type": "stream",
     "text": [
      "$$$  15809   2875\n",
      "total positive  2875\n",
      "tp tn fp fn 5   6   5   8\n",
      "year  2011 positive  13\n",
      "actual len  33915\n",
      "len of xtest  16449\n",
      "hdhdhd before  223\n",
      "len of xtrain  193\n",
      "year   2012\n",
      "[1979 1991 1992 1993 1994 1996 1998 1999 2000 2003 2006 2007 2008 2009\n",
      " 2010 2011 2013 2014 2015 2016 2017 2018 2019 2020]\n",
      "cv score  0.762330724830725\n",
      "(16449,)\n",
      "no of positive  6271\n",
      "len of predy  3331\n"
     ]
    },
    {
     "data": {
      "image/png": "[encoded data removed]",
      "text/plain": [
       "<Figure size 432x288 with 1 Axes>"
      ]
     },
     "metadata": {
      "needs_background": "light"
     },
     "output_type": "display_data"
    },
    {
     "name": "stdout",
     "output_type": "stream",
     "text": [
      "$$$  16449   3331\n",
      "total positive  3331\n",
      "tp tn fp fn 9   7   5   5\n",
      "year  2012 positive  14\n",
      "actual len  35502\n",
      "len of xtest  17100\n",
      "hdhdhd before  223\n",
      "len of xtrain  194\n",
      "year   2013\n",
      "[1979 1991 1992 1993 1994 1996 1998 1999 2000 2003 2006 2007 2008 2009\n",
      " 2010 2011 2012 2014 2015 2016 2017 2018 2019 2020]\n",
      "cv score  0.7672261072261073\n",
      "(17100,)\n",
      "no of positive  5487\n",
      "len of predy  1865\n"
     ]
    },
    {
     "data": {
      "image/png": "[encoded data removed]",
      "text/plain": [
       "<Figure size 432x288 with 1 Axes>"
      ]
     },
     "metadata": {
      "needs_background": "light"
     },
     "output_type": "display_data"
    },
    {
     "name": "stdout",
     "output_type": "stream",
     "text": [
      "$$$  17100   1865\n",
      "total positive  1865\n",
      "tp tn fp fn 6   6   6   7\n",
      "year  2013 positive  13\n",
      "actual len  37143\n",
      "len of xtest  17754\n",
      "hdhdhd before  223\n",
      "len of xtrain  202\n",
      "year   2014\n",
      "[1979 1991 1992 1993 1994 1996 1998 1999 2000 2003 2006 2007 2008 2009\n",
      " 2010 2011 2012 2013 2015 2016 2017 2018 2019 2020]\n",
      "cv score  0.7744572094572095\n",
      "(17754,)\n",
      "no of positive  6350\n",
      "len of predy  3403\n"
     ]
    },
    {
     "data": {
      "image/png": "[encoded data removed]",
      "text/plain": [
       "<Figure size 432x288 with 1 Axes>"
      ]
     },
     "metadata": {
      "needs_background": "light"
     },
     "output_type": "display_data"
    },
    {
     "name": "stdout",
     "output_type": "stream",
     "text": [
      "$$$  17754   3403\n",
      "total positive  3403\n",
      "tp tn fp fn 7   4   4   2\n",
      "year  2014 positive  9\n",
      "actual len  38964\n",
      "len of xtest  18492\n",
      "hdhdhd before  223\n",
      "len of xtrain  213\n",
      "year   2015\n",
      "[1979 1991 1992 1993 1994 1996 1998 1999 2000 2003 2006 2007 2008 2009\n",
      " 2010 2011 2012 2013 2014 2016 2017 2018 2019 2020]\n",
      "cv score  0.7592010767010767\n",
      "(18492,)\n",
      "no of positive  5545\n",
      "len of predy  2490\n"
     ]
    },
    {
     "data": {
      "image/png": "[encoded data removed]",
      "text/plain": [
       "<Figure size 432x288 with 1 Axes>"
      ]
     },
     "metadata": {
      "needs_background": "light"
     },
     "output_type": "display_data"
    },
    {
     "name": "stdout",
     "output_type": "stream",
     "text": [
      "$$$  18492   2490\n",
      "total positive  2490\n",
      "tp tn fp fn 1   2   1   2\n",
      "year  2015 positive  3\n",
      "actual len  40764\n",
      "len of xtest  19130\n",
      "hdhdhd before  223\n",
      "len of xtrain  211\n",
      "year   2016\n",
      "[1979 1991 1992 1993 1994 1996 1998 1999 2000 2003 2006 2007 2008 2009\n",
      " 2010 2011 2012 2013 2014 2015 2017 2018 2019 2020]\n",
      "cv score  0.770487012987013\n",
      "(19130,)\n",
      "no of positive  4435\n",
      "len of predy  1391\n"
     ]
    },
    {
     "data": {
      "image/png": "[encoded data removed]",
      "text/plain": [
       "<Figure size 432x288 with 1 Axes>"
      ]
     },
     "metadata": {
      "needs_background": "light"
     },
     "output_type": "display_data"
    },
    {
     "name": "stdout",
     "output_type": "stream",
     "text": [
      "$$$  19130   1391\n",
      "total positive  1391\n",
      "tp tn fp fn 0   4   0   4\n",
      "year  2016 positive  4\n",
      "actual len  42532\n",
      "len of xtest  19886\n",
      "hdhdhd before  223\n",
      "len of xtrain  207\n",
      "year   2017\n",
      "[1979 1991 1992 1993 1994 1996 1998 1999 2000 2003 2006 2007 2008 2009\n",
      " 2010 2011 2012 2013 2014 2015 2016 2018 2019 2020]\n",
      "cv score  0.7549314574314574\n",
      "(19886,)\n",
      "no of positive  6105\n",
      "len of predy  3082\n"
     ]
    },
    {
     "data": {
      "image/png": "[encoded data removed]",
      "text/plain": [
       "<Figure size 432x288 with 1 Axes>"
      ]
     },
     "metadata": {
      "needs_background": "light"
     },
     "output_type": "display_data"
    },
    {
     "name": "stdout",
     "output_type": "stream",
     "text": [
      "$$$  19886   3082\n",
      "total positive  3082\n",
      "tp tn fp fn 4   4   2   2\n",
      "year  2017 positive  6\n",
      "actual len  44336\n",
      "len of xtest  20517\n",
      "hdhdhd before  223\n",
      "len of xtrain  203\n",
      "year   2018\n",
      "[1979 1991 1992 1993 1994 1996 1998 1999 2000 2003 2006 2007 2008 2009\n",
      " 2010 2011 2012 2013 2014 2015 2016 2017 2019 2020]\n",
      "cv score  0.7876262626262626\n",
      "(20517,)\n",
      "no of positive  3783\n",
      "len of predy  777\n"
     ]
    },
    {
     "data": {
      "image/png": "[encoded data removed]",
      "text/plain": [
       "<Figure size 432x288 with 1 Axes>"
      ]
     },
     "metadata": {
      "needs_background": "light"
     },
     "output_type": "display_data"
    },
    {
     "name": "stdout",
     "output_type": "stream",
     "text": [
      "$$$  20517   777\n",
      "total positive  777\n",
      "tp tn fp fn 0   6   2   8\n",
      "year  2018 positive  8\n",
      "actual len  46374\n",
      "len of xtest  21201\n",
      "hdhdhd before  223\n",
      "len of xtrain  209\n",
      "year   2019\n",
      "[1979 1991 1992 1993 1994 1996 1998 1999 2000 2003 2006 2007 2008 2009\n",
      " 2010 2011 2012 2013 2014 2015 2016 2017 2018 2020]\n",
      "cv score  0.7940981240981241\n",
      "(21201,)\n",
      "no of positive  6166\n",
      "len of predy  2733\n"
     ]
    },
    {
     "data": {
      "image/png": "[encoded data removed]",
      "text/plain": [
       "<Figure size 432x288 with 1 Axes>"
      ]
     },
     "metadata": {
      "needs_background": "light"
     },
     "output_type": "display_data"
    },
    {
     "name": "stdout",
     "output_type": "stream",
     "text": [
      "$$$  21201   2733\n",
      "total positive  2733\n",
      "tp tn fp fn 2   5   0   3\n",
      "year  2019 positive  5\n",
      "actual len  48945\n",
      "len of xtest  22230\n",
      "hdhdhd before  223\n",
      "len of xtrain  215\n",
      "year   2020\n",
      "[1979 1991 1992 1993 1994 1996 1998 1999 2000 2003 2006 2007 2008 2009\n",
      " 2010 2011 2012 2013 2014 2015 2016 2017 2018 2019]\n",
      "cv score  0.7608871683871683\n",
      "(22230,)\n",
      "no of positive  5119\n",
      "len of predy  1454\n"
     ]
    },
    {
     "data": {
      "image/png": "[encoded data removed]",
      "text/plain": [
       "<Figure size 432x288 with 1 Axes>"
      ]
     },
     "metadata": {
      "needs_background": "light"
     },
     "output_type": "display_data"
    },
    {
     "name": "stdout",
     "output_type": "stream",
     "text": [
      "$$$  22230   1454\n",
      "total positive  1454\n",
      "tp tn fp fn 0   2   0   2\n",
      "year  2020 positive  2\n",
      "total pos  113  true pos  46  total false pos  1499.3488372093022\n"
     ]
    }
   ],
   "source": [
    "##logistic regression\n",
    "\n",
    "\n",
    "def recall(pred,th, yr):\n",
    "    data = pd.read_csv(\"data_84.csv\")\n",
    "    data = data[data['year'] == yr]\n",
    "    data = data[data['n'] > 100]\n",
    "\n",
    "    tot = 0\n",
    "    res = pd.merge(data,pred,on='cluster', how = 'inner')\n",
    "    tp,tn,fp, fn = 0,0,0,0\n",
    "    for ind in res.index:\n",
    "        if res['class'][ind] == 1 and res['pred_log'][ind] >= th:\n",
    "            tp += 1\n",
    "        elif res['class'][ind] == 0 and res['pred_log'][ind] < th:\n",
    "            tn += 1\n",
    "        elif res['class'][ind] == 0 and res['pred_log'][ind] >= th:\n",
    "            fp += 1\n",
    "        elif res['class'][ind] == 1 and res['pred_log'][ind] < th:\n",
    "            fn += 1\n",
    "    pred = pred[pred['pred_log'] > th]\n",
    "    print(\"total positive \", len(pred))\n",
    "    print(\"tp tn fp fn\",tp,\" \",tn,\" \",fp,\" \",fn)\n",
    "    total_pos = len(res[res['class'] == 1])\n",
    "    print(\"year \",yr,\"positive \",total_pos)\n",
    "    \n",
    "    \n",
    "    return total_pos,tp,len(pred[pred['pred_log'] > th]) - tp\n",
    "\n",
    "\n",
    "def train(x_train):\n",
    "    \n",
    "    \n",
    "  \n",
    "    y_train = x_train['class']\n",
    "    \n",
    "    '''x_train = x_train.drop(['class','cluster','year','n','pct_dusted_ccn','pct_dusted_rmcl',\n",
    "                           'pct_in_secbiggest_anc','rcr_low','secbiggest_anc',\n",
    "                           'pct_of_biggest_anc_newish','pct_of_biggest_anc_new','n_clusts_90_anc'\n",
    "                           ,'pct_in_biggest_anc','biggest_anc','pct_of_secbiggest_anc_newish'\n",
    "                           ], axis = 1)\n",
    "    \n",
    "    x_train[['pct_of_biggest_anc','pct_is_newish','wrcr']] = minmax_scale(x_train[[\n",
    "    'pct_of_biggest_anc','pct_is_newish','wrcr']])'''\n",
    "    \n",
    "    \n",
    "    \n",
    "    x_train[['wrcr','rcr_hi','rcr_mid','n_biggest_anc','n_secbiggest_anc','n_clusts_90_anc','pct_of_biggest_anc_new']] = minmax_scale(x_train[['wrcr','rcr_hi','rcr_mid','n_biggest_anc','n_secbiggest_anc','n_clusts_90_anc','pct_of_biggest_anc_new']])\n",
    "    x_train = x_train.drop(['cluster','year','n','pct_is_newish','pct_dusted_ccn','pct_dusted_rmcl','biggest_anc','pct_in_biggest_anc','pct_of_biggest_anc','pct_of_biggest_anc_new','pct_of_biggest_anc_newish','secbiggest_anc'], axis = 1)#$%\n",
    "    #x_train = x_train.drop(['pct_of_biggest_anc_new','pct_of_secbiggest_anc_new','animal','pct_is_newish'], axis = 1)\n",
    "    x_train = x_train.drop(['pct_in_secbiggest_anc','pct_of_secbiggest_anc','pct_of_secbiggest_anc_newish','rcr_low','cited_by_clin','class'], axis = 1)\n",
    "    \n",
    "    \n",
    "    y_train = np.array(y_train)\n",
    " \n",
    "    model = svm.SVC(C= 10,kernel='rbf')\n",
    "    model.probability = True\n",
    "    model.fit(x_train,y_train)\n",
    "    \n",
    "    '''crossvalidation2(x_train, y_train)\n",
    "    print(model.intercept_, model.coef_, model.score(x_train, y_train))'''\n",
    "    scores = cross_val_score(model, x_train, y_train, cv=20,scoring = \"f1\")\n",
    "    print(\"cv score \", scores.mean())\n",
    "    return model\n",
    "    \n",
    "tot,tp,total_fp = 0,0,0\n",
    "yr = 1978\n",
    "\n",
    "while yr <= 2020:\n",
    "    \n",
    "    x_train = pd.read_csv(\"data_84.csv\")\n",
    "    x_test = pd.read_csv(\"~/Documents/PhD/project_nobel/boty/boty_outcites/features_prediction_\"+str(yr)+\".csv\")\n",
    "    print(\"actual len \",len(x_test))\n",
    "    x_test = x_test.dropna(axis=0)\n",
    "    \n",
    "    x_test = x_test[x_test['n'] > 100]\n",
    "    \n",
    "   \n",
    "    #x_test = x_test[x_test['n_biggest_anc'] >= 500]\n",
    "    #x_test = x_test[x_test['rcr_hi'] >= 2.55]\n",
    "    #x_test = x_test[x_test['cited_by_clin'] >= 0.10]\n",
    "    #x_test = x_test[x_test['is_clinical'] >= 0.012] ##this one\n",
    "    #x_test = x_test[x_test['animal'] >= 0.02]\n",
    "\n",
    "    #x_test = x_test[x_test['molecular_cellular'] >= 0.030] ##this one, with C = 1\n",
    "    \n",
    "    #x_test = x_test[x_test['human'] >= 0.25]\n",
    "    #x_test = x_test[x_test['rage'] >= 5]\n",
    "    #x_test = x_test[x_test['pct_is_new'] >= 0.09]\n",
    "    print(\"len of xtest \",len(x_test))\n",
    "       \n",
    "    copy_test = x_test.copy()\n",
    "    #print(x_test.tail(10))\n",
    "    \n",
    "    #x_test = x_test[x_test['is_research_article'] > 0.75]\n",
    "    '''x_test = x_test.drop(['prediction','cluster','year','n',\n",
    "                               'pct_in_secbiggest_anc','rcr_low','secbiggest_anc',\n",
    "                               'pct_of_biggest_anc_newish','pct_of_biggest_anc_new','n_clusts_90_anc'\n",
    "                               ,'pct_in_biggest_anc','biggest_anc','pct_of_secbiggest_anc_newish'\n",
    "                               ], axis = 1)\n",
    "    \n",
    "    x_test[['pct_of_biggest_anc','pct_is_newish','wrcr']] = minmax_scale(x_test[[\n",
    "    'pct_of_biggest_anc','pct_is_newish','wrcr']])'''\n",
    "    \n",
    "    \n",
    "    x_test[['wrcr','rcr_hi','rcr_mid','n_biggest_anc','n_secbiggest_anc','n_clusts_90_anc','pct_of_biggest_anc_new']] = minmax_scale(x_test[['wrcr','rcr_hi','rcr_mid','n_biggest_anc','n_secbiggest_anc','n_clusts_90_anc','pct_of_biggest_anc_new']])\n",
    "    x_test = x_test.drop(['cluster','year','n','pct_is_newish','biggest_anc','pct_in_biggest_anc','pct_of_biggest_anc','pct_of_biggest_anc_new','pct_of_biggest_anc_newish','secbiggest_anc'], axis = 1)\n",
    "    x_test = x_test.drop(['prediction','pct_in_secbiggest_anc','pct_of_secbiggest_anc','pct_of_secbiggest_anc_newish','rcr_low','cited_by_clin'], axis=1)\n",
    "    \n",
    "    \n",
    "    \n",
    "    print(\"hdhdhd before \",len(x_train))\n",
    "    x_train = x_train[x_train['year'] != yr]\n",
    "    x_train = x_train[x_train['n'] > 100]\n",
    "\n",
    "    \n",
    "    #x_train = x_train[x_train['is_research_article'] > 0.75]\n",
    "    print('len of xtrain ', len(x_train))\n",
    "    print(\"year  \",yr)\n",
    "    print(x_train['year'].unique())\n",
    "\n",
    "    model = train(x_train)\n",
    "    \n",
    "    pred = model.predict(x_test)\n",
    "    print(pred.shape)\n",
    "    #print(np.sum(pred))\n",
    "    print(\"no of positive \",np.count_nonzero(pred == 1))\n",
    "    \n",
    "\n",
    "    \n",
    "    predy = model.predict_proba(x_test)\n",
    "    pred_test = []\n",
    "    for i in range(predy.shape[0]):\n",
    "        if predy[i][0] >= predy[i][1]:\n",
    "            #pred_test.append(0.00)\n",
    "            pred_test.append(predy[i][1])\n",
    "        else:\n",
    "            pred_test.append(predy[i][1])\n",
    "    \n",
    "    predy = pd.DataFrame(predy, columns = ['col_0','col_1'])\n",
    "    predy = predy[predy['col_1'] > 0.65]\n",
    "    #print(\"len of df \", len(df))\n",
    "    print(\"len of predy \", len(predy))\n",
    "    \n",
    "    \n",
    "    \n",
    "    copy_test['pred_log'] = pred_test\n",
    "    copy_test['pred_log'].hist()\n",
    "    plt.show()\n",
    "    \n",
    "    \n",
    "    print(\"$$$ \",len(copy_test),\" \",len(copy_test[copy_test['pred_log'] > 0.65]))\n",
    "    a, b,c = recall(copy_test,0.65, yr)\n",
    "    tot += a\n",
    "    tp += b\n",
    "    total_fp += c\n",
    "    yr += 1\n",
    "print(\"total pos \",tot,\" true pos \", tp,\" total false pos \",total_fp/43)"
   ]
  },
  {
   "cell_type": "code",
   "execution_count": null,
   "id": "df781239",
   "metadata": {},
   "outputs": [],
   "source": []
  }
 ],
 "metadata": {
  "kernelspec": {
   "display_name": "Python 3 (ipykernel)",
   "language": "python",
   "name": "python3"
  },
  "language_info": {
   "codemirror_mode": {
    "name": "ipython",
    "version": 3
   },
   "file_extension": ".py",
   "mimetype": "text/x-python",
   "name": "python",
   "nbconvert_exporter": "python",
   "pygments_lexer": "ipython3",
   "version": "3.9.6"
  }
 },
 "nbformat": 4,
 "nbformat_minor": 5
}
