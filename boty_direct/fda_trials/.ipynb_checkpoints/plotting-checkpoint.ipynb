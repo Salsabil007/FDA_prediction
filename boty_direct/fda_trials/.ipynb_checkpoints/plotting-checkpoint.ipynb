{
 "cells": [
  {
   "cell_type": "code",
   "execution_count": 4,
   "id": "16466f42",
   "metadata": {},
   "outputs": [],
   "source": [
    "import pandas as pd\n",
    "import numpy as np\n",
    "import matplotlib.pyplot as plt\n",
    "import seaborn as sns\n",
    "from scipy.optimize import curve_fit\n",
    "import itertools\n",
    "import piecewise_regression\n",
    "from sklearn.linear_model import LinearRegression\n",
    "import statsmodels.api as sm\n",
    "from sklearn.feature_selection import mutual_info_classif"
   ]
  },
  {
   "cell_type": "code",
   "execution_count": 7,
   "id": "e0f7b42a",
   "metadata": {},
   "outputs": [
    {
     "name": "stderr",
     "output_type": "stream",
     "text": [
      "No handles with labels found to put in legend.\n"
     ]
    },
    {
     "name": "stdout",
     "output_type": "stream",
     "text": [
      "       pct_is_new  pct_is_newish  n_biggest_anc  pct_of_biggest_anc  \\\n",
      "class    0.380536       0.395348       0.199221            -0.04838   \n",
      "\n",
      "       n_secbiggest_anc  pct_of_secbiggest_anc_new  pct_top_5_anc      wrcr  \\\n",
      "class          0.073214                   0.025542      -0.030968  0.183951   \n",
      "\n",
      "        rcr_mid    rcr_hi     human    animal  molecular_cellular  \\\n",
      "class  0.344989  0.411892  0.255092 -0.207137           -0.141222   \n",
      "\n",
      "       is_clinical  is_research_article  cited_by_clin       nih  class  \n",
      "class     0.333358            -0.436657       0.396025  0.010481    1.0  \n",
      "pct_is_new                   float64\n",
      "pct_is_newish                float64\n",
      "n_biggest_anc                float64\n",
      "pct_of_biggest_anc           float64\n",
      "n_secbiggest_anc             float64\n",
      "pct_of_secbiggest_anc_new    float64\n",
      "pct_top_5_anc                float64\n",
      "wrcr                         float64\n",
      "rcr_mid                      float64\n",
      "rcr_hi                       float64\n",
      "human                        float64\n",
      "animal                       float64\n",
      "molecular_cellular           float64\n",
      "is_clinical                  float64\n",
      "is_research_article          float64\n",
      "cited_by_clin                float64\n",
      "nih                          float64\n",
      "class                        float64\n",
      "dtype: object\n"
     ]
    },
    {
     "data": {
      "text/plain": [
       "<matplotlib.legend.Legend at 0x7f28b82bed30>"
      ]
     },
     "execution_count": 7,
     "metadata": {},
     "output_type": "execute_result"
    },
    {
     "data": {
      "image/png": "[encoded data removed]",
      "text/plain": [
       "<Figure size 720x432 with 1 Axes>"
      ]
     },
     "metadata": {},
     "output_type": "display_data"
    }
   ],
   "source": [
    "x_train = pd.read_csv(\"data_84.csv\")\n",
    "x_train = x_train.drop(['cluster','year','n','pct_dusted_ccn','pct_dusted_rmcl','pct_of_secbiggest_anc',\n",
    "                           'pct_in_secbiggest_anc','rcr_low','secbiggest_anc',\n",
    "                           'pct_of_biggest_anc_newish','pct_of_biggest_anc_new','rage','n_clusts_90_anc'\n",
    "                           ,'pct_in_biggest_anc','biggest_anc','pct_of_secbiggest_anc_newish'\n",
    "                           ], axis = 1)\n",
    "a = x_train.corr()\n",
    "print(a.tail(1))\n",
    "print(a.dtypes)\n",
    "\n",
    "x = ['pctnew','pctnish', 'pctbgan','pcttop5',\n",
    "    'rhi','human','animal','molcel','isclin','isresearch','citeclin','nih']\n",
    "y = [0.380536, 0.395348, -0.04838 ,-0.030968,0.411892,0.255092,-0.207137,-0.141222,\n",
    "    0.333358,-0.436657,0.396025,0.010481]\n",
    "d = pd.DataFrame()\n",
    "d['label'] = x\n",
    "d['val'] = y\n",
    "fig = plt.figure(figsize=(10, 6))\n",
    "sns.set_style('darkgrid')\n",
    "sns.set_palette('Set2')\n",
    "sns.barplot(data = d, x='label', y='val')\n",
    "plt.xlabel(\"feature\", fontsize = 15)\n",
    "plt.ylabel('correlation with label', fontsize = 15)\n",
    "plt.xticks(fontsize = 12)\n",
    "plt.yticks(fontsize = 12)\n",
    "plt.legend()"
   ]
  },
  {
   "cell_type": "code",
   "execution_count": null,
   "id": "c44a3315",
   "metadata": {},
   "outputs": [],
   "source": [
    "def train(x_train):\n",
    "    \n",
    "    print(\"length of training file \",len(x_train))\n",
    "  \n",
    "    y_train = x_train['class']\n",
    "    \n",
    "    x_train = x_train.drop(['class','cluster','year','n','pct_dusted_ccn','pct_dusted_rmcl','pct_of_secbiggest_anc',\n",
    "                           'pct_in_secbiggest_anc','rcr_low','secbiggest_anc',\n",
    "                           'pct_of_biggest_anc_newish','pct_of_biggest_anc_new','rage','n_clusts_90_anc'\n",
    "                           ,'pct_in_biggest_anc','biggest_anc','pct_of_secbiggest_anc_newish'\n",
    "                           ], axis = 1)\n",
    "    \n",
    "    print(x_train.dtypes)\n",
    "    \n",
    "    sns.set_style('darkgrid')\n",
    "    sns.set_palette('Set2')\n",
    "    fig = plt.figure(figsize=(6.5,5))\n",
    "    importance = mutual_info_classif(x_train,y_train)\n",
    "    feat_imp = pd.Series(importance,x_train.columns[0:len(x_train.columns)])\n",
    "    \n",
    "    feat_imp = feat_imp.sort_values(ascending=True)\n",
    "    #feat_imp = feat_imp.tail(10)\n",
    "    print(\"top 10\")\n",
    "    print(feat_imp)\n",
    "\n",
    "    \n",
    "    x = ['pctnew','pctnish', 'pctbgan','pcttop5',\n",
    "    'rhi','human','animal','molcel','isclin','isresearch','citeclin','nih']\n",
    "    y = [feat_imp['pct_is_new'] , feat_imp['pct_is_newish'],feat_imp['pct_of_biggest_anc'],feat_imp['pct_top_5_anc'],\n",
    "         feat_imp['rcr_hi'],feat_imp['human'],feat_imp['animal'] ,feat_imp['molecular_cellular'],feat_imp['is_clinical'],\n",
    "         \n",
    "    feat_imp['is_research_article'],feat_imp['cited_by_clin'],feat_imp['nih']]\n",
    "    d = pd.DataFrame()\n",
    "    d['label'] = x\n",
    "    d['val'] = y\n",
    "    fig = plt.figure(figsize=(9, 4))\n",
    "    sns.set_style('darkgrid')\n",
    "    sns.set_palette('Set2')\n",
    "    sns.barplot(data = d, x='label', y='val')\n",
    "    plt.xlabel(\"feature\", fontsize = 15)\n",
    "    plt.ylabel('feature importance', fontsize = 15)\n",
    "    plt.xticks(fontsize = 12, rotation = 45)\n",
    "    plt.yticks(fontsize = 12)\n",
    "    plt.show()\n",
    "    print(y)\n",
    "    \n",
    "    \n",
    "\n",
    "x_train = pd.read_csv(\"data_84.csv\")\n",
    "train(x_train)"
   ]
  }
 ],
 "metadata": {
  "kernelspec": {
   "display_name": "Python 3 (ipykernel)",
   "language": "python",
   "name": "python3"
  },
  "language_info": {
   "codemirror_mode": {
    "name": "ipython",
    "version": 3
   },
   "file_extension": ".py",
   "mimetype": "text/x-python",
   "name": "python",
   "nbconvert_exporter": "python",
   "pygments_lexer": "ipython3",
   "version": "3.9.6"
  }
 },
 "nbformat": 4,
 "nbformat_minor": 5
}
